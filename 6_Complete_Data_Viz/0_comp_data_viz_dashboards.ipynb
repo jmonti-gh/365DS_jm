{
 "cells": [
  {
   "cell_type": "markdown",
   "metadata": {},
   "source": [
    "# Course #6 The complete Data Visualization Course, Excel, Tableau, Python, and R."
   ]
  },
  {
   "cell_type": "markdown",
   "metadata": {},
   "source": [
    "## 11.- Dashboards in Excel"
   ]
  },
  {
   "cell_type": "markdown",
   "metadata": {},
   "source": [
    "### 11.1.- Introduction\n",
    "- A type of report used in business.\n",
    "- Provides information about a certain aspect of company's performance.\n",
    "- Track a variety of corporate functions, such as sales and supply chain.\n",
    "- Building a complete dashboard is one of the most important steps in your data visualization journey.\n",
    "- It is a complex and versatile tool.\n",
    "- Presents a lot of information on a single page.\n",
    "- Brief of a dataset from a company named DRINKO:\n",
    "    - Operates in the Fast Moving Consuming Goods (FMCG) industry.\n",
    "    - FMCG industry involves the production and sales of non-durable goods (soft drinks, toiletries, processed foods).\n",
    "    - High volumes and low margins, level of competition usually high.\n",
    "- For FMCG business it's extremely important to understand:\n",
    "    1. Which are their most profitable products?\n",
    "    2. What drives their customers to pick on product or another?\n",
    "    3. What is the optimal size of the item that clients prefer to buy?"
   ]
  },
  {
   "cell_type": "markdown",
   "metadata": {},
   "source": [
    "### 11.2 - Getting to Know the Dataset\n",
    "- .xls dataset is a typically data extraction from the ERP (Enterprise Resource Planning) System.\n",
    "- ERP: companies use it to Collect, Store, and Manage data recorded as a result of business activities.\n",
    "- ERP are Data Warehouse, something like a container that collects the entire information of a firm. ex. SAP and extract de data with SAP Business Objects application.\n",
    "- Descriptive fields: Material Number, Description, Period, etc. \n",
    "- Financial Information:\n",
    "    - Volume: the amount that was sold per each of these lines (# of units).\n",
    "    - Gross Sales and Discounts. Discount is a really important item because the size of discounts has a direct impact on the price that a client (supermarket chain for example) can offer to its customers.\n",
    "    - Gross Sales showa a firm's hypothetical revenues without any discounts. If we then consider the discounts that had been given to clients we well arrive at net sales.\n",
    "    - Net Sales = Gross Sales - Discounts.\n",
    "    - Then (at the right side of the table) we have, Cost of Goods Sold, Distribution and Warehousing (expenses).\n",
    "    - Cost of Goods Sold, shows how much was spent to produce the product.\n",
    "    - Distribution and Warehousing are two items that are often grouped together.\n",
    "    - Distribution is the transport expenditure that as to be sustained to deliver a product to a client.\n",
    "    - Warehousing, indicates the cost of keeping the item in the company's storage facilities until the item is delivered to clients."
   ]
  },
  {
   "cell_type": "markdown",
   "metadata": {},
   "source": [
    "### 11.3.- Creating the Design for our Dashboard\n",
    "- When building a dashboard is always a good idea to start with a sketch (even better it is a great idea to show the preliminary sketch to a line manager or to the colleagues).\n",
    "- When analyzing FMCG business it is important to understand volume sold as well as the characteristics of the products that have been sold.\n",
    "- At the same time understanding profitability and its development over time are just as crucial for the business.\n",
    "- In our case, we¿re looking at a B2B model, which means that the firm's clients are other business.\n",
    "- However, it will be highly beneficial for DRINKO to understand the needs of end customers t0o. For instance they will be interested to gain insight into the client's preferences in terms of product size or brand.\n",
    "- This is why in our dashboard we'll incorporate information that will allow us to track customers size and brand preferences.\n",
    "- At the same time will be able to observe the development of financials such as Sales, Profits ans Discounts.\n",
    "- To display all of the information in our report, we'll relay on different charts.\n",
    "- First, we'll have a bar-line chart, which help us track monthly net sales and gross profit development.\n",
    "- Next, we'll follow up with an inverted (horizontal?) columns chart, here will show the volume of purchases by product size. This allow us to understand how popular products of a particular size are for any given brand.\n",
    "- And the third chart in our dashboard will be again the inverted columns type, this time around we're tracking the volume of purchase by client type. DRINKO sells B2B, therefore they'll be interested to see whether their clients are supermarkets or discounters, for ex.\n",
    "- Lastly we'll include two key performance indicators, one for the average distribution cost and a second for the average discount that has been given to clients.\n",
    "- And now, perhaps the most important feature in our dashboard: it needs to be DYNAMIC: this means we need to insert a specific type of filter tha allows us to examine a particular category of interest. That´s why in Excel we'll use slicers which are the filters connected to pivot tables in Excel.\n",
    "- Slicers allow us to filter for a specific brand. But what´s important to remember here is that slicers do not alter our original data. All they do is filter it. So we see only a fraction of the data based on a specific condition.\n",
    "- For our own report, we would like to filter our data based on the time of reference. This means that we'll need a field showing the current period we're in. This is exptremely useful as the dashboard will be updated monthly.\n",
    "- So, we must ensure that this is a flexible tool that allow us to analyze different reference periods. The current period, shows the month we're in at the moment or the last month for which we have data.\n",
    "- The current period will not be fixed, instead we´ll be able to go back in time and check the data as far back as we have information.\n",
    "- We'll also include an additional feature which will allow us to transition between two separate reference periods: YTD (Year To Date), and LTM (Last Twelve Months).\n",
    "- YTD: shows the months that have already passed in a given year, up until the current period that has been selected. Ex. current period june 2020: our reference period will start with jan 2020 and end with jun 2020.\n",
    "- YTD useful in terms of marketing: 1. Check whether certain quotas are being met or 2. to check if you're above or under budget up, until a given moment in time.\n",
    "- LTM: for some business a lot can change in one year, and a calendar year could be older data. Last Year != Last Calendar year.\n",
    "- Other Filter: The Brand Slicer: We'll be able to track the sales for the 16 diff. brands of DRINKO. Quite fundamental, as it will allow us to understand if a brand is doing well."
   ]
  },
  {
   "cell_type": "markdown",
   "metadata": {},
   "source": [
    "### 11.4.- Creating a Drop-down List and Radio Button\n",
    "- Dashboards are dynamics: our dashboard will change according to the time-frame chosen by the user.\n",
    "- We need to create additional features in our data to reflect the change in the period we're examining.\n",
    "- Four new calculated fields: Date, Current Year, YTD, and LTM.\n",
    "- Date: Excel DATE() - requires Yer, Month and Day. We have Year an Month, for day, that is irrelevant we put 1 always. + Date format: mmm-yy.\n",
    "- Then copy date values in a new sheet (references) + Remove duplicates -> Unique values for each distinct period.\n",
    "- Then new sheet (dashboard) -> Drop Down List\n",
    "- To select or current period we'll use a Drop-down menu. It will allow us to choose month and year that will serve as the period for which we perform the analysis (Data -> Data Validation -> List -Source: references col)"
   ]
  },
  {
   "cell_type": "markdown",
   "metadata": {},
   "source": [
    "### 11.5.- Using the Developer Tab and Creating Radio Buttons in Excel\n",
    "- Radio buttons need the Developer tab -> Insert -> Form Controls -> Option Button.\n",
    "- Radio buttons, right click -> Format Control -> Cell link (references!$A$1), the same for both buttons."
   ]
  },
  {
   "cell_type": "markdown",
   "metadata": {},
   "source": [
    "### 11.6.- Including Additional Features to the Dataset\n",
    "- Previously we add new fields to our data. This will enable us to update the data source everytime the user selects a different reference period.\n",
    "- More important it ensures that our data is updated and showing the correct values.\n",
    "- Current Year: YEAR() of Current Period\n",
    "- YTD: \"YTD\" if the Date in the row is from the Year to Date, based on the Current Period, \"\" otherwise.\n",
    "- LTM: We need to ensure that the date value ocurred in the last 12 months with respect to the current reference date in our dashboard...\n",
    "- LTM: \"LTM\" if the row Date occurred in the last twelve months with respect to (wrt) the current date in our dashboard, \"\" otherwise.\n",
    "- LTM, we'd like to see if a row's Date occurred in the last twelve months. To obtain a working formula, we need to ensure that the date value occurred in the last twelve months wrt the current reference date in our dashboard. Again we'll use the if statement, this time we require two conditions to hold true. In a situation where we need to check whether two conditions are true simultaneously the AND function will help us.\n",
    "- The AND() function is used to check whether two conditions are true simultaneously. \n",
    "- LTM: first we must check if the Date en C (make it en C2) is grater than or equal to the current reference date in our dashboard minus 12. We are looking whether it occurred in tha last 12 months, right?, So given that a year has 12 months we need to see if the date ocurred somewhere in the span between the current moment and 12 months ago. However here it's better to go back 13 months instead of 12, because our current month might have no ended yet and hence there might not be sufficient data here. A convenient way to perform this check in Excel is with the EOMONTH() function: IF(AND(C2>=(EOMONTH(curr_ref_date, -13) + 1),C2<=EOMONTH(curr_ref_date, -1)),\"LTM\",\"\")\n",
    "- The second (of the AND) condition: we are checking for values that occurred in the last 12 months, so our value needs to be smaller than the curr_ref_date in the dashboard. Again, we require the end of month formula and check whether C2 is smaller than the end of month value in our dashboard -1.\n",
    "- LTM: if both previous conditions hold true, the date in a particular row can be classified as LTM, otherwise \"\""
   ]
  },
  {
   "cell_type": "markdown",
   "metadata": {},
   "source": [
    "### 11.7.- Pivot Tables\n",
    "- We are going to create a Pivot Table which will serve us as the backbone of the dashboard we want to build.\n",
    "- The pivot table will use the source data we worked with so far. Besides, it will allow us to extract certain parts of the data through a get_pivot_data (*?) function.\n",
    "- Pivot Tables: are Excel's Dynamic and Interactive Tables. This is a crucial element for a dashboard as in it you slice or filter the data. We'll use a pivot table to add a slicer as well.\n",
    "- P.T. PROS: Dynamic, Interactive, Quiet Efficient, for starters with a PT we could summarize thousands of rows of data in seconds and creating a PT is easy, all you need to do is drag an drop the field you are interested in. Also PT are great at handling large data files, as working with functions makes file sizes heavy after a while. \n",
    "- PT CONS: The drawback of working with pivot tables is that they are high level and we won´t able to see the actual equations required to calculate the entries. Moreover, pivot tables do not update automatically which could become quite inconvenient if you are changing your source data frequently.\n",
    "- PT Create: Select Data (ctrl+a) -> Insert -> Pivot Table ... (source data - new worksheet). Then 1st select the Rows: Month, Year, Size. Next Columns: Client Type. Te remaining entries will be the sum values of Volume, Gross Sales, Discounts, Net Sales, Cost of Goods Sold, Distribution and lastly Warehousing.\n",
    "- In the following points will use the information from the pivot table to obtain the values for our own dashboard charts."
   ]
  },
  {
   "cell_type": "markdown",
   "metadata": {},
   "source": [
    "### 11.8.- Tables: Creating LTM and YTD References in Excel.\n",
    "-"
   ]
  },
  {
   "cell_type": "markdown",
   "metadata": {},
   "source": [
    "### 11.9.- Tables: Creating Month, Year and Selected Dates Fields in Excel.\n",
    "-"
   ]
  },
  {
   "cell_type": "markdown",
   "metadata": {},
   "source": [
    "### 11.10.- Tables: Calculating Net Sales.\n",
    "-"
   ]
  },
  {
   "cell_type": "markdown",
   "metadata": {},
   "source": [
    "### 11.11.- Tables: Calculating GP% and Distribution Costs.\n",
    "- GP% (Gross Percentage?)"
   ]
  },
  {
   "cell_type": "markdown",
   "metadata": {},
   "source": [
    "### 11.12.- Tables: Volume by Size.\n",
    "-"
   ]
  },
  {
   "cell_type": "markdown",
   "metadata": {},
   "source": []
  },
  {
   "cell_type": "markdown",
   "metadata": {},
   "source": []
  },
  {
   "cell_type": "markdown",
   "metadata": {},
   "source": []
  }
 ],
 "metadata": {
  "kernelspec": {
   "display_name": "Python 3",
   "language": "python",
   "name": "python3"
  },
  "language_info": {
   "codemirror_mode": {
    "name": "ipython",
    "version": 3
   },
   "file_extension": ".py",
   "mimetype": "text/x-python",
   "name": "python",
   "nbconvert_exporter": "python",
   "pygments_lexer": "ipython3",
   "version": "3.11.0"
  }
 },
 "nbformat": 4,
 "nbformat_minor": 2
}

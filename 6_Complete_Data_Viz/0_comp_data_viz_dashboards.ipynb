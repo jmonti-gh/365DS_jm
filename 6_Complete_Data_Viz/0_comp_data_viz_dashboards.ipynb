{
 "cells": [
  {
   "cell_type": "markdown",
   "metadata": {},
   "source": [
    "# Course #6 The complete Data Visualization Course, Excel, Tableau, Python, and R."
   ]
  },
  {
   "cell_type": "markdown",
   "metadata": {},
   "source": [
    "## 11.- Dashboards in Excel"
   ]
  },
  {
   "cell_type": "markdown",
   "metadata": {},
   "source": [
    "### 11.1.- Introduction\n",
    "- A type of report used in business.\n",
    "- Provides information about a certain aspect of company's performance.\n",
    "- Track a variety of corporate functions, such as sales and supply chain.\n",
    "- Building a complete dashboard is one of the most important steps in your data visualization journey.\n",
    "- It is a complex and versatile tool.\n",
    "- Presents a lot of information on a single page.\n",
    "- Brief of a dataset from a company named DRINKO:\n",
    "    - Operates in the Fast Moving Consuming Goods (FMCG) industry.\n",
    "    - FMCG industry involves the production and sales of non-durable goods (soft drinks, toiletries, processed foods).\n",
    "    - High volumes and low margins, level of competition usually high.\n",
    "- For FMCG business it's extremely important to understand:\n",
    "    1. Which are their most profitable products?\n",
    "    2. What drives their customers to pick on product or another?\n",
    "    3. What is the optimal size of the item that clients prefer to buy?"
   ]
  },
  {
   "cell_type": "markdown",
   "metadata": {},
   "source": [
    "### 11.2 - Getting to Know the Dataset\n",
    "- .xls dataset is a typically data extraction from the ERP (Enterprise Resource Planning) System.\n",
    "- ERP: companies use it to Collect, Store, and Manage data recorded as a result of business activities.\n",
    "- ERP are Data Warehouse, something like a container that collects the entire information of a firm. ex. SAP and extract de data with SAP Business Objects application.\n",
    "- Descriptive fields: Material Number, Description, Period, etc. \n",
    "- Financial Information:\n",
    "    - Volume: the amount that was sold per each of these lines (# of units).\n",
    "    - Gross Sales and Discounts. Discount is a really important item because the size of discounts has a direct impact on the price that a client (supermarket chain for example) can offer to its customers.\n",
    "    - Gross Sales showa a firm's hypothetical revenues without any discounts. If we then consider the discounts that had been given to clients we well arrive at net sales.\n",
    "    - Net Sales = Gross Sales - Discounts.\n",
    "    - Then (at the right side of the table) we have, Cost of Goods Sold, Distribution and Warehousing (expenses).\n",
    "    - Cost of Goods Sold, shows how much was spent to produce the product.\n",
    "    - Distribution and Warehousing are two items that are often grouped together.\n",
    "    - Distribution is the transport expenditure that as to be sustained to deliver a product to a client.\n",
    "    - Warehousing, indicates the cost of keeping the item in the company's storage facilities until the item is delivered to clients."
   ]
  },
  {
   "cell_type": "markdown",
   "metadata": {},
   "source": [
    "### 11.3.- Creating the Design for our Dashboard\n",
    "- When building a dashboard is always a good idea to start with a sketch (even better it is a great idea to show the preliminary sketch to a line manager or to the colleagues).\n",
    "- When analyzing FMCG business it is important to understand volume sold as well as the characteristics of the products that have been sold.\n",
    "- At the same time understanding profitability and its development over time are just as crucial for the business.\n",
    "- In our case, we¿re looking at a B2B model, which means that the firm's clients are other business.\n",
    "- However, it will be highly beneficial for DRINKO to understand the needs of end customers t0o. For instance they will be interested to gain insight into the client's preferences in terms of product size or brand.\n",
    "- This is why in our dashboard we'll incorporate information that will allow us to track customers size and brand preferences.\n",
    "- At the same time will be able to observe the development of financials such as Sales, Profits ans Discounts.\n",
    "- To display all of the information in our report, we'll relay on different charts.\n",
    "- First, we'll have a bar-line chart, which help us track monthly net sales and gross profit development.\n",
    "- Next, we'll follow up with an inverted (horizontal?) columns chart, here will show the volume of purchases by product size. This allow us to understand how popular products of a particular size are for any given brand.\n",
    "- And the third chart in our dashboard will be again the inverted columns type, this time around we're tracking the volume of purchase by client type. DRINKO sells B2B, therefore they'll be interested to see whether their clients are supermarkets or discounters, for ex.\n",
    "- Lastly we'll include two key performance indicators, one for the average distribution cost and a second for the average discount that has been given to clients.\n",
    "- And now, perhaps the most important feature in our dashboard: it needs to be DYNAMIC: this means we need to insert a specific type of filter tha allows us to examine a particular category of interest. That´s why in Excel we'll use slicers which are the filters connected to pivot tables in Excel.\n",
    "- Slicers allow us to filter for a specific brand. But what´s important to remember here is that slicers do not alter our original data. All they do is filter it. So we see only a fraction of the data based on a specific condition.\n",
    "- For our own report, we would like to filter our data based on the time of reference. This means that we'll need a field showing the current period we're in. This is exptremely useful as the dashboard will be updated monthly.\n",
    "- So, we must ensure that this is a flexible tool that allow us to analyze different reference periods. The current period, shows the month we're in at the moment or the last month for which we have data.\n",
    "- The current period will not be fixed, instead we´ll be able to go back in time and check the data as far back as we have information.\n",
    "- We'll also include an additional feature which will allow us to transition between two separate reference periods: YTD (Year To Date), and LTM (Last Twelve Months).\n",
    "- YTD: shows the months that have already passed in a given year, up until the current period that has been selected. Ex. current period june 2020: our reference period will start with jan 2020 and end with jun 2020.\n",
    "- YTD useful in terms of marketing: 1. Check whether certain quotas are being met or 2. to check if you're above or under budget up, until a given moment in time.\n",
    "- LTM: for some business a lot can change in one year, and a calendar year could be older data. Last Year != Last Calendar year.\n",
    "- Other Filter: The Brand Slicer: We'll be able to track the sales for the 16 diff. brands of DRINKO. Quite fundamental, as it will allow us to understand if a brand is doing well."
   ]
  },
  {
   "cell_type": "markdown",
   "metadata": {},
   "source": [
    "### 11.4.- Creating a Drop-down List and Radio Button\n",
    "- Dashboards are dynamics: our dashboard will change according to the time-frame chosen by the user.\n",
    "- We need to create additional features in our data to reflect the change in the period we're examining.\n",
    "- Four new calculated fields: Date, Current Year, YTD, and LTM.\n",
    "- Date: Excel DATE() - requires Yer, Month and Day. We have Year an Month, for day, that is irrelevant we put 1 always. + Date format: mmm-yy.\n",
    "- Then copy date values in a new sheet (references) + Remove duplicates -> Unique values for each distinct period.\n",
    "- Then new sheet (dashboard) -> Drop Down List\n",
    "- To select or current period we'll use a Drop-down menu. It will allow us to choose month and year that will serve as the period for which we perform the analysis (Data -> Data Validation -> List -Source: references col)"
   ]
  },
  {
   "cell_type": "markdown",
   "metadata": {},
   "source": [
    "### 11.5.- Using the Developer Tab and Creating Radio Buttons in Excel\n",
    "- Radio buttons need the Developer tab -> Insert -> Form Controls -> Option Button.\n",
    "- Radio buttons, right click -> Format Control -> Cell link (references!$A$1), the same for both buttons."
   ]
  },
  {
   "cell_type": "markdown",
   "metadata": {},
   "source": [
    "### 11.6.- Including Additional Features to the Dataset\n",
    "- Previously we add new fields to our data. This will enable us to update the data source everytime the user selects a different reference period.\n",
    "- More important it ensures that our data is updated and showing the correct values.\n",
    "- Current Year: YEAR() of Current Period\n",
    "- YTD: \"YTD\" if the Date in the row is from the Year to Date, based on the Current Period, \"\" otherwise.\n",
    "- LTM: We need to ensure that the date value ocurred in the last 12 months with respect to the current reference date in our dashboard...\n",
    "- LTM: \"LTM\" if the row Date occurred in the last twelve months with respect to (wrt) the current date in our dashboard, \"\" otherwise.\n",
    "- LTM, we'd like to see if a row's Date occurred in the last twelve months. To obtain a working formula, we need to ensure that the date value occurred in the last twelve months wrt the current reference date in our dashboard. Again we'll use the if statement, this time we require two conditions to hold true. In a situation where we need to check whether two conditions are true simultaneously the AND function will help us.\n",
    "- The AND() function is used to check whether two conditions are true simultaneously. \n",
    "- LTM: first we must check if the Date en C (make it en C2) is grater than or equal to the current reference date in our dashboard minus 12. We are looking whether it occurred in tha last 12 months, right?, So given that a year has 12 months we need to see if the date ocurred somewhere in the span between the current moment and 12 months ago. However here it's better to go back 13 months instead of 12, because our current month might have no ended yet and hence there might not be sufficient data here. A convenient way to perform this check in Excel is with the EOMONTH() function: IF(AND(C2>=(EOMONTH(curr_ref_date, -13) + 1),C2<=EOMONTH(curr_ref_date, -1)),\"LTM\",\"\")\n",
    "- The second (of the AND) condition: we are checking for values that occurred in the last 12 months, so our value needs to be smaller than the curr_ref_date in the dashboard. Again, we require the end of month formula and check whether C2 is smaller than the end of month value in our dashboard -1.\n",
    "- LTM: if both previous conditions hold true, the date in a particular row can be classified as LTM, otherwise \"\""
   ]
  },
  {
   "cell_type": "markdown",
   "metadata": {},
   "source": [
    "### 11.7.- Pivot Tables\n",
    "- We are going to create a Pivot Table which will serve us as the backbone of the dashboard we want to build.\n",
    "- The pivot table will use the source data we worked with so far. Besides, it will allow us to extract certain parts of the data through a get_pivot_data (*?) function.\n",
    "- Pivot Tables: are Excel's Dynamic and Interactive Tables. This is a crucial element for a dashboard as in it you slice or filter the data. We'll use a pivot table to add a slicer as well.\n",
    "- P.T. PROS: Dynamic, Interactive, Quiet Efficient, for starters with a PT we could summarize thousands of rows of data in seconds and creating a PT is easy, all you need to do is drag an drop the field you are interested in. Also PT are great at handling large data files, as working with functions makes file sizes heavy after a while. \n",
    "- PT CONS: The drawback of working with pivot tables is that they are high level and we won´t able to see the actual equations required to calculate the entries. Moreover, pivot tables do not update automatically which could become quite inconvenient if you are changing your source data frequently.\n",
    "- PT Create: Select Data (ctrl+a) -> Insert -> Pivot Table ... (source data - new worksheet). Then 1st select the Rows: Month, Year, Size. Next Columns: Client Type. Te remaining entries will be the sum values of Volume, Gross Sales, Discounts, Net Sales, Cost of Goods Sold, Distribution and lastly Warehousing.\n",
    "- In the following points will use the information from the pivot table to obtain the values for our own dashboard charts."
   ]
  },
  {
   "cell_type": "markdown",
   "metadata": {},
   "source": [
    "### 11.8.- Tables: Creating LTM and YTD References in Excel.\n",
    "- In the next few points we'll focus on obtaining the information required for our dashboard.\n",
    "- We'll form a few tables which will serve as the basis for the charts in our report.\n",
    "- Also we'll calculate a few key values that will then transforms into KPIs (Key Performance Indicator: a measurable value that shows how successful a person or organization is at reaching a target)\n",
    "- First will add the tables sheet and create links to the Current and Reference Period (will be instrumental por calculating values later on)\n",
    "- The Current Period is a copy the cell en dashboard sheet. \n",
    "- The Reference Period is an IF statement in function fo the value selected: IF(value_cell=1, \"YTD\", \"LTM\")\n",
    "- These values will help us with our next task: create a table with dates (one of the trickiest parts of the entire building a dashboard exercise).\n",
    "- We intended for the user to be able to change between two time formats YTD and LTM. This means that our data will have to be flexible and change when we change the period reflecting the different values. To ensure this happens smoothly we must add date references here which will point excel to the correct values.\n",
    "- Then we'll build the following rows: LTM Months, YTD Months, Month, Year, Selected Dates.\n",
    "- Then let's write down (as columns) the numbers from 1 to 12 to represent te 12 months of a calendar year (not necessary from jan to dec just twelve calendar months which we'll need later on). They'll serve as a basis when we apply certain mechanics to obtain the actual dates we need to be displayed based on the period selected by the user.\n",
    "- The first calculation is related to the LTM, here we'll have the last 12 months depending (since) the current period. We'll use the EOMONTH() function.\n",
    "- For YTD Months values we'll use the IF() function. We'll check if the month in our Current Period is larger than the month in the table. In our case, that's the value in c8. if the condition holds we need the first month in the same year as our current period. To compute it the EOMONTH() function proves handy again, from the current period which is in cell B4 we subtract the number of months in B4. The result is Dec 19, which is one month further than we'd like. This is because our current month is not completely over yet. So what we can do is add the one missing month from cell c8 (this is when the expression is true). Otherwise we leave the cell empty and let's see exactly as we wanted\n",
    "- IF(MONTH(B4)>c8,EOMONTH(B4,MONTH(B4)+C8),\"\")\n",
    "> Key Performance Indicator: a measurable value that shows how successful a person or organization is at reaching a target"
   ]
  },
  {
   "cell_type": "markdown",
   "metadata": {},
   "source": [
    "### 11.9.- Tables: Creating Month, Year and Selected Dates Fields in Excel.\n",
    "- Month, Year, Selected Dates.\n",
    "- Month: will show the month values on our dashboard.\n",
    "- Month, the Reference Period is key  here. To obtain the month we check if our reference period pr cell B6 is LTM. If yes then we extract the month from cell C9 (LTM line) - we can achieve this by taking the text for the month which is specified with double m's - If not LTM (then is YTD) extract the month from YTD line.\n",
    "- Year: will show the year values on our dashboard.\n",
    "- Year: Same as Month but extract \"yyyy\" instead of \"mm\"\n",
    "- Selected Dates: will show the dates we're observing (looking at) in our dashboard depending on the reference period that's been selected by the user of the file. In other words will show either LTM or YTD \n",
    "- Selected Dates: For this calculation will rely on the IFERROR() function in Excel. IFERROR() can return a custom result it there is an error and a standard result, if there isn't one. What will check for here is whether the month and year cells are empty or not. This is important for the year to date (YTD) scenario where we'll definitely have soma empty spaces. So to obtain our current date, we'll rely on the EOMONTH() function. Then for the year we take the value in C12, for the month we need the cell C11 and we add (set) one for the day. If the result here is zero or in other words we have an empty cell, we leave the cell empty without raising an error,"
   ]
  },
  {
   "cell_type": "markdown",
   "metadata": {},
   "source": [
    "### 11.10.- Tables: Calculating Net Sales.\n",
    "- It´s time to prepare the values for our bar and line chart showing net sales and Gross Profit  (GP%) development.\n",
    "- This type of chart is very useful as it allows us to understand and track a company's growth.\n",
    "- Net Sales: is the primary figure reviewed by financial analyst when analyzing a company's performance. It's the number of sales once discounts have been taken into account. As such, it's the actual number that goes into a company's bank account and is what will represent using a bar chart.\n",
    "- Net Sales: Sales - Discounts.\n",
    "- Cost of Goods: the figure showing how much it costs to manufacture certain items. \n",
    "- COGS: how much it costs to manufacture an item.\n",
    "- If we subtract CoGS from Net Sales will obtain Gross Profit (GP%). GP: the margin that the company is able to make by selling its product. This figure represented as a percentage (GP%), will give us the line component of the combo chart we are building here.\n",
    "- Gross Profit = Net Sales - COGS [%]\n",
    "- So we need to obtain these values in our table: Sales, Discounts, Net Sales, COGS, GP%. Even thought we're considering Net Sales and GP only, will include a few extra rows in the table representing other important values such as Distribution and Warehousing costs.\n",
    "- First list the columns (rows?) in our table and the we'll fill in the blanks, to do so will enlist the help of our Pivot Table (PT): Volume, Gross Sales, Discounts, % Discounts, Net Sales, Cost of Goods Sold, Gross Profit, Gross Profit Margins (% Gross Profit), Distribution, % Distribution, and lastly Warehousing.\n",
    "- How can we obtain these values?: We'll be using data from our PT, function GETPIVOTDATA(): allows us to grab the value and references from a pivot table cell.\n",
    "- =GETPIVOTDATA(sum_of_volume...)     ; any value of Sum of Volume as we'll adjust the reference later. So let's copy the result and head back to our table sheet. Then we paste te value in the desired cell and press enter. --jm- did just only writing = and then go to pivot_financial and choose the cell, the GETPIVOTDATA function appear as default--\n",
    "- Now the mos important part: we'll need to replace some pivot references with the ones in our tables sheet. This is necessary for the charts to function properly and it will also help us fill in the remainder of the table much more easily.\n",
    "    - First, instead of \"Sum of Volume\" we'll have \"Sum of, and then add a link to our volume cell B16 (In the text \"Sum of \" there MUST be a space after of)\n",
    "    - Then instead of the hard figure we see for month (\"01\") we'd like to have our current month. So let's add the C11 reference here.\n",
    "    - The same goes for the year (\"2019\") and the C12 cell.\n",
    "    - We don't need to specify a type of client as right now we're interested in all clients.\n",
    "    - Lastly to ensure everything runs smoothly, will include the IFERROR() function to make sure we don't have any error if the cell is empty (this could happen for example if we're in the YTD scenario and we're not looking at a period that has 12 months).\n",
    "- Now the result has changed as we´re no longer looking at a specific client type. But all is well and after fixing th appropriate columns and rows, we can copy this formula to al volume cells and also Gross Sales and Discounts rows.\n",
    "- % Discounts = Discounts / Gross Sales  -(In the sell use with the IFERROR() + format the numbers to show percentage - it's conventional to have two numbers after the decimal point)\n",
    "- HERE, we could directly compute (calculate) on of the dashboard KPIs. It's the total discount, as such, it is the average of all the separate discount values, so we need the average of cells C19 through N19. This KPI will show the average discount given to clients in %.\n",
    "- Net Sales: copy the formula for Volume (as we've done our work well in terms of referencing the table, Excel automatically updates the correct values).\n",
    "- COGS: We could directly fill in the blanks for COGS (same done in Net Sales)\n",
    "> Key Performance Indicator: a measurable value that shows how successful a person or organization is at reaching a target - Total Discount % (KPI 1)."
   ]
  },
  {
   "cell_type": "markdown",
   "metadata": {},
   "source": [
    "### 11.11.- Tables: Calculating GP% and Distribution Costs.\n",
    "- DRINKO's GP = Net Sales - COGS (but COGS are in negative then is an addition).\n",
    "- GP% = Gross Profit / Net Sales - % Gross Profit (Gross Profit Margin).\n",
    "- Distribution and Warehousing could be filled with the same formula used in Volume\n",
    "- % of Gross Profit and % of Distribution are calculated from Net Sales as reference (/Net Sales and expressed as %)\n",
    "- Another KPI: Overall (Average) Distribution %\n",
    "> The formula we made in Volume (appropriately referenced relative cells) is the one I should use for all the parameters (features) there exist in Pivot Table (pivot_financial sheet) as Columns (which are sum aggregate values of the raw_data). which are: Volume, Gross Sales, Warehousing, Distribution, Discounts, Net Sales, and COGS (I use a diff. order in the table sheet)\n",
    "- What remains is the volume by size and by client type tables."
   ]
  },
  {
   "cell_type": "markdown",
   "metadata": {},
   "source": [
    "### 11.12.- Tables: Volume by Size.\n",
    "- Volume by Size Table: this table will serve as the basis for our second dashboard chart.\n",
    "- This is a visualization that would allow us to track the firm sales volume based on the size of the type of packaging that was used.\n",
    "- This way we'll be able to see which product size performs best overall or by brand.\n",
    "- First prepare the (empty) data table, beginning filling in the rows with separate values of diffs. volumes (the ones from de Size column from the row data -uniques...)\n",
    "- Then populate the table with GETPIVOTDATA() en changing appropriatement the reference cells.\n",
    "- Then, we add one additional column, \"Total\". The total by each volume size.\n",
    "- When we create the volume by size chart will rely on the total category instead of using monthly date. There are two main reasons why:\n",
    "    1. There are too many values to display the entire table. Too many for a single chart.\n",
    "    2. (Mor important) We simply do not need the monthly granularity here. It makes more sense to examine the performance of each bottle size overall and compare it with other sizes. Comparing the total sales for each bottle size and by brand is a key aspect in the business model."
   ]
  },
  {
   "cell_type": "markdown",
   "metadata": {},
   "source": [
    "### 11.12b Assigment\n",
    "#### Dashboard in Excel Homework Assignment – Create the Volume by Client Type Table\n",
    "Your task is to fill the Volume by Client Type table which will form the last chart in our dashboard. We’ll display the volume of purchases by the client type. We have four client types in total:\n",
    "1. Big-box\n",
    "2. Discounters\n",
    "3. Grocery\n",
    "4. Supermarkets\n",
    "\n",
    "You can access the data from the pivot data in the pivot financials excel sheet file. Using the GETPIVOTDATA() function you can obtain the necessary data and after fixing the appropriate rows and columns on our tables sheet you’ll be able to populate the entire table. The process is very similar to what we’ve seen in the lectures.\n",
    "\n",
    "#### Similar to 11.12 with this considerations:\n",
    "-"
   ]
  },
  {
   "cell_type": "markdown",
   "metadata": {},
   "source": [
    "### 11.13.- Charts - Bar and Line Combination chart.\n",
    "- We'll be able to use the information from the tables we created in our pervious lessons to build beautiful visualizations that can be combined in a good looking and informative Excel dashboard.\n",
    "- We created three tables:\n",
    "    1. Net Sales and GP Development ->(Volume, Gross Sales, Discounts + % Dc (KPI_1), Net Sales, COGS, Gross Profit + % GP , Distribution + % Dt (KPI_2), Warehousing ).\n",
    "    2. Volume by Size: volume sold by each size of drink (250ML, 500ML, ..., 2.25L). -> Totals by line\n",
    "    3. Volume by Client Type: Big-box, Discounters, Grocery, Supermarket. -> Total by lines.\n",
    "- With this tables we've obtained all the necessary data to finally start shaping our dashboard.\n",
    "- Net Sales and %GP in function of Date is our first dashboard graphic, a combination of Bar and Line chart. It will track monthly Net Sales, as well as Gross Profit Margins (%GP).\n",
    "- Both values give us an idea of how a firm's business is growing or is developing. The trend of revenues shows whether a business is expanding and at what pace. While gross profit margin gives us an idea regarding (about) profitability. We'll use diff. scales for the two parameters. So a combination chart with dual axis would be perfect for representing revenues and gross profit margins together. \n"
   ]
  },
  {
   "cell_type": "markdown",
   "metadata": {},
   "source": [
    "### 11.14.- Clustered Bar Chart I - Volume by Size\n",
    "- Second chart of our dashboard: a clustered bar chart showing the volume of purchases by the size of the drinks containers.\n",
    "- We'll create a clustered bar chart showing the volume of purchases by the size of the drinks containers.\n",
    "- In this chart we're interested in tracking the volume of purchases as a whole, no on a granular level (that's why we add the Total col to the Volume by Size table)\n",
    "- Format and Style the chart\n",
    "- Turn te x-ticks into numbers (select x-ticks -> format axis -> Number -> Category -> Nubner - Decimal palces: 0)\n",
    "- Custom colors for each bar (blues and oranges):\n",
    "    - light blue: #CFE7EB\n",
    "    - orange: #FBC570\n",
    "    - 365DS Blue; #70B8C2\n",
    "    - A dark blue: #005559\n",
    "    - Blue: #11889A\n",
    "    - Blue: #0D7984\n",
    "    - Blue: #66999B\n",
    "    - Bright Orange: #F99F10\n",
    "    - Peach: #FDD99F"
   ]
  },
  {
   "cell_type": "markdown",
   "metadata": {},
   "source": [
    "### 11.15.- Clustered Bar Chart II - Volume by Client Type\n",
    "- Last of the trio charts in our Dashboard. An additional Clustered bar.\n",
    "- For this chart (and relational table), we're tracking the size of purchases according to client type.\n",
    "- We have four categories in total:\n",
    "    1. Bix-box: which are physically large retailers commonly part of a chain of stores.\n",
    "    2. Discounters: which usually sell products at lower than their retail prices.\n",
    "    3. Grocery: grocery stores.\n",
    "    4. Supermarkets.\n",
    "- This data will help us track where our products have been places most successfully. Also looking at these numbers we're able to spot if a product is failing in one of these areas. Thus we could devise a strategy to target a type of client to increase sales there.\n",
    "- We're interested in the purchase volume (total) by the client type."
   ]
  },
  {
   "cell_type": "markdown",
   "metadata": {},
   "source": [
    "### 11.16.- Adding KPIs and Slicer (Brand Slicer) to the Dashboard.\n",
    "- Adding a couple of additional elements to enhance the functionality of our dashboard. This in turn will help us answer more strategic questions concerning our business.\n",
    "- KPIs (we'll add two). The Key Performance Indicators we'll track with our dashboard are related to the average Discount and the average Distribution cost.\n",
    "- Our dashboard are centered around sales and orders, so these two metrics certainly make sense. When performing your own analysis you're welcome to include any KPI you deem important for your company.\n",
    "- Include the KPIs with respective title at the button of the dashboard.\n",
    "- SLICERS: a dashboard is never truly complete without slicers. In our casa we'll add a slicer for the brand.\n",
    "- To add a Slicer in Excel, we must first go to our pivot_financial sheet, the from the insert menu and the in filters we¿re able to select a slicer and with this dropdown menu you are able to select a slicer for any column in your data just by selecting it. pivot_financial sheet -> Insert -> Slicer -> Brand.\n",
    "- Our dashboard requires only one slicer though: Brand. Of course you could choose more or different slicers as well. Nevertheless being able to slice and dice the data in terms of brand and to see how different brands are evolving is invaluable for a manager."
   ]
  },
  {
   "cell_type": "markdown",
   "metadata": {},
   "source": [
    "### 11.17.- Customizing the Appearance of the Dashboard\n",
    "- Styling shows attention to detail adn help us represent the information on our dashboard clearly and professionally.\n",
    "- Star with the overall style of the sheet. We'll introduce a grey background to our sheet wherever there is empty space: select all empty cells (click one empty then ctrl+a) -> Home -> fill (tachito de pintura) -> light gray.\n",
    "- Then select all the cell of our graphs and KPIs an select white color \n",
    "- Then the dropdown-menu (below Current Period), background: 365 blue, and font: white + bold.\n",
    "- Increase the KPI values so they stand out more. + Select cells of KPI titles -> Home -> Merge & Center. Font 14 + bold + Underline."
   ]
  },
  {
   "cell_type": "markdown",
   "metadata": {},
   "source": [
    "### 11.18.- Customizing the Appearance of the Slicer\n",
    "- We can place the slicer in the top of the dashboard, without scroll-down menu (something like 8 columns and two rows.)\n",
    "- Slicer menu -> Columns: 8\n",
    "- Slicer Styles -> expand the menu -> New Slicer Style... \n",
    "- (Graphs) Shape Format -> Align Left - Align Top (for the last two graphs)"
   ]
  },
  {
   "cell_type": "markdown",
   "metadata": {},
   "source": [
    "### 11.19.- Interpretation\n",
    "- "
   ]
  },
  {
   "cell_type": "markdown",
   "metadata": {},
   "source": []
  },
  {
   "cell_type": "markdown",
   "metadata": {},
   "source": []
  }
 ],
 "metadata": {
  "kernelspec": {
   "display_name": "Python 3",
   "language": "python",
   "name": "python3"
  },
  "language_info": {
   "codemirror_mode": {
    "name": "ipython",
    "version": 3
   },
   "file_extension": ".py",
   "mimetype": "text/x-python",
   "name": "python",
   "nbconvert_exporter": "python",
   "pygments_lexer": "ipython3",
   "version": "3.11.0"
  }
 },
 "nbformat": 4,
 "nbformat_minor": 2
}

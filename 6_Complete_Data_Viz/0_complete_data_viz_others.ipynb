{
 "cells": [
  {
   "cell_type": "markdown",
   "metadata": {},
   "source": [
    "# Course #6 The complete Data Visualization Course, Excel, Tableau, Python, R"
   ]
  },
  {
   "cell_type": "markdown",
   "metadata": {},
   "source": [
    "## 1.- Introduction\n",
    "- JM: There aren't Python code here. ONLY Excel and Tableau indications and R code for every char\n",
    "- List of charts : 3. Bar; 4. Pie; 5. Stacked Area; 6. Line; 7.\n"
   ]
  },
  {
   "cell_type": "markdown",
   "metadata": {},
   "source": [
    "## 2.- Setting Up the Environments"
   ]
  },
  {
   "cell_type": "markdown",
   "metadata": {},
   "source": [
    "## 3.- Bar chart"
   ]
  },
  {
   "cell_type": "markdown",
   "metadata": {},
   "source": [
    "### 3.Excel Bart chart"
   ]
  },
  {
   "cell_type": "code",
   "execution_count": null,
   "metadata": {},
   "outputs": [],
   "source": []
  },
  {
   "cell_type": "code",
   "execution_count": null,
   "metadata": {},
   "outputs": [],
   "source": []
  },
  {
   "cell_type": "markdown",
   "metadata": {},
   "source": [
    "## 4.- Pie chart"
   ]
  },
  {
   "cell_type": "code",
   "execution_count": null,
   "metadata": {},
   "outputs": [],
   "source": []
  },
  {
   "cell_type": "markdown",
   "metadata": {},
   "source": [
    "## 5.- Stacked Area chart"
   ]
  },
  {
   "cell_type": "code",
   "execution_count": null,
   "metadata": {},
   "outputs": [],
   "source": []
  },
  {
   "cell_type": "markdown",
   "metadata": {},
   "source": [
    "## 6.- Line chart"
   ]
  },
  {
   "cell_type": "markdown",
   "metadata": {},
   "source": [
    "### 6.Excel Line chart"
   ]
  },
  {
   "cell_type": "markdown",
   "metadata": {},
   "source": [
    "### 6.Tableau Line chart"
   ]
  },
  {
   "cell_type": "markdown",
   "metadata": {},
   "source": [
    "### 6.R Line chart\n",
    "``` R\n",
    "library(ggplot2)    # For visualization\n",
    "library(reshape2)   # For data manipulation\n",
    "library(plyr)       # \n",
    "```"
   ]
  },
  {
   "cell_type": "markdown",
   "metadata": {},
   "source": [
    "## 7.- Histogram"
   ]
  },
  {
   "cell_type": "markdown",
   "metadata": {},
   "source": [
    "### 7.- Introduction - General Theory\n",
    "- Histograms:\n",
    "    - Shows the distribution of a numeric value.\n",
    "    - The variable's range of values is split in intervals, represented by diff. bins. (Ex. age intervals in a survey)\n",
    "    - The height of the bin represent the number of observations within an interval.\n",
    "- One of the easiest and most useful tools to understand numerical data.\n",
    "- x-axis: intervals in ascending order. Whole y-axis is the frequency of occurrence (in y-axis has the number of observations - number of participants by each interval in the survey example)\n",
    "- y-axis could be represented as a density function.\n",
    "- x-axis [20, 25] - (25, 30] - (30, 35]. [: means Included. (means Excluded. Depending on the software, this precise interval division is the default option.\n",
    "- Bar charts represents diff. categories and bars are separated, Histograms represent bins (intervals) and bins overlaps (bin: contenedor o bandeja).\n",
    "> Choosing an appropriate number of bins is the most crucial aspect of creating a histogram."
   ]
  },
  {
   "cell_type": "markdown",
   "metadata": {},
   "source": [
    "### 7.- Introduction - Dataset\n",
    "- Real Estate Property Listings in CA - Venturing into the world of real state.\n",
    "- Features (vars, cols); ID, Area(ft.), Price in thousands of dollars (Price we'll concentrate on) and others."
   ]
  },
  {
   "cell_type": "markdown",
   "metadata": {},
   "source": [
    "### 7.Excel Histogram\n",
    "- 365DS blue #108A99"
   ]
  },
  {
   "cell_type": "markdown",
   "metadata": {},
   "source": [
    "### 7.Tableau Histogram\n",
    "-\n",
    "- COMPLICATED to change de bins (at least in the version used in the course). I will have to do in Tableau!! - Use 2 sheets"
   ]
  },
  {
   "cell_type": "markdown",
   "metadata": {},
   "source": [
    "### 7.R Histogram\n",
    "``` R\n",
    "library(ggplot2)\n",
    "\n",
    "df_real_state <- read.csv(\"7_histogram_data.csv\",\n",
    "                          header = TRUE,\n",
    "                          sep = ',')\n",
    "\n",
    "hist <- ggplot(df_real_state,\n",
    "               aes(x = Price)) +\n",
    "        geom_histogram(bins = 8,\n",
    "                       fill = \"#108A99\",\n",
    "                       color = 'white') +\n",
    "        theme_classic() + \n",
    "        ggtitle(\"CA Houses' Price Distribution\") +\n",
    "        xlab(\"Price in (000' $)\") +\n",
    "        ylab('Number of Properties') +\n",
    "        theme(plot.title = element_text(size = 16,\n",
    "                                        face = 'bold'))\n",
    "\n",
    "hist\n",
    "```"
   ]
  },
  {
   "cell_type": "markdown",
   "metadata": {},
   "source": []
  },
  {
   "cell_type": "markdown",
   "metadata": {},
   "source": [
    "## 8.- Scatterplot"
   ]
  },
  {
   "cell_type": "markdown",
   "metadata": {},
   "source": [
    "### 8.Excel\n",
    "- Very difficult to add a third variable color to the scatter plot. (you hay to modify the data) - In tableau is easy (Python - Seaborn also)\n",
    "- Allow transparency? (Tableau, Python (matplotlib and seaborn -> alpha=), R (alpha=) => YES allow transparency)"
   ]
  },
  {
   "cell_type": "markdown",
   "metadata": {},
   "source": []
  },
  {
   "cell_type": "markdown",
   "metadata": {},
   "source": []
  },
  {
   "cell_type": "markdown",
   "metadata": {},
   "source": []
  },
  {
   "cell_type": "markdown",
   "metadata": {},
   "source": []
  },
  {
   "cell_type": "markdown",
   "metadata": {},
   "source": []
  },
  {
   "cell_type": "code",
   "execution_count": null,
   "metadata": {},
   "outputs": [],
   "source": []
  }
 ],
 "metadata": {
  "kernelspec": {
   "display_name": "Python 3",
   "language": "python",
   "name": "python3"
  },
  "language_info": {
   "codemirror_mode": {
    "name": "ipython",
    "version": 3
   },
   "file_extension": ".py",
   "mimetype": "text/x-python",
   "name": "python",
   "nbconvert_exporter": "python",
   "pygments_lexer": "ipython3",
   "version": "3.11.0"
  }
 },
 "nbformat": 4,
 "nbformat_minor": 2
}

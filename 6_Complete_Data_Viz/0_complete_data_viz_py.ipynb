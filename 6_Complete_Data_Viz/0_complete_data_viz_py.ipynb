{
 "cells": [
  {
   "cell_type": "markdown",
   "metadata": {},
   "source": [
    "# Course #6 The complete Data Visualization Course, Excel, Tableau, Python, R"
   ]
  },
  {
   "cell_type": "markdown",
   "metadata": {},
   "source": [
    "## 1.- Introduction\n"
   ]
  },
  {
   "cell_type": "markdown",
   "metadata": {},
   "source": [
    "### 1.1.- What does the Course Cover"
   ]
  },
  {
   "cell_type": "markdown",
   "metadata": {},
   "source": [
    "### 1.2.- Why Learn Data Visualization\n",
    "1. People have biologically evolved to be visual creatures. Visualizing data truly helps ins business and DS in particular.\n",
    "    - Data Visualization is the field which enables people to \"see\" the number and the person who visualizes the data is the \"enabler\": help other see the numbers.\n",
    "2. Data an DS is a leading force in today's economy and:\n",
    "    - being able to GATHER good DATA is crucial,\n",
    "    - being able to PRE-PROCESS is another key ability which in turn allows us to do predictive modeling, ML and others. \n",
    "    - However, there is nothing more important than being able to interpret that Data.\n",
    "3. Data Visualization is the face of DS.\n",
    "4. Data Visualization is spectacular (not boring)\n",
    "- QUIZ: Why is Data Viz important?:\n",
    "    1. Humans process visual information better than raw numbers.\n",
    "    2. Data viz enables us to interpret the data\n",
    "    3. Data viz is the face of DS."
   ]
  },
  {
   "cell_type": "markdown",
   "metadata": {},
   "source": [
    "### 1.3.- How to Choose the Right Visualization - Popular Approaches"
   ]
  },
  {
   "cell_type": "markdown",
   "metadata": {},
   "source": [
    "### 1.4.- Color Theory and Colors"
   ]
  },
  {
   "cell_type": "markdown",
   "metadata": {},
   "source": [
    "## 2.- Setting Up the Environments\n",
    "\n",
    "- List of charts to create and dataset to use:    \n",
    "    3. Bar chart, 4. Pie chart, 5. Stacked Area chart, 6. Line chart, 7. Histogram, 8. Scatter Plot, 9. Regression Scatter Plot (Combo chart 1), 10. Bar chart + Line Chart (Combo chart 2)\n",
    "- Libraries to use Pandas, Matplotlib, Seaborn\n"
   ]
  },
  {
   "cell_type": "code",
   "execution_count": null,
   "metadata": {},
   "outputs": [],
   "source": [
    "# Import required libraries\n",
    "import pandas as pd                 # For data manipulation\n",
    "import matplotlib.pyplot as plt     \n",
    "import seaborn as sns               # Matplotli, Seaborn, and sns.set() for data visualization\n",
    "\n",
    "print(pd.__version__)\n",
    "print(sns.__version__)\n",
    "\n",
    "sns.set()                           # Putting a beauty skin over Matplotlib"
   ]
  },
  {
   "cell_type": "markdown",
   "metadata": {},
   "source": [
    "## 3.- Bar chart"
   ]
  },
  {
   "cell_type": "code",
   "execution_count": null,
   "metadata": {},
   "outputs": [],
   "source": [
    "# Read / import the data\n",
    "df_used_cars = pd.read_csv('bar_chart_data.csv')\n",
    "df_used_cars"
   ]
  },
  {
   "cell_type": "code",
   "execution_count": null,
   "metadata": {},
   "outputs": [],
   "source": [
    "# Simple matplotlib bar chart\n",
    "xy_size = 13\n",
    "plt.figure(figsize=(10, 5))\n",
    "plt.bar(x=df_used_cars['Brand'], height=df_used_cars['Cars Listings'],\n",
    "        color='midnightblue')           # color='rgbwymc'  doesn't work \n",
    "plt.title('Used Cars Listing by Brand', fontsize=16, fontweight='bold')\n",
    "plt.ylabel('Listing Cars', fontsize=xy_size)\n",
    "plt.xticks(rotation=45, fontsize=xy_size)\n",
    "plt.yticks(fontsize=xy_size)\n",
    "plt.savefig('used_cars_bar_graph') \n",
    "plt.show()\n"
   ]
  },
  {
   "cell_type": "markdown",
   "metadata": {},
   "source": [
    "## 4.- Pie chart"
   ]
  },
  {
   "cell_type": "code",
   "execution_count": null,
   "metadata": {},
   "outputs": [],
   "source": []
  },
  {
   "cell_type": "markdown",
   "metadata": {},
   "source": [
    "## 5.- Stacked Area chart"
   ]
  },
  {
   "cell_type": "code",
   "execution_count": null,
   "metadata": {},
   "outputs": [],
   "source": []
  },
  {
   "cell_type": "markdown",
   "metadata": {},
   "source": [
    "## 6.- Line chart"
   ]
  },
  {
   "cell_type": "markdown",
   "metadata": {},
   "source": []
  },
  {
   "cell_type": "markdown",
   "metadata": {},
   "source": []
  },
  {
   "cell_type": "code",
   "execution_count": null,
   "metadata": {},
   "outputs": [],
   "source": [
    "# import/read data\n",
    "df_spx_ftse_00_10 = pd.read_csv('6_line_chart_data.csv')\n",
    "df_spx_ftse_00_10.iloc[[0, 9, -9, -1]]                      # Equiv to df[[0, 9, -9, -1], :]\n",
    "# Date: only days with trading operations"
   ]
  },
  {
   "cell_type": "code",
   "execution_count": null,
   "metadata": {},
   "outputs": [],
   "source": [
    "df_spx_ftse_00_10.info()\n",
    "df_spx_ftse_00_10.Date.dtype    # Data must be datetime"
   ]
  },
  {
   "cell_type": "code",
   "execution_count": null,
   "metadata": {},
   "outputs": [],
   "source": [
    "df_spx_ftse_00_10['dt_date'] = pd.to_datetime(df_spx_ftse_00_10.Date)\n",
    "df_spx_ftse_00_10.iloc[[0, 9, -9, -1]] "
   ]
  },
  {
   "cell_type": "code",
   "execution_count": null,
   "metadata": {},
   "outputs": [],
   "source": [
    "# Line chart for the entire period (2000-2010)\n",
    "xy_size = 13\n",
    "ordered_cols = ['GSPC500', 'FTSE100' ]\n",
    "\n",
    "plt.figure(figsize=(20, 8))\n",
    "plt.plot(df_spx_ftse_00_10['dt_date'], df_spx_ftse_00_10[ordered_cols[0]])\n",
    "plt.plot(df_spx_ftse_00_10['dt_date'], df_spx_ftse_00_10[ordered_cols[1]])\n",
    "plt.title('S&P vs. FTSE Returns (2000 - 2010)', fontsize=14, weight='bold')\n",
    "plt.ylabel('Returns', fontsize=xy_size)\n",
    "plt.xlabel('Date', fontsize=xy_size)\n",
    "plt.legend(labels = ordered_cols, fontsize=xy_size)\n",
    "plt.show()"
   ]
  },
  {
   "cell_type": "code",
   "execution_count": null,
   "metadata": {},
   "outputs": [],
   "source": [
    "# To plot a line chart for a narrow period. First select the period in a new df\n",
    "df_spx_ftse_H2_08 = df_spx_ftse_00_10[(df_spx_ftse_00_10.dt_date >= '2008-07-01') &\n",
    "                                       (df_spx_ftse_00_10.dt_date <= '2008-12-31')]\n",
    "df_spx_ftse_H2_08"
   ]
  },
  {
   "cell_type": "code",
   "execution_count": null,
   "metadata": {},
   "outputs": [],
   "source": [
    "# Line chart for the second half of 2008 (H2 2008)\n",
    "xy_size = 13\n",
    "ordered_cols = ['GSPC500', 'FTSE100' ]\n",
    "\n",
    "plt.figure(figsize=(20, 8))\n",
    "plt.plot(df_spx_ftse_H2_08['dt_date'], df_spx_ftse_H2_08[ordered_cols[0]], color='midnightblue')\n",
    "plt.plot(df_spx_ftse_H2_08['dt_date'], df_spx_ftse_H2_08[ordered_cols[1]], color='crimson')\n",
    "plt.title('S&P vs. FTSE Returns (H2 2008)', fontsize=14, weight='bold', loc='left')\n",
    "plt.ylabel('Returns', fontsize=xy_size)\n",
    "plt.xlabel('Date', fontsize=xy_size)\n",
    "plt.legend(labels = ordered_cols, fontsize=xy_size)\n",
    "#plt.xticks(df_spx_ftse_H2_08['dt_date'], rotation=90)\n",
    "plt.show()"
   ]
  },
  {
   "cell_type": "markdown",
   "metadata": {},
   "source": [
    "#### 6.- Line chart INTERPRETATION\n",
    "- 2000 - 2010 prove to be a too long period to gain valuable insights. We can zoom in any period we are interested.\n",
    "- Typical time frames: 1 day, 1 week, 1 month, 1 Year (x 12), 5 Years (5 x 12)\n",
    "- We choose H2 2008 (Q3 and Q4 2008) specifically to observe the effect on our return values due to a specific phenomenon -> the housing market crisis, known as the great recession.\n",
    "- (Details of the housing 2008 crash)\n",
    "- We can see that up to Ag 2008, the returns are more or less stable. Aftir that point, we start seeing enormous swings in the data caused by the crash.\n",
    "- We observe the same pattern for both the US (S&P) and the UK (FSET) market."
   ]
  },
  {
   "cell_type": "markdown",
   "metadata": {},
   "source": [
    "#### 6.- Line chart - WHAT MAKES A GOOD line chart.\n",
    "- Are most frequently use when displaying time series data. Trough a LC it's easy to track the progression of a variable over time. \n",
    "- Moreover, a LC is also suitable for tracking several diff. vars on the same chart. (3, 5, or even 10 diff. vars over time)\n",
    "- A LC is nothing but the tip of the area in an area chart  (Area charts and particularly Stacked arec charts are useful when we are interested to see parts of the whole. )\n",
    "- Much more suitable when we have multiple categories.\n",
    "- AVOID spaghetti chart, when having too many variables. - KEEP the charts simples.\n",
    "- NOT necessary to start the y-axis at 0. (Edward Tufte: \"In general, in a time series, use a baseline that shows the data, not the zero point\")\n"
   ]
  },
  {
   "cell_type": "markdown",
   "metadata": {},
   "source": [
    "## 7.- Histogram"
   ]
  },
  {
   "cell_type": "markdown",
   "metadata": {},
   "source": [
    "### 7.- Introduction - General Theory\n",
    "- Histograms:\n",
    "    - Shows the distribution of a numeric value.\n",
    "    - The variable's range of values is split in intervals, represented by diff. bins. (Ex. age intervals in a survey)\n",
    "    - The height of the bin represent the number of observations within an interval.\n",
    "- One of the easiest and most useful tools to understand numerical data.\n",
    "- x-axis: intervals in ascending order. Whole y-axis is the frequency of occurrence (in y-axis has the number of observations - number of participants by each interval in the survey example)\n",
    "- y-axis could be represented as a density function.\n",
    "- x-axis [20, 25] - (25, 30] - (30, 35]. [: means Included. (means Excluded. Depending on the software, this precise interval division is the default option.\n",
    "- Bar charts represents diff. categories and bars are separated, Histograms represent bins (intervals) and bins overlaps (bin: contenedor o bandeja).\n",
    "> Choosing an appropriate number of bins is the most crucial aspect of creating a histogram."
   ]
  },
  {
   "cell_type": "markdown",
   "metadata": {},
   "source": [
    "### 7.- Introduction - Dataset\n",
    "- Real Estate Property Listings in CA - Venturing into the world of real state.\n",
    "- Features (vars, cols); ID, Area(ft.), Price in thousands of dollars (Price we'll concentrate on) and others."
   ]
  },
  {
   "cell_type": "code",
   "execution_count": null,
   "metadata": {},
   "outputs": [],
   "source": [
    "# import/read data\n",
    "df_real_estate = pd.read_csv('7_histogram_data.csv')\n",
    "df_real_estate.iloc[[0, 9, -9, -1]]         # Equiv to df[[0, 9, -9, -1], :"
   ]
  },
  {
   "cell_type": "markdown",
   "metadata": {},
   "source": [
    "``` Python\n",
    "matplotlib.pyplot.hist(x, bins=None, range=None, density=False, weights=None, cumulative=False, bottom=None, histtype='bar', align='mid', orientation='vertical', rwidth=None, log=False, color=None, label=None, stacked=False, *, data=None, **kwargs)\n",
    "```"
   ]
  },
  {
   "cell_type": "code",
   "execution_count": null,
   "metadata": {},
   "outputs": [],
   "source": [
    "xy_size = 13\n",
    "sns.set_style('white')\n",
    "plt.figure(figsize=(10, 6))\n",
    "plt.hist(df_real_estate.Price, bins=8, color='#108A99') # density=True)\n",
    "plt.title(\"CA Houses' Price Distribution\", fontsize=xy_size + 2,  fontweight='bold')\n",
    "plt.xlabel(\"Prices in thousands (000' $)\")\n",
    "plt.ylabel(\"Number of Houses\")\n",
    "sns.despine()\n",
    "plt.show()\n"
   ]
  },
  {
   "cell_type": "markdown",
   "metadata": {},
   "source": [
    "### 7.- Histogram - How to Choose the Right Number of bins\n",
    "1. Start with a very large number to observe the data pattern. (ex. 50)\n",
    "2. Reduce drastically the number. (ex. 2)\n",
    "3. Choose several bins, such that the pattern in the data is visible (ex. 8, 9)\n",
    "- There are scientific approaches (Scott's Rule, Sturgle's Rule, Doane's Rule), however, they are not often use in practice because real data has noise, is discrete, etc."
   ]
  },
  {
   "cell_type": "markdown",
   "metadata": {},
   "source": [
    "### 7.- Histogram - What Makes a Good Histogram\n",
    "- Most important feature of a histogram: The Number of Bins or The interval Size.\n",
    "- Sometimes the interval width can be deliberately altered. Without proper explanation, this might cause disinformation and be misleading to an audience.\n",
    "- It´s highly recommended that you stick with the equal width intervals until you gain enough experience.\n",
    "- AVOID Cutting the x or the y-axis. You should most definitely start your axis at 0 or make it extremely clear that you only want to include the real runners (by ex. of cutting x-axis) in your analysis.\n",
    "- When to use a histogram?: When we have numerical data (not necessarily). However, qualitative data could be quantified. Ex. likert scales are very popular primary in surveys."
   ]
  },
  {
   "cell_type": "markdown",
   "metadata": {},
   "source": [
    "## 8.- Scatter Plot"
   ]
  },
  {
   "cell_type": "markdown",
   "metadata": {},
   "source": [
    "### 8.- Scatter Plot - Introduction - General Theory\n",
    "- A scatter plot shows the relationship between two numerical features (or vars).\n",
    "- Te observations are displayed as points on the graph where the X coordinate is one of the vars (var1) while the y coordinate is the other var2.\n",
    "- Advantage of being able to display a large number of points\n",
    "- Each obs. is a point on the scatter. In previous charts (bar, pie, hist) obs. are grouped together so we never see each distinct data point instead the data es aggregated in some form.\n",
    "- In scatter plot the data is NOT aggregated.\n",
    "- Very USEFUL in DS:\n",
    "    - They can reveal relationship like correlation within the features.\n",
    "    - They show each data point (obs.) so we can easily see the concentration of observations and outliers in the data.\n",
    "    - They are a vital part of the exploratory data process for many statistical models (ex. regression analysis)\n",
    "> Use transparency to avoid overplotting - A third variable could be used (show) with a color parameter."
   ]
  },
  {
   "cell_type": "markdown",
   "metadata": {},
   "source": [
    "### 8.- Scatter Plot - Introduction - Dataset\n",
    "- Real estate property listings in CA (same as in Histogram)\n",
    "- In this case, we will create a scatter plot from the price and area features."
   ]
  },
  {
   "cell_type": "code",
   "execution_count": null,
   "metadata": {},
   "outputs": [],
   "source": [
    "#import/read the data\n",
    "df_r_state_2 = pd.read_csv('7_histogram_data.csv')\n",
    "df_r_state_2.iloc[[0, 9, -9, -1]]"
   ]
  },
  {
   "cell_type": "markdown",
   "metadata": {},
   "source": [
    "### 8.Matplotlib scatter()"
   ]
  },
  {
   "cell_type": "code",
   "execution_count": null,
   "metadata": {},
   "outputs": [],
   "source": [
    "plt.figure(figsize=(12, 8))\n",
    "\n",
    "scatter = plt.scatter(df_r_state_2['Area (ft.)'],       # x-axis (var 1)\n",
    "                      df_r_state_2['Price'],            # y-axis (var 2)\n",
    "                      alpha=0.6,                        # Transparency\n",
    "                      c=df_r_state_2['Building Type'],  # Third var colored\n",
    "                      cmap='viridis')                   # Palette\n",
    "\n",
    "plt.legend(*scatter.legend_elements(),      # * means unpacking\n",
    "           loc='upper left',\n",
    "           title='Building Type')\n",
    "# jm - test\n",
    "print(scatter.legend_elements, type(scatter.legend_elements))\n",
    "print(scatter.legend_elements(), type(scatter.legend_elements()))\n",
    "\n",
    "plt.title('Relationship between Area size and Price',\n",
    "          fontsize=16, fontweight='bold')\n",
    "plt.xlabel('Area size [sq. ft.]')\n",
    "plt.ylabel(\"Price (000' of $)\")\n",
    "plt.show()\n"
   ]
  },
  {
   "cell_type": "markdown",
   "metadata": {},
   "source": [
    "### 8.Seaborn Scatter"
   ]
  },
  {
   "cell_type": "code",
   "execution_count": null,
   "metadata": {},
   "outputs": [],
   "source": [
    "plt.figure(figsize=(12, 8))\n",
    "building_t_clrs = ['red', 'green', 'blue', 'cyan', 'magenta']\n",
    "\n",
    "sns.scatterplot(x=df_r_state_2['Area (ft.)'],       # x-axis (var 1)\n",
    "                y=df_r_state_2['Price'],            # y-axis (var 2)\n",
    "                alpha=0.6,                          # Transparency\n",
    "                hue=df_r_state_2['Building Type'],  # Third var colored\n",
    "                palette=building_t_clrs,            # Palette\n",
    "                s=100)                              # Size of each point\n",
    "\n",
    "plt.title('Relationship between Area size and Price',\n",
    "          fontsize=16, fontweight='bold')\n",
    "plt.xlabel('Area size [sq. ft.]', fontweight='bold')\n",
    "plt.ylabel(\"Price (000' of $)\", fontweight='bold')\n",
    "plt.show()\n"
   ]
  },
  {
   "cell_type": "markdown",
   "metadata": {},
   "source": [
    "### 8.- Scatter INTERPRETATION\n",
    "- For each point in the scatter we can observe the values for both features.\n",
    "- In the scatter-plot we were capable of plotting every obs. from our dataset (in the ex., based on its price and area). But mor importantly, we managed to show the relationship between our two numerical features.\n",
    "- We observe that there is a positive co-linearity between size and price prop. (the larger the size, the higher the price).\n",
    "- Don't forget thar there are other factors (ex. location). Therefore a single scatter-plot does not contain all the answers.\n",
    "- The entire data set could be seen at once.\n",
    "- OUTLIERS: we can easily spot when points are further away form the main groups as they don't share the same properties or don´t follows the general trend (we call such points outliers). A point that make us question the integrity of the data, is possible that either the price or the area of this property was entered incorrectly."
   ]
  },
  {
   "cell_type": "markdown",
   "metadata": {},
   "source": [
    "### 8.- Scatter - What Makes a Good Scatterplot\n",
    "- Can display a large number of data points, but, everything has its limits.\n",
    "- Over-plotting is a common mistake when it comes to scatterplots (ex. 95k data points)\n",
    "- Some softs even has a built-in cap to prevent the plotting of excessively large datasets. You can add a transparency level to increase readability.\n",
    "- In extreme case of over-plotting, transparency simpl isn't enough. Instead we could try to plot a subset of the entire data, process known as Sampling:\n",
    "  - The sample should be random to avoid bias.\n",
    "  - The sample should be representative of the pattern in the data\n",
    "  - (we need s subset, which is small enough to avoid over-plotting, but large enough to contain the data pattern -ex. 300 obs.)\n",
    "- Scatter plot can reveal relationships and patterns on the features (these an also be coincidental, but that's a topic for another time.)\n",
    "- Scatter plots cannot explain the origin of the features' relationship (other 365 course?\n",
    "- Other Chapters: we'll dive deeper into co-linearity and lear about trend-lines in scatter-plots)."
   ]
  },
  {
   "cell_type": "markdown",
   "metadata": {},
   "source": [
    "## 9.- Combo Plots Part 1 - Regression Plot"
   ]
  },
  {
   "cell_type": "markdown",
   "metadata": {},
   "source": [
    "### 9.- Regression Plot - General Theory\n",
    "- Combining a Scatterplot with a Line.\n",
    "- A regular scatter plot show the relation between two numerical features. A great way to explore your data and find correlations between vars. Sometimes 'casual relationship is founded'.\n",
    "- One of the most common ways to quantify such casual relationship is through Regression Analysis.\n",
    "- Visually a regression is represented by a scatter-plot with a line, called it the Regression Line.\n",
    "- Regression Analysis is a statistical approach used to estimate a relationship between a dependent variable or an OUTCOME and one or more independent vars or PREDICTORS.\n",
    "- Regression analysis can be used to solve a wide variety of problems. Depending on the task at hand, diff. variations of regression analysis can be used: Linear Regression (most popular), Polynomial Regression, Decision Trees Regression.\n",
    "- Linear regression aims to find a hyperplane or line which best fits the data based on predefined mathematical criteria (the line that is closest to all points simultaneously -> the regression line -Linear, Exponential, Logarithmic, Polynomial, etc. - )."
   ]
  },
  {
   "cell_type": "markdown",
   "metadata": {},
   "source": [
    "### 9.- Regression Plot - Dataset\n",
    "- We are entering Marketing territory. Company Advertising Budget vs. Sales\n",
    "- Cols or features: Ad Budget (thousands of USD) -> ads across diff. channels; and Sales (thousands of units) across 200 diff. markets.\n",
    "- With the aid of a scatter-plot and a regression line we'll determine if there is any relationship between those two entities as well as the type of that relationship."
   ]
  },
  {
   "cell_type": "code",
   "execution_count": null,
   "metadata": {},
   "outputs": [],
   "source": [
    "df_ad_buget_sales = pd.read_csv('9_scatter_plot_ii.csv')\n",
    "df_ad_buget_sales"
   ]
  },
  {
   "cell_type": "markdown",
   "metadata": {},
   "source": [
    "### 9.Seaborn regpplot() - short for regression plot\n",
    "- Both regplot() and lmplot() add by default a 95% confidence interval: a gray area around the regression line.\n",
    "- regplot() accepts a variety of formats for the X an Y variables, such as numpy arrays, pandas series, etc."
   ]
  },
  {
   "cell_type": "code",
   "execution_count": null,
   "metadata": {},
   "outputs": [],
   "source": [
    "#plt.figure(figsize=(12, 8))\n",
    "sns.set(rc={'figure.figsize': (10, 7)}) # sns.set funct. w/rc parameter and figure.figsize key and value\n",
    "\n",
    "sns.regplot(x='Budget',\n",
    "            y='Sales',\n",
    "            data=df_ad_buget_sales,\n",
    "            #color='green'  # color for all the chart\n",
    "            scatter_kws={'color': 'black'},\n",
    "            line_kws={'color': 'red'})\n",
    "\n",
    "plt.xlabel('Ad Expenditure in thousands of USD')\n",
    "plt.ylabel('Sales in thousands of unit')\n",
    "plt.title('Effect of Ads Expenditure on Sales and its Regression Line',\n",
    "          fontdict={'size': 14, 'weight': 'bold'})\n",
    "plt.show()"
   ]
  },
  {
   "cell_type": "markdown",
   "metadata": {},
   "source": [
    "### 9.Seaborn lmplot() - short for Lineal Model\n",
    "- lmplot() can only support X and Y in the form of strings also known as 'long form' or 'tidy' data.\n",
    "- lmplot() support a wider range of features (parameters?)\n",
    "- https://seaborn.pydata.org/tutorial/regression.html\n",
    "- https://seaborn.pydata.org/tutorial.html"
   ]
  },
  {
   "cell_type": "code",
   "execution_count": null,
   "metadata": {},
   "outputs": [],
   "source": [
    "\n",
    "sns.lmplot(x='Budget',\n",
    "            y='Sales',\n",
    "            data=df_ad_buget_sales,\n",
    "            scatter_kws={'color': 'black'},\n",
    "            line_kws={'color': 'red'},\n",
    "            height=8, aspect=1.4)\n",
    "\n",
    "plt.xlabel('Ad Expenditure in thousands of USD')\n",
    "plt.ylabel('Sales in thousands of unit')\n",
    "plt.title('Effect of Ads Expediture on Sales and its Regression Line',\n",
    "          fontdict={'size': 14, 'weight': 'bold'})\n",
    "plt.show()"
   ]
  },
  {
   "cell_type": "markdown",
   "metadata": {},
   "source": [
    "### 9.- Regression Plot INTERPRETATION\n",
    "- We can see a positive correlation between the two features (with and without the trendline).\n",
    "- Te connection between the advertising budget and sales is clear.\n",
    "- The great benefit of the Regression Lins is its SPECIFICITY.\n",
    "- A regression line and regression equation help us quantify the exact relationship between the two.\n",
    "- Choice of x and y axes is a key element! - y=f(x); Sales=f(Budget)\n",
    "- In Excel we added the regression equation and de R squared. In Tableau we can observe this info if we hover over the trend line.\n",
    "- In programming languages adding such a line isn't usually incorporated into the plots functionality. The reason is that they are usually obtained by fitting regression models and the equation is part of the results computed by these methods.\n",
    "- Different softwares would likely produce different regression lines.\n",
    "- The regression equation shows the slope and intercept of our line.\n",
    "- SLOPE indicates the direction and steepness of the line.\n",
    "- INTERCEPT: denotes the place where the regression line intersects the y axis of the coordinate system.\n",
    "- R^2: shows the variance of the data captured by the model. Hence it helps us determine haw well our model has performed.\n",
    "- R squared (as this one) is more or less taken out of context and is very hard to be interpreted. Ex. R^2 = 0.2 is low for most problems, however in social sciences 0.2 is wonderful news. In physics R squared < 90% would sound a failure of the model. For business problems values between 0.5 and 0.9 ade common and depend on the context."
   ]
  },
  {
   "cell_type": "markdown",
   "metadata": {},
   "source": [
    "### 9.- Regression scatter plot - What makes a Good r_s_p\n",
    "- There exist other possible relationships than just linear: Exponential, Logarithmic, Polynomial\n",
    "- If you use an incorrect type of relationship ypu misrepresent the data.\n",
    "- The more data you work with, the more equipped you´ll become to spotting different types of relationships in your data.\n",
    "- 1. We start with just the scatter plot, then 2. We add the trendline.\n",
    "- Some cases (like Age vs. Income) there i no connection between the two features. No point in placing a regression line as a regression relationship doesn't exist at all.\n",
    "- Often it isn't as simple to discover relationship among features in the data. it's also possible that no only two, but a multitude of variables interact with each other to form a relationship.\n",
    "- That´s why we usually rely on ML or statistical models to discover underlying patterns which the human eye cannot easily spot.\n",
    "- Base on their results we choose the most appropriate visualization."
   ]
  },
  {
   "cell_type": "markdown",
   "metadata": {},
   "source": [
    "## 10.- Combo Plots Part 2 - Bar and Line Chart"
   ]
  },
  {
   "cell_type": "markdown",
   "metadata": {},
   "source": [
    "### 10.- Bar and Line chart - Introduction - General Theory\n",
    "- The combination chart is a hybrid of two or more chart types. Ex. Area chart and a Bar chars, (most frequent) -> a Bar Chart + Line Chart.\n",
    "- One specific case is the PARETO Chart: Line graph + Bar chart, where the bars (diff. categories) are shown in descending order of frequency. And the Line chart displays the sum of relative frequencies of the different categories, this is known as cumulative frequency and it sums up to 100%. Hast Dual Y-Axes, the one on the left is the primary axis, it refers to the bars of the bar chart and displays the number of occurrences. The y-axis on the right, also known as the secondary acis, refers to the line chart, it is in percentages spanning from 0 to 100% and represents the cumulative frequency.\n",
    "- Game Plan: 1. Bar chart adn it's number of participants by year, 2. In the secondary y-axis we'll mark the number of Python users in percentage displaying them in the form of line chart. the charts will share the x-axis but would require separate y.axes.\n",
    "- It is of utmost importance for the two charts to have separate y-axes!. Parameters are different scales (bars are # of participants and line shows %).\n",
    "- This would enable us to find out not only the fragment of python users but also the sample size, a detail that could be crucial if we are using this analysis in a statistical context."
   ]
  },
  {
   "cell_type": "markdown",
   "metadata": {},
   "source": [
    "### 10.- Bar and Line chart - Introduction - Dataset\n",
    "- Annual User Survey by KDnuggets (https://www.kdnuggets.com/).\n",
    "- Cols: Year (2012 - 2019); Python Users (portion or ratio); Particopants (Number of)."
   ]
  },
  {
   "cell_type": "code",
   "execution_count": null,
   "metadata": {},
   "outputs": [],
   "source": [
    "# Import/read the data\n",
    "df_kgnuggets = pd.read_csv('A_bar_line_chart_data.csv')\n",
    "df_kgnuggets"
   ]
  },
  {
   "cell_type": "markdown",
   "metadata": {},
   "source": [
    "### 10.- Matplotlib Object Oriented Interface\n",
    "- https://matplotlib.org/matplotblog/posts/pyplot-vs-object-oriented-interface/\n",
    "- ALSO we'll need to import an additional matplotlib function from matplotlib.ticker module, named PercetFormatter. This funct. will allow us to change the scale of the secondary y-axis to %."
   ]
  },
  {
   "cell_type": "code",
   "execution_count": null,
   "metadata": {},
   "outputs": [],
   "source": [
    "from matplotlib.ticker import PercentFormatter  # To format Python Users numbers into precentages\n",
    "sns.set_style('white')\n",
    "\n",
    "fig, ax = plt.subplots(figsize=(10, 6))\n",
    "ax.bar(df_kgnuggets['Year'],\n",
    "       df_kgnuggets['Participants'],\n",
    "       color='grey')\n",
    "ax.set_ylabel('Number of Participants',\n",
    "              fontweight='bold')\n",
    "ax.tick_params(axis='y',\n",
    "               width=2,\n",
    "               labelsize='large')\n",
    "ax1 = ax.twinx()        # create another y-axis sharing a common x-axis\n",
    "ax1.set_ylim(0, 1)      # make the secondary y scale from 0 to 1\n",
    "ax1.yaxis.set_major_formatter(PercentFormatter(xmax=1.0))\n",
    "ax1.plot(df_kgnuggets['Year'],\n",
    "         df_kgnuggets['Python Users'],\n",
    "         color='#b60000',\n",
    "         marker = 'D')\n",
    "\n",
    "plt.show()\n"
   ]
  },
  {
   "cell_type": "markdown",
   "metadata": {},
   "source": [
    "### 10.- Bar + Line Chart - INTERPRETATION\n",
    "- In the line we can observe that from 2014 onward, there is a steady increase in the number of Python users.\n",
    "- In the bars we can see that the number of participants from 2014 to 2017 seem more or less constant with over 2_500 participants.\n",
    "- Also from the bars we can notice that there is a noticeable drop in the years 2018 and 2019. (we can see 2019 the second lowest overall)\n",
    "- The previous trend is not representative of the DS field, and it is also unrelated to the popularity of KD Nuggets site itself. It's more to do with the way the data was collected. In fact, in 2019, some participants answers were omitted from the results as they reported using a single DS tool, not a wrong answer, however, the authors of the poll decided those answers were not representative of the data science field."
   ]
  },
  {
   "cell_type": "markdown",
   "metadata": {},
   "source": [
    "### 10.- Bar and Line chart - What makes a Good Combination chart\n",
    "- You should think about the compatibility of the charts you're stacking on to one another. (In our ex., marrying the two charts was possible because the data came from the same source).\n",
    "- If you want to show data from diff. sources you have to make two diff. charts.\n",
    "- For a combination chart, proper labeling is essential.\n",
    "- As is the goal with any chart, it must be clearly understood by an audience upon seen the chart for the first time.\n",
    "- We ought to make sure all the relevant information is present an clearly labeled on the graphic.\n",
    "- Crucial, you should consider whether your data requires a combination chart at all.\n",
    "- (Sometimes Less is More) -> Try to make the messages as clear as possible. A graph is there to help your audience understand the data, not to confuse them with an overload of information, which lacks coherent structure.\n",
    "- Scatter + Line and Bar + Line are the most popular combo charts.\n",
    "- If you are to show several pieces of information, make sure you do so with the most straightforward visualizations."
   ]
  },
  {
   "cell_type": "markdown",
   "metadata": {},
   "source": []
  }
 ],
 "metadata": {
  "kernelspec": {
   "display_name": "Python 3",
   "language": "python",
   "name": "python3"
  },
  "language_info": {
   "codemirror_mode": {
    "name": "ipython",
    "version": 3
   },
   "file_extension": ".py",
   "mimetype": "text/x-python",
   "name": "python",
   "nbconvert_exporter": "python",
   "pygments_lexer": "ipython3",
   "version": "3.11.0"
  }
 },
 "nbformat": 4,
 "nbformat_minor": 2
}

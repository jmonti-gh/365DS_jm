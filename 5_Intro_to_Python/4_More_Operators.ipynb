{
 "cells": [
  {
   "cell_type": "markdown",
   "metadata": {},
   "source": [
    "# Course #5 Introduction to Python\n",
    "## 4.- More Operators\n",
    "  - Comparison Operators:\n",
    "    - ==: equal; !=; Not equal to (10 != 10) False to say that 10 is Not equal to 10 (different)\n",
    "    - <; >; <=; >=\n",
    "  - Logical Operators = Booleans Operators\n",
    "    - not - and - or (in this order of precedence)\n",
    "  - Identity Operators:\n",
    "    - is - is not"
   ]
  },
  {
   "cell_type": "code",
   "execution_count": 4,
   "metadata": {},
   "outputs": [
    {
     "name": "stdout",
     "output_type": "stream",
     "text": [
      "a equal to b?  True\n",
      "a is b?  False\n"
     ]
    },
    {
     "data": {
      "text/plain": [
       "(140709009417128, 2422530777328)"
      ]
     },
     "execution_count": 4,
     "metadata": {},
     "output_type": "execute_result"
    }
   ],
   "source": [
    "# Comparison an Identity numbers\n",
    "a = 5\n",
    "b = 5\n",
    "# b = 5.0\n",
    "print('a equal to b? ', a == b)\n",
    "print('a is b? ', a is b)\n",
    "id(a), id(b)"
   ]
  },
  {
   "cell_type": "code",
   "execution_count": 9,
   "metadata": {},
   "outputs": [
    {
     "name": "stdout",
     "output_type": "stream",
     "text": [
      "casa\n",
      "q equal to r?  True\n",
      "q is r?  False\n"
     ]
    },
    {
     "data": {
      "text/plain": [
       "(2422531158192, 2422531851120)"
      ]
     },
     "execution_count": 9,
     "metadata": {},
     "output_type": "execute_result"
    }
   ],
   "source": [
    "# Comparison an Identity strings\n",
    "q = 'casa'\n",
    "r = 'casaggrande'[:4]\n",
    "# r = 'casa'\n",
    "print(r)\n",
    "print('q equal to r? ', q == r)\n",
    "print('q is r? ', q is r)\n",
    "id(q), id(r)"
   ]
  }
 ],
 "metadata": {
  "kernelspec": {
   "display_name": "Python 3",
   "language": "python",
   "name": "python3"
  },
  "language_info": {
   "codemirror_mode": {
    "name": "ipython",
    "version": 3
   },
   "file_extension": ".py",
   "mimetype": "text/x-python",
   "name": "python",
   "nbconvert_exporter": "python",
   "pygments_lexer": "ipython3",
   "version": "3.11.4"
  }
 },
 "nbformat": 4,
 "nbformat_minor": 2
}

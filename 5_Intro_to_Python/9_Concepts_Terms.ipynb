{
 "cells": [
  {
   "cell_type": "markdown",
   "metadata": {},
   "source": [
    "# Course #5 Introduction to Python\n",
    "## 9.- A few important Python Concepts and Terms\n",
    " "
   ]
  },
  {
   "cell_type": "code",
   "execution_count": 1,
   "metadata": {},
   "outputs": [
    {
     "name": "stdout",
     "output_type": "stream",
     "text": [
      "(4, 3)\n",
      "(2, 3)\n"
     ]
    }
   ],
   "source": [
    "# Counter of something\n",
    "def count_evens_odds(numbers):\n",
    "    evens_cnt = odds_cnt = 0\n",
    "    for n in numbers:\n",
    "        if n % 2 == 0:\n",
    "            evens_cnt += 1\n",
    "        else:\n",
    "            odds_cnt += 1\n",
    "    return evens_cnt, odds_cnt\n",
    "\n",
    "list_1 = list(range(7))\n",
    "list_2 = [4, 23, 37, 45, 56]\n",
    "\n",
    "for ist in (list_1, list_2):\n",
    "    print(count_evens_odds(ist))"
   ]
  },
  {
   "cell_type": "code",
   "execution_count": null,
   "metadata": {},
   "outputs": [],
   "source": []
  },
  {
   "cell_type": "markdown",
   "metadata": {},
   "source": [
    "## Iterating over Dictionaries"
   ]
  },
  {
   "cell_type": "markdown",
   "metadata": {},
   "source": [
    "In this exercise you will use the same dictionaries as the ones we used in the lesson - \"prices\" and \"quantity\". This time, don't just calculate all the money Jan spent. Calculate how much she spent on products with a price of 5 dollars or more. Also And how much did Jan spent on products that cost less than 5 dollars?"
   ]
  },
  {
   "cell_type": "code",
   "execution_count": 4,
   "metadata": {},
   "outputs": [
    {
     "name": "stdout",
     "output_type": "stream",
     "text": [
      "Total Money Spent: 74\n",
      "Money spent in product with a price of 5 dollars or more: 50\n",
      "Money spent in product that cost less than 5 dollars: 24\n",
      "Total Money Spent equal to the sum of parcial totals: True\n"
     ]
    }
   ],
   "source": [
    "prices = {\n",
    "    \"box_of_spaghetti\" : 4,\n",
    "    \"lasagna\"  : 5,\n",
    "    \"hamburger\" : 2\n",
    "   }\n",
    "\n",
    "quantity = {\n",
    "    \"box_of_spaghetti\" : 6,\n",
    "    \"lasagna\"  : 10,\n",
    "    \"hamburger\" : 0\n",
    "    }\n",
    "\n",
    "total_spent = gt_5_spent = lt_5_spent = 0\n",
    "\n",
    "for k in prices:\n",
    "    total_spent += prices[k] * quantity[k]\n",
    "    if prices[k] >= 5:\n",
    "        gt_5_spent += prices[k] * quantity[k]\n",
    "    else:\n",
    "        lt_5_spent += prices[k] * quantity[k]\n",
    "\n",
    "print(f'Total Money Spent: {total_spent}')\n",
    "print(f'Money spent in product with a price of 5 dollars or more: {gt_5_spent}')\n",
    "print(f'Money spent in product that cost less than 5 dollars: {lt_5_spent}')\n",
    "\n",
    "# Verification Check (must result True)\n",
    "print(f'Total Money Spent equal to the sum of partial totals: {total_spent == gt_5_spent + lt_5_spent}')\n"
   ]
  },
  {
   "cell_type": "markdown",
   "metadata": {},
   "source": [
    "And how much did Jan spent on products that cost less than 5 dollars?"
   ]
  },
  {
   "cell_type": "code",
   "execution_count": null,
   "metadata": {},
   "outputs": [],
   "source": [
    "prices = {\n",
    "    \"box_of_spaghetti\" : 4,\n",
    "    \"lasagna\"  : 5,\n",
    "    \"hamburger\" : 2\n",
    "   }\n",
    "quantity = {\n",
    "    \"box_of_spaghetti\" : 6,\n",
    "    \"lasagna\"  : 10,\n",
    "    \"hamburger\" : 0\n",
    "    }\n",
    "\n",
    "money_spent = 0"
   ]
  }
 ],
 "metadata": {
  "kernelspec": {
   "display_name": "Python 3",
   "language": "python",
   "name": "python3"
  },
  "language_info": {
   "codemirror_mode": {
    "name": "ipython",
    "version": 3
   },
   "file_extension": ".py",
   "mimetype": "text/x-python",
   "name": "python",
   "nbconvert_exporter": "python",
   "pygments_lexer": "ipython3",
   "version": "3.11.4"
  }
 },
 "nbformat": 4,
 "nbformat_minor": 2
}

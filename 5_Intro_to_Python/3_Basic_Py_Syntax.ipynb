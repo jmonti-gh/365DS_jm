{
 "cells": [
  {
   "cell_type": "markdown",
   "metadata": {},
   "source": [
    "# Course #5 Introduction to Python\n",
    "## 3.- Basic Py Syntax\n",
    "  - asf"
   ]
  },
  {
   "cell_type": "code",
   "execution_count": 1,
   "metadata": {},
   "outputs": [
    {
     "data": {
      "text/plain": [
       "(5.0, 5.333333333333333)"
      ]
     },
     "execution_count": 1,
     "metadata": {},
     "output_type": "execute_result"
    }
   ],
   "source": [
    "# Div. in Python 3\n",
    "a = 15 / 3\n",
    "b = 16 / 3\n",
    "a, b"
   ]
  },
  {
   "cell_type": "code",
   "execution_count": 19,
   "metadata": {},
   "outputs": [
    {
     "name": "stdout",
     "output_type": "stream",
     "text": [
      "16: 0  15: 1  14: 2  13: 3  12: 4  11: 5  10: 6  9: 7  "
     ]
    }
   ],
   "source": [
    "# mod or reminder\n",
    "n = 16\n",
    "for c in range(n, int(n/2), -1):\n",
    "    print(f'{c}: {n % c}', end='  ')"
   ]
  },
  {
   "cell_type": "code",
   "execution_count": 27,
   "metadata": {},
   "outputs": [
    {
     "data": {
      "text/plain": [
       "140716617356200"
      ]
     },
     "execution_count": 27,
     "metadata": {},
     "output_type": "execute_result"
    }
   ],
   "source": [
    "# == (camparing equals,, in math an equation )\n",
    "a == 5\n",
    "b = 5\n",
    "a == b\n",
    "a is b\n",
    "id(a)\n",
    "id(b)"
   ]
  },
  {
   "cell_type": "code",
   "execution_count": 9,
   "metadata": {},
   "outputs": [
    {
     "name": "stdout",
     "output_type": "stream",
     "text": [
      "FRIDAY\t F\n",
      "\t R\n",
      "\t I\n",
      "\t D\n",
      "\t A\n",
      "\t Y\n"
     ]
    }
   ],
   "source": [
    "# Indexing - ix is the collection (or sequence) index\n",
    "var = 'FRIDAY'\n",
    "print(var, end='')\n",
    "for ix in range(len(var)):\n",
    "    print('\\t', var[ix])\n",
    "# for c in var:\n",
    "#     print(c)"
   ]
  },
  {
   "cell_type": "code",
   "execution_count": null,
   "metadata": {},
   "outputs": [],
   "source": []
  },
  {
   "cell_type": "code",
   "execution_count": null,
   "metadata": {},
   "outputs": [],
   "source": []
  }
 ],
 "metadata": {
  "kernelspec": {
   "display_name": "Python 3",
   "language": "python",
   "name": "python3"
  },
  "language_info": {
   "codemirror_mode": {
    "name": "ipython",
    "version": 3
   },
   "file_extension": ".py",
   "mimetype": "text/x-python",
   "name": "python",
   "nbconvert_exporter": "python",
   "pygments_lexer": "ipython3",
   "version": "3.11.4"
  }
 },
 "nbformat": 4,
 "nbformat_minor": 2
}

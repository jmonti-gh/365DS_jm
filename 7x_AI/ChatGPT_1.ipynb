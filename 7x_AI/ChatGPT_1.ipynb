{
 "cells": [
  {
   "cell_type": "markdown",
   "metadata": {},
   "source": [
    "# 7.x AI"
   ]
  },
  {
   "cell_type": "code",
   "execution_count": 2,
   "metadata": {},
   "outputs": [
    {
     "name": "stdout",
     "output_type": "stream",
     "text": [
      "0.28.0\n"
     ]
    }
   ],
   "source": [
    "import openai\n",
    "print(openai.__version__)\n",
    "\n",
    "\n",
    "# # Set up your OpenAI API key\n",
    "# openai.api_key = 'your-api-key-here'\n",
    "\n",
    "# # Define the prompt or input text\n",
    "# prompt = \"Write a poem about the ocean.\"\n",
    "\n",
    "# # Call the ChatGPT API\n",
    "# response = openai.Completion.create(\n",
    "#     engine=\"text-davinci-003\",  # You can use \"gpt-3.5-turbo\" or other engines\n",
    "#     prompt=prompt,\n",
    "#     max_tokens=100,  # Adjust the number of tokens as needed\n",
    "#     temperature=0.7  # Adjust the creativity level (0.0 - 1.0)\n",
    "# )\n",
    "\n",
    "# # Extract and print the generated text\n",
    "# generated_text = response.choices[0].text.strip()\n",
    "# print(generated_text)\n",
    "# ```\n",
    "\n"
   ]
  },
  {
   "cell_type": "code",
   "execution_count": null,
   "metadata": {},
   "outputs": [],
   "source": [
    "Certainly! Below is an example Python script to connect to OpenAI's ChatGPT via the OpenAI API:\n",
    "\n",
    "```python\n",
    "import openai\n",
    "\n",
    "# Set up your OpenAI API key\n",
    "openai.api_key = 'your-api-key-here'\n",
    "\n",
    "# Define the prompt or input text\n",
    "prompt = \"Write a poem about the ocean.\"\n",
    "\n",
    "# Call the ChatGPT API\n",
    "response = openai.Completion.create(\n",
    "    engine=\"text-davinci-003\",  # You can use \"gpt-3.5-turbo\" or other engines\n",
    "    prompt=prompt,\n",
    "    max_tokens=100,  # Adjust the number of tokens as needed\n",
    "    temperature=0.7  # Adjust the creativity level (0.0 - 1.0)\n",
    ")\n",
    "\n",
    "# Extract and print the generated text\n",
    "generated_text = response.choices[0].text.strip()\n",
    "print(generated_text)\n",
    "```\n",
    "\n",
    "### Steps to Run the Script:\n",
    "\n",
    "1. **Install the OpenAI Python package:**\n",
    "   If you haven't installed the OpenAI Python package yet, you can install it via pip:\n",
    "\n",
    "   ```bash\n",
    "   pip install openai\n",
    "   ```\n",
    "\n",
    "2. **Replace `'your-api-key-here'`** with your actual OpenAI API key. You can obtain the key from your [OpenAI account](https://platform.openai.com/account/api-keys).\n",
    "\n",
    "3. **Run the script** using a Python interpreter.\n",
    "\n",
    "### Customization:\n",
    "- **`engine`:** You can change the model by specifying a different engine, such as `gpt-3.5-turbo` for more conversational AI.\n",
    "- **`prompt`:** Modify the input text to ask different questions or give different instructions.\n",
    "- **`max_tokens`:** Adjust the length of the response by setting the maximum number of tokens.\n",
    "- **`temperature`:** Control the creativity of the responses by adjusting the temperature value.\n",
    "\n",
    "This script provides a basic way to interact with the ChatGPT model programmatically."
   ]
  }
 ],
 "metadata": {
  "kernelspec": {
   "display_name": "Python 3",
   "language": "python",
   "name": "python3"
  },
  "language_info": {
   "codemirror_mode": {
    "name": "ipython",
    "version": 3
   },
   "file_extension": ".py",
   "mimetype": "text/x-python",
   "name": "python",
   "nbconvert_exporter": "python",
   "pygments_lexer": "ipython3",
   "version": "3.11.4"
  }
 },
 "nbformat": 4,
 "nbformat_minor": 2
}

{
 "cells": [
  {
   "cell_type": "markdown",
   "metadata": {},
   "source": [
    "# 2_5 arrays vs list (np ndarrays vs pure python lists)"
   ]
  },
  {
   "cell_type": "code",
   "execution_count": 78,
   "metadata": {},
   "outputs": [
    {
     "data": {
      "text/plain": [
       "'2.1.1'"
      ]
     },
     "execution_count": 78,
     "metadata": {},
     "output_type": "execute_result"
    }
   ],
   "source": [
    "import numpy as np\n",
    "np.__version__"
   ]
  },
  {
   "cell_type": "code",
   "execution_count": 3,
   "metadata": {},
   "outputs": [
    {
     "name": "stdout",
     "output_type": "stream",
     "text": [
      "[]\n",
      "ERROR! --> fibo_func accept only an integer > 0 as parameter\n",
      "[]\n",
      "ERROR! --> fibo_func accept only an integer > 0 as parameter\n",
      "[]\n",
      "ERROR! --> fibo_func accept only an integer > 0 as parameter\n",
      "[0, 1, 1, 2, 3, 5, 8, 13, 21, 34]\n",
      "[0, 1, 1, 2, 3, 5, 8, 13, 21, 34]\n"
     ]
    }
   ],
   "source": [
    "# Fibonacci Generator and Function\n",
    "\n",
    "\n",
    "def fibo_gen(num_elements: int) -> GeneratorExit:\n",
    "\n",
    "    if not isinstance(num_elements, int) or num_elements < 1:\n",
    "        return  # to avoid execution error if the argument passed is invalid\n",
    "    \n",
    "    a, b = 0, 1\n",
    "    for _ in range(num_elements):\n",
    "        fib_num = a\n",
    "        a, b = b, b + a\n",
    "        yield(fib_num)\n",
    "\n",
    "\n",
    "\n",
    "def fibo_func(num_elements: int) -> list:\n",
    "\n",
    "    if not isinstance(num_elements, int) or num_elements < 1:\n",
    "        return f'ERROR! --> fibo_func accept only an integer > 0 as parameter'\n",
    "    \n",
    "    a, b = 0, 1\n",
    "    result = [a]\n",
    "    for _ in range(num_elements - 1):\n",
    "        result.append(b)\n",
    "        a, b = b, b + a\n",
    "    return result"
   ]
  },
  {
   "cell_type": "code",
   "execution_count": 80,
   "metadata": {},
   "outputs": [],
   "source": [
    "# General Functions\n",
    "\n",
    "def isndarray(el):\n",
    "        errmsg = f'- Warning --> {el} is not np.ndarray. It is {type(el)}\\n'\n",
    "        if not isinstance(el, np.ndarray):\n",
    "                print(errmsg)\n",
    "                return False\n",
    "        return True\n",
    "\n",
    "\n",
    "def show_array(*objs: str) -> None:\n",
    "    ''' Display numpy.ndarrays objects and some of its more important attributes\n",
    "\n",
    "    All arguments must be strings.\n",
    "    can pass a variable number of non-keyworded arguments.\n",
    "    Return None, only print info -> FUTURE make an string with all the info as return\n",
    "    '''\n",
    "    for obj in objs:\n",
    "        if not isinstance(obj, str):\n",
    "            print(f'ERROR! --> ArgumentS of show_array() function must be strings')\n",
    "            print(f'\"{obj}\" is not an String')\n",
    "            continue\n",
    "\n",
    "        try:\n",
    "            robj = eval(obj)\n",
    "        except NameError:\n",
    "            robj = obj\n",
    "        if not isndarray(robj):\n",
    "                continue\n",
    "\n",
    "        print(f'{obj} -> {type(robj)}:\\n{\"-\" * 80}')\n",
    "        display(robj)\n",
    "        print(robj)\n",
    "        for attr in ('shape', 'ndim', 'size'):  #, 'dtype'):  #, 'itemsize'):\n",
    "            obj_attr = obj + '.' + attr\n",
    "            print(f'{obj_attr} = {eval(obj_attr)}  |  ',end=\"\")\n",
    "        print('\\n')     "
   ]
  },
  {
   "cell_type": "code",
   "execution_count": 81,
   "metadata": {},
   "outputs": [
    {
     "name": "stdout",
     "output_type": "stream",
     "text": [
      "[1, 2, 3, 4, 5, 6]\n",
      "- Warning --> [1, 2, 3, 4, 5, 6] is not np.ndarray. It is <class 'list'>\n",
      "\n"
     ]
    },
    {
     "data": {
      "text/plain": [
       "list"
      ]
     },
     "execution_count": 81,
     "metadata": {},
     "output_type": "execute_result"
    }
   ],
   "source": [
    "list_0 = [1,2,3,4,5,6]\n",
    "print(list_0)\n",
    "show_array('list_0')\n",
    "type(list_0)"
   ]
  },
  {
   "cell_type": "code",
   "execution_count": 82,
   "metadata": {},
   "outputs": [
    {
     "name": "stdout",
     "output_type": "stream",
     "text": [
      "[[1, 2, 3], [4, 5, 6]]\n",
      "- Warning --> [[1, 2, 3], [4, 5, 6]] is not np.ndarray. It is <class 'list'>\n",
      "\n"
     ]
    },
    {
     "data": {
      "text/plain": [
       "list"
      ]
     },
     "execution_count": 82,
     "metadata": {},
     "output_type": "execute_result"
    }
   ],
   "source": [
    "list_a = [[1,2,3], [4,5,6]]\n",
    "print(list_a)\n",
    "show_array('list_a')\n",
    "type(list_0)"
   ]
  },
  {
   "cell_type": "code",
   "execution_count": 83,
   "metadata": {},
   "outputs": [
    {
     "name": "stdout",
     "output_type": "stream",
     "text": [
      "array_a -> <class 'numpy.ndarray'>:\n",
      "--------------------------------------------------------------------------------\n"
     ]
    },
    {
     "data": {
      "text/plain": [
       "array([[1, 2, 3],\n",
       "       [4, 5, 6]])"
      ]
     },
     "metadata": {},
     "output_type": "display_data"
    },
    {
     "name": "stdout",
     "output_type": "stream",
     "text": [
      "[[1 2 3]\n",
      " [4 5 6]]\n",
      "array_a.shape = (2, 3)  |  array_a.ndim = 2  |  array_a.size = 6  |  \n",
      "\n"
     ]
    }
   ],
   "source": [
    "array_a = np.array(list_a)\n",
    "show_array('array_a')"
   ]
  },
  {
   "cell_type": "code",
   "execution_count": 84,
   "metadata": {},
   "outputs": [
    {
     "data": {
      "text/plain": [
       "' list_a.shape '"
      ]
     },
     "execution_count": 84,
     "metadata": {},
     "output_type": "execute_result"
    }
   ],
   "source": [
    "''' list_a.shape '''\n",
    "\n",
    "# ---------------------------------------------------------------------------\n",
    "# AttributeError                            Traceback (most recent call last)\n",
    "# Cell In[21], line 1\n",
    "# ----> 1 list_a.shape\n",
    "\n",
    "# AttributeError: 'list' object has no attribute 'shape'"
   ]
  },
  {
   "cell_type": "code",
   "execution_count": 85,
   "metadata": {},
   "outputs": [
    {
     "data": {
      "text/plain": [
       "dict_keys(['__new__', '__repr__', '__hash__', '__getattribute__', '__lt__', '__le__', '__eq__', '__ne__', '__gt__', '__ge__', '__iter__', '__init__', '__len__', '__getitem__', '__setitem__', '__delitem__', '__add__', '__mul__', '__rmul__', '__contains__', '__iadd__', '__imul__', '__reversed__', '__sizeof__', 'clear', 'copy', 'append', 'insert', 'extend', 'pop', 'remove', 'index', 'count', 'reverse', 'sort', '__class_getitem__', '__doc__'])"
      ]
     },
     "execution_count": 85,
     "metadata": {},
     "output_type": "execute_result"
    }
   ],
   "source": [
    "# Actually lists objects don't have attributes, only methods\n",
    "# - https://docs.python.org/3/tutorial/datastructures.html\n",
    "\n",
    "list.__dict__.keys()\n",
    "#list.__dict__"
   ]
  },
  {
   "cell_type": "code",
   "execution_count": 86,
   "metadata": {},
   "outputs": [
    {
     "name": "stdout",
     "output_type": "stream",
     "text": [
      "2\n",
      "6\n"
     ]
    },
    {
     "data": {
      "text/plain": [
       "2"
      ]
     },
     "execution_count": 86,
     "metadata": {},
     "output_type": "execute_result"
    }
   ],
   "source": [
    "print(len(list_a))\n",
    "print(len(list_0))\n",
    "len(array_a)"
   ]
  },
  {
   "cell_type": "code",
   "execution_count": 87,
   "metadata": {},
   "outputs": [
    {
     "data": {
      "text/plain": [
       "3"
      ]
     },
     "execution_count": 87,
     "metadata": {},
     "output_type": "execute_result"
    }
   ],
   "source": [
    "# print(len(list_0[1]))     TypeError: object of type 'int' has no len()\n",
    "len(list_a[1])"
   ]
  },
  {
   "cell_type": "markdown",
   "metadata": {},
   "source": [
    "## Array operations work elmentwise\n",
    "- list operations don't."
   ]
  },
  {
   "cell_type": "code",
   "execution_count": 88,
   "metadata": {},
   "outputs": [
    {
     "data": {
      "text/plain": [
       "[1, 2, 3, 4, 5, 6]"
      ]
     },
     "metadata": {},
     "output_type": "display_data"
    },
    {
     "data": {
      "text/plain": [
       "array([5, 7, 9])"
      ]
     },
     "metadata": {},
     "output_type": "display_data"
    }
   ],
   "source": [
    "list_b = list_a[0] + list_a[1]      # Concatenation of sublists \n",
    "array_b = array_a[0] + array_a[1]   # Aritmetic sum of elements in the same position\n",
    "\n",
    "display(list_b)\n",
    "display(array_b)\n",
    "# Arrays compute the element of one array to its corresponding element in a different\n",
    "#  array"
   ]
  },
  {
   "cell_type": "markdown",
   "metadata": {},
   "source": [
    "### ndarrays have the added benefit of using built-in functions and methods.\n",
    "- Ex. if we want to find the squared root of the values of an array:"
   ]
  },
  {
   "cell_type": "code",
   "execution_count": 89,
   "metadata": {},
   "outputs": [],
   "source": [
    "# Cause of the built in methods of np is not necessary to import the math module\n",
    "# Only to exemplify\n",
    "import math"
   ]
  },
  {
   "cell_type": "code",
   "execution_count": 90,
   "metadata": {},
   "outputs": [
    {
     "name": "stdout",
     "output_type": "stream",
     "text": [
      "2.0\n"
     ]
    },
    {
     "data": {
      "text/plain": [
       "2.0"
      ]
     },
     "execution_count": 90,
     "metadata": {},
     "output_type": "execute_result"
    }
   ],
   "source": [
    "#list_sqrt = math.sqrt(list_a)   # TypeError: must be real number, not list\n",
    "#list_a[1,0] # TypeError: list indices must be integers or slices, not tupl\n",
    "print(math.sqrt(list_a[1][0]))\n",
    "math.sqrt(array_a[1,0])"
   ]
  },
  {
   "cell_type": "code",
   "execution_count": 91,
   "metadata": {},
   "outputs": [
    {
     "data": {
      "text/plain": [
       "array([[1.        , 1.41421356, 1.73205081],\n",
       "       [2.        , 2.23606798, 2.44948974]])"
      ]
     },
     "execution_count": 91,
     "metadata": {},
     "output_type": "execute_result"
    }
   ],
   "source": [
    "# Elementwise functionality is a great advantage arrays have over lists\n",
    "# when it comes to computations.\n",
    "np.sqrt(array_a)\n"
   ]
  },
  {
   "cell_type": "markdown",
   "metadata": {},
   "source": [
    "## jm* Rows of different sizes (lengths)"
   ]
  },
  {
   "cell_type": "code",
   "execution_count": 92,
   "metadata": {},
   "outputs": [
    {
     "data": {
      "text/plain": [
       "[[1, 2, 3], [0, 1, 1, 2, 3, 5, 8, 13]]"
      ]
     },
     "execution_count": 92,
     "metadata": {},
     "output_type": "execute_result"
    }
   ],
   "source": [
    "list_1 = [list(range(1, 4)), list(fibo_gen(8))]\n",
    "list_1"
   ]
  },
  {
   "cell_type": "code",
   "execution_count": 94,
   "metadata": {},
   "outputs": [
    {
     "name": "stdout",
     "output_type": "stream",
     "text": [
      "2  -  3\n",
      "2  -  8\n"
     ]
    }
   ],
   "source": [
    "for i in range(2):\n",
    "    print(len(list_1), end='  -  ')\n",
    "    print(len(list_1[i]))"
   ]
  },
  {
   "cell_type": "code",
   "execution_count": 95,
   "metadata": {},
   "outputs": [
    {
     "ename": "ValueError",
     "evalue": "setting an array element with a sequence. The requested array has an inhomogeneous shape after 1 dimensions. The detected shape was (2,) + inhomogeneous part.",
     "output_type": "error",
     "traceback": [
      "\u001b[1;31m---------------------------------------------------------------------------\u001b[0m",
      "\u001b[1;31mValueError\u001b[0m                                Traceback (most recent call last)",
      "Cell \u001b[1;32mIn[95], line 1\u001b[0m\n\u001b[1;32m----> 1\u001b[0m array_1 \u001b[38;5;241m=\u001b[39m \u001b[43mnp\u001b[49m\u001b[38;5;241;43m.\u001b[39;49m\u001b[43marray\u001b[49m\u001b[43m(\u001b[49m\u001b[43mlist_1\u001b[49m\u001b[43m)\u001b[49m\n",
      "\u001b[1;31mValueError\u001b[0m: setting an array element with a sequence. The requested array has an inhomogeneous shape after 1 dimensions. The detected shape was (2,) + inhomogeneous part."
     ]
    }
   ],
   "source": [
    "array_1 = np.array(list_1)"
   ]
  }
 ],
 "metadata": {
  "kernelspec": {
   "display_name": "Python 3",
   "language": "python",
   "name": "python3"
  },
  "language_info": {
   "codemirror_mode": {
    "name": "ipython",
    "version": 3
   },
   "file_extension": ".py",
   "mimetype": "text/x-python",
   "name": "python",
   "nbconvert_exporter": "python",
   "pygments_lexer": "ipython3",
   "version": "3.11.0"
  }
 },
 "nbformat": 4,
 "nbformat_minor": 2
}

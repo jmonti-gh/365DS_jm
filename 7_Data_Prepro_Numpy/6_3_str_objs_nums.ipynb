{
 "cells": [
  {
   "cell_type": "markdown",
   "metadata": {},
   "source": [
    "# 6 Importing and Saving Data with NumPy\n",
    "## 6_3 Strings vs Objects vs Numbers\n",
    "\n",
    "- Data: all columns from LoanID to TotalPrice (LT).\n",
    "\n",
    "- numpy.genfromtxt(fname, dtype=<class 'float'>, comments='#', delimiter=None, skip_header=0, skip_footer=0, converters=None, missing_values=None, filling_values=None, usecols=None, names=None, excludelist=None, deletechars=\" !#$%&'()*+, -./:;<=>?@[\\\\]^{|}~\", replace_space='_', autostrip=False, case_sensitive=True, defaultfmt='f%i', unpack=None, usemask=False, loose=True, invalid_raise=True, max_rows=None, encoding=None, *, ndmin=0, like=None)\n",
    "\n",
    "- skip_header, skip_footer, usecols, unpack"
   ]
  },
  {
   "cell_type": "code",
   "execution_count": 2,
   "metadata": {},
   "outputs": [
    {
     "data": {
      "text/plain": [
       "'1.26.2'"
      ]
     },
     "execution_count": 2,
     "metadata": {},
     "output_type": "execute_result"
    }
   ],
   "source": [
    "import numpy as np\n",
    "np.__version__"
   ]
  },
  {
   "cell_type": "code",
   "execution_count": 10,
   "metadata": {},
   "outputs": [
    {
     "name": "stdout",
     "output_type": "stream",
     "text": [
      "(1044, 7) 2 7308 float64\n",
      "[[      nan       nan       nan ...       nan       nan       nan]\n",
      " [1.000e+00       nan       nan ...       nan       nan 1.660e+04]\n",
      " [2.000e+00       nan       nan ...       nan       nan 1.660e+04]\n",
      " ...\n",
      " [1.041e+03       nan       nan ...       nan       nan 1.660e+04]\n",
      " [1.042e+03       nan       nan ...       nan       nan 1.560e+04]\n",
      " [1.043e+03       nan       nan ...       nan       nan 1.660e+04]]\n"
     ]
    }
   ],
   "source": [
    "lending_co_lt = np.genfromtxt('Lending-co-LT.csv', delimiter=',')\n",
    "\n",
    "print(lending_co_lt.shape, lending_co_lt.ndim,\n",
    "      lending_co_lt.size, lending_co_lt.dtype)\n",
    "\n",
    "print(lending_co_lt)\n"
   ]
  },
  {
   "cell_type": "code",
   "execution_count": 14,
   "metadata": {},
   "outputs": [
    {
     "name": "stdout",
     "output_type": "stream",
     "text": [
      "(1044, 7) 2 7308 int32\n"
     ]
    },
    {
     "data": {
      "text/plain": [
       "array([[   -1,    -1,    -1, ...,    -1,    -1,    -1],\n",
       "       [    1,    -1,    -1, ...,    -1,    -1, 16600],\n",
       "       [    2,    -1,    -1, ...,    -1,    -1, 16600],\n",
       "       ...,\n",
       "       [ 1041,    -1,    -1, ...,    -1,    -1, 16600],\n",
       "       [ 1042,    -1,    -1, ...,    -1,    -1, 15600],\n",
       "       [ 1043,    -1,    -1, ...,    -1,    -1, 16600]])"
      ]
     },
     "execution_count": 14,
     "metadata": {},
     "output_type": "execute_result"
    }
   ],
   "source": [
    "# 2. Importing telling data is Integer 32bits\n",
    "lending_co_lt = np.genfromtxt('Lending-co-LT.csv',\n",
    "                              delimiter=',',\n",
    "                              dtype=np.int32)\n",
    "\n",
    "print(lending_co_lt.shape, lending_co_lt.ndim,\n",
    "      lending_co_lt.size, lending_co_lt.dtype)\n",
    "\n",
    "lending_co_lt\n",
    "# All numbers are integers without scientific notation\n",
    "# All NANs appears as -1"
   ]
  },
  {
   "cell_type": "code",
   "execution_count": 13,
   "metadata": {},
   "outputs": [
    {
     "data": {
      "text/plain": [
       "-2"
      ]
     },
     "execution_count": 13,
     "metadata": {},
     "output_type": "execute_result"
    }
   ],
   "source": [
    "# All NANs appears as -1\n",
    "lending_co_lt[0,0] + lending_co_lt[0,1]"
   ]
  },
  {
   "cell_type": "code",
   "execution_count": 16,
   "metadata": {},
   "outputs": [
    {
     "name": "stdout",
     "output_type": "stream",
     "text": [
      "(1044, 7) 2 7308 <U14\n",
      "[['LoanID' 'StringID' 'Product' ... 'Location' 'Region' 'TotalPrice']\n",
      " ['1' 'id_1' 'Product B' ... 'Location 2' 'Region 2' '16600.0']\n",
      " ['2' 'id_2' 'Product B' ... 'Location 3' '' '16600.0']\n",
      " ...\n",
      " ['1041' 'id_1041' 'Product B' ... 'Location 23' 'Region 4' '16600.0']\n",
      " ['1042' 'id_1042' 'Product C' ... 'Location 52' 'Region 6' '15600.0']\n",
      " ['1043' 'id_1043' 'Product B' ... 'Location 142' 'Region 6' '16600.0']]\n"
     ]
    }
   ],
   "source": [
    "# 3. Importing telling data is String\n",
    "lending_co_lt = np.genfromtxt('Lending-co-LT.csv',\n",
    "                              delimiter=',',\n",
    "                              dtype=str)\n",
    "\n",
    "print(lending_co_lt.shape, lending_co_lt.ndim,\n",
    "      lending_co_lt.size, lending_co_lt.dtype)\n",
    "\n",
    "print(lending_co_lt)\n",
    "# We cannot do Mathematical Operations"
   ]
  },
  {
   "cell_type": "code",
   "execution_count": 21,
   "metadata": {},
   "outputs": [
    {
     "name": "stdout",
     "output_type": "stream",
     "text": [
      "(1044, 7) 2 7308 object\n"
     ]
    },
    {
     "data": {
      "text/plain": [
       "array([[b'LoanID', b'StringID', b'Product', ..., b'Location', b'Region',\n",
       "        b'TotalPrice'],\n",
       "       [b'1', b'id_1', b'Product B', ..., b'Location 2', b'Region 2',\n",
       "        b'16600.0'],\n",
       "       [b'2', b'id_2', b'Product B', ..., b'Location 3', b'', b'16600.0'],\n",
       "       ...,\n",
       "       [b'1041', b'id_1041', b'Product B', ..., b'Location 23',\n",
       "        b'Region 4', b'16600.0'],\n",
       "       [b'1042', b'id_1042', b'Product C', ..., b'Location 52',\n",
       "        b'Region 6', b'15600.0'],\n",
       "       [b'1043', b'id_1043', b'Product B', ..., b'Location 142',\n",
       "        b'Region 6', b'16600.0']], dtype=object)"
      ]
     },
     "execution_count": 21,
     "metadata": {},
     "output_type": "execute_result"
    }
   ],
   "source": [
    "# 4. Importing the information as objects.\n",
    "lending_co_lt = np.genfromtxt('Lending-co-LT.csv',\n",
    "                              delimiter=',',\n",
    "                              dtype=object)\n",
    "\n",
    "print(lending_co_lt.shape, lending_co_lt.ndim,\n",
    "      lending_co_lt.size, lending_co_lt.dtype)\n",
    "\n",
    "lending_co_lt\n",
    "# The data inside is not plain text we can't freely manipulate the values.\n",
    "# ONLY for backward compatibility"
   ]
  },
  {
   "cell_type": "code",
   "execution_count": 22,
   "metadata": {},
   "outputs": [
    {
     "name": "stdout",
     "output_type": "stream",
     "text": [
      "(1044,) 1 1044 [('f0', '<i4'), ('f1', '<U'), ('f2', '<U'), ('f3', '<U'), ('f4', '<U'), ('f5', '<U'), ('f6', '<i4')]\n"
     ]
    },
    {
     "data": {
      "text/plain": [
       "array([(  -1, '', '', '', '', '',    -1),\n",
       "       (   1, '', '', '', '', '', 16600),\n",
       "       (   2, '', '', '', '', '', 16600), ...,\n",
       "       (1041, '', '', '', '', '', 16600),\n",
       "       (1042, '', '', '', '', '', 15600),\n",
       "       (1043, '', '', '', '', '', 16600)],\n",
       "      dtype=[('f0', '<i4'), ('f1', '<U'), ('f2', '<U'), ('f3', '<U'), ('f4', '<U'), ('f5', '<U'), ('f6', '<i4')])"
      ]
     },
     "execution_count": 22,
     "metadata": {},
     "output_type": "execute_result"
    }
   ],
   "source": [
    "# 5. Import as an array of multiply types\n",
    "lending_co_lt = np.genfromtxt('Lending-co-LT.csv',\n",
    "                              delimiter=',',\n",
    "                              dtype=(np.int32, str, str, str,\n",
    "                                     str, str, np.int32))\n",
    "\n",
    "print(lending_co_lt.shape, lending_co_lt.ndim,\n",
    "      lending_co_lt.size, lending_co_lt.dtype)\n",
    "\n",
    "lending_co_lt\n",
    "# Arrays usually consist of a single numeric datatype\n",
    "# We should avoid specifying various datatypes when working with NumPy"
   ]
  },
  {
   "cell_type": "code",
   "execution_count": null,
   "metadata": {},
   "outputs": [],
   "source": []
  }
 ],
 "metadata": {
  "kernelspec": {
   "display_name": "Python 3",
   "language": "python",
   "name": "python3"
  },
  "language_info": {
   "codemirror_mode": {
    "name": "ipython",
    "version": 3
   },
   "file_extension": ".py",
   "mimetype": "text/x-python",
   "name": "python",
   "nbconvert_exporter": "python",
   "pygments_lexer": "ipython3",
   "version": "3.11.4"
  }
 },
 "nbformat": 4,
 "nbformat_minor": 2
}

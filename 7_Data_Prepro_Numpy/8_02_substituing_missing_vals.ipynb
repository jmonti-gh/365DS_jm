{
 "cells": [
  {
   "cell_type": "markdown",
   "metadata": {},
   "source": [
    "# 8 Data Manipulation with NumPy\n",
    "- Examine how to clean and preprocess data using NumPy.\n",
    "- Hoy to discover missing values (and fill them up).\n",
    "- Ways to remove irrelevant data.\n",
    "- sort(), shuffle(), reshape(), stack(), strip()\n",
    "## 8_2 Substituing Missing Values in NDarrays"
   ]
  },
  {
   "cell_type": "markdown",
   "metadata": {},
   "source": [
    "#### numpy.where(condition, [x, y, ]/)\n",
    "- Return elements chosen from x or y depending on condition."
   ]
  },
  {
   "cell_type": "code",
   "execution_count": 1,
   "metadata": {},
   "outputs": [
    {
     "data": {
      "text/plain": [
       "'1.26.4'"
      ]
     },
     "execution_count": 1,
     "metadata": {},
     "output_type": "execute_result"
    }
   ],
   "source": [
    "import numpy as np\n",
    "np.__version__"
   ]
  },
  {
   "cell_type": "code",
   "execution_count": 2,
   "metadata": {},
   "outputs": [],
   "source": [
    "# Function show_attr\n",
    "\n",
    "def show_attr(arrnm: str) -> str:\n",
    "    strout = f' {arrnm}: '\n",
    "\n",
    "    for attr in ('shape', 'ndim', 'size', 'dtype'):     #, 'itemsize'):\n",
    "            arrnm_attr = arrnm + '.' + attr\n",
    "            strout += f'| {attr}: {eval(arrnm_attr)} '\n",
    "\n",
    "    return strout"
   ]
  },
  {
   "cell_type": "code",
   "execution_count": 3,
   "metadata": {},
   "outputs": [
    {
     "data": {
      "text/plain": [
       "' lend_co_data_num_NAN: | shape: (1043, 6) | ndim: 2 | size: 6258 | dtype: float64 '"
      ]
     },
     "metadata": {},
     "output_type": "display_data"
    },
    {
     "data": {
      "text/plain": [
       "array([[ 2000.,    40.,   365.,  3121.,  4241., 13621.],\n",
       "       [ 2000.,    40.,   365.,  3061.,  4171., 15041.],\n",
       "       [ 1000.,    40.,   365.,  2160.,  3280., 15340.],\n",
       "       ...,\n",
       "       [   nan,    40.,   365.,  4201.,  5001., 16600.],\n",
       "       [ 1000.,    40.,   365.,  2080.,  3320., 15600.],\n",
       "       [ 2000.,    40.,   365.,  4601.,  4601., 16600.]])"
      ]
     },
     "execution_count": 3,
     "metadata": {},
     "output_type": "execute_result"
    }
   ],
   "source": [
    "# Let's work with a dataset that contains NANs.\n",
    "\n",
    "lend_co_data_num_NAN = np.genfromtxt('Lending-Company-Numeric-Data-NAN.csv',\n",
    "                                     delimiter=';')\n",
    "\n",
    "display(show_attr('lend_co_data_num_NAN'))\n",
    "lend_co_data_num_NAN"
   ]
  },
  {
   "cell_type": "code",
   "execution_count": 4,
   "metadata": {},
   "outputs": [
    {
     "data": {
      "text/plain": [
       "260"
      ]
     },
     "execution_count": 4,
     "metadata": {},
     "output_type": "execute_result"
    }
   ],
   "source": [
    "# Let's check is there are NANs values - np.isnan() -> elementwise\n",
    "np.isnan(lend_co_data_num_NAN).sum()    # 260 NANs"
   ]
  },
  {
   "cell_type": "code",
   "execution_count": 5,
   "metadata": {},
   "outputs": [
    {
     "data": {
      "text/plain": [
       "64001.0"
      ]
     },
     "metadata": {},
     "output_type": "display_data"
    },
    {
     "data": {
      "text/plain": [
       "64002.0"
      ]
     },
     "metadata": {},
     "output_type": "display_data"
    },
    {
     "data": {
      "text/plain": [
       "' lend_co_data_num_NAN: | shape: (1043, 6) | ndim: 2 | size: 6258 | dtype: float64 '"
      ]
     },
     "metadata": {},
     "output_type": "display_data"
    },
    {
     "name": "stdout",
     "output_type": "stream",
     "text": [
      "[[2.0000e+03 4.0000e+01 3.6500e+02 3.1210e+03 4.2410e+03 1.3621e+04]\n",
      " [2.0000e+03 4.0000e+01 3.6500e+02 3.0610e+03 4.1710e+03 1.5041e+04]\n",
      " [1.0000e+03 4.0000e+01 3.6500e+02 2.1600e+03 3.2800e+03 1.5340e+04]\n",
      " ...\n",
      " [6.4002e+04 4.0000e+01 3.6500e+02 4.2010e+03 5.0010e+03 1.6600e+04]\n",
      " [1.0000e+03 4.0000e+01 3.6500e+02 2.0800e+03 3.3200e+03 1.5600e+04]\n",
      " [2.0000e+03 4.0000e+01 3.6500e+02 4.6010e+03 4.6010e+03 1.6600e+04]]\n"
     ]
    }
   ],
   "source": [
    "# Change the NANs by a value grater than the max of the array\n",
    "\n",
    "display(max_dtset:= np.nanmax(lend_co_data_num_NAN))\n",
    "display(temp_fill:= np.nanmax(lend_co_data_num_NAN).round(2) + 1)\n",
    "\n",
    "# Reload the dtset w/NANs changing NANs by temp_value\n",
    "lend_co_data_num_NAN = np.genfromtxt('Lending-Company-Numeric-Data-NAN.csv',\n",
    "                                     delimiter=';',\n",
    "                                     filling_values=temp_fill)\n",
    "\n",
    "display(show_attr('lend_co_data_num_NAN'))\n",
    "print(lend_co_data_num_NAN)\n",
    "\n",
    "## Now all the originals NANs ara equal to the maximum of this array"
   ]
  },
  {
   "cell_type": "markdown",
   "metadata": {},
   "source": [
    "### Relacing missing with a more adecuate value\n",
    "- As a result of what we did previously, if a value is equal to the maximum of the array, it is actually a 'missing' value\n",
    "- We need to replace these values with more meaningful ones\n",
    "- A common approach is to fill all missing vals with the mean of a given column. The reason is tha quite possibly this won't change the overall interpretation of the data set.\n",
    "- All missing vals would be considered average, thus unimportant for consequent analysis.\n",
    "- This is NOT always valid, but often is the preferred approach."
   ]
  },
  {
   "cell_type": "code",
   "execution_count": 6,
   "metadata": {},
   "outputs": [
    {
     "name": "stdout",
     "output_type": "stream",
     "text": [
      " temp_means: | shape: (6,) | ndim: 1 | size: 6 | dtype: float64 \n"
     ]
    },
    {
     "data": {
      "text/plain": [
       "array([ 2250.25,    46.11,   365.  ,  3895.99,  5160.75, 16571.44])"
      ]
     },
     "metadata": {},
     "output_type": "display_data"
    }
   ],
   "source": [
    "# Reload the original data and calc the temp_mean of each column\n",
    "lend_co_data_num_NAN = np.genfromtxt('Lending-Company-Numeric-Data-NAN.csv',\n",
    "                                     delimiter=';')\n",
    "\n",
    "temp_means = np.nanmean(lend_co_data_num_NAN, axis=0).round(2)\n",
    "print(show_attr('temp_means'))\n",
    "display(temp_means)      # Stores the means of each column\n",
    "\n",
    "## We want to keep track of the different means because they can change\n",
    "## after filling out the missing vals"
   ]
  },
  {
   "cell_type": "code",
   "execution_count": 7,
   "metadata": {},
   "outputs": [
    {
     "data": {
      "text/plain": [
       "64002.0"
      ]
     },
     "metadata": {},
     "output_type": "display_data"
    },
    {
     "name": "stdout",
     "output_type": "stream",
     "text": [
      " temp_means: | shape: (6,) | ndim: 1 | size: 6 | dtype: float64 \n"
     ]
    },
    {
     "data": {
      "text/plain": [
       "array([ 2250.25,    46.11,   365.  ,  3895.99,  5160.75, 16571.44])"
      ]
     },
     "metadata": {},
     "output_type": "display_data"
    },
    {
     "data": {
      "text/plain": [
       "array([0, 0, 0, 0, 0, 0])"
      ]
     },
     "execution_count": 7,
     "metadata": {},
     "output_type": "execute_result"
    }
   ],
   "source": [
    "# Reload the original data filling NANs with temp_max\n",
    "display(temp_max:= np.nanmax(lend_co_data_num_NAN).round(2) + 1)\n",
    "\n",
    "lend_co_data_num_NAN = np.genfromtxt('Lending-Company-Numeric-Data-NAN.csv',\n",
    "                                     delimiter=';',\n",
    "                                     filling_values=temp_max)\n",
    "print(show_attr('temp_means'))\n",
    "display(temp_means) \n",
    "np.isnan(lend_co_data_num_NAN).sum(axis=0)      # = 0, 0..., NO NANs"
   ]
  },
  {
   "cell_type": "code",
   "execution_count": 8,
   "metadata": {},
   "outputs": [
    {
     "data": {
      "text/plain": [
       "4263.25"
      ]
     },
     "metadata": {},
     "output_type": "display_data"
    },
    {
     "data": {
      "text/plain": [
       "1.89"
      ]
     },
     "execution_count": 8,
     "metadata": {},
     "output_type": "execute_result"
    }
   ],
   "source": [
    "# New mean of the 1st column\n",
    "display(np.mean(lend_co_data_num_NAN[:,0]).round(2))\n",
    "## This average is distorted due to all the missing vals we've substituted\n",
    "## with our filler (temp_max)\n",
    "(np.mean(lend_co_data_num_NAN[:,0]).round(2) / temp_means[0]).round(2)\n",
    "## BIG impact on the result: close to TWICE the original mean of col[0]\n",
    "\n",
    "## This staggering diff could result in extracting misleading insights\n",
    "## from the data -> then -> np.where() will help us."
   ]
  },
  {
   "cell_type": "code",
   "execution_count": 9,
   "metadata": {},
   "outputs": [
    {
     "data": {
      "text/plain": [
       "2250.25"
      ]
     },
     "metadata": {},
     "output_type": "display_data"
    },
    {
     "data": {
      "text/plain": [
       "1.0"
      ]
     },
     "execution_count": 9,
     "metadata": {},
     "output_type": "execute_result"
    }
   ],
   "source": [
    "# np.where() to substitute the filling_values with the associated mean\n",
    "# for each column. Let's see 1st column (col_0)\n",
    "lend_co_data_num_NAN[:,0] = np.where(lend_co_data_num_NAN[:,0] == temp_max,\n",
    "                                     temp_means[0],\n",
    "                                     lend_co_data_num_NAN[:,0])\n",
    "## Every non-filler val will remain unchanged (lend_co_data_num_NAN[:,0])\n",
    "## E/fill will now contain the mean of the original column (temp_means[0])\n",
    "\n",
    "# New mean of the first column\n",
    "display(np.mean(lend_co_data_num_NAN[:,0]).round(2))\n",
    "(np.mean(lend_co_data_num_NAN[:,0]).round(2) / temp_means[0]).round(2)\n",
    "# Whenever we add the mean of a set to itself, the mean of the new set\n",
    "# stays the same."
   ]
  },
  {
   "cell_type": "code",
   "execution_count": 10,
   "metadata": {},
   "outputs": [
    {
     "data": {
      "text/plain": [
       "array([ 2250.25,    46.11,   365.  ,  3895.99,  5160.75, 16571.44])"
      ]
     },
     "metadata": {},
     "output_type": "display_data"
    },
    {
     "data": {
      "text/plain": [
       "array([ 2250.25,    46.11,   365.  ,  3895.99,  5160.75, 16571.44])"
      ]
     },
     "metadata": {},
     "output_type": "display_data"
    },
    {
     "data": {
      "text/plain": [
       "True"
      ]
     },
     "metadata": {},
     "output_type": "display_data"
    },
    {
     "data": {
      "text/plain": [
       "0"
      ]
     },
     "execution_count": 10,
     "metadata": {},
     "output_type": "execute_result"
    }
   ],
   "source": [
    "# Generalize this transformation for all the columns\n",
    "for i in range(lend_co_data_num_NAN.shape[1]):\n",
    "    lend_co_data_num_NAN[:,i] = np.where(lend_co_data_num_NAN[:,i] == temp_max,\n",
    "                                     temp_means[i],\n",
    "                                     lend_co_data_num_NAN[:,i])\n",
    "\n",
    "## Now all the means are the same as original and have NO NANs\n",
    "new_means = np.mean(lend_co_data_num_NAN, axis=0).round(2)\n",
    "display(new_means, temp_means)\n",
    "display(np.array_equal(new_means, temp_means))\n",
    "np.isnan(lend_co_data_num_NAN).sum()"
   ]
  },
  {
   "cell_type": "code",
   "execution_count": 11,
   "metadata": {},
   "outputs": [
    {
     "data": {
      "text/plain": [
       "array([], dtype=float64)"
      ]
     },
     "metadata": {},
     "output_type": "display_data"
    },
    {
     "data": {
      "text/plain": [
       "0.0"
      ]
     },
     "execution_count": 11,
     "metadata": {},
     "output_type": "execute_result"
    }
   ],
   "source": [
    "# Of course we can use np.where to substitute others values\n",
    "# Ex. if we don't want negatives values in our data set (ex. change for 0)\n",
    "for i in range(lend_co_data_num_NAN.shape[1]):\n",
    "    lend_co_data_num_NAN[:,i] = np.where(lend_co_data_num_NAN[:,i] < 0,\n",
    "                                     0,\n",
    "                                     lend_co_data_num_NAN[:,i])\n",
    "\n",
    "display(lend_co_data_num_NAN[lend_co_data_num_NAN < 0])\n",
    "lend_co_data_num_NAN[lend_co_data_num_NAN < 0].sum()"
   ]
  },
  {
   "cell_type": "markdown",
   "metadata": {},
   "source": [
    "## JM: try to change NANs withou filling val with temp_max\n",
    "### It seems than CANNOT replace the NANs directly ¡??¡¡?"
   ]
  },
  {
   "cell_type": "code",
   "execution_count": 12,
   "metadata": {},
   "outputs": [
    {
     "data": {
      "text/plain": [
       "260"
      ]
     },
     "metadata": {},
     "output_type": "display_data"
    },
    {
     "data": {
      "text/plain": [
       "array([ 2250.25,    46.11,   365.  ,  3895.99,  5160.75, 16571.44])"
      ]
     },
     "metadata": {},
     "output_type": "display_data"
    },
    {
     "data": {
      "text/plain": [
       "array([nan, nan, nan, nan, nan, nan])"
      ]
     },
     "metadata": {},
     "output_type": "display_data"
    },
    {
     "data": {
      "text/plain": [
       "array([ 2250.25,    46.11,   365.  ,  3895.99,  5160.75, 16571.44])"
      ]
     },
     "metadata": {},
     "output_type": "display_data"
    },
    {
     "data": {
      "text/plain": [
       "False"
      ]
     },
     "metadata": {},
     "output_type": "display_data"
    },
    {
     "data": {
      "text/plain": [
       "260"
      ]
     },
     "metadata": {},
     "output_type": "display_data"
    },
    {
     "data": {
      "text/plain": [
       "array([[ 2000.,    40.,   365.,  3121.,  4241., 13621.],\n",
       "       [ 2000.,    40.,   365.,  3061.,  4171., 15041.],\n",
       "       [ 1000.,    40.,   365.,  2160.,  3280., 15340.],\n",
       "       ...,\n",
       "       [   nan,    40.,   365.,  4201.,  5001., 16600.],\n",
       "       [ 1000.,    40.,   365.,  2080.,  3320., 15600.],\n",
       "       [ 2000.,    40.,   365.,  4601.,  4601., 16600.]])"
      ]
     },
     "execution_count": 12,
     "metadata": {},
     "output_type": "execute_result"
    }
   ],
   "source": [
    "# Reload the original dataset with NANs\n",
    "l_NANs = np.genfromtxt('Lending-Company-Numeric-Data-NAN.csv',\n",
    "                       delimiter=';')\n",
    "\n",
    "display(np.isnan(l_NANs).sum())     # 260 NANs in the dataset (ndarray)\n",
    "\n",
    "# Calculate and store the actual - original means for e/column\n",
    "display(original_means := np.nanmean(l_NANs, axis=0).round(2))\n",
    "\n",
    "# Replace the NANs of each col w/its original mean (using for loop)\n",
    "for i in range(l_NANs.shape[1]):\n",
    "    l_NANs[:,i] = np.where(l_NANs[:,i] == np.nan,\n",
    "                           original_means[i],\n",
    "                           l_NANs[:,i])\n",
    "\n",
    "display(new_means := np.mean(l_NANs, axis=0).round(2))\n",
    "display(original_means)\n",
    "display(np.array_equal(original_means, new_means))\n",
    "\n",
    "# Number of NANs in the actual dataset 'l_NANs' \n",
    "display(np.isnan(l_NANs).sum())\n",
    "l_NANs\n"
   ]
  },
  {
   "cell_type": "code",
   "execution_count": 13,
   "metadata": {},
   "outputs": [
    {
     "data": {
      "text/plain": [
       "array([ 1,  2, 99,  4,  5])"
      ]
     },
     "metadata": {},
     "output_type": "display_data"
    },
    {
     "data": {
      "text/plain": [
       "array([1, 2, 0, 4, 5])"
      ]
     },
     "metadata": {},
     "output_type": "display_data"
    },
    {
     "data": {
      "text/plain": [
       "array([1, 2, 0, 4, 5])"
      ]
     },
     "metadata": {},
     "output_type": "display_data"
    },
    {
     "name": "stdout",
     "output_type": "stream",
     "text": [
      "-------------------------------------------------------\n"
     ]
    },
    {
     "data": {
      "text/plain": [
       "array([ 1.,  2., nan,  4.,  5.])"
      ]
     },
     "metadata": {},
     "output_type": "display_data"
    },
    {
     "data": {
      "text/plain": [
       "array([ 1.,  2., nan,  4.,  5.])"
      ]
     },
     "metadata": {},
     "output_type": "display_data"
    },
    {
     "data": {
      "text/plain": [
       "array([ 1.,  2., nan,  4.,  5.])"
      ]
     },
     "metadata": {},
     "output_type": "display_data"
    }
   ],
   "source": [
    "display(a99 := np.array([1,2,99,4,5]))\n",
    "display(a0 := np.where(a99 == 99, 0, a99))\n",
    "display(a99 := np.where(a99 == 99, 0, a99))\n",
    "print('-------------------------------------------------------')\n",
    "display(aNAN := np.array([1,2,np.nan,4,5]))\n",
    "display(a0N := np.where(aNAN == np.nan, 0, aNAN))\n",
    "display(aNAN := np.where(aNAN == np.nan, 0, aNAN))\n"
   ]
  }
 ],
 "metadata": {
  "kernelspec": {
   "display_name": "Python 3",
   "language": "python",
   "name": "python3"
  },
  "language_info": {
   "codemirror_mode": {
    "name": "ipython",
    "version": 3
   },
   "file_extension": ".py",
   "mimetype": "text/x-python",
   "name": "python",
   "nbconvert_exporter": "python",
   "pygments_lexer": "ipython3",
   "version": "3.11.0"
  }
 },
 "nbformat": 4,
 "nbformat_minor": 2
}

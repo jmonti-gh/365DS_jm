{
 "cells": [
  {
   "cell_type": "markdown",
   "metadata": {},
   "source": [
    "# 7 Statistics with NumPy\n",
    "## 7_3 Excercises"
   ]
  },
  {
   "cell_type": "code",
   "execution_count": 1,
   "metadata": {},
   "outputs": [
    {
     "data": {
      "text/plain": [
       "'1.26.2'"
      ]
     },
     "execution_count": 1,
     "metadata": {},
     "output_type": "execute_result"
    }
   ],
   "source": [
    "import numpy as np\n",
    "np.__version__"
   ]
  },
  {
   "cell_type": "code",
   "execution_count": 2,
   "metadata": {},
   "outputs": [],
   "source": [
    "# Functions\n",
    "\n",
    "def show_attr(arrnm: str) -> str:\n",
    "    strout = f' {arrnm}: '\n",
    "\n",
    "    for attr in ('shape', 'ndim', 'size', 'dtype'):     #, 'itemsize'):\n",
    "            arrnm_attr = arrnm + '.' + attr\n",
    "            strout += f'| {attr}: {eval(arrnm_attr)} '\n",
    "\n",
    "    return strout"
   ]
  },
  {
   "cell_type": "markdown",
   "metadata": {},
   "source": [
    "#### 1. When calculating the mean of a 2D array using np.mean(matrix_A), NumPy flattens the array into a 1D array and calculates the mean of all elements.\n",
    "- True\n",
    "- By default, when no axis is specified in np.mean, the function flattens the input array and computes the mean of all the elements in the array. In contrast, specifying an axis will compute the mean along that specific axis (either rows or columns)."
   ]
  },
  {
   "cell_type": "markdown",
   "metadata": {},
   "source": [
    "### 2. Given the following code, what will be the output?\n",
    "- Give your answer rounded to 2 decimal places"
   ]
  },
  {
   "cell_type": "code",
   "execution_count": 3,
   "metadata": {},
   "outputs": [
    {
     "data": {
      "text/plain": [
       "(4.666666666666667, 4.0, 5.666666666666667)"
      ]
     },
     "execution_count": 3,
     "metadata": {},
     "output_type": "execute_result"
    }
   ],
   "source": [
    "14/3, 12/3, 17/3"
   ]
  },
  {
   "cell_type": "code",
   "execution_count": 4,
   "metadata": {},
   "outputs": [
    {
     "name": "stdout",
     "output_type": "stream",
     "text": [
      " A: | shape: (3, 3) | ndim: 2 | size: 9 | dtype: int32 \n"
     ]
    },
    {
     "data": {
      "text/plain": [
       "array([[ 1,  2,  6],\n",
       "       [10,  4,  3],\n",
       "       [ 3,  6,  8]])"
      ]
     },
     "metadata": {},
     "output_type": "display_data"
    },
    {
     "data": {
      "text/plain": [
       "4.0"
      ]
     },
     "execution_count": 4,
     "metadata": {},
     "output_type": "execute_result"
    }
   ],
   "source": [
    "A = np.array([[1,2,6],\n",
    "              [10,4,3],\n",
    "              [3,6,8]])\n",
    "\n",
    "print(show_attr('A'))\n",
    "display(A)\n",
    "\n",
    "result = np.min(np.mean(A, axis=0))\n",
    "np.round(result, 2)"
   ]
  },
  {
   "cell_type": "markdown",
   "metadata": {},
   "source": [
    "#### 3. Given the following code, what will be the output?\n",
    "- Give your answer rounded to 2 decimal places"
   ]
  },
  {
   "cell_type": "code",
   "execution_count": 5,
   "metadata": {},
   "outputs": [
    {
     "data": {
      "text/plain": [
       "5.75"
      ]
     },
     "execution_count": 5,
     "metadata": {},
     "output_type": "execute_result"
    }
   ],
   "source": [
    "23/4"
   ]
  },
  {
   "cell_type": "code",
   "execution_count": 6,
   "metadata": {},
   "outputs": [
    {
     "name": "stdout",
     "output_type": "stream",
     "text": [
      " B: | shape: (3, 4) | ndim: 2 | size: 12 | dtype: int32 \n"
     ]
    },
    {
     "data": {
      "text/plain": [
       "array([[4, 2, 0, 5],\n",
       "       [9, 5, 3, 6],\n",
       "       [3, 6, 8, 5]])"
      ]
     },
     "metadata": {},
     "output_type": "display_data"
    },
    {
     "data": {
      "text/plain": [
       "5.75"
      ]
     },
     "execution_count": 6,
     "metadata": {},
     "output_type": "execute_result"
    }
   ],
   "source": [
    "B = np.array([[4,2,0,5],\n",
    "              [9,5,3,6],\n",
    "              [3,6,8,5]])\n",
    "\n",
    "print(show_attr('B'))\n",
    "display(B)\n",
    "\n",
    "r1 = np.maximum(B[0], B[-1])\n",
    "np.mean(r1)"
   ]
  },
  {
   "cell_type": "markdown",
   "metadata": {},
   "source": [
    "#### Given that the variable matrix is a 2D NumPy array, categorize the following NumPy functions based on the type of output they would produce - a single number, or a list/array.\n",
    "- Single number:\n",
    "    - np.percentile(matrix, 0.2)\n",
    "    - np.amax(matrix)\n",
    "    - np.ptp(matrix[0])\n",
    "    - np.min(np.mean(matrix, axis=0))\n",
    "- Array:\n",
    "    - np.minumun.reduce(matrix)\n",
    "    - np.mean(matrix, axis=0)\n",
    "    - np.ptp(matriz, axis=0)"
   ]
  },
  {
   "cell_type": "code",
   "execution_count": 7,
   "metadata": {},
   "outputs": [
    {
     "data": {
      "text/plain": [
       "array([[ 1,  2,  6],\n",
       "       [10,  4,  3],\n",
       "       [ 3,  6,  8]])"
      ]
     },
     "metadata": {},
     "output_type": "display_data"
    },
    {
     "data": {
      "text/plain": [
       "1.016"
      ]
     },
     "metadata": {},
     "output_type": "display_data"
    },
    {
     "data": {
      "text/plain": [
       "2.6"
      ]
     },
     "metadata": {},
     "output_type": "display_data"
    },
    {
     "data": {
      "text/plain": [
       "10"
      ]
     },
     "metadata": {},
     "output_type": "display_data"
    },
    {
     "data": {
      "text/plain": [
       "9"
      ]
     },
     "metadata": {},
     "output_type": "display_data"
    },
    {
     "data": {
      "text/plain": [
       "4.0"
      ]
     },
     "metadata": {},
     "output_type": "display_data"
    }
   ],
   "source": [
    "# Single number\n",
    "display(A)\n",
    "display(np.percentile(A, 0.2))\n",
    "display(np.percentile(A, 20))\n",
    "display(np.amax(A))\n",
    "display(np.ptp(A))\n",
    "display(np.min(np.mean(A, axis=0)))\n"
   ]
  },
  {
   "cell_type": "code",
   "execution_count": 8,
   "metadata": {},
   "outputs": [
    {
     "data": {
      "text/plain": [
       "array([10,  6,  8])"
      ]
     },
     "metadata": {},
     "output_type": "display_data"
    },
    {
     "data": {
      "text/plain": [
       "array([4.66666667, 4.        , 5.66666667])"
      ]
     },
     "metadata": {},
     "output_type": "display_data"
    },
    {
     "data": {
      "text/plain": [
       "array([9, 4, 5])"
      ]
     },
     "metadata": {},
     "output_type": "display_data"
    }
   ],
   "source": [
    "# Array\n",
    "display(np.maximum.reduce(A))\n",
    "display(np.mean(A, axis=0))\n",
    "display(np.ptp(A, axis=0))"
   ]
  },
  {
   "cell_type": "code",
   "execution_count": 25,
   "metadata": {},
   "outputs": [
    {
     "name": "stdout",
     "output_type": "stream",
     "text": [
      " C: | shape: (3, 4) | ndim: 2 | size: 12 | dtype: int32 \n"
     ]
    },
    {
     "data": {
      "text/plain": [
       "array([[4, 2, 0, 5],\n",
       "       [9, 5, 3, 6],\n",
       "       [3, 6, 8, 5]])"
      ]
     },
     "metadata": {},
     "output_type": "display_data"
    },
    {
     "data": {
      "text/plain": [
       "array([3, 2, 0, 5])"
      ]
     },
     "metadata": {},
     "output_type": "display_data"
    },
    {
     "data": {
      "text/plain": [
       "array([3, 2, 0, 5])"
      ]
     },
     "metadata": {},
     "output_type": "display_data"
    }
   ],
   "source": [
    "# Bit more on .reduce\n",
    "C = np.array([[4,2,0,5],\n",
    "              [9,5,3,6],\n",
    "              [3,6,8,5]])\n",
    "\n",
    "print(show_attr('C'))\n",
    "display(C)\n",
    "\n",
    "display(np.minimum.reduce(C))   # minimum in each col of the 3 rows\n",
    "display(np.min(C, axis=0))"
   ]
  },
  {
   "cell_type": "code",
   "execution_count": 26,
   "metadata": {},
   "outputs": [
    {
     "data": {
      "text/plain": [
       "array([0, 3, 3])"
      ]
     },
     "metadata": {},
     "output_type": "display_data"
    },
    {
     "data": {
      "text/plain": [
       "array([0, 3, 3])"
      ]
     },
     "metadata": {},
     "output_type": "display_data"
    }
   ],
   "source": [
    "# .reduce between columns\n",
    "display(np.minimum.reduce(C, axis=1))   # minimum in each col of the 3 rows\n",
    "display(np.min(C, axis=1))"
   ]
  },
  {
   "cell_type": "markdown",
   "metadata": {},
   "source": [
    "Statistics - Order statistics\n",
    "\n",
    "ptp(a[, axis, out, keepdims])\n",
    "Range of values (maximum - minimum) along an axis.\n",
    "\n",
    "percentile(a, q[, axis, out, ...])\n",
    "Compute the q-th percentile of the data along the specified axis.\n",
    "\n",
    "nanpercentile(a, q[, axis, out, ...])\n",
    "Compute the qth percentile of the data along the specified axis, while ignoring nan values.\n",
    "\n",
    "quantile(a, q[, axis, out, overwrite_input, ...])\n",
    "Compute the q-th quantile of the data along the specified axis.\n",
    "\n",
    "nanquantile(a, q[, axis, out, ...])\n",
    "Compute the qth quantile of the data along the specified axis, while ignoring nan values."
   ]
  }
 ],
 "metadata": {
  "kernelspec": {
   "display_name": "Python 3",
   "language": "python",
   "name": "python3"
  },
  "language_info": {
   "codemirror_mode": {
    "name": "ipython",
    "version": 3
   },
   "file_extension": ".py",
   "mimetype": "text/x-python",
   "name": "python",
   "nbconvert_exporter": "python",
   "pygments_lexer": "ipython3",
   "version": "3.11.4"
  }
 },
 "nbformat": 4,
 "nbformat_minor": 2
}

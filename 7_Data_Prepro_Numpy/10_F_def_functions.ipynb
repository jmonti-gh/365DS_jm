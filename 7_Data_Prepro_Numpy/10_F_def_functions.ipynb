{
 "cells": [
  {
   "cell_type": "markdown",
   "metadata": {},
   "source": [
    "# Appendix 1 - Functions\n",
    "- https://docs.python.org/3/library/string.html#format-specification-mini-language\n",
    "- https://realpython.com/python-f-strings/"
   ]
  },
  {
   "cell_type": "markdown",
   "metadata": {},
   "source": [
    "[## 0. Import Libraries](#0-import-libraries)    \n",
    "[## 1. show_attr function](#1-show_attr-function)    \n",
    "[## 2. show_thsep function](#2-show_thsep-function)    \n",
    "[## 3. show_tharrsep function](#3-show_tharrsep-function)"
   ]
  },
  {
   "cell_type": "markdown",
   "metadata": {},
   "source": [
    "## 0. Import Libraries"
   ]
  },
  {
   "cell_type": "code",
   "execution_count": 1,
   "metadata": {},
   "outputs": [],
   "source": [
    "import numpy as np\n",
    "np.__version__\n",
    "np.set_printoptions(suppress=True, linewidth=100)\n",
    "# np.set_printoptions(suppress=True, linewidth=100, precision=2)\n",
    "\n",
    "import numpy"
   ]
  },
  {
   "cell_type": "code",
   "execution_count": 2,
   "metadata": {},
   "outputs": [],
   "source": [
    "# Create some test arrays\n",
    "int_arange = np.arange(15).reshape(3,5)\n",
    "float_rand = np.round(np.random.random(size=(3,5)) * 500_000, 2)\n",
    "int_rand = np.random.randint(10, 40, size=(3,5))\n",
    "float_arange = np.arange(10000, 10045, 3, dtype=np.float32).reshape(3,5)\n",
    "\n",
    "arr_1D = float_rand[1]\n",
    "arr_3D = np.array([float_arange, float_rand])\n",
    "\n",
    "# display(int_arange, float_rand, int_rand, float_arange, arr_1D, arr_3D)\n"
   ]
  },
  {
   "cell_type": "markdown",
   "metadata": {},
   "source": [
    "## 1. show_attr function"
   ]
  },
  {
   "cell_type": "markdown",
   "metadata": {},
   "source": [
    "[# Appendix 1 - Functions](#appendix-1---functions)"
   ]
  },
  {
   "cell_type": "code",
   "execution_count": 3,
   "metadata": {},
   "outputs": [],
   "source": [
    "# Function show_attr def\n",
    "\n",
    "def show_attr(arrnm: str) -> str:\n",
    "    ''' Show numpy ndarray principal attributes\n",
    "    \n",
    "    arrnm: array name. Must exist en the main program body\n",
    "    --> CAN NOT be call inside other function\n",
    "    '''\n",
    "    \n",
    "    if not isinstance(arrnm, str):\n",
    "          return '-> show_attr() >> ERROR: argument must be an string!'\n",
    "    \n",
    "    strout = f' {arrnm}: '\n",
    "    for attr in ('shape', 'ndim', 'size', 'dtype'):     #, 'itemsize'):\n",
    "            arrnm_attr = arrnm + '.' + attr\n",
    "            strout += f'| {attr}: {eval(arrnm_attr)} '\n",
    "\n",
    "    return strout"
   ]
  },
  {
   "cell_type": "code",
   "execution_count": 4,
   "metadata": {},
   "outputs": [
    {
     "data": {
      "text/plain": [
       "' int_rand: | shape: (3, 5) | ndim: 2 | size: 15 | dtype: int32 '"
      ]
     },
     "metadata": {},
     "output_type": "display_data"
    }
   ],
   "source": [
    "# show_attr test\n",
    "display(show_attr('int_rand'))\n",
    "# display(show_attr(int_rand))    # '--> show_attr() >> ERROR: argument must be an string!'\n",
    "# show_attr?"
   ]
  },
  {
   "cell_type": "code",
   "execution_count": 5,
   "metadata": {},
   "outputs": [],
   "source": [
    "# Shapes and attributes\n",
    "# display(arr_1D, show_attr('arr_1D'))\n",
    "# display(arr_1D)\n",
    "# arr_1D = np.reshape(arr_1D, (5,1))\n",
    "# display(arr_1D, show_attr('arr_1D'))"
   ]
  },
  {
   "cell_type": "markdown",
   "metadata": {},
   "source": [
    "## 2. show_thsep function"
   ]
  },
  {
   "cell_type": "markdown",
   "metadata": {},
   "source": [
    "[# Appendix 1 - Functions](#appendix-1---functions)"
   ]
  },
  {
   "cell_type": "code",
   "execution_count": 6,
   "metadata": {},
   "outputs": [],
   "source": [
    "# Function show_thsep\n",
    "\n",
    "def show_thsep(num: float, sep: str = ',') -> str:\n",
    "    '''Show a number as str with thousands separator\n",
    "    \n",
    "    num: a real number (int or float)\n",
    "    sep: separator, valid are: ','or '_'.\n",
    "    '''\n",
    "    try:\n",
    "        out = f'{num:{sep}}'\n",
    "    except ValueError as ve:\n",
    "        return f'-> show_thsep() > ValueError({ve})'\n",
    "    except TypeError as te:\n",
    "        msg = '-> show_thsep() > TypeError: '\n",
    "        msg += f'argument must be a number not a {type(num)}'\n",
    "        msg += f'({te})'\n",
    "        return msg\n",
    "    except Exception as e:\n",
    "        return f'-> show_thsep() > ERROR({e})'\n",
    " \n",
    "    return out"
   ]
  },
  {
   "cell_type": "code",
   "execution_count": 7,
   "metadata": {},
   "outputs": [],
   "source": [
    "# display(n := 98723948759.1234560001)\n",
    "# # display(n := np.pi)\n",
    "# # display(n := 98723948759)\n",
    "# display(f'{n:,}')\n",
    "# show_thsep(n)\n"
   ]
  },
  {
   "cell_type": "code",
   "execution_count": 8,
   "metadata": {},
   "outputs": [],
   "source": [
    "# show_thsep?"
   ]
  },
  {
   "cell_type": "code",
   "execution_count": 9,
   "metadata": {},
   "outputs": [
    {
     "data": {
      "text/plain": [
       "'98723948759.34354'"
      ]
     },
     "metadata": {},
     "output_type": "display_data"
    },
    {
     "data": {
      "text/plain": [
       "\"-> show_thsep() > ValueError(Cannot specify ',' with 's'.)\""
      ]
     },
     "metadata": {},
     "output_type": "display_data"
    },
    {
     "data": {
      "text/plain": [
       "98723948759.34354"
      ]
     },
     "metadata": {},
     "output_type": "display_data"
    },
    {
     "data": {
      "text/plain": [
       "\"-> show_thsep() > ValueError(Unknown format code '|' for object of type 'float')\""
      ]
     },
     "metadata": {},
     "output_type": "display_data"
    },
    {
     "data": {
      "text/plain": [
       "\"-> show_thsep() > TypeError: argument must be a number not a <class 'NoneType'>(unsupported format string passed to NoneType.__format__)\""
      ]
     },
     "metadata": {},
     "output_type": "display_data"
    },
    {
     "data": {
      "text/plain": [
       "98723948759.34354"
      ]
     },
     "metadata": {},
     "output_type": "display_data"
    },
    {
     "data": {
      "text/plain": [
       "'98,723,948,759.34354'"
      ]
     },
     "metadata": {},
     "output_type": "display_data"
    },
    {
     "data": {
      "text/plain": [
       "5"
      ]
     },
     "metadata": {},
     "output_type": "display_data"
    },
    {
     "data": {
      "text/plain": [
       "'5'"
      ]
     },
     "metadata": {},
     "output_type": "display_data"
    },
    {
     "data": {
      "text/plain": [
       "47.825"
      ]
     },
     "metadata": {},
     "output_type": "display_data"
    },
    {
     "data": {
      "text/plain": [
       "'47.825'"
      ]
     },
     "metadata": {},
     "output_type": "display_data"
    },
    {
     "data": {
      "text/plain": [
       "0.4512"
      ]
     },
     "metadata": {},
     "output_type": "display_data"
    },
    {
     "data": {
      "text/plain": [
       "'0.4512'"
      ]
     },
     "metadata": {},
     "output_type": "display_data"
    },
    {
     "data": {
      "text/plain": [
       "250327.63"
      ]
     },
     "metadata": {},
     "output_type": "display_data"
    },
    {
     "data": {
      "text/plain": [
       "'250,327.63'"
      ]
     },
     "metadata": {},
     "output_type": "display_data"
    }
   ],
   "source": [
    "# # show_thsep test\n",
    "display(n := '98723948759.34354')\n",
    "display(show_thsep(n))         # '-> show_thseps() >> ERROR: argument must be a number (int or float)'\n",
    "\n",
    "display(n := 98723948759.34354)\n",
    "display(show_thsep(n, '|'))    # \"-> show_thseps() >> ERROR: sep must be ';', '_', or ':'\"\n",
    "\n",
    "display(show_thsep(None))\n",
    "\n",
    "display(n := 98723948759.34354)\n",
    "display(show_thsep(n))\n",
    "\n",
    "display(n := 5)\n",
    "display(show_thsep(n))    \n",
    "\n",
    "display(n := 47.825)\n",
    "display(show_thsep(n))   \n",
    "\n",
    "display(n := 00.4512)\n",
    "display(show_thsep(n))   \n",
    "\n",
    "display(n := 250327.63)\n",
    "display(show_thsep(n))    "
   ]
  },
  {
   "cell_type": "markdown",
   "metadata": {},
   "source": [
    "## 3. show_tharrsep function"
   ]
  },
  {
   "cell_type": "markdown",
   "metadata": {},
   "source": [
    "[# Appendix 1 - Functions](#appendix-1---functions)"
   ]
  },
  {
   "cell_type": "code",
   "execution_count": 10,
   "metadata": {},
   "outputs": [],
   "source": [
    "# function show_tharr()\n",
    "\n",
    "def show_tharrsep(arr: np.ndarray, sep: str = '_') -> np.ndarray[str]:\n",
    "    '''Show numeric elements as str with thousands\n",
    "    separator within a numpy array\n",
    "    \n",
    "    arr: numpy ndarray genuine dims valid: [0,1,2,3]\n",
    "    sep: separator, valid are: ',' or '_' (default)\n",
    "    '''\n",
    "    if not isinstance(arr, np.ndarray):\n",
    "        return \"-> show_tharrsep() > ERROR: argument not an np.ndarray\"\n",
    "    \n",
    "    arr = arr.squeeze()     # for cases w/artificial dims\n",
    "    if arr.ndim > 3:\n",
    "        return \"-> show_tharrsep() > ERROR: array whose dimensions exceed three\"\n",
    "    \n",
    "    arr = np.atleast_3d(arr)\n",
    "    ret_arr = np.ones_like(arr, dtype='>U32')\n",
    "    for tbl in range(arr.shape[0]):\n",
    "        for row in range(arr.shape[1]):\n",
    "            for col in range(arr.shape[2]):\n",
    "                ret_arr[tbl, row, col] = show_thsep(arr[tbl, row, col],\n",
    "                                                    sep=sep)\n",
    "\n",
    "    return ret_arr.squeeze()"
   ]
  },
  {
   "cell_type": "code",
   "execution_count": 11,
   "metadata": {},
   "outputs": [
    {
     "data": {
      "text/plain": [
       "array([[[ 10000.  ,  10003.  ,  10006.  ,  10009.  ,  10012.  ],\n",
       "        [ 10015.  ,  10018.  ,  10021.  ,  10024.  ,  10027.  ],\n",
       "        [ 10030.  ,  10033.  ,  10036.  ,  10039.  ,  10042.  ]],\n",
       "\n",
       "       [[ 88767.14, 483961.25,  35060.98, 139924.01, 371990.18],\n",
       "        [249328.2 , 144418.11, 267945.61,  16777.97, 197182.15],\n",
       "        [ 55592.87, 489350.13, 199264.96, 445192.7 , 454143.82]]])"
      ]
     },
     "metadata": {},
     "output_type": "display_data"
    },
    {
     "name": "stdout",
     "output_type": "stream",
     "text": [
      " a6: | shape: (2, 2, 3, 5) | ndim: 4 | size: 60 | dtype: float64 \n"
     ]
    },
    {
     "data": {
      "text/plain": [
       "'-> show_tharrsep() > ERROR: array whose dimensions exceed three'"
      ]
     },
     "execution_count": 11,
     "metadata": {},
     "output_type": "execute_result"
    }
   ],
   "source": [
    "display(arr_3D)\n",
    "# a6 = np.array([arr_3D], [arr_3D])\n",
    "a6 = np.stack((arr_3D, arr_3D))\n",
    "print(show_attr('a6'))\n",
    "show_tharrsep(a6)"
   ]
  },
  {
   "cell_type": "code",
   "execution_count": 12,
   "metadata": {},
   "outputs": [
    {
     "data": {
      "text/plain": [
       "array([[100000., 100005., 100010., 100015., 100020.],\n",
       "       [100025., 100030., 100035., 100040., 100045.]])"
      ]
     },
     "metadata": {},
     "output_type": "display_data"
    },
    {
     "data": {
      "text/plain": [
       "array([['100_000.0', '100_005.0', '100_010.0', '100_015.0', '100_020.0'],\n",
       "       ['100_025.0', '100_030.0', '100_035.0', '100_040.0', '100_045.0']], dtype='>U32')"
      ]
     },
     "execution_count": 12,
     "metadata": {},
     "output_type": "execute_result"
    }
   ],
   "source": [
    "arr_pru = np.arange(100000, 100050, 5, dtype=float).reshape(2,5)\n",
    "display(arr_pru)\n",
    "show_tharrsep(arr_pru)"
   ]
  },
  {
   "cell_type": "code",
   "execution_count": 13,
   "metadata": {},
   "outputs": [
    {
     "data": {
      "text/plain": [
       "array([['88_767.14', '483_961.25', '35_060.98', '139_924.01', '371_990.18'],\n",
       "       ['249_328.2', '144_418.11', '267_945.61', '16_777.97', '197_182.15'],\n",
       "       ['55_592.87', '489_350.13', '199_264.96', '445_192.7', '454_143.82']], dtype='>U32')"
      ]
     },
     "metadata": {},
     "output_type": "display_data"
    },
    {
     "data": {
      "text/plain": [
       "array(['249_328.2', '144_418.11', '267_945.61', '16_777.97', '197_182.15'], dtype='>U32')"
      ]
     },
     "metadata": {},
     "output_type": "display_data"
    },
    {
     "data": {
      "text/plain": [
       "array([[['10_000.0', '10_003.0', '10_006.0', '10_009.0', '10_012.0'],\n",
       "        ['10_015.0', '10_018.0', '10_021.0', '10_024.0', '10_027.0'],\n",
       "        ['10_030.0', '10_033.0', '10_036.0', '10_039.0', '10_042.0']],\n",
       "\n",
       "       [['88_767.14', '483_961.25', '35_060.98', '139_924.01', '371_990.18'],\n",
       "        ['249_328.2', '144_418.11', '267_945.61', '16_777.97', '197_182.15'],\n",
       "        ['55_592.87', '489_350.13', '199_264.96', '445_192.7', '454_143.82']]], dtype='>U32')"
      ]
     },
     "metadata": {},
     "output_type": "display_data"
    },
    {
     "data": {
      "text/plain": [
       "array(['88,767.14', '483,961.25', '35,060.98', '139,924.01', '371,990.18'], dtype='>U32')"
      ]
     },
     "metadata": {},
     "output_type": "display_data"
    },
    {
     "data": {
      "text/plain": [
       "array('587_663.787', dtype='>U32')"
      ]
     },
     "metadata": {},
     "output_type": "display_data"
    },
    {
     "data": {
      "text/plain": [
       "'-> show_tharrsep() > ERROR: argument not an np.ndarray'"
      ]
     },
     "metadata": {},
     "output_type": "display_data"
    }
   ],
   "source": [
    "display(show_tharrsep(float_rand))\n",
    "display(show_tharrsep(arr_1D))\n",
    "display(show_tharrsep(arr_3D))\n",
    "display(show_tharrsep(float_rand[0], sep=','))\n",
    "display(show_tharrsep(np.array([[[[[587663.787]]]]])))\n",
    "display(show_tharrsep(587663.787))"
   ]
  },
  {
   "cell_type": "code",
   "execution_count": null,
   "metadata": {},
   "outputs": [],
   "source": []
  },
  {
   "cell_type": "code",
   "execution_count": null,
   "metadata": {},
   "outputs": [],
   "source": []
  },
  {
   "cell_type": "code",
   "execution_count": null,
   "metadata": {},
   "outputs": [],
   "source": []
  },
  {
   "cell_type": "markdown",
   "metadata": {},
   "source": [
    "## OLD - versions"
   ]
  },
  {
   "cell_type": "code",
   "execution_count": 14,
   "metadata": {},
   "outputs": [],
   "source": [
    "# Function show_thsep\n",
    "\n",
    "def show_thsepV(num: float, sep: str = ',') -> str:\n",
    "    '''Show a number as str with thousands separator\n",
    "    \n",
    "    num: a real number (int or float)\n",
    "    sep: separator, valid are: ','or '_'.\n",
    "    '''\n",
    "\n",
    "    if not (isinstance(num, int) or isinstance(num, float) or\n",
    "        isinstance(num, np.number)):\n",
    "        return f'-> show_thsep() >> ERROR: argument must be \\\n",
    "a number not a {type(num)}'\n",
    "    \n",
    "    if not (sep == ',' or sep == '_'):\n",
    "        return \"-> show_thsep() >> ERROR: sep must be ',' or '_'\"\n",
    " \n",
    "    return f'{num:{sep}}'"
   ]
  },
  {
   "cell_type": "code",
   "execution_count": 15,
   "metadata": {},
   "outputs": [],
   "source": [
    "# Function show_attr def\n",
    "\n",
    "def show_attrV(arrnm: str) -> str:\n",
    "    ''' Show numpy ndarray principal attributes\n",
    "    \n",
    "    arrnm: array name. Must exist en the main program body\n",
    "    --> CAN NOT be call inside other function\n",
    "    '''\n",
    "    \n",
    "    if not isinstance(arrnm, str):\n",
    "          return '-> show_attr() >> ERROR: argument must be an string!'\n",
    "    \n",
    "    strout = f' {arrnm}: '\n",
    "    for attr in ('shape', 'ndim', 'size', 'dtype'):     #, 'itemsize'):\n",
    "            arrnm_attr = arrnm + '.' + attr\n",
    "            strout += f'| {attr}: {eval(arrnm_attr)} '\n",
    "\n",
    "    return strout"
   ]
  },
  {
   "cell_type": "code",
   "execution_count": 16,
   "metadata": {},
   "outputs": [],
   "source": [
    "# Function show_attr def\n",
    "\n",
    "def show_attrV(arr: np.ndarray) -> str:\n",
    "      ''' Show numpy ndarray principal attributes\n",
    "       \n",
    "      arrnm: array name. Must exist en the main program body\n",
    "      --> CAN NOT be call inside other function\n",
    "      '''\n",
    "    \n",
    "      if not isinstance(arr, np.ndarray):\n",
    "            return '-> show_attr() >> ERROR: argument must be an string!'\n",
    "\n",
    "      strout = f'{arr=}'[:f'{arr=}'.find('=')]\n",
    "      strout += f'| .shape: {arr.shape} '\n",
    "      strout += f'| .ndim: {arr.ndim} '\n",
    "      strout += f'| .size: {arr.size} '\n",
    "      strout += f'| .dtype: {arr.dtype} '\n",
    "\n",
    "      return strout"
   ]
  },
  {
   "cell_type": "code",
   "execution_count": 17,
   "metadata": {},
   "outputs": [
    {
     "name": "stdout",
     "output_type": "stream",
     "text": [
      "var= 'Solo una var'\n"
     ]
    },
    {
     "data": {
      "text/plain": [
       "'var'"
      ]
     },
     "execution_count": 17,
     "metadata": {},
     "output_type": "execute_result"
    }
   ],
   "source": [
    "var = 'Solo una var'\n",
    "# ix = f'{var=}'.find('=')\n",
    "# f'{var=}'[:ix]\n",
    "print(f'{var= }')\n",
    "f'{var=}'[:f'{var=}'.find('=')]\n",
    "\n",
    "\n",
    "# f'{int_rand = }'\n"
   ]
  },
  {
   "cell_type": "code",
   "execution_count": 18,
   "metadata": {},
   "outputs": [],
   "source": [
    "# Function show_thsep\n",
    "\n",
    "def show_thsepV(num: float, sep: str = ',') -> str:\n",
    "    '''Show num as str with thousands separator\n",
    "    \n",
    "    num: a real number (int or float)\n",
    "    sep: separator, valid are: ';', '_', or ':'\n",
    "    '''\n",
    "\n",
    "    if not (isinstance(num, int) or isinstance(num, float) or\n",
    "        isinstance(num, np.number)):\n",
    "        return f'-> show_thsep() >> ERROR: argument must be \\\n",
    "a number not a {type(num)}'\n",
    "    \n",
    "    if not (sep == ',' or sep == '_'):\n",
    "        return \"-> show_thsep() >> ERROR: sep must be ',' or '_'\"\n",
    "\n",
    "    n_str = str(num)\n",
    "    dec_ix = n_str.find('.')        # decimal sep index\n",
    "    if dec_ix > -1:                 # dec_part exist\n",
    "        dec_part = n_str[dec_ix:]\n",
    "        int_pr = n_str[:dec_ix][::-1]\n",
    "    else:                           # there's no dec_part\n",
    "        dec_part = ''\n",
    "        int_pr = n_str[::-1]\n",
    "\n",
    "    int_part = ''\n",
    "    for dig in range(len(int_pr)):  # for e/digit in int_pr\n",
    "        int_part += int_pr[dig]\n",
    "        # every 3 dig add sep but not for the last (1st not-reversed)\n",
    "        if (dig + 1) % 3 == 0 and dig != (len(int_pr) - 1):\n",
    "            int_part += sep\n",
    "    \n",
    "    return int_part[::-1] + dec_part"
   ]
  },
  {
   "cell_type": "code",
   "execution_count": 19,
   "metadata": {},
   "outputs": [],
   "source": [
    "# OLD w_out np.atleast_3d\n",
    "def show_tharr(arr: np.ndarray, sep: str = '_') -> np.ndarray[str]:\n",
    "\n",
    "    if not isinstance(arr, np.ndarray):\n",
    "        return \"-> show_tharrsep >> ERROR: not an np.ndarray\"\n",
    "    \n",
    "    arr = arr.squeeze()     # for cases w/artificial dims\n",
    "\n",
    "    if arr.ndim == 0:\n",
    "        arr = np.reshape(arr, (1, 1, 1))\n",
    "    elif arr.ndim == 1:\n",
    "        arr = np.reshape(arr, (1, 1, arr.shape[0]))\n",
    "    elif arr.ndim == 2:\n",
    "        arr = np.reshape(arr, (1, arr.shape[0], arr.shape[1]))\n",
    "    elif arr.ndim > 3:\n",
    "        print(\"-> show_tharrsep >> ERROR: array ndim out of range\")\n",
    "\n",
    "    ret_arr = np.ones_like(arr, dtype='>U32')\n",
    "    for tbl in range(arr.shape[0]):\n",
    "        for row in range(arr.shape[1]):\n",
    "            for col in range(arr.shape[2]):\n",
    "                ret_arr[tbl, row, col] = show_thsep(arr[tbl, row, col],\n",
    "                                                    sep=sep)\n",
    "\n",
    "    return ret_arr.squeeze()\n"
   ]
  },
  {
   "cell_type": "code",
   "execution_count": 20,
   "metadata": {},
   "outputs": [
    {
     "data": {
      "text/plain": [
       "array(150000.7)"
      ]
     },
     "metadata": {},
     "output_type": "display_data"
    },
    {
     "name": "stdout",
     "output_type": "stream",
     "text": [
      " cero: | shape: () | ndim: 0 | size: 1 | dtype: float64 \n"
     ]
    },
    {
     "data": {
      "text/plain": [
       "array([1.00000000e+00, 2.00000001e+08, 3.00000000e+00])"
      ]
     },
     "metadata": {},
     "output_type": "display_data"
    },
    {
     "name": "stdout",
     "output_type": "stream",
     "text": [
      " one: | shape: (3,) | ndim: 1 | size: 3 | dtype: float64 \n"
     ]
    },
    {
     "data": {
      "text/plain": [
       "array([[[[[ 10000.  ,      2.  ,   3000.76],\n",
       "          [     4.  , 500000.98,      6.  ]]]]])"
      ]
     },
     "metadata": {},
     "output_type": "display_data"
    },
    {
     "name": "stdout",
     "output_type": "stream",
     "text": [
      " two: | shape: (1, 1, 1, 2, 3) | ndim: 5 | size: 6 | dtype: float64 \n"
     ]
    },
    {
     "data": {
      "text/plain": [
       "array([['10_000.0', '2.0', '3_000.76'],\n",
       "       ['4.0', '500_000.98', '6.0']], dtype='>U32')"
      ]
     },
     "metadata": {},
     "output_type": "display_data"
    },
    {
     "name": "stdout",
     "output_type": "stream",
     "text": [
      " t: | shape: (2, 3) | ndim: 2 | size: 6 | dtype: >U32 \n"
     ]
    }
   ],
   "source": [
    "display(cero := np.array(150000.7))\n",
    "print(show_attr('cero'))\n",
    "\n",
    "display(one := np.array([1,200000000.986,3]))\n",
    "print(show_attr('one'))\n",
    "\n",
    "display(two := np.array([[[[[10000,2,3000.76], [4,500000.98,6]]]]]))\n",
    "print(show_attr('two'))\n",
    "\n",
    "display(t := show_tharr(two))\n",
    "print(show_attr('t'))"
   ]
  }
 ],
 "metadata": {
  "kernelspec": {
   "display_name": "Python 3",
   "language": "python",
   "name": "python3"
  },
  "language_info": {
   "codemirror_mode": {
    "name": "ipython",
    "version": 3
   },
   "file_extension": ".py",
   "mimetype": "text/x-python",
   "name": "python",
   "nbconvert_exporter": "python",
   "pygments_lexer": "ipython3",
   "version": "3.11.4"
  }
 },
 "nbformat": 4,
 "nbformat_minor": 2
}

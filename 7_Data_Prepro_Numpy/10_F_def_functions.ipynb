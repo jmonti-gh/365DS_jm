{
 "cells": [
  {
   "cell_type": "markdown",
   "metadata": {},
   "source": [
    "# Appendix 1 - Functions\n",
    "- https://docs.python.org/3/library/string.html#format-specification-mini-language\n",
    "- https://realpython.com/python-f-strings/"
   ]
  },
  {
   "cell_type": "markdown",
   "metadata": {},
   "source": [
    "[## 0. Import Libraries](#0-import-libraries)    \n",
    "[## 1. show_attr function](#1-show_attr-function)    \n",
    "[## 2. show_thsep function](#2-show_thsep-function)    \n",
    "[## 3. show_tharrsep function](#3-show_tharrsep-function)"
   ]
  },
  {
   "cell_type": "markdown",
   "metadata": {},
   "source": [
    "## 0. Import Libraries"
   ]
  },
  {
   "cell_type": "code",
   "execution_count": 23,
   "metadata": {},
   "outputs": [],
   "source": [
    "import numpy as np\n",
    "np.__version__\n",
    "np.set_printoptions(suppress=True, linewidth=100)\n",
    "# np.set_printoptions(suppress=True, linewidth=100, precision=2)\n",
    "\n",
    "import numpy"
   ]
  },
  {
   "cell_type": "code",
   "execution_count": 24,
   "metadata": {},
   "outputs": [],
   "source": [
    "# Create some test arrays\n",
    "int_arange = np.arange(15).reshape(3,5)\n",
    "float_rand = np.round(np.random.random(size=(3,5)) * 500_000, 2)\n",
    "int_rand = np.random.randint(10, 40, size=(3,5))\n",
    "float_arange = np.arange(10000, 10045, 3, dtype=np.float32).reshape(3,5)\n",
    "\n",
    "arr_1D = float_rand[1]\n",
    "arr_3D = np.array([float_arange, float_rand])\n",
    "\n",
    "# display(int_arange, float_rand, int_rand, float_arange, arr_1D, arr_3D)\n"
   ]
  },
  {
   "cell_type": "markdown",
   "metadata": {},
   "source": [
    "## 1. show_attr function"
   ]
  },
  {
   "cell_type": "markdown",
   "metadata": {},
   "source": [
    "[# Appendix 1 - Functions](#appendix-1---functions)"
   ]
  },
  {
   "cell_type": "code",
   "execution_count": 49,
   "metadata": {},
   "outputs": [],
   "source": [
    "# Function show_attr def\n",
    "\n",
    "def show_attr(arrnm: str) -> str:\n",
    "    ''' Show numpy ndarray principal attributes\n",
    "    \n",
    "    arrnm: array name. Must exist en the main program body\n",
    "    --> CAN NOT be call inside other function\n",
    "    '''\n",
    "    \n",
    "    if not isinstance(arrnm, str):\n",
    "          return '-> show_attr() >> ERROR: argument must be an string!'\n",
    "    \n",
    "    strout = f' {arrnm}: '\n",
    "    for attr in ('shape', 'ndim', 'size', 'dtype'):     #, 'itemsize'):\n",
    "            arrnm_attr = arrnm + '.' + attr\n",
    "            strout += f'| {attr}: {eval(arrnm_attr)} '\n",
    "\n",
    "    return strout"
   ]
  },
  {
   "cell_type": "code",
   "execution_count": 50,
   "metadata": {},
   "outputs": [
    {
     "data": {
      "text/plain": [
       "' int_rand: | shape: (3, 5) | ndim: 2 | size: 15 | dtype: int32 '"
      ]
     },
     "metadata": {},
     "output_type": "display_data"
    }
   ],
   "source": [
    "# show_attr test\n",
    "display(show_attr('int_rand'))\n",
    "# display(show_attr(int_rand))    # '--> show_attr() >> ERROR: argument must be an string!'\n",
    "# show_attr?"
   ]
  },
  {
   "cell_type": "code",
   "execution_count": 27,
   "metadata": {},
   "outputs": [],
   "source": [
    "# Shapes and attributes\n",
    "# display(arr_1D, show_attr('arr_1D'))\n",
    "# display(arr_1D)\n",
    "# arr_1D = np.reshape(arr_1D, (5,1))\n",
    "# display(arr_1D, show_attr('arr_1D'))"
   ]
  },
  {
   "cell_type": "markdown",
   "metadata": {},
   "source": [
    "## 2. show_thsep function"
   ]
  },
  {
   "cell_type": "markdown",
   "metadata": {},
   "source": [
    "[# Appendix 1 - Functions](#appendix-1---functions)"
   ]
  },
  {
   "cell_type": "code",
   "execution_count": 28,
   "metadata": {},
   "outputs": [],
   "source": [
    "# Function show_thsep\n",
    "\n",
    "def show_thsep(num: float, sep: str = ',') -> str:\n",
    "    '''Show a number as str with thousands separator\n",
    "    \n",
    "    num: a real number (int or float)\n",
    "    sep: separator, valid are: ','or '_'.\n",
    "    '''\n",
    "\n",
    "    if not (isinstance(num, int) or isinstance(num, float) or\n",
    "        isinstance(num, np.number)):\n",
    "        return f'-> show_thsep() >> ERROR: argument must be \\\n",
    "a number not a {type(num)}'\n",
    "    \n",
    "    if not (sep == ',' or sep == '_'):\n",
    "        return \"-> show_thsep() >> ERROR: sep must be ',' or '_'\"\n",
    " \n",
    "    return f'{num:{sep}}'"
   ]
  },
  {
   "cell_type": "code",
   "execution_count": 29,
   "metadata": {},
   "outputs": [],
   "source": [
    "# display(n := 98723948759.1234560001)\n",
    "# # display(n := np.pi)\n",
    "# # display(n := 98723948759)\n",
    "# display(f'{n:,}')\n",
    "# show_thsep(n)\n"
   ]
  },
  {
   "cell_type": "code",
   "execution_count": 30,
   "metadata": {},
   "outputs": [],
   "source": [
    "# show_thsep?"
   ]
  },
  {
   "cell_type": "code",
   "execution_count": 31,
   "metadata": {},
   "outputs": [
    {
     "data": {
      "text/plain": [
       "'98723948759.34354'"
      ]
     },
     "metadata": {},
     "output_type": "display_data"
    },
    {
     "data": {
      "text/plain": [
       "\"-> show_thsep() >> ERROR: argument must be a number not a <class 'str'>\""
      ]
     },
     "metadata": {},
     "output_type": "display_data"
    },
    {
     "data": {
      "text/plain": [
       "98723948759.34354"
      ]
     },
     "metadata": {},
     "output_type": "display_data"
    },
    {
     "data": {
      "text/plain": [
       "\"-> show_thsep() >> ERROR: sep must be ',' or '_'\""
      ]
     },
     "metadata": {},
     "output_type": "display_data"
    },
    {
     "data": {
      "text/plain": [
       "\"-> show_thsep() >> ERROR: argument must be a number not a <class 'NoneType'>\""
      ]
     },
     "metadata": {},
     "output_type": "display_data"
    },
    {
     "data": {
      "text/plain": [
       "98723948759.34354"
      ]
     },
     "metadata": {},
     "output_type": "display_data"
    },
    {
     "data": {
      "text/plain": [
       "'98,723,948,759.34354'"
      ]
     },
     "metadata": {},
     "output_type": "display_data"
    },
    {
     "data": {
      "text/plain": [
       "5"
      ]
     },
     "metadata": {},
     "output_type": "display_data"
    },
    {
     "data": {
      "text/plain": [
       "'5'"
      ]
     },
     "metadata": {},
     "output_type": "display_data"
    },
    {
     "data": {
      "text/plain": [
       "47.825"
      ]
     },
     "metadata": {},
     "output_type": "display_data"
    },
    {
     "data": {
      "text/plain": [
       "'47.825'"
      ]
     },
     "metadata": {},
     "output_type": "display_data"
    },
    {
     "data": {
      "text/plain": [
       "0.4512"
      ]
     },
     "metadata": {},
     "output_type": "display_data"
    },
    {
     "data": {
      "text/plain": [
       "'0.4512'"
      ]
     },
     "metadata": {},
     "output_type": "display_data"
    },
    {
     "data": {
      "text/plain": [
       "250327.63"
      ]
     },
     "metadata": {},
     "output_type": "display_data"
    },
    {
     "data": {
      "text/plain": [
       "'250,327.63'"
      ]
     },
     "metadata": {},
     "output_type": "display_data"
    }
   ],
   "source": [
    "# # show_thsep test\n",
    "display(n := '98723948759.34354')\n",
    "display(show_thsep(n))         # '-> show_thseps() >> ERROR: argument must be a number (int or float)'\n",
    "\n",
    "display(n := 98723948759.34354)\n",
    "display(show_thsep(n, '|'))    # \"-> show_thseps() >> ERROR: sep must be ';', '_', or ':'\"\n",
    "\n",
    "display(show_thsep(None))\n",
    "\n",
    "display(n := 98723948759.34354)\n",
    "display(show_thsep(n))\n",
    "\n",
    "display(n := 5)\n",
    "display(show_thsep(n))    \n",
    "\n",
    "display(n := 47.825)\n",
    "display(show_thsep(n))   \n",
    "\n",
    "display(n := 00.4512)\n",
    "display(show_thsep(n))   \n",
    "\n",
    "display(n := 250327.63)\n",
    "display(show_thsep(n))    "
   ]
  },
  {
   "cell_type": "markdown",
   "metadata": {},
   "source": [
    "## 3. show_tharrsep function"
   ]
  },
  {
   "cell_type": "markdown",
   "metadata": {},
   "source": [
    "[# Appendix 1 - Functions](#appendix-1---functions)"
   ]
  },
  {
   "cell_type": "code",
   "execution_count": 32,
   "metadata": {},
   "outputs": [],
   "source": [
    "# function show_tharr()\n",
    "\n",
    "def show_tharrsep(arr: np.ndarray, sep: str = '_') -> np.ndarray[str]:\n",
    "    '''Show numeric elements as str with thousands\n",
    "    separator within a numpy array\n",
    "    \n",
    "    arr: numpy ndarray genuine dims valid: [0,1,2,3]\n",
    "    sep: separator, valid are: ',' or '_' (default)\n",
    "    '''\n",
    "    if not isinstance(arr, np.ndarray):\n",
    "        return \"-> show_tharrsep >> ERROR: not an np.ndarray\"\n",
    "    \n",
    "    arr = np.atleast_3d(arr.squeeze())\n",
    "\n",
    "    ret_arr = np.ones_like(arr, dtype='>U32')\n",
    "    for tbl in range(arr.shape[0]):\n",
    "        for row in range(arr.shape[1]):\n",
    "            for col in range(arr.shape[2]):\n",
    "                ret_arr[tbl, row, col] = show_thsep(arr[tbl, row, col],\n",
    "                                                    sep=sep)\n",
    "\n",
    "    return ret_arr.squeeze()"
   ]
  },
  {
   "cell_type": "code",
   "execution_count": 33,
   "metadata": {},
   "outputs": [
    {
     "data": {
      "text/plain": [
       "array([[100000., 100005., 100010., 100015., 100020.],\n",
       "       [100025., 100030., 100035., 100040., 100045.]])"
      ]
     },
     "metadata": {},
     "output_type": "display_data"
    },
    {
     "data": {
      "text/plain": [
       "array([['100_000.0', '100_005.0', '100_010.0', '100_015.0', '100_020.0'],\n",
       "       ['100_025.0', '100_030.0', '100_035.0', '100_040.0', '100_045.0']], dtype='>U32')"
      ]
     },
     "execution_count": 33,
     "metadata": {},
     "output_type": "execute_result"
    }
   ],
   "source": [
    "arr_pru = np.arange(100000, 100050, 5, dtype=float).reshape(2,5)\n",
    "display(arr_pru)\n",
    "show_tharrsep(arr_pru)"
   ]
  },
  {
   "cell_type": "code",
   "execution_count": 34,
   "metadata": {},
   "outputs": [
    {
     "data": {
      "text/plain": [
       "array([['16_965.99', '341_404.83', '447_963.4', '318_243.12', '349_233.82'],\n",
       "       ['93_190.79', '135_120.55', '263_659.36', '40_053.68', '177_289.48'],\n",
       "       ['435_839.13', '499_441.88', '109_476.88', '381_566.37', '291_238.82']], dtype='>U32')"
      ]
     },
     "metadata": {},
     "output_type": "display_data"
    },
    {
     "data": {
      "text/plain": [
       "array(['93_190.79', '135_120.55', '263_659.36', '40_053.68', '177_289.48'], dtype='>U32')"
      ]
     },
     "metadata": {},
     "output_type": "display_data"
    },
    {
     "data": {
      "text/plain": [
       "array([[['10_000.0', '10_003.0', '10_006.0', '10_009.0', '10_012.0'],\n",
       "        ['10_015.0', '10_018.0', '10_021.0', '10_024.0', '10_027.0'],\n",
       "        ['10_030.0', '10_033.0', '10_036.0', '10_039.0', '10_042.0']],\n",
       "\n",
       "       [['16_965.99', '341_404.83', '447_963.4', '318_243.12', '349_233.82'],\n",
       "        ['93_190.79', '135_120.55', '263_659.36', '40_053.68', '177_289.48'],\n",
       "        ['435_839.13', '499_441.88', '109_476.88', '381_566.37', '291_238.82']]], dtype='>U32')"
      ]
     },
     "metadata": {},
     "output_type": "display_data"
    },
    {
     "data": {
      "text/plain": [
       "array(['16,965.99', '341,404.83', '447,963.4', '318,243.12', '349,233.82'], dtype='>U32')"
      ]
     },
     "metadata": {},
     "output_type": "display_data"
    },
    {
     "data": {
      "text/plain": [
       "array('587_663.787', dtype='>U32')"
      ]
     },
     "metadata": {},
     "output_type": "display_data"
    },
    {
     "data": {
      "text/plain": [
       "'587,663.787'"
      ]
     },
     "metadata": {},
     "output_type": "display_data"
    }
   ],
   "source": [
    "display(show_tharrsep(float_rand))\n",
    "display(show_tharrsep(arr_1D))\n",
    "display(show_tharrsep(arr_3D))\n",
    "display(show_tharrsep(float_rand[0], sep=','))\n",
    "display(show_tharrsep(np.array([[[[[587663.787]]]]])))\n",
    "display(show_thsep(587663.787))"
   ]
  },
  {
   "cell_type": "code",
   "execution_count": null,
   "metadata": {},
   "outputs": [],
   "source": []
  },
  {
   "cell_type": "code",
   "execution_count": null,
   "metadata": {},
   "outputs": [],
   "source": []
  },
  {
   "cell_type": "code",
   "execution_count": null,
   "metadata": {},
   "outputs": [],
   "source": []
  },
  {
   "cell_type": "markdown",
   "metadata": {},
   "source": [
    "## OLD - versions"
   ]
  },
  {
   "cell_type": "code",
   "execution_count": 35,
   "metadata": {},
   "outputs": [],
   "source": [
    "# Function show_attr def\n",
    "\n",
    "def show_attr(arrnm: str) -> str:\n",
    "    ''' Show numpy ndarray principal attributes\n",
    "    \n",
    "    arrnm: array name. Must exist en the main program body\n",
    "    --> CAN NOT be call inside other function\n",
    "    '''\n",
    "    \n",
    "    if not isinstance(arrnm, str):\n",
    "          return '-> show_attr() >> ERROR: argument must be an string!'\n",
    "    \n",
    "    strout = f' {arrnm}: '\n",
    "    for attr in ('shape', 'ndim', 'size', 'dtype'):     #, 'itemsize'):\n",
    "            arrnm_attr = arrnm + '.' + attr\n",
    "            strout += f'| {attr}: {eval(arrnm_attr)} '\n",
    "\n",
    "    return strout"
   ]
  },
  {
   "cell_type": "code",
   "execution_count": null,
   "metadata": {},
   "outputs": [],
   "source": [
    "# Function show_attr def\n",
    "\n",
    "def show_attr(arr: np.ndarray) -> str:\n",
    "      ''' Show numpy ndarray principal attributes\n",
    "       \n",
    "      arrnm: array name. Must exist en the main program body\n",
    "      --> CAN NOT be call inside other function\n",
    "      '''\n",
    "    \n",
    "      if not isinstance(arr, np.ndarray):\n",
    "            return '-> show_attr() >> ERROR: argument must be an string!'\n",
    "\n",
    "      strout = f'{arr=}'[:f'{arr=}'.find('=')]\n",
    "      strout += f'| .shape: {arr.shape} '\n",
    "      strout += f'| .ndim: {arr.ndim} '\n",
    "      strout += f'| .size: {arr.size} '\n",
    "      strout += f'| .dtype: {arr.dtype} '\n",
    "\n",
    "      return strout"
   ]
  },
  {
   "cell_type": "code",
   "execution_count": 43,
   "metadata": {},
   "outputs": [
    {
     "name": "stdout",
     "output_type": "stream",
     "text": [
      "var= 'Solo una var'\n"
     ]
    },
    {
     "data": {
      "text/plain": [
       "'var'"
      ]
     },
     "execution_count": 43,
     "metadata": {},
     "output_type": "execute_result"
    }
   ],
   "source": [
    "var = 'Solo una var'\n",
    "# ix = f'{var=}'.find('=')\n",
    "# f'{var=}'[:ix]\n",
    "print(f'{var= }')\n",
    "f'{var=}'[:f'{var=}'.find('=')]\n",
    "\n",
    "\n",
    "# f'{int_rand = }'\n"
   ]
  },
  {
   "cell_type": "code",
   "execution_count": 128,
   "metadata": {},
   "outputs": [],
   "source": [
    "# Function show_thsep\n",
    "\n",
    "def show_thsep(num: float, sep: str = ',') -> str:\n",
    "    '''Show num as str with thousands separator\n",
    "    \n",
    "    num: a real number (int or float)\n",
    "    sep: separator, valid are: ';', '_', or ':'\n",
    "    '''\n",
    "\n",
    "    if not (isinstance(num, int) or isinstance(num, float) or\n",
    "        isinstance(num, np.number)):\n",
    "        return f'-> show_thsep() >> ERROR: argument must be \\\n",
    "a number not a {type(num)}'\n",
    "    \n",
    "    if not (sep == ',' or sep == '_'):\n",
    "        return \"-> show_thsep() >> ERROR: sep must be ',' or '_'\"\n",
    "\n",
    "    n_str = str(num)\n",
    "    dec_ix = n_str.find('.')        # decimal sep index\n",
    "    if dec_ix > -1:                 # dec_part exist\n",
    "        dec_part = n_str[dec_ix:]\n",
    "        int_pr = n_str[:dec_ix][::-1]\n",
    "    else:                           # there's no dec_part\n",
    "        dec_part = ''\n",
    "        int_pr = n_str[::-1]\n",
    "\n",
    "    int_part = ''\n",
    "    for dig in range(len(int_pr)):  # for e/digit in int_pr\n",
    "        int_part += int_pr[dig]\n",
    "        # every 3 dig add sep but not for the last (1st not-reversed)\n",
    "        if (dig + 1) % 3 == 0 and dig != (len(int_pr) - 1):\n",
    "            int_part += sep\n",
    "    \n",
    "    return int_part[::-1] + dec_part"
   ]
  },
  {
   "cell_type": "code",
   "execution_count": 129,
   "metadata": {},
   "outputs": [],
   "source": [
    "# OLD w_out np.atleast_3d\n",
    "def show_tharr(arr: np.ndarray, sep: str = '_') -> np.ndarray[str]:\n",
    "\n",
    "    if not isinstance(arr, np.ndarray):\n",
    "        return \"-> show_tharrsep >> ERROR: not an np.ndarray\"\n",
    "    \n",
    "    arr = arr.squeeze()     # for cases w/artificial dims\n",
    "\n",
    "    if arr.ndim == 0:\n",
    "        arr = np.reshape(arr, (1, 1, 1))\n",
    "    elif arr.ndim == 1:\n",
    "        arr = np.reshape(arr, (1, 1, arr.shape[0]))\n",
    "    elif arr.ndim == 2:\n",
    "        arr = np.reshape(arr, (1, arr.shape[0], arr.shape[1]))\n",
    "    elif arr.ndim > 3:\n",
    "        print(\"-> show_tharrsep >> ERROR: array ndim out of range\")\n",
    "\n",
    "    ret_arr = np.ones_like(arr, dtype='>U32')\n",
    "    for tbl in range(arr.shape[0]):\n",
    "        for row in range(arr.shape[1]):\n",
    "            for col in range(arr.shape[2]):\n",
    "                ret_arr[tbl, row, col] = show_thsep(arr[tbl, row, col],\n",
    "                                                    sep=sep)\n",
    "\n",
    "    return ret_arr.squeeze()\n"
   ]
  },
  {
   "cell_type": "code",
   "execution_count": null,
   "metadata": {},
   "outputs": [],
   "source": [
    "display(cero := np.array(150000.7))\n",
    "print(show_attr('cero'))\n",
    "\n",
    "display(one := np.array([1,200000000.986,3]))\n",
    "print(show_attr('one'))\n",
    "\n",
    "display(two := np.array([[[[[10000,2,3000.76], [4,500000.98,6]]]]]))\n",
    "print(show_attr('two'))\n",
    "\n",
    "display(t := show_3d(two))\n",
    "print(show_attr('t'))"
   ]
  }
 ],
 "metadata": {
  "kernelspec": {
   "display_name": "Python 3",
   "language": "python",
   "name": "python3"
  },
  "language_info": {
   "codemirror_mode": {
    "name": "ipython",
    "version": 3
   },
   "file_extension": ".py",
   "mimetype": "text/x-python",
   "name": "python",
   "nbconvert_exporter": "python",
   "pygments_lexer": "ipython3",
   "version": "3.11.0"
  }
 },
 "nbformat": 4,
 "nbformat_minor": 2
}

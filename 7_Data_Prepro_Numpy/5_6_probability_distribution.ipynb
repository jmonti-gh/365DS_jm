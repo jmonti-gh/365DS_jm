{
 "cells": [
  {
   "cell_type": "markdown",
   "metadata": {},
   "source": [
    "# 5 Generating Data with Numpy\n",
    "# 5_6 Probability Distributions in NumPy\n",
    "- We'll simulate datasets to resemble a process that follows a specific probability distribution.\n",
    "- Normal, Poisson, Binomial, Logaritmic...\n",
    "- https://numpy.org/doc/stable/reference/random/generator.html\n"
   ]
  },
  {
   "cell_type": "markdown",
   "metadata": {},
   "source": [
    "### Poisson - numpy.random.poisson\n",
    "- random.poisson(lam=1.0, size=None) -> Draw samples from a Poisson distribution.\n",
    "- The Poisson distribution is the limit of the binomial distribution for large N.\n",
    "- Lambda = 1 --> Over a fixed interval of time, distance or space we expect an event to occur *exactly* once."
   ]
  },
  {
   "cell_type": "markdown",
   "metadata": {},
   "source": [
    "### Binomial - numpy.random.binomial\n",
    "- random.binomial(n, p, size=None) -> Draw samples from a binomial distribution.\n",
    "- Samples are drawn from a binomial distribution with specified parameters, n trials and p probability of success where n an integer >= 0 and p is in the interval [0,1].\n",
    "- Measures how many times a certain outcome can appear over a series of trials, where there are only 2 possible outcomes.\n",
    "- n: number ot trials, p: probability of getting our desired outcome."
   ]
  },
  {
   "cell_type": "markdown",
   "metadata": {},
   "source": [
    "### Logistics - numpy.random.logistic\n",
    "- random.logistic(loc=0.0, scale=1.0, size=None) -> Draw samples from a logistic distribution.\n",
    "- Samples are drawn from a logistic distribution with specified parameters, loc (location or mean, also median), and scale (>0)."
   ]
  },
  {
   "cell_type": "code",
   "execution_count": 22,
   "metadata": {},
   "outputs": [
    {
     "data": {
      "text/plain": [
       "'2.1.1'"
      ]
     },
     "execution_count": 22,
     "metadata": {},
     "output_type": "execute_result"
    }
   ],
   "source": [
    "import numpy as np\n",
    "np.__version__"
   ]
  },
  {
   "cell_type": "code",
   "execution_count": 23,
   "metadata": {},
   "outputs": [],
   "source": [
    "# Generator function as gen instead of numpy.random.Generator()\n",
    "from numpy.random import Generator as gen \n",
    "# Bit-generator PCG64 as pcg instead of numpy.random.PCG64()\n",
    "from numpy.random import PCG64 as pcg"
   ]
  },
  {
   "cell_type": "code",
   "execution_count": 24,
   "metadata": {},
   "outputs": [
    {
     "data": {
      "text/plain": [
       "array([[2, 0, 1, 1, 2],\n",
       "       [1, 1, 0, 1, 1],\n",
       "       [1, 2, 1, 1, 0],\n",
       "       [0, 1, 0, 2, 1],\n",
       "       [0, 1, 0, 0, 2]])"
      ]
     },
     "execution_count": 24,
     "metadata": {},
     "output_type": "execute_result"
    }
   ],
   "source": [
    "array_RG = gen(pcg(seed=365))\n",
    "array_RG.poisson(size=(5,5))\n",
    "# The output is an array of 0s, 1s, and 2s because the default value\n",
    "# for lambda is one."
   ]
  },
  {
   "cell_type": "code",
   "execution_count": 25,
   "metadata": {},
   "outputs": [
    {
     "data": {
      "text/plain": [
       "array([[11, 12, 12, 14, 13],\n",
       "       [ 9, 10, 11, 11,  8],\n",
       "       [11,  8, 10,  9, 14],\n",
       "       [ 7,  8,  9, 15, 15],\n",
       "       [13,  8,  8,  7,  9]])"
      ]
     },
     "execution_count": 25,
     "metadata": {},
     "output_type": "execute_result"
    }
   ],
   "source": [
    "# Expexct the event ocurr 10 times\n",
    "array_RG = gen(pcg(seed=365))\n",
    "array_RG.poisson(lam = 10, size=(5,5))\n",
    "# Statistical speaking, this result means that if we run an experiment\n",
    "# 25 times (5,5), in one of those cases, the event has featured exactly\n",
    "# 7 times even though it usually features exactly 10 times per experiment.\n",
    "# Fixing our expectations for obtaining 10 features for every experiment\n",
    "# is NOT realistic."
   ]
  },
  {
   "cell_type": "code",
   "execution_count": 26,
   "metadata": {},
   "outputs": [
    {
     "data": {
      "text/plain": [
       "42"
      ]
     },
     "metadata": {},
     "output_type": "display_data"
    },
    {
     "data": {
      "text/plain": [
       "array([[44, 30, 36, 45, 36],\n",
       "       [41, 38, 42, 41, 35],\n",
       "       [31, 35, 46, 29, 41],\n",
       "       [41, 46, 34, 48, 45],\n",
       "       [45, 45, 40, 43, 47]])"
      ]
     },
     "execution_count": 26,
     "metadata": {},
     "output_type": "execute_result"
    }
   ],
   "source": [
    "array_RG = gen(pcg(seed=365))\n",
    "display(array_RG.binomial(n=100, p=0.4))\n",
    "array_RG.binomial(n=100, p=0.4, size=(5,5))\n",
    "# Each element is the number of times (out of 100) we've gotten\n",
    "# our preferred outcome\n",
    "# 40% probability of getting what we want on each of th 100 individual\n",
    "#  trials for a given experiment."
   ]
  },
  {
   "cell_type": "code",
   "execution_count": 27,
   "metadata": {},
   "outputs": [
    {
     "data": {
      "text/plain": [
       "10.377678220948258"
      ]
     },
     "metadata": {},
     "output_type": "display_data"
    },
    {
     "data": {
      "text/plain": [
       "array([[10.42451863,  9.63404367,  7.36153427,  9.82286787,  5.81223125],\n",
       "       [10.09354231,  6.46790532, 11.38740256,  8.97147918, 10.85844698],\n",
       "       [ 8.79081317,  5.962079  ,  9.99560681,  8.34539118,  7.97105522],\n",
       "       [ 8.9981544 ,  8.93530194,  9.6253307 ,  9.23850869,  9.73729284],\n",
       "       [ 5.3090678 , 10.13723528, 11.04372782,  7.11078651, 10.1929009 ]])"
      ]
     },
     "execution_count": 27,
     "metadata": {},
     "output_type": "execute_result"
    }
   ],
   "source": [
    "array_RG = gen(pcg(seed=365))\n",
    "display(array_RG.logistic(loc=9, scale=1.2))\n",
    "array_RG.logistic(loc=9, scale=1.2, size=(5,5))\n",
    "# Each element is a possible outcome of a logistic distribution\n",
    "# with loc=9 and scale=1.2"
   ]
  }
 ],
 "metadata": {
  "kernelspec": {
   "display_name": "Python 3",
   "language": "python",
   "name": "python3"
  },
  "language_info": {
   "codemirror_mode": {
    "name": "ipython",
    "version": 3
   },
   "file_extension": ".py",
   "mimetype": "text/x-python",
   "name": "python",
   "nbconvert_exporter": "python",
   "pygments_lexer": "ipython3",
   "version": "3.11.0"
  }
 },
 "nbformat": 4,
 "nbformat_minor": 2
}

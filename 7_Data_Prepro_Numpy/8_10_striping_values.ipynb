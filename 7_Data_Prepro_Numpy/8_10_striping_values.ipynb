{
 "cells": [
  {
   "cell_type": "markdown",
   "metadata": {},
   "source": [
    "# 8 Data Manipulation with NumPy\n",
    "- Examine how to clean and preprocess data using NumPy.\n",
    "- Hoy to discover missing values (and fill them up).\n",
    "- Ways to remove irrelevant data.\n",
    "- sort(), shuffle(), reshape(), stack(), strip()\n",
    "## 8_10 Striping Values from NDarrays"
   ]
  },
  {
   "cell_type": "markdown",
   "metadata": {},
   "source": [
    "#### chararray.strip(a, chars=None)\n",
    "- For each element in a, return a copy with the leading and trailing characters removed\n",
    "- The chars argument is a string specifying the set of characters to be removed"
   ]
  },
  {
   "cell_type": "markdown",
   "metadata": {},
   "source": [
    "#### Practice Objetive - Convert all data to numeric\n",
    "- Import data w/str values in some columns\n",
    "- strip de literal part to leave only num or leters, etc that could be converted (via np.where) to numbers\n",
    "- stripping each column of each excess strings (Despojar cada columna de cada cadena sobrante)\n",
    "- Convert remaining letters, etc, to numbers\n",
    "- JM -> make same exercises w/python strip in string and ¡?\n",
    "#### Stripping (desnudar - despojar)\n",
    "- Removing specific part of strings.\n",
    "- Taking away small parts (or not that small)\n",
    "- It allows us to get rid of excess data and transform text values into numeric ones to analyze them quantitatively.\n",
    "- In NumPy we user strip function from the character array module: np.chararray.strip (!! ver 2.0 np.strings??)"
   ]
  },
  {
   "cell_type": "code",
   "execution_count": 1,
   "metadata": {},
   "outputs": [
    {
     "data": {
      "text/plain": [
       "'1.26.4'"
      ]
     },
     "execution_count": 1,
     "metadata": {},
     "output_type": "execute_result"
    }
   ],
   "source": [
    "import numpy as np\n",
    "np.__version__"
   ]
  },
  {
   "cell_type": "code",
   "execution_count": 2,
   "metadata": {},
   "outputs": [],
   "source": [
    "# Function show_attr\n",
    "\n",
    "def show_attr(arrnm: str) -> str:\n",
    "    strout = f' {arrnm}: '\n",
    "\n",
    "    for attr in ('shape', 'ndim', 'size', 'dtype'):     #, 'itemsize'):\n",
    "            arrnm_attr = arrnm + '.' + attr\n",
    "            strout += f'| {attr}: {eval(arrnm_attr)} '\n",
    "\n",
    "    return strout"
   ]
  },
  {
   "cell_type": "code",
   "execution_count": 3,
   "metadata": {},
   "outputs": [
    {
     "data": {
      "text/plain": [
       "' lend_LT: | shape: (1043, 3) | ndim: 2 | size: 3129 | dtype: <U12 '"
      ]
     },
     "metadata": {},
     "output_type": "display_data"
    },
    {
     "data": {
      "text/plain": [
       "array([['id_1', 'Product B', 'Location 2'],\n",
       "       ['id_2', 'Product B', 'Location 3'],\n",
       "       ['id_3', 'Product C', 'Location 5'],\n",
       "       ...,\n",
       "       ['id_1041', 'Product B', 'Location 23'],\n",
       "       ['id_1042', 'Product C', 'Location 52'],\n",
       "       ['id_1043', 'Product B', 'Location 142']], dtype='<U12')"
      ]
     },
     "execution_count": 3,
     "metadata": {},
     "output_type": "execute_result"
    }
   ],
   "source": [
    "# Load only some strings columns\n",
    "lend_LT = np.genfromtxt('lending-co-LT.csv',\n",
    "                        delimiter=',',\n",
    "                        usecols=[1,2,4],\n",
    "                        dtype=str,\n",
    "                        skip_header=1)\n",
    "\n",
    "display(show_attr('lend_LT'))\n",
    "lend_LT"
   ]
  },
  {
   "cell_type": "code",
   "execution_count": 4,
   "metadata": {},
   "outputs": [
    {
     "data": {
      "text/plain": [
       "array([['1', 'Product B', 'Location 2'],\n",
       "       ['2', 'Product B', 'Location 3'],\n",
       "       ['3', 'Product C', 'Location 5'],\n",
       "       ...,\n",
       "       ['1041', 'Product B', 'Location 23'],\n",
       "       ['1042', 'Product C', 'Location 52'],\n",
       "       ['1043', 'Product B', 'Location 142']], dtype='<U12')"
      ]
     },
     "execution_count": 4,
     "metadata": {},
     "output_type": "execute_result"
    }
   ],
   "source": [
    "# First strip 'id_' from col[0] <- inplace=False\n",
    "lend_LT[:,0] = np.chararray.strip(lend_LT[:,0], 'id_')\n",
    "lend_LT\n",
    "## FUTURE make a fun that get rid of all non numeric part"
   ]
  },
  {
   "cell_type": "code",
   "execution_count": 5,
   "metadata": {},
   "outputs": [
    {
     "data": {
      "text/plain": [
       "array([['1', 'B', '2'],\n",
       "       ['2', 'B', '3'],\n",
       "       ['3', 'C', '5'],\n",
       "       ...,\n",
       "       ['1041', 'B', '23'],\n",
       "       ['1042', 'C', '52'],\n",
       "       ['1043', 'B', '142']], dtype='<U12')"
      ]
     },
     "execution_count": 5,
     "metadata": {},
     "output_type": "execute_result"
    }
   ],
   "source": [
    "# strip excess strings in cols[1-2] - Leave letters in col[1]\n",
    "lend_LT[:,1] = np.chararray.strip(lend_LT[:,1], 'Product ')\n",
    "lend_LT[:,2] = np.chararray.strip(lend_LT[:,2], 'Location ')\n",
    "lend_LT"
   ]
  },
  {
   "cell_type": "code",
   "execution_count": 6,
   "metadata": {},
   "outputs": [
    {
     "data": {
      "text/plain": [
       "array([['1', '2', '2'],\n",
       "       ['2', '2', '3'],\n",
       "       ['3', '3', '5'],\n",
       "       ...,\n",
       "       ['1041', '2', '23'],\n",
       "       ['1042', '3', '52'],\n",
       "       ['1043', '2', '142']], dtype='<U12')"
      ]
     },
     "execution_count": 6,
     "metadata": {},
     "output_type": "execute_result"
    }
   ],
   "source": [
    "## Convert letters of col[1] to numbers\n",
    "# np.where(lend_LT[:,1] == 'A', 1, lend_LT[:,1])\n",
    "# np.where(lend_LT[:,1] == 'B', 2, lend_LT[:,1])\n",
    "# np.where(lend_LT[:,1] == 'C', 3, lend_LT[:,1])\n",
    "# dic = {'A':1, 'B':2, 'C':3, 'D':4, 'E':5}\n",
    "dic = {chr(i + 64): i for i in range(1,7)}\n",
    "for k,v in dic.items():\n",
    "    lend_LT[:,1] = np.where(lend_LT[:,1] == k, v, lend_LT[:,1])\n",
    "\n",
    "lend_LT"
   ]
  },
  {
   "cell_type": "code",
   "execution_count": 7,
   "metadata": {},
   "outputs": [
    {
     "data": {
      "text/plain": [
       "array([[   1,    2,    2],\n",
       "       [   2,    2,    3],\n",
       "       [   3,    3,    5],\n",
       "       ...,\n",
       "       [1041,    2,   23],\n",
       "       [1042,    3,   52],\n",
       "       [1043,    2,  142]])"
      ]
     },
     "execution_count": 7,
     "metadata": {},
     "output_type": "execute_result"
    }
   ],
   "source": [
    "## Now we can type cast to num the whole array - to float or direc int\n",
    "lend_LT.astype(dtype=np.int32)"
   ]
  },
  {
   "cell_type": "markdown",
   "metadata": {},
   "source": [
    "### Notes and Examples from Manual - np.strings.strip"
   ]
  },
  {
   "cell_type": "code",
   "execution_count": 8,
   "metadata": {},
   "outputs": [
    {
     "data": {
      "text/plain": [
       "array(['aAaAaA', '  aA  ', 'abBABba'], dtype='<U7')"
      ]
     },
     "metadata": {},
     "output_type": "display_data"
    },
    {
     "data": {
      "text/plain": [
       "chararray(['AaAaA', '  aA', 'bBABb'], dtype='<U7')"
      ]
     },
     "metadata": {},
     "output_type": "display_data"
    },
    {
     "data": {
      "text/plain": [
       "chararray(['aAaAa', '  aA', 'abBABba'], dtype='<U7')"
      ]
     },
     "execution_count": 8,
     "metadata": {},
     "output_type": "execute_result"
    }
   ],
   "source": [
    "display(c := np.array(['aAaAaA', '  aA  ', 'abBABba']))\n",
    "np.chararray.strip(c)\n",
    "display(np.chararray.strip(c, 'a'))\n",
    "# display(c)\n",
    "np.chararray.strip(c, 'A')"
   ]
  },
  {
   "cell_type": "code",
   "execution_count": 9,
   "metadata": {},
   "outputs": [],
   "source": [
    "### FUTURE! play with Python strip strings, and others??"
   ]
  }
 ],
 "metadata": {
  "kernelspec": {
   "display_name": "Python 3",
   "language": "python",
   "name": "python3"
  },
  "language_info": {
   "codemirror_mode": {
    "name": "ipython",
    "version": 3
   },
   "file_extension": ".py",
   "mimetype": "text/x-python",
   "name": "python",
   "nbconvert_exporter": "python",
   "pygments_lexer": "ipython3",
   "version": "3.11.0"
  }
 },
 "nbformat": 4,
 "nbformat_minor": 2
}

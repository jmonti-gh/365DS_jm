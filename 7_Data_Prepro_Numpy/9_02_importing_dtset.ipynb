{
 "cells": [
  {
   "cell_type": "markdown",
   "metadata": {},
   "source": [
    "# 9. A Loan Data Practical Example with NumPy\n",
    "- Ejemplo práctico de datos de préstamos con NumPy\n",
    "## 9_02 Setting Up: Importing the Dataset"
   ]
  },
  {
   "cell_type": "markdown",
   "metadata": {},
   "source": [
    "## Quick glance at loan-data.csv (notepad++)\n",
    "- Contains both text and numeric data.\n",
    "- A header clarifying the contents of each column\n",
    "- 1st col is called 'id' -> each row consists of info for the account of a loan candidate's application and each candidate is described by their id. => We referred to the rows as accounts, candidates or applications.\n",
    "- Can't see whether there are missing values in the dtset.\n",
    "- ';' as delimiter"
   ]
  },
  {
   "cell_type": "markdown",
   "metadata": {},
   "source": [
    "### genfromtxt(autostrip=False)\n",
    "- autostrip: bool, optional\n",
    "Whether to automatically strip white spaces from the variables."
   ]
  },
  {
   "cell_type": "code",
   "execution_count": 1,
   "metadata": {},
   "outputs": [],
   "source": [
    "import numpy as np\n",
    "np.__version__\n",
    "np.set_printoptions(suppress=True, linewidth=100, precision=2)"
   ]
  },
  {
   "cell_type": "code",
   "execution_count": 2,
   "metadata": {},
   "outputs": [],
   "source": [
    "# Function show_attr\n",
    "\n",
    "def show_attr(arrnm: str) -> str:\n",
    "    strout = f' {arrnm}: '\n",
    "\n",
    "    for attr in ('shape', 'ndim', 'size', 'dtype'):     #, 'itemsize'):\n",
    "            arrnm_attr = arrnm + '.' + attr\n",
    "            strout += f'| {attr}: {eval(arrnm_attr)} '\n",
    "\n",
    "    return strout"
   ]
  },
  {
   "cell_type": "code",
   "execution_count": 3,
   "metadata": {},
   "outputs": [
    {
     "data": {
      "text/plain": [
       "array([[48010226.  ,         nan,    35000.  , ...,         nan,         nan,     9452.96],\n",
       "       [57693261.  ,         nan,    30000.  , ...,         nan,         nan,     4679.7 ],\n",
       "       [59432726.  ,         nan,    15000.  , ...,         nan,         nan,     1969.83],\n",
       "       ...,\n",
       "       [50415990.  ,         nan,    10000.  , ...,         nan,         nan,     2185.64],\n",
       "       [46154151.  ,         nan,         nan, ...,         nan,         nan,     3199.4 ],\n",
       "       [66055249.  ,         nan,    10000.  , ...,         nan,         nan,      301.9 ]])"
      ]
     },
     "metadata": {},
     "output_type": "display_data"
    },
    {
     "data": {
      "text/plain": [
       "' raw_data_np: | shape: (10000, 14) | ndim: 2 | size: 140000 | dtype: float64 '"
      ]
     },
     "metadata": {},
     "output_type": "display_data"
    },
    {
     "name": "stdout",
     "output_type": "stream",
     "text": [
      "Num of NANs: 88005\n"
     ]
    }
   ],
   "source": [
    "raw_data_np = np.genfromtxt('9_02_loan-data.csv',\n",
    "                            delimiter=';',\n",
    "                            skip_header=1,\n",
    "                            autostrip=True)\n",
    "display(raw_data_np)\n",
    "display(show_attr('raw_data_np'))\n",
    "print('Num of NANs:', np.isnan(raw_data_np).sum())\n",
    "\n",
    "# Lot of NANs, either text or missing\n",
    "# The entire 1st row is NAN so the skip_header=1\n",
    "# autostrip cause it removes white spaces which can distort our cols"
   ]
  }
 ],
 "metadata": {
  "kernelspec": {
   "display_name": "Python 3",
   "language": "python",
   "name": "python3"
  },
  "language_info": {
   "codemirror_mode": {
    "name": "ipython",
    "version": 3
   },
   "file_extension": ".py",
   "mimetype": "text/x-python",
   "name": "python",
   "nbconvert_exporter": "python",
   "pygments_lexer": "ipython3",
   "version": "3.11.0"
  }
 },
 "nbformat": 4,
 "nbformat_minor": 2
}

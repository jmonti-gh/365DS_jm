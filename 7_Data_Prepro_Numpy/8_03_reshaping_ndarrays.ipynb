{
 "cells": [
  {
   "cell_type": "markdown",
   "metadata": {},
   "source": [
    "# 8 Data Manipulation with NumPy\n",
    "- Examine how to clean and preprocess data using NumPy.\n",
    "- Hoy to discover missing values (and fill them up).\n",
    "- Ways to remove irrelevant data.\n",
    "- sort(), shuffle(), reshape(), stack(), strip()\n",
    "## 8_3 Reshaping Ndarrays"
   ]
  },
  {
   "cell_type": "markdown",
   "metadata": {},
   "source": [
    "#### numpy.reshape(a, newshape, order='C')\n",
    "- Gives a new shape to an array without changing its data."
   ]
  },
  {
   "cell_type": "markdown",
   "metadata": {},
   "source": [
    "#### Reshaping - Why is useful?\n",
    "- In DS we often rely on readily available functions and methods that have specific input and output limitations.\n",
    "- We can´t always plug in whatever arrays we want and hope for the best because certain conditions about shapes and sizes need to be met.\n",
    "- Similarly, it isn´t always possible to store the outputs of a function as part of an existing array (or series)\n",
    "- __In such cases__, reshaping the array can resolve the problem.\n",
    "- Reshaping is the act of morphing the shape of an object in a certain way.\n",
    "- In NumPy we'll be altering the shapes of array.\n",
    "- However, there are certain restrictions to the shape we can give to an array, since we have a fixed amount of data available."
   ]
  },
  {
   "cell_type": "code",
   "execution_count": 9,
   "metadata": {},
   "outputs": [
    {
     "data": {
      "text/plain": [
       "'1.26.4'"
      ]
     },
     "execution_count": 9,
     "metadata": {},
     "output_type": "execute_result"
    }
   ],
   "source": [
    "import numpy as np\n",
    "np.__version__"
   ]
  },
  {
   "cell_type": "code",
   "execution_count": 10,
   "metadata": {},
   "outputs": [],
   "source": [
    "# Function show_attr\n",
    "\n",
    "def show_attr(arrnm: str) -> str:\n",
    "    strout = f' {arrnm}: '\n",
    "\n",
    "    for attr in ('shape', 'ndim', 'size', 'dtype'):     #, 'itemsize'):\n",
    "            arrnm_attr = arrnm + '.' + attr\n",
    "            strout += f'| {attr}: {eval(arrnm_attr)} '\n",
    "\n",
    "    return strout"
   ]
  },
  {
   "cell_type": "code",
   "execution_count": 11,
   "metadata": {},
   "outputs": [
    {
     "data": {
      "text/plain": [
       "' lend_co_data_num: | shape: (1043, 6) | ndim: 2 | size: 6258 | dtype: float64 '"
      ]
     },
     "metadata": {},
     "output_type": "display_data"
    },
    {
     "data": {
      "text/plain": [
       "array([[ 2000.,    40.,   365.,  3121.,  4241., 13621.],\n",
       "       [ 2000.,    40.,   365.,  3061.,  4171., 15041.],\n",
       "       [ 1000.,    40.,   365.,  2160.,  3280., 15340.],\n",
       "       ...,\n",
       "       [ 2000.,    40.,   365.,  4201.,  5001., 16600.],\n",
       "       [ 1000.,    40.,   365.,  2080.,  3320., 15600.],\n",
       "       [ 2000.,    40.,   365.,  4601.,  4601., 16600.]])"
      ]
     },
     "execution_count": 11,
     "metadata": {},
     "output_type": "execute_result"
    }
   ],
   "source": [
    "# Let's work with a dataset that contains NANs.\n",
    "\n",
    "lend_co_data_num = np.loadtxt('Lending-Company-Numeric-Data.csv',\n",
    "                              delimiter=',')\n",
    "\n",
    "display(show_attr('lend_co_data_num'))\n",
    "lend_co_data_num"
   ]
  },
  {
   "cell_type": "code",
   "execution_count": 12,
   "metadata": {},
   "outputs": [
    {
     "data": {
      "text/plain": [
       "(1043, 6)"
      ]
     },
     "metadata": {},
     "output_type": "display_data"
    },
    {
     "data": {
      "text/plain": [
       "array([[ 2000.,    40.,   365., ...,   365.,  1581.,  3041.],\n",
       "       [12277.,  2000.,    40., ...,    50.,   365.,  5350.],\n",
       "       [ 6850., 15150.,  1000., ...,  2000.,    40.,   365.],\n",
       "       [ 3101.,  4351., 16600., ..., 16600.,  2000.,    40.],\n",
       "       [  365.,  3441.,  4661., ...,  8450., 22250.,  2000.],\n",
       "       [   40.,   365.,  3701., ...,  4601.,  4601., 16600.]])"
      ]
     },
     "metadata": {},
     "output_type": "display_data"
    },
    {
     "data": {
      "text/plain": [
       "(6, 1043)"
      ]
     },
     "execution_count": 12,
     "metadata": {},
     "output_type": "execute_result"
    }
   ],
   "source": [
    "# Let's reshape the dataset. Actual shape:\n",
    "display(lend_co_data_num.shape)     # 1043 rows x 6 columns\n",
    "# Reshape to 6 x 1043\n",
    "display(reshaped_data := np.reshape(lend_co_data_num, (6,1043)))\n",
    "reshaped_data.shape                 # 6 rows x 1043 columns\n",
    "\n",
    "## But is not a transposing, instead:\n",
    "# 1st row: the first 1043 values of the flattened array\n",
    "# 2nd row: the next 1043 values of the flattened array\n",
    "# ...\n",
    "# Last row: the last 1043 values of the flattened array"
   ]
  },
  {
   "cell_type": "code",
   "execution_count": 13,
   "metadata": {},
   "outputs": [
    {
     "data": {
      "text/plain": [
       "array([[ 2000.,  2000.,  1000., ...,  2000.,  1000.,  2000.],\n",
       "       [   40.,    40.,    40., ...,    40.,    40.,    40.],\n",
       "       [  365.,   365.,   365., ...,   365.,   365.,   365.],\n",
       "       [ 3121.,  3061.,  2160., ...,  4201.,  2080.,  4601.],\n",
       "       [ 4241.,  4171.,  3280., ...,  5001.,  3320.,  4601.],\n",
       "       [13621., 15041., 15340., ..., 16600., 15600., 16600.]])"
      ]
     },
     "metadata": {},
     "output_type": "display_data"
    },
    {
     "data": {
      "text/plain": [
       "(6, 1043)"
      ]
     },
     "execution_count": 13,
     "metadata": {},
     "output_type": "execute_result"
    }
   ],
   "source": [
    "# If we need convert files to col and vice versa\n",
    "display(t_data := lend_co_data_num.T)\n",
    "t_data.shape\n"
   ]
  },
  {
   "cell_type": "markdown",
   "metadata": {},
   "source": [
    "### Valids New Shapes\n",
    "- The point is that we have 1043 x 6 = 6256 elements. (lend_co_data_num.size)\n",
    "- And we have to alocate all those elements\n",
    "- Then the product of row and cols of the new shape must be 6258\n",
    "- Ex. if I wan´t x_cols the product x_cols by y_rows must be 6258 - ALL INTEGERS \n",
    "- Ex. 2 If I want a square matrix (nums rows = nums cols) I must calulate np.sqrt(data.size) for the nums of rows ans cols\n",
    "  "
   ]
  },
  {
   "cell_type": "code",
   "execution_count": 14,
   "metadata": {},
   "outputs": [],
   "source": [
    "# If i try to reshape to a new shape where row x col != 6258,\n",
    "# the total number of elements -> ValueError\n",
    "\n",
    "# ->  np.reshape(lend_co_data_num, (3,500))\n",
    "# ValueError: cannot reshape array of size 6258 into shape (3,500)"
   ]
  },
  {
   "cell_type": "code",
   "execution_count": 15,
   "metadata": {},
   "outputs": [
    {
     "name": "stdout",
     "output_type": "stream",
     "text": [
      "6258\n",
      "42\n",
      "149.0\n"
     ]
    },
    {
     "data": {
      "text/plain": [
       "array([[ 2000.,    40.,   365., ...,  1851.,  3251., 17701.],\n",
       "       [ 2000.,    40.,   365., ...,  1680.,  1680.,  5010.],\n",
       "       [ 4000.,    50.,   365., ...,  3560.,  4760., 16200.],\n",
       "       ...,\n",
       "       [ 1000.,    40.,   365., ...,  2520.,  3740., 15600.],\n",
       "       [ 4000.,    50.,   365., ...,  3701.,  5201., 20250.],\n",
       "       [ 2000.,    40.,   365., ...,  4601.,  4601., 16600.]])"
      ]
     },
     "metadata": {},
     "output_type": "display_data"
    },
    {
     "name": "stdout",
     "output_type": "stream",
     "text": [
      "(149, 42)\n",
      "6258\n"
     ]
    },
    {
     "data": {
      "text/plain": [
       "' r_shaped_42_cols: | shape: (149, 42) | ndim: 2 | size: 6258 | dtype: float64 '"
      ]
     },
     "execution_count": 15,
     "metadata": {},
     "output_type": "execute_result"
    }
   ],
   "source": [
    "# Ex. #1 - ex num cols 42 (14, 21 or 42 es div entera!)\n",
    "print(tot_elements := lend_co_data_num.size)\n",
    "print(new_num_cols := 42)\n",
    "print(new_num_rows := tot_elements / new_num_cols)\n",
    "display(r_shaped_42_cols := np.reshape(lend_co_data_num, (149, 42)))\n",
    "print(r_shaped_42_cols.shape)\n",
    "print(r_shaped_42_cols.size)\n",
    "show_attr('r_shaped_42_cols')"
   ]
  },
  {
   "cell_type": "code",
   "execution_count": 16,
   "metadata": {},
   "outputs": [
    {
     "data": {
      "text/plain": [
       "79.10752176626443"
      ]
     },
     "execution_count": 16,
     "metadata": {},
     "output_type": "execute_result"
    }
   ],
   "source": [
    "# Ex. #2 an square matrix (num rows = num cols)\n",
    "np.sqrt(lend_co_data_num.size)  # Not posible"
   ]
  },
  {
   "cell_type": "code",
   "execution_count": 17,
   "metadata": {},
   "outputs": [
    {
     "name": "stdout",
     "output_type": "stream",
     "text": [
      "6 / 2: 3.0 - 1043 * 2: 2086\n"
     ]
    },
    {
     "data": {
      "text/plain": [
       "array([[ 2000.,    40.,   365., ...,    50.,   365.,  5350.],\n",
       "       [ 6850., 15150.,  1000., ..., 16600.,  2000.,    40.],\n",
       "       [  365.,  3441.,  4661., ...,  4601.,  4601., 16600.]])"
      ]
     },
     "execution_count": 17,
     "metadata": {},
     "output_type": "execute_result"
    }
   ],
   "source": [
    "# Ex. #3 if i div by 2 num of cols must mult by 2 num rows\n",
    "print('6 / 2:', 6/2, '-', '1043 * 2:', 1043 * 2)\n",
    "np.reshape(lend_co_data_num, (3,2086))"
   ]
  },
  {
   "cell_type": "code",
   "execution_count": 18,
   "metadata": {},
   "outputs": [
    {
     "data": {
      "text/plain": [
       "array([[[ 2000.,    40.,   365., ...,   365.,  1581.,  3041.],\n",
       "        [12277.,  2000.,    40., ...,    50.,   365.,  5350.],\n",
       "        [ 6850., 15150.,  1000., ...,  2000.,    40.,   365.]],\n",
       "\n",
       "       [[ 3101.,  4351., 16600., ..., 16600.,  2000.,    40.],\n",
       "        [  365.,  3441.,  4661., ...,  8450., 22250.,  2000.],\n",
       "        [   40.,   365.,  3701., ...,  4601.,  4601., 16600.]]])"
      ]
     },
     "execution_count": 18,
     "metadata": {},
     "output_type": "execute_result"
    }
   ],
   "source": [
    "# Ex. #4 if y want to add another ndim having a tensor R3 with two tables\n",
    "np.reshape(lend_co_data_num, (2,3,1043))"
   ]
  },
  {
   "cell_type": "code",
   "execution_count": 19,
   "metadata": {},
   "outputs": [
    {
     "data": {
      "text/plain": [
       "array([[[[[ 2000.,    40.,   365., ...,   365.,  1581.,  3041.],\n",
       "          [12277.,  2000.,    40., ...,    50.,   365.,  5350.],\n",
       "          [ 6850., 15150.,  1000., ...,  2000.,    40.,   365.]],\n",
       "\n",
       "         [[ 3101.,  4351., 16600., ..., 16600.,  2000.,    40.],\n",
       "          [  365.,  3441.,  4661., ...,  8450., 22250.,  2000.],\n",
       "          [   40.,   365.,  3701., ...,  4601.,  4601., 16600.]]]]])"
      ]
     },
     "metadata": {},
     "output_type": "display_data"
    },
    {
     "data": {
      "text/plain": [
       "(1, 1, 2, 3, 1043)"
      ]
     },
     "execution_count": 19,
     "metadata": {},
     "output_type": "execute_result"
    }
   ],
   "source": [
    "# Multidimensional arrays artificially adding 1 as new dimension\n",
    "# Ex. 5 ndim array (tensor R5)\n",
    "display(np.reshape(lend_co_data_num, (1,1,2,3,1043)))\n",
    "np.reshape(lend_co_data_num, (1,1,2,3,1043)).shape\n",
    "\n",
    "# ndim: examining the number of square brackets at the very top\n",
    "# and bottom of the array\n",
    "\n",
    "## This trick is useful when a method or function only takes inputs\n",
    "# with a higher number of dimensions than the array we want to plug\n",
    "# in \n"
   ]
  },
  {
   "cell_type": "markdown",
   "metadata": {},
   "source": [
    "### Notes and examples from de Manual - numpy.reshape()"
   ]
  },
  {
   "cell_type": "code",
   "execution_count": 22,
   "metadata": {},
   "outputs": [
    {
     "data": {
      "text/plain": [
       "array([[1, 2, 3],\n",
       "       [4, 5, 6]])"
      ]
     },
     "metadata": {},
     "output_type": "display_data"
    },
    {
     "data": {
      "text/plain": [
       "array([1, 2, 3, 4, 5, 6])"
      ]
     },
     "metadata": {},
     "output_type": "display_data"
    },
    {
     "data": {
      "text/plain": [
       "array([1, 4, 2, 5, 3, 6])"
      ]
     },
     "execution_count": 22,
     "metadata": {},
     "output_type": "execute_result"
    }
   ],
   "source": [
    "display(a := np.array([[1,2,3], [4,5,6]]))\n",
    "display(np.reshape(a, 6))\n",
    "np.reshape(a, 6, order='F')"
   ]
  },
  {
   "cell_type": "code",
   "execution_count": 23,
   "metadata": {},
   "outputs": [
    {
     "data": {
      "text/plain": [
       "array([[1, 2],\n",
       "       [3, 4],\n",
       "       [5, 6]])"
      ]
     },
     "execution_count": 23,
     "metadata": {},
     "output_type": "execute_result"
    }
   ],
   "source": [
    "np.reshape(a, (3,-1))       # the unspecified value is inferred to be 2"
   ]
  },
  {
   "cell_type": "code",
   "execution_count": 30,
   "metadata": {},
   "outputs": [
    {
     "data": {
      "text/plain": [
       "array([[ 2000.,    40.,   365.,  3121.,  4241., 13621.],\n",
       "       [ 2000.,    40.,   365.,  3061.,  4171., 15041.],\n",
       "       [ 1000.,    40.,   365.,  2160.,  3280., 15340.],\n",
       "       ...,\n",
       "       [ 2000.,    40.,   365.,  4201.,  5001., 16600.],\n",
       "       [ 1000.,    40.,   365.,  2080.,  3320., 15600.],\n",
       "       [ 2000.,    40.,   365.,  4601.,  4601., 16600.]])"
      ]
     },
     "metadata": {},
     "output_type": "display_data"
    },
    {
     "data": {
      "text/plain": [
       "array([[ 2000.,    40.,   365.],\n",
       "       [ 3121.,  4241., 13621.],\n",
       "       [ 2000.,    40.,   365.],\n",
       "       ...,\n",
       "       [ 2080.,  3320., 15600.],\n",
       "       [ 2000.,    40.,   365.],\n",
       "       [ 4601.,  4601., 16600.]])"
      ]
     },
     "metadata": {},
     "output_type": "display_data"
    },
    {
     "data": {
      "text/plain": [
       "' data_3_cols: | shape: (2086, 3) | ndim: 2 | size: 6258 | dtype: float64 '"
      ]
     },
     "execution_count": 30,
     "metadata": {},
     "output_type": "execute_result"
    }
   ],
   "source": [
    "# Using -1 as num of rows in our examples\n",
    "display(lend_co_data_num)\n",
    "display(data_3_cols := np.reshape(lend_co_data_num, (-1, 3)))\n",
    "show_attr('data_3_cols')"
   ]
  },
  {
   "cell_type": "code",
   "execution_count": 33,
   "metadata": {},
   "outputs": [
    {
     "data": {
      "text/plain": [
       "array([[ 2000.,    40.,   365., ..., 15041.,  1000.,    40.],\n",
       "       [  365.,  2160.,  3280., ...,    50.,   365.,  3470.],\n",
       "       [ 4820., 13720.,  2000., ...,  1851.,  3251., 17701.],\n",
       "       ...,\n",
       "       [ 2000.,    40.,   365., ..., 16600.,  2000.,    40.],\n",
       "       [  365.,  3401.,  4601., ...,    40.,   365.,  4201.],\n",
       "       [ 5001., 16600.,  1000., ...,  4601.,  4601., 16600.]])"
      ]
     },
     "metadata": {},
     "output_type": "display_data"
    },
    {
     "data": {
      "text/plain": [
       "' data_3_cols: | shape: (447, 14) | ndim: 2 | size: 6258 | dtype: float64 '"
      ]
     },
     "execution_count": 33,
     "metadata": {},
     "output_type": "execute_result"
    }
   ],
   "source": [
    "display(data_3_cols := np.reshape(lend_co_data_num, (-1, 14)))\n",
    "show_attr('data_3_cols')"
   ]
  }
 ],
 "metadata": {
  "kernelspec": {
   "display_name": "Python 3",
   "language": "python",
   "name": "python3"
  },
  "language_info": {
   "codemirror_mode": {
    "name": "ipython",
    "version": 3
   },
   "file_extension": ".py",
   "mimetype": "text/x-python",
   "name": "python",
   "nbconvert_exporter": "python",
   "pygments_lexer": "ipython3",
   "version": "3.11.0"
  }
 },
 "nbformat": 4,
 "nbformat_minor": 2
}

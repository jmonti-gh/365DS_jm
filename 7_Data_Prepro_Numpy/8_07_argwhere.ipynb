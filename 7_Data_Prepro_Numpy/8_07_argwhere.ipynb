{
 "cells": [
  {
   "cell_type": "markdown",
   "metadata": {},
   "source": [
    "# 8 Data Manipulation with NumPy\n",
    "- Examine how to clean and preprocess data using NumPy.\n",
    "- Hoy to discover missing values (and fill them up).\n",
    "- Ways to remove irrelevant data.\n",
    "- sort(), shuffle(), reshape(), stack(), strip()\n",
    "## 8_07 Argument Where in NumPy"
   ]
  },
  {
   "cell_type": "markdown",
   "metadata": {},
   "source": [
    "#### numpy.argwhere(a)\n",
    "- Find the indices of array elements that are non-zero, grouped by element."
   ]
  },
  {
   "cell_type": "code",
   "execution_count": 1,
   "metadata": {},
   "outputs": [
    {
     "data": {
      "text/plain": [
       "'1.26.4'"
      ]
     },
     "execution_count": 1,
     "metadata": {},
     "output_type": "execute_result"
    }
   ],
   "source": [
    "import numpy as np\n",
    "np.__version__"
   ]
  },
  {
   "cell_type": "code",
   "execution_count": 2,
   "metadata": {},
   "outputs": [],
   "source": [
    "# Function show_attr\n",
    "\n",
    "def show_attr(arrnm: str) -> str:\n",
    "    strout = f' {arrnm}: '\n",
    "\n",
    "    for attr in ('shape', 'ndim', 'size', 'dtype'):     #, 'itemsize'):\n",
    "            arrnm_attr = arrnm + '.' + attr\n",
    "            strout += f'| {attr}: {eval(arrnm_attr)} '\n",
    "\n",
    "    return strout"
   ]
  },
  {
   "cell_type": "code",
   "execution_count": 3,
   "metadata": {},
   "outputs": [
    {
     "data": {
      "text/plain": [
       "' lend_co_data_num: | shape: (1043, 6) | ndim: 2 | size: 6258 | dtype: float64 '"
      ]
     },
     "metadata": {},
     "output_type": "display_data"
    },
    {
     "data": {
      "text/plain": [
       "array([[ 2000.,    40.,   365.,  3121.,  4241., 13621.],\n",
       "       [ 2000.,    40.,   365.,  3061.,  4171., 15041.],\n",
       "       [ 1000.,    40.,   365.,  2160.,  3280., 15340.],\n",
       "       ...,\n",
       "       [ 2000.,    40.,   365.,  4201.,  5001., 16600.],\n",
       "       [ 1000.,    40.,   365.,  2080.,  3320., 15600.],\n",
       "       [ 2000.,    40.,   365.,  4601.,  4601., 16600.]])"
      ]
     },
     "execution_count": 3,
     "metadata": {},
     "output_type": "execute_result"
    }
   ],
   "source": [
    "# Let's work with a dataset without NANs\n",
    "\n",
    "lend_co_data_num = np.loadtxt('Lending-Company-Numeric-Data.csv',\n",
    "                              delimiter=',')\n",
    "\n",
    "display(show_attr('lend_co_data_num'))\n",
    "lend_co_data_num"
   ]
  },
  {
   "cell_type": "code",
   "execution_count": null,
   "metadata": {},
   "outputs": [],
   "source": []
  },
  {
   "cell_type": "code",
   "execution_count": null,
   "metadata": {},
   "outputs": [],
   "source": []
  },
  {
   "cell_type": "code",
   "execution_count": null,
   "metadata": {},
   "outputs": [],
   "source": []
  },
  {
   "cell_type": "code",
   "execution_count": null,
   "metadata": {},
   "outputs": [],
   "source": []
  },
  {
   "cell_type": "code",
   "execution_count": null,
   "metadata": {},
   "outputs": [],
   "source": []
  },
  {
   "cell_type": "code",
   "execution_count": null,
   "metadata": {},
   "outputs": [],
   "source": []
  },
  {
   "cell_type": "code",
   "execution_count": 4,
   "metadata": {},
   "outputs": [
    {
     "data": {
      "text/plain": [
       "array([[1, 2, 0, 3, 4, 5],\n",
       "       [1, 2, 0, 3, 4, 5],\n",
       "       [1, 2, 0, 3, 4, 5],\n",
       "       ...,\n",
       "       [1, 2, 0, 3, 4, 5],\n",
       "       [1, 2, 0, 3, 4, 5],\n",
       "       [1, 2, 0, 3, 4, 5]], dtype=int64)"
      ]
     },
     "execution_count": 4,
     "metadata": {},
     "output_type": "execute_result"
    }
   ],
   "source": [
    "np.argsort(lend_co_data_num)    # def. axis=-1, last axis (1), cols values in e/row)\n",
    "\n",
    "## The indices that would sort the array"
   ]
  },
  {
   "cell_type": "code",
   "execution_count": 5,
   "metadata": {},
   "outputs": [
    {
     "data": {
      "text/plain": [
       "array([[ 1000.,    35.,   365., -2870., -2870.,  -350.],\n",
       "       [ 1000.,    35.,   365., -2550., -2100.,   150.],\n",
       "       [ 1000.,    35.,   365., -2450., -2000.,  1100.],\n",
       "       ...,\n",
       "       [ 9000.,   125.,   365., 16751., 18751., 54625.],\n",
       "       [ 9000.,   165.,   365., 17650., 20001., 54625.],\n",
       "       [ 9000.,   165.,   365., 19001., 22001., 64001.]])"
      ]
     },
     "metadata": {},
     "output_type": "display_data"
    },
    {
     "data": {
      "text/plain": [
       "array([[ 537,  443,    0,   32,   32,  482],\n",
       "       [ 639,  327,  687,  166,  166,  493],\n",
       "       [ 849,  432,  688,   85,   85,  166],\n",
       "       ...,\n",
       "       [  27,  326,  355,  568, 1019,  568],\n",
       "       [ 277,   27,  357,  718, 1033,  534],\n",
       "       [ 420,  408, 1042,  912,  912,   27]], dtype=int64)"
      ]
     },
     "metadata": {},
     "output_type": "display_data"
    },
    {
     "name": "stdout",
     "output_type": "stream",
     "text": [
      "-350.0 | -2000.0 | 17650.0\n"
     ]
    }
   ],
   "source": [
    "# Indices that would sort every value of columns, and check this values -350.0 | -2000.0 | 17650.0\n",
    "np.set_printoptions(suppress=True, precision=2)\n",
    "\n",
    "display(np.sort(lend_co_data_num, axis=0))\n",
    "display(np.argsort(lend_co_data_num, axis=0))\n",
    "print(lend_co_data_num[482,5], '|', lend_co_data_num[85,4], '|', lend_co_data_num[718,3])"
   ]
  },
  {
   "cell_type": "code",
   "execution_count": 6,
   "metadata": {},
   "outputs": [
    {
     "data": {
      "text/plain": [
       "array([537, 639, 849, ...,  27, 277, 420], dtype=int64)"
      ]
     },
     "metadata": {},
     "output_type": "display_data"
    },
    {
     "data": {
      "text/plain": [
       "array([[ 2000.,    40.,   365.,  3121.,  4241., 13621.],\n",
       "       [ 2000.,    40.,   365.,  3061.,  4171., 15041.],\n",
       "       [ 1000.,    40.,   365.,  2160.,  3280., 15340.],\n",
       "       ...,\n",
       "       [ 2000.,    40.,   365.,  4201.,  5001., 16600.],\n",
       "       [ 1000.,    40.,   365.,  2080.,  3320., 15600.],\n",
       "       [ 2000.,    40.,   365.,  4601.,  4601., 16600.]])"
      ]
     },
     "metadata": {},
     "output_type": "display_data"
    },
    {
     "data": {
      "text/plain": [
       "array([[ 1000.,    40.,   365.,  2200.,  3400., 15600.],\n",
       "       [ 1000.,    40.,   365.,  2200.,  3800., 15600.],\n",
       "       [ 1000.,    40.,   365.,  2000.,  3950., 15600.],\n",
       "       ...,\n",
       "       [ 9000.,   165.,   365., 14501., 16846., 64001.],\n",
       "       [ 9000.,   125.,   365., 12001., 15751., 38626.],\n",
       "       [ 9000.,   125.,   365., 12251., 14251., 25626.]])"
      ]
     },
     "execution_count": 6,
     "metadata": {},
     "output_type": "execute_result"
    }
   ],
   "source": [
    "## Using argsort to arrange individual rows or cols\n",
    "# Ex. arrange the vals of the 1st col and get their indices\n",
    "display(np.argsort(lend_co_data_num[:,0]))       # USEFUL!\n",
    "\n",
    "## We can take this order to rearrange all the rows based on their values in the 1st col.\n",
    "display(lend_co_data_num)\n",
    "lend_co_data_num = lend_co_data_num[np.argsort(lend_co_data_num[:,0])]\n",
    "lend_co_data_num\n",
    "# The values in the first col are arranged appropriately but not the rest, so we\n",
    "# successfully rearranged all the rows based on the values in the first position.\n",
    "# All the roads should remain intact and just be arranged in ascending order\n",
    "# based on the value stored in the first position of e/row\n",
    "## JM like in excel sort for a certain field (col)\n",
    "## this is because -> data[indices] make the same for each col"
   ]
  },
  {
   "cell_type": "code",
   "execution_count": 7,
   "metadata": {},
   "outputs": [
    {
     "data": {
      "text/plain": [
       "array([[101.  ,  29.79,  90.96,  29.48, 130.  ,  32.38],\n",
       "       [102.  ,  54.4 ,  55.09,  94.6 ,  54.53,  51.89],\n",
       "       [103.  , 272.11, 278.97, 276.02, 275.24, 166.26],\n",
       "       [104.  , 191.83, 102.89,  99.71,  39.29,  96.81],\n",
       "       [105.  , 216.07, 304.49, 391.25, 282.47, 278.7 ],\n",
       "       [106.  , 182.54, 184.58, 174.39, 176.43, 172.37],\n",
       "       [107.  , 172.9 , 171.83, 171.02, 168.76, 166.15],\n",
       "       [108.  ,  42.88,  43.3 ,  42.52,  43.42, 142.09],\n",
       "       [109.  ,  20.97,  21.2 ,  21.72,  22.25, 122.38],\n",
       "       [110.  , 377.56, 178.59, 360.46, 348.18, 339.64]])"
      ]
     },
     "metadata": {},
     "output_type": "display_data"
    },
    {
     "data": {
      "text/plain": [
       "array([8, 0, 7, 1, 6, 5, 3, 4, 2, 9], dtype=int64)"
      ]
     },
     "metadata": {},
     "output_type": "display_data"
    },
    {
     "data": {
      "text/plain": [
       "array([[109.  ,  20.97,  21.2 ,  21.72,  22.25, 122.38],\n",
       "       [101.  ,  29.79,  90.96,  29.48, 130.  ,  32.38],\n",
       "       [108.  ,  42.88,  43.3 ,  42.52,  43.42, 142.09],\n",
       "       [102.  ,  54.4 ,  55.09,  94.6 ,  54.53,  51.89],\n",
       "       [107.  , 172.9 , 171.83, 171.02, 168.76, 166.15],\n",
       "       [106.  , 182.54, 184.58, 174.39, 176.43, 172.37],\n",
       "       [104.  , 191.83, 102.89,  99.71,  39.29,  96.81],\n",
       "       [105.  , 216.07, 304.49, 391.25, 282.47, 278.7 ],\n",
       "       [103.  , 272.11, 278.97, 276.02, 275.24, 166.26],\n",
       "       [110.  , 377.56, 178.59, 360.46, 348.18, 339.64]])"
      ]
     },
     "execution_count": 7,
     "metadata": {},
     "output_type": "execute_result"
    }
   ],
   "source": [
    "## USEFUL ex. when each row of a dataset contains information about a specific client\n",
    "# (or date) since we want to keep this info intact.\n",
    "# Ex. analyzing a portfolio of stocks, each row in the dataset can represent the stock\n",
    "# of a diff company\n",
    "# Let see stockjm.csv\n",
    "display(sjm := np.loadtxt('sjm.txt', delimiter=','))\n",
    "# Cia names 101, 102, ... first row dates\n",
    "\n",
    "# Oder by ascending order of 2021\n",
    "display(ix_col1 := np.argsort(sjm[:,1]))\n",
    "sjm[np.argsort(sjm[:,1])]"
   ]
  },
  {
   "cell_type": "code",
   "execution_count": 8,
   "metadata": {},
   "outputs": [],
   "source": [
    "## ndarray.argsort() doesn´t overwrite the original array (Unlike Sort)\n",
    "# np.argsort() = ndarray.argsort()\n",
    "# np.sort() != ndarray.sort()  <- the last inplace=True"
   ]
  },
  {
   "cell_type": "markdown",
   "metadata": {},
   "source": [
    "### Notes and Exmples from Manual - np.argsort()\n",
    "- As of NumPy 1.4.0 argsort works with real/complex arrays containing nan values. The enhanced sort order is documented in sort."
   ]
  },
  {
   "cell_type": "code",
   "execution_count": 9,
   "metadata": {},
   "outputs": [
    {
     "data": {
      "text/plain": [
       "array([3, 1, 2])"
      ]
     },
     "metadata": {},
     "output_type": "display_data"
    },
    {
     "data": {
      "text/plain": [
       "array([1, 2, 0], dtype=int64)"
      ]
     },
     "metadata": {},
     "output_type": "display_data"
    }
   ],
   "source": [
    "# 1 D array\n",
    "display(x1 := np.array([3, 1, 2]))\n",
    "display(np.argsort(x1))"
   ]
  },
  {
   "cell_type": "code",
   "execution_count": 10,
   "metadata": {},
   "outputs": [
    {
     "data": {
      "text/plain": [
       "array([[0, 3],\n",
       "       [2, 2]])"
      ]
     },
     "metadata": {},
     "output_type": "display_data"
    },
    {
     "data": {
      "text/plain": [
       "array([[0, 1],\n",
       "       [1, 0]], dtype=int64)"
      ]
     },
     "metadata": {},
     "output_type": "display_data"
    },
    {
     "data": {
      "text/plain": [
       "array([[0, 2],\n",
       "       [2, 3]])"
      ]
     },
     "execution_count": 10,
     "metadata": {},
     "output_type": "execute_result"
    }
   ],
   "source": [
    "# 2D array\n",
    "display(x2 := np.array([[0, 3], [2, 2]]))\n",
    "display(ind := np.argsort(x2, axis=0))      # sorts along first axis (down)\n",
    "np.take_along_axis(x2, ind, axis=0)          # same as np.sort(x, axis=0)"
   ]
  },
  {
   "cell_type": "markdown",
   "metadata": {},
   "source": [
    "## Preparing real data -> stockjm.csv"
   ]
  },
  {
   "cell_type": "code",
   "execution_count": 11,
   "metadata": {},
   "outputs": [
    {
     "data": {
      "text/plain": [
       "array([['Date', '2020-09-01', '2020-09-02', '2020-09-03', '2020-09-04', '2020-09-08', '2020-09-09', '2020-09-10', '2020-09-11', '2020-09-14'],\n",
       "       ['GM', '29.790001', '30.959999', '29.480000', '30.000000', '32.380001', '31.950001', '30.170000', '30.459999', '31.180000'],\n",
       "       ['ETFC', '54.400002', '55.090000', '54.599998', '54.529999', '51.889999', '52.939999', '52.139999', '52.240002', '53.000000'],\n",
       "       ['ANTM', '272.109131', '278.974640', '276.015198', '275.237976', '266.260010', '267.420013', '260.839996', '258.029999', '265.600006'],\n",
       "       ['AME', '101.832825', '102.890884', '99.706734', '99.287506', '96.812050', '99.167725', '97.930000', '99.910004', '101.389999'],\n",
       "       ['MCO', '296.070007', '304.489990', '291.250000', '282.470001', '278.700012', '288.410004', '283.779999', '284.940002', '288.679993'],\n",
       "       ['URI', '182.539993', '184.580002', '174.389999', '176.429993', '172.369995', '175.889999', '171.960007', '174.630005', '176.580002'],\n",
       "       ['CME', '172.895493', '171.830948', '171.015106', '168.756653', '166.149994', '168.009995', '163.940002', '163.210007', '166.080002'],\n",
       "       ['PFG', '42.880001', '43.299999', '42.520000', '43.419998', '42.090000', '41.849998', '40.770000', '41.070000', '41.320000'],\n",
       "       ['KSS', '20.969999', '21.200001', '21.719999', '22.250000', '22.379999', '22.030001', '21.889999', '21.330000', '23.370001'],\n",
       "       ['MSCI', '377.559998', '378.589996', '360.459991', '348.179993', '339.640015', '348.690002', '342.529999', '339.250000', '342.369995']],\n",
       "      dtype='<U10')"
      ]
     },
     "metadata": {},
     "output_type": "display_data"
    },
    {
     "data": {
      "text/plain": [
       "' stock: | shape: (11, 10) | ndim: 2 | size: 110 | dtype: <U10 '"
      ]
     },
     "metadata": {},
     "output_type": "display_data"
    },
    {
     "data": {
      "text/plain": [
       "array([['Date', '2020-09-01', '2020-09-02', '2020-09-03', '2020-09-04', '2020-09-08'],\n",
       "       ['GM', '29.790001', '30.959999', '29.480000', '30.000000', '32.380001'],\n",
       "       ['ETFC', '54.400002', '55.090000', '54.599998', '54.529999', '51.889999'],\n",
       "       ['ANTM', '272.109131', '278.974640', '276.015198', '275.237976', '266.260010'],\n",
       "       ['AME', '101.832825', '102.890884', '99.706734', '99.287506', '96.812050'],\n",
       "       ['MCO', '296.070007', '304.489990', '291.250000', '282.470001', '278.700012'],\n",
       "       ['URI', '182.539993', '184.580002', '174.389999', '176.429993', '172.369995'],\n",
       "       ['CME', '172.895493', '171.830948', '171.015106', '168.756653', '166.149994'],\n",
       "       ['PFG', '42.880001', '43.299999', '42.520000', '43.419998', '42.090000'],\n",
       "       ['KSS', '20.969999', '21.200001', '21.719999', '22.250000', '22.379999'],\n",
       "       ['MSCI', '377.559998', '378.589996', '360.459991', '348.179993', '339.640015']], dtype='<U10')"
      ]
     },
     "metadata": {},
     "output_type": "display_data"
    },
    {
     "data": {
      "text/plain": [
       "' s1: | shape: (11, 6) | ndim: 2 | size: 66 | dtype: <U10 '"
      ]
     },
     "execution_count": 11,
     "metadata": {},
     "output_type": "execute_result"
    }
   ],
   "source": [
    "### JM - JM - JM Prepare Stock dataset (stockjm_csv)\n",
    "np.set_printoptions(linewidth=150)\n",
    "\n",
    "display(stock := np.genfromtxt('stock.txt',\n",
    "                               delimiter=',',\n",
    "                               dtype=str))\n",
    "\n",
    "display(show_attr('stock'))\n",
    "display(s1 := np.delete(stock, (-1,-2,-3,-4), axis=1))\n",
    "show_attr('s1')\n",
    "# display(s2 := stock[:,(0,1,2,3,4,5)])\n",
    "# show_attr('s2'"
   ]
  },
  {
   "cell_type": "code",
   "execution_count": 12,
   "metadata": {},
   "outputs": [
    {
     "data": {
      "text/plain": [
       "array([['100', '2020-09-01', '2020-09-02', '2020-09-03', '2020-09-04', '2020-09-08'],\n",
       "       ['101', '29.790001', '30.959999', '29.480000', '30.000000', '32.380001'],\n",
       "       ['102', '54.400002', '55.090000', '54.599998', '54.529999', '51.889999'],\n",
       "       ['103', '272.109131', '278.974640', '276.015198', '275.237976', '266.260010'],\n",
       "       ['104', '101.832825', '102.890884', '99.706734', '99.287506', '96.812050'],\n",
       "       ['105', '296.070007', '304.489990', '291.250000', '282.470001', '278.700012'],\n",
       "       ['106', '182.539993', '184.580002', '174.389999', '176.429993', '172.369995'],\n",
       "       ['107', '172.895493', '171.830948', '171.015106', '168.756653', '166.149994'],\n",
       "       ['108', '42.880001', '43.299999', '42.520000', '43.419998', '42.090000'],\n",
       "       ['109', '20.969999', '21.200001', '21.719999', '22.250000', '22.379999'],\n",
       "       ['110', '377.559998', '378.589996', '360.459991', '348.179993', '339.640015']], dtype='<U10')"
      ]
     },
     "execution_count": 12,
     "metadata": {},
     "output_type": "execute_result"
    }
   ],
   "source": [
    "# Change the strname of a cia by 100 + num\n",
    "for i in range(s1.shape[0]):\n",
    "    val = str(i + 100)\n",
    "    s1[i,0] = val\n",
    "s1"
   ]
  },
  {
   "cell_type": "code",
   "execution_count": 13,
   "metadata": {},
   "outputs": [
    {
     "data": {
      "text/plain": [
       "array([['100', '20201', '20202', '20203', '20204', '20205'],\n",
       "       ['101', '29.790001', '30.959999', '29.480000', '30.000000', '32.380001'],\n",
       "       ['102', '54.400002', '55.090000', '54.599998', '54.529999', '51.889999'],\n",
       "       ['103', '272.109131', '278.974640', '276.015198', '275.237976', '266.260010'],\n",
       "       ['104', '101.832825', '102.890884', '99.706734', '99.287506', '96.812050'],\n",
       "       ['105', '296.070007', '304.489990', '291.250000', '282.470001', '278.700012'],\n",
       "       ['106', '182.539993', '184.580002', '174.389999', '176.429993', '172.369995'],\n",
       "       ['107', '172.895493', '171.830948', '171.015106', '168.756653', '166.149994'],\n",
       "       ['108', '42.880001', '43.299999', '42.520000', '43.419998', '42.090000'],\n",
       "       ['109', '20.969999', '21.200001', '21.719999', '22.250000', '22.379999'],\n",
       "       ['110', '377.559998', '378.589996', '360.459991', '348.179993', '339.640015']], dtype='<U10')"
      ]
     },
     "execution_count": 13,
     "metadata": {},
     "output_type": "execute_result"
    }
   ],
   "source": [
    "# Change the date of row[0] by 2020 + num\n",
    "for i in range(1, s1.shape[1]):\n",
    "    val = str(20200 + i)\n",
    "    s1[0,i] = val\n",
    "s1"
   ]
  },
  {
   "cell_type": "code",
   "execution_count": 14,
   "metadata": {},
   "outputs": [],
   "source": [
    "# savetxt - comment in order not to write every run!\n",
    "# np.savetxt('stockjm.csv',\n",
    "#            s1,\n",
    "#            delimiter=',',\n",
    "#            fmt='%s')"
   ]
  },
  {
   "cell_type": "code",
   "execution_count": 15,
   "metadata": {},
   "outputs": [
    {
     "data": {
      "text/plain": [
       "array([[  100.  , 20201.  , 20202.  , 20203.  , 20204.  , 20205.  ],\n",
       "       [  101.  ,    29.79,    30.96,    29.48,    30.  ,    32.38],\n",
       "       [  102.  ,    54.4 ,    55.09,    54.6 ,    54.53,    51.89],\n",
       "       [  103.  ,   272.11,   278.97,   276.02,   275.24,   266.26],\n",
       "       [  104.  ,   101.83,   102.89,    99.71,    99.29,    96.81],\n",
       "       [  105.  ,   296.07,   304.49,   291.25,   282.47,   278.7 ],\n",
       "       [  106.  ,   182.54,   184.58,   174.39,   176.43,   172.37],\n",
       "       [  107.  ,   172.9 ,   171.83,   171.02,   168.76,   166.15],\n",
       "       [  108.  ,    42.88,    43.3 ,    42.52,    43.42,    42.09],\n",
       "       [  109.  ,    20.97,    21.2 ,    21.72,    22.25,    22.38],\n",
       "       [  110.  ,   377.56,   378.59,   360.46,   348.18,   339.64]])"
      ]
     },
     "metadata": {},
     "output_type": "display_data"
    },
    {
     "data": {
      "text/plain": [
       "' stockjm: | shape: (11, 6) | ndim: 2 | size: 66 | dtype: float64 '"
      ]
     },
     "execution_count": 15,
     "metadata": {},
     "output_type": "execute_result"
    }
   ],
   "source": [
    "# loadtxt\n",
    "np.set_printoptions(precision=2, linewidth=75)\n",
    "\n",
    "display(stockjm := np.loadtxt('stockjm.csv', delimiter=','))\n",
    "show_attr('stockjm')"
   ]
  }
 ],
 "metadata": {
  "kernelspec": {
   "display_name": "Python 3",
   "language": "python",
   "name": "python3"
  },
  "language_info": {
   "codemirror_mode": {
    "name": "ipython",
    "version": 3
   },
   "file_extension": ".py",
   "mimetype": "text/x-python",
   "name": "python",
   "nbconvert_exporter": "python",
   "pygments_lexer": "ipython3",
   "version": "3.11.0"
  }
 },
 "nbformat": 4,
 "nbformat_minor": 2
}

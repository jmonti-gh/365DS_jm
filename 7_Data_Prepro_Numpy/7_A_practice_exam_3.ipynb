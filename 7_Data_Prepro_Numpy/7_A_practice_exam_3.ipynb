{
 "cells": [
  {
   "cell_type": "markdown",
   "metadata": {},
   "source": [
    "# 7 Statistics with NumPy\n",
    "## 7_8 Practice Exam 3\n",
    "- np.sort() .-| axis=None (flat) idem np.sort(np.reshape(X,))\n",
    "- np.loadtxt() .-| delimiter=\n",
    "- np.genfromtxt() .-| skip_header=, skip_footer=, usecols=, unpack=, dtype=\n",
    "- npsave() .-| .npy\n",
    "- np.savez() .-| .npz\n",
    "- np.savetxt .-| .csv or .txt .-| delimiter=, fmt= '%s'\n",
    "- np.min() - np.amin() - np.max() - np.amax() .-| axis=\n",
    "- np.minimun(), np.maximun() .-| .reduce() .-| \n",
    "- np.median() .-| axis=\n",
    "- np.percentile() .-| q=0-100, axis=\n",
    "- np.quantile() .-| q=0-1, axis=\n",
    "- np.mean() .-| axis=\n",
    "- np.average() .-| weights=, axis=\n",
    "- np.cov() .-| m, y=None, rowvar=True .-| cov(X,X)= var(X)\n",
    "- np.corrcoef .-| x, y=None, rowvar=True\n",
    "- np.histogram .-| a, bins=, range=\n",
    "- np.histogram2d .-| x, y, bins=, range=\n",
    "- np.histogramdd .-| sample, bins, range=\n",
    "- NAN equiv funct. - np.nanvar() - np.nan... .-| jm -> np.histogram(A[~np.isnan(A)])"
   ]
  },
  {
   "cell_type": "code",
   "execution_count": 18,
   "metadata": {},
   "outputs": [
    {
     "data": {
      "text/plain": [
       "'1.26.4'"
      ]
     },
     "execution_count": 18,
     "metadata": {},
     "output_type": "execute_result"
    }
   ],
   "source": [
    "import numpy as np\n",
    "import matplotlib.pyplot as plt\n",
    "import seaborn as sns\n",
    "from numpy.random import Generator as gen \n",
    "from numpy.random import PCG64 as pcg \n",
    "\n",
    "sns.set_style('darkgrid')\n",
    "#sns.set_style(\"darkgrid\", {\"grid.color\": \".6\", \"grid.linestyle\": \":\"})\n",
    "array_RG = gen(pcg(seed=365))\n",
    "np.__version__"
   ]
  },
  {
   "cell_type": "code",
   "execution_count": 19,
   "metadata": {},
   "outputs": [
    {
     "name": "stdout",
     "output_type": "stream",
     "text": [
      "\u001b[1;31mSignature:\u001b[0m\n",
      "\u001b[0mnp\u001b[0m\u001b[1;33m.\u001b[0m\u001b[0mloadtxt\u001b[0m\u001b[1;33m(\u001b[0m\u001b[1;33m\n",
      "\u001b[0m    \u001b[0mfname\u001b[0m\u001b[1;33m,\u001b[0m\u001b[1;33m\n",
      "\u001b[0m    \u001b[0mdtype\u001b[0m\u001b[1;33m=\u001b[0m\u001b[1;33m<\u001b[0m\u001b[1;32mclass\u001b[0m \u001b[1;34m'float'\u001b[0m\u001b[1;33m>\u001b[0m\u001b[1;33m,\u001b[0m\u001b[1;33m\n",
      "\u001b[0m    \u001b[0mcomments\u001b[0m\u001b[1;33m=\u001b[0m\u001b[1;34m'#'\u001b[0m\u001b[1;33m,\u001b[0m\u001b[1;33m\n",
      "\u001b[0m    \u001b[0mdelimiter\u001b[0m\u001b[1;33m=\u001b[0m\u001b[1;32mNone\u001b[0m\u001b[1;33m,\u001b[0m\u001b[1;33m\n",
      "\u001b[0m    \u001b[0mconverters\u001b[0m\u001b[1;33m=\u001b[0m\u001b[1;32mNone\u001b[0m\u001b[1;33m,\u001b[0m\u001b[1;33m\n",
      "\u001b[0m    \u001b[0mskiprows\u001b[0m\u001b[1;33m=\u001b[0m\u001b[1;36m0\u001b[0m\u001b[1;33m,\u001b[0m\u001b[1;33m\n",
      "\u001b[0m    \u001b[0musecols\u001b[0m\u001b[1;33m=\u001b[0m\u001b[1;32mNone\u001b[0m\u001b[1;33m,\u001b[0m\u001b[1;33m\n",
      "\u001b[0m    \u001b[0munpack\u001b[0m\u001b[1;33m=\u001b[0m\u001b[1;32mFalse\u001b[0m\u001b[1;33m,\u001b[0m\u001b[1;33m\n",
      "\u001b[0m    \u001b[0mndmin\u001b[0m\u001b[1;33m=\u001b[0m\u001b[1;36m0\u001b[0m\u001b[1;33m,\u001b[0m\u001b[1;33m\n",
      "\u001b[0m    \u001b[0mencoding\u001b[0m\u001b[1;33m=\u001b[0m\u001b[1;34m'bytes'\u001b[0m\u001b[1;33m,\u001b[0m\u001b[1;33m\n",
      "\u001b[0m    \u001b[0mmax_rows\u001b[0m\u001b[1;33m=\u001b[0m\u001b[1;32mNone\u001b[0m\u001b[1;33m,\u001b[0m\u001b[1;33m\n",
      "\u001b[0m    \u001b[1;33m*\u001b[0m\u001b[1;33m,\u001b[0m\u001b[1;33m\n",
      "\u001b[0m    \u001b[0mquotechar\u001b[0m\u001b[1;33m=\u001b[0m\u001b[1;32mNone\u001b[0m\u001b[1;33m,\u001b[0m\u001b[1;33m\n",
      "\u001b[0m    \u001b[0mlike\u001b[0m\u001b[1;33m=\u001b[0m\u001b[1;32mNone\u001b[0m\u001b[1;33m,\u001b[0m\u001b[1;33m\n",
      "\u001b[0m\u001b[1;33m)\u001b[0m\u001b[1;33m\u001b[0m\u001b[1;33m\u001b[0m\u001b[0m\n",
      "\u001b[1;31mDocstring:\u001b[0m\n",
      "Load data from a text file.\n",
      "\n",
      "Parameters\n",
      "----------\n",
      "fname : file, str, pathlib.Path, list of str, generator\n",
      "    File, filename, list, or generator to read.  If the filename\n",
      "    extension is ``.gz`` or ``.bz2``, the file is first decompressed. Note\n",
      "    that generators must return bytes or strings. The strings\n",
      "    in a list or produced by a generator are treated as lines.\n",
      "dtype : data-type, optional\n",
      "    Data-type of the resulting array; default: float.  If this is a\n",
      "    structured data-type, the resulting array will be 1-dimensional, and\n",
      "    each row will be interpreted as an element of the array.  In this\n",
      "    case, the number of columns used must match the number of fields in\n",
      "    the data-type.\n",
      "comments : str or sequence of str or None, optional\n",
      "    The characters or list of characters used to indicate the start of a\n",
      "    comment. None implies no comments. For backwards compatibility, byte\n",
      "    strings will be decoded as 'latin1'. The default is '#'.\n",
      "delimiter : str, optional\n",
      "    The character used to separate the values. For backwards compatibility,\n",
      "    byte strings will be decoded as 'latin1'. The default is whitespace.\n",
      "\n",
      "    .. versionchanged:: 1.23.0\n",
      "       Only single character delimiters are supported. Newline characters\n",
      "       cannot be used as the delimiter.\n",
      "\n",
      "converters : dict or callable, optional\n",
      "    Converter functions to customize value parsing. If `converters` is\n",
      "    callable, the function is applied to all columns, else it must be a\n",
      "    dict that maps column number to a parser function.\n",
      "    See examples for further details.\n",
      "    Default: None.\n",
      "\n",
      "    .. versionchanged:: 1.23.0\n",
      "       The ability to pass a single callable to be applied to all columns\n",
      "       was added.\n",
      "\n",
      "skiprows : int, optional\n",
      "    Skip the first `skiprows` lines, including comments; default: 0.\n",
      "usecols : int or sequence, optional\n",
      "    Which columns to read, with 0 being the first. For example,\n",
      "    ``usecols = (1,4,5)`` will extract the 2nd, 5th and 6th columns.\n",
      "    The default, None, results in all columns being read.\n",
      "\n",
      "    .. versionchanged:: 1.11.0\n",
      "        When a single column has to be read it is possible to use\n",
      "        an integer instead of a tuple. E.g ``usecols = 3`` reads the\n",
      "        fourth column the same way as ``usecols = (3,)`` would.\n",
      "unpack : bool, optional\n",
      "    If True, the returned array is transposed, so that arguments may be\n",
      "    unpacked using ``x, y, z = loadtxt(...)``.  When used with a\n",
      "    structured data-type, arrays are returned for each field.\n",
      "    Default is False.\n",
      "ndmin : int, optional\n",
      "    The returned array will have at least `ndmin` dimensions.\n",
      "    Otherwise mono-dimensional axes will be squeezed.\n",
      "    Legal values: 0 (default), 1 or 2.\n",
      "\n",
      "    .. versionadded:: 1.6.0\n",
      "encoding : str, optional\n",
      "    Encoding used to decode the inputfile. Does not apply to input streams.\n",
      "    The special value 'bytes' enables backward compatibility workarounds\n",
      "    that ensures you receive byte arrays as results if possible and passes\n",
      "    'latin1' encoded strings to converters. Override this value to receive\n",
      "    unicode arrays and pass strings as input to converters.  If set to None\n",
      "    the system default is used. The default value is 'bytes'.\n",
      "\n",
      "    .. versionadded:: 1.14.0\n",
      "max_rows : int, optional\n",
      "    Read `max_rows` rows of content after `skiprows` lines. The default is\n",
      "    to read all the rows. Note that empty rows containing no data such as\n",
      "    empty lines and comment lines are not counted towards `max_rows`,\n",
      "    while such lines are counted in `skiprows`.\n",
      "\n",
      "    .. versionadded:: 1.16.0\n",
      "\n",
      "    .. versionchanged:: 1.23.0\n",
      "        Lines containing no data, including comment lines (e.g., lines\n",
      "        starting with '#' or as specified via `comments`) are not counted\n",
      "        towards `max_rows`.\n",
      "quotechar : unicode character or None, optional\n",
      "    The character used to denote the start and end of a quoted item.\n",
      "    Occurrences of the delimiter or comment characters are ignored within\n",
      "    a quoted item. The default value is ``quotechar=None``, which means\n",
      "    quoting support is disabled.\n",
      "\n",
      "    If two consecutive instances of `quotechar` are found within a quoted\n",
      "    field, the first is treated as an escape character. See examples.\n",
      "\n",
      "    .. versionadded:: 1.23.0\n",
      "like : array_like, optional\n",
      "    Reference object to allow the creation of arrays which are not\n",
      "    NumPy arrays. If an array-like passed in as ``like`` supports\n",
      "    the ``__array_function__`` protocol, the result will be defined\n",
      "    by it. In this case, it ensures the creation of an array object\n",
      "    compatible with that passed in via this argument.\n",
      "\n",
      "    .. versionadded:: 1.20.0\n",
      "\n",
      "Returns\n",
      "-------\n",
      "out : ndarray\n",
      "    Data read from the text file.\n",
      "\n",
      "See Also\n",
      "--------\n",
      "load, fromstring, fromregex\n",
      "genfromtxt : Load data with missing values handled as specified.\n",
      "scipy.io.loadmat : reads MATLAB data files\n",
      "\n",
      "Notes\n",
      "-----\n",
      "This function aims to be a fast reader for simply formatted files.  The\n",
      "`genfromtxt` function provides more sophisticated handling of, e.g.,\n",
      "lines with missing values.\n",
      "\n",
      "Each row in the input text file must have the same number of values to be\n",
      "able to read all values. If all rows do not have same number of values, a\n",
      "subset of up to n columns (where n is the least number of values present\n",
      "in all rows) can be read by specifying the columns via `usecols`.\n",
      "\n",
      ".. versionadded:: 1.10.0\n",
      "\n",
      "The strings produced by the Python float.hex method can be used as\n",
      "input for floats.\n",
      "\n",
      "Examples\n",
      "--------\n",
      ">>> from io import StringIO   # StringIO behaves like a file object\n",
      ">>> c = StringIO(\"0 1\\n2 3\")\n",
      ">>> np.loadtxt(c)\n",
      "array([[0., 1.],\n",
      "       [2., 3.]])\n",
      "\n",
      ">>> d = StringIO(\"M 21 72\\nF 35 58\")\n",
      ">>> np.loadtxt(d, dtype={'names': ('gender', 'age', 'weight'),\n",
      "...                      'formats': ('S1', 'i4', 'f4')})\n",
      "array([(b'M', 21, 72.), (b'F', 35, 58.)],\n",
      "      dtype=[('gender', 'S1'), ('age', '<i4'), ('weight', '<f4')])\n",
      "\n",
      ">>> c = StringIO(\"1,0,2\\n3,0,4\")\n",
      ">>> x, y = np.loadtxt(c, delimiter=',', usecols=(0, 2), unpack=True)\n",
      ">>> x\n",
      "array([1., 3.])\n",
      ">>> y\n",
      "array([2., 4.])\n",
      "\n",
      "The `converters` argument is used to specify functions to preprocess the\n",
      "text prior to parsing. `converters` can be a dictionary that maps\n",
      "preprocessing functions to each column:\n",
      "\n",
      ">>> s = StringIO(\"1.618, 2.296\\n3.141, 4.669\\n\")\n",
      ">>> conv = {\n",
      "...     0: lambda x: np.floor(float(x)),  # conversion fn for column 0\n",
      "...     1: lambda x: np.ceil(float(x)),  # conversion fn for column 1\n",
      "... }\n",
      ">>> np.loadtxt(s, delimiter=\",\", converters=conv)\n",
      "array([[1., 3.],\n",
      "       [3., 5.]])\n",
      "\n",
      "`converters` can be a callable instead of a dictionary, in which case it\n",
      "is applied to all columns:\n",
      "\n",
      ">>> s = StringIO(\"0xDE 0xAD\\n0xC0 0xDE\")\n",
      ">>> import functools\n",
      ">>> conv = functools.partial(int, base=16)\n",
      ">>> np.loadtxt(s, converters=conv)\n",
      "array([[222., 173.],\n",
      "       [192., 222.]])\n",
      "\n",
      "This example shows how `converters` can be used to convert a field\n",
      "with a trailing minus sign into a negative number.\n",
      "\n",
      ">>> s = StringIO('10.01 31.25-\\n19.22 64.31\\n17.57- 63.94')\n",
      ">>> def conv(fld):\n",
      "...     return -float(fld[:-1]) if fld.endswith(b'-') else float(fld)\n",
      "...\n",
      ">>> np.loadtxt(s, converters=conv)\n",
      "array([[ 10.01, -31.25],\n",
      "       [ 19.22,  64.31],\n",
      "       [-17.57,  63.94]])\n",
      "\n",
      "Using a callable as the converter can be particularly useful for handling\n",
      "values with different formatting, e.g. floats with underscores:\n",
      "\n",
      ">>> s = StringIO(\"1 2.7 100_000\")\n",
      ">>> np.loadtxt(s, converters=float)\n",
      "array([1.e+00, 2.7e+00, 1.e+05])\n",
      "\n",
      "This idea can be extended to automatically handle values specified in\n",
      "many different formats:\n",
      "\n",
      ">>> def conv(val):\n",
      "...     try:\n",
      "...         return float(val)\n",
      "...     except ValueError:\n",
      "...         return float.fromhex(val)\n",
      ">>> s = StringIO(\"1, 2.5, 3_000, 0b4, 0x1.4000000000000p+2\")\n",
      ">>> np.loadtxt(s, delimiter=\",\", converters=conv, encoding=None)\n",
      "array([1.0e+00, 2.5e+00, 3.0e+03, 1.8e+02, 5.0e+00])\n",
      "\n",
      "Note that with the default ``encoding=\"bytes\"``, the inputs to the\n",
      "converter function are latin-1 encoded byte strings. To deactivate the\n",
      "implicit encoding prior to conversion, use ``encoding=None``\n",
      "\n",
      ">>> s = StringIO('10.01 31.25-\\n19.22 64.31\\n17.57- 63.94')\n",
      ">>> conv = lambda x: -float(x[:-1]) if x.endswith('-') else float(x)\n",
      ">>> np.loadtxt(s, converters=conv, encoding=None)\n",
      "array([[ 10.01, -31.25],\n",
      "       [ 19.22,  64.31],\n",
      "       [-17.57,  63.94]])\n",
      "\n",
      "Support for quoted fields is enabled with the `quotechar` parameter.\n",
      "Comment and delimiter characters are ignored when they appear within a\n",
      "quoted item delineated by `quotechar`:\n",
      "\n",
      ">>> s = StringIO('\"alpha, #42\", 10.0\\n\"beta, #64\", 2.0\\n')\n",
      ">>> dtype = np.dtype([(\"label\", \"U12\"), (\"value\", float)])\n",
      ">>> np.loadtxt(s, dtype=dtype, delimiter=\",\", quotechar='\"')\n",
      "array([('alpha, #42', 10.), ('beta, #64',  2.)],\n",
      "      dtype=[('label', '<U12'), ('value', '<f8')])\n",
      "\n",
      "Quoted fields can be separated by multiple whitespace characters:\n",
      "\n",
      ">>> s = StringIO('\"alpha, #42\"       10.0\\n\"beta, #64\" 2.0\\n')\n",
      ">>> dtype = np.dtype([(\"label\", \"U12\"), (\"value\", float)])\n",
      ">>> np.loadtxt(s, dtype=dtype, delimiter=None, quotechar='\"')\n",
      "array([('alpha, #42', 10.), ('beta, #64',  2.)],\n",
      "      dtype=[('label', '<U12'), ('value', '<f8')])\n",
      "\n",
      "Two consecutive quote characters within a quoted field are treated as a\n",
      "single escaped character:\n",
      "\n",
      ">>> s = StringIO('\"Hello, my name is \"\"Monty\"\"!\"')\n",
      ">>> np.loadtxt(s, dtype=\"U\", delimiter=\",\", quotechar='\"')\n",
      "array('Hello, my name is \"Monty\"!', dtype='<U26')\n",
      "\n",
      "Read subset of columns when all rows do not contain equal number of values:\n",
      "\n",
      ">>> d = StringIO(\"1 2\\n2 4\\n3 9 12\\n4 16 20\")\n",
      ">>> np.loadtxt(d, usecols=(0, 1))\n",
      "array([[ 1.,  2.],\n",
      "       [ 2.,  4.],\n",
      "       [ 3.,  9.],\n",
      "       [ 4., 16.]])\n",
      "\u001b[1;31mFile:\u001b[0m      c:\\users\\jmonti\\appdata\\local\\programs\\python\\python311\\lib\\site-packages\\numpy\\lib\\npyio.py\n",
      "\u001b[1;31mType:\u001b[0m      function"
     ]
    }
   ],
   "source": [
    "np.loadtxt?"
   ]
  },
  {
   "cell_type": "code",
   "execution_count": 20,
   "metadata": {},
   "outputs": [
    {
     "name": "stdout",
     "output_type": "stream",
     "text": [
      "\u001b[1;31mSignature:\u001b[0m\n",
      "\u001b[0mnp\u001b[0m\u001b[1;33m.\u001b[0m\u001b[0mgenfromtxt\u001b[0m\u001b[1;33m(\u001b[0m\u001b[1;33m\n",
      "\u001b[0m    \u001b[0mfname\u001b[0m\u001b[1;33m,\u001b[0m\u001b[1;33m\n",
      "\u001b[0m    \u001b[0mdtype\u001b[0m\u001b[1;33m=\u001b[0m\u001b[1;33m<\u001b[0m\u001b[1;32mclass\u001b[0m \u001b[1;34m'float'\u001b[0m\u001b[1;33m>\u001b[0m\u001b[1;33m,\u001b[0m\u001b[1;33m\n",
      "\u001b[0m    \u001b[0mcomments\u001b[0m\u001b[1;33m=\u001b[0m\u001b[1;34m'#'\u001b[0m\u001b[1;33m,\u001b[0m\u001b[1;33m\n",
      "\u001b[0m    \u001b[0mdelimiter\u001b[0m\u001b[1;33m=\u001b[0m\u001b[1;32mNone\u001b[0m\u001b[1;33m,\u001b[0m\u001b[1;33m\n",
      "\u001b[0m    \u001b[0mskip_header\u001b[0m\u001b[1;33m=\u001b[0m\u001b[1;36m0\u001b[0m\u001b[1;33m,\u001b[0m\u001b[1;33m\n",
      "\u001b[0m    \u001b[0mskip_footer\u001b[0m\u001b[1;33m=\u001b[0m\u001b[1;36m0\u001b[0m\u001b[1;33m,\u001b[0m\u001b[1;33m\n",
      "\u001b[0m    \u001b[0mconverters\u001b[0m\u001b[1;33m=\u001b[0m\u001b[1;32mNone\u001b[0m\u001b[1;33m,\u001b[0m\u001b[1;33m\n",
      "\u001b[0m    \u001b[0mmissing_values\u001b[0m\u001b[1;33m=\u001b[0m\u001b[1;32mNone\u001b[0m\u001b[1;33m,\u001b[0m\u001b[1;33m\n",
      "\u001b[0m    \u001b[0mfilling_values\u001b[0m\u001b[1;33m=\u001b[0m\u001b[1;32mNone\u001b[0m\u001b[1;33m,\u001b[0m\u001b[1;33m\n",
      "\u001b[0m    \u001b[0musecols\u001b[0m\u001b[1;33m=\u001b[0m\u001b[1;32mNone\u001b[0m\u001b[1;33m,\u001b[0m\u001b[1;33m\n",
      "\u001b[0m    \u001b[0mnames\u001b[0m\u001b[1;33m=\u001b[0m\u001b[1;32mNone\u001b[0m\u001b[1;33m,\u001b[0m\u001b[1;33m\n",
      "\u001b[0m    \u001b[0mexcludelist\u001b[0m\u001b[1;33m=\u001b[0m\u001b[1;32mNone\u001b[0m\u001b[1;33m,\u001b[0m\u001b[1;33m\n",
      "\u001b[0m    \u001b[0mdeletechars\u001b[0m\u001b[1;33m=\u001b[0m\u001b[1;34m\" !#$%&'()*+,-./:;<=>?@[\\\\]^{|}~\"\u001b[0m\u001b[1;33m,\u001b[0m\u001b[1;33m\n",
      "\u001b[0m    \u001b[0mreplace_space\u001b[0m\u001b[1;33m=\u001b[0m\u001b[1;34m'_'\u001b[0m\u001b[1;33m,\u001b[0m\u001b[1;33m\n",
      "\u001b[0m    \u001b[0mautostrip\u001b[0m\u001b[1;33m=\u001b[0m\u001b[1;32mFalse\u001b[0m\u001b[1;33m,\u001b[0m\u001b[1;33m\n",
      "\u001b[0m    \u001b[0mcase_sensitive\u001b[0m\u001b[1;33m=\u001b[0m\u001b[1;32mTrue\u001b[0m\u001b[1;33m,\u001b[0m\u001b[1;33m\n",
      "\u001b[0m    \u001b[0mdefaultfmt\u001b[0m\u001b[1;33m=\u001b[0m\u001b[1;34m'f%i'\u001b[0m\u001b[1;33m,\u001b[0m\u001b[1;33m\n",
      "\u001b[0m    \u001b[0munpack\u001b[0m\u001b[1;33m=\u001b[0m\u001b[1;32mNone\u001b[0m\u001b[1;33m,\u001b[0m\u001b[1;33m\n",
      "\u001b[0m    \u001b[0musemask\u001b[0m\u001b[1;33m=\u001b[0m\u001b[1;32mFalse\u001b[0m\u001b[1;33m,\u001b[0m\u001b[1;33m\n",
      "\u001b[0m    \u001b[0mloose\u001b[0m\u001b[1;33m=\u001b[0m\u001b[1;32mTrue\u001b[0m\u001b[1;33m,\u001b[0m\u001b[1;33m\n",
      "\u001b[0m    \u001b[0minvalid_raise\u001b[0m\u001b[1;33m=\u001b[0m\u001b[1;32mTrue\u001b[0m\u001b[1;33m,\u001b[0m\u001b[1;33m\n",
      "\u001b[0m    \u001b[0mmax_rows\u001b[0m\u001b[1;33m=\u001b[0m\u001b[1;32mNone\u001b[0m\u001b[1;33m,\u001b[0m\u001b[1;33m\n",
      "\u001b[0m    \u001b[0mencoding\u001b[0m\u001b[1;33m=\u001b[0m\u001b[1;34m'bytes'\u001b[0m\u001b[1;33m,\u001b[0m\u001b[1;33m\n",
      "\u001b[0m    \u001b[1;33m*\u001b[0m\u001b[1;33m,\u001b[0m\u001b[1;33m\n",
      "\u001b[0m    \u001b[0mndmin\u001b[0m\u001b[1;33m=\u001b[0m\u001b[1;36m0\u001b[0m\u001b[1;33m,\u001b[0m\u001b[1;33m\n",
      "\u001b[0m    \u001b[0mlike\u001b[0m\u001b[1;33m=\u001b[0m\u001b[1;32mNone\u001b[0m\u001b[1;33m,\u001b[0m\u001b[1;33m\n",
      "\u001b[0m\u001b[1;33m)\u001b[0m\u001b[1;33m\u001b[0m\u001b[1;33m\u001b[0m\u001b[0m\n",
      "\u001b[1;31mDocstring:\u001b[0m\n",
      "Load data from a text file, with missing values handled as specified.\n",
      "\n",
      "Each line past the first `skip_header` lines is split at the `delimiter`\n",
      "character, and characters following the `comments` character are discarded.\n",
      "\n",
      "Parameters\n",
      "----------\n",
      "fname : file, str, pathlib.Path, list of str, generator\n",
      "    File, filename, list, or generator to read.  If the filename\n",
      "    extension is ``.gz`` or ``.bz2``, the file is first decompressed. Note\n",
      "    that generators must return bytes or strings. The strings\n",
      "    in a list or produced by a generator are treated as lines.\n",
      "dtype : dtype, optional\n",
      "    Data type of the resulting array.\n",
      "    If None, the dtypes will be determined by the contents of each\n",
      "    column, individually.\n",
      "comments : str, optional\n",
      "    The character used to indicate the start of a comment.\n",
      "    All the characters occurring on a line after a comment are discarded.\n",
      "delimiter : str, int, or sequence, optional\n",
      "    The string used to separate values.  By default, any consecutive\n",
      "    whitespaces act as delimiter.  An integer or sequence of integers\n",
      "    can also be provided as width(s) of each field.\n",
      "skiprows : int, optional\n",
      "    `skiprows` was removed in numpy 1.10. Please use `skip_header` instead.\n",
      "skip_header : int, optional\n",
      "    The number of lines to skip at the beginning of the file.\n",
      "skip_footer : int, optional\n",
      "    The number of lines to skip at the end of the file.\n",
      "converters : variable, optional\n",
      "    The set of functions that convert the data of a column to a value.\n",
      "    The converters can also be used to provide a default value\n",
      "    for missing data: ``converters = {3: lambda s: float(s or 0)}``.\n",
      "missing : variable, optional\n",
      "    `missing` was removed in numpy 1.10. Please use `missing_values`\n",
      "    instead.\n",
      "missing_values : variable, optional\n",
      "    The set of strings corresponding to missing data.\n",
      "filling_values : variable, optional\n",
      "    The set of values to be used as default when the data are missing.\n",
      "usecols : sequence, optional\n",
      "    Which columns to read, with 0 being the first.  For example,\n",
      "    ``usecols = (1, 4, 5)`` will extract the 2nd, 5th and 6th columns.\n",
      "names : {None, True, str, sequence}, optional\n",
      "    If `names` is True, the field names are read from the first line after\n",
      "    the first `skip_header` lines. This line can optionally be preceded\n",
      "    by a comment delimiter. If `names` is a sequence or a single-string of\n",
      "    comma-separated names, the names will be used to define the field names\n",
      "    in a structured dtype. If `names` is None, the names of the dtype\n",
      "    fields will be used, if any.\n",
      "excludelist : sequence, optional\n",
      "    A list of names to exclude. This list is appended to the default list\n",
      "    ['return','file','print']. Excluded names are appended with an\n",
      "    underscore: for example, `file` would become `file_`.\n",
      "deletechars : str, optional\n",
      "    A string combining invalid characters that must be deleted from the\n",
      "    names.\n",
      "defaultfmt : str, optional\n",
      "    A format used to define default field names, such as \"f%i\" or \"f_%02i\".\n",
      "autostrip : bool, optional\n",
      "    Whether to automatically strip white spaces from the variables.\n",
      "replace_space : char, optional\n",
      "    Character(s) used in replacement of white spaces in the variable\n",
      "    names. By default, use a '_'.\n",
      "case_sensitive : {True, False, 'upper', 'lower'}, optional\n",
      "    If True, field names are case sensitive.\n",
      "    If False or 'upper', field names are converted to upper case.\n",
      "    If 'lower', field names are converted to lower case.\n",
      "unpack : bool, optional\n",
      "    If True, the returned array is transposed, so that arguments may be\n",
      "    unpacked using ``x, y, z = genfromtxt(...)``.  When used with a\n",
      "    structured data-type, arrays are returned for each field.\n",
      "    Default is False.\n",
      "usemask : bool, optional\n",
      "    If True, return a masked array.\n",
      "    If False, return a regular array.\n",
      "loose : bool, optional\n",
      "    If True, do not raise errors for invalid values.\n",
      "invalid_raise : bool, optional\n",
      "    If True, an exception is raised if an inconsistency is detected in the\n",
      "    number of columns.\n",
      "    If False, a warning is emitted and the offending lines are skipped.\n",
      "max_rows : int,  optional\n",
      "    The maximum number of rows to read. Must not be used with skip_footer\n",
      "    at the same time.  If given, the value must be at least 1. Default is\n",
      "    to read the entire file.\n",
      "\n",
      "    .. versionadded:: 1.10.0\n",
      "encoding : str, optional\n",
      "    Encoding used to decode the inputfile. Does not apply when `fname` is\n",
      "    a file object.  The special value 'bytes' enables backward compatibility\n",
      "    workarounds that ensure that you receive byte arrays when possible\n",
      "    and passes latin1 encoded strings to converters. Override this value to\n",
      "    receive unicode arrays and pass strings as input to converters.  If set\n",
      "    to None the system default is used. The default value is 'bytes'.\n",
      "\n",
      "    .. versionadded:: 1.14.0\n",
      "ndmin : int, optional\n",
      "    Same parameter as `loadtxt`\n",
      "\n",
      "    .. versionadded:: 1.23.0\n",
      "like : array_like, optional\n",
      "    Reference object to allow the creation of arrays which are not\n",
      "    NumPy arrays. If an array-like passed in as ``like`` supports\n",
      "    the ``__array_function__`` protocol, the result will be defined\n",
      "    by it. In this case, it ensures the creation of an array object\n",
      "    compatible with that passed in via this argument.\n",
      "\n",
      "    .. versionadded:: 1.20.0\n",
      "\n",
      "Returns\n",
      "-------\n",
      "out : ndarray\n",
      "    Data read from the text file. If `usemask` is True, this is a\n",
      "    masked array.\n",
      "\n",
      "See Also\n",
      "--------\n",
      "numpy.loadtxt : equivalent function when no data is missing.\n",
      "\n",
      "Notes\n",
      "-----\n",
      "* When spaces are used as delimiters, or when no delimiter has been given\n",
      "  as input, there should not be any missing data between two fields.\n",
      "* When the variables are named (either by a flexible dtype or with `names`),\n",
      "  there must not be any header in the file (else a ValueError\n",
      "  exception is raised).\n",
      "* Individual values are not stripped of spaces by default.\n",
      "  When using a custom converter, make sure the function does remove spaces.\n",
      "\n",
      "References\n",
      "----------\n",
      ".. [1] NumPy User Guide, section `I/O with NumPy\n",
      "       <https://docs.scipy.org/doc/numpy/user/basics.io.genfromtxt.html>`_.\n",
      "\n",
      "Examples\n",
      "--------\n",
      ">>> from io import StringIO\n",
      ">>> import numpy as np\n",
      "\n",
      "Comma delimited file with mixed dtype\n",
      "\n",
      ">>> s = StringIO(u\"1,1.3,abcde\")\n",
      ">>> data = np.genfromtxt(s, dtype=[('myint','i8'),('myfloat','f8'),\n",
      "... ('mystring','S5')], delimiter=\",\")\n",
      ">>> data\n",
      "array((1, 1.3, b'abcde'),\n",
      "      dtype=[('myint', '<i8'), ('myfloat', '<f8'), ('mystring', 'S5')])\n",
      "\n",
      "Using dtype = None\n",
      "\n",
      ">>> _ = s.seek(0) # needed for StringIO example only\n",
      ">>> data = np.genfromtxt(s, dtype=None,\n",
      "... names = ['myint','myfloat','mystring'], delimiter=\",\")\n",
      ">>> data\n",
      "array((1, 1.3, b'abcde'),\n",
      "      dtype=[('myint', '<i8'), ('myfloat', '<f8'), ('mystring', 'S5')])\n",
      "\n",
      "Specifying dtype and names\n",
      "\n",
      ">>> _ = s.seek(0)\n",
      ">>> data = np.genfromtxt(s, dtype=\"i8,f8,S5\",\n",
      "... names=['myint','myfloat','mystring'], delimiter=\",\")\n",
      ">>> data\n",
      "array((1, 1.3, b'abcde'),\n",
      "      dtype=[('myint', '<i8'), ('myfloat', '<f8'), ('mystring', 'S5')])\n",
      "\n",
      "An example with fixed-width columns\n",
      "\n",
      ">>> s = StringIO(u\"11.3abcde\")\n",
      ">>> data = np.genfromtxt(s, dtype=None, names=['intvar','fltvar','strvar'],\n",
      "...     delimiter=[1,3,5])\n",
      ">>> data\n",
      "array((1, 1.3, b'abcde'),\n",
      "      dtype=[('intvar', '<i8'), ('fltvar', '<f8'), ('strvar', 'S5')])\n",
      "\n",
      "An example to show comments\n",
      "\n",
      ">>> f = StringIO('''\n",
      "... text,# of chars\n",
      "... hello world,11\n",
      "... numpy,5''')\n",
      ">>> np.genfromtxt(f, dtype='S12,S12', delimiter=',')\n",
      "array([(b'text', b''), (b'hello world', b'11'), (b'numpy', b'5')],\n",
      "  dtype=[('f0', 'S12'), ('f1', 'S12')])\n",
      "\u001b[1;31mFile:\u001b[0m      c:\\users\\jmonti\\appdata\\local\\programs\\python\\python311\\lib\\site-packages\\numpy\\lib\\npyio.py\n",
      "\u001b[1;31mType:\u001b[0m      function"
     ]
    }
   ],
   "source": [
    "np.genfromtxt?"
   ]
  },
  {
   "cell_type": "code",
   "execution_count": 21,
   "metadata": {},
   "outputs": [],
   "source": [
    "# Function show_attr\n",
    "\n",
    "def show_attr(arrnm: str) -> str:\n",
    "    strout = f' {arrnm}: '\n",
    "\n",
    "    for attr in ('shape', 'ndim', 'size', 'dtype'):     #, 'itemsize'):\n",
    "            arrnm_attr = arrnm + '.' + attr\n",
    "            strout += f'| {attr}: {eval(arrnm_attr)} '\n",
    "\n",
    "    return strout"
   ]
  },
  {
   "cell_type": "code",
   "execution_count": 22,
   "metadata": {},
   "outputs": [],
   "source": [
    "# Function that Compute and plot NumPy 2-D histogram\n",
    "\n",
    "def histo2d_w_graph(xv: np.ndarray, yv: np.ndarray,\n",
    "                    bs: int = 10, sid: bool = False):\n",
    "    ''' Compute and plot NumPy 2-D histogram\n",
    "    \n",
    "    xv: xvalues, 1-D ndarray, first axis, X\n",
    "    yv: yvalues\n",
    "    bs: -optional- Bins number, default '10'\n",
    "    sid: -optinal- Show Input Data, default 'False'\n",
    "    ''' \n",
    "    # h2df: NumPy Histogram 2-D inside function\n",
    "    h2df = np.histogram2d(x=xv, y=yv, bins=bs)\n",
    "\n",
    "    # n_da: NumPy density array; x_e: X_edges; y_e: Y_edges\n",
    "    n_da, x_e, y_e = h2df[0], h2df[1], h2df[2]\n",
    "\n",
    "    # Seaborn two subplots graphs\n",
    "    fig, axs = plt.subplots(ncols=2, figsize=(10,6))\n",
    "    plt.subplots_adjust(wspace=0.3)\n",
    "\n",
    "    h2d_plot = sns.histplot(x=xv, y=yv, ax=axs[0], bins=bs)\n",
    "    h2d_plot.set(xticks=x_e, yticks=y_e)\n",
    "    h2d_plot.set_title('2-D Histogram')\n",
    "\n",
    "    sct = sns.scatterplot(x=xv, y=yv, ax=axs[1])\n",
    "    sct.set(xticks=x_e, yticks=y_e)\n",
    "    sct.set_title('Scatter plot')\n",
    "\n",
    "    if sid:\n",
    "      print(f'Input Data:\\n X values: {xv}\\n Y values: {yv}\\n')\n",
    "\n",
    "    print(f'NumPy Density Array:\\n{n_da}')\n",
    "    print(f'X Edges:\\n {x_e}')\n",
    "    print(f'Y Edges:\\n {y_e}\\n')\n",
    "    print(f'Density Array with relocated values:\\n'\n",
    "          f'{np.array(list(map(lambda row: row[::-1], n_da))).T}')\n",
    "    \n",
    "    plt.show()"
   ]
  },
  {
   "cell_type": "code",
   "execution_count": 23,
   "metadata": {},
   "outputs": [
    {
     "name": "stdout",
     "output_type": "stream",
     "text": [
      " lending_co_data: | shape: (1043, 6) | ndim: 2 | size: 6258 | dtype: float64 \n",
      "\n",
      "[[ 2000.    40.   365.  3121.  4241. 13621.]\n",
      " [ 2000.    40.   365.  3061.  4171. 15041.]\n",
      " [ 1000.    40.   365.  2160.  3280. 15340.]\n",
      " ...\n",
      " [ 2000.    40.   365.  4201.  5001. 16600.]\n",
      " [ 1000.    40.   365.  2080.  3320. 15600.]\n",
      " [ 2000.    40.   365.  4601.  4601. 16600.]]\n"
     ]
    }
   ],
   "source": [
    "lending_co_data = np.genfromtxt('Lending-Company-Numeric-Data.csv',\n",
    "                                delimiter=',')\n",
    "\n",
    "print(show_attr('lending_co_data') + '\\n')\n",
    "print(lending_co_data)"
   ]
  },
  {
   "cell_type": "code",
   "execution_count": 24,
   "metadata": {},
   "outputs": [
    {
     "name": "stdout",
     "output_type": "stream",
     "text": [
      " lending_co_NAN: | shape: (1043, 6) | ndim: 2 | size: 6258 | dtype: float64 \n",
      "\n",
      "[[ 2000.    40.   365.  3121.  4241. 13621.]\n",
      " [ 2000.    40.   365.  3061.  4171. 15041.]\n",
      " [ 1000.    40.   365.  2160.  3280. 15340.]\n",
      " ...\n",
      " [   nan    40.   365.  4201.  5001. 16600.]\n",
      " [ 1000.    40.   365.  2080.  3320. 15600.]\n",
      " [ 2000.    40.   365.  4601.  4601. 16600.]]\n"
     ]
    }
   ],
   "source": [
    "lending_co_NAN = np.genfromtxt('Lending-Company-Numeric-Data-NAN.csv',\n",
    "                                delimiter=';')\n",
    "\n",
    "print(show_attr('lending_co_NAN') + '\\n')\n",
    "print(lending_co_NAN)"
   ]
  },
  {
   "cell_type": "markdown",
   "metadata": {},
   "source": [
    "### Other exercises to practice\n"
   ]
  },
  {
   "cell_type": "code",
   "execution_count": 34,
   "metadata": {},
   "outputs": [
    {
     "data": {
      "text/plain": [
       "array([[ 12,  34, -15,  56],\n",
       "       [ 23,  22,  90, -56],\n",
       "       [  4, -19,  27,  31],\n",
       "       [ 45,  56,  61,  70]])"
      ]
     },
     "metadata": {},
     "output_type": "display_data"
    },
    {
     "data": {
      "text/plain": [
       "array([-56, -19, -15,   4,  12,  22,  23,  27,  31,  34,  45,  56,  56,\n",
       "        61,  70,  90])"
      ]
     },
     "metadata": {},
     "output_type": "display_data"
    },
    {
     "data": {
      "text/plain": [
       "62.8"
      ]
     },
     "execution_count": 34,
     "metadata": {},
     "output_type": "execute_result"
    }
   ],
   "source": [
    "# Q4 Sort a flattened version of the array\n",
    "A = np.array([[12,34,-15,56], [23,22,90,-56],\n",
    "              [4,-19,27,31], [45,56,61,70]])\n",
    "display(A)\n",
    "show_attr('A')\n",
    "display(np.sort(A, axis=None))\n",
    "np.percentile(A, 88)"
   ]
  },
  {
   "cell_type": "code",
   "execution_count": 36,
   "metadata": {},
   "outputs": [
    {
     "data": {
      "text/plain": [
       "array([[58, 62, 92, 79, 65],\n",
       "       [91, 66, 72, 74, 84],\n",
       "       [38, 81, 23, 45, 89],\n",
       "       [49, 95, 86, 26, 90]])"
      ]
     },
     "metadata": {},
     "output_type": "display_data"
    },
    {
     "data": {
      "text/plain": [
       "array([23, 26, 38, 45, 49, 58, 62, 65, 66, 72, 74, 79, 81, 84, 86, 89, 90,\n",
       "       91, 92, 95])"
      ]
     },
     "metadata": {},
     "output_type": "display_data"
    },
    {
     "data": {
      "text/plain": [
       "86.75"
      ]
     },
     "execution_count": 36,
     "metadata": {},
     "output_type": "execute_result"
    }
   ],
   "source": [
    "# Q4 Sort a flattened version of the array\n",
    "A = np.array([[58,62,92,79,65], [91,66,72,74,84],\n",
    "              [38,81,23,45,89], [49,95,86,26,90]])\n",
    "display(A)\n",
    "show_attr('A')\n",
    "display(np.sort(A, axis=None))\n",
    "np.percentile(A, 75)"
   ]
  },
  {
   "cell_type": "code",
   "execution_count": 42,
   "metadata": {},
   "outputs": [
    {
     "data": {
      "text/plain": [
       "array([[28.66666667,  3.        ],\n",
       "       [ 3.        ,  1.66666667]])"
      ]
     },
     "metadata": {},
     "output_type": "display_data"
    },
    {
     "data": {
      "text/plain": [
       "array([[1.        , 0.43401854],\n",
       "       [0.43401854, 1.        ]])"
      ]
     },
     "metadata": {},
     "output_type": "display_data"
    },
    {
     "data": {
      "text/plain": [
       "array([[ 1.        ,  0.81862596,  0.43401854,  0.63607792],\n",
       "       [ 0.81862596,  1.        ,  0.30253169,  0.70590246],\n",
       "       [ 0.43401854,  0.30253169,  1.        , -0.38181557],\n",
       "       [ 0.63607792,  0.70590246, -0.38181557,  1.        ]])"
      ]
     },
     "execution_count": 42,
     "metadata": {},
     "output_type": "execute_result"
    }
   ],
   "source": [
    "C = np.array([[1,2,-4,9], [1,12,-3,12], [1,2,3,4], [5,6,-10,3]])\n",
    "display(np.cov(C[0], C[2]))\n",
    "display(np.corrcoef(C[0], C[2]))\n",
    "np.cov(C)\n",
    "np.corrcoef(C)"
   ]
  },
  {
   "cell_type": "code",
   "execution_count": 26,
   "metadata": {},
   "outputs": [
    {
     "data": {
      "text/plain": [
       "array([-56, -19, -15,   4,  12,  22,  23,  27,  31,  34,  45,  56,  56,\n",
       "        61,  70,  90])"
      ]
     },
     "metadata": {},
     "output_type": "display_data"
    },
    {
     "data": {
      "text/plain": [
       "array([-56, -19, -15,   4,  12,  22,  23,  27,  31,  34,  45,  56,  56,\n",
       "        61,  70,  90])"
      ]
     },
     "metadata": {},
     "output_type": "display_data"
    },
    {
     "data": {
      "text/plain": [
       "array([-15,  12,  34,  56, -56,  22,  23,  90, -19,   4,  27,  31,  45,\n",
       "        56,  61,  70])"
      ]
     },
     "metadata": {},
     "output_type": "display_data"
    }
   ],
   "source": [
    "display(np.sort(A, axis=None))\n",
    "display(np.sort(np.reshape(A, (16,))))\n",
    "display(np.sort(A).reshape(16,))        # BAD"
   ]
  },
  {
   "cell_type": "code",
   "execution_count": 27,
   "metadata": {},
   "outputs": [
    {
     "data": {
      "text/plain": [
       "35.04153699695336"
      ]
     },
     "execution_count": 27,
     "metadata": {},
     "output_type": "execute_result"
    }
   ],
   "source": [
    "# Q5 For Q5, you are right, it gives 25.6\n",
    "# Q6 \n",
    "cols = gen(pcg(seed=365))\n",
    "c_1 = cols.normal(loc=3, scale=2, size=500)\n",
    "c_2 = cols.exponential(scale=5, size=500)\n",
    "c_3 = cols.logistic(loc=10, scale=4, size=500)\n",
    "\n",
    "np.max(np.array([c_1, c_2, c_3]).T)"
   ]
  },
  {
   "cell_type": "markdown",
   "metadata": {},
   "source": [
    "- Histogram: a way to examine a dataset by dissecting (diseccionando - dividiendo - estudiando) its density.\n",
    "- Density: how populated a given area is - stats -> How many values from a dataset fall within some predetermined range"
   ]
  },
  {
   "cell_type": "code",
   "execution_count": 28,
   "metadata": {},
   "outputs": [],
   "source": [
    "# Question 8 part D answers are wrong. Histogram for 3-D was drawn not for 2D.\n",
    "# Question 9 title in Statistics-With-NumPy-Solution should be \"For the 2-D array\" and not for 3-D."
   ]
  },
  {
   "cell_type": "code",
   "execution_count": 44,
   "metadata": {},
   "outputs": [
    {
     "data": {
      "text/plain": [
       "' c_q: | shape: (35,) | ndim: 1 | size: 35 | dtype: int32 '"
      ]
     },
     "metadata": {},
     "output_type": "display_data"
    },
    {
     "data": {
      "text/plain": [
       "(array([11,  6,  5,  3,  3,  7], dtype=int64),\n",
       " array([ 0, 10, 16, 22, 28, 34, 40]))"
      ]
     },
     "execution_count": 44,
     "metadata": {},
     "output_type": "execute_result"
    }
   ],
   "source": [
    "# Q6 \n",
    "c_q = np.array([39,30,35,21,22,3,10,3,22,4,21,29,37,34,12,4,35,7,12,19,34,39,1,12,\n",
    "                11,26,2,17,3,16,9,33,5,15,9])\n",
    "display(show_attr('c_q'))\n",
    "hs = np.histogram(c_q, bins=(0,10,16,22,28,34,40))\n",
    "hs"
   ]
  },
  {
   "cell_type": "code",
   "execution_count": 30,
   "metadata": {},
   "outputs": [
    {
     "data": {
      "text/plain": [
       "<function matplotlib.pyplot.show(close=None, block=None)>"
      ]
     },
     "execution_count": 30,
     "metadata": {},
     "output_type": "execute_result"
    },
    {
     "data": {
      "image/png": "[encoded data removed]",
      "text/plain": [
       "<Figure size 640x480 with 1 Axes>"
      ]
     },
     "metadata": {},
     "output_type": "display_data"
    }
   ],
   "source": [
    "plt.hist(c_q, bins=hs[1])\n",
    "plt.xticks(hs[1])\n",
    "plt.show"
   ]
  },
  {
   "cell_type": "code",
   "execution_count": 31,
   "metadata": {},
   "outputs": [
    {
     "data": {
      "text/plain": [
       "-2870.0"
      ]
     },
     "metadata": {},
     "output_type": "display_data"
    },
    {
     "data": {
      "text/plain": [
       "array([ 1000.,    35.,   365., -2870., -2870.,  -350.])"
      ]
     },
     "metadata": {},
     "output_type": "display_data"
    },
    {
     "data": {
      "text/plain": [
       "array([ 1000.,    35.,   365., -2870., -2870.,  -350.])"
      ]
     },
     "metadata": {},
     "output_type": "display_data"
    },
    {
     "data": {
      "text/plain": [
       "array([ 1000.,    35.,   365., -2870., -2870.,  -350.])"
      ]
     },
     "metadata": {},
     "output_type": "display_data"
    },
    {
     "data": {
      "text/plain": [
       "array([40., 40., 40., ..., 40., 40., 40.])"
      ]
     },
     "metadata": {},
     "output_type": "display_data"
    }
   ],
   "source": [
    "# Q2 Obtain the minimum for each columns\n",
    "t1 = np.genfromtxt('Lending-Company-Numeric-Data.csv', delimiter=',')\n",
    "display(np.min(t1))                       # Only to show the total min\n",
    "display(np.min(t1, axis=0))\n",
    "display(np.minimum.reduce(t1, axis=0))\n",
    "display(np.minimum.reduce(t1))\n",
    "display(np.minimum.reduce(t1, axis=1))      # NO they are files"
   ]
  },
  {
   "cell_type": "markdown",
   "metadata": {},
   "source": [
    "#### NAN-equiv functs. are useful when we have incomplete data.\n",
    "- They run while ignoring all NAN values in the data.\n",
    "- It would be in our best interest to find and fill any missing values, if we have the chance."
   ]
  },
  {
   "cell_type": "code",
   "execution_count": 32,
   "metadata": {},
   "outputs": [
    {
     "data": {
      "text/plain": [
       "array([[1, 0, 0, 3, 1],\n",
       "       [3, 6, 6, 2, 9],\n",
       "       [4, 5, 3, 8, 0]])"
      ]
     },
     "metadata": {},
     "output_type": "display_data"
    },
    {
     "name": "stdout",
     "output_type": "stream",
     "text": [
      " A: | shape: (3, 5) | ndim: 2 | size: 15 | dtype: int32 \n"
     ]
    },
    {
     "data": {
      "text/plain": [
       "array([[ 1.,  0.,  0.,  3.,  1.],\n",
       "       [ 3.,  6., nan,  2.,  9.],\n",
       "       [ 4.,  5.,  3.,  8.,  0.]])"
      ]
     },
     "metadata": {},
     "output_type": "display_data"
    },
    {
     "name": "stdout",
     "output_type": "stream",
     "text": [
      " B: | shape: (3, 5) | ndim: 2 | size: 15 | dtype: float64 \n"
     ]
    }
   ],
   "source": [
    "A = np.array([[1,0,0,3,1],\n",
    "              [3,6,6,2,9],\n",
    "              [4,5,3,8,0]])\n",
    "display(A)\n",
    "print(show_attr('A'))\n",
    "\n",
    "B = np.array([[1,0,0,3,1],\n",
    "              [3,6,np.nan,2,9],\n",
    "              [4,5,3,8,0]])\n",
    "display(B)\n",
    "print(show_attr('B'))\n"
   ]
  }
 ],
 "metadata": {
  "kernelspec": {
   "display_name": "Python 3",
   "language": "python",
   "name": "python3"
  },
  "language_info": {
   "codemirror_mode": {
    "name": "ipython",
    "version": 3
   },
   "file_extension": ".py",
   "mimetype": "text/x-python",
   "name": "python",
   "nbconvert_exporter": "python",
   "pygments_lexer": "ipython3",
   "version": "3.11.4"
  }
 },
 "nbformat": 4,
 "nbformat_minor": 2
}

{
 "cells": [
  {
   "cell_type": "markdown",
   "metadata": {},
   "source": [
    "# 7 Statistics with NumPy\n",
    "## 7_8 Practice Exam 3\n",
    "- np.sort() .-| axis=None (flat) idem np.sort(np.reshape(X,))\n",
    "- np.loadtxt() .-| delimiter=\n",
    "- np.genfromtxt() .-| skip_header=, skip_footer=, usecols=, unpack=, dtype=\n",
    "- npsave() .-| .npy\n",
    "- np.savez() .-| .npz\n",
    "- np.savetxt .-| .csv or .txt .-| delimiter=, fmt= '%s'\n",
    "- np.min() - np.amin() - np.max() - np.amax() .-| axis=\n",
    "- np.minimun(), np.maximun() .-| .reduce() .-| \n",
    "- np.median() .-| axis=\n",
    "- np.percentile() .-| q=0-100, axis=\n",
    "- np.quantile() .-| q=0-1, axis=\n",
    "- np.mean() .-| axis=\n",
    "- np.average() .-| weights=, axis=\n",
    "- np.cov() .-| m, y=None, rowvar=True .-| cov(X,X)= var(X)\n",
    "- np.corrcoef .-| x, y=None, rowvar=True\n",
    "- np.histogram .-| a, bins=, range=\n",
    "- np.histogram2d .-| x, y, bins=, range=\n",
    "- np.histogramdd .-| sample, bins, range=\n",
    "- NAN equiv funct. - np.nanvar() - np.nan... .-| jm -> np.histogram(A[~np.isnan(A)])"
   ]
  },
  {
   "cell_type": "code",
   "execution_count": 52,
   "metadata": {},
   "outputs": [
    {
     "data": {
      "text/plain": [
       "'1.26.4'"
      ]
     },
     "execution_count": 52,
     "metadata": {},
     "output_type": "execute_result"
    }
   ],
   "source": [
    "import numpy as np\n",
    "import matplotlib.pyplot as plt\n",
    "import seaborn as sns\n",
    "from numpy.random import Generator as gen \n",
    "from numpy.random import PCG64 as pcg \n",
    "\n",
    "sns.set_style('darkgrid')\n",
    "#sns.set_style(\"darkgrid\", {\"grid.color\": \".6\", \"grid.linestyle\": \":\"})\n",
    "array_RG = gen(pcg(seed=365))\n",
    "np.__version__"
   ]
  },
  {
   "cell_type": "code",
   "execution_count": 53,
   "metadata": {},
   "outputs": [
    {
     "name": "stdout",
     "output_type": "stream",
     "text": [
      "\u001b[1;31mSignature:\u001b[0m\n",
      "\u001b[0mnp\u001b[0m\u001b[1;33m.\u001b[0m\u001b[0mloadtxt\u001b[0m\u001b[1;33m(\u001b[0m\u001b[1;33m\n",
      "\u001b[0m    \u001b[0mfname\u001b[0m\u001b[1;33m,\u001b[0m\u001b[1;33m\n",
      "\u001b[0m    \u001b[0mdtype\u001b[0m\u001b[1;33m=\u001b[0m\u001b[1;33m<\u001b[0m\u001b[1;32mclass\u001b[0m \u001b[1;34m'float'\u001b[0m\u001b[1;33m>\u001b[0m\u001b[1;33m,\u001b[0m\u001b[1;33m\n",
      "\u001b[0m    \u001b[0mcomments\u001b[0m\u001b[1;33m=\u001b[0m\u001b[1;34m'#'\u001b[0m\u001b[1;33m,\u001b[0m\u001b[1;33m\n",
      "\u001b[0m    \u001b[0mdelimiter\u001b[0m\u001b[1;33m=\u001b[0m\u001b[1;32mNone\u001b[0m\u001b[1;33m,\u001b[0m\u001b[1;33m\n",
      "\u001b[0m    \u001b[0mconverters\u001b[0m\u001b[1;33m=\u001b[0m\u001b[1;32mNone\u001b[0m\u001b[1;33m,\u001b[0m\u001b[1;33m\n",
      "\u001b[0m    \u001b[0mskiprows\u001b[0m\u001b[1;33m=\u001b[0m\u001b[1;36m0\u001b[0m\u001b[1;33m,\u001b[0m\u001b[1;33m\n",
      "\u001b[0m    \u001b[0musecols\u001b[0m\u001b[1;33m=\u001b[0m\u001b[1;32mNone\u001b[0m\u001b[1;33m,\u001b[0m\u001b[1;33m\n",
      "\u001b[0m    \u001b[0munpack\u001b[0m\u001b[1;33m=\u001b[0m\u001b[1;32mFalse\u001b[0m\u001b[1;33m,\u001b[0m\u001b[1;33m\n",
      "\u001b[0m    \u001b[0mndmin\u001b[0m\u001b[1;33m=\u001b[0m\u001b[1;36m0\u001b[0m\u001b[1;33m,\u001b[0m\u001b[1;33m\n",
      "\u001b[0m    \u001b[0mencoding\u001b[0m\u001b[1;33m=\u001b[0m\u001b[1;34m'bytes'\u001b[0m\u001b[1;33m,\u001b[0m\u001b[1;33m\n",
      "\u001b[0m    \u001b[0mmax_rows\u001b[0m\u001b[1;33m=\u001b[0m\u001b[1;32mNone\u001b[0m\u001b[1;33m,\u001b[0m\u001b[1;33m\n",
      "\u001b[0m    \u001b[1;33m*\u001b[0m\u001b[1;33m,\u001b[0m\u001b[1;33m\n",
      "\u001b[0m    \u001b[0mquotechar\u001b[0m\u001b[1;33m=\u001b[0m\u001b[1;32mNone\u001b[0m\u001b[1;33m,\u001b[0m\u001b[1;33m\n",
      "\u001b[0m    \u001b[0mlike\u001b[0m\u001b[1;33m=\u001b[0m\u001b[1;32mNone\u001b[0m\u001b[1;33m,\u001b[0m\u001b[1;33m\n",
      "\u001b[0m\u001b[1;33m)\u001b[0m\u001b[1;33m\u001b[0m\u001b[1;33m\u001b[0m\u001b[0m\n",
      "\u001b[1;31mDocstring:\u001b[0m\n",
      "Load data from a text file.\n",
      "\n",
      "Parameters\n",
      "----------\n",
      "fname : file, str, pathlib.Path, list of str, generator\n",
      "    File, filename, list, or generator to read.  If the filename\n",
      "    extension is ``.gz`` or ``.bz2``, the file is first decompressed. Note\n",
      "    that generators must return bytes or strings. The strings\n",
      "    in a list or produced by a generator are treated as lines.\n",
      "dtype : data-type, optional\n",
      "    Data-type of the resulting array; default: float.  If this is a\n",
      "    structured data-type, the resulting array will be 1-dimensional, and\n",
      "    each row will be interpreted as an element of the array.  In this\n",
      "    case, the number of columns used must match the number of fields in\n",
      "    the data-type.\n",
      "comments : str or sequence of str or None, optional\n",
      "    The characters or list of characters used to indicate the start of a\n",
      "    comment. None implies no comments. For backwards compatibility, byte\n",
      "    strings will be decoded as 'latin1'. The default is '#'.\n",
      "delimiter : str, optional\n",
      "    The character used to separate the values. For backwards compatibility,\n",
      "    byte strings will be decoded as 'latin1'. The default is whitespace.\n",
      "\n",
      "    .. versionchanged:: 1.23.0\n",
      "       Only single character delimiters are supported. Newline characters\n",
      "       cannot be used as the delimiter.\n",
      "\n",
      "converters : dict or callable, optional\n",
      "    Converter functions to customize value parsing. If `converters` is\n",
      "    callable, the function is applied to all columns, else it must be a\n",
      "    dict that maps column number to a parser function.\n",
      "    See examples for further details.\n",
      "    Default: None.\n",
      "\n",
      "    .. versionchanged:: 1.23.0\n",
      "       The ability to pass a single callable to be applied to all columns\n",
      "       was added.\n",
      "\n",
      "skiprows : int, optional\n",
      "    Skip the first `skiprows` lines, including comments; default: 0.\n",
      "usecols : int or sequence, optional\n",
      "    Which columns to read, with 0 being the first. For example,\n",
      "    ``usecols = (1,4,5)`` will extract the 2nd, 5th and 6th columns.\n",
      "    The default, None, results in all columns being read.\n",
      "\n",
      "    .. versionchanged:: 1.11.0\n",
      "        When a single column has to be read it is possible to use\n",
      "        an integer instead of a tuple. E.g ``usecols = 3`` reads the\n",
      "        fourth column the same way as ``usecols = (3,)`` would.\n",
      "unpack : bool, optional\n",
      "    If True, the returned array is transposed, so that arguments may be\n",
      "    unpacked using ``x, y, z = loadtxt(...)``.  When used with a\n",
      "    structured data-type, arrays are returned for each field.\n",
      "    Default is False.\n",
      "ndmin : int, optional\n",
      "    The returned array will have at least `ndmin` dimensions.\n",
      "    Otherwise mono-dimensional axes will be squeezed.\n",
      "    Legal values: 0 (default), 1 or 2.\n",
      "\n",
      "    .. versionadded:: 1.6.0\n",
      "encoding : str, optional\n",
      "    Encoding used to decode the inputfile. Does not apply to input streams.\n",
      "    The special value 'bytes' enables backward compatibility workarounds\n",
      "    that ensures you receive byte arrays as results if possible and passes\n",
      "    'latin1' encoded strings to converters. Override this value to receive\n",
      "    unicode arrays and pass strings as input to converters.  If set to None\n",
      "    the system default is used. The default value is 'bytes'.\n",
      "\n",
      "    .. versionadded:: 1.14.0\n",
      "max_rows : int, optional\n",
      "    Read `max_rows` rows of content after `skiprows` lines. The default is\n",
      "    to read all the rows. Note that empty rows containing no data such as\n",
      "    empty lines and comment lines are not counted towards `max_rows`,\n",
      "    while such lines are counted in `skiprows`.\n",
      "\n",
      "    .. versionadded:: 1.16.0\n",
      "\n",
      "    .. versionchanged:: 1.23.0\n",
      "        Lines containing no data, including comment lines (e.g., lines\n",
      "        starting with '#' or as specified via `comments`) are not counted\n",
      "        towards `max_rows`.\n",
      "quotechar : unicode character or None, optional\n",
      "    The character used to denote the start and end of a quoted item.\n",
      "    Occurrences of the delimiter or comment characters are ignored within\n",
      "    a quoted item. The default value is ``quotechar=None``, which means\n",
      "    quoting support is disabled.\n",
      "\n",
      "    If two consecutive instances of `quotechar` are found within a quoted\n",
      "    field, the first is treated as an escape character. See examples.\n",
      "\n",
      "    .. versionadded:: 1.23.0\n",
      "like : array_like, optional\n",
      "    Reference object to allow the creation of arrays which are not\n",
      "    NumPy arrays. If an array-like passed in as ``like`` supports\n",
      "    the ``__array_function__`` protocol, the result will be defined\n",
      "    by it. In this case, it ensures the creation of an array object\n",
      "    compatible with that passed in via this argument.\n",
      "\n",
      "    .. versionadded:: 1.20.0\n",
      "\n",
      "Returns\n",
      "-------\n",
      "out : ndarray\n",
      "    Data read from the text file.\n",
      "\n",
      "See Also\n",
      "--------\n",
      "load, fromstring, fromregex\n",
      "genfromtxt : Load data with missing values handled as specified.\n",
      "scipy.io.loadmat : reads MATLAB data files\n",
      "\n",
      "Notes\n",
      "-----\n",
      "This function aims to be a fast reader for simply formatted files.  The\n",
      "`genfromtxt` function provides more sophisticated handling of, e.g.,\n",
      "lines with missing values.\n",
      "\n",
      "Each row in the input text file must have the same number of values to be\n",
      "able to read all values. If all rows do not have same number of values, a\n",
      "subset of up to n columns (where n is the least number of values present\n",
      "in all rows) can be read by specifying the columns via `usecols`.\n",
      "\n",
      ".. versionadded:: 1.10.0\n",
      "\n",
      "The strings produced by the Python float.hex method can be used as\n",
      "input for floats.\n",
      "\n",
      "Examples\n",
      "--------\n",
      ">>> from io import StringIO   # StringIO behaves like a file object\n",
      ">>> c = StringIO(\"0 1\\n2 3\")\n",
      ">>> np.loadtxt(c)\n",
      "array([[0., 1.],\n",
      "       [2., 3.]])\n",
      "\n",
      ">>> d = StringIO(\"M 21 72\\nF 35 58\")\n",
      ">>> np.loadtxt(d, dtype={'names': ('gender', 'age', 'weight'),\n",
      "...                      'formats': ('S1', 'i4', 'f4')})\n",
      "array([(b'M', 21, 72.), (b'F', 35, 58.)],\n",
      "      dtype=[('gender', 'S1'), ('age', '<i4'), ('weight', '<f4')])\n",
      "\n",
      ">>> c = StringIO(\"1,0,2\\n3,0,4\")\n",
      ">>> x, y = np.loadtxt(c, delimiter=',', usecols=(0, 2), unpack=True)\n",
      ">>> x\n",
      "array([1., 3.])\n",
      ">>> y\n",
      "array([2., 4.])\n",
      "\n",
      "The `converters` argument is used to specify functions to preprocess the\n",
      "text prior to parsing. `converters` can be a dictionary that maps\n",
      "preprocessing functions to each column:\n",
      "\n",
      ">>> s = StringIO(\"1.618, 2.296\\n3.141, 4.669\\n\")\n",
      ">>> conv = {\n",
      "...     0: lambda x: np.floor(float(x)),  # conversion fn for column 0\n",
      "...     1: lambda x: np.ceil(float(x)),  # conversion fn for column 1\n",
      "... }\n",
      ">>> np.loadtxt(s, delimiter=\",\", converters=conv)\n",
      "array([[1., 3.],\n",
      "       [3., 5.]])\n",
      "\n",
      "`converters` can be a callable instead of a dictionary, in which case it\n",
      "is applied to all columns:\n",
      "\n",
      ">>> s = StringIO(\"0xDE 0xAD\\n0xC0 0xDE\")\n",
      ">>> import functools\n",
      ">>> conv = functools.partial(int, base=16)\n",
      ">>> np.loadtxt(s, converters=conv)\n",
      "array([[222., 173.],\n",
      "       [192., 222.]])\n",
      "\n",
      "This example shows how `converters` can be used to convert a field\n",
      "with a trailing minus sign into a negative number.\n",
      "\n",
      ">>> s = StringIO('10.01 31.25-\\n19.22 64.31\\n17.57- 63.94')\n",
      ">>> def conv(fld):\n",
      "...     return -float(fld[:-1]) if fld.endswith(b'-') else float(fld)\n",
      "...\n",
      ">>> np.loadtxt(s, converters=conv)\n",
      "array([[ 10.01, -31.25],\n",
      "       [ 19.22,  64.31],\n",
      "       [-17.57,  63.94]])\n",
      "\n",
      "Using a callable as the converter can be particularly useful for handling\n",
      "values with different formatting, e.g. floats with underscores:\n",
      "\n",
      ">>> s = StringIO(\"1 2.7 100_000\")\n",
      ">>> np.loadtxt(s, converters=float)\n",
      "array([1.e+00, 2.7e+00, 1.e+05])\n",
      "\n",
      "This idea can be extended to automatically handle values specified in\n",
      "many different formats:\n",
      "\n",
      ">>> def conv(val):\n",
      "...     try:\n",
      "...         return float(val)\n",
      "...     except ValueError:\n",
      "...         return float.fromhex(val)\n",
      ">>> s = StringIO(\"1, 2.5, 3_000, 0b4, 0x1.4000000000000p+2\")\n",
      ">>> np.loadtxt(s, delimiter=\",\", converters=conv, encoding=None)\n",
      "array([1.0e+00, 2.5e+00, 3.0e+03, 1.8e+02, 5.0e+00])\n",
      "\n",
      "Note that with the default ``encoding=\"bytes\"``, the inputs to the\n",
      "converter function are latin-1 encoded byte strings. To deactivate the\n",
      "implicit encoding prior to conversion, use ``encoding=None``\n",
      "\n",
      ">>> s = StringIO('10.01 31.25-\\n19.22 64.31\\n17.57- 63.94')\n",
      ">>> conv = lambda x: -float(x[:-1]) if x.endswith('-') else float(x)\n",
      ">>> np.loadtxt(s, converters=conv, encoding=None)\n",
      "array([[ 10.01, -31.25],\n",
      "       [ 19.22,  64.31],\n",
      "       [-17.57,  63.94]])\n",
      "\n",
      "Support for quoted fields is enabled with the `quotechar` parameter.\n",
      "Comment and delimiter characters are ignored when they appear within a\n",
      "quoted item delineated by `quotechar`:\n",
      "\n",
      ">>> s = StringIO('\"alpha, #42\", 10.0\\n\"beta, #64\", 2.0\\n')\n",
      ">>> dtype = np.dtype([(\"label\", \"U12\"), (\"value\", float)])\n",
      ">>> np.loadtxt(s, dtype=dtype, delimiter=\",\", quotechar='\"')\n",
      "array([('alpha, #42', 10.), ('beta, #64',  2.)],\n",
      "      dtype=[('label', '<U12'), ('value', '<f8')])\n",
      "\n",
      "Quoted fields can be separated by multiple whitespace characters:\n",
      "\n",
      ">>> s = StringIO('\"alpha, #42\"       10.0\\n\"beta, #64\" 2.0\\n')\n",
      ">>> dtype = np.dtype([(\"label\", \"U12\"), (\"value\", float)])\n",
      ">>> np.loadtxt(s, dtype=dtype, delimiter=None, quotechar='\"')\n",
      "array([('alpha, #42', 10.), ('beta, #64',  2.)],\n",
      "      dtype=[('label', '<U12'), ('value', '<f8')])\n",
      "\n",
      "Two consecutive quote characters within a quoted field are treated as a\n",
      "single escaped character:\n",
      "\n",
      ">>> s = StringIO('\"Hello, my name is \"\"Monty\"\"!\"')\n",
      ">>> np.loadtxt(s, dtype=\"U\", delimiter=\",\", quotechar='\"')\n",
      "array('Hello, my name is \"Monty\"!', dtype='<U26')\n",
      "\n",
      "Read subset of columns when all rows do not contain equal number of values:\n",
      "\n",
      ">>> d = StringIO(\"1 2\\n2 4\\n3 9 12\\n4 16 20\")\n",
      ">>> np.loadtxt(d, usecols=(0, 1))\n",
      "array([[ 1.,  2.],\n",
      "       [ 2.,  4.],\n",
      "       [ 3.,  9.],\n",
      "       [ 4., 16.]])\n",
      "\u001b[1;31mFile:\u001b[0m      c:\\users\\jm\\appdata\\local\\programs\\python\\python311\\lib\\site-packages\\numpy\\lib\\npyio.py\n",
      "\u001b[1;31mType:\u001b[0m      function\n"
     ]
    }
   ],
   "source": [
    "np.loadtxt?"
   ]
  },
  {
   "cell_type": "code",
   "execution_count": 54,
   "metadata": {},
   "outputs": [],
   "source": [
    "# Function show_attr\n",
    "\n",
    "def show_attr(arrnm: str) -> str:\n",
    "    strout = f' {arrnm}: '\n",
    "\n",
    "    for attr in ('shape', 'ndim', 'size', 'dtype'):     #, 'itemsize'):\n",
    "            arrnm_attr = arrnm + '.' + attr\n",
    "            strout += f'| {attr}: {eval(arrnm_attr)} '\n",
    "\n",
    "    return strout"
   ]
  },
  {
   "cell_type": "code",
   "execution_count": 55,
   "metadata": {},
   "outputs": [],
   "source": [
    "# Function that Compute and plot NumPy 2-D histogram\n",
    "\n",
    "def histo2d_w_graph(xv: np.ndarray, yv: np.ndarray,\n",
    "                    bs: int = 10, sid: bool = False):\n",
    "    ''' Compute and plot NumPy 2-D histogram\n",
    "    \n",
    "    xv: xvalues, 1-D ndarray, first axis, X\n",
    "    yv: yvalues\n",
    "    bs: -optional- Bins number, default '10'\n",
    "    sid: -optinal- Show Input Data, default 'False'\n",
    "    ''' \n",
    "    # h2df: NumPy Histogram 2-D inside function\n",
    "    h2df = np.histogram2d(x=xv, y=yv, bins=bs)\n",
    "\n",
    "    # n_da: NumPy density array; x_e: X_edges; y_e: Y_edges\n",
    "    n_da, x_e, y_e = h2df[0], h2df[1], h2df[2]\n",
    "\n",
    "    # Seaborn two subplots graphs\n",
    "    fig, axs = plt.subplots(ncols=2, figsize=(10,6))\n",
    "    plt.subplots_adjust(wspace=0.3)\n",
    "\n",
    "    h2d_plot = sns.histplot(x=xv, y=yv, ax=axs[0], bins=bs)\n",
    "    h2d_plot.set(xticks=x_e, yticks=y_e)\n",
    "    h2d_plot.set_title('2-D Histogram')\n",
    "\n",
    "    sct = sns.scatterplot(x=xv, y=yv, ax=axs[1])\n",
    "    sct.set(xticks=x_e, yticks=y_e)\n",
    "    sct.set_title('Scatter plot')\n",
    "\n",
    "    if sid:\n",
    "      print(f'Input Data:\\n X values: {xv}\\n Y values: {yv}\\n')\n",
    "\n",
    "    print(f'NumPy Density Array:\\n{n_da}')\n",
    "    print(f'X Edges:\\n {x_e}')\n",
    "    print(f'Y Edges:\\n {y_e}\\n')\n",
    "    print(f'Density Array with relocated values:\\n'\n",
    "          f'{np.array(list(map(lambda row: row[::-1], n_da))).T}')\n",
    "    \n",
    "    plt.show()"
   ]
  },
  {
   "cell_type": "markdown",
   "metadata": {},
   "source": [
    "### 1. loadtxt() vs genfromtxt()\n",
    "- loatxt() is faster than genfromtxt(), but breaks down if we feed it incomplete data."
   ]
  },
  {
   "cell_type": "markdown",
   "metadata": {},
   "source": [
    "### 2. Get the mimimum value of each separate column"
   ]
  },
  {
   "cell_type": "code",
   "execution_count": 56,
   "metadata": {},
   "outputs": [
    {
     "data": {
      "text/plain": [
       "array([ 1000.,    35.,   365., -2870., -2870.,  -350.])"
      ]
     },
     "metadata": {},
     "output_type": "display_data"
    },
    {
     "data": {
      "text/plain": [
       "array([ 1000.,    35.,   365., -2870., -2870.,  -350.])"
      ]
     },
     "metadata": {},
     "output_type": "display_data"
    },
    {
     "data": {
      "text/plain": [
       "array([ 1000.,    35.,   365., -2870., -2870.,  -350.])"
      ]
     },
     "metadata": {},
     "output_type": "display_data"
    },
    {
     "data": {
      "text/plain": [
       "array([ 1000.,    35.,   365., -2870., -2870.,  -350.])"
      ]
     },
     "metadata": {},
     "output_type": "display_data"
    }
   ],
   "source": [
    "data = np.genfromtxt('Lending-Company-Numeric-Data.csv',\n",
    "                      delimiter=',')\n",
    "\n",
    "display(np.min(data, axis=0))\n",
    "display(np.nanmin(data, axis=0))\n",
    "display(np.minimum.reduce(data))\n",
    "display(np.minimum.reduce(data, axis=0))"
   ]
  },
  {
   "cell_type": "markdown",
   "metadata": {},
   "source": [
    "### 3. Will the student qualify for the Math competition?\n",
    "- First 5 out of 20 students overall will qualify\n",
    "- One student scored 88%\n",
    "- results: array containing the student's results"
   ]
  },
  {
   "cell_type": "code",
   "execution_count": 57,
   "metadata": {},
   "outputs": [
    {
     "data": {
      "text/plain": [
       "array([[58, 62, 92, 79, 65],\n",
       "       [91, 66, 72, 74, 84],\n",
       "       [38, 81, 23, 45, 89],\n",
       "       [49, 95, 86, 26, 90]])"
      ]
     },
     "metadata": {},
     "output_type": "display_data"
    },
    {
     "data": {
      "text/plain": [
       "array([23, 26, 38, 45, 49, 58, 62, 65, 66, 72, 74, 79, 81, 84, 86, 89, 90,\n",
       "       91, 92, 95])"
      ]
     },
     "metadata": {},
     "output_type": "display_data"
    },
    {
     "name": "stdout",
     "output_type": "stream",
     "text": [
      "0.75\n"
     ]
    },
    {
     "data": {
      "text/plain": [
       "86.75"
      ]
     },
     "metadata": {},
     "output_type": "display_data"
    },
    {
     "data": {
      "text/plain": [
       "86.75"
      ]
     },
     "execution_count": 57,
     "metadata": {},
     "output_type": "execute_result"
    }
   ],
   "source": [
    "results = np.array([[58,62,92,79,65], [91,66,72,74,84],\n",
    "                    [38,81,23,45,89], [49,95,86,26,90]])\n",
    "display(results)\n",
    "show_attr('results')\n",
    "\n",
    "# sort in ascending order flattened to have a first view\n",
    "display(np.sort(results, axis=None))\n",
    "\n",
    "# 5 ot of 20 is better than 15 (15/20 = 0.75)\n",
    "print(15/20)\n",
    "display(np.quantile(results, 0.75))\n",
    "np.percentile(results, 75)          # 86.75 % \n",
    "\n",
    "## Yes, they will qualify because the cutoff result is 86.75%"
   ]
  },
  {
   "cell_type": "markdown",
   "metadata": {},
   "source": [
    "### 4. What is the correct line of code that will show them the median hight of this set?\n",
    "- b. np.percentile(heights, 50)   -> correct!\n",
    "- c. np. median(heights)          -> correct!\n",
    "> Both b) and c) are correct"
   ]
  },
  {
   "cell_type": "markdown",
   "metadata": {},
   "source": [
    "### 5. covariance and correlation\n",
    "- What is the covariance between the first and third row?, and\n",
    "- The correlation between the third and fourth row."
   ]
  },
  {
   "cell_type": "code",
   "execution_count": 58,
   "metadata": {},
   "outputs": [
    {
     "data": {
      "text/plain": [
       "array([[28.66666667,  3.        ],\n",
       "       [ 3.        ,  1.66666667]])"
      ]
     },
     "metadata": {},
     "output_type": "display_data"
    },
    {
     "data": {
      "text/plain": [
       "array([[ 1.        , -0.38181557],\n",
       "       [-0.38181557,  1.        ]])"
      ]
     },
     "metadata": {},
     "output_type": "display_data"
    },
    {
     "data": {
      "text/plain": [
       "array([[28.66666667, 33.66666667,  3.        , 25.33333333],\n",
       "       [33.66666667, 59.        ,  3.        , 40.33333333],\n",
       "       [ 3.        ,  3.        ,  1.66666667, -3.66666667],\n",
       "       [25.33333333, 40.33333333, -3.66666667, 55.33333333]])"
      ]
     },
     "metadata": {},
     "output_type": "display_data"
    },
    {
     "data": {
      "text/plain": [
       "array([[ 1.        ,  0.81862596,  0.43401854,  0.63607792],\n",
       "       [ 0.81862596,  1.        ,  0.30253169,  0.70590246],\n",
       "       [ 0.43401854,  0.30253169,  1.        , -0.38181557],\n",
       "       [ 0.63607792,  0.70590246, -0.38181557,  1.        ]])"
      ]
     },
     "execution_count": 58,
     "metadata": {},
     "output_type": "execute_result"
    }
   ],
   "source": [
    "C = np.array([[1,2,-4,9], [1,12,-3,12], [1,2,3,4], [5,6,-10,3]])\n",
    "display(np.cov(C[0], C[2]))         # [0,1] or [1,0] = 3\n",
    "display(np.corrcoef(C[2], C[3]))    # [0,1] or [1,0] = -0.38\n",
    "display(np.cov(C))                  # [0,2] or [2,0] = 3\n",
    "np.corrcoef(C)                      # [2,3] or [3,2] = -0.38"
   ]
  },
  {
   "cell_type": "markdown",
   "metadata": {},
   "source": [
    "### 6. Marking students - Histogram, density of correct answers of students\n",
    "- 25 students, 40 total questions.\n",
    "- c_q: array with the number of correctly answered questions for each student.\n",
    "- 5 possible grades: A: 34-40 correct answers; B: 28-34; C: 22-28; D: 16-22; E: 10-16. Less than 10 retake the exam."
   ]
  },
  {
   "cell_type": "code",
   "execution_count": 69,
   "metadata": {},
   "outputs": [
    {
     "data": {
      "text/plain": [
       "' c_q: | shape: (35,) | ndim: 1 | size: 35 | dtype: int32 '"
      ]
     },
     "metadata": {},
     "output_type": "display_data"
    },
    {
     "data": {
      "text/plain": [
       "array([ 1,  2,  3,  3,  3,  4,  4,  5,  7,  9,  9, 10, 11, 12, 12, 12, 15,\n",
       "       16, 17, 19, 21, 21, 22, 22, 28, 29, 30, 33, 34, 34, 35, 35, 37, 39,\n",
       "       39])"
      ]
     },
     "metadata": {},
     "output_type": "display_data"
    },
    {
     "data": {
      "text/plain": [
       "(array([11,  6,  5,  2,  4,  7], dtype=int64),\n",
       " array([ 1, 10, 16, 22, 28, 34, 40]))"
      ]
     },
     "metadata": {},
     "output_type": "display_data"
    },
    {
     "data": {
      "text/plain": [
       "(array([6, 5, 2, 4, 7], dtype=int64), array([10., 16., 22., 28., 34., 40.]))"
      ]
     },
     "metadata": {},
     "output_type": "display_data"
    },
    {
     "data": {
      "text/plain": [
       "array([30, 29, 28, 33])"
      ]
     },
     "metadata": {},
     "output_type": "display_data"
    },
    {
     "name": "stdout",
     "output_type": "stream",
     "text": [
      "4\n"
     ]
    },
    {
     "data": {
      "text/plain": [
       "array([10, 12, 12, 12, 11, 15])"
      ]
     },
     "metadata": {},
     "output_type": "display_data"
    },
    {
     "data": {
      "text/plain": [
       "6"
      ]
     },
     "metadata": {},
     "output_type": "display_data"
    }
   ],
   "source": [
    "c_q = np.array([39,30,35,21,22,3,10,3,22,4,21,29,37,34,12,4,35,7,12,19,34,39,1,12,\n",
    "                11,28,2,17,3,16,9,33,5,15,9])\n",
    "display(show_attr('c_q'))\n",
    "display(np.sort(c_q))\n",
    "\n",
    "# Histogram, density of students in each grade bin\n",
    "display(np.histogram(c_q, bins=[1,10,16,22,28,34,40]))\n",
    "display(np.histogram(c_q, bins=5, range=(10,40)))\n",
    "\n",
    "# Another way to resolve the Q6\n",
    "display(c_q[(c_q >= 28) & (c_q < 34)])\n",
    "print(c_q[(c_q >= 28) & (c_q < 34)].size)\n",
    "\n",
    "display(c_q[(c_q >= 10) & (c_q < 16)])\n",
    "display(c_q[(c_q >= 10) & (c_q < 16)].size)"
   ]
  },
  {
   "cell_type": "code",
   "execution_count": 60,
   "metadata": {},
   "outputs": [
    {
     "data": {
      "image/png": "[encoded data removed]",
      "text/plain": [
       "<Figure size 640x480 with 1 Axes>"
      ]
     },
     "metadata": {},
     "output_type": "display_data"
    }
   ],
   "source": [
    "plt.hist(c_q, bins=5, range=(10,40))\n",
    "plt.xticks([10., 16., 22., 28., 34., 40.])\n",
    "plt.show()"
   ]
  },
  {
   "cell_type": "code",
   "execution_count": 61,
   "metadata": {},
   "outputs": [
    {
     "data": {
      "image/png": "[encoded data removed]",
      "text/plain": [
       "<Figure size 640x480 with 1 Axes>"
      ]
     },
     "metadata": {},
     "output_type": "display_data"
    }
   ],
   "source": [
    "plt.hist(c_q, bins=[1,10,16,22,28,34,40])\n",
    "plt.xticks([1,10,16,22,28,34,40])\n",
    "plt.show()"
   ]
  },
  {
   "cell_type": "markdown",
   "metadata": {},
   "source": [
    "## Practice Exercises - jm from Q & A"
   ]
  },
  {
   "cell_type": "code",
   "execution_count": 62,
   "metadata": {},
   "outputs": [
    {
     "name": "stdout",
     "output_type": "stream",
     "text": [
      " lending_co_data: | shape: (1043, 6) | ndim: 2 | size: 6258 | dtype: float64 \n",
      "\n",
      "[[ 2000.    40.   365.  3121.  4241. 13621.]\n",
      " [ 2000.    40.   365.  3061.  4171. 15041.]\n",
      " [ 1000.    40.   365.  2160.  3280. 15340.]\n",
      " ...\n",
      " [ 2000.    40.   365.  4201.  5001. 16600.]\n",
      " [ 1000.    40.   365.  2080.  3320. 15600.]\n",
      " [ 2000.    40.   365.  4601.  4601. 16600.]]\n"
     ]
    }
   ],
   "source": [
    "lending_co_data = np.genfromtxt('Lending-Company-Numeric-Data.csv',\n",
    "                                delimiter=',')\n",
    "\n",
    "print(show_attr('lending_co_data') + '\\n')\n",
    "print(lending_co_data)"
   ]
  },
  {
   "cell_type": "code",
   "execution_count": 63,
   "metadata": {},
   "outputs": [
    {
     "name": "stdout",
     "output_type": "stream",
     "text": [
      " lending_co_NAN: | shape: (1043, 6) | ndim: 2 | size: 6258 | dtype: float64 \n",
      "\n",
      "[[ 2000.    40.   365.  3121.  4241. 13621.]\n",
      " [ 2000.    40.   365.  3061.  4171. 15041.]\n",
      " [ 1000.    40.   365.  2160.  3280. 15340.]\n",
      " ...\n",
      " [   nan    40.   365.  4201.  5001. 16600.]\n",
      " [ 1000.    40.   365.  2080.  3320. 15600.]\n",
      " [ 2000.    40.   365.  4601.  4601. 16600.]]\n"
     ]
    }
   ],
   "source": [
    "lending_co_NAN = np.genfromtxt('Lending-Company-Numeric-Data-NAN.csv',\n",
    "                                delimiter=';')\n",
    "\n",
    "print(show_attr('lending_co_NAN') + '\\n')\n",
    "print(lending_co_NAN)"
   ]
  },
  {
   "cell_type": "markdown",
   "metadata": {},
   "source": [
    "### Other exercises to practice\n"
   ]
  },
  {
   "cell_type": "code",
   "execution_count": 64,
   "metadata": {},
   "outputs": [
    {
     "data": {
      "text/plain": [
       "array([[ 12,  34, -15,  56],\n",
       "       [ 23,  22,  90, -56],\n",
       "       [  4, -19,  27,  31],\n",
       "       [ 45,  56,  61,  70]])"
      ]
     },
     "metadata": {},
     "output_type": "display_data"
    },
    {
     "data": {
      "text/plain": [
       "array([-56, -19, -15,   4,  12,  22,  23,  27,  31,  34,  45,  56,  56,\n",
       "        61,  70,  90])"
      ]
     },
     "metadata": {},
     "output_type": "display_data"
    },
    {
     "data": {
      "text/plain": [
       "62.8"
      ]
     },
     "execution_count": 64,
     "metadata": {},
     "output_type": "execute_result"
    }
   ],
   "source": [
    "# Q4 Sort a flattened version of the array\n",
    "A = np.array([[12,34,-15,56], [23,22,90,-56],\n",
    "              [4,-19,27,31], [45,56,61,70]])\n",
    "display(A)\n",
    "show_attr('A')\n",
    "display(np.sort(A, axis=None))\n",
    "np.percentile(A, 88)"
   ]
  },
  {
   "cell_type": "code",
   "execution_count": 65,
   "metadata": {},
   "outputs": [
    {
     "data": {
      "text/plain": [
       "array([[58, 62, 92, 79, 65],\n",
       "       [91, 66, 72, 74, 84],\n",
       "       [38, 81, 23, 45, 89],\n",
       "       [49, 95, 86, 26, 90]])"
      ]
     },
     "metadata": {},
     "output_type": "display_data"
    },
    {
     "data": {
      "text/plain": [
       "array([23, 26, 38, 45, 49, 58, 62, 65, 66, 72, 74, 79, 81, 84, 86, 89, 90,\n",
       "       91, 92, 95])"
      ]
     },
     "metadata": {},
     "output_type": "display_data"
    },
    {
     "data": {
      "text/plain": [
       "86.75"
      ]
     },
     "execution_count": 65,
     "metadata": {},
     "output_type": "execute_result"
    }
   ],
   "source": [
    "# Sudents\n",
    "A = np.array([[58,62,92,79,65], [91,66,72,74,84],\n",
    "              [38,81,23,45,89], [49,95,86,26,90]])\n",
    "display(A)\n",
    "show_attr('A')\n",
    "display(np.sort(A, axis=None))\n",
    "np.percentile(A, 75)"
   ]
  },
  {
   "cell_type": "code",
   "execution_count": 66,
   "metadata": {},
   "outputs": [
    {
     "data": {
      "text/plain": [
       "array([[28.66666667,  3.        ],\n",
       "       [ 3.        ,  1.66666667]])"
      ]
     },
     "metadata": {},
     "output_type": "display_data"
    },
    {
     "data": {
      "text/plain": [
       "array([[1.        , 0.43401854],\n",
       "       [0.43401854, 1.        ]])"
      ]
     },
     "metadata": {},
     "output_type": "display_data"
    },
    {
     "data": {
      "text/plain": [
       "array([[ 1.        ,  0.81862596,  0.43401854,  0.63607792],\n",
       "       [ 0.81862596,  1.        ,  0.30253169,  0.70590246],\n",
       "       [ 0.43401854,  0.30253169,  1.        , -0.38181557],\n",
       "       [ 0.63607792,  0.70590246, -0.38181557,  1.        ]])"
      ]
     },
     "execution_count": 66,
     "metadata": {},
     "output_type": "execute_result"
    }
   ],
   "source": [
    "C = np.array([[1,2,-4,9], [1,12,-3,12], [1,2,3,4], [5,6,-10,3]])\n",
    "display(np.cov(C[0], C[2]))\n",
    "display(np.corrcoef(C[0], C[2]))\n",
    "np.cov(C)\n",
    "np.corrcoef(C)"
   ]
  },
  {
   "cell_type": "code",
   "execution_count": 67,
   "metadata": {},
   "outputs": [
    {
     "data": {
      "text/plain": [
       "array([23, 26, 38, 45, 49, 58, 62, 65, 66, 72, 74, 79, 81, 84, 86, 89, 90,\n",
       "       91, 92, 95])"
      ]
     },
     "metadata": {},
     "output_type": "display_data"
    },
    {
     "ename": "ValueError",
     "evalue": "cannot reshape array of size 20 into shape (16,)",
     "output_type": "error",
     "traceback": [
      "\u001b[1;31m---------------------------------------------------------------------------\u001b[0m",
      "\u001b[1;31mValueError\u001b[0m                                Traceback (most recent call last)",
      "Cell \u001b[1;32mIn[67], line 2\u001b[0m\n\u001b[0;32m      1\u001b[0m display(np\u001b[38;5;241m.\u001b[39msort(A, axis\u001b[38;5;241m=\u001b[39m\u001b[38;5;28;01mNone\u001b[39;00m))\n\u001b[1;32m----> 2\u001b[0m display(np\u001b[38;5;241m.\u001b[39msort(\u001b[43mnp\u001b[49m\u001b[38;5;241;43m.\u001b[39;49m\u001b[43mreshape\u001b[49m\u001b[43m(\u001b[49m\u001b[43mA\u001b[49m\u001b[43m,\u001b[49m\u001b[43m \u001b[49m\u001b[43m(\u001b[49m\u001b[38;5;241;43m16\u001b[39;49m\u001b[43m,\u001b[49m\u001b[43m)\u001b[49m\u001b[43m)\u001b[49m))\n\u001b[0;32m      3\u001b[0m display(np\u001b[38;5;241m.\u001b[39msort(A)\u001b[38;5;241m.\u001b[39mreshape(\u001b[38;5;241m16\u001b[39m,))        \u001b[38;5;66;03m# BAD\u001b[39;00m\n",
      "File \u001b[1;32mc:\\Users\\jm\\AppData\\Local\\Programs\\Python\\Python311\\Lib\\site-packages\\numpy\\core\\fromnumeric.py:285\u001b[0m, in \u001b[0;36mreshape\u001b[1;34m(a, newshape, order)\u001b[0m\n\u001b[0;32m    200\u001b[0m \u001b[38;5;129m@array_function_dispatch\u001b[39m(_reshape_dispatcher)\n\u001b[0;32m    201\u001b[0m \u001b[38;5;28;01mdef\u001b[39;00m \u001b[38;5;21mreshape\u001b[39m(a, newshape, order\u001b[38;5;241m=\u001b[39m\u001b[38;5;124m'\u001b[39m\u001b[38;5;124mC\u001b[39m\u001b[38;5;124m'\u001b[39m):\n\u001b[0;32m    202\u001b[0m     \u001b[38;5;124;03m\"\"\"\u001b[39;00m\n\u001b[0;32m    203\u001b[0m \u001b[38;5;124;03m    Gives a new shape to an array without changing its data.\u001b[39;00m\n\u001b[0;32m    204\u001b[0m \n\u001b[1;32m   (...)\u001b[0m\n\u001b[0;32m    283\u001b[0m \u001b[38;5;124;03m           [5, 6]])\u001b[39;00m\n\u001b[0;32m    284\u001b[0m \u001b[38;5;124;03m    \"\"\"\u001b[39;00m\n\u001b[1;32m--> 285\u001b[0m     \u001b[38;5;28;01mreturn\u001b[39;00m \u001b[43m_wrapfunc\u001b[49m\u001b[43m(\u001b[49m\u001b[43ma\u001b[49m\u001b[43m,\u001b[49m\u001b[43m \u001b[49m\u001b[38;5;124;43m'\u001b[39;49m\u001b[38;5;124;43mreshape\u001b[39;49m\u001b[38;5;124;43m'\u001b[39;49m\u001b[43m,\u001b[49m\u001b[43m \u001b[49m\u001b[43mnewshape\u001b[49m\u001b[43m,\u001b[49m\u001b[43m \u001b[49m\u001b[43morder\u001b[49m\u001b[38;5;241;43m=\u001b[39;49m\u001b[43morder\u001b[49m\u001b[43m)\u001b[49m\n",
      "File \u001b[1;32mc:\\Users\\jm\\AppData\\Local\\Programs\\Python\\Python311\\Lib\\site-packages\\numpy\\core\\fromnumeric.py:59\u001b[0m, in \u001b[0;36m_wrapfunc\u001b[1;34m(obj, method, *args, **kwds)\u001b[0m\n\u001b[0;32m     56\u001b[0m     \u001b[38;5;28;01mreturn\u001b[39;00m _wrapit(obj, method, \u001b[38;5;241m*\u001b[39margs, \u001b[38;5;241m*\u001b[39m\u001b[38;5;241m*\u001b[39mkwds)\n\u001b[0;32m     58\u001b[0m \u001b[38;5;28;01mtry\u001b[39;00m:\n\u001b[1;32m---> 59\u001b[0m     \u001b[38;5;28;01mreturn\u001b[39;00m \u001b[43mbound\u001b[49m\u001b[43m(\u001b[49m\u001b[38;5;241;43m*\u001b[39;49m\u001b[43margs\u001b[49m\u001b[43m,\u001b[49m\u001b[43m \u001b[49m\u001b[38;5;241;43m*\u001b[39;49m\u001b[38;5;241;43m*\u001b[39;49m\u001b[43mkwds\u001b[49m\u001b[43m)\u001b[49m\n\u001b[0;32m     60\u001b[0m \u001b[38;5;28;01mexcept\u001b[39;00m \u001b[38;5;167;01mTypeError\u001b[39;00m:\n\u001b[0;32m     61\u001b[0m     \u001b[38;5;66;03m# A TypeError occurs if the object does have such a method in its\u001b[39;00m\n\u001b[0;32m     62\u001b[0m     \u001b[38;5;66;03m# class, but its signature is not identical to that of NumPy's. This\u001b[39;00m\n\u001b[1;32m   (...)\u001b[0m\n\u001b[0;32m     66\u001b[0m     \u001b[38;5;66;03m# Call _wrapit from within the except clause to ensure a potential\u001b[39;00m\n\u001b[0;32m     67\u001b[0m     \u001b[38;5;66;03m# exception has a traceback chain.\u001b[39;00m\n\u001b[0;32m     68\u001b[0m     \u001b[38;5;28;01mreturn\u001b[39;00m _wrapit(obj, method, \u001b[38;5;241m*\u001b[39margs, \u001b[38;5;241m*\u001b[39m\u001b[38;5;241m*\u001b[39mkwds)\n",
      "\u001b[1;31mValueError\u001b[0m: cannot reshape array of size 20 into shape (16,)"
     ]
    }
   ],
   "source": [
    "display(np.sort(A, axis=None))\n",
    "display(np.sort(np.reshape(A, (16,))))\n",
    "display(np.sort(A).reshape(16,))        # BAD"
   ]
  },
  {
   "cell_type": "code",
   "execution_count": null,
   "metadata": {},
   "outputs": [],
   "source": [
    "# Q5 For Q5, you are right, it gives 25.6\n",
    "# Q6 \n",
    "cols = gen(pcg(seed=365))\n",
    "c_1 = cols.normal(loc=3, scale=2, size=500)\n",
    "c_2 = cols.exponential(scale=5, size=500)\n",
    "c_3 = cols.logistic(loc=10, scale=4, size=500)\n",
    "\n",
    "np.max(np.array([c_1, c_2, c_3]).T)"
   ]
  },
  {
   "cell_type": "markdown",
   "metadata": {},
   "source": [
    "- Histogram: a way to examine a dataset by dissecting (diseccionando - dividiendo - estudiando) its density.\n",
    "- Density: how populated a given area is - stats -> How many values from a dataset fall within some predetermined range"
   ]
  },
  {
   "cell_type": "code",
   "execution_count": 28,
   "metadata": {},
   "outputs": [],
   "source": [
    "# Question 8 part D answers are wrong. Histogram for 3-D was drawn not for 2D.\n",
    "# Question 9 title in Statistics-With-NumPy-Solution should be \"For the 2-D array\" and not for 3-D."
   ]
  },
  {
   "cell_type": "code",
   "execution_count": null,
   "metadata": {},
   "outputs": [],
   "source": [
    "# Q6 \n",
    "c_q = np.array([39,30,35,21,22,3,10,3,22,4,21,29,37,34,12,4,35,7,12,19,34,39,1,12,\n",
    "                11,26,2,17,3,16,9,33,5,15,9])\n",
    "display(show_attr('c_q'))\n",
    "hs = np.histogram(c_q, bins=(0,10,16,22,28,34,40))\n",
    "hs"
   ]
  },
  {
   "cell_type": "code",
   "execution_count": null,
   "metadata": {},
   "outputs": [],
   "source": [
    "plt.hist(c_q, bins=hs[1])\n",
    "plt.xticks(hs[1])\n",
    "plt.show"
   ]
  },
  {
   "cell_type": "code",
   "execution_count": null,
   "metadata": {},
   "outputs": [],
   "source": [
    "# Q2 Obtain the minimum for each columns\n",
    "t1 = np.genfromtxt('Lending-Company-Numeric-Data.csv', delimiter=',')\n",
    "display(np.min(t1))                       # Only to show the total min\n",
    "display(np.min(t1, axis=0))\n",
    "display(np.minimum.reduce(t1, axis=0))\n",
    "display(np.minimum.reduce(t1))\n",
    "display(np.minimum.reduce(t1, axis=1))      # NO they are files"
   ]
  },
  {
   "cell_type": "markdown",
   "metadata": {},
   "source": [
    "#### NAN-equiv functs. are useful when we have incomplete data.\n",
    "- They run while ignoring all NAN values in the data.\n",
    "- It would be in our best interest to find and fill any missing values, if we have the chance."
   ]
  },
  {
   "cell_type": "code",
   "execution_count": null,
   "metadata": {},
   "outputs": [],
   "source": [
    "A = np.array([[1,0,0,3,1],\n",
    "              [3,6,6,2,9],\n",
    "              [4,5,3,8,0]])\n",
    "display(A)\n",
    "print(show_attr('A'))\n",
    "\n",
    "B = np.array([[1,0,0,3,1],\n",
    "              [3,6,np.nan,2,9],\n",
    "              [4,5,3,8,0]])\n",
    "display(B)\n",
    "print(show_attr('B'))\n"
   ]
  }
 ],
 "metadata": {
  "kernelspec": {
   "display_name": "Python 3",
   "language": "python",
   "name": "python3"
  },
  "language_info": {
   "codemirror_mode": {
    "name": "ipython",
    "version": 3
   },
   "file_extension": ".py",
   "mimetype": "text/x-python",
   "name": "python",
   "nbconvert_exporter": "python",
   "pygments_lexer": "ipython3",
   "version": "3.11.0"
  }
 },
 "nbformat": 4,
 "nbformat_minor": 2
}

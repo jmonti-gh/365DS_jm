{
 "cells": [
  {
   "cell_type": "markdown",
   "metadata": {},
   "source": [
    "# 7 Statistics with NumPy\n",
    "## 7_7 Histograms in NumPy part 2"
   ]
  },
  {
   "cell_type": "markdown",
   "metadata": {},
   "source": [
    "#### numpy.histogram2d(x, y, bins=10, range=None, density=None, weights=None)\n",
    "- Compute the bi-dimensional histogram of two data samples.\n",
    "- Ex. X = A[0]; Y = A[1]\n",
    "- We can use a 2D histogram to get an idea of how the values are spread out across the plain.\n",
    "- You can think about it as a histogram on top of scatter plot"
   ]
  },
  {
   "cell_type": "markdown",
   "metadata": {},
   "source": [
    "#### numpy.histogramdd(sample, bins=10, range=None, density=None, weights=None)\n",
    "- Compute the multidimensional histogram of some data."
   ]
  },
  {
   "cell_type": "code",
   "execution_count": 20,
   "metadata": {},
   "outputs": [
    {
     "data": {
      "text/plain": [
       "'1.26.2'"
      ]
     },
     "execution_count": 20,
     "metadata": {},
     "output_type": "execute_result"
    }
   ],
   "source": [
    "import numpy as np\n",
    "np.__version__"
   ]
  },
  {
   "cell_type": "code",
   "execution_count": 21,
   "metadata": {},
   "outputs": [],
   "source": [
    "# Functions\n",
    "\n",
    "def show_attr(arrnm: str) -> str:\n",
    "    strout = f' {arrnm}: '\n",
    "\n",
    "    for attr in ('shape', 'ndim', 'size', 'dtype'):     #, 'itemsize'):\n",
    "            arrnm_attr = arrnm + '.' + attr\n",
    "            strout += f'| {attr}: {eval(arrnm_attr)} '\n",
    "\n",
    "    return strout"
   ]
  },
  {
   "cell_type": "code",
   "execution_count": 22,
   "metadata": {},
   "outputs": [
    {
     "name": "stdout",
     "output_type": "stream",
     "text": [
      " A: | shape: (2, 5) | ndim: 2 | size: 10 | dtype: int32 \n"
     ]
    },
    {
     "data": {
      "text/plain": [
       "array([[1, 0, 0, 3, 1],\n",
       "       [3, 6, 6, 2, 9]])"
      ]
     },
     "execution_count": 22,
     "metadata": {},
     "output_type": "execute_result"
    }
   ],
   "source": [
    "A = np.array([[1,0,0,3,1],\n",
    "              [3,6,6,2,9]])\n",
    "#              [4,5,3,8,0]])\n",
    "\n",
    "print(show_attr('A'))\n",
    "A"
   ]
  },
  {
   "cell_type": "code",
   "execution_count": 48,
   "metadata": {},
   "outputs": [
    {
     "data": {
      "text/plain": [
       "(array([[0., 0., 2., 0.],\n",
       "        [1., 0., 0., 1.],\n",
       "        [0., 0., 0., 0.],\n",
       "        [1., 0., 0., 0.]]),\n",
       " array([0.  , 0.75, 1.5 , 2.25, 3.  ]),\n",
       " array([2.  , 3.75, 5.5 , 7.25, 9.  ]))"
      ]
     },
     "metadata": {},
     "output_type": "display_data"
    },
    {
     "data": {
      "text/plain": [
       "2.0"
      ]
     },
     "metadata": {},
     "output_type": "display_data"
    },
    {
     "name": "stdout",
     "output_type": "stream",
     "text": [
      "X -> A[0,1]: 0, A[0,2]: 0\n",
      "Y -> A[1,1]: 6, A[1,2]: 6\n"
     ]
    }
   ],
   "source": [
    "# 2D Histogram: A[0] is X and A[1] is Y\n",
    "# np.histogram2d(A[0], A[1])) - np.histogram2d(A[0], A[1], bins=4))\n",
    "# Set the bin size to 4 so the output is more contained \n",
    "h2d = np.histogram2d(A[0], A[1], bins=4)\n",
    "display(h2d)\n",
    "\n",
    "# Tuple: One 2D array (Density) and two 1D arrays (bins edges on X and on Y)\n",
    "# There is a slight twist when we look at the density array, the values we see in\n",
    "# the first row of the density array include all points whose X value falls within\n",
    "# the first bin. Density Matrix -> DM\n",
    "# DM ROW -> X bin | DM COLUMN -> Y bin\n",
    "\n",
    "# The '2.' we see in the third position (DM[0,2]) suggest that there are two\n",
    "# points which feature in the first bin on the X axis and the third bin on the\n",
    "# Y axis. \n",
    "display(h2d[0][0,2])\n",
    "# Therefore, we are looking for points that have X coordinates between 0 and 0..75\n",
    "# and Y coordinates between 5.5 and 7.25. Lopking at matrix A they are: in X the\n",
    "# two 0 and in Y the two 6\n",
    "print(f'X -> A[0,1]: {A[0,1]}, A[0,2]: {A[0,2]}')\n",
    "print(f'Y -> A[1,1]: {A[1,1]}, A[1,2]: {A[1,2]}')\n",
    "\n",
    "# Hay un pequeño cambio cuando observamos la matriz de densidad, los valores que\n",
    "# vemos en la primera fila de la matriz de densidad incluyen todos los puntos\n",
    "# cuyo valor X cae dentro del primer contenedor"
   ]
  },
  {
   "cell_type": "code",
   "execution_count": 47,
   "metadata": {},
   "outputs": [],
   "source": [
    "# JM-- DM inverted in rowsorder and transpose is the 2d Histo?\n",
    "# display(h2d[0])\n",
    "\n",
    "# I have to make a Function to create a DM_real\n",
    "\n",
    "# DM_real = h2d[0][::-1]\n",
    "# DM_real\n",
    "# display(h2d[0], h2d[0][::-1])\n",
    "# h2d[0].T"
   ]
  },
  {
   "cell_type": "code",
   "execution_count": null,
   "metadata": {},
   "outputs": [],
   "source": []
  },
  {
   "cell_type": "code",
   "execution_count": 24,
   "metadata": {},
   "outputs": [
    {
     "data": {
      "text/plain": [
       "array([0, 0, 1, 1, 2, 3, 3, 6, 6, 9])"
      ]
     },
     "metadata": {},
     "output_type": "display_data"
    },
    {
     "name": "stdout",
     "output_type": "stream",
     "text": [
      "<class 'tuple'>\n",
      " h[0]: | shape: (10,) | ndim: 1 | size: 10 | dtype: int64 \n",
      " h[1]: | shape: (11,) | ndim: 1 | size: 11 | dtype: float64 \n"
     ]
    },
    {
     "data": {
      "text/plain": [
       "(array([2, 2, 1, 2, 0, 0, 2, 0, 0, 1], dtype=int64),\n",
       " array([0. , 0.9, 1.8, 2.7, 3.6, 4.5, 5.4, 6.3, 7.2, 8.1, 9. ]))"
      ]
     },
     "metadata": {},
     "output_type": "display_data"
    },
    {
     "data": {
      "text/plain": [
       "array([2, 2, 1, 2, 0, 0, 2, 0, 0, 1], dtype=int64)"
      ]
     },
     "metadata": {},
     "output_type": "display_data"
    },
    {
     "data": {
      "text/plain": [
       "array([0. , 0.9, 1.8, 2.7, 3.6, 4.5, 5.4, 6.3, 7.2, 8.1, 9. ])"
      ]
     },
     "metadata": {},
     "output_type": "display_data"
    }
   ],
   "source": [
    "# To fully comprehend the results of the histogram is better that \n",
    "# we first display a sorted version of the flattened array\n",
    "display(np.sort(A, axis=None))\n",
    "\n",
    "# And the famous Histogram\n",
    "h = np.histogram(A)\n",
    "print(type(h))\n",
    "print(show_attr('h[0]'))\n",
    "print(show_attr('h[1]'))\n",
    "display(h)\n",
    "\n",
    "display(h[0])   # Num of times the value falls within each bin\n",
    "display(h[1])   # Depicts the edge of each bin. # bin edges = # bins + 1"
   ]
  },
  {
   "cell_type": "code",
   "execution_count": 25,
   "metadata": {},
   "outputs": [
    {
     "data": {
      "text/plain": [
       "(array([5, 2, 2, 1], dtype=int64), array([0.  , 2.25, 4.5 , 6.75, 9.  ]))"
      ]
     },
     "execution_count": 25,
     "metadata": {},
     "output_type": "execute_result"
    }
   ],
   "source": [
    "# Default num of bins = 10, let's try 4\n",
    "h_bin4 = np.histogram(A, bins=4)\n",
    "h_bin4\n",
    "\n",
    "# Fewer bins:  the further away the edges are. The avg num of\n",
    "# els in each bin has increased"
   ]
  },
  {
   "cell_type": "code",
   "execution_count": 26,
   "metadata": {},
   "outputs": [
    {
     "data": {
      "text/plain": [
       "(array([3, 2, 0, 2], dtype=int64), array([1. , 2.5, 4. , 5.5, 7. ]))"
      ]
     },
     "metadata": {},
     "output_type": "display_data"
    },
    {
     "data": {
      "text/plain": [
       "(array([3, 2, 0, 2], dtype=int64), array([1.   , 2.375, 3.75 , 5.125, 6.5  ]))"
      ]
     },
     "metadata": {},
     "output_type": "display_data"
    },
    {
     "data": {
      "text/plain": [
       "(array([3, 2, 0, 2], dtype=int64), array([1.  , 2.25, 3.5 , 4.75, 6.  ]))"
      ]
     },
     "metadata": {},
     "output_type": "display_data"
    }
   ],
   "source": [
    "# range= parameter: define a fixed interval of values\n",
    "# very easy way to ignore outliers\n",
    "display(np.histogram(A, bins=4, range=(1,7)))\n",
    "\n",
    "# Warning: a fixed range implies a maximal and minimal value\n",
    "# which are incorporated for the bins.\n",
    "display(np.histogram(A, bins=4, range=(1,6.5)))\n",
    "display(np.histogram(A, bins=4, range=(1,6)))"
   ]
  },
  {
   "cell_type": "code",
   "execution_count": 27,
   "metadata": {},
   "outputs": [
    {
     "data": {
      "text/plain": [
       "(array([2., 2., 1., 2., 0., 0., 2., 0., 0., 1.]),\n",
       " array([0. , 0.9, 1.8, 2.7, 3.6, 4.5, 5.4, 6.3, 7.2, 8.1, 9. ]),\n",
       " <BarContainer object of 10 artists>)"
      ]
     },
     "execution_count": 27,
     "metadata": {},
     "output_type": "execute_result"
    },
    {
     "data": {
      "image/png": "[encoded data removed]",
      "text/plain": [
       "<Figure size 640x480 with 1 Axes>"
      ]
     },
     "metadata": {},
     "output_type": "display_data"
    }
   ],
   "source": [
    "# Plotting the H with matplotlib\n",
    "import matplotlib.pyplot as plt\n",
    "\n",
    "plt.hist(A.flat, h[1])"
   ]
  },
  {
   "cell_type": "code",
   "execution_count": 28,
   "metadata": {},
   "outputs": [
    {
     "data": {
      "text/plain": [
       "<numpy.flatiter at 0x274e47863c0>"
      ]
     },
     "metadata": {},
     "output_type": "display_data"
    },
    {
     "data": {
      "text/plain": [
       "array([1, 0, 0, 3, 1, 3, 6, 6, 2, 9])"
      ]
     },
     "metadata": {},
     "output_type": "display_data"
    },
    {
     "data": {
      "text/plain": [
       "array([0, 0, 1, 1, 2, 3, 3, 6, 6, 9])"
      ]
     },
     "metadata": {},
     "output_type": "display_data"
    }
   ],
   "source": [
    "# A.flat? - np.sort()\n",
    "display(A.flat)\n",
    "display(np.array(A.flat))\n",
    "display(np.sort(A, axis=None))"
   ]
  },
  {
   "cell_type": "code",
   "execution_count": 29,
   "metadata": {},
   "outputs": [
    {
     "data": {
      "text/plain": [
       "(array([2., 2., 1., 2., 0., 0., 2., 0., 0., 1.]),\n",
       " array([0. , 0.9, 1.8, 2.7, 3.6, 4.5, 5.4, 6.3, 7.2, 8.1, 9. ]),\n",
       " <BarContainer object of 10 artists>)"
      ]
     },
     "execution_count": 29,
     "metadata": {},
     "output_type": "execute_result"
    },
    {
     "data": {
      "image/png": "[encoded data removed]",
      "text/plain": [
       "<Figure size 640x480 with 1 Axes>"
      ]
     },
     "metadata": {},
     "output_type": "display_data"
    }
   ],
   "source": [
    "plt.hist(np.sort(A, axis=None), bins=h[1])"
   ]
  },
  {
   "cell_type": "code",
   "execution_count": 30,
   "metadata": {},
   "outputs": [
    {
     "data": {
      "text/plain": [
       "(array([5., 2., 2., 1.]),\n",
       " array([0.  , 2.25, 4.5 , 6.75, 9.  ]),\n",
       " <BarContainer object of 4 artists>)"
      ]
     },
     "execution_count": 30,
     "metadata": {},
     "output_type": "execute_result"
    },
    {
     "data": {
      "image/png": "[encoded data removed]",
      "text/plain": [
       "<Figure size 640x480 with 1 Axes>"
      ]
     },
     "metadata": {},
     "output_type": "display_data"
    }
   ],
   "source": [
    "plt.hist(A.flat, bins=h_bin4[1])"
   ]
  },
  {
   "cell_type": "code",
   "execution_count": 31,
   "metadata": {},
   "outputs": [
    {
     "data": {
      "text/plain": [
       "<Axes: ylabel='Count'>"
      ]
     },
     "execution_count": 31,
     "metadata": {},
     "output_type": "execute_result"
    },
    {
     "data": {
      "image/png": "[encoded data removed]",
      "text/plain": [
       "<Figure size 640x480 with 1 Axes>"
      ]
     },
     "metadata": {},
     "output_type": "display_data"
    }
   ],
   "source": [
    "import seaborn as sns\n",
    "\n",
    "sns.histplot(A.flat, bins=h[1])"
   ]
  },
  {
   "cell_type": "code",
   "execution_count": 32,
   "metadata": {},
   "outputs": [
    {
     "data": {
      "text/plain": [
       "<Axes: ylabel='Count'>"
      ]
     },
     "execution_count": 32,
     "metadata": {},
     "output_type": "execute_result"
    },
    {
     "data": {
      "image/png": "[encoded data removed]",
      "text/plain": [
       "<Figure size 640x480 with 1 Axes>"
      ]
     },
     "metadata": {},
     "output_type": "display_data"
    }
   ],
   "source": [
    "sns.histplot(A.flat, bins=h_bin4[1])"
   ]
  },
  {
   "cell_type": "code",
   "execution_count": 33,
   "metadata": {},
   "outputs": [
    {
     "data": {
      "text/plain": [
       "<Axes: ylabel='Count'>"
      ]
     },
     "execution_count": 33,
     "metadata": {},
     "output_type": "execute_result"
    },
    {
     "data": {
      "image/png": "[encoded data removed]",
      "text/plain": [
       "<Figure size 640x480 with 1 Axes>"
      ]
     },
     "metadata": {},
     "output_type": "display_data"
    }
   ],
   "source": [
    "sns.histplot(np.sort(A, axis=None), bins=h[1])"
   ]
  },
  {
   "cell_type": "markdown",
   "metadata": {},
   "source": [
    "Histograms\n",
    "\n",
    "histogram(a[, bins, range, density, weights])\n",
    "Compute the histogram of a dataset.\n",
    "\n",
    "histogram2d(x, y[, bins, range, density, ...])\n",
    "Compute the bi-dimensional histogram of two data samples.\n",
    "\n",
    "histogramdd(sample[, bins, range, density, ...])\n",
    "Compute the multidimensional histogram of some data.\n",
    "\n",
    "bincount(x, /[, weights, minlength])\n",
    "Count number of occurrences of each value in array of non-negative ints.\n",
    "\n",
    "histogram_bin_edges(a[, bins, range, weights])\n",
    "Function to calculate only the edges of the bins used by the histogram function.\n",
    "\n",
    "digitize(x, bins[, right])\n",
    "Return the indices of the bins to which each value in input array belongs."
   ]
  },
  {
   "cell_type": "code",
   "execution_count": 34,
   "metadata": {},
   "outputs": [
    {
     "data": {
      "text/plain": [
       "array([[ 9,  0,  1,  6, 18, 12,  9],\n",
       "       [13,  4, 17, 19,  0,  6, 15],\n",
       "       [14,  6,  6, 13,  6, 12,  5],\n",
       "       [ 4, 10, 14, 13, 11,  2,  0]], dtype=int64)"
      ]
     },
     "execution_count": 34,
     "metadata": {},
     "output_type": "execute_result"
    }
   ],
   "source": [
    "# Random and biger matric\n",
    "from numpy.random import Generator as gen \n",
    "from numpy.random import PCG64 as pcg \n",
    "\n",
    "array_RG = gen(pcg())\n",
    "B = array_RG.integers(20, size=(4,7))\n",
    "B"
   ]
  },
  {
   "cell_type": "code",
   "execution_count": 35,
   "metadata": {},
   "outputs": [
    {
     "data": {
      "text/plain": [
       "(array([4, 1, 3, 5, 2, 2, 5, 3, 1, 2], dtype=int64),\n",
       " array([ 0. ,  1.9,  3.8,  5.7,  7.6,  9.5, 11.4, 13.3, 15.2, 17.1, 19. ]))"
      ]
     },
     "execution_count": 35,
     "metadata": {},
     "output_type": "execute_result"
    }
   ],
   "source": [
    "np.histogram(B)"
   ]
  }
 ],
 "metadata": {
  "kernelspec": {
   "display_name": "Python 3",
   "language": "python",
   "name": "python3"
  },
  "language_info": {
   "codemirror_mode": {
    "name": "ipython",
    "version": 3
   },
   "file_extension": ".py",
   "mimetype": "text/x-python",
   "name": "python",
   "nbconvert_exporter": "python",
   "pygments_lexer": "ipython3",
   "version": "3.11.4"
  }
 },
 "nbformat": 4,
 "nbformat_minor": 2
}

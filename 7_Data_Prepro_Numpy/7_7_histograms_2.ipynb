{
 "cells": [
  {
   "cell_type": "markdown",
   "metadata": {},
   "source": [
    "# 7 Statistics with NumPy\n",
    "## 7_7 Histograms in NumPy part 2\n",
    "### Multidimensional Histogram and how to use them\n"
   ]
  },
  {
   "cell_type": "markdown",
   "metadata": {},
   "source": [
    "#### numpy.histogram2d(x, y, bins=10, range=None, density=None, weights=None)\n",
    "- Compute the bi-dimensional histogram of two data samples.\n",
    "- Ex. X = A[0]; Y = A[1]\n",
    "- We can use a 2D histogram to get an idea of how the values are spread out across the plain.\n",
    "- You can think about it as a histogram on top of scatter plot"
   ]
  },
  {
   "cell_type": "markdown",
   "metadata": {},
   "source": [
    "#### numpy.histogramdd(sample, bins=10, range=None, density=None, weights=None)\n",
    "- Compute the multidimensional histogram of some data.\n",
    "- sample(N, D) array, or (N, D) array_like:  The data to be histogrammed.\n",
    "    - When an array, each row is a coordinate in a D-dimensional space - such as histogramdd(np.array([p1, p2, p3])).\n",
    "    - When an array_like, each element is the list of values for single coordinate - such as histogramdd((X, Y, Z)).\n",
    "    - The first form should be preferred."
   ]
  },
  {
   "cell_type": "code",
   "execution_count": 1,
   "metadata": {},
   "outputs": [
    {
     "data": {
      "text/plain": [
       "'1.26.4'"
      ]
     },
     "execution_count": 1,
     "metadata": {},
     "output_type": "execute_result"
    }
   ],
   "source": [
    "import numpy as np\n",
    "import matplotlib.pyplot as plt\n",
    "import seaborn as sns\n",
    "sns.set_style('darkgrid')\n",
    "\n",
    "np.__version__"
   ]
  },
  {
   "cell_type": "code",
   "execution_count": 2,
   "metadata": {},
   "outputs": [],
   "source": [
    "# Function show_attr\n",
    "\n",
    "def show_attr(arrnm: str) -> str:\n",
    "    strout = f' {arrnm}: '\n",
    "\n",
    "    for attr in ('shape', 'ndim', 'size', 'dtype'):     #, 'itemsize'):\n",
    "            arrnm_attr = arrnm + '.' + attr\n",
    "            strout += f'| {attr}: {eval(arrnm_attr)} '\n",
    "\n",
    "    return strout"
   ]
  },
  {
   "cell_type": "code",
   "execution_count": 3,
   "metadata": {},
   "outputs": [],
   "source": [
    "# Function make a real density matrix\n",
    "\n",
    "def direct_dm(dm: np.ndarray) -> np.ndarray:\n",
    "    return np.array(list(map(lambda row: row[::-1], dm))).T\n",
    "\n",
    "def direct_dm_b(dm: np.ndarray) -> np.ndarray:\n",
    "    nf_arr = np.ones_like(dm)\n",
    "    for ix in range(dm.shape[0]):\n",
    "        nf_arr[ix] = dm[ix][::-1]\n",
    "    return nf_arr.T\n",
    "\n",
    "### dm_real = np.array(list(map(lambda row: row[::-1], dm))).T\n"
   ]
  },
  {
   "cell_type": "code",
   "execution_count": 4,
   "metadata": {},
   "outputs": [],
   "source": [
    "# Function that Compute and plot NumPy 2-D histogram\n",
    "\n",
    "def histo2d_w_graph(xv: np.ndarray, yv: np.ndarray,\n",
    "                    bs: int = 10, sid: bool = False):\n",
    "    ''' Compute and plot NumPy 2-D histogram\n",
    "    \n",
    "    xv: xvalues, 1-D ndarray, first axis, X\n",
    "    yv: yvalues\n",
    "    bs: -optional- Bins number, default '10'\n",
    "    sid: -optinal- Show Input Data, default 'False'\n",
    "    ''' \n",
    "    # h2df: NumPy Histogram 2-D inside function\n",
    "    h2df = np.histogram2d(x=xv, y=yv, bins=bs)\n",
    "\n",
    "    # n_da: NumPy density array; x_e: X_edges; y_e: Y_edges\n",
    "    n_da, x_e, y_e = h2df[0], h2df[1], h2df[2]\n",
    "\n",
    "    # Seaborn two subplots graphs\n",
    "    fig, axs = plt.subplots(ncols=2, figsize=(10,6))\n",
    "    plt.subplots_adjust(wspace=0.3)\n",
    "\n",
    "    h2d_plot = sns.histplot(x=xv, y=yv, ax=axs[0], bins=bs)\n",
    "    h2d_plot.set(xticks=x_e, yticks=y_e)\n",
    "    h2d_plot.set_title('2-D Histogram')\n",
    "\n",
    "    sct = sns.scatterplot(x=xv, y=yv, ax=axs[1])\n",
    "    sct.set(xticks=x_e, yticks=y_e)\n",
    "    sct.set_title('Scatter plot')\n",
    "\n",
    "    if sid:\n",
    "      print(f'Input Data:\\n X values: {xv}\\n Y values: {yv}\\n')\n",
    "\n",
    "    print(f'NumPy Density Array:\\n{n_da}')\n",
    "    print(f'X Edges:\\n {x_e}')\n",
    "    print(f'Y Edges:\\n {y_e}\\n')\n",
    "    print(f'Density Array with relocated values:\\n'\n",
    "          f'{np.flip(n_da, axis=1).T}')\n",
    "          #f'{np.array(list(map(lambda row: row[::-1], n_da))).T}')\n",
    "    \n",
    "    plt.show()\n"
   ]
  },
  {
   "cell_type": "code",
   "execution_count": 5,
   "metadata": {},
   "outputs": [
    {
     "name": "stdout",
     "output_type": "stream",
     "text": [
      " A: | shape: (2, 5) | ndim: 2 | size: 10 | dtype: int32 \n"
     ]
    },
    {
     "data": {
      "text/plain": [
       "array([[1, 0, 0, 3, 1],\n",
       "       [3, 6, 6, 2, 9]])"
      ]
     },
     "execution_count": 5,
     "metadata": {},
     "output_type": "execute_result"
    }
   ],
   "source": [
    "A = np.array([[1,0,0,3,1],\n",
    "              [3,6,6,2,9]])\n",
    "#              [4,5,3,8,0]])\n",
    "\n",
    "print(show_attr('A'))\n",
    "A"
   ]
  },
  {
   "cell_type": "code",
   "execution_count": 6,
   "metadata": {},
   "outputs": [
    {
     "data": {
      "text/plain": [
       "(array([[0., 0., 2., 0.],\n",
       "        [1., 0., 0., 1.],\n",
       "        [0., 0., 0., 0.],\n",
       "        [1., 0., 0., 0.]]),\n",
       " array([0.  , 0.75, 1.5 , 2.25, 3.  ]),\n",
       " array([2.  , 3.75, 5.5 , 7.25, 9.  ]))"
      ]
     },
     "metadata": {},
     "output_type": "display_data"
    },
    {
     "data": {
      "text/plain": [
       "2.0"
      ]
     },
     "metadata": {},
     "output_type": "display_data"
    },
    {
     "name": "stdout",
     "output_type": "stream",
     "text": [
      "One point (X=0, Y=6). X A[0,1]: 0, Y A[1,1]: 6\n",
      "Other point (X=0, Y=6). X A[0,2]: 0, Y A[1,2]: 6\n"
     ]
    }
   ],
   "source": [
    "# 2D Histogram: A[0] is X and A[1] is Y\n",
    "# np.histogram2d(A[0], A[1])) - np.histogram2d(A[0], A[1], bins=4))\n",
    "# Set the bin size to 4 so the output is more contained \n",
    "h2d = np.histogram2d(A[0], A[1], bins=4)\n",
    "display(h2d)\n",
    "\n",
    "# Tuple: One 2D array (Density) and two 1D arrays (bins edges on X and on Y)\n",
    "# There is a slight twist when we look at the density array, the values we see in\n",
    "# the first row of the density array include all points whose X value falls within\n",
    "# the first bin. Density Matrix -> DM\n",
    "# DM ROW -> X bin | DM COLUMN -> Y bin\n",
    "\n",
    "# The '2.' we see in the third position (DM[0,2]) suggest that there are two\n",
    "# points which feature in the first bin on the X axis and the third bin on the\n",
    "# Y axis. \n",
    "display(h2d[0][0,2])\n",
    "# Therefore, we are looking for points that have X coordinates between 0 and 0..75\n",
    "# and Y coordinates between 5.5 and 7.25. Lopking at matrix A they are: in X the\n",
    "# two 0 and in Y the two 6\n",
    "print(f'One point (X=0, Y=6). X A[0,1]: {A[0,1]}, Y A[1,1]: {A[1,1]}')\n",
    "print(f'Other point (X=0, Y=6). X A[0,2]: {A[0,2]}, Y A[1,2]: {A[1,2]}')\n",
    "\n",
    "# 2nd row of DM will represent all the points tha have X coords between\n",
    "# 0.75 and 1.5. the ones appear in first and last place meaning one of\n",
    "# them has an Y coordinate between 2 and 3.75 and the other one between\n",
    "# 7.25 and 9. [in A they ara (1,3) and (1,9)]\n",
    "# The last point (las 1 in DM) is x bettween 2.25 and 3. and Y between\n",
    "# 2 and 3.75 and is (3,2)\n",
    "\n",
    "# The 2-D histogram might not be as easy to read, but it give us a good idea\n",
    "# of how density is distributed among the two axis\n",
    "\n",
    "# Hay un pequeño cambio cuando observamos la matriz de densidad, los valores que\n",
    "# vemos en la primera fila de la matriz de densidad incluyen todos los puntos\n",
    "# cuyo valor X cae dentro del primer contenedor"
   ]
  },
  {
   "cell_type": "code",
   "execution_count": 7,
   "metadata": {},
   "outputs": [
    {
     "data": {
      "text/plain": [
       "array([[0., 1., 0., 0.],\n",
       "       [2., 0., 0., 0.],\n",
       "       [0., 0., 0., 0.],\n",
       "       [0., 1., 0., 1.]])"
      ]
     },
     "execution_count": 7,
     "metadata": {},
     "output_type": "execute_result"
    }
   ],
   "source": [
    "# Visualización using dircect_dm\n",
    "np.array(list(map(lambda row: row[::-1], h2d[0]))).T"
   ]
  },
  {
   "cell_type": "code",
   "execution_count": 8,
   "metadata": {},
   "outputs": [
    {
     "data": {
      "text/plain": [
       "array([[0., 0., 2., 0.],\n",
       "       [1., 0., 0., 1.],\n",
       "       [0., 0., 0., 0.],\n",
       "       [1., 0., 0., 0.]])"
      ]
     },
     "metadata": {},
     "output_type": "display_data"
    },
    {
     "data": {
      "text/plain": [
       "array([[0., 1., 0., 0.],\n",
       "       [2., 0., 0., 0.],\n",
       "       [0., 0., 0., 0.],\n",
       "       [0., 1., 0., 1.]])"
      ]
     },
     "execution_count": 8,
     "metadata": {},
     "output_type": "execute_result"
    }
   ],
   "source": [
    "# Direct dm using np.flip()\n",
    "display(h2d[0])\n",
    "np.flip(h2d[0], axis=1).T"
   ]
  },
  {
   "cell_type": "code",
   "execution_count": 9,
   "metadata": {},
   "outputs": [
    {
     "data": {
      "text/plain": [
       "array([[0., 1., 0., 0.],\n",
       "       [2., 0., 0., 0.],\n",
       "       [0., 0., 0., 0.],\n",
       "       [0., 1., 0., 1.]])"
      ]
     },
     "metadata": {},
     "output_type": "display_data"
    },
    {
     "data": {
      "image/png": "[encoded data removed]",
      "text/plain": [
       "<Figure size 1000x600 with 2 Axes>"
      ]
     },
     "metadata": {},
     "output_type": "display_data"
    }
   ],
   "source": [
    "\n",
    "fig, axs = plt.subplots(ncols=2, figsize=(10,6),)\n",
    "plt.subplots_adjust(wspace=0.3)\n",
    "\n",
    "h2dp = sns.histplot(x=A[0], y=A[1], ax=axs[0], bins=4)\n",
    "h2dp.set(xticks=h2d[1], yticks=h2d[2])\n",
    "h2dp.set_title('2-D Histogram')\n",
    "\n",
    "sct = sns.scatterplot(x=A[0], y=A[1], ax=axs[1])\n",
    "sct.set(xticks=h2d[1], yticks=h2d[2])\n",
    "sct.set_title('Scatter plot')\n",
    "\n",
    "display(np.array(list(map(lambda row: row[::-1], h2d[0]))).T)\n",
    "plt.show()\n"
   ]
  },
  {
   "cell_type": "code",
   "execution_count": 10,
   "metadata": {},
   "outputs": [
    {
     "data": {
      "text/plain": [
       "array([[31, 37, 46, 48, 38, 37, 32, 24, 40, 39, 28, 48, 44, 31, 49],\n",
       "       [42, 45, 30, 40, 40, 35, 37, 30, 23, 40, 25, 49, 37, 26, 34]],\n",
       "      dtype=int64)"
      ]
     },
     "metadata": {},
     "output_type": "display_data"
    },
    {
     "data": {
      "text/plain": [
       "(array([[1., 1., 0., 0., 0., 0.],\n",
       "        [1., 0., 0., 1., 1., 0.],\n",
       "        [0., 0., 0., 0., 0., 0.],\n",
       "        [1., 0., 1., 2., 0., 1.],\n",
       "        [0., 0., 0., 1., 0., 0.],\n",
       "        [0., 1., 1., 1., 0., 1.]]),\n",
       " array([24.        , 28.16666667, 32.33333333, 36.5       , 40.66666667,\n",
       "        44.83333333, 49.        ]),\n",
       " array([23.        , 27.33333333, 31.66666667, 36.        , 40.33333333,\n",
       "        44.66666667, 49.        ]))"
      ]
     },
     "execution_count": 10,
     "metadata": {},
     "output_type": "execute_result"
    }
   ],
   "source": [
    "# If we have input arrays of more than five values we get a better\n",
    "# idea of just how useful it is.\n",
    "from numpy.random import Generator as gen \n",
    "from numpy.random import PCG64 as pcg \n",
    "\n",
    "array_RG = gen(pcg())\n",
    "B = array_RG.integers(low=21, high=50, size=(2,15))\n",
    "display(B)\n",
    "\n",
    "h2d_b = np.histogram2d(B[0], B[1], bins=6)\n",
    "h2d_b"
   ]
  },
  {
   "cell_type": "markdown",
   "metadata": {},
   "source": [
    "## Exists Histograms of higher dimension than 2-D"
   ]
  },
  {
   "cell_type": "code",
   "execution_count": 11,
   "metadata": {},
   "outputs": [
    {
     "name": "stdout",
     "output_type": "stream",
     "text": [
      " M: | shape: (3, 5) | ndim: 2 | size: 15 | dtype: int32 \n"
     ]
    },
    {
     "data": {
      "text/plain": [
       "array([[1, 0, 0, 3, 1],\n",
       "       [3, 6, 6, 2, 9],\n",
       "       [4, 5, 3, 8, 0]])"
      ]
     },
     "metadata": {},
     "output_type": "display_data"
    },
    {
     "data": {
      "text/plain": [
       "array([[1, 3, 4],\n",
       "       [0, 6, 5],\n",
       "       [0, 6, 3],\n",
       "       [3, 2, 8],\n",
       "       [1, 9, 0]])"
      ]
     },
     "metadata": {},
     "output_type": "display_data"
    }
   ],
   "source": [
    "# Re-define matrix\n",
    "\n",
    "M = np.array([[1,0,0,3,1],\n",
    "              [3,6,6,2,9],\n",
    "              [4,5,3,8,0]])\n",
    "\n",
    "print(show_attr('M'))\n",
    "display(M, M.T)"
   ]
  },
  {
   "cell_type": "code",
   "execution_count": 12,
   "metadata": {},
   "outputs": [
    {
     "data": {
      "text/plain": [
       "(array([[[0., 0., 0., 0.],\n",
       "         [0., 0., 0., 0.],\n",
       "         [0., 1., 1., 0.],\n",
       "         [0., 0., 0., 0.]],\n",
       " \n",
       "        [[0., 0., 1., 0.],\n",
       "         [0., 0., 0., 0.],\n",
       "         [0., 0., 0., 0.],\n",
       "         [1., 0., 0., 0.]],\n",
       " \n",
       "        [[0., 0., 0., 0.],\n",
       "         [0., 0., 0., 0.],\n",
       "         [0., 0., 0., 0.],\n",
       "         [0., 0., 0., 0.]],\n",
       " \n",
       "        [[0., 0., 0., 1.],\n",
       "         [0., 0., 0., 0.],\n",
       "         [0., 0., 0., 0.],\n",
       "         [0., 0., 0., 0.]]]),\n",
       " [array([0.  , 0.75, 1.5 , 2.25, 3.  ]),\n",
       "  array([2.  , 3.75, 5.5 , 7.25, 9.  ]),\n",
       "  array([0., 2., 4., 6., 8.])])"
      ]
     },
     "execution_count": 12,
     "metadata": {},
     "output_type": "execute_result"
    }
   ],
   "source": [
    "# If wue pass the entire matrix M transposed(), we´ll see that the output consists of four matrices\n",
    "np.histogramdd(M.T, bins=4)\n",
    "# There's a 2-D density array for each bin of the Z-coordinate array.\n",
    "# If it helps you visualize this better, you can imagine we´re stacking the four density matrices to\n",
    "# create a density tensor which depicts (representa) the density in three dimensions. "
   ]
  },
  {
   "cell_type": "markdown",
   "metadata": {},
   "source": [
    "Histograms\n",
    "\n",
    "histogram(a[, bins, range, density, weights])\n",
    "Compute the histogram of a dataset.\n",
    "\n",
    "histogram2d(x, y[, bins, range, density, ...])\n",
    "Compute the bi-dimensional histogram of two data samples.\n",
    "\n",
    "histogramdd(sample[, bins, range, density, ...])\n",
    "Compute the multidimensional histogram of some data.\n",
    "\n",
    "bincount(x, /[, weights, minlength])\n",
    "Count number of occurrences of each value in array of non-negative ints.\n",
    "\n",
    "histogram_bin_edges(a[, bins, range, weights])\n",
    "Function to calculate only the edges of the bins used by the histogram function.\n",
    "\n",
    "digitize(x, bins[, right])\n",
    "Return the indices of the bins to which each value in input array belongs."
   ]
  },
  {
   "cell_type": "markdown",
   "metadata": {},
   "source": [
    "### More cases and the use of hist2d_w_graph() function."
   ]
  },
  {
   "cell_type": "code",
   "execution_count": 13,
   "metadata": {},
   "outputs": [
    {
     "name": "stdout",
     "output_type": "stream",
     "text": [
      " A: | shape: (3, 5) | ndim: 2 | size: 15 | dtype: int32 \n"
     ]
    },
    {
     "data": {
      "text/plain": [
       "array([[1, 0, 0, 3, 1],\n",
       "       [3, 6, 6, 2, 9],\n",
       "       [4, 5, 3, 8, 0]])"
      ]
     },
     "execution_count": 13,
     "metadata": {},
     "output_type": "execute_result"
    }
   ],
   "source": [
    "A = np.array([[1,0,0,3,1],\n",
    "              [3,6,6,2,9],\n",
    "              [4,5,3,8,0]])\n",
    "\n",
    "print(show_attr('A'))\n",
    "A"
   ]
  },
  {
   "cell_type": "code",
   "execution_count": 14,
   "metadata": {},
   "outputs": [
    {
     "name": "stdout",
     "output_type": "stream",
     "text": [
      "Input Data:\n",
      " X values: [1 0 0 3 1]\n",
      " Y values: [3 6 6 2 9]\n",
      "\n",
      "NumPy Density Array:\n",
      "[[0. 0. 2. 0.]\n",
      " [1. 0. 0. 1.]\n",
      " [0. 0. 0. 0.]\n",
      " [1. 0. 0. 0.]]\n",
      "X Edges:\n",
      " [0.   0.75 1.5  2.25 3.  ]\n",
      "Y Edges:\n",
      " [2.   3.75 5.5  7.25 9.  ]\n",
      "\n",
      "Density Array with relocated values:\n",
      "[[0. 1. 0. 0.]\n",
      " [2. 0. 0. 0.]\n",
      " [0. 0. 0. 0.]\n",
      " [0. 1. 0. 1.]]\n"
     ]
    },
    {
     "data": {
      "image/png": "[encoded data removed]",
      "text/plain": [
       "<Figure size 1000x600 with 2 Axes>"
      ]
     },
     "metadata": {},
     "output_type": "display_data"
    }
   ],
   "source": [
    "histo2d_w_graph(A[0], A[1], bs=4, sid=True)"
   ]
  },
  {
   "cell_type": "code",
   "execution_count": 15,
   "metadata": {},
   "outputs": [
    {
     "name": "stdout",
     "output_type": "stream",
     "text": [
      " B: | shape: (2, 15) | ndim: 2 | size: 30 | dtype: int64 \n"
     ]
    },
    {
     "data": {
      "text/plain": [
       "array([[31, 37, 46, 48, 38, 37, 32, 24, 40, 39, 28, 48, 44, 31, 49],\n",
       "       [42, 45, 30, 40, 40, 35, 37, 30, 23, 40, 25, 49, 37, 26, 34]],\n",
       "      dtype=int64)"
      ]
     },
     "metadata": {},
     "output_type": "display_data"
    },
    {
     "name": "stdout",
     "output_type": "stream",
     "text": [
      "NumPy Density Array:\n",
      "[[1. 1. 0. 0. 0. 0.]\n",
      " [1. 0. 0. 1. 1. 0.]\n",
      " [0. 0. 0. 0. 0. 0.]\n",
      " [1. 0. 1. 2. 0. 1.]\n",
      " [0. 0. 0. 1. 0. 0.]\n",
      " [0. 1. 1. 1. 0. 1.]]\n",
      "X Edges:\n",
      " [24.         28.16666667 32.33333333 36.5        40.66666667 44.83333333\n",
      " 49.        ]\n",
      "Y Edges:\n",
      " [23.         27.33333333 31.66666667 36.         40.33333333 44.66666667\n",
      " 49.        ]\n",
      "\n",
      "Density Array with relocated values:\n",
      "[[0. 0. 0. 1. 0. 1.]\n",
      " [0. 1. 0. 0. 0. 0.]\n",
      " [0. 1. 0. 2. 1. 1.]\n",
      " [0. 0. 0. 1. 0. 1.]\n",
      " [1. 0. 0. 0. 0. 1.]\n",
      " [1. 1. 0. 1. 0. 0.]]\n"
     ]
    },
    {
     "data": {
      "image/png": "[encoded data removed]",
      "text/plain": [
       "<Figure size 1000x600 with 2 Axes>"
      ]
     },
     "metadata": {},
     "output_type": "display_data"
    }
   ],
   "source": [
    "# Other example with more values, las B matrix randomized created\n",
    "print(show_attr('B'))\n",
    "display(B)\n",
    "\n",
    "histo2d_w_graph(B[0], B[1], 6)"
   ]
  },
  {
   "cell_type": "code",
   "execution_count": 16,
   "metadata": {},
   "outputs": [
    {
     "name": "stdout",
     "output_type": "stream",
     "text": [
      "NumPy Density Array:\n",
      "[[2. 4. 2. 2. 3.]\n",
      " [0. 1. 2. 1. 0.]\n",
      " [3. 1. 1. 4. 3.]\n",
      " [3. 5. 3. 2. 1.]\n",
      " [4. 4. 2. 2. 2.]]\n",
      "X Edges:\n",
      " [ 1.02  10.914 20.808 30.702 40.596 50.49 ]\n",
      "Y Edges:\n",
      " [ 1.53  11.322 21.114 30.906 40.698 50.49 ]\n",
      "\n",
      "Density Array with relocated values:\n",
      "[[3. 0. 3. 1. 2.]\n",
      " [2. 1. 4. 2. 2.]\n",
      " [2. 2. 1. 3. 2.]\n",
      " [4. 1. 1. 5. 4.]\n",
      " [2. 0. 3. 3. 4.]]\n"
     ]
    },
    {
     "data": {
      "image/png": "[encoded data removed]",
      "text/plain": [
       "<Figure size 1000x600 with 2 Axes>"
      ]
     },
     "metadata": {},
     "output_type": "display_data"
    }
   ],
   "source": [
    "# Another example with decimal values\n",
    "\n",
    "C = array_RG.random(size=(2,57))\n",
    "C = np.round(C, 2) * 51\n",
    "#display(C, show_attr('C'))\n",
    "\n",
    "histo2d_w_graph(C[0], C[1], 5)"
   ]
  }
 ],
 "metadata": {
  "kernelspec": {
   "display_name": "Python 3",
   "language": "python",
   "name": "python3"
  },
  "language_info": {
   "codemirror_mode": {
    "name": "ipython",
    "version": 3
   },
   "file_extension": ".py",
   "mimetype": "text/x-python",
   "name": "python",
   "nbconvert_exporter": "python",
   "pygments_lexer": "ipython3",
   "version": "3.11.4"
  }
 },
 "nbformat": 4,
 "nbformat_minor": 2
}

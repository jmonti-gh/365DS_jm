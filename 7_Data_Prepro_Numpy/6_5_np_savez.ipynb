{
 "cells": [
  {
   "cell_type": "markdown",
   "metadata": {},
   "source": [
    "# 6 Importing and Saving Data with NumPy\n",
    "## 6_5 np.savez()\n",
    "- numpy.savez(file, *args, **kwds)\n",
    "\n",
    "- Save several arrays into a single file in uncompressed .npz format.\n",
    "- Provide arrays as keyword arguments to store them under the corresponding name in the output file: savez(fn, x=x, y=y).\n",
    "- If arrays are specified as positional arguments, i.e., savez(fn, x, y), their names will be arr_0, arr_1, etc."
   ]
  },
  {
   "cell_type": "code",
   "execution_count": 1,
   "metadata": {},
   "outputs": [
    {
     "data": {
      "text/plain": [
       "'1.26.2'"
      ]
     },
     "execution_count": 1,
     "metadata": {},
     "output_type": "execute_result"
    }
   ],
   "source": [
    "import numpy as np\n",
    "np.__version__"
   ]
  },
  {
   "cell_type": "code",
   "execution_count": 2,
   "metadata": {},
   "outputs": [],
   "source": [
    "# Functions\n",
    "\n",
    "def show_attr(arrnm: str) -> str:\n",
    "    strout = f' {arrnm}: '\n",
    "\n",
    "    for attr in ('shape', 'ndim', 'size', 'dtype', 'itemsize'):\n",
    "            arrnm_attr = arrnm + '.' + attr\n",
    "            strout += f'| {attr}: {eval(arrnm_attr)} '\n",
    "\n",
    "    return strout\n"
   ]
  },
  {
   "cell_type": "code",
   "execution_count": 9,
   "metadata": {},
   "outputs": [
    {
     "name": "stdout",
     "output_type": "stream",
     "text": [
      " lend_co_LT: | shape: (1044, 7) | ndim: 2 | size: 7308 | dtype: <U14 | itemsize: 56 \n",
      "\n",
      "[['LoanID' 'StringID' 'Product' ... 'Location' 'Region' 'TotalPrice']\n",
      " ['1' 'id_1' 'Product B' ... 'Location 2' 'Region 2' '16600.0']\n",
      " ['2' 'id_2' 'Product B' ... 'Location 3' '' '16600.0']\n",
      " ...\n",
      " ['1041' 'id_1041' 'Product B' ... 'Location 23' 'Region 4' '16600.0']\n",
      " ['1042' 'id_1042' 'Product C' ... 'Location 52' 'Region 6' '15600.0']\n",
      " ['1043' 'id_1043' 'Product B' ... 'Location 142' 'Region 6' '16600.0']]\n"
     ]
    }
   ],
   "source": [
    "lend_co_LT = np.genfromtxt('lending-co-LT.csv',\n",
    "                           delimiter=',',\n",
    "                           dtype=str)\n",
    "\n",
    "print(show_attr('lend_co_LT') + '\\n')\n",
    "\n",
    "print(lend_co_LT)"
   ]
  },
  {
   "cell_type": "code",
   "execution_count": 4,
   "metadata": {},
   "outputs": [
    {
     "name": "stdout",
     "output_type": "stream",
     "text": [
      " lending_co_NAN: | shape: (1043, 6) | ndim: 2 | size: 6258 | dtype: float64 | itemsize: 8 \n",
      "\n"
     ]
    },
    {
     "data": {
      "text/plain": [
       "array([[ 2000.,    40.,   365.,  3121.,  4241., 13621.],\n",
       "       [ 2000.,    40.,   365.,  3061.,  4171., 15041.],\n",
       "       [ 1000.,    40.,   365.,  2160.,  3280., 15340.],\n",
       "       ...,\n",
       "       [   nan,    40.,   365.,  4201.,  5001., 16600.],\n",
       "       [ 1000.,    40.,   365.,  2080.,  3320., 15600.],\n",
       "       [ 2000.,    40.,   365.,  4601.,  4601., 16600.]])"
      ]
     },
     "execution_count": 4,
     "metadata": {},
     "output_type": "execute_result"
    }
   ],
   "source": [
    "lending_co_NAN = np.genfromtxt('Lending-Company-Numeric-Data-NAN.csv',\n",
    "                               delimiter=';')\n",
    "\n",
    "print(show_attr('lending_co_NAN') + '\\n')\n",
    "\n",
    "lending_co_NAN"
   ]
  },
  {
   "cell_type": "code",
   "execution_count": 5,
   "metadata": {},
   "outputs": [
    {
     "name": "stdout",
     "output_type": "stream",
     "text": [
      " lend_co_LTb: | shape: (1044, 7) | ndim: 2 | size: 7308 | dtype: <U14 | itemsize: 56 \n",
      "\n",
      "[['LoanID' 'StringID' 'Product' ... 'Location' 'Region' 'TotalPrice']\n",
      " ['1' 'id_1' 'Product B' ... 'Location 2' 'Region 2' '16600.0']\n",
      " ['2' 'id_2' 'Product B' ... 'Location 3' '' '16600.0']\n",
      " ...\n",
      " ['1041' 'id_1041' 'Product B' ... 'Location 23' 'Region 4' '16600.0']\n",
      " ['1042' 'id_1042' 'Product C' ... 'Location 52' 'Region 6' '15600.0']\n",
      " ['1043' 'id_1043' 'Product B' ... 'Location 142' 'Region 6' '16600.0']]\n"
     ]
    }
   ],
   "source": [
    "lend_co_LTb = np.genfromtxt('lending-co-LT.csv',\n",
    "                            delimiter=',',\n",
    "                            dtype=str)\n",
    "\n",
    "print(show_attr('lend_co_LTb') + '\\n')\n",
    "\n",
    "print(lend_co_LTb)"
   ]
  },
  {
   "cell_type": "code",
   "execution_count": 6,
   "metadata": {},
   "outputs": [
    {
     "data": {
      "text/plain": [
       "True"
      ]
     },
     "execution_count": 6,
     "metadata": {},
     "output_type": "execute_result"
    }
   ],
   "source": [
    "# just to check cause twoo of them inport the same file\n",
    "np.array_equal(lend_co_LT, lend_co_LTb)"
   ]
  },
  {
   "cell_type": "code",
   "execution_count": 10,
   "metadata": {},
   "outputs": [],
   "source": [
    "# NOW. store the three ndarray in one file\n",
    "np.savez('ThreeArr', lend_co_LT, lending_co_NAN, lend_co_LTb)\n"
   ]
  },
  {
   "cell_type": "code",
   "execution_count": 11,
   "metadata": {},
   "outputs": [],
   "source": [
    "# Load what we savez\n",
    "three_arr_loaded = np.load('ThreeArr.npz')"
   ]
  },
  {
   "cell_type": "code",
   "execution_count": 16,
   "metadata": {},
   "outputs": [
    {
     "data": {
      "text/plain": [
       "array([['LoanID', 'StringID', 'Product', ..., 'Location', 'Region',\n",
       "        'TotalPrice'],\n",
       "       ['1', 'id_1', 'Product B', ..., 'Location 2', 'Region 2',\n",
       "        '16600.0'],\n",
       "       ['2', 'id_2', 'Product B', ..., 'Location 3', '', '16600.0'],\n",
       "       ...,\n",
       "       ['1041', 'id_1041', 'Product B', ..., 'Location 23', 'Region 4',\n",
       "        '16600.0'],\n",
       "       ['1042', 'id_1042', 'Product C', ..., 'Location 52', 'Region 6',\n",
       "        '15600.0'],\n",
       "       ['1043', 'id_1043', 'Product B', ..., 'Location 142', 'Region 6',\n",
       "        '16600.0']], dtype='<U14')"
      ]
     },
     "metadata": {},
     "output_type": "display_data"
    },
    {
     "data": {
      "text/plain": [
       "array([[ 2000.,    40.,   365.,  3121.,  4241., 13621.],\n",
       "       [ 2000.,    40.,   365.,  3061.,  4171., 15041.],\n",
       "       [ 1000.,    40.,   365.,  2160.,  3280., 15340.],\n",
       "       ...,\n",
       "       [   nan,    40.,   365.,  4201.,  5001., 16600.],\n",
       "       [ 1000.,    40.,   365.,  2080.,  3320., 15600.],\n",
       "       [ 2000.,    40.,   365.,  4601.,  4601., 16600.]])"
      ]
     },
     "metadata": {},
     "output_type": "display_data"
    },
    {
     "data": {
      "text/plain": [
       "array([['LoanID', 'StringID', 'Product', ..., 'Location', 'Region',\n",
       "        'TotalPrice'],\n",
       "       ['1', 'id_1', 'Product B', ..., 'Location 2', 'Region 2',\n",
       "        '16600.0'],\n",
       "       ['2', 'id_2', 'Product B', ..., 'Location 3', '', '16600.0'],\n",
       "       ...,\n",
       "       ['1041', 'id_1041', 'Product B', ..., 'Location 23', 'Region 4',\n",
       "        '16600.0'],\n",
       "       ['1042', 'id_1042', 'Product C', ..., 'Location 52', 'Region 6',\n",
       "        '15600.0'],\n",
       "       ['1043', 'id_1043', 'Product B', ..., 'Location 142', 'Region 6',\n",
       "        '16600.0']], dtype='<U14')"
      ]
     },
     "metadata": {},
     "output_type": "display_data"
    },
    {
     "data": {
      "text/plain": [
       "True"
      ]
     },
     "execution_count": 16,
     "metadata": {},
     "output_type": "execute_result"
    }
   ],
   "source": [
    "# Let see each arr and compare \n",
    "array_1 = three_arr_loaded['arr_0']\n",
    "array_2 = three_arr_loaded['arr_1']\n",
    "array_3 = three_arr_loaded['arr_2']\n",
    "\n",
    "display(array_1, array_2, array_3)\n",
    "\n",
    "np.array_equal(array_1, array_3)"
   ]
  },
  {
   "cell_type": "code",
   "execution_count": 17,
   "metadata": {},
   "outputs": [],
   "source": [
    "# .savez() with keyword array id.\n",
    "np.savez('ThreeArr', ltori = lend_co_LT,\n",
    "         w_nan = lending_co_NAN, ltb = lend_co_LTb)"
   ]
  },
  {
   "cell_type": "code",
   "execution_count": 18,
   "metadata": {},
   "outputs": [
    {
     "data": {
      "text/plain": [
       "['ltori', 'w_nan', 'ltb']"
      ]
     },
     "execution_count": 18,
     "metadata": {},
     "output_type": "execute_result"
    }
   ],
   "source": [
    "# let see\n",
    "three_arr_loaded = np.load('ThreeArr.npz')\n",
    "three_arr_loaded.files"
   ]
  },
  {
   "cell_type": "code",
   "execution_count": 19,
   "metadata": {},
   "outputs": [
    {
     "data": {
      "text/plain": [
       "array([['LoanID', 'StringID', 'Product', ..., 'Location', 'Region',\n",
       "        'TotalPrice'],\n",
       "       ['1', 'id_1', 'Product B', ..., 'Location 2', 'Region 2',\n",
       "        '16600.0'],\n",
       "       ['2', 'id_2', 'Product B', ..., 'Location 3', '', '16600.0'],\n",
       "       ...,\n",
       "       ['1041', 'id_1041', 'Product B', ..., 'Location 23', 'Region 4',\n",
       "        '16600.0'],\n",
       "       ['1042', 'id_1042', 'Product C', ..., 'Location 52', 'Region 6',\n",
       "        '15600.0'],\n",
       "       ['1043', 'id_1043', 'Product B', ..., 'Location 142', 'Region 6',\n",
       "        '16600.0']], dtype='<U14')"
      ]
     },
     "metadata": {},
     "output_type": "display_data"
    },
    {
     "data": {
      "text/plain": [
       "array([[ 2000.,    40.,   365.,  3121.,  4241., 13621.],\n",
       "       [ 2000.,    40.,   365.,  3061.,  4171., 15041.],\n",
       "       [ 1000.,    40.,   365.,  2160.,  3280., 15340.],\n",
       "       ...,\n",
       "       [   nan,    40.,   365.,  4201.,  5001., 16600.],\n",
       "       [ 1000.,    40.,   365.,  2080.,  3320., 15600.],\n",
       "       [ 2000.,    40.,   365.,  4601.,  4601., 16600.]])"
      ]
     },
     "metadata": {},
     "output_type": "display_data"
    },
    {
     "data": {
      "text/plain": [
       "array([['LoanID', 'StringID', 'Product', ..., 'Location', 'Region',\n",
       "        'TotalPrice'],\n",
       "       ['1', 'id_1', 'Product B', ..., 'Location 2', 'Region 2',\n",
       "        '16600.0'],\n",
       "       ['2', 'id_2', 'Product B', ..., 'Location 3', '', '16600.0'],\n",
       "       ...,\n",
       "       ['1041', 'id_1041', 'Product B', ..., 'Location 23', 'Region 4',\n",
       "        '16600.0'],\n",
       "       ['1042', 'id_1042', 'Product C', ..., 'Location 52', 'Region 6',\n",
       "        '15600.0'],\n",
       "       ['1043', 'id_1043', 'Product B', ..., 'Location 142', 'Region 6',\n",
       "        '16600.0']], dtype='<U14')"
      ]
     },
     "metadata": {},
     "output_type": "display_data"
    },
    {
     "data": {
      "text/plain": [
       "True"
      ]
     },
     "execution_count": 19,
     "metadata": {},
     "output_type": "execute_result"
    }
   ],
   "source": [
    "# Let use it\n",
    "array_1 = three_arr_loaded['ltori']\n",
    "array_2 = three_arr_loaded['w_nan']\n",
    "array_3 = three_arr_loaded['ltb']\n",
    "\n",
    "display(array_1, array_2, array_3)\n",
    "\n",
    "np.array_equal(array_1, array_3)"
   ]
  }
 ],
 "metadata": {
  "kernelspec": {
   "display_name": "Python 3",
   "language": "python",
   "name": "python3"
  },
  "language_info": {
   "codemirror_mode": {
    "name": "ipython",
    "version": 3
   },
   "file_extension": ".py",
   "mimetype": "text/x-python",
   "name": "python",
   "nbconvert_exporter": "python",
   "pygments_lexer": "ipython3",
   "version": "3.11.4"
  }
 },
 "nbformat": 4,
 "nbformat_minor": 2
}

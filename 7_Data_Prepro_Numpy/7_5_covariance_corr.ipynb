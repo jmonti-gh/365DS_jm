{
 "cells": [
  {
   "cell_type": "markdown",
   "metadata": {},
   "source": [
    "# 7 Statistics with NumPy\n",
    "## 7_5 Covariance and Correlation in NumPy"
   ]
  },
  {
   "cell_type": "markdown",
   "metadata": {},
   "source": [
    "#### numpy.cov(m, y=None, rowvar=True, bias=False, ddof=None, fweights=None, aweights=None, *, dtype=None)\n",
    "- Estimate a covariance matrix, given data and weights.\n",
    "- Covariance indicates the level to which two variables vary together.\n",
    "- https://www.mathsisfun.com/data/covariance.html\n",
    "- Wiki: Covariance in probability theory and statistics is a measure of the joint variability of two random variables.\n",
    "The sign of the covariance, therefore, shows the tendency in the linear relationship between the variables."
   ]
  },
  {
   "cell_type": "markdown",
   "metadata": {},
   "source": [
    "#### numpy.corrcoef(x, y=None, rowvar=True, bias=<no value>, ddof=<no value>, *, dtype=None)\n",
    "- Return Pearson product-moment correlation coefficients.\n",
    "- The values of R are between -1 and 1, inclusive.\n",
    "- https://www.mathsisfun.com/data/correlation.html\n",
    "- Wiki: In statistics, correlation or dependence is any statistical relationship, whether causal or not, between two random variables or bivariate data. Although in the broadest sense, \"correlation\" may indicate any type of association, in statistics it usually refers to the degree to which a pair of variables are linearly related."
   ]
  },
  {
   "cell_type": "markdown",
   "metadata": {},
   "source": [
    "#### numpy."
   ]
  },
  {
   "cell_type": "code",
   "execution_count": 11,
   "metadata": {},
   "outputs": [
    {
     "data": {
      "text/plain": [
       "'2.1.1'"
      ]
     },
     "execution_count": 11,
     "metadata": {},
     "output_type": "execute_result"
    }
   ],
   "source": [
    "import numpy as np\n",
    "np.__version__"
   ]
  },
  {
   "cell_type": "code",
   "execution_count": 12,
   "metadata": {},
   "outputs": [],
   "source": [
    "# Functions\n",
    "\n",
    "def show_attr(arrnm: str) -> str:\n",
    "    strout = f' {arrnm}: '\n",
    "\n",
    "    for attr in ('shape', 'ndim', 'size', 'dtype'):     #, 'itemsize'):\n",
    "            arrnm_attr = arrnm + '.' + attr\n",
    "            strout += f'| {attr}: {eval(arrnm_attr)} '\n",
    "\n",
    "    return strout"
   ]
  },
  {
   "cell_type": "code",
   "execution_count": 13,
   "metadata": {},
   "outputs": [
    {
     "name": "stdout",
     "output_type": "stream",
     "text": [
      " A: | shape: (3, 5) | ndim: 2 | size: 15 | dtype: int64 \n"
     ]
    },
    {
     "data": {
      "text/plain": [
       "array([[1, 0, 0, 3, 1],\n",
       "       [3, 6, 6, 2, 9],\n",
       "       [4, 5, 3, 8, 0]])"
      ]
     },
     "execution_count": 13,
     "metadata": {},
     "output_type": "execute_result"
    }
   ],
   "source": [
    "A = np.array([[1,0,0,3,1],\n",
    "              [3,6,6,2,9],\n",
    "              [4,5,3,8,0]])\n",
    "\n",
    "print(show_attr('A'))\n",
    "A"
   ]
  },
  {
   "cell_type": "code",
   "execution_count": 14,
   "metadata": {},
   "outputs": [
    {
     "data": {
      "text/plain": [
       "array([[ 1.5, -2. ,  2. ],\n",
       "       [-2. ,  7.7, -7. ],\n",
       "       [ 2. , -7. ,  8.5]])"
      ]
     },
     "execution_count": 14,
     "metadata": {},
     "output_type": "execute_result"
    }
   ],
   "source": [
    "# np.cov() - The output is a 3x3 matrix which is symmetrical over\n",
    "# the main diagonal (1.5 - 7.7 - 8.5). The value in the 2nd col\n",
    "# of the 1st row (-2) is equal to the value of the 1st col of 2nd\n",
    "# row.\n",
    "# jm: Every element is the cov. of the row and itself and the other\n",
    "# two rows. First row: 1.5 es cov of row_1 and row_1. -2 is the cov\n",
    "# of row_1 and row_2. And 2 is the cov of row_1 and row _3\n",
    "\n",
    "np.cov(A)\n",
    "# All these values represent the cov between diff rows of A\n",
    "# The cov of an element and itself is just the variance\n",
    "# Cov(X,X) = Var(X), then all the els in te main diagonal represnt\n",
    "# the variance for that associated row.\n",
    "# Cov(A,B) = Cov(B,A) - (jm: commutative)"
   ]
  },
  {
   "cell_type": "code",
   "execution_count": 15,
   "metadata": {},
   "outputs": [
    {
     "data": {
      "text/plain": [
       "array([[ 1.        , -0.58848989,  0.56011203],\n",
       "       [-0.58848989,  1.        , -0.8652532 ],\n",
       "       [ 0.56011203, -0.8652532 ,  1.        ]])"
      ]
     },
     "execution_count": 15,
     "metadata": {},
     "output_type": "execute_result"
    }
   ],
   "source": [
    "# np.corrcoef() - Correlation coefficient of the matrix\n",
    "# Corr(X,Y) = Cov(X,Y) / (Std(X) *  Std(Y))\n",
    "\n",
    "np.corrcoef(A)\n",
    "# Finds the relationships between every two rows of the array\n",
    "# Corr(X,X) = 1. Corr between a value and itself is always 1"
   ]
  },
  {
   "cell_type": "code",
   "execution_count": 23,
   "metadata": {},
   "outputs": [
    {
     "data": {
      "text/plain": [
       "array([18])"
      ]
     },
     "metadata": {},
     "output_type": "display_data"
    },
    {
     "data": {
      "text/plain": [
       "array([ 6, 33, 18, 20, 24])"
      ]
     },
     "metadata": {},
     "output_type": "display_data"
    },
    {
     "data": {
      "text/plain": [
       "array([ 9,  2,  6, 33, 18, 20, 24, 15,  3])"
      ]
     },
     "metadata": {},
     "output_type": "display_data"
    }
   ],
   "source": [
    "display(np.correlate(A[0,:], A[1,:]))\n",
    "display(np.correlate(A[0,:], A[1,:], 'same'))\n",
    "display(np.correlate(A[0,:], A[1,:], 'full'))\n"
   ]
  },
  {
   "cell_type": "code",
   "execution_count": 28,
   "metadata": {},
   "outputs": [
    {
     "data": {
      "text/plain": [
       "array([[ 8,  8, 17, 19, 14],\n",
       "       [17, 13,  7,  8, 18],\n",
       "       [ 1, 13,  5, 14,  8]])"
      ]
     },
     "metadata": {},
     "output_type": "display_data"
    },
    {
     "data": {
      "text/plain": [
       "array([[ 25.7 , -17.15,   8.45],\n",
       "       [-17.15,  25.3 ,  -9.9 ],\n",
       "       [  8.45,  -9.9 ,  29.7 ]])"
      ]
     },
     "metadata": {},
     "output_type": "display_data"
    },
    {
     "data": {
      "text/plain": [
       "array([[ 1.        , -0.67256971,  0.30585242],\n",
       "       [-0.67256971,  1.        , -0.36115756],\n",
       "       [ 0.30585242, -0.36115756,  1.        ]])"
      ]
     },
     "metadata": {},
     "output_type": "display_data"
    }
   ],
   "source": [
    "# Create a randomize new integer matrix\n",
    "from numpy.random import Generator as gen \n",
    "from numpy.random import PCG64 as pcg \n",
    "\n",
    "array_RG = gen(pcg())\n",
    "B = array_RG.integers(20, size=(3,5))\n",
    "display(B)\n",
    "\n",
    "display(np.cov(B))\n",
    "display(np.corrcoef(B))"
   ]
  },
  {
   "cell_type": "markdown",
   "metadata": {},
   "source": [
    "Correlating\n",
    "\n",
    "corrcoef(x[, y, rowvar, bias, ddof, dtype])\n",
    "Return Pearson product-moment correlation coefficients.\n",
    "\n",
    "correlate(a, v[, mode])\n",
    "Cross-correlation of two 1-dimensional sequences.\n",
    "\n",
    "cov(m[, y, rowvar, bias, ddof, fweights, ...])\n",
    "Estimate a covariance matrix, given data and weights."
   ]
  }
 ],
 "metadata": {
  "kernelspec": {
   "display_name": "Python 3",
   "language": "python",
   "name": "python3"
  },
  "language_info": {
   "codemirror_mode": {
    "name": "ipython",
    "version": 3
   },
   "file_extension": ".py",
   "mimetype": "text/x-python",
   "name": "python",
   "nbconvert_exporter": "python",
   "pygments_lexer": "ipython3",
   "version": "3.11.0"
  }
 },
 "nbformat": 4,
 "nbformat_minor": 2
}

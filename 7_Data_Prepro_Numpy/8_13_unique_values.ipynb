{
 "cells": [
  {
   "cell_type": "markdown",
   "metadata": {},
   "source": [
    "# 8 Data Manipulation with NumPy\n",
    "- Examine how to clean and preprocess data using NumPy.\n",
    "- Hoy to discover missing values (and fill them up).\n",
    "- Ways to remove irrelevant data.\n",
    "- sort(), shuffle(), reshape(), stack(), strip()\n",
    "## 8_13 Finding Unique Values in NDarrays"
   ]
  },
  {
   "cell_type": "markdown",
   "metadata": {},
   "source": [
    "#### numpy.unique(ar, return_index=False, return_inverse=False, return_counts=False, axis=None, *, equal_nan=True)\n",
    "- Find the unique elements of an array.\n",
    "- Returns the sorted unique elements of an array. There are three optional outputs in addition to the unique elements:\n",
    "    * the indices of the input array that give the unique values\n",
    "    * the indices of the unique array that reconstruct the input array\n",
    "    * the number of times each unique value comes up in the input array"
   ]
  },
  {
   "cell_type": "markdown",
   "metadata": {},
   "source": [
    "#### np.unique(arr, return_index=, return_counts=)\n",
    "- Inplace NO!, creates another array that contains all the diff. values\n",
    "- Any value can feature only once in the output"
   ]
  },
  {
   "cell_type": "code",
   "execution_count": 45,
   "metadata": {},
   "outputs": [],
   "source": [
    "import numpy as np\n",
    "np.__version__\n",
    "np.set_printoptions(suppress=True)  # To avoid scientific notation"
   ]
  },
  {
   "cell_type": "code",
   "execution_count": 46,
   "metadata": {},
   "outputs": [],
   "source": [
    "# Function show_attr\n",
    "\n",
    "def show_attr(arrnm: str) -> str:\n",
    "    strout = f' {arrnm}: '\n",
    "\n",
    "    for attr in ('shape', 'ndim', 'size', 'dtype'):     #, 'itemsize'):\n",
    "            arrnm_attr = arrnm + '.' + attr\n",
    "            strout += f'| {attr}: {eval(arrnm_attr)} '\n",
    "\n",
    "    return strout"
   ]
  },
  {
   "cell_type": "code",
   "execution_count": 47,
   "metadata": {},
   "outputs": [
    {
     "data": {
      "text/plain": [
       "array([[ 2000.,    40.,   365.,  3121.,  4241., 13621.],\n",
       "       [ 2000.,    40.,   365.,  3061.,  4171., 15041.],\n",
       "       [ 1000.,    40.,   365.,  2160.,  3280., 15340.],\n",
       "       ...,\n",
       "       [ 2000.,    40.,   365.,  4201.,  5001., 16600.],\n",
       "       [ 1000.,    40.,   365.,  2080.,  3320., 15600.],\n",
       "       [ 2000.,    40.,   365.,  4601.,  4601., 16600.]])"
      ]
     },
     "metadata": {},
     "output_type": "display_data"
    },
    {
     "data": {
      "text/plain": [
       "' lend_num: | shape: (1043, 6) | ndim: 2 | size: 6258 | dtype: float64 '"
      ]
     },
     "execution_count": 47,
     "metadata": {},
     "output_type": "execute_result"
    }
   ],
   "source": [
    "# 1st dataset - lend_num, original without NANs\n",
    "lend_num = np.loadtxt('Lending-Company-Numeric-Data.csv', delimiter=',')\n",
    "display(lend_num)\n",
    "show_attr('lend_num')"
   ]
  },
  {
   "cell_type": "code",
   "execution_count": 48,
   "metadata": {},
   "outputs": [
    {
     "data": {
      "text/plain": [
       "array([-2870., -2550., -2450., ..., 52751., 54625., 64001.])"
      ]
     },
     "metadata": {},
     "output_type": "display_data"
    },
    {
     "data": {
      "text/plain": [
       "' uniq_1: | shape: (1140,) | ndim: 1 | size: 1140 | dtype: float64 '"
      ]
     },
     "execution_count": 48,
     "metadata": {},
     "output_type": "execute_result"
    }
   ],
   "source": [
    "# Unique vals of the whole dataset\n",
    "display(uniq_1 := np.unique(lend_num))\n",
    "show_attr('uniq_1')\n",
    "# 1-D array, of all unique vals of lend_num, arranged in incresing\n",
    "# order, from -2870 (min) to 64001 (max)"
   ]
  },
  {
   "cell_type": "code",
   "execution_count": 49,
   "metadata": {},
   "outputs": [
    {
     "data": {
      "text/plain": [
       "array([ 35.,  40.,  50., 125., 165.])"
      ]
     },
     "execution_count": 49,
     "metadata": {},
     "output_type": "execute_result"
    }
   ],
   "source": [
    "# Uniques vals of the 2nd col\n",
    "np.unique(lend_num[:,1])"
   ]
  },
  {
   "cell_type": "code",
   "execution_count": 50,
   "metadata": {},
   "outputs": [
    {
     "data": {
      "text/plain": [
       "array(['A1', 'A2', 'B1', 'B2', 'C1', 'a1', 'a2', 'b1', 'c1'], dtype='<U2')"
      ]
     },
     "execution_count": 50,
     "metadata": {},
     "output_type": "execute_result"
    }
   ],
   "source": [
    "# Increasing fashion using strings\n",
    "ings = np.array(['b1', 'a1', 'C1', 'A2', 'A1', 'a2', 'B1', 'B2', 'c1'])\n",
    "np.unique(ings)\n"
   ]
  },
  {
   "cell_type": "code",
   "execution_count": 51,
   "metadata": {},
   "outputs": [
    {
     "data": {
      "text/plain": [
       "(array([ 35.,  40.,  50., 125., 165.]),\n",
       " array([  4, 567, 451,  19,   2], dtype=int64))"
      ]
     },
     "metadata": {},
     "output_type": "display_data"
    },
    {
     "name": "stdout",
     "output_type": "stream",
     "text": [
      "Mean: 46.09 - Median: 40.0 - Mode: ModeResult(mode=40.0, count=567)\n"
     ]
    }
   ],
   "source": [
    "# How many times each values appears -> Useful in statistics\n",
    "display(np.unique(lend_num[:,1], return_counts=True))\n",
    "# Can see 40 apears 567 times and 50. 451\n",
    "print('Mean:', np.mean(lend_num[:,1]).round(2), end=' - ')\n",
    "print('Median:', np.median(lend_num[:,1]).round(2), end=' - ')\n",
    "\n",
    "from scipy.stats import mode as scmode\n",
    "print('Mode:', scmode(lend_num[:,1]))\n",
    "\n",
    "## The mean (average) of a data set is found by adding all numbers in the\n",
    "# data set and then dividing by the number of values in the set.\n",
    "## The median is the middle value (in the middle position) when a dataset\n",
    "# is ordered from least to greatest.\n",
    "## The mode is the number that occurs most often in a data set. It's always\n",
    "# possible that there are two modes, and sometimes there is no mode at all\n",
    "\n",
    "## Arithmetic Mean = sum() / num\n",
    "# x₁ + x₂ + x₃ + .... = a + a + a + ... + a\n",
    "## Geometric Mean = mult() / num\n",
    "# x₁ * x₂ * x₃ * ... = b * b * b * ... * b\n",
    "## Harmonic Mean = sum(1/el) / num\n",
    "# 1/x₁ + 1/x₂ + 1/x₃ + ... = 1/h + 1/h + ... + 1/h.\n",
    "\n",
    "# The arithmetic mean is one example of a statistic that describes the\n",
    "# central tendency of a dataset. But any other formula or process that\n",
    "# takes a dataset and generates a single number that represents a\n",
    "# \"typical\" value is also a measure of central tendency. That includes\n",
    "# the median and mode as well as more exotic things like the midrange or\n",
    "# the arithmetic mean when you ignore the largest and smallest value.\n",
    "# All of these numbers attempt to capture the spirit of a dataset by\n",
    "# giving you a sense of a single \"usual\" value, and that is what makes\n",
    "# them measures of central tendency.."
   ]
  },
  {
   "cell_type": "code",
   "execution_count": 52,
   "metadata": {},
   "outputs": [
    {
     "data": {
      "text/plain": [
       "(array([ 35.,  40.,  50., 125., 165.]),\n",
       " array([327,   0,   4,  19,  27], dtype=int64),\n",
       " array([  4, 567, 451,  19,   2], dtype=int64))"
      ]
     },
     "execution_count": 52,
     "metadata": {},
     "output_type": "execute_result"
    }
   ],
   "source": [
    "# Where the unique val appears firs (return_index)\n",
    "np.unique(lend_num[:,1], return_counts=True, return_index=True)\n",
    "# Indices array is in the middle: the array with 0 is the index\n",
    "# arr cause is the only can contain a 0 and sure it will"
   ]
  },
  {
   "cell_type": "code",
   "execution_count": 53,
   "metadata": {},
   "outputs": [
    {
     "data": {
      "text/plain": [
       "array([[ 2000.,    40.,   365.,  3121.,  4241., 13621.],\n",
       "       [ 2000.,    40.,   365.,  3061.,  4171., 15041.],\n",
       "       [ 1000.,    40.,   365.,  2160.,  3280., 15340.],\n",
       "       ...,\n",
       "       [   nan,    40.,   365.,  4201.,  5001., 16600.],\n",
       "       [ 1000.,    40.,   365.,  2080.,  3320., 15600.],\n",
       "       [ 2000.,    40.,   365.,  4601.,  4601., 16600.]])"
      ]
     },
     "metadata": {},
     "output_type": "display_data"
    },
    {
     "name": "stdout",
     "output_type": "stream",
     "text": [
      "Number of NANs: 260\n"
     ]
    },
    {
     "data": {
      "text/plain": [
       "(array([-2870., -2550., -2450., ..., 54625., 64001.,    nan]),\n",
       " array([ 195,  999,  513, ..., 3413,  167,   69], dtype=int64),\n",
       " array([  2,   1,   1, ...,   7,   1, 260], dtype=int64))"
      ]
     },
     "execution_count": 53,
     "metadata": {},
     "output_type": "execute_result"
    }
   ],
   "source": [
    "# JM np.unique with NANs ¡?¡?\n",
    "lend_NANs = np.genfromtxt('Lending-Company-Numeric-Data-NAN.csv',\n",
    "                          delimiter=';')\n",
    "display(lend_NANs)\n",
    "show_attr('lend_NANs')\n",
    "print('Number of NANs:', np.isnan(lend_NANs).sum())\n",
    "\n",
    "np.unique(lend_NANs, return_index=True, return_counts=True)\n",
    "# See again that are 260 NANs as the greatest value"
   ]
  },
  {
   "cell_type": "markdown",
   "metadata": {},
   "source": [
    "### np.unique() - Notes and Examples from Manual\n",
    "- When an axis is specified the subarrays indexed by the axis are sorted. This is done by making the specified axis the first dimension of the array (move the axis to the first dimension to keep the order of the other axes) and then flattening the subarrays in C order.\n",
    "- The flattened subarrays are then viewed as a structured type with each element given a label, with the effect that we end up with a 1-D array of structured types that can be treated in the same way as any other 1-D array.\n",
    "- The result is that the flattened subarrays are sorted in lexicographic order starting with the first element."
   ]
  },
  {
   "cell_type": "code",
   "execution_count": 54,
   "metadata": {},
   "outputs": [
    {
     "data": {
      "text/plain": [
       "array([[1, 0, 0],\n",
       "       [1, 0, 0],\n",
       "       [2, 3, 4]])"
      ]
     },
     "metadata": {},
     "output_type": "display_data"
    },
    {
     "data": {
      "text/plain": [
       "array([[1, 0, 0],\n",
       "       [2, 3, 4]])"
      ]
     },
     "metadata": {},
     "output_type": "display_data"
    },
    {
     "data": {
      "text/plain": [
       "array([[0, 0, 1],\n",
       "       [0, 0, 1],\n",
       "       [3, 4, 2]])"
      ]
     },
     "metadata": {},
     "output_type": "display_data"
    },
    {
     "data": {
      "text/plain": [
       "(array([[1, 0, 0],\n",
       "        [2, 3, 4]]),\n",
       " array([0, 2], dtype=int64),\n",
       " array([2, 1], dtype=int64))"
      ]
     },
     "execution_count": 54,
     "metadata": {},
     "output_type": "execute_result"
    }
   ],
   "source": [
    "# 2-D array unique in different axis (unique rows and unique cols)\n",
    "display(a := np.array([[1, 0, 0], [1, 0, 0], [2, 3, 4]]))\n",
    "display(np.unique(a, axis=0))   # Unique rows\n",
    "display(np.unique(a, axis=1))   # Unique cols\n",
    "np.unique(a, axis=0, return_index=True, return_counts=True)"
   ]
  },
  {
   "cell_type": "code",
   "execution_count": 55,
   "metadata": {},
   "outputs": [
    {
     "data": {
      "text/plain": [
       "array(['a', 'b', 'b', 'c', 'a'], dtype='<U1')"
      ]
     },
     "metadata": {},
     "output_type": "display_data"
    },
    {
     "data": {
      "text/plain": [
       "array(['a', 'b', 'c'], dtype='<U1')"
      ]
     },
     "metadata": {},
     "output_type": "display_data"
    },
    {
     "data": {
      "text/plain": [
       "array([0, 1, 3], dtype=int64)"
      ]
     },
     "metadata": {},
     "output_type": "display_data"
    },
    {
     "data": {
      "text/plain": [
       "array(['a', 'b', 'c'], dtype='<U1')"
      ]
     },
     "execution_count": 55,
     "metadata": {},
     "output_type": "execute_result"
    }
   ],
   "source": [
    "# Return the indices of the original array that give the unique values:\n",
    "display(a := np.array(['a', 'b', 'b', 'c', 'a']))\n",
    "u, indices = np.unique(a, return_index=True)\n",
    "display(u, indices)\n",
    "a[indices]"
   ]
  },
  {
   "cell_type": "code",
   "execution_count": 57,
   "metadata": {},
   "outputs": [
    {
     "data": {
      "text/plain": [
       "array([1, 2, 6, 4, 2, 3, 2])"
      ]
     },
     "metadata": {},
     "output_type": "display_data"
    },
    {
     "data": {
      "text/plain": [
       "array([1, 2, 3, 4, 6])"
      ]
     },
     "metadata": {},
     "output_type": "display_data"
    },
    {
     "data": {
      "text/plain": [
       "array([1, 3, 1, 1, 1], dtype=int64)"
      ]
     },
     "metadata": {},
     "output_type": "display_data"
    },
    {
     "data": {
      "text/plain": [
       "array([1, 2, 2, 2, 3, 4, 6])"
      ]
     },
     "execution_count": 57,
     "metadata": {},
     "output_type": "execute_result"
    }
   ],
   "source": [
    "# Reconstruct the input values from the unique values and counts:\n",
    "display(a := np.array([1, 2, 6, 4, 2, 3, 2]))\n",
    "values, counts = np.unique(a, return_counts=True)\n",
    "display(values, counts)\n",
    "np.repeat(values, counts)   # # original order not preserved"
   ]
  },
  {
   "cell_type": "code",
   "execution_count": 58,
   "metadata": {},
   "outputs": [
    {
     "data": {
      "text/plain": [
       "array([1, 2, 6, 4, 2, 3, 2])"
      ]
     },
     "metadata": {},
     "output_type": "display_data"
    },
    {
     "data": {
      "text/plain": [
       "array([1, 2, 3, 4, 6])"
      ]
     },
     "metadata": {},
     "output_type": "display_data"
    },
    {
     "data": {
      "text/plain": [
       "array([0, 1, 4, 3, 1, 2, 1], dtype=int64)"
      ]
     },
     "metadata": {},
     "output_type": "display_data"
    },
    {
     "data": {
      "text/plain": [
       "array([1, 2, 6, 4, 2, 3, 2])"
      ]
     },
     "execution_count": 58,
     "metadata": {},
     "output_type": "execute_result"
    }
   ],
   "source": [
    "# Reconstruct the input array from the unique values and inverse:\n",
    "display(a := np.array([1, 2, 6, 4, 2, 3, 2]))\n",
    "u, indices = np.unique(a, return_inverse=True)\n",
    "display(u, indices)\n",
    "u[indices]"
   ]
  },
  {
   "cell_type": "code",
   "execution_count": 56,
   "metadata": {},
   "outputs": [
    {
     "name": "stdout",
     "output_type": "stream",
     "text": [
      "['A', 'B', 'C', 'D', 'E', 'F', 'G', 'H', 'I']\n"
     ]
    },
    {
     "data": {
      "text/plain": [
       "array(['A', 'B', 'C', 'D', 'E', 'F', 'G', 'H', 'I'], dtype='<U1')"
      ]
     },
     "metadata": {},
     "output_type": "display_data"
    },
    {
     "data": {
      "text/plain": [
       "array(['A', 'F', 'H', 'I'], dtype='<U1')"
      ]
     },
     "metadata": {},
     "output_type": "display_data"
    },
    {
     "data": {
      "text/plain": [
       "array([['A', 'B', 'C', 'D', 'E', 'F', 'G', 'H', 'I'],\n",
       "       ['A', 'B', 'C', 'D', 'E', 'F', 'G', 'H', 'I'],\n",
       "       ['A', 'B', 'C', 'D', 'E', 'F', 'G', 'H', 'I'],\n",
       "       ['A', 'B', 'C', 'D', 'E', 'F', 'G', 'H', 'I']], dtype='<U1')"
      ]
     },
     "metadata": {},
     "output_type": "display_data"
    },
    {
     "data": {
      "text/plain": [
       "array(['E', 'H'], dtype='<U1')"
      ]
     },
     "metadata": {},
     "output_type": "display_data"
    },
    {
     "data": {
      "text/plain": [
       "array([['E', 'H'],\n",
       "       ['E', 'H'],\n",
       "       ['E', 'H'],\n",
       "       ['E', 'H']], dtype='<U1')"
      ]
     },
     "metadata": {},
     "output_type": "display_data"
    }
   ],
   "source": [
    "# JM selecting els, rows and cols using specific indices\n",
    "print(lst := [chr(i) for i in range(65,74)])\n",
    "display(A := np.array(lst))\n",
    "display(A[[0,5,7,-1]])\n",
    "display(B := np.vstack((A, A, A, A)))\n",
    "display(B[[0,2],(4,7)])\n",
    "display(B[:,[4,7]])"
   ]
  }
 ],
 "metadata": {
  "kernelspec": {
   "display_name": "Python 3",
   "language": "python",
   "name": "python3"
  },
  "language_info": {
   "codemirror_mode": {
    "name": "ipython",
    "version": 3
   },
   "file_extension": ".py",
   "mimetype": "text/x-python",
   "name": "python",
   "nbconvert_exporter": "python",
   "pygments_lexer": "ipython3",
   "version": "3.11.0"
  }
 },
 "nbformat": 4,
 "nbformat_minor": 2
}

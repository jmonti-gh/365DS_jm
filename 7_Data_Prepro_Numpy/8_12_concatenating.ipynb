{
 "cells": [
  {
   "cell_type": "markdown",
   "metadata": {},
   "source": [
    "# 8 Data Manipulation with NumPy\n",
    "- Examine how to clean and preprocess data using NumPy.\n",
    "- Hoy to discover missing values (and fill them up).\n",
    "- Ways to remove irrelevant data.\n",
    "- sort(), shuffle(), reshape(), stack(), strip()\n",
    "## 8_12 Concatenating NDarrays"
   ]
  },
  {
   "cell_type": "markdown",
   "metadata": {},
   "source": [
    "#### numpy.concatenate((a1, a2, ...), axis=0, out=None, dtype=None, casting=\"same_kind\")\n",
    "- Join a sequence of arrays along an existing axis.\n",
    "- In np is Like stacking, cause we are creating a new (larger) array by merging existing smaller arrays __*along a given axis*__.\n",
    "- The inputs and the outputs of the np.concatenate() always have the same ndim"
   ]
  },
  {
   "cell_type": "markdown",
   "metadata": {},
   "source": [
    "#### Concatenating\n",
    "- Linking together objects in a chain."
   ]
  },
  {
   "cell_type": "code",
   "execution_count": 2,
   "metadata": {},
   "outputs": [],
   "source": [
    "import numpy as np\n",
    "np.__version__\n",
    "np.set_printoptions(suppress=True)  # To avoid scientific notation"
   ]
  },
  {
   "cell_type": "code",
   "execution_count": 3,
   "metadata": {},
   "outputs": [],
   "source": [
    "# Function show_attr\n",
    "\n",
    "def show_attr(arrnm: str) -> str:\n",
    "    strout = f' {arrnm}: '\n",
    "\n",
    "    for attr in ('shape', 'ndim', 'size', 'dtype'):     #, 'itemsize'):\n",
    "            arrnm_attr = arrnm + '.' + attr\n",
    "            strout += f'| {attr}: {eval(arrnm_attr)} '\n",
    "\n",
    "    return strout"
   ]
  },
  {
   "cell_type": "code",
   "execution_count": 4,
   "metadata": {},
   "outputs": [
    {
     "data": {
      "text/plain": [
       "array([[ 2000.,    40.,   365.,  3121.,  4241., 13621.],\n",
       "       [ 2000.,    40.,   365.,  3061.,  4171., 15041.],\n",
       "       [ 1000.,    40.,   365.,  2160.,  3280., 15340.],\n",
       "       ...,\n",
       "       [ 2000.,    40.,   365.,  4201.,  5001., 16600.],\n",
       "       [ 1000.,    40.,   365.,  2080.,  3320., 15600.],\n",
       "       [ 2000.,    40.,   365.,  4601.,  4601., 16600.]])"
      ]
     },
     "metadata": {},
     "output_type": "display_data"
    },
    {
     "data": {
      "text/plain": [
       "' lend_num: | shape: (1043, 6) | ndim: 2 | size: 6258 | dtype: float64 '"
      ]
     },
     "execution_count": 4,
     "metadata": {},
     "output_type": "execute_result"
    }
   ],
   "source": [
    "# 1st dataset - lend_num, original without NANs\n",
    "lend_num = np.loadtxt('Lending-Company-Numeric-Data.csv', delimiter=',')\n",
    "display(lend_num)\n",
    "show_attr('lend_num')"
   ]
  },
  {
   "cell_type": "code",
   "execution_count": 5,
   "metadata": {},
   "outputs": [
    {
     "data": {
      "text/plain": [
       "array([[ 2000.,    40.,   365.,  3121.,  4241., 13621.],\n",
       "       [ 2000.,    40.,   365.,  3061.,  4171., 15041.],\n",
       "       [ 1000.,    40.,   365.,  2160.,  3280., 15340.],\n",
       "       ...,\n",
       "       [   nan,    40.,   365.,  4201.,  5001., 16600.],\n",
       "       [ 1000.,    40.,   365.,  2080.,  3320., 15600.],\n",
       "       [ 2000.,    40.,   365.,  4601.,  4601., 16600.]])"
      ]
     },
     "metadata": {},
     "output_type": "display_data"
    },
    {
     "name": "stdout",
     "output_type": "stream",
     "text": [
      "Number of NANs: 260\n"
     ]
    },
    {
     "data": {
      "text/plain": [
       "array([[ 2000.  ,    40.  ,   365.  ,  3121.  ,  4241.  , 13621.  ],\n",
       "       [ 2000.  ,    40.  ,   365.  ,  3061.  ,  4171.  , 15041.  ],\n",
       "       [ 1000.  ,    40.  ,   365.  ,  2160.  ,  3280.  , 15340.  ],\n",
       "       ...,\n",
       "       [ 2250.25,    40.  ,   365.  ,  4201.  ,  5001.  , 16600.  ],\n",
       "       [ 1000.  ,    40.  ,   365.  ,  2080.  ,  3320.  , 15600.  ],\n",
       "       [ 2000.  ,    40.  ,   365.  ,  4601.  ,  4601.  , 16600.  ]])"
      ]
     },
     "metadata": {},
     "output_type": "display_data"
    },
    {
     "name": "stdout",
     "output_type": "stream",
     "text": [
      "Number of NANs: 0\n",
      "Original Means == Actual Means: True\n"
     ]
    }
   ],
   "source": [
    "# 2st dataset - lend_pre, original without NANs\n",
    "lend_pre = np.genfromtxt('Lending-Company-Numeric-Data-NAN.csv', delimiter=';')\n",
    "display(lend_pre)\n",
    "show_attr('lend_pre')\n",
    "print('Number of NANs:', np.isnan(lend_pre).sum())\n",
    "\n",
    "# Process to replace NANs w/mean of each column\n",
    "orig_means = np.nanmean(lend_pre, axis=0).round(2)  # Means of all columns\n",
    "nan_ixs = np.argwhere(np.isnan(lend_pre))   # Indices of NANs \n",
    "for nan_ix in nan_ixs:                      # for e/NAN (couple of indices)\n",
    "    # Change the NAN to the mean of its column \n",
    "    lend_pre[nan_ix[0], nan_ix[1]] = orig_means[nan_ix[1]]\n",
    "\n",
    "# DONE, check the results\n",
    "display(lend_pre)\n",
    "show_attr('lend_pre')\n",
    "print('Number of NANs:', np.isnan(lend_pre).sum())\n",
    "means = np.mean(lend_pre, axis=0).round(2)          # Actual means\n",
    "print('Original Means == Actual Means:', np.array_equal(orig_means, means))"
   ]
  },
  {
   "cell_type": "code",
   "execution_count": 6,
   "metadata": {},
   "outputs": [
    {
     "data": {
      "text/plain": [
       "array([ 2000.,    40.,   365.,  3121.,  4241., 13621.])"
      ]
     },
     "metadata": {},
     "output_type": "display_data"
    },
    {
     "data": {
      "text/plain": [
       "array([ 1000.,    40.,   365.,  2160.,  3280., 15340.])"
      ]
     },
     "metadata": {},
     "output_type": "display_data"
    },
    {
     "data": {
      "text/plain": [
       "array([ 1000.,    40.,   365.,  2160.,  3280., 15340.,  2000.,    40.,\n",
       "         365.,  3121.,  4241., 13621.])"
      ]
     },
     "execution_count": 6,
     "metadata": {},
     "output_type": "execute_result"
    }
   ],
   "source": [
    "# 1-D arrays return 1-D array larger, one after the other\n",
    "display(lend_num[0], lend_num[2])\n",
    "np.concatenate((lend_num[2], lend_num[0]))"
   ]
  },
  {
   "cell_type": "code",
   "execution_count": 7,
   "metadata": {},
   "outputs": [
    {
     "data": {
      "text/plain": [
       "array([ 1000.,    40.,   365.,  2160.,  3280., 15340.,  2000.,    40.,\n",
       "         365.,  3121.,  4241., 13621.])"
      ]
     },
     "metadata": {},
     "output_type": "display_data"
    }
   ],
   "source": [
    "# The same susing axis=0 = axis=-1 | 1-D arryas have only one axis.\n",
    "display(np.concatenate((lend_num[2], lend_num[0]), axis=-1))"
   ]
  },
  {
   "cell_type": "code",
   "execution_count": 10,
   "metadata": {},
   "outputs": [
    {
     "data": {
      "text/plain": [
       "array([[ 2000.  ,    40.  ,   365.  ,  3121.  ,  4241.  , 13621.  ],\n",
       "       [ 2000.  ,    40.  ,   365.  ,  3061.  ,  4171.  , 15041.  ],\n",
       "       [ 1000.  ,    40.  ,   365.  ,  2160.  ,  3280.  , 15340.  ],\n",
       "       ...,\n",
       "       [ 2250.25,    40.  ,   365.  ,  4201.  ,  5001.  , 16600.  ],\n",
       "       [ 1000.  ,    40.  ,   365.  ,  2080.  ,  3320.  , 15600.  ],\n",
       "       [ 2000.  ,    40.  ,   365.  ,  4601.  ,  4601.  , 16600.  ]])"
      ]
     },
     "metadata": {},
     "output_type": "display_data"
    },
    {
     "data": {
      "text/plain": [
       "' ct_1: | shape: (2086, 6) | ndim: 2 | size: 12516 | dtype: float64 '"
      ]
     },
     "metadata": {},
     "output_type": "display_data"
    },
    {
     "data": {
      "text/plain": [
       "(2086, 6)"
      ]
     },
     "execution_count": 10,
     "metadata": {},
     "output_type": "execute_result"
    }
   ],
   "source": [
    "# 2-D array in the default axis (0) - idem np.vstack()\n",
    "display(ct_1 := np.concatenate((lend_num, lend_pre)))\n",
    "display(show_attr('ct_1'))   # 2086 (1043 x 2) rows, 6 cols\n",
    "np.concatenate((lend_num, lend_pre), axis=0).shape"
   ]
  },
  {
   "cell_type": "code",
   "execution_count": 13,
   "metadata": {},
   "outputs": [
    {
     "data": {
      "text/plain": [
       "array([[ 2000.,    40.,   365., ...,  3121.,  4241., 13621.],\n",
       "       [ 2000.,    40.,   365., ...,  3061.,  4171., 15041.],\n",
       "       [ 1000.,    40.,   365., ...,  2160.,  3280., 15340.],\n",
       "       ...,\n",
       "       [ 2000.,    40.,   365., ...,  4201.,  5001., 16600.],\n",
       "       [ 1000.,    40.,   365., ...,  2080.,  3320., 15600.],\n",
       "       [ 2000.,    40.,   365., ...,  4601.,  4601., 16600.]])"
      ]
     },
     "metadata": {},
     "output_type": "display_data"
    },
    {
     "data": {
      "text/plain": [
       "' ct_2: | shape: (1043, 12) | ndim: 2 | size: 12516 | dtype: float64 '"
      ]
     },
     "metadata": {},
     "output_type": "display_data"
    },
    {
     "data": {
      "text/plain": [
       "(1043, 12)"
      ]
     },
     "execution_count": 13,
     "metadata": {},
     "output_type": "execute_result"
    }
   ],
   "source": [
    "# 2-D array last axis (-1) = axis=1 - idem np.hstack()\n",
    "display(ct_2 := np.concatenate((lend_num, lend_pre), axis=1))\n",
    "display(show_attr('ct_2'))   # 1043 rows, 6 x 2 = 12 cols\n",
    "np.hstack((lend_num, lend_pre)).shape"
   ]
  },
  {
   "cell_type": "code",
   "execution_count": 14,
   "metadata": {},
   "outputs": [
    {
     "data": {
      "text/plain": [
       "array([[ 2000.,    40.,   365., ...,  3121.,  4241., 13621.],\n",
       "       [ 2000.,    40.,   365., ...,  3061.,  4171., 15041.],\n",
       "       [ 1000.,    40.,   365., ...,  2160.,  3280., 15340.],\n",
       "       ...,\n",
       "       [ 2000.,    40.,   365., ...,  4201.,  5001., 16600.],\n",
       "       [ 1000.,    40.,   365., ...,  2080.,  3320., 15600.],\n",
       "       [ 2000.,    40.,   365., ...,  4601.,  4601., 16600.]])"
      ]
     },
     "metadata": {},
     "output_type": "display_data"
    },
    {
     "data": {
      "text/plain": [
       "' ct_2: | shape: (1043, 12) | ndim: 2 | size: 12516 | dtype: float64 '"
      ]
     },
     "metadata": {},
     "output_type": "display_data"
    }
   ],
   "source": [
    "display(ct_2 := np.concatenate((lend_num, lend_pre), axis=-1))\n",
    "display(show_attr('ct_2'))   # 1043 rows, 6 x 2 = 12 cols"
   ]
  },
  {
   "cell_type": "code",
   "execution_count": null,
   "metadata": {},
   "outputs": [],
   "source": [
    "# JM COMMENT - maybe FUTURE tries of add a row two a 2-D arrays\n",
    "# 1. using vstack() same num of cols - or stack axis=9\n",
    "# 2. using concatenate(), previously convert 1-D to 2-D adding a dimension\n",
    "#   a. add a dim creating a ner array = ([1-D array])\n",
    "#   b. reshaping the array an adding new dimension value of 1"
   ]
  },
  {
   "cell_type": "code",
   "execution_count": 15,
   "metadata": {},
   "outputs": [
    {
     "data": {
      "text/plain": [
       "array([[[ 2,  4,  6,  8],\n",
       "        [10, 12, 14, 16],\n",
       "        [18, 20, 22, 24]],\n",
       "\n",
       "       [[42, 44, 46, 48],\n",
       "        [50, 52, 54, 56],\n",
       "        [58, 20, 62, 64]]])"
      ]
     },
     "metadata": {},
     "output_type": "display_data"
    },
    {
     "data": {
      "text/plain": [
       "' T2: | shape: (2, 3, 4) | ndim: 3 | size: 24 | dtype: int32 '"
      ]
     },
     "execution_count": 15,
     "metadata": {},
     "output_type": "execute_result"
    }
   ],
   "source": [
    "# Two 3-D Array - Two Tensor rank 3\n",
    "T1 = np.array([[[1, 2, 3, 4],\n",
    "                [5, 6, 7, 8],\n",
    "                [9, 10, 11, 12]],\n",
    "               \n",
    "               [[21, 22, 23, 24],\n",
    "                [25, 26, 27, 28],\n",
    "                [29, 10, 31, 32]]])\n",
    "\n",
    "T2 = T1 * 2\n",
    "\n",
    "display(T2)\n",
    "show_attr('T2')"
   ]
  },
  {
   "cell_type": "code",
   "execution_count": 20,
   "metadata": {},
   "outputs": [
    {
     "data": {
      "text/plain": [
       "array([[[ 1,  2,  3,  4],\n",
       "        [ 5,  6,  7,  8],\n",
       "        [ 9, 10, 11, 12]],\n",
       "\n",
       "       [[21, 22, 23, 24],\n",
       "        [25, 26, 27, 28],\n",
       "        [29, 10, 31, 32]],\n",
       "\n",
       "       [[ 2,  4,  6,  8],\n",
       "        [10, 12, 14, 16],\n",
       "        [18, 20, 22, 24]],\n",
       "\n",
       "       [[42, 44, 46, 48],\n",
       "        [50, 52, 54, 56],\n",
       "        [58, 20, 62, 64]]])"
      ]
     },
     "metadata": {},
     "output_type": "display_data"
    },
    {
     "name": "stdout",
     "output_type": "stream",
     "text": [
      " ct_3: | shape: (4, 3, 4) | ndim: 3 | size: 48 | dtype: int32 \n"
     ]
    },
    {
     "data": {
      "text/plain": [
       "array([[[ 1,  2,  3,  4],\n",
       "        [ 5,  6,  7,  8],\n",
       "        [ 9, 10, 11, 12]],\n",
       "\n",
       "       [[21, 22, 23, 24],\n",
       "        [25, 26, 27, 28],\n",
       "        [29, 10, 31, 32]],\n",
       "\n",
       "       [[ 2,  4,  6,  8],\n",
       "        [10, 12, 14, 16],\n",
       "        [18, 20, 22, 24]],\n",
       "\n",
       "       [[42, 44, 46, 48],\n",
       "        [50, 52, 54, 56],\n",
       "        [58, 20, 62, 64]]])"
      ]
     },
     "execution_count": 20,
     "metadata": {},
     "output_type": "execute_result"
    }
   ],
   "source": [
    "ct_3 = np.concatenate((T1, T2), axis=0)    # idem np.concatenate((T1, T2))\n",
    "display(ct_3)\n",
    "print(show_attr('ct_3'))\n",
    "# idem to vstack\n",
    "np.vstack((T1, T2))\n",
    "## axis=1 irem hstack\n",
    "## axis=2 idem dstack\n",
    "# np.concatenate() can replicate the outputs of these 3 stacking functions.\n"
   ]
  },
  {
   "cell_type": "code",
   "execution_count": null,
   "metadata": {},
   "outputs": [],
   "source": [
    "# Concatenation of 1-D arrays ->don´t need to have the same dimension\n",
    "# More dims are diff, however, if we have arrays of the same dimensions\n",
    "# but diff shapes, we can still concatenate them. But only if their dim\n",
    "# match for the axis we are concatenating along (JM try in stack the same)"
   ]
  },
  {
   "cell_type": "markdown",
   "metadata": {},
   "source": [
    "### FUTURE - Notes and Examples from Manual"
   ]
  }
 ],
 "metadata": {
  "kernelspec": {
   "display_name": "Python 3",
   "language": "python",
   "name": "python3"
  },
  "language_info": {
   "codemirror_mode": {
    "name": "ipython",
    "version": 3
   },
   "file_extension": ".py",
   "mimetype": "text/x-python",
   "name": "python",
   "nbconvert_exporter": "python",
   "pygments_lexer": "ipython3",
   "version": "3.11.4"
  }
 },
 "nbformat": 4,
 "nbformat_minor": 2
}

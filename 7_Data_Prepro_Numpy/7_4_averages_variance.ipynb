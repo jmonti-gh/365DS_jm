{
 "cells": [
  {
   "cell_type": "markdown",
   "metadata": {},
   "source": [
    "# 7 Statistics with NumPy\n",
    "## 7_4 Averages and Variance in NumPy"
   ]
  },
  {
   "cell_type": "markdown",
   "metadata": {},
   "source": [
    "#### numpy.median(a, axis=None, out=None, overwrite_input=False, keepdims=False)\n",
    "- Compute the median along the specified axis.\n",
    "- Returns the median of the array elements."
   ]
  },
  {
   "cell_type": "markdown",
   "metadata": {},
   "source": [
    "#### numpy.average(a, axis=None, weights=None, returned=False, *, keepdims=<no value>)\n",
    "- Compute the weighted average along the specified axis."
   ]
  },
  {
   "cell_type": "markdown",
   "metadata": {},
   "source": [
    "#### numpy.mean(a, axis=None, dtype=None, out=None, keepdims=<no value>, *, where=<no value>)\n",
    "- Compute the arithmetic mean along the specified axis.\n",
    "- Returns the average of the array elements. The average is taken over the flattened array by default, otherwise over the specified axis. float64 intermediate and return values are used for integer inputs."
   ]
  },
  {
   "cell_type": "markdown",
   "metadata": {},
   "source": [
    "#### numpy.std(a, axis=None, dtype=None, out=None, ddof=0, keepdims=<no value>, *, where=<no value>, mean=<no value>, correction=<no value>)\n",
    "- Compute the standard deviation along the specified axis.\n",
    "- Returns the standard deviation, a measure of the spread of a distribution, of the array elements. The standard deviation is computed for the flattened array by default, otherwise over the specified axis.\n",
    "- https://www.mathsisfun.com/data/standard-deviation.html"
   ]
  },
  {
   "cell_type": "markdown",
   "metadata": {},
   "source": [
    "#### numpy.var(a, axis=None, dtype=None, out=None, ddof=0, keepdims=<no value>, *, where=<no value>, mean=<no value>, correction=<no value>)\n",
    "- Compute the variance along the specified axis.\n",
    "- Returns the variance of the array elements, a measure of the spread of a distribution. The variance is computed for the flattened array by default, otherwise over the specified axis."
   ]
  },
  {
   "cell_type": "code",
   "execution_count": 1,
   "metadata": {},
   "outputs": [
    {
     "data": {
      "text/plain": [
       "'2.1.1'"
      ]
     },
     "execution_count": 1,
     "metadata": {},
     "output_type": "execute_result"
    }
   ],
   "source": [
    "import numpy as np\n",
    "np.__version__"
   ]
  },
  {
   "cell_type": "code",
   "execution_count": 2,
   "metadata": {},
   "outputs": [],
   "source": [
    "# Functions\n",
    "\n",
    "def show_attr(arrnm: str) -> str:\n",
    "    strout = f' {arrnm}: '\n",
    "\n",
    "    for attr in ('shape', 'ndim', 'size', 'dtype'):     #, 'itemsize'):\n",
    "            arrnm_attr = arrnm + '.' + attr\n",
    "            strout += f'| {attr}: {eval(arrnm_attr)} '\n",
    "\n",
    "    return strout"
   ]
  },
  {
   "cell_type": "code",
   "execution_count": 3,
   "metadata": {},
   "outputs": [
    {
     "name": "stdout",
     "output_type": "stream",
     "text": [
      " A: | shape: (3, 5) | ndim: 2 | size: 15 | dtype: int64 \n"
     ]
    },
    {
     "data": {
      "text/plain": [
       "array([[1, 0, 0, 3, 1],\n",
       "       [3, 6, 6, 2, 9],\n",
       "       [4, 5, 3, 8, 0]])"
      ]
     },
     "execution_count": 3,
     "metadata": {},
     "output_type": "execute_result"
    }
   ],
   "source": [
    "A = np.array([[1,0,0,3,1],\n",
    "              [3,6,6,2,9],\n",
    "              [4,5,3,8,0]])\n",
    "\n",
    "print(show_attr('A'))\n",
    "A"
   ]
  },
  {
   "cell_type": "code",
   "execution_count": 4,
   "metadata": {},
   "outputs": [
    {
     "data": {
      "text/plain": [
       "np.float64(3.0)"
      ]
     },
     "execution_count": 4,
     "metadata": {},
     "output_type": "execute_result"
    }
   ],
   "source": [
    "# np.median() - The value in the middle position of a sorted dataset\n",
    "# Even num of elements, the average of two middle ones\n",
    "\n",
    "np.median(A)"
   ]
  },
  {
   "cell_type": "code",
   "execution_count": 5,
   "metadata": {},
   "outputs": [
    {
     "name": "stdout",
     "output_type": "stream",
     "text": [
      " B: | shape: (4, 5) | ndim: 2 | size: 20 | dtype: int64 \n"
     ]
    },
    {
     "data": {
      "text/plain": [
       "array([[20, 19, 18, 17, 16],\n",
       "       [15, 14, 13, 12, 11],\n",
       "       [10,  9,  8,  7,  6],\n",
       "       [ 5,  4,  3,  2,  1]])"
      ]
     },
     "metadata": {},
     "output_type": "display_data"
    },
    {
     "data": {
      "text/plain": [
       "array([ 1,  2,  3,  4,  5,  6,  7,  8,  9, 10, 11, 12, 13, 14, 15, 16, 17,\n",
       "       18, 19, 20])"
      ]
     },
     "metadata": {},
     "output_type": "display_data"
    },
    {
     "data": {
      "text/plain": [
       "np.float64(10.5)"
      ]
     },
     "execution_count": 5,
     "metadata": {},
     "output_type": "execute_result"
    }
   ],
   "source": [
    "# np.median(B) - # Even num of elements, the average of two middle ones\n",
    "B = np.arange(20, 0, -1).reshape(4,5)\n",
    "print(show_attr('B'))\n",
    "display(B)\n",
    "display(np.sort(B, axis=None))\n",
    "\n",
    "np.median(B)"
   ]
  },
  {
   "cell_type": "code",
   "execution_count": 6,
   "metadata": {},
   "outputs": [
    {
     "name": "stdout",
     "output_type": "stream",
     "text": [
      " C: | shape: (3, 7) | ndim: 2 | size: 21 | dtype: int64 \n"
     ]
    },
    {
     "data": {
      "text/plain": [
       "array([[21, 20, 19, 18, 17, 16, 15],\n",
       "       [14, 13, 12, 11, 10,  9,  8],\n",
       "       [ 7,  6,  5,  4,  3,  2,  1]])"
      ]
     },
     "metadata": {},
     "output_type": "display_data"
    },
    {
     "data": {
      "text/plain": [
       "array([ 1,  2,  3,  4,  5,  6,  7,  8,  9, 10, 11, 12, 13, 14, 15, 16, 17,\n",
       "       18, 19, 20, 21])"
      ]
     },
     "metadata": {},
     "output_type": "display_data"
    },
    {
     "data": {
      "text/plain": [
       "np.float64(11.0)"
      ]
     },
     "execution_count": 6,
     "metadata": {},
     "output_type": "execute_result"
    }
   ],
   "source": [
    "# np.median(C)\n",
    "C = np.arange(21, 0, -1).reshape(3,7)\n",
    "print(show_attr('C'))\n",
    "display(C)\n",
    "display(np.sort(C, axis=None))\n",
    "\n",
    "np.median(C)"
   ]
  },
  {
   "cell_type": "code",
   "execution_count": 7,
   "metadata": {},
   "outputs": [
    {
     "data": {
      "text/plain": [
       "np.float64(3.4)"
      ]
     },
     "metadata": {},
     "output_type": "display_data"
    },
    {
     "data": {
      "text/plain": [
       "np.float64(3.4)"
      ]
     },
     "metadata": {},
     "output_type": "display_data"
    }
   ],
   "source": [
    "# np.average() similar to np.mean() but permit weighted avg.\n",
    "display(np.mean(A))\n",
    "display(np.average(A))"
   ]
  },
  {
   "cell_type": "code",
   "execution_count": 8,
   "metadata": {},
   "outputs": [
    {
     "data": {
      "text/plain": [
       "array([[0.76073611, 0.22743686, 0.49834448, 0.38963295, 0.64092284],\n",
       "       [0.97456786, 0.44243549, 0.40978337, 0.85839328, 0.837499  ],\n",
       "       [0.22673113, 0.93719233, 0.13043709, 0.24767807, 0.79057226]])"
      ]
     },
     "execution_count": 8,
     "metadata": {},
     "output_type": "execute_result"
    }
   ],
   "source": [
    "# Create a randomize weights matrix\n",
    "from numpy.random import Generator as gen \n",
    "from numpy.random import PCG64 as pcg \n",
    "\n",
    "array_RG = gen(pcg())\n",
    "weights = array_RG.random(size=(3,5))\n",
    "\n",
    "weights"
   ]
  },
  {
   "cell_type": "code",
   "execution_count": 9,
   "metadata": {},
   "outputs": [
    {
     "data": {
      "text/plain": [
       "np.float64(3.323729951755427)"
      ]
     },
     "execution_count": 9,
     "metadata": {},
     "output_type": "execute_result"
    }
   ],
   "source": [
    "# Calculate the weighted avg of A \n",
    "np.average(A, weights=weights)"
   ]
  },
  {
   "cell_type": "code",
   "execution_count": 10,
   "metadata": {},
   "outputs": [
    {
     "data": {
      "text/plain": [
       "np.float64(7.84)"
      ]
     },
     "metadata": {},
     "output_type": "display_data"
    },
    {
     "data": {
      "text/plain": [
       "np.float64(2.8)"
      ]
     },
     "execution_count": 10,
     "metadata": {},
     "output_type": "execute_result"
    }
   ],
   "source": [
    "# np.var() -> Variance \n",
    "display(np.var(A))\n",
    "np.sqrt(np.var(A))\n"
   ]
  },
  {
   "cell_type": "code",
   "execution_count": 11,
   "metadata": {},
   "outputs": [
    {
     "data": {
      "text/plain": [
       "np.float64(2.8)"
      ]
     },
     "metadata": {},
     "output_type": "display_data"
    },
    {
     "data": {
      "text/plain": [
       "np.float64(7.839999999999999)"
      ]
     },
     "execution_count": 11,
     "metadata": {},
     "output_type": "execute_result"
    }
   ],
   "source": [
    "# np.std -> (Standard deviation) ^ 2 = Variance\n",
    "display(np.std(A))\n",
    "np.std(A) ** 2"
   ]
  },
  {
   "cell_type": "markdown",
   "metadata": {},
   "source": [
    "Statistics - Averages and variances\n",
    "\n",
    "median(a[, axis, out, overwrite_input, keepdims])\n",
    "Compute the median along the specified axis.\n",
    "\n",
    "average(a[, axis, weights, returned, keepdims])\n",
    "Compute the weighted average along the specified axis.\n",
    "\n",
    "mean(a[, axis, dtype, out, keepdims, where])\n",
    "Compute the arithmetic mean along the specified axis.\n",
    "\n",
    "std(a[, axis, dtype, out, ddof, keepdims, ...])\n",
    "Compute the standard deviation along the specified axis.\n",
    "\n",
    "var(a[, axis, dtype, out, ddof, keepdims, ...])\n",
    "Compute the variance along the specified axis.\n",
    "\n",
    "nanmedian(a[, axis, out, overwrite_input, ...])\n",
    "Compute the median along the specified axis, while ignoring NaNs.\n",
    "\n",
    "nanmean(a[, axis, dtype, out, keepdims, where])\n",
    "Compute the arithmetic mean along the specified axis, ignoring NaNs.\n",
    "\n",
    "nanstd(a[, axis, dtype, out, ddof, ...])\n",
    "Compute the standard deviation along the specified axis, while ignoring NaNs.\n",
    "\n",
    "nanvar(a[, axis, dtype, out, ddof, ...])\n",
    "Compute the variance along the specified axis, while ignoring NaNs."
   ]
  },
  {
   "cell_type": "code",
   "execution_count": 12,
   "metadata": {},
   "outputs": [],
   "source": [
    "# Functions\n",
    "\n",
    "def pos_median(arr):\n",
    "    ''' Found de position of the median of an array flattened\n",
    "       Sorted '''\n",
    "    a_sorted = np.sort(arr, axis=None)\n",
    "    els_mid = a_sorted.size / 2 \n",
    "\n",
    "    # Even num of elements, els_mid has decimal != 0    \n",
    "    if a_sorted.size % 2 == 1:\n",
    "        ix_med = int(els_mid)\n",
    "        ix_med_low = ix_med_hig = ix_med\n",
    "    else:\n",
    "        ix_med_low = int(els_mid) - 1\n",
    "        ix_med_hig = int(els_mid)\n",
    "\n",
    "    return ix_med_low, ix_med_hig"
   ]
  },
  {
   "cell_type": "code",
   "execution_count": 13,
   "metadata": {},
   "outputs": [
    {
     "name": "stdout",
     "output_type": "stream",
     "text": [
      " A_sorted: | shape: (15,) | ndim: 1 | size: 15 | dtype: int64 \n"
     ]
    },
    {
     "data": {
      "text/plain": [
       "array([0, 0, 0, 1, 1, 2, 3, 3, 3, 4, 5, 6, 6, 8, 9])"
      ]
     },
     "metadata": {},
     "output_type": "display_data"
    },
    {
     "name": "stdout",
     "output_type": "stream",
     "text": [
      "(7, 7)\n"
     ]
    },
    {
     "data": {
      "text/plain": [
       "np.int64(3)"
      ]
     },
     "metadata": {},
     "output_type": "display_data"
    },
    {
     "data": {
      "text/plain": [
       "np.int64(3)"
      ]
     },
     "metadata": {},
     "output_type": "display_data"
    },
    {
     "data": {
      "text/plain": [
       "np.float64(3.0)"
      ]
     },
     "metadata": {},
     "output_type": "display_data"
    }
   ],
   "source": [
    "# np.median(A)\n",
    "\n",
    "A_sorted = np.sort(A, axis=None)    # Sorting the array in a flatten view\n",
    "print(show_attr('A_sorted'))\n",
    "display(A_sorted)\n",
    "\n",
    "print(pos_median(A))                # Position (index) of the median\n",
    "\n",
    "pos_med_low = pos_median(A)[0]\n",
    "pos_med_hig = pos_median(A)[1]\n",
    "jm_median_low = A_sorted[pos_med_low]\n",
    "jm_median_high = A_sorted[pos_med_low]\n",
    "\n",
    "npmedian = np.median(A)\n",
    "\n",
    "display(jm_median_low, jm_median_high, npmedian)"
   ]
  },
  {
   "cell_type": "code",
   "execution_count": 14,
   "metadata": {},
   "outputs": [
    {
     "data": {
      "text/plain": [
       "array([[20, 19, 18, 17, 16],\n",
       "       [15, 14, 13, 12, 11],\n",
       "       [10,  9,  8,  7,  6],\n",
       "       [ 5,  4,  3,  2,  1]])"
      ]
     },
     "metadata": {},
     "output_type": "display_data"
    },
    {
     "data": {
      "text/plain": [
       "array([ 1,  2,  3,  4,  5,  6,  7,  8,  9, 10, 11, 12, 13, 14, 15, 16, 17,\n",
       "       18, 19, 20])"
      ]
     },
     "metadata": {},
     "output_type": "display_data"
    },
    {
     "name": "stdout",
     "output_type": "stream",
     "text": [
      "(9, 10)\n"
     ]
    },
    {
     "data": {
      "text/plain": [
       "np.int64(10)"
      ]
     },
     "metadata": {},
     "output_type": "display_data"
    },
    {
     "data": {
      "text/plain": [
       "np.int64(11)"
      ]
     },
     "metadata": {},
     "output_type": "display_data"
    },
    {
     "data": {
      "text/plain": [
       "np.float64(10.5)"
      ]
     },
     "metadata": {},
     "output_type": "display_data"
    }
   ],
   "source": [
    "# np.median(B)\n",
    "B = np.arange(20, 0, -1).reshape(4,5)\n",
    "display(B)\n",
    "pos_median(B)\n",
    "\n",
    "B_sorted = np.sort(B, axis=None)\n",
    "display(B_sorted)\n",
    "\n",
    "print(pos_median(B))                # Position (index) of the median\n",
    "\n",
    "pos_med_low = pos_median(B)[0]\n",
    "pos_med_hig = pos_median(B)[1]\n",
    "jm_median_low = B_sorted[pos_med_low]\n",
    "jm_median_hig = B_sorted[pos_med_hig]\n",
    "\n",
    "npmedian = np.median(B)\n",
    "\n",
    "display(jm_median_low, jm_median_hig, npmedian)"
   ]
  },
  {
   "cell_type": "code",
   "execution_count": 15,
   "metadata": {},
   "outputs": [
    {
     "data": {
      "text/plain": [
       "array([21, 20, 19, 18, 17, 16, 15, 14, 13, 12, 11, 10,  9,  8,  7,  6,  5,\n",
       "        4,  3,  2,  1])"
      ]
     },
     "metadata": {},
     "output_type": "display_data"
    },
    {
     "data": {
      "text/plain": [
       "array([ 1,  2,  3,  4,  5,  6,  7,  8,  9, 10, 11, 12, 13, 14, 15, 16, 17,\n",
       "       18, 19, 20, 21])"
      ]
     },
     "metadata": {},
     "output_type": "display_data"
    },
    {
     "name": "stdout",
     "output_type": "stream",
     "text": [
      "(10, 10)\n"
     ]
    },
    {
     "data": {
      "text/plain": [
       "np.int64(11)"
      ]
     },
     "metadata": {},
     "output_type": "display_data"
    },
    {
     "data": {
      "text/plain": [
       "np.int64(11)"
      ]
     },
     "metadata": {},
     "output_type": "display_data"
    },
    {
     "data": {
      "text/plain": [
       "np.float64(11.0)"
      ]
     },
     "metadata": {},
     "output_type": "display_data"
    }
   ],
   "source": [
    "# np.median(B)\n",
    "B = np.arange(21, 0, -1)\n",
    "display(B)\n",
    "pos_median(B)\n",
    "\n",
    "B_sorted = np.sort(B, axis=None)\n",
    "display(B_sorted)\n",
    "\n",
    "print(pos_median(B))                # Position (index) of the median\n",
    "\n",
    "pos_med_low = pos_median(B)[0]\n",
    "pos_med_hig = pos_median(B)[1]\n",
    "jm_median_low = B_sorted[pos_med_low]\n",
    "jm_median_hig = B_sorted[pos_med_hig]\n",
    "\n",
    "npmedian = np.median(B)\n",
    "\n",
    "display(jm_median_low, jm_median_hig, npmedian)\n"
   ]
  }
 ],
 "metadata": {
  "kernelspec": {
   "display_name": "Python 3",
   "language": "python",
   "name": "python3"
  },
  "language_info": {
   "codemirror_mode": {
    "name": "ipython",
    "version": 3
   },
   "file_extension": ".py",
   "mimetype": "text/x-python",
   "name": "python",
   "nbconvert_exporter": "python",
   "pygments_lexer": "ipython3",
   "version": "3.11.0"
  }
 },
 "nbformat": 4,
 "nbformat_minor": 2
}

{
 "cells": [
  {
   "cell_type": "markdown",
   "metadata": {},
   "source": [
    "# 5 Generating Data with Numpy\n",
    "# 5_4 Random Generators and Seeds\n",
    "- The different ways we can generate random variables in NumPy.\n",
    "- Define what a random bit generator is.\n",
    "- Explain how a random bit generator operates."
   ]
  },
  {
   "cell_type": "code",
   "execution_count": 1,
   "metadata": {},
   "outputs": [
    {
     "data": {
      "text/plain": [
       "'2.1.1'"
      ]
     },
     "execution_count": 1,
     "metadata": {},
     "output_type": "execute_result"
    }
   ],
   "source": [
    "import numpy as np\n",
    "np.__version__"
   ]
  },
  {
   "cell_type": "code",
   "execution_count": 2,
   "metadata": {},
   "outputs": [],
   "source": [
    "# Generator function as gen instead of numpy.random.Generator()\n",
    "from numpy.random import Generator as gen \n",
    "# Bit-generator PCG64 as pcg instead of numpy.random.PCG64()\n",
    "from numpy.random import PCG64 as pc"
   ]
  },
  {
   "cell_type": "markdown",
   "metadata": {},
   "source": [
    "- The *Generator* function takes a *bit generator* as an input and creates *generator* objects as outputs.\n",
    "- These objects are instances of the numpy.random.Generator class.\n",
    "- We can use the various methods of the built-in class to create arrays of random data.\n",
    "- There is the bit generator PCG64 for the abbreviation is short for \"Permutation Congruential Generator\", and the function itself is a 128 bit implementation of O'neill's PCG.\n",
    "- PCG contains function pointers that can produce decimal or integer values of up to 64 bits in size."
   ]
  },
  {
   "cell_type": "code",
   "execution_count": 12,
   "metadata": {},
   "outputs": [
    {
     "name": "stdout",
     "output_type": "stream",
     "text": [
      "Generator(PCG64)\n"
     ]
    },
    {
     "data": {
      "text/plain": [
       "0.3027711474268169"
      ]
     },
     "execution_count": 12,
     "metadata": {},
     "output_type": "execute_result"
    }
   ],
   "source": [
    "array_RG = gen(pcg())       # RG: Random Generator\n",
    "print(array_RG)\n",
    "# We call the normal method on our newly defined numpy generator variable\n",
    "array_RG.normal()\n",
    "# The output is a single numeric value which was generated from\n",
    "# a normal distribution. In fact, it was generated from a standard\n",
    "# normal distribution based on the default values."
   ]
  },
  {
   "cell_type": "code",
   "execution_count": 10,
   "metadata": {},
   "outputs": [
    {
     "data": {
      "text/plain": [
       "array([-0.68101433,  1.87941459,  2.11638639])"
      ]
     },
     "metadata": {},
     "output_type": "display_data"
    },
    {
     "data": {
      "text/plain": [
       "array([[-0.61251096, -1.09991266,  0.9578756 , -0.05575867],\n",
       "       [-1.86884973, -0.4182158 ,  1.37069464,  0.64340439],\n",
       "       [-0.84409594,  0.42638382, -0.84235103, -0.15824336]])"
      ]
     },
     "metadata": {},
     "output_type": "display_data"
    }
   ],
   "source": [
    "# size= argument, indicate how many random values we want to generate\n",
    "display(array_RG.normal(size=3))\n",
    "# 1 scalar => 1D array whit 3 random num\n",
    "display(array_RG.normal(size=(3,4)))\n",
    "# a tuple as the size => N-D array with the same shape"
   ]
  },
  {
   "cell_type": "code",
   "execution_count": 21,
   "metadata": {},
   "outputs": [
    {
     "data": {
      "text/plain": [
       "-0.13640898920107863"
      ]
     },
     "metadata": {},
     "output_type": "display_data"
    },
    {
     "data": {
      "text/plain": [
       "array([[ 0.09414431, -0.06300442,  1.05391641, -0.6866818 , -0.50922173],\n",
       "       [-0.7999526 ,  0.73041825,  0.08825439, -2.1177576 ,  0.65526774],\n",
       "       [-0.48095012, -0.5519114 , -0.58578662, -0.98257896,  1.12378166],\n",
       "       [-1.30984316, -0.04703774,  0.955272  ,  0.26071745, -0.20023668],\n",
       "       [-1.50172484, -1.4929163 ,  0.96535084,  1.18694633, -0.76065577]])"
      ]
     },
     "metadata": {},
     "output_type": "display_data"
    }
   ],
   "source": [
    "array_RG = gen(pcg(seed=365))       # \n",
    "display(array_RG.normal())\n",
    "display(array_RG.normal(size=(5,5)))"
   ]
  },
  {
   "cell_type": "code",
   "execution_count": 28,
   "metadata": {},
   "outputs": [
    {
     "data": {
      "text/plain": [
       "-1.8593135408148562"
      ]
     },
     "metadata": {},
     "output_type": "display_data"
    },
    {
     "data": {
      "text/plain": [
       "array([[-0.46487354,  0.09736594, -0.05677348, -0.11091426, -0.58189789],\n",
       "       [-0.20967114, -0.20616846,  1.65293167, -1.66106449, -0.5835465 ],\n",
       "       [ 0.87472625, -0.60359956,  0.0538302 , -0.57961972, -0.16704329],\n",
       "       [-0.66946975,  0.12209535, -1.8272256 , -0.04004098,  1.35886636],\n",
       "       [-0.22191776,  1.62415483,  0.39929258,  0.488609  ,  0.87649777]])"
      ]
     },
     "metadata": {},
     "output_type": "display_data"
    }
   ],
   "source": [
    "# At this point the seed was reseted\n",
    "display(array_RG.normal())\n",
    "display(array_RG.normal(size=(5,5)))"
   ]
  },
  {
   "cell_type": "code",
   "execution_count": 32,
   "metadata": {},
   "outputs": [
    {
     "data": {
      "text/plain": [
       "-0.6816610110236027"
      ]
     },
     "metadata": {},
     "output_type": "display_data"
    },
    {
     "data": {
      "text/plain": [
       "array([[-0.62410024,  0.39484937, -0.01234886,  0.14553   ,  1.00794211],\n",
       "       [ 0.12351974, -0.68063271, -0.14001005, -1.39351597, -0.37128087],\n",
       "       [-1.00782568,  2.27929378, -2.86134622,  1.08583391,  0.37921251],\n",
       "       [-0.96173074, -1.60601563,  0.36843508, -0.85129397, -1.62470587],\n",
       "       [-1.86468159,  0.24428792,  0.30368172,  0.84269526, -1.99924199]])"
      ]
     },
     "metadata": {},
     "output_type": "display_data"
    }
   ],
   "source": [
    "# At this point the seed was reseted\n",
    "array_RG = gen(pcg(seed=(3,6,5)))\n",
    "display(array_RG.normal())\n",
    "display(array_RG.normal(size=(5,5)))"
   ]
  }
 ],
 "metadata": {
  "kernelspec": {
   "display_name": "Python 3",
   "language": "python",
   "name": "python3"
  },
  "language_info": {
   "codemirror_mode": {
    "name": "ipython",
    "version": 3
   },
   "file_extension": ".py",
   "mimetype": "text/x-python",
   "name": "python",
   "nbconvert_exporter": "python",
   "pygments_lexer": "ipython3",
   "version": "3.11.0"
  }
 },
 "nbformat": 4,
 "nbformat_minor": 2
}

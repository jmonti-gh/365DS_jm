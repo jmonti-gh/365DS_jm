{
 "cells": [
  {
   "cell_type": "markdown",
   "metadata": {},
   "source": [
    "# 7. Data Preprocessing with NumPy"
   ]
  },
  {
   "cell_type": "markdown",
   "metadata": {},
   "source": [
    "[## 3. NumPy Fundamentals](#3-numpy-fundamentals)"
   ]
  },
  {
   "cell_type": "markdown",
   "metadata": {},
   "source": [
    "[## 5. Generating Data with NumPy](#5-generating-data-with-numpy)."
   ]
  },
  {
   "cell_type": "markdown",
   "metadata": {},
   "source": [
    "## 0. Import Libraries and set np print options"
   ]
  },
  {
   "cell_type": "code",
   "execution_count": 14,
   "metadata": {},
   "outputs": [
    {
     "data": {
      "text/plain": [
       "'1.26.4'"
      ]
     },
     "execution_count": 14,
     "metadata": {},
     "output_type": "execute_result"
    }
   ],
   "source": [
    "import numpy as np\n",
    "np.__version__\n",
    "# np.set_printoptions(suppress=True, linewidth=100, precision=2)\n",
    "# check 'whith np.printoptions ...' and np.get_printoptions."
   ]
  },
  {
   "cell_type": "markdown",
   "metadata": {},
   "source": [
    "## 1. Introduction to NumPy"
   ]
  },
  {
   "cell_type": "markdown",
   "metadata": {},
   "source": [
    "#### 1/2. NumPy arrays allow for element-wise operations, leading to more efficient computations.\n",
    "#### 2/2. NumPy is suitable for data analysis because it is not only stable but also offers shorter computation times due to its low-level language roots. > True <"
   ]
  },
  {
   "cell_type": "code",
   "execution_count": 15,
   "metadata": {},
   "outputs": [
    {
     "data": {
      "text/plain": [
       "array([[1, 2, 3],\n",
       "       [4, 5, 6]])"
      ]
     },
     "metadata": {},
     "output_type": "display_data"
    },
    {
     "data": {
      "text/plain": [
       "array([[ 1,  4,  9],\n",
       "       [16, 25, 36]], dtype=int32)"
      ]
     },
     "execution_count": 15,
     "metadata": {},
     "output_type": "execute_result"
    }
   ],
   "source": [
    "# NumPy arrays allow for element-wise operations, leading to more efficient computations.\n",
    "\n",
    "display(A := np.arange(1,7).reshape(2,3))\n",
    "np.power(A, 2)"
   ]
  },
  {
   "cell_type": "markdown",
   "metadata": {},
   "source": [
    "#### 1/1. A 0-dimensional array is equivalent to a scalar value. | A 1-dimensional array can be thought of as a vector. | A 2-dimensional array in NumPy is similar to a matrix in linear algebra.\n",
    "#### 2/2.\n",
    "- A scalar is a single data point in NumPy, also known as a 0D array.\n",
    "- A vector is a sequence of values, representing a 1D array.\n",
    "- A 2D array in NumPy is equivalent to a matrix, consisting of rows and columns."
   ]
  },
  {
   "cell_type": "code",
   "execution_count": 16,
   "metadata": {},
   "outputs": [
    {
     "data": {
      "text/plain": [
       "array(5)"
      ]
     },
     "metadata": {},
     "output_type": "display_data"
    },
    {
     "name": "stdout",
     "output_type": "stream",
     "text": [
      "()  -  0\n"
     ]
    },
    {
     "data": {
      "text/plain": [
       "array([5, 4, 3])"
      ]
     },
     "metadata": {},
     "output_type": "display_data"
    },
    {
     "name": "stdout",
     "output_type": "stream",
     "text": [
      "(3,)  -  1\n"
     ]
    },
    {
     "data": {
      "text/plain": [
       "array([[5, 4, 3],\n",
       "       [9, 8, 7]])"
      ]
     },
     "metadata": {},
     "output_type": "display_data"
    },
    {
     "name": "stdout",
     "output_type": "stream",
     "text": [
      "(2, 3)  -  2\n"
     ]
    }
   ],
   "source": [
    "display(array_0D := np.array(5))\n",
    "print(array_0D.shape, ' - ', array_0D.ndim)\n",
    "\n",
    "display(array_1D := np.array([5,4,3]))\n",
    "print(array_1D.shape, ' - ', array_1D.ndim)\n",
    "\n",
    "display(array_2D := np.array([[5,4,3], [9,8,7]]))\n",
    "print(array_2D.shape, ' - ', array_2D.ndim)"
   ]
  },
  {
   "cell_type": "markdown",
   "metadata": {},
   "source": [
    "#### 1/1. Press Shift + Tab after typing the function name -> check doc in Jupyter"
   ]
  },
  {
   "cell_type": "markdown",
   "metadata": {},
   "source": [
    "## 2. Why do we use NumPy"
   ]
  },
  {
   "cell_type": "markdown",
   "metadata": {},
   "source": [
    "#### 1/1. Why was NumPy created?: There was a need for a unified array type."
   ]
  },
  {
   "cell_type": "markdown",
   "metadata": {},
   "source": [
    "#### 1/2. Lists concatenate elements, while arrays perform element-wise addition.\n",
    "#### 2/2. NumPy arrays have a .shape attribute, while Python lists do not <> True <>"
   ]
  },
  {
   "cell_type": "code",
   "execution_count": 17,
   "metadata": {},
   "outputs": [
    {
     "data": {
      "text/plain": [
       "[[1, 2, 3], [4, 5, 6]]"
      ]
     },
     "metadata": {},
     "output_type": "display_data"
    },
    {
     "data": {
      "text/plain": [
       "array([[1, 2, 3],\n",
       "       [4, 5, 6]])"
      ]
     },
     "metadata": {},
     "output_type": "display_data"
    },
    {
     "data": {
      "text/plain": [
       "[[1, 2, 3], [4, 5, 6], [1, 2, 3], [4, 5, 6]]"
      ]
     },
     "metadata": {},
     "output_type": "display_data"
    },
    {
     "data": {
      "text/plain": [
       "array([[ 2,  4,  6],\n",
       "       [ 8, 10, 12]])"
      ]
     },
     "metadata": {},
     "output_type": "display_data"
    },
    {
     "data": {
      "text/plain": [
       "(2, 3)"
      ]
     },
     "execution_count": 17,
     "metadata": {},
     "output_type": "execute_result"
    }
   ],
   "source": [
    "# Lists vs np.ndarray\n",
    "display(lst := [[1,2,3],[4,5,6]])\n",
    "display(arr := np.array(lst))\n",
    "\n",
    "display(lst_plus_lst := lst + lst)\n",
    "display(arr + arr)                  # idem np.add(arr, arr)\n",
    "\n",
    "arr.shape\n",
    "# lst.shape       # AttributeError: 'list' object has no attribute 'shape'"
   ]
  },
  {
   "cell_type": "markdown",
   "metadata": {},
   "source": [
    "## 3. NumPy Fundamentals"
   ]
  },
  {
   "cell_type": "markdown",
   "metadata": {},
   "source": [
    "#### 1/4 - element Indexing"
   ]
  },
  {
   "cell_type": "code",
   "execution_count": 18,
   "metadata": {},
   "outputs": [
    {
     "data": {
      "text/plain": [
       "6"
      ]
     },
     "execution_count": 18,
     "metadata": {},
     "output_type": "execute_result"
    }
   ],
   "source": [
    "array_a = np.array([[1, 2, 3], [4, 5, 6]])\n",
    "array_a[1, 2]                              # jm -> 6 np.int"
   ]
  },
  {
   "cell_type": "markdown",
   "metadata": {},
   "source": [
    "#### 2/4. Negative indices in NumPy will result in IndexOutOfBounds error. <> FALSE <>"
   ]
  },
  {
   "cell_type": "markdown",
   "metadata": {},
   "source": [
    "#### 3/4. In NumPy, indexing starts at 0 for both rows and columns.\n",
    "- To retrieve an entire column in a 2D array, use a colon (:)in place of the row index. "
   ]
  },
  {
   "cell_type": "markdown",
   "metadata": {},
   "source": [
    "#### 4/4. NumPy uses zero-based indexing.\n",
    "- NumPy allows negative indices.\n",
    "- The shape of an array affects the number of indices you need to provide."
   ]
  },
  {
   "cell_type": "code",
   "execution_count": 19,
   "metadata": {},
   "outputs": [
    {
     "data": {
      "text/plain": [
       "array([[ 0,  1,  2,  3,  4],\n",
       "       [ 5,  6,  7,  8,  9],\n",
       "       [10, 11, 12, 13, 14],\n",
       "       [15, 16, 17, 18, 19]])"
      ]
     },
     "metadata": {},
     "output_type": "display_data"
    },
    {
     "data": {
      "text/plain": [
       "array([ 4, 16])"
      ]
     },
     "metadata": {},
     "output_type": "display_data"
    },
    {
     "name": "stdout",
     "output_type": "stream",
     "text": [
      "4  -  16\n"
     ]
    },
    {
     "data": {
      "text/plain": [
       "array([[ 3,  2,  1],\n",
       "       [ 8,  7,  6],\n",
       "       [13, 12, 11]])"
      ]
     },
     "metadata": {},
     "output_type": "display_data"
    },
    {
     "data": {
      "text/plain": [
       "array([[ 1,  2,  3],\n",
       "       [ 6,  7,  8],\n",
       "       [11, 12, 13]])"
      ]
     },
     "metadata": {},
     "output_type": "display_data"
    }
   ],
   "source": [
    "# Some jm-practice in indexing\n",
    "display(jm := np.arange(20).reshape(4,5))\n",
    "display(jm[[0,3],[4,1]])\n",
    "print(jm[0,4], ' - ',jm[3,1])\n",
    "\n",
    "display(jm[:3,3:0:-1])      # INVERT col order\n",
    "display(jm[:3,1:4])         # Same vals not inverted\n",
    "\n",
    "# ixs = np.argwhere(jm % 2 != 0)\n",
    "# rows, cols = ixs[:,0], ixs[:,1]\n",
    "# jm[rows, cols]"
   ]
  },
  {
   "cell_type": "markdown",
   "metadata": {},
   "source": [
    "#### 1/2. dtype Numeric ex. np.int32, np.float64 - Non-numeric: np.str, np.bool\n",
    "#### 2/2. If an array is created in NumPy without explicitly specifying the data type, NumPy automatically assigns the smallest possible data type that can store the values in the array."
   ]
  },
  {
   "cell_type": "markdown",
   "metadata": {},
   "source": [
    "#### 1/3. Elementwise multiplication between two NumPy arrays always requires the arrays to have the same dimensions. <> FALSE <>\n",
    "#### 2/3. TypeCasting - dtype\n",
    "#### 3/3. In NumPy, typecasting is performed only on the output of an operation (e.g. np.add()), not the inputs themselves. <> FALSE <>"
   ]
  },
  {
   "cell_type": "markdown",
   "metadata": {},
   "source": [
    "## 4. Working with Arrays"
   ]
  },
  {
   "cell_type": "markdown",
   "metadata": {},
   "source": [
    "- 3/8. In stepwise slicing, using a step of 0 will result in an error because it means no movement within the array.\n",
    "- 4/8. Conditional slicing in NumPy returns a one-dimensional array, even if the original array is multi-dimensional\n",
    "- 6/8. Either greater than 4 or are even? C[(C > 4) | (C % 2 == 0)]\n",
    "- 8/8. The NumPy squeeze() function removes all dimensions of size 1 from an array."
   ]
  },
  {
   "cell_type": "markdown",
   "metadata": {},
   "source": [
    "## 5. Generating Data with NumPy"
   ]
  },
  {
   "cell_type": "code",
   "execution_count": null,
   "metadata": {},
   "outputs": [],
   "source": []
  },
  {
   "cell_type": "markdown",
   "metadata": {},
   "source": [
    "## 6. Importing and Saving Data with Numpy"
   ]
  },
  {
   "cell_type": "code",
   "execution_count": null,
   "metadata": {},
   "outputs": [],
   "source": []
  },
  {
   "cell_type": "markdown",
   "metadata": {},
   "source": [
    "## 7. Statistics with NumPy"
   ]
  },
  {
   "cell_type": "code",
   "execution_count": null,
   "metadata": {},
   "outputs": [],
   "source": []
  },
  {
   "cell_type": "markdown",
   "metadata": {},
   "source": [
    "## 8. Data Manipulation with NumPy"
   ]
  },
  {
   "cell_type": "code",
   "execution_count": null,
   "metadata": {},
   "outputs": [],
   "source": []
  }
 ],
 "metadata": {
  "kernelspec": {
   "display_name": "Python 3",
   "language": "python",
   "name": "python3"
  },
  "language_info": {
   "codemirror_mode": {
    "name": "ipython",
    "version": 3
   },
   "file_extension": ".py",
   "mimetype": "text/x-python",
   "name": "python",
   "nbconvert_exporter": "python",
   "pygments_lexer": "ipython3",
   "version": "3.11.4"
  }
 },
 "nbformat": 4,
 "nbformat_minor": 2
}

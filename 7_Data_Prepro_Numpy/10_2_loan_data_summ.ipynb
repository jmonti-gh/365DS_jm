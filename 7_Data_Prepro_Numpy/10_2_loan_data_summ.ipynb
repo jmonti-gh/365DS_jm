{
 "cells": [
  {
   "cell_type": "markdown",
   "metadata": {},
   "source": [
    "# 7. Data Preprocessing with NumPy\n",
    "## 9. A Loan Data Practical Example with NumPy\n",
    "- Summary"
   ]
  },
  {
   "cell_type": "code",
   "execution_count": null,
   "metadata": {},
   "outputs": [],
   "source": []
  },
  {
   "cell_type": "markdown",
   "metadata": {},
   "source": [
    "### 0. Import Libraries, set_printoptions, and def show_attr()"
   ]
  },
  {
   "cell_type": "code",
   "execution_count": 1,
   "metadata": {},
   "outputs": [],
   "source": [
    "import numpy as np\n",
    "np.__version__\n",
    "np.set_printoptions(suppress=True, linewidth=100, precision=2)"
   ]
  },
  {
   "cell_type": "code",
   "execution_count": 2,
   "metadata": {},
   "outputs": [],
   "source": [
    "# Function show_attr\n",
    "\n",
    "def show_attr(arrnm: str) -> str:\n",
    "    strout = f' {arrnm}: '\n",
    "\n",
    "    for attr in ('shape', 'ndim', 'size', 'dtype'):     #, 'itemsize'):\n",
    "            arrnm_attr = arrnm + '.' + attr\n",
    "            strout += f'| {attr}: {eval(arrnm_attr)} '\n",
    "\n",
    "    return strout"
   ]
  },
  {
   "cell_type": "markdown",
   "metadata": {},
   "source": [
    "### 1. Setting Up: Introduction to the Practical Example"
   ]
  },
  {
   "cell_type": "markdown",
   "metadata": {},
   "source": [
    "#### What working as a data analyst in a data science team looks like\n",
    "1. Introduce the project.\n",
    "2. All the Tasks and Responsibilities that the head of data analytics assigned to us.\n",
    "3. Examine the dataset (before we start cleaning and prepro)\n",
    "4. Cleaning and Preprocessing the dataset.\n",
    "5. Save it to an external *.csv file (once the data is ready to be analyzed).\n",
    "6. Pass it on to the data scientists.\n",
    "> DScientist: will use the cleaning and prepro dtset to construct a CRM (credit risk model), that measures probability of default."
   ]
  },
  {
   "cell_type": "markdown",
   "metadata": {},
   "source": [
    "#### Structure of the working process\n",
    "- Gathering (Recopilación de información), Cleaning and Preprocessing the Data <- Data Analysts\n",
    "- DAnalysts hand them over to the DScientists (ML knowlegde) to construct complex Predictive Models.\n",
    "##### DAnalysts Rol:\n",
    "1. Our goal is to obtain a clean and preprocessed dataset\n",
    "2. We'll note down all the changes we're making to the original dataset in a documentation file where we describe what each column of the new dtset represents.\n",
    "3. This info will be invaluable to the DScientists who will work with this data after us."
   ]
  },
  {
   "cell_type": "markdown",
   "metadata": {},
   "source": [
    "#### A day in the life of a DAnalyst\n",
    "- Explain our role in the project.\n",
    "- Examine the data.\n",
    "- Import the data.\n",
    "- Split the data."
   ]
  },
  {
   "cell_type": "markdown",
   "metadata": {},
   "source": [
    "#### The Case\n",
    "- Rol: DAnalyst in a data science team of central bank in Europe.\n",
    "- Team assignment: create a CRM which estimates the probability of default for every personal account.\n",
    "- Terms like Probability of default, Recovery rate, and Credit Risk Modeling.\n",
    "- Chore: Take the raw dataset and prepare it for the models the plan to run.\n",
    "- Details provided:\n",
    "    1. What data is stored in every column.\n",
    "    2. Set of rules on how to clean and pre-process the values in each column col.\n",
    "> The essence of the DAnalyst job and is much more demanding and sizable than it might initially sound."
   ]
  },
  {
   "cell_type": "markdown",
   "metadata": {},
   "source": [
    "#### Step by Step approach to the problem\n",
    "1. Loan data is a sample from a larger dtset that belongs to an affiliate bank based in USA. Therefore all the values are in dollars, so we need to provide their Euro equivalents.\n",
    "2. Every categorical variable must be quantified. We nee to change any text columns into numbers based on the info they contain.\n",
    "    - Issue date (fecha de emisión) on each loan: transformation is straightforward since we can split the accounts by months.\n",
    "    - For other cols, we only care if they provide positive or negative connotations. So we'll be turning them into __*dummy variables*__ that hold either zero or one.\n",
    "3. Missing Data:\n",
    "    - Furthermore when we're measuring creditworthiness we need to be extremely risk-averse and distrustful of any unavailable data.\n",
    "    - That's why the consensus in the field is that missing info suggest foul play because loan applications are self reported. To elaborate since candidates fill out their loan applications manually, there is an incentive to withhold info which can lower their chances of getting a loan.\n",
    "    - Of course we prefer to give out loans to applicants who can repay them. So __*if the information isn´t available, we'll just assume the worst*__.\n",
    "    - What is worst varies from one column to the next, so the team has provided us with casting directions for each variable in the dtset.\n",
    "    - Therefore as we go through the dtset we'll usually know whether we want to use the minimum, maximum, or some other value when taking care of missing data\n",
    "\n",
    "> Loan info is store in a .csv file called loan-data.csv"
   ]
  },
  {
   "cell_type": "markdown",
   "metadata": {},
   "source": [
    "### 2. Setting Up: Importing the Data Set"
   ]
  },
  {
   "cell_type": "code",
   "execution_count": 3,
   "metadata": {},
   "outputs": [
    {
     "data": {
      "text/plain": [
       "array([[48010226.  ,         nan,    35000.  , ...,         nan,         nan,     9452.96],\n",
       "       [57693261.  ,         nan,    30000.  , ...,         nan,         nan,     4679.7 ],\n",
       "       [59432726.  ,         nan,    15000.  , ...,         nan,         nan,     1969.83],\n",
       "       ...,\n",
       "       [50415990.  ,         nan,    10000.  , ...,         nan,         nan,     2185.64],\n",
       "       [46154151.  ,         nan,         nan, ...,         nan,         nan,     3199.4 ],\n",
       "       [66055249.  ,         nan,    10000.  , ...,         nan,         nan,      301.9 ]])"
      ]
     },
     "metadata": {},
     "output_type": "display_data"
    },
    {
     "data": {
      "text/plain": [
       "' raw_data_np: | shape: (10000, 14) | ndim: 2 | size: 140000 | dtype: float64 '"
      ]
     },
     "metadata": {},
     "output_type": "display_data"
    }
   ],
   "source": [
    "raw_data_np = np.genfromtxt('9_loan-data.csv',\n",
    "                            delimiter=';',\n",
    "                            skip_header=1,\n",
    "                            autostrip=True)\n",
    "display(raw_data_np)\n",
    "display(show_attr('raw_data_np'))\n",
    "\n",
    "# The entire 1st row is NAN so the skip_header=1"
   ]
  },
  {
   "cell_type": "markdown",
   "metadata": {},
   "source": [
    "### 3. Setting Up: Checking for Incomplete Data"
   ]
  },
  {
   "cell_type": "code",
   "execution_count": 4,
   "metadata": {},
   "outputs": [
    {
     "name": "stdout",
     "output_type": "stream",
     "text": [
      "Number of NANs:  88005\n",
      "Original Maximum:  68616519.0\n"
     ]
    },
    {
     "data": {
      "text/plain": [
       "68616520.0"
      ]
     },
     "metadata": {},
     "output_type": "display_data"
    },
    {
     "name": "stderr",
     "output_type": "stream",
     "text": [
      "C:\\Users\\jm\\AppData\\Local\\Temp\\ipykernel_20540\\1101693491.py:6: RuntimeWarning: Mean of empty slice\n",
      "  display(orig_means := np.nanmean(raw_data_np, axis=0))\n"
     ]
    },
    {
     "data": {
      "text/plain": [
       "array([54015809.19,         nan,    15273.46,         nan,    15311.04,         nan,       16.62,\n",
       "            440.92,         nan,         nan,         nan,         nan,         nan,     3143.85])"
      ]
     },
     "metadata": {},
     "output_type": "display_data"
    },
    {
     "name": "stderr",
     "output_type": "stream",
     "text": [
      "C:\\Users\\jm\\AppData\\Local\\Temp\\ipykernel_20540\\1101693491.py:8: RuntimeWarning: All-NaN slice encountered\n",
      "  orig_stats = np.array([np.nanmin(raw_data_np, axis=0),\n",
      "C:\\Users\\jm\\AppData\\Local\\Temp\\ipykernel_20540\\1101693491.py:10: RuntimeWarning: All-NaN slice encountered\n",
      "  np.nanmax(raw_data_np, axis=0)])\n"
     ]
    },
    {
     "data": {
      "text/plain": [
       "array([[  373332.  ,         nan,     1000.  ,         nan,     1000.  ,         nan,        6.  ,\n",
       "              31.42,         nan,         nan,         nan,         nan,         nan,        0.  ],\n",
       "       [54015809.19,         nan,    15273.46,         nan,    15311.04,         nan,       16.62,\n",
       "             440.92,         nan,         nan,         nan,         nan,         nan,     3143.85],\n",
       "       [68616519.  ,         nan,    35000.  ,         nan,    35000.  ,         nan,       28.99,\n",
       "            1372.97,         nan,         nan,         nan,         nan,         nan,    41913.62]])"
      ]
     },
     "metadata": {},
     "output_type": "display_data"
    }
   ],
   "source": [
    "print('Number of NANs: ', np.isnan(raw_data_np).sum())\n",
    "\n",
    "# Calc tmp_fill and orig_mean for e/col, then orig_stats e/col\n",
    "print('Original Maximum: ', np.nanmax(raw_data_np))\n",
    "display(tmp_fill := np.nanmax(raw_data_np) + 1)\n",
    "display(orig_means := np.nanmean(raw_data_np, axis=0))\n",
    "\n",
    "orig_stats = np.array([np.nanmin(raw_data_np, axis=0),\n",
    "                       orig_means,\n",
    "                       np.nanmax(raw_data_np, axis=0)])\n",
    "display(orig_stats)\n",
    "\n",
    "# orig_means =>  can see 8 cols full of NAN (warnings) "
   ]
  },
  {
   "cell_type": "markdown",
   "metadata": {},
   "source": [
    "### 4. Setting Up: Splitting the Dataset"
   ]
  },
  {
   "cell_type": "code",
   "execution_count": 5,
   "metadata": {},
   "outputs": [
    {
     "data": {
      "text/plain": [
       "array([ 1,  3,  5,  8,  9, 10, 11, 12], dtype=int64)"
      ]
     },
     "metadata": {},
     "output_type": "display_data"
    },
    {
     "data": {
      "text/plain": [
       "array([ 0,  2,  4,  6,  7, 13], dtype=int64)"
      ]
     },
     "metadata": {},
     "output_type": "display_data"
    },
    {
     "data": {
      "text/plain": [
       "True"
      ]
     },
     "execution_count": 5,
     "metadata": {},
     "output_type": "execute_result"
    }
   ],
   "source": [
    "# Get the cols_str(ixs), and the cols_num(ixs)\n",
    "cols_str = np.argwhere(np.isnan(orig_means)).squeeze()\n",
    "display(cols_str)\n",
    "\n",
    "# cols_num = np.argwhere(~np.isnan(orig_means)).squeeze()\n",
    "cols_num = np.argwhere(np.isnan(orig_means) == False).squeeze()\n",
    "display(cols_num)\n",
    "\n",
    "# Check: num_cols_str + num_cols_num = raw_data.shape[1]\n",
    "len(cols_str) + len(cols_num) == raw_data_np.shape[1]"
   ]
  },
  {
   "cell_type": "code",
   "execution_count": 6,
   "metadata": {},
   "outputs": [
    {
     "data": {
      "text/plain": [
       "array([['May-15', 'Current', '36 months', ..., 'Verified',\n",
       "        'https://www.lendingclub.com/browse/loanDetail.action?loan_id=48010226', 'CA'],\n",
       "       ['', 'Current', '36 months', ..., 'Source Verified',\n",
       "        'https://www.lendingclub.com/browse/loanDetail.action?loan_id=57693261', 'NY'],\n",
       "       ['Sep-15', 'Current', '36 months', ..., 'Verified',\n",
       "        'https://www.lendingclub.com/browse/loanDetail.action?loan_id=59432726', 'PA'],\n",
       "       ...,\n",
       "       ['Jun-15', 'Current', '36 months', ..., 'Source Verified',\n",
       "        'https://www.lendingclub.com/browse/loanDetail.action?loan_id=50415990', 'CA'],\n",
       "       ['Apr-15', 'Current', '36 months', ..., 'Source Verified',\n",
       "        'https://www.lendingclub.com/browse/loanDetail.action?loan_id=46154151', 'OH'],\n",
       "       ['Dec-15', 'Current', '36 months', ..., '',\n",
       "        'https://www.lendingclub.com/browse/loanDetail.action?loan_id=66055249', 'IL']],\n",
       "      dtype='<U69')"
      ]
     },
     "metadata": {},
     "output_type": "display_data"
    },
    {
     "data": {
      "text/plain": [
       "' data_str: | shape: (10000, 8) | ndim: 2 | size: 80000 | dtype: <U69 '"
      ]
     },
     "execution_count": 6,
     "metadata": {},
     "output_type": "execute_result"
    }
   ],
   "source": [
    "# Reload strings cols to build the str sub-array (now data)\n",
    "data_str = np.genfromtxt('9_loan-data.csv',\n",
    "                         delimiter=';',\n",
    "                         dtype=str,\n",
    "                         usecols=cols_str,\n",
    "                         skip_header=1,\n",
    "                         autostrip=True)\n",
    "display(data_str)\n",
    "show_attr('data_str')"
   ]
  },
  {
   "cell_type": "code",
   "execution_count": 7,
   "metadata": {},
   "outputs": [
    {
     "data": {
      "text/plain": [
       "array([[48010226.  ,    35000.  ,    35000.  ,       13.33,     1184.86,     9452.96],\n",
       "       [57693261.  ,    30000.  ,    30000.  , 68616520.  ,      938.57,     4679.7 ],\n",
       "       [59432726.  ,    15000.  ,    15000.  , 68616520.  ,      494.86,     1969.83],\n",
       "       ...,\n",
       "       [50415990.  ,    10000.  ,    10000.  , 68616520.  , 68616520.  ,     2185.64],\n",
       "       [46154151.  , 68616520.  ,    10000.  ,       16.55,      354.3 ,     3199.4 ],\n",
       "       [66055249.  ,    10000.  ,    10000.  , 68616520.  ,      309.97,      301.9 ]])"
      ]
     },
     "metadata": {},
     "output_type": "display_data"
    },
    {
     "data": {
      "text/plain": [
       "' data_num: | shape: (10000, 6) | ndim: 2 | size: 60000 | dtype: float64 '"
      ]
     },
     "metadata": {},
     "output_type": "display_data"
    },
    {
     "name": "stdout",
     "output_type": "stream",
     "text": [
      "Num of NANs: 0\n"
     ]
    }
   ],
   "source": [
    "# Reload numeric cols to build the num sub-array (now data)\n",
    "# ALSO fill NANs w/temp_fill\n",
    "data_num = np.genfromtxt('9_loan-data.csv',\n",
    "                         delimiter=';',\n",
    "                         usecols=cols_num,\n",
    "                         skip_header=1,\n",
    "                         autostrip=True,\n",
    "                         filling_values=tmp_fill)\n",
    "display(data_num)\n",
    "display(show_attr('data_num'))\n",
    "print(\"Num of NANs:\", np.isnan(data_num).sum())"
   ]
  },
  {
   "cell_type": "code",
   "execution_count": 8,
   "metadata": {},
   "outputs": [
    {
     "data": {
      "text/plain": [
       "array(['issue_d', 'loan_status', 'term', 'grade', 'sub_grade', 'verification_status', 'url',\n",
       "       'addr_state'], dtype='<U19')"
      ]
     },
     "metadata": {},
     "output_type": "display_data"
    },
    {
     "data": {
      "text/plain": [
       "' header_str: | shape: (8,) | ndim: 1 | size: 8 | dtype: <U19 '"
      ]
     },
     "execution_count": 8,
     "metadata": {},
     "output_type": "execute_result"
    }
   ],
   "source": [
    "# Load header strings cols to build the str sub-array (now header)\n",
    "header_str = np.genfromtxt('9_loan-data.csv',\n",
    "                            delimiter=';',\n",
    "                            dtype=str,\n",
    "                            usecols=cols_str,\n",
    "                            skip_footer=raw_data_np.shape[0],\n",
    "                            autostrip=True)\n",
    "display(header_str)\n",
    "show_attr('header_str')"
   ]
  },
  {
   "cell_type": "code",
   "execution_count": 9,
   "metadata": {},
   "outputs": [
    {
     "data": {
      "text/plain": [
       "array(['id', 'loan_amnt', 'funded_amnt', 'int_rate', 'installment', 'total_pymnt'], dtype='<U11')"
      ]
     },
     "metadata": {},
     "output_type": "display_data"
    },
    {
     "data": {
      "text/plain": [
       "' header_num: | shape: (6,) | ndim: 1 | size: 6 | dtype: <U11 '"
      ]
     },
     "execution_count": 9,
     "metadata": {},
     "output_type": "execute_result"
    }
   ],
   "source": [
    "# Load header numeric cols to build the num sub-array (now header)\n",
    "header_num = np.genfromtxt('9_loan-data.csv',\n",
    "                            delimiter=';',\n",
    "                            dtype=str,\n",
    "                            usecols=cols_num,\n",
    "                            skip_footer=raw_data_np.shape[0],\n",
    "                            autostrip=True)\n",
    "display(header_num)\n",
    "show_attr('header_num')"
   ]
  },
  {
   "cell_type": "markdown",
   "metadata": {},
   "source": [
    "### 5. Setting Up: Creating Checkpoints"
   ]
  },
  {
   "cell_type": "code",
   "execution_count": 10,
   "metadata": {},
   "outputs": [],
   "source": [
    "# Function chkpt (checkpoint)\n",
    "\n",
    "def chkpt(filenm: str, chk_header: np.ndarray,\n",
    "          chk_data: np.ndarray) -> np.lib.npyio.NpzFile:\n",
    "    np.savez(filenm, header=chk_header, data=chk_data)\n",
    "    chkpt_var = np.load(f'{filenm}.npz')\n",
    "    return chkpt_var"
   ]
  },
  {
   "cell_type": "code",
   "execution_count": 11,
   "metadata": {},
   "outputs": [
    {
     "data": {
      "text/plain": [
       "['header', 'data']"
      ]
     },
     "metadata": {},
     "output_type": "display_data"
    },
    {
     "data": {
      "text/plain": [
       "True"
      ]
     },
     "execution_count": 11,
     "metadata": {},
     "output_type": "execute_result"
    }
   ],
   "source": [
    "chkpt_tst = chkpt('chkpt-tst', header_num, data_num)\n",
    "display(chkpt_tst.files)\n",
    "np.array_equal(chkpt_tst['data'], data_num)"
   ]
  },
  {
   "cell_type": "markdown",
   "metadata": {},
   "source": [
    "### 6. Manipulating Text Data: Issue Date"
   ]
  },
  {
   "cell_type": "markdown",
   "metadata": {},
   "source": [
    "- Chg header of col issue_d to issue_date (more descriptive)\n",
    "- Eliminate -15 (all 2015) and change month str by num (1-12) [0-for '']"
   ]
  },
  {
   "cell_type": "code",
   "execution_count": 12,
   "metadata": {},
   "outputs": [
    {
     "data": {
      "text/plain": [
       "array(['issue_d', 'loan_status', 'term', 'grade', 'sub_grade', 'verification_status', 'url',\n",
       "       'addr_state'], dtype='<U19')"
      ]
     },
     "metadata": {},
     "output_type": "display_data"
    },
    {
     "data": {
      "text/plain": [
       "array([[0]], dtype=int64)"
      ]
     },
     "metadata": {},
     "output_type": "display_data"
    },
    {
     "data": {
      "text/plain": [
       "\"header_str[0] = 'issue_date'\""
      ]
     },
     "metadata": {},
     "output_type": "display_data"
    },
    {
     "data": {
      "text/plain": [
       "array(['issue_date', 'loan_status', 'term', 'grade', 'sub_grade', 'verification_status', 'url',\n",
       "       'addr_state'], dtype='<U19')"
      ]
     },
     "metadata": {},
     "output_type": "display_data"
    }
   ],
   "source": [
    "# Chg header of col issue_d to issue_date (more descriptive)\n",
    "display(header_str)\n",
    "display(np.argwhere(header_str == 'issue_d'))\n",
    "header_str[0] = 'issue_date'\n",
    "display(f'{header_str[0] = }')\n",
    "display(header_str)\n"
   ]
  },
  {
   "cell_type": "code",
   "execution_count": 13,
   "metadata": {},
   "outputs": [
    {
     "data": {
      "text/plain": [
       "array(['', 'Apr-15', 'Aug-15', 'Dec-15', 'Feb-15', 'Jan-15', 'Jul-15', 'Jun-15', 'Mar-15',\n",
       "       'May-15', 'Nov-15', 'Oct-15', 'Sep-15'], dtype='<U69')"
      ]
     },
     "metadata": {},
     "output_type": "display_data"
    },
    {
     "data": {
      "text/plain": [
       "array([ 500,  757,  846,  997,  530,  770, 1061,  654,  559,  741,  847, 1095,  643], dtype=int64)"
      ]
     },
     "metadata": {},
     "output_type": "display_data"
    },
    {
     "data": {
      "text/plain": [
       "(array(['', 'Feb-15', 'Mar-15', 'Sep-15', 'Jun-15', 'May-15', 'Apr-15', 'Jan-15', 'Aug-15',\n",
       "        'Nov-15', 'Dec-15', 'Jul-15', 'Oct-15'], dtype='<U69'),\n",
       " array([ 500,  530,  559,  643,  654,  741,  757,  770,  846,  847,  997, 1061, 1095], dtype=int64))"
      ]
     },
     "execution_count": 13,
     "metadata": {},
     "output_type": "execute_result"
    }
   ],
   "source": [
    "# Check the column AND jm- view sort in order of counts\n",
    "id_uniq, id_ucnt = np.unique(data_str[:,0], return_counts=True)\n",
    "display(id_uniq, id_ucnt)\n",
    "id_ucnt_ixsorted = np.argsort(id_ucnt)\n",
    "id_uniq[id_ucnt_ixsorted], id_ucnt[id_ucnt_ixsorted]"
   ]
  },
  {
   "cell_type": "code",
   "execution_count": 14,
   "metadata": {},
   "outputs": [
    {
     "data": {
      "text/plain": [
       "array(['', 'Apr', 'Aug', 'Dec', 'Feb', 'Jan', 'Jul', 'Jun', 'Mar', 'May', 'Nov', 'Oct', 'Sep'],\n",
       "      dtype='<U69')"
      ]
     },
     "metadata": {},
     "output_type": "display_data"
    },
    {
     "data": {
      "text/plain": [
       "array(['0', '1', '10', '11', '12', '2', '3', '4', '5', '6', '7', '8', '9'], dtype='<U69')"
      ]
     },
     "metadata": {},
     "output_type": "display_data"
    },
    {
     "data": {
      "text/plain": [
       "array(['0', '12', '5', '9', '4', '6', '1', '2', '10', '7', '11', '3', '8'], dtype='<U69')"
      ]
     },
     "metadata": {},
     "output_type": "display_data"
    }
   ],
   "source": [
    "# Eliminate -15 \n",
    "data_str[:,0] = np.chararray.strip(data_str[:,0], '-15')\n",
    "display(np.unique(data_str[:,0]))\n",
    "\n",
    "# Replace month str by number - '' = 0\n",
    "months = np.array(['', 'Jan', 'Feb', 'Mar', 'Apr', 'May', 'Jun',\n",
    "                   'Jul', 'Aug', 'Sep', 'Oct', 'Nov','Dec'])\n",
    "\n",
    "for mth_num in range(13):\n",
    "    data_str[:,0] = np.where(data_str[:,0] == months[mth_num],\n",
    "                             mth_num,\n",
    "                             data_str[:,0])\n",
    "    \n",
    "display(np.unique(data_str[:,0]))\n",
    "display(np.unique(data_str[:,0])[id_ucnt_ixsorted])"
   ]
  },
  {
   "cell_type": "markdown",
   "metadata": {},
   "source": [
    "### 7. Manipulating Text Data: Loan Status and Term"
   ]
  },
  {
   "cell_type": "code",
   "execution_count": null,
   "metadata": {},
   "outputs": [],
   "source": []
  },
  {
   "cell_type": "markdown",
   "metadata": {},
   "source": [
    "### 8. Manipulating Text Data: Grade and Sub Grade"
   ]
  },
  {
   "cell_type": "code",
   "execution_count": null,
   "metadata": {},
   "outputs": [],
   "source": []
  },
  {
   "cell_type": "markdown",
   "metadata": {},
   "source": [
    "### 9. Manipulating Text Data: Verification Status & URL"
   ]
  },
  {
   "cell_type": "code",
   "execution_count": null,
   "metadata": {},
   "outputs": [],
   "source": []
  },
  {
   "cell_type": "markdown",
   "metadata": {},
   "source": [
    "### 10. Manipulating Text Data: State Address"
   ]
  },
  {
   "cell_type": "code",
   "execution_count": null,
   "metadata": {},
   "outputs": [],
   "source": []
  },
  {
   "cell_type": "markdown",
   "metadata": {},
   "source": [
    "### 11. Manipulating Text Data: Converting Strings and Creating a Checkpoint"
   ]
  },
  {
   "cell_type": "code",
   "execution_count": null,
   "metadata": {},
   "outputs": [],
   "source": []
  },
  {
   "cell_type": "markdown",
   "metadata": {},
   "source": [
    "### 12. Manipulating Numeric Data: Substitute Filler Values"
   ]
  },
  {
   "cell_type": "code",
   "execution_count": null,
   "metadata": {},
   "outputs": [],
   "source": []
  }
 ],
 "metadata": {
  "kernelspec": {
   "display_name": "Python 3",
   "language": "python",
   "name": "python3"
  },
  "language_info": {
   "codemirror_mode": {
    "name": "ipython",
    "version": 3
   },
   "file_extension": ".py",
   "mimetype": "text/x-python",
   "name": "python",
   "nbconvert_exporter": "python",
   "pygments_lexer": "ipython3",
   "version": "3.11.0"
  }
 },
 "nbformat": 4,
 "nbformat_minor": 2
}

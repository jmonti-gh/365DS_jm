{
 "cells": [
  {
   "cell_type": "markdown",
   "metadata": {},
   "source": [
    "# 5_A Practice Exam 2 \n",
    "### Generating Data with NumPy\n",
    "- Non-random data: empty, zeros, ones, full, arange\n",
    "- Random data: random gen, bit gen, seeds, probability distributios\n",
    "- Applications of generating pseudo-random data"
   ]
  },
  {
   "cell_type": "code",
   "execution_count": 12,
   "metadata": {},
   "outputs": [
    {
     "data": {
      "text/plain": [
       "'1.26.2'"
      ]
     },
     "execution_count": 12,
     "metadata": {},
     "output_type": "execute_result"
    }
   ],
   "source": [
    "import numpy as np\n",
    "np.__version__"
   ]
  },
  {
   "cell_type": "markdown",
   "metadata": {},
   "source": [
    "- numpy.empty(shape, dtype=float, order='C', *, device=None, like=None)\n",
    "- numpy.zeros(shape, dtype=float, order='C', *, like=None)\n",
    "- numpy.full(shape, fill_value, dtype=None, order='C', *, device=None, like=None)\n",
    "- numpy.ones_like(a, dtype=None, order='K', subok=True, shape=None, *, device=None)\n",
    "- numpy.arange([start, ]stop, [step, ]dtype=None, *, device=None, like=None)"
   ]
  },
  {
   "cell_type": "code",
   "execution_count": 41,
   "metadata": {},
   "outputs": [
    {
     "data": {
      "text/plain": [
       "array([[-1., -1., -1.],\n",
       "       [-1., -1., -1.],\n",
       "       [-1., -1., -1.]])"
      ]
     },
     "execution_count": 41,
     "metadata": {},
     "output_type": "execute_result"
    }
   ],
   "source": [
    "np.full(shape=(2,3), fill_value=2)\n",
    "-np.ones(shape=(3,3))"
   ]
  },
  {
   "cell_type": "code",
   "execution_count": 39,
   "metadata": {},
   "outputs": [
    {
     "data": {
      "text/plain": [
       "array([ 0. ,  1.5,  3. ,  4.5,  6. ,  7.5,  9. , 10.5, 12. , 13.5, 15. ,\n",
       "       16.5, 18. , 19.5, 21. , 22.5, 24. , 25.5, 27. , 28.5])"
      ]
     },
     "execution_count": 39,
     "metadata": {},
     "output_type": "execute_result"
    }
   ],
   "source": [
    "# np.arange(-3, 9, 2)\n",
    "# np.arange(25)\n",
    "# np.arange(25,2.5)\n",
    "np.arange(30,step=1.5)\n"
   ]
  },
  {
   "cell_type": "markdown",
   "metadata": {},
   "source": [
    "- from numpy.random import Generator as gen     # Generator\n",
    "- from numpy.random import PCG64 as pcg         # Bit_generator\n",
    "- class numpy.random.Generator(bit_generator)\n",
    "- array_RG = gen(pcg(seed=365))\n",
    "- array_RG.random(size=(5,10))\n",
    "- random.Generator.integers(low, high=None, size=None, dtype=np.int64, endpoint=False)\n",
    "- random.Generator.choice(a, size=None, replace=True, p=None, axis=0, shuffle=True)"
   ]
  },
  {
   "cell_type": "code",
   "execution_count": 15,
   "metadata": {},
   "outputs": [],
   "source": [
    "from numpy.random import Generator as gen \n",
    "from numpy.random import PCG64 as pcg"
   ]
  },
  {
   "cell_type": "code",
   "execution_count": 16,
   "metadata": {},
   "outputs": [
    {
     "data": {
      "text/plain": [
       "array([[0.68235186, 0.05382102, 0.22035987],\n",
       "       [0.18437181, 0.1759059 , 0.81209451]])"
      ]
     },
     "metadata": {},
     "output_type": "display_data"
    },
    {
     "data": {
      "text/plain": [
       "array([[2, 8, 2],\n",
       "       [0, 6, 6]], dtype=int64)"
      ]
     },
     "metadata": {},
     "output_type": "display_data"
    },
    {
     "data": {
      "text/plain": [
       "array([[-4, -4,  9],\n",
       "       [-4,  9, -4]])"
      ]
     },
     "metadata": {},
     "output_type": "display_data"
    }
   ],
   "source": [
    "array_RG = gen(pcg(123))\n",
    "display(array_RG.random(size=(2,3)))\n",
    "display(array_RG.integers(-3, 9, size=(2,3)))\n",
    "display(array_RG.choice([-3,9,0,5,-4], p=[0.1, 0.2, 0.1, 0, 0.6], size=(2,3)))"
   ]
  },
  {
   "cell_type": "markdown",
   "metadata": {},
   "source": [
    "- random.normal(loc=0.0, scale=1.0, size=None)\n",
    "- random.poisson(lam=1.0, size=None)\n",
    "- random.binomial(n, p, size=None)\n",
    "- random.logistic(loc=0.0, scale=1.0, size=None)\n",
    "\n",
    "- numpy.savetxt(fname, X, fmt='%.18e', delimiter=' ', newline='\\n', header='', footer='', comments='# ', encoding=None)\n",
    "\n",
    "- numpy.genfromtxt(fname, dtype=<class 'float'>, comments='#', delimiter=None, skip_header=0, skip_footer=0, converters=None, missing_values=None, filling_values=None, usecols=None, names=None, excludelist=None, deletechars=\" !#$%&'()*+, -./:;<=>?@[\\\\]^{|}~\", replace_space='_', autostrip=False, case_sensitive=True, defaultfmt='f%i', unpack=None, usemask=False, loose=True, invalid_raise=True, max_rows=None, encoding=None, *, ndmin=0, like=None)"
   ]
  },
  {
   "cell_type": "code",
   "execution_count": 17,
   "metadata": {},
   "outputs": [
    {
     "data": {
      "text/plain": [
       "array([[21, 26, 17],\n",
       "       [23, 20, 17]], dtype=int64)"
      ]
     },
     "execution_count": 17,
     "metadata": {},
     "output_type": "execute_result"
    }
   ],
   "source": [
    "array_RG.binomial(100, 0.2, size=(2,3))"
   ]
  },
  {
   "cell_type": "code",
   "execution_count": 18,
   "metadata": {},
   "outputs": [
    {
     "data": {
      "text/plain": [
       "array([[7.06207291, 8.98938698, 9.40076211],\n",
       "       [7.21532507, 3.96992601, 8.86128524]])"
      ]
     },
     "execution_count": 18,
     "metadata": {},
     "output_type": "execute_result"
    }
   ],
   "source": [
    "array_RG.logistic(9, 1.2, size=(2,3))"
   ]
  },
  {
   "cell_type": "code",
   "execution_count": 29,
   "metadata": {},
   "outputs": [
    {
     "data": {
      "text/plain": [
       "35.04153699695336"
      ]
     },
     "execution_count": 29,
     "metadata": {},
     "output_type": "execute_result"
    }
   ],
   "source": [
    "array_RG = gen(pcg(seed=365))\n",
    "c1 = array_RG.normal(loc=3, scale=2, size=500)\n",
    "c2 = array_RG.exponential(scale=5, size=500)\n",
    "c3 = array_RG.logistic(loc=10, scale=4, size=500)\n",
    "\n",
    "A = np.array([c1, c2, c3]).transpose()\n",
    "\n",
    "A.max()"
   ]
  },
  {
   "cell_type": "code",
   "execution_count": 26,
   "metadata": {},
   "outputs": [
    {
     "data": {
      "text/plain": [
       "4.755472718060206"
      ]
     },
     "execution_count": 26,
     "metadata": {},
     "output_type": "execute_result"
    }
   ],
   "source": [
    "array_RG.exponential(scale=5, size=500)"
   ]
  },
  {
   "cell_type": "code",
   "execution_count": 38,
   "metadata": {},
   "outputs": [
    {
     "data": {
      "text/plain": [
       "25.666666666666668"
      ]
     },
     "execution_count": 38,
     "metadata": {},
     "output_type": "execute_result"
    }
   ],
   "source": [
    "array_RG = gen(pcg(seed=60))\n",
    "B =array_RG.binomial(n=80, p=0.3, size=(3,3))\n",
    "B.mean()"
   ]
  },
  {
   "cell_type": "code",
   "execution_count": 40,
   "metadata": {},
   "outputs": [
    {
     "data": {
      "text/plain": [
       "25.666666666666668"
      ]
     },
     "execution_count": 40,
     "metadata": {},
     "output_type": "execute_result"
    }
   ],
   "source": [
    "array_RG = gen(pcg(seed=60))\n",
    "np.mean(array_RG.binomial(n=80, p=0.3, size=(3,3)))"
   ]
  }
 ],
 "metadata": {
  "kernelspec": {
   "display_name": "Python 3",
   "language": "python",
   "name": "python3"
  },
  "language_info": {
   "codemirror_mode": {
    "name": "ipython",
    "version": 3
   },
   "file_extension": ".py",
   "mimetype": "text/x-python",
   "name": "python",
   "nbconvert_exporter": "python",
   "pygments_lexer": "ipython3",
   "version": "3.11.4"
  }
 },
 "nbformat": 4,
 "nbformat_minor": 2
}

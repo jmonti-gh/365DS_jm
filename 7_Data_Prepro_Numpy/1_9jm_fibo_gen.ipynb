{
 "cells": [
  {
   "cell_type": "markdown",
   "metadata": {},
   "source": [
    "# 1_9jm Fibonnaci and other Series Generator\n",
    "- to get especial numeric series vectors\n",
    "- https://realpython.com/python-list/"
   ]
  },
  {
   "cell_type": "code",
   "execution_count": 25,
   "metadata": {},
   "outputs": [
    {
     "data": {
      "text/plain": [
       "'2.1.1'"
      ]
     },
     "execution_count": 25,
     "metadata": {},
     "output_type": "execute_result"
    }
   ],
   "source": [
    "import numpy as np\n",
    "np.__version__"
   ]
  },
  {
   "cell_type": "code",
   "execution_count": 40,
   "metadata": {},
   "outputs": [
    {
     "name": "stdout",
     "output_type": "stream",
     "text": [
      "[0]\n",
      "[0]\n",
      "[0, 1, 1, 2, 3]\n",
      "[0, 1, 1, 2, 3]\n",
      "[0, 1, 1, 2, 3, 5, 8, 13]\n",
      "[0, 1, 1, 2, 3, 5, 8, 13]\n",
      "[0, 1, 1, 2, 3, 5, 8, 13, 21, 34]\n",
      "[0, 1, 1, 2, 3, 5, 8, 13, 21, 34]\n",
      "[0, 1, 1, 2, 3, 5, 8, 13, 21, 34, 55, 89, 144, 233]\n",
      "[0, 1, 1, 2, 3, 5, 8, 13, 21, 34, 55, 89, 144, 233]\n"
     ]
    }
   ],
   "source": [
    "# Fibonacci\n",
    "\n",
    "def fibo_gen(num_elements: int) -> GeneratorExit:\n",
    "    if not isinstance(num_elements, int) or num_elements < 1:\n",
    "        return f'ERROR! --> fibo_func accept only an integer > 0 as parameter'\n",
    "    \n",
    "    a, b = 0, 1\n",
    "    for _ in range(num_elements):\n",
    "        fib_num = a\n",
    "        a, b = b, b + a\n",
    "        yield(fib_num)\n",
    "\n",
    "\n",
    "def fibo_func(num_elements: int) -> list:\n",
    "    if not isinstance(num_elements, int) or num_elements < 1:\n",
    "        return f'ERROR! --> fibo_func accept only an integer > 0 as parameter'\n",
    "    \n",
    "    a, b = 0, 1\n",
    "    result = [a]\n",
    "    for _ in range(num_elements - 1):\n",
    "        result.append(b)\n",
    "        a, b = b, b + a\n",
    "    return result\n",
    "\n",
    "for i in (1, 5, 8, 10, 14):\n",
    "    print(fibo_func(i))\n",
    "    print(list(fibo_gen(i)))"
   ]
  },
  {
   "cell_type": "code",
   "execution_count": 27,
   "metadata": {},
   "outputs": [],
   "source": [
    "# General Functions\n",
    "\n",
    "def isndarray(el):\n",
    "        errmsg = f'- Warning --> {el} is not np.ndarray. It is {type(el)}\\n'\n",
    "        if not isinstance(el, np.ndarray):\n",
    "                print(errmsg)\n",
    "                return False\n",
    "        return True\n",
    "\n",
    "\n",
    "def show_array(*objs: str) -> None:\n",
    "    ''' Display numpy.ndarrays objects and some of its more important attributes\n",
    "\n",
    "    All arguments must be strings.\n",
    "    can pass a variable number of non-keyworded arguments.\n",
    "    Return None, only print info -> FUTURE make an string with all the info as return\n",
    "    '''\n",
    "    for obj in objs:\n",
    "        if not isinstance(obj, str):\n",
    "            print(f'ERROR! --> ArgumentS of show_array() function must be strings')\n",
    "            print(f'\"{obj}\" is not an String')\n",
    "            continue\n",
    "\n",
    "        try:\n",
    "            robj = eval(obj)\n",
    "        except NameError:\n",
    "            robj = obj\n",
    "        if not isndarray(robj):\n",
    "                continue\n",
    "\n",
    "        print(f'{obj} -> {type(robj)}:\\n{\"-\" * 80}')\n",
    "        display(robj)\n",
    "        print(robj)\n",
    "        for attr in ('shape', 'ndim', 'size'):  #, 'dtype'):  #, 'itemsize'):\n",
    "            obj_attr = obj + '.' + attr\n",
    "            print(f'{obj_attr} = {eval(obj_attr)}  |  ',end=\"\")\n",
    "        print('\\n')     "
   ]
  },
  {
   "cell_type": "code",
   "execution_count": null,
   "metadata": {},
   "outputs": [],
   "source": []
  },
  {
   "cell_type": "code",
   "execution_count": null,
   "metadata": {},
   "outputs": [],
   "source": []
  }
 ],
 "metadata": {
  "kernelspec": {
   "display_name": "Python 3",
   "language": "python",
   "name": "python3"
  },
  "language_info": {
   "codemirror_mode": {
    "name": "ipython",
    "version": 3
   },
   "file_extension": ".py",
   "mimetype": "text/x-python",
   "name": "python",
   "nbconvert_exporter": "python",
   "pygments_lexer": "ipython3",
   "version": "3.11.0"
  }
 },
 "nbformat": 4,
 "nbformat_minor": 2
}

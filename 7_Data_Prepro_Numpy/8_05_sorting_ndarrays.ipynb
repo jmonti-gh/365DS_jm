{
 "cells": [
  {
   "cell_type": "markdown",
   "metadata": {},
   "source": [
    "# 8 Data Manipulation with NumPy\n",
    "- Examine how to clean and preprocess data using NumPy.\n",
    "- Hoy to discover missing values (and fill them up).\n",
    "- Ways to remove irrelevant data.\n",
    "- sort(), shuffle(), reshape(), stack(), strip()\n",
    "## 8_05 Sorting NDarrays"
   ]
  },
  {
   "cell_type": "markdown",
   "metadata": {},
   "source": [
    "#### numpy.sort(a, axis=-1, kind=None, order=None, *, stable=None)\n",
    "- Return a sorted copy of an array.\n",
    "- https://stackoverflow.com/questions/26984414/efficiently-sorting-a-numpy-array-in-descending-order\n",
    "- numpy.flip(m, axis=None): Reverse the order of elements in an array along the given axis. The shape of the array is preserved, but the elements are reordered."
   ]
  },
  {
   "cell_type": "code",
   "execution_count": 13,
   "metadata": {},
   "outputs": [
    {
     "data": {
      "text/plain": [
       "'1.26.4'"
      ]
     },
     "execution_count": 13,
     "metadata": {},
     "output_type": "execute_result"
    }
   ],
   "source": [
    "import numpy as np\n",
    "np.__version__"
   ]
  },
  {
   "cell_type": "code",
   "execution_count": 14,
   "metadata": {},
   "outputs": [],
   "source": [
    "# Function show_attr\n",
    "\n",
    "def show_attr(arrnm: str) -> str:\n",
    "    strout = f' {arrnm}: '\n",
    "\n",
    "    for attr in ('shape', 'ndim', 'size', 'dtype'):     #, 'itemsize'):\n",
    "            arrnm_attr = arrnm + '.' + attr\n",
    "            strout += f'| {attr}: {eval(arrnm_attr)} '\n",
    "\n",
    "    return strout"
   ]
  },
  {
   "cell_type": "code",
   "execution_count": 15,
   "metadata": {},
   "outputs": [
    {
     "data": {
      "text/plain": [
       "' lend_co_data_num: | shape: (1043, 6) | ndim: 2 | size: 6258 | dtype: float64 '"
      ]
     },
     "metadata": {},
     "output_type": "display_data"
    },
    {
     "data": {
      "text/plain": [
       "array([[ 2000.,    40.,   365.,  3121.,  4241., 13621.],\n",
       "       [ 2000.,    40.,   365.,  3061.,  4171., 15041.],\n",
       "       [ 1000.,    40.,   365.,  2160.,  3280., 15340.],\n",
       "       ...,\n",
       "       [ 2000.,    40.,   365.,  4201.,  5001., 16600.],\n",
       "       [ 1000.,    40.,   365.,  2080.,  3320., 15600.],\n",
       "       [ 2000.,    40.,   365.,  4601.,  4601., 16600.]])"
      ]
     },
     "execution_count": 15,
     "metadata": {},
     "output_type": "execute_result"
    }
   ],
   "source": [
    "# Let's work with a dataset that contains NANs.\n",
    "\n",
    "lend_co_data_num = np.loadtxt('Lending-Company-Numeric-Data.csv',\n",
    "                              delimiter=',')\n",
    "\n",
    "display(show_attr('lend_co_data_num'))\n",
    "lend_co_data_num"
   ]
  },
  {
   "cell_type": "code",
   "execution_count": 16,
   "metadata": {},
   "outputs": [
    {
     "data": {
      "text/plain": [
       "array([[   40.,   365.,  2000.,  3121.,  4241., 13621.],\n",
       "       [   40.,   365.,  2000.,  3061.,  4171., 15041.],\n",
       "       [   40.,   365.,  1000.,  2160.,  3280., 15340.],\n",
       "       ...,\n",
       "       [   40.,   365.,  2000.,  4201.,  5001., 16600.],\n",
       "       [   40.,   365.,  1000.,  2080.,  3320., 15600.],\n",
       "       [   40.,   365.,  2000.,  4601.,  4601., 16600.]])"
      ]
     },
     "metadata": {},
     "output_type": "display_data"
    },
    {
     "data": {
      "text/plain": [
       "array([[   40.,   365.,  2000.,  3121.,  4241., 13621.],\n",
       "       [   40.,   365.,  2000.,  3061.,  4171., 15041.],\n",
       "       [   40.,   365.,  1000.,  2160.,  3280., 15340.],\n",
       "       ...,\n",
       "       [   40.,   365.,  2000.,  4201.,  5001., 16600.],\n",
       "       [   40.,   365.,  1000.,  2080.,  3320., 15600.],\n",
       "       [   40.,   365.,  2000.,  4601.,  4601., 16600.]])"
      ]
     },
     "metadata": {},
     "output_type": "display_data"
    },
    {
     "data": {
      "text/plain": [
       "array([[   40.,   365.,  2000.,  3121.,  4241., 13621.],\n",
       "       [   40.,   365.,  2000.,  3061.,  4171., 15041.],\n",
       "       [   40.,   365.,  1000.,  2160.,  3280., 15340.],\n",
       "       ...,\n",
       "       [   40.,   365.,  2000.,  4201.,  5001., 16600.],\n",
       "       [   40.,   365.,  1000.,  2080.,  3320., 15600.],\n",
       "       [   40.,   365.,  2000.,  4601.,  4601., 16600.]])"
      ]
     },
     "metadata": {},
     "output_type": "display_data"
    },
    {
     "data": {
      "text/plain": [
       "' np.sort(lend_co_data_num): | shape: (1043, 6) | ndim: 2 | size: 6258 | dtype: float64 '"
      ]
     },
     "execution_count": 16,
     "metadata": {},
     "output_type": "execute_result"
    }
   ],
   "source": [
    "# Let's sort. Cause default axis= -1 (last axis) will sort values in each row\n",
    "# 2D array only two axis (0,1) -> axis 0 = axis -2; axis=1, last, column axis\n",
    "display(np.sort(lend_co_data_num))          # Arranging the diff cols in e/row\n",
    "display(np.sort(lend_co_data_num, axis=1))  # same as axis=-1, default\n",
    "display(np.sort(lend_co_data_num, axis=-1))\n",
    "show_attr('np.sort(lend_co_data_num)')"
   ]
  },
  {
   "cell_type": "code",
   "execution_count": 17,
   "metadata": {},
   "outputs": [
    {
     "data": {
      "text/plain": [
       "array([[ 1000.,    35.,   365., -2870., -2870.,  -350.],\n",
       "       [ 1000.,    35.,   365., -2550., -2100.,   150.],\n",
       "       [ 1000.,    35.,   365., -2450., -2000.,  1100.],\n",
       "       ...,\n",
       "       [ 9000.,   125.,   365., 16751., 18751., 54625.],\n",
       "       [ 9000.,   165.,   365., 17650., 20001., 54625.],\n",
       "       [ 9000.,   165.,   365., 19001., 22001., 64001.]])"
      ]
     },
     "metadata": {},
     "output_type": "display_data"
    },
    {
     "data": {
      "text/plain": [
       "' cols_sorted: | shape: (1043, 6) | ndim: 2 | size: 6258 | dtype: float64 '"
      ]
     },
     "execution_count": 17,
     "metadata": {},
     "output_type": "execute_result"
    }
   ],
   "source": [
    "# Sort the values in each column, and to refrain using scientific notation\n",
    "np.set_printoptions(suppress=True)          # Apply to the ENTIRE work\n",
    "display(cols_sorted := np.sort(lend_co_data_num, axis=0))\n",
    "show_attr('cols_sorted')\n",
    "## All separate columns arranged in increasing order."
   ]
  },
  {
   "cell_type": "code",
   "execution_count": 18,
   "metadata": {},
   "outputs": [
    {
     "data": {
      "text/plain": [
       "array([[-13621.,  -4241.,  -3121.,  -2000.,   -365.,    -40.],\n",
       "       [-15041.,  -4171.,  -3061.,  -2000.,   -365.,    -40.],\n",
       "       [-15340.,  -3280.,  -2160.,  -1000.,   -365.,    -40.],\n",
       "       ...,\n",
       "       [-16600.,  -5001.,  -4201.,  -2000.,   -365.,    -40.],\n",
       "       [-15600.,  -3320.,  -2080.,  -1000.,   -365.,    -40.],\n",
       "       [-16600.,  -4601.,  -4601.,  -2000.,   -365.,    -40.]])"
      ]
     },
     "metadata": {},
     "output_type": "display_data"
    },
    {
     "data": {
      "text/plain": [
       "array([[13621.,  4241.,  3121.,  2000.,   365.,    40.],\n",
       "       [15041.,  4171.,  3061.,  2000.,   365.,    40.],\n",
       "       [15340.,  3280.,  2160.,  1000.,   365.,    40.],\n",
       "       ...,\n",
       "       [16600.,  5001.,  4201.,  2000.,   365.,    40.],\n",
       "       [15600.,  3320.,  2080.,  1000.,   365.,    40.],\n",
       "       [16600.,  4601.,  4601.,  2000.,   365.,    40.]])"
      ]
     },
     "execution_count": 18,
     "metadata": {},
     "output_type": "execute_result"
    }
   ],
   "source": [
    "# Soting in reverse order use negative operator (np.sort don't have the parameter)\n",
    "display(np.sort(-lend_co_data_num)) # same as (-1) * data (convert all to negatine)\n",
    "-np.sort(-lend_co_data_num)         # another neg to restore the orig values"
   ]
  },
  {
   "cell_type": "code",
   "execution_count": 19,
   "metadata": {},
   "outputs": [
    {
     "data": {
      "text/plain": [
       "array([3121., 3061., 2160., ..., 4201., 2080., 4601.])"
      ]
     },
     "metadata": {},
     "output_type": "display_data"
    },
    {
     "data": {
      "text/plain": [
       "array([[ 2000.,    40.,   365.,  3121.,  4241., 13621.],\n",
       "       [ 2000.,    40.,   365.,  3061.,  4171., 15041.],\n",
       "       [ 1000.,    40.,   365.,  2160.,  3280., 15340.],\n",
       "       ...,\n",
       "       [ 2000.,    40.,   365.,  4201.,  5001., 16600.],\n",
       "       [ 1000.,    40.,   365.,  2080.,  3320., 15600.],\n",
       "       [ 2000.,    40.,   365.,  4601.,  4601., 16600.]])"
      ]
     },
     "metadata": {},
     "output_type": "display_data"
    },
    {
     "data": {
      "text/plain": [
       "array([-2870., -2550., -2450., ..., 16751., 17650., 19001.])"
      ]
     },
     "execution_count": 19,
     "metadata": {},
     "output_type": "execute_result"
    }
   ],
   "source": [
    "# Sorting individual columns or rows -> Using indexing\n",
    "# Sort only 4th column (col[3])\n",
    "display(orig_c3 := lend_co_data_num[:,3])   # to restore later\n",
    "display(lend_co_data_num)                   # to see original data\n",
    "np.sort(lend_co_data_num[:,3])      # return only one col, col[3] sorted"
   ]
  },
  {
   "cell_type": "code",
   "execution_count": 20,
   "metadata": {},
   "outputs": [
    {
     "data": {
      "text/plain": [
       "array([3121., 3061., 2160., ..., 4201., 2080., 4601.])"
      ]
     },
     "metadata": {},
     "output_type": "display_data"
    },
    {
     "data": {
      "text/plain": [
       "array([[ 2000.,    40.,   365., -2870.,  4241., 13621.],\n",
       "       [ 2000.,    40.,   365., -2550.,  4171., 15041.],\n",
       "       [ 1000.,    40.,   365., -2450.,  3280., 15340.],\n",
       "       ...,\n",
       "       [ 2000.,    40.,   365., 16751.,  5001., 16600.],\n",
       "       [ 1000.,    40.,   365., 17650.,  3320., 15600.],\n",
       "       [ 2000.,    40.,   365., 19001.,  4601., 16600.]])"
      ]
     },
     "execution_count": 20,
     "metadata": {},
     "output_type": "execute_result"
    }
   ],
   "source": [
    "# but to change the actual col[3] in the 2D array, two ways\n",
    "orig_c3 = np.copy(lend_co_data_num[:,3])      # to restore later\n",
    "display(orig_c3)\n",
    "lend_co_data_num[:,3] = np.sort(lend_co_data_num[:,3]) \n",
    "lend_co_data_num"
   ]
  },
  {
   "cell_type": "code",
   "execution_count": 21,
   "metadata": {},
   "outputs": [
    {
     "data": {
      "text/plain": [
       "array([[ 2000.,    40.,   365.,  3121.,  4241., 13621.],\n",
       "       [ 2000.,    40.,   365.,  3061.,  4171., 15041.],\n",
       "       [ 1000.,    40.,   365.,  2160.,  3280., 15340.],\n",
       "       ...,\n",
       "       [ 2000.,    40.,   365.,  4201.,  5001., 16600.],\n",
       "       [ 1000.,    40.,   365.,  2080.,  3320., 15600.],\n",
       "       [ 2000.,    40.,   365.,  4601.,  4601., 16600.]])"
      ]
     },
     "metadata": {},
     "output_type": "display_data"
    }
   ],
   "source": [
    "# Restore to the original value\n",
    "lend_co_data_num[:,3] = orig_c3\n",
    "display(lend_co_data_num)\n"
   ]
  },
  {
   "cell_type": "code",
   "execution_count": 22,
   "metadata": {},
   "outputs": [
    {
     "data": {
      "text/plain": [
       "array([[ 2000.,    40.,   365., -2870.,  4241., 13621.],\n",
       "       [ 2000.,    40.,   365., -2550.,  4171., 15041.],\n",
       "       [ 1000.,    40.,   365., -2450.,  3280., 15340.],\n",
       "       ...,\n",
       "       [ 2000.,    40.,   365., 16751.,  5001., 16600.],\n",
       "       [ 1000.,    40.,   365., 17650.,  3320., 15600.],\n",
       "       [ 2000.,    40.,   365., 19001.,  4601., 16600.]])"
      ]
     },
     "execution_count": 22,
     "metadata": {},
     "output_type": "execute_result"
    }
   ],
   "source": [
    "# Using .sort() method to change the column inside de array\n",
    "lend_co_data_num[:,3].sort()    # Override the original - inplace = True\n",
    "lend_co_data_num"
   ]
  },
  {
   "cell_type": "code",
   "execution_count": 23,
   "metadata": {},
   "outputs": [
    {
     "data": {
      "text/plain": [
       "array([[ 1000.,    35.,   365., -2870., -2870.,  -350.],\n",
       "       [ 1000.,    35.,   365., -2550., -2100.,   150.],\n",
       "       [ 1000.,    35.,   365., -2450., -2000.,  1100.],\n",
       "       ...,\n",
       "       [ 9000.,   125.,   365., 16751., 18751., 54625.],\n",
       "       [ 9000.,   165.,   365., 17650., 20001., 54625.],\n",
       "       [ 9000.,   165.,   365., 19001., 22001., 64001.]])"
      ]
     },
     "execution_count": 23,
     "metadata": {},
     "output_type": "execute_result"
    }
   ],
   "source": [
    "# To change the reorder columns in the entire dataset (array)\n",
    "lend_co_data_num.sort(axis=0)   # Ascend order values in the columns\n",
    "lend_co_data_num"
   ]
  },
  {
   "cell_type": "markdown",
   "metadata": {},
   "source": [
    "### Notes and Examples from the Manual - numpy.sort\n",
    "- Sorting Algorithms; average speed, worst case performance, work space size, and whether they are stable - FUTURE JM!!"
   ]
  },
  {
   "cell_type": "code",
   "execution_count": 26,
   "metadata": {},
   "outputs": [
    {
     "data": {
      "text/plain": [
       "array([[1, 4],\n",
       "       [3, 1]])"
      ]
     },
     "metadata": {},
     "output_type": "display_data"
    },
    {
     "data": {
      "text/plain": [
       "array([[1, 4],\n",
       "       [1, 3]])"
      ]
     },
     "metadata": {},
     "output_type": "display_data"
    },
    {
     "data": {
      "text/plain": [
       "array([1, 1, 3, 4])"
      ]
     },
     "metadata": {},
     "output_type": "display_data"
    },
    {
     "data": {
      "text/plain": [
       "array([[1, 1],\n",
       "       [3, 4]])"
      ]
     },
     "execution_count": 26,
     "metadata": {},
     "output_type": "execute_result"
    }
   ],
   "source": [
    "display(a := np.array([[1,4],[3,1]]))\n",
    "display(np.sort(a))             # sort along the last axis\n",
    "display(np.sort(a, axis=None))  # sort the flattened array\n",
    "np.sort(a, axis=0)              # sort along the first axis"
   ]
  },
  {
   "cell_type": "code",
   "execution_count": 27,
   "metadata": {},
   "outputs": [
    {
     "data": {
      "text/plain": [
       "array([(b'Galahad', 1.7, 38), (b'Arthur', 1.8, 41),\n",
       "       (b'Lancelot', 1.9, 38)],\n",
       "      dtype=[('name', 'S10'), ('height', '<f8'), ('age', '<i4')])"
      ]
     },
     "execution_count": 27,
     "metadata": {},
     "output_type": "execute_result"
    }
   ],
   "source": [
    "# Use the order keyword to specify a field to use when sorting a structured array:\n",
    "dtype = [('name', 'S10'), ('height', float), ('age', int)]\n",
    "values = [('Arthur', 1.8, 41), ('Lancelot', 1.9, 38),\n",
    "          ('Galahad', 1.7, 38)]\n",
    "a = np.array(values, dtype=dtype)       # create a structured array\n",
    "np.sort(a, order='height')                        "
   ]
  },
  {
   "cell_type": "code",
   "execution_count": null,
   "metadata": {},
   "outputs": [],
   "source": [
    "# Sort by age, then height if ages are equal:\n",
    "np.sort(a, order=['age', 'height'])      "
   ]
  }
 ],
 "metadata": {
  "kernelspec": {
   "display_name": "Python 3",
   "language": "python",
   "name": "python3"
  },
  "language_info": {
   "codemirror_mode": {
    "name": "ipython",
    "version": 3
   },
   "file_extension": ".py",
   "mimetype": "text/x-python",
   "name": "python",
   "nbconvert_exporter": "python",
   "pygments_lexer": "ipython3",
   "version": "3.11.4"
  }
 },
 "nbformat": 4,
 "nbformat_minor": 2
}

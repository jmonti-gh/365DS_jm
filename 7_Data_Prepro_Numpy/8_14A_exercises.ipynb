{
 "cells": [
  {
   "cell_type": "markdown",
   "metadata": {},
   "source": [
    "# 8 Data Manipulation with NumPy\n",
    "- Examine how to clean and preprocess data using NumPy.\n",
    "- Hoy to discover missing values (and fill them up).\n",
    "- Ways to remove irrelevant data.\n",
    "- sort(), shuffle(), reshape(), stack(), strip()\n",
    "## 8_14A Exercises"
   ]
  },
  {
   "cell_type": "markdown",
   "metadata": {},
   "source": [
    "- np.loadtxt() | fails with missing vals (NANs)\n",
    "- np.isnan() |  np.isnan().sum()\n",
    "- np.genfromtxt(filling_values=temp_fill)\n",
    "- np.where(condition, True, False)\n",
    "- np.reshape() | add dims artificially -> np.reshape(1,1,3,5) <- inplace False\n",
    "- np.delete(var, els) | (var, els, axis=0) row, (var, els, axis=1) cols | delete(delete, axis=1) axis=0) cols and rows <-inplace False\n",
    "- np.sort() | -np.sort(-arr) <- inplace False | arr.sort() <- inplace True!! | axis=-1 default (en 2D is = 1 rows)\n",
    "- np.argsort()"
   ]
  },
  {
   "cell_type": "code",
   "execution_count": 18,
   "metadata": {},
   "outputs": [
    {
     "data": {
      "text/plain": [
       "'1.26.4'"
      ]
     },
     "execution_count": 18,
     "metadata": {},
     "output_type": "execute_result"
    }
   ],
   "source": [
    "import numpy as np\n",
    "np.__version__"
   ]
  },
  {
   "cell_type": "markdown",
   "metadata": {},
   "source": [
    "### 1. When using the np.sum() function on a boolean array returned by np.isnan(), the result will indicate the total number of missing values in the dataset.\n",
    "- True\n",
    "- Explanation: In NumPy, True can be represented with 1 and False can be represented with 0. Summing the boolean array returned by np.isnan() will count the number of True values, which corresponds to the number of missing values."
   ]
  },
  {
   "cell_type": "markdown",
   "metadata": {},
   "source": [
    "### 2. Filling missing values with the mean of the column will not change the overall mean of that column.\n",
    "- True\n",
    "- Explanation: Filling missing values with the mean of a column ensures that the overall mean remains unchanged. This method keeps the distribution of data consistent while handling missing values."
   ]
  },
  {
   "cell_type": "markdown",
   "metadata": {},
   "source": [
    "### 3. What does the np.where() function do?\n",
    "- It replaces values in an array based on a condition."
   ]
  },
  {
   "cell_type": "markdown",
   "metadata": {},
   "source": [
    "### 4. Setting axis=None in np.sort() on a 2D array will sort the flattened array and return a 1D array.\n",
    "- True "
   ]
  },
  {
   "cell_type": "markdown",
   "metadata": {},
   "source": [
    "### 5. Which of the following best describes the default behavior of np.sort() when sorting a 2D array?\n",
    "- It sorts each row of the array in ascending order.\n",
    "- Explanation: The default behavior of np.sort() on a 2D array is to sort each row (the last axis) individually in ascending order."
   ]
  },
  {
   "cell_type": "markdown",
   "metadata": {},
   "source": [
    "## Some JM - Exercises"
   ]
  },
  {
   "cell_type": "code",
   "execution_count": 20,
   "metadata": {},
   "outputs": [
    {
     "data": {
      "text/plain": [
       "array([[1, 2, 3],\n",
       "       [4, 5, 6]])"
      ]
     },
     "metadata": {},
     "output_type": "display_data"
    },
    {
     "data": {
      "text/plain": [
       "array([[1, 2, 3],\n",
       "       [4, 5, 6]])"
      ]
     },
     "metadata": {},
     "output_type": "display_data"
    },
    {
     "data": {
      "text/plain": [
       "array([[1, 2],\n",
       "       [3, 4],\n",
       "       [5, 6]])"
      ]
     },
     "execution_count": 20,
     "metadata": {},
     "output_type": "execute_result"
    }
   ],
   "source": [
    "display(A := np.arange(1,7).reshape(2,3))\n",
    "np.reshape(A, (3,2))    # <- Inplace=False\n",
    "display(A)\n",
    "A.reshape(3,2)          # <- Inplace=False\n",
    "B = A.reshape(3,2) \n",
    "B"
   ]
  },
  {
   "cell_type": "code",
   "execution_count": 21,
   "metadata": {},
   "outputs": [
    {
     "data": {
      "text/plain": [
       "array([[6, 5, 4],\n",
       "       [3, 2, 1]])"
      ]
     },
     "metadata": {},
     "output_type": "display_data"
    },
    {
     "data": {
      "text/plain": [
       "array([[4, 5, 6],\n",
       "       [1, 2, 3]])"
      ]
     },
     "metadata": {},
     "output_type": "display_data"
    },
    {
     "data": {
      "text/plain": [
       "array([[4, 5, 6],\n",
       "       [1, 2, 3]])"
      ]
     },
     "metadata": {},
     "output_type": "display_data"
    },
    {
     "data": {
      "text/plain": [
       "array([[4, 5, 6],\n",
       "       [1, 2, 3]])"
      ]
     },
     "metadata": {},
     "output_type": "display_data"
    },
    {
     "data": {
      "text/plain": [
       "array([[3, 2, 1],\n",
       "       [6, 5, 4]])"
      ]
     },
     "metadata": {},
     "output_type": "display_data"
    },
    {
     "data": {
      "text/plain": [
       "None"
      ]
     },
     "metadata": {},
     "output_type": "display_data"
    },
    {
     "data": {
      "text/plain": [
       "array([[4, 5, 6],\n",
       "       [1, 2, 3]])"
      ]
     },
     "execution_count": 21,
     "metadata": {},
     "output_type": "execute_result"
    }
   ],
   "source": [
    "display(C := np.arange(6,0,-1).reshape(2,3))\n",
    "display(np.sort(C))\n",
    "display(np.sort(C, axis=1))\n",
    "display(np.sort(C, axis=-1))    # sort rows\n",
    "C\n",
    "display(np.sort(C, axis=0))     # sort cols\n",
    "C\n",
    "display(C.sort())\n",
    "C"
   ]
  },
  {
   "cell_type": "code",
   "execution_count": 28,
   "metadata": {},
   "outputs": [
    {
     "data": {
      "text/plain": [
       "array([[3, 2, 1],\n",
       "       [6, 5, 4]])"
      ]
     },
     "metadata": {},
     "output_type": "display_data"
    },
    {
     "data": {
      "text/plain": [
       "array([[4, 5, 6],\n",
       "       [1, 2, 3]])"
      ]
     },
     "metadata": {},
     "output_type": "display_data"
    },
    {
     "data": {
      "text/plain": [
       "array([[4, 5, 6],\n",
       "       [1, 2, 3]])"
      ]
     },
     "execution_count": 28,
     "metadata": {},
     "output_type": "execute_result"
    }
   ],
   "source": [
    "# sorting in descending order\n",
    "display(np.flip(np.sort(C)))\n",
    "display(C)\n",
    "-np.sort(-C)\n",
    "C"
   ]
  },
  {
   "cell_type": "code",
   "execution_count": 35,
   "metadata": {},
   "outputs": [
    {
     "data": {
      "text/plain": [
       "array([['d', 'e', 'f', 'g', 'h'],\n",
       "       ['i', 'j', 'k', 'l', 'm'],\n",
       "       ['n', 'o', 'p', 'q', 'r']], dtype='<U1')"
      ]
     },
     "metadata": {},
     "output_type": "display_data"
    },
    {
     "data": {
      "text/plain": [
       "array([['d', 'e', 'f', 'g', 'h'],\n",
       "       ['i', 'j', 'k', 'l', 'm'],\n",
       "       ['n', 'o', 'p', 'q', 'r']], dtype='<U1')"
      ]
     },
     "metadata": {},
     "output_type": "display_data"
    },
    {
     "data": {
      "text/plain": [
       "array([['r', 'q', 'p', 'o', 'n'],\n",
       "       ['m', 'l', 'k', 'j', 'i'],\n",
       "       ['h', 'g', 'f', 'e', 'd']], dtype='<U1')"
      ]
     },
     "execution_count": 35,
     "metadata": {},
     "output_type": "execute_result"
    }
   ],
   "source": [
    "# Sorting letters in descending orged\n",
    "lst = [chr(i) for i in range(100, 115)]\n",
    "display(L := np.array(lst).reshape(3,5))\n",
    "display(np.sort(L))\n",
    "np.flip(np.sort(L))\n",
    "# numpy.flip(m, axis=None)"
   ]
  }
 ],
 "metadata": {
  "kernelspec": {
   "display_name": "Python 3",
   "language": "python",
   "name": "python3"
  },
  "language_info": {
   "codemirror_mode": {
    "name": "ipython",
    "version": 3
   },
   "file_extension": ".py",
   "mimetype": "text/x-python",
   "name": "python",
   "nbconvert_exporter": "python",
   "pygments_lexer": "ipython3",
   "version": "3.11.0"
  }
 },
 "nbformat": 4,
 "nbformat_minor": 2
}

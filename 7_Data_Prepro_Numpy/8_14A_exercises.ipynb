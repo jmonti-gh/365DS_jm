{
 "cells": [
  {
   "cell_type": "markdown",
   "metadata": {},
   "source": [
    "# 8 Data Manipulation with NumPy\n",
    "- Examine how to clean and preprocess data using NumPy.\n",
    "- Hoy to discover missing values (and fill them up).\n",
    "- Ways to remove irrelevant data.\n",
    "- sort(), shuffle(), reshape(), stack(), strip()\n",
    "## 8_14A Exercises"
   ]
  },
  {
   "cell_type": "markdown",
   "metadata": {},
   "source": [
    "1. __np.loadtxt('filenm', delimiter=, dtype=, usecols=)__\n",
    "   - fails with missing vals (NANs)\n",
    "2. np.isnan(arr) {ufunc}\n",
    "   - np.isnan().sum()\n",
    "3. np.genfromtxt(filling_values=temp_fill)\n",
    "4. __np.where(condition, True, False)__\n",
    "5. np.reshape() | add dims artificially -> np.reshape(1,1,3,5) <- inplace False\n",
    "6. __np.delete(arr, ixs, axis=None)__ <- inplace False>\n",
    "    - 2-D arr axis=0 row, axis=1 cols | .delete(.delete( axis=1) axis=0) cols and rows\n",
    "7. np.sort() | -np.sort(-arr) <- inplace False | arr.sort() <- inplace True!! | axis=-1 default (en 2D is = 1 rows)\n",
    "8. np.argsort() | def axis=-1 | .argsort() method idem <- inplacer False>\n",
    "9.  np.argwhere(a) | indices of non-zero elements of a\n",
    "10.  __np.shuffle(arr)__ <-inplace True> NO axis= (only rows)\n",
    "     - Also .shuffle(arr, axis=0) Generator method <-inplace True> | 2-D array axis=0 shuffle rows, axis=1 shuffle cols.\n",
    "11. np.astype() | <- inplace False> idem the .astype() method\n",
    "12. np.chararray.strip(arr, 'str') <- inplacer False>\n",
    "13. np.stack(arr, axis=0) <- inplace False>\n",
    "    - stack add 1Dim | .stack() SAME shape, .vstack() and .hstack() NO  | .dstack() depth\n",
    "14. __np.concatenate((tup_arrs), axis=0)__ <-inplace False>\n",
    "    - axis=0 > .vstack; axis=1 > .hstack; axis=2 > dstack\n",
    "15. __np.unique(arr, return_index=False, return_counts=False)__\n",
    "    - return unique values, ascending sorted\n"
   ]
  },
  {
   "cell_type": "code",
   "execution_count": 1,
   "metadata": {},
   "outputs": [],
   "source": [
    "import numpy as np\n",
    "np.__version__\n",
    "np.set_printoptions(suppress=True)"
   ]
  },
  {
   "cell_type": "code",
   "execution_count": 2,
   "metadata": {},
   "outputs": [],
   "source": [
    "# Function show_attr\n",
    "\n",
    "def show_attr(arrnm: str) -> str:\n",
    "    strout = f' {arrnm}: '\n",
    "\n",
    "    for attr in ('shape', 'ndim', 'size', 'dtype'):     #, 'itemsize'):\n",
    "            arrnm_attr = arrnm + '.' + attr\n",
    "            strout += f'| {attr}: {eval(arrnm_attr)} '\n",
    "\n",
    "    return strout"
   ]
  },
  {
   "cell_type": "markdown",
   "metadata": {},
   "source": [
    "### 1. When using the np.sum() function on a boolean array returned by np.isnan(), the result will indicate the total number of missing values in the dataset.\n",
    "- True\n",
    "- Explanation: In NumPy, True can be represented with 1 and False can be represented with 0. Summing the boolean array returned by np.isnan() will count the number of True values, which corresponds to the number of missing values."
   ]
  },
  {
   "cell_type": "markdown",
   "metadata": {},
   "source": [
    "### 2. Filling missing values with the mean of the column will not change the overall mean of that column.\n",
    "- True\n",
    "- Explanation: Filling missing values with the mean of a column ensures that the overall mean remains unchanged. This method keeps the distribution of data consistent while handling missing values."
   ]
  },
  {
   "cell_type": "markdown",
   "metadata": {},
   "source": [
    "### 3. What does the np.where() function do?\n",
    "- It replaces values in an array based on a condition."
   ]
  },
  {
   "cell_type": "markdown",
   "metadata": {},
   "source": [
    "### 4. Setting axis=None in np.sort() on a 2D array will sort the flattened array and return a 1D array.\n",
    "- True "
   ]
  },
  {
   "cell_type": "markdown",
   "metadata": {},
   "source": [
    "### 5. Which of the following best describes the default behavior of np.sort() when sorting a 2D array?\n",
    "- It sorts each row of the array in ascending order.\n",
    "- Explanation: The default behavior of np.sort() on a 2D array is to sort each row (the last axis) individually in ascending order."
   ]
  },
  {
   "cell_type": "markdown",
   "metadata": {},
   "source": [
    "### 6. The np.argwhere() function returns the coordinates of all non-zero elements in a NumPy array by\n",
    "- True\n",
    "- Explanation: By default, np.argwhere() checks for non-zero elements in the array and returns their coordinates as indices in a 2D array."
   ]
  },
  {
   "cell_type": "markdown",
   "metadata": {},
   "source": [
    "### 7. When using np.random.shuffle() the function returns a new array without modifying the original array.\n",
    "- False\n",
    "- Explanation: np.random.shuffle() modifies the array in place, meaning it rearranges the rows of the dataset directly and does not return a new array."
   ]
  },
  {
   "cell_type": "markdown",
   "metadata": {},
   "source": [
    "### 8. You have a 2D array of float values and you want to cast them into integers. Complete the following code:\n"
   ]
  },
  {
   "cell_type": "code",
   "execution_count": 3,
   "metadata": {},
   "outputs": [
    {
     "name": "stdout",
     "output_type": "stream",
     "text": [
      "[[1 2 3]\n",
      " [4 5 6]]\n"
     ]
    }
   ],
   "source": [
    "data = np.array([[1.2, 2.5, 3.1], [4.6, 5.8, 6.9]]) \n",
    "\n",
    "# Convert float values to integers\n",
    "int_data = data.astype(dtype = np.int32) \n",
    "print(int_data)"
   ]
  },
  {
   "cell_type": "code",
   "execution_count": null,
   "metadata": {},
   "outputs": [],
   "source": []
  },
  {
   "cell_type": "code",
   "execution_count": null,
   "metadata": {},
   "outputs": [],
   "source": []
  },
  {
   "cell_type": "code",
   "execution_count": null,
   "metadata": {},
   "outputs": [],
   "source": []
  },
  {
   "cell_type": "code",
   "execution_count": null,
   "metadata": {},
   "outputs": [],
   "source": []
  },
  {
   "cell_type": "markdown",
   "metadata": {},
   "source": [
    "## Some JM - Exercises"
   ]
  },
  {
   "cell_type": "code",
   "execution_count": 4,
   "metadata": {},
   "outputs": [
    {
     "data": {
      "text/plain": [
       "array([[1, 2, 3],\n",
       "       [4, 5, 6]])"
      ]
     },
     "metadata": {},
     "output_type": "display_data"
    },
    {
     "data": {
      "text/plain": [
       "array([[1, 2, 3],\n",
       "       [4, 5, 6]])"
      ]
     },
     "metadata": {},
     "output_type": "display_data"
    },
    {
     "data": {
      "text/plain": [
       "array([[1, 2],\n",
       "       [3, 4],\n",
       "       [5, 6]])"
      ]
     },
     "execution_count": 4,
     "metadata": {},
     "output_type": "execute_result"
    }
   ],
   "source": [
    "# 5. reshape function and method\n",
    "display(A := np.arange(1,7).reshape(2,3))\n",
    "np.reshape(A, (3,2))    # <- Inplace=False\n",
    "display(A)\n",
    "A.reshape(3,2)          # <- Inplace=False\n",
    "B = A.reshape(3,2) \n",
    "B"
   ]
  },
  {
   "cell_type": "code",
   "execution_count": 5,
   "metadata": {},
   "outputs": [
    {
     "data": {
      "text/plain": [
       "array([[6, 5, 4],\n",
       "       [3, 2, 1]])"
      ]
     },
     "metadata": {},
     "output_type": "display_data"
    },
    {
     "data": {
      "text/plain": [
       "array([[4, 5, 6],\n",
       "       [1, 2, 3]])"
      ]
     },
     "metadata": {},
     "output_type": "display_data"
    },
    {
     "data": {
      "text/plain": [
       "array([[4, 5, 6],\n",
       "       [1, 2, 3]])"
      ]
     },
     "metadata": {},
     "output_type": "display_data"
    },
    {
     "data": {
      "text/plain": [
       "array([[4, 5, 6],\n",
       "       [1, 2, 3]])"
      ]
     },
     "metadata": {},
     "output_type": "display_data"
    },
    {
     "data": {
      "text/plain": [
       "array([[3, 2, 1],\n",
       "       [6, 5, 4]])"
      ]
     },
     "metadata": {},
     "output_type": "display_data"
    },
    {
     "data": {
      "text/plain": [
       "None"
      ]
     },
     "metadata": {},
     "output_type": "display_data"
    },
    {
     "data": {
      "text/plain": [
       "array([[4, 5, 6],\n",
       "       [1, 2, 3]])"
      ]
     },
     "execution_count": 5,
     "metadata": {},
     "output_type": "execute_result"
    }
   ],
   "source": [
    "# 7. sort function and method\n",
    "display(C := np.arange(6,0,-1).reshape(2,3))\n",
    "display(np.sort(C))\n",
    "display(np.sort(C, axis=1))\n",
    "display(np.sort(C, axis=-1))    # sort rows\n",
    "C\n",
    "display(np.sort(C, axis=0))     # sort cols\n",
    "C\n",
    "display(C.sort())\n",
    "C"
   ]
  },
  {
   "cell_type": "code",
   "execution_count": 6,
   "metadata": {},
   "outputs": [
    {
     "data": {
      "text/plain": [
       "array([[3, 2, 1],\n",
       "       [6, 5, 4]])"
      ]
     },
     "metadata": {},
     "output_type": "display_data"
    },
    {
     "data": {
      "text/plain": [
       "array([[4, 5, 6],\n",
       "       [1, 2, 3]])"
      ]
     },
     "metadata": {},
     "output_type": "display_data"
    },
    {
     "data": {
      "text/plain": [
       "array([[4, 5, 6],\n",
       "       [1, 2, 3]])"
      ]
     },
     "execution_count": 6,
     "metadata": {},
     "output_type": "execute_result"
    }
   ],
   "source": [
    "# sorting in descending order\n",
    "display(np.flip(np.sort(C)))\n",
    "display(C)\n",
    "-np.sort(-C)\n",
    "C"
   ]
  },
  {
   "cell_type": "code",
   "execution_count": 7,
   "metadata": {},
   "outputs": [
    {
     "data": {
      "text/plain": [
       "array([['d', 'e', 'f', 'g', 'h'],\n",
       "       ['i', 'j', 'k', 'l', 'm'],\n",
       "       ['n', 'o', 'p', 'q', 'r']], dtype='<U1')"
      ]
     },
     "metadata": {},
     "output_type": "display_data"
    },
    {
     "data": {
      "text/plain": [
       "array([['d', 'e', 'f', 'g', 'h'],\n",
       "       ['i', 'j', 'k', 'l', 'm'],\n",
       "       ['n', 'o', 'p', 'q', 'r']], dtype='<U1')"
      ]
     },
     "metadata": {},
     "output_type": "display_data"
    },
    {
     "data": {
      "text/plain": [
       "array([['r', 'q', 'p', 'o', 'n'],\n",
       "       ['m', 'l', 'k', 'j', 'i'],\n",
       "       ['h', 'g', 'f', 'e', 'd']], dtype='<U1')"
      ]
     },
     "execution_count": 7,
     "metadata": {},
     "output_type": "execute_result"
    }
   ],
   "source": [
    "# Sorting letters in descending order\n",
    "lst = [chr(i) for i in range(100, 115)]\n",
    "display(L := np.array(lst).reshape(3,5))\n",
    "display(np.sort(L))\n",
    "np.flip(np.sort(L))\n",
    "# numpy.flip(m, axis=None)"
   ]
  },
  {
   "cell_type": "code",
   "execution_count": 8,
   "metadata": {},
   "outputs": [
    {
     "data": {
      "text/plain": [
       "array([['d', 'e', 'f', 'g', 'h'],\n",
       "       ['i', 'j', 'k', 'l', 'm'],\n",
       "       ['n', 'o', 'p', 'q', 'r']], dtype='<U1')"
      ]
     },
     "metadata": {},
     "output_type": "display_data"
    },
    {
     "data": {
      "text/plain": [
       "array([['d', 'e', 'f', '', 'h'],\n",
       "       ['i', '0', 'k', 'l', 'm'],\n",
       "       ['n', 'o', 'p', 'q', 'F']], dtype='<U1')"
      ]
     },
     "metadata": {},
     "output_type": "display_data"
    },
    {
     "data": {
      "text/plain": [
       "array([], dtype='<U1')"
      ]
     },
     "metadata": {},
     "output_type": "display_data"
    },
    {
     "data": {
      "text/plain": [
       "array([], dtype='<U1')"
      ]
     },
     "metadata": {},
     "output_type": "display_data"
    },
    {
     "data": {
      "text/plain": [
       "array(['d', 'e', 'f', '', 'h', 'i', '0', 'k', 'l', 'm', 'n', 'o', 'p',\n",
       "       'q', 'F'], dtype='<U1')"
      ]
     },
     "metadata": {},
     "output_type": "display_data"
    }
   ],
   "source": [
    "# True - False element-wise letters\n",
    "display(L)\n",
    "L[0,3] = '' \n",
    "L[1,1] = 0\n",
    "L[2,4] = False\n",
    "display(L)\n",
    "display(L[L == True])\n",
    "display(L[L == False])\n",
    "display(L[L != False])"
   ]
  },
  {
   "cell_type": "code",
   "execution_count": 9,
   "metadata": {},
   "outputs": [
    {
     "data": {
      "text/plain": [
       "array([[ 17.51, -14.11, -19.21,   1.36,   9.35],\n",
       "       [  5.44,  -8.67,  -7.14,   6.63,  13.26],\n",
       "       [ 24.31,  -5.27,  10.03,  -7.48,   3.74]])"
      ]
     },
     "metadata": {},
     "output_type": "display_data"
    },
    {
     "data": {
      "text/plain": [
       "array([[ 17.51, -14.11, -19.21,   0.  ,   9.35],\n",
       "       [  0.  ,  -8.67,  -7.14,   6.63,  13.26],\n",
       "       [ 24.31,  -5.27,  10.03,  -7.48,   0.  ]])"
      ]
     },
     "metadata": {},
     "output_type": "display_data"
    },
    {
     "data": {
      "text/plain": [
       "array([], dtype=float64)"
      ]
     },
     "metadata": {},
     "output_type": "display_data"
    },
    {
     "data": {
      "text/plain": [
       "array([0., 0., 0.])"
      ]
     },
     "metadata": {},
     "output_type": "display_data"
    },
    {
     "data": {
      "text/plain": [
       "array([ 17.51, -14.11, -19.21,   9.35,  -8.67,  -7.14,   6.63,  13.26,\n",
       "        24.31,  -5.27,  10.03,  -7.48])"
      ]
     },
     "metadata": {},
     "output_type": "display_data"
    },
    {
     "data": {
      "text/plain": [
       "array([ 17.51, -14.11, -19.21,   0.  ,   9.35,   0.  ,  -8.67,  -7.14,\n",
       "         6.63,  13.26,  24.31,  -5.27,  10.03,  -7.48,   0.  ])"
      ]
     },
     "metadata": {},
     "output_type": "display_data"
    }
   ],
   "source": [
    "# True - False element-wise nums\n",
    "display(R := np.random.randn(15).round(2).reshape(3,5) * 17)\n",
    "R[0,3] = R[1,0] = R[2,4] = 0\n",
    "display(R)\n",
    "display(R[R == True])\n",
    "display(R[R == False])\n",
    "display(R[R != False])\n",
    "display(R[R != True])"
   ]
  },
  {
   "cell_type": "code",
   "execution_count": 10,
   "metadata": {},
   "outputs": [
    {
     "data": {
      "text/plain": [
       "array([[ 0,  1,  2,  3,  4,  5],\n",
       "       [ 6,  7,  8,  9, 10, 11],\n",
       "       [12, 13, 14, 15, 16, 17]])"
      ]
     },
     "metadata": {},
     "output_type": "display_data"
    },
    {
     "data": {
      "text/plain": [
       "array([[12, 13, 14, 15, 16, 17],\n",
       "       [ 0,  1,  2,  3,  4,  5],\n",
       "       [ 6,  7,  8,  9, 10, 11]])"
      ]
     },
     "execution_count": 10,
     "metadata": {},
     "output_type": "execute_result"
    }
   ],
   "source": [
    "# 10 .shuffle Gen method, inplace True, axis=0 rows default\n",
    "display(I := np.arange(18).reshape(3,6))\n",
    "\n",
    "from numpy.random import Generator as gen  \n",
    "from numpy.random import PCG64 as pcg \n",
    "\n",
    "array_RG = gen(pcg())\n",
    "array_RG.shuffle(I, axis=0)\n",
    "\n",
    "I\n"
   ]
  },
  {
   "cell_type": "code",
   "execution_count": 11,
   "metadata": {},
   "outputs": [],
   "source": [
    "# display(I := np.arange(18).reshape(3,6))\n",
    "# np.random.shuffle(I, axis=1)\n",
    "# I\n",
    "# # TypeError: shuffle() got an unexpected keyword argument 'axis'"
   ]
  },
  {
   "cell_type": "code",
   "execution_count": 12,
   "metadata": {},
   "outputs": [
    {
     "data": {
      "text/plain": [
       "array([[ 0,  1,  2,  3,  4,  5],\n",
       "       [ 6,  7,  8,  9, 10, 11],\n",
       "       [12, 13, 14, 15, 16, 17]])"
      ]
     },
     "metadata": {},
     "output_type": "display_data"
    },
    {
     "data": {
      "text/plain": [
       "array([[ 0,  1,  2,  3,  4,  5],\n",
       "       [ 6,  7,  8,  9, 10, 11],\n",
       "       [12, 13, 14, 15, 16, 17]])"
      ]
     },
     "metadata": {},
     "output_type": "display_data"
    },
    {
     "data": {
      "text/plain": [
       "array([['0', '1', '2', '3', '4', '5'],\n",
       "       ['6', '7', '8', '9', '10', '11'],\n",
       "       ['12', '13', '14', '15', '16', '17']], dtype='<U11')"
      ]
     },
     "metadata": {},
     "output_type": "display_data"
    },
    {
     "data": {
      "text/plain": [
       "array([[ 0,  1,  2,  3,  4,  5],\n",
       "       [ 6,  7,  8,  9, 10, 11],\n",
       "       [12, 13, 14, 15, 16, 17]])"
      ]
     },
     "metadata": {},
     "output_type": "display_data"
    }
   ],
   "source": [
    "# 11 .astype() method <- inplace False\n",
    "display(I := np.arange(18).reshape(3,6))\n",
    "display(I)\n",
    "display(I.astype(dtype=str))\n",
    "display(I)"
   ]
  },
  {
   "cell_type": "code",
   "execution_count": 13,
   "metadata": {},
   "outputs": [
    {
     "data": {
      "text/plain": [
       "array([[ 0,  1,  2,  3,  4,  5],\n",
       "       [ 6,  7,  8,  9, 10, 11],\n",
       "       [12, 13, 14, 15, 16, 17],\n",
       "       [18, 19, 20, 21, 22, 23]])"
      ]
     },
     "metadata": {},
     "output_type": "display_data"
    },
    {
     "data": {
      "text/plain": [
       "array([[18, 19, 20, 21, 22, 23],\n",
       "       [12, 13, 14, 15, 16, 17]])"
      ]
     },
     "metadata": {},
     "output_type": "display_data"
    },
    {
     "data": {
      "text/plain": [
       "array([[ 0,  1,  2,  3,  4,  5],\n",
       "       [ 6,  7,  8,  9, 10, 11],\n",
       "       [12, 13, 14, 15, 16, 17],\n",
       "       [18, 19, 20, 21, 22, 23],\n",
       "       [18, 19, 20, 21, 22, 23],\n",
       "       [12, 13, 14, 15, 16, 17]])"
      ]
     },
     "execution_count": 13,
     "metadata": {},
     "output_type": "execute_result"
    }
   ],
   "source": [
    "## 13. The truth about the 'same' shape in stacks\n",
    "display(S := np.arange(24).reshape(4,6))\n",
    "display(S2r := S[[-1,-2]])\n",
    "# np.stack((S,S2r)) # ValueError: all input arrays must have the same shape\n",
    "# np.stack((S, S2r), axis=1)    # ValueError:\n",
    "\n",
    "np.vstack((S,S2r))  # OK!!"
   ]
  },
  {
   "cell_type": "code",
   "execution_count": 14,
   "metadata": {},
   "outputs": [
    {
     "data": {
      "text/plain": [
       "array([[ 0,  1,  2,  3,  4,  5],\n",
       "       [ 6,  7,  8,  9, 10, 11],\n",
       "       [12, 13, 14, 15, 16, 17],\n",
       "       [18, 19, 20, 21, 22, 23]])"
      ]
     },
     "metadata": {},
     "output_type": "display_data"
    },
    {
     "name": "stdout",
     "output_type": "stream",
     "text": [
      " S: | shape: (4, 6) | ndim: 2 | size: 24 | dtype: int32 \n"
     ]
    },
    {
     "data": {
      "text/plain": [
       "array([[18, 19, 20, 21, 22, 23],\n",
       "       [12, 13, 14, 15, 16, 17]])"
      ]
     },
     "metadata": {},
     "output_type": "display_data"
    },
    {
     "name": "stdout",
     "output_type": "stream",
     "text": [
      " S2r: | shape: (2, 6) | ndim: 2 | size: 12 | dtype: int32 \n"
     ]
    },
    {
     "data": {
      "text/plain": [
       "array([[ 2,  1],\n",
       "       [ 8,  7],\n",
       "       [14, 13],\n",
       "       [20, 19]])"
      ]
     },
     "metadata": {},
     "output_type": "display_data"
    },
    {
     "name": "stdout",
     "output_type": "stream",
     "text": [
      " S2c: | shape: (4, 2) | ndim: 2 | size: 8 | dtype: int32 \n"
     ]
    },
    {
     "data": {
      "text/plain": [
       "array([[ 0,  1,  2,  3,  4,  5],\n",
       "       [ 6,  7,  8,  9, 10, 11],\n",
       "       [12, 13, 14, 15, 16, 17],\n",
       "       [18, 19, 20, 21, 22, 23],\n",
       "       [18, 19, 20, 21, 22, 23],\n",
       "       [12, 13, 14, 15, 16, 17]])"
      ]
     },
     "metadata": {},
     "output_type": "display_data"
    },
    {
     "name": "stdout",
     "output_type": "stream",
     "text": [
      " concat_r: | shape: (6, 6) | ndim: 2 | size: 36 | dtype: int32 \n"
     ]
    },
    {
     "data": {
      "text/plain": [
       "array([[ 0,  1,  2,  3,  4,  5],\n",
       "       [ 6,  7,  8,  9, 10, 11],\n",
       "       [12, 13, 14, 15, 16, 17],\n",
       "       [18, 19, 20, 21, 22, 23],\n",
       "       [18, 19, 20, 21, 22, 23],\n",
       "       [12, 13, 14, 15, 16, 17]])"
      ]
     },
     "metadata": {},
     "output_type": "display_data"
    },
    {
     "name": "stdout",
     "output_type": "stream",
     "text": [
      " vstack: | shape: (6, 6) | ndim: 2 | size: 36 | dtype: int32 \n"
     ]
    },
    {
     "data": {
      "text/plain": [
       "array([[[ 0,  1,  2,  3,  4,  5],\n",
       "        [ 6,  7,  8,  9, 10, 11],\n",
       "        [12, 13, 14, 15, 16, 17],\n",
       "        [18, 19, 20, 21, 22, 23]],\n",
       "\n",
       "       [[ 0,  1,  2,  3,  4,  5],\n",
       "        [ 6,  7,  8,  9, 10, 11],\n",
       "        [12, 13, 14, 15, 16, 17],\n",
       "        [18, 19, 20, 21, 22, 23]]])"
      ]
     },
     "metadata": {},
     "output_type": "display_data"
    },
    {
     "name": "stdout",
     "output_type": "stream",
     "text": [
      " stack_r: | shape: (2, 4, 6) | ndim: 3 | size: 48 | dtype: int32 \n"
     ]
    },
    {
     "data": {
      "text/plain": [
       "array([[ 0,  1,  2,  3,  4,  5,  2,  1],\n",
       "       [ 6,  7,  8,  9, 10, 11,  8,  7],\n",
       "       [12, 13, 14, 15, 16, 17, 14, 13],\n",
       "       [18, 19, 20, 21, 22, 23, 20, 19]])"
      ]
     },
     "metadata": {},
     "output_type": "display_data"
    },
    {
     "name": "stdout",
     "output_type": "stream",
     "text": [
      " concat_c: | shape: (4, 8) | ndim: 2 | size: 32 | dtype: int32 \n"
     ]
    },
    {
     "data": {
      "text/plain": [
       "array([[ 0,  1,  2,  3,  4,  5,  2,  1],\n",
       "       [ 6,  7,  8,  9, 10, 11,  8,  7],\n",
       "       [12, 13, 14, 15, 16, 17, 14, 13],\n",
       "       [18, 19, 20, 21, 22, 23, 20, 19]])"
      ]
     },
     "metadata": {},
     "output_type": "display_data"
    },
    {
     "name": "stdout",
     "output_type": "stream",
     "text": [
      " hstack: | shape: (4, 8) | ndim: 2 | size: 32 | dtype: int32 \n"
     ]
    },
    {
     "data": {
      "text/plain": [
       "array([[[ 0,  1,  2,  3,  4,  5],\n",
       "        [ 0,  1,  2,  3,  4,  5]],\n",
       "\n",
       "       [[ 6,  7,  8,  9, 10, 11],\n",
       "        [ 6,  7,  8,  9, 10, 11]],\n",
       "\n",
       "       [[12, 13, 14, 15, 16, 17],\n",
       "        [12, 13, 14, 15, 16, 17]],\n",
       "\n",
       "       [[18, 19, 20, 21, 22, 23],\n",
       "        [18, 19, 20, 21, 22, 23]]])"
      ]
     },
     "metadata": {},
     "output_type": "display_data"
    },
    {
     "name": "stdout",
     "output_type": "stream",
     "text": [
      " stack_c: | shape: (4, 2, 6) | ndim: 3 | size: 48 | dtype: int32 \n"
     ]
    }
   ],
   "source": [
    "## 14. Concatenate - v-h stack <- dimensions\n",
    "display(S := np.arange(24).reshape(4,6))\n",
    "print(show_attr('S'))\n",
    "display(S2r := S[[-1,-2]])\n",
    "print(show_attr('S2r'))\n",
    "display(S2c := S[:,[2,1]])\n",
    "print(show_attr('S2c'))\n",
    "\n",
    "display(concat_r := np.concatenate((S, S2r)))\n",
    "print(show_attr('concat_r'))\n",
    "\n",
    "display(vstack := np.vstack((S, S2r)))\n",
    "print(show_attr('vstack'))\n",
    "\n",
    "display(stack_r := np.stack((S, S)))\n",
    "print(show_attr('stack_r'))\n",
    "\n",
    "display(concat_c := np.concatenate((S, S2c), axis=1))\n",
    "print(show_attr('concat_c'))\n",
    "\n",
    "display(hstack := np.hstack((S, S2c)))\n",
    "print(show_attr('hstack'))\n",
    "\n",
    "display(stack_c := np.stack((S, S), axis=1))\n",
    "print(show_attr('stack_c'))"
   ]
  }
 ],
 "metadata": {
  "kernelspec": {
   "display_name": "Python 3",
   "language": "python",
   "name": "python3"
  },
  "language_info": {
   "codemirror_mode": {
    "name": "ipython",
    "version": 3
   },
   "file_extension": ".py",
   "mimetype": "text/x-python",
   "name": "python",
   "nbconvert_exporter": "python",
   "pygments_lexer": "ipython3",
   "version": "3.11.0"
  }
 },
 "nbformat": 4,
 "nbformat_minor": 2
}

{
 "cells": [
  {
   "cell_type": "markdown",
   "metadata": {},
   "source": [
    "# 7. Data Preprocessing with NumPy\n",
    "- Practice Exam #1\n",
    "- Practice Exam #2\n",
    "- Practice Exam #3\n",
    "- Practice Exam #4"
   ]
  },
  {
   "cell_type": "markdown",
   "metadata": {},
   "source": [
    "## PE#1 - Indexing, Assigning, np.squeeze()"
   ]
  },
  {
   "cell_type": "code",
   "execution_count": null,
   "metadata": {},
   "outputs": [],
   "source": []
  },
  {
   "cell_type": "code",
   "execution_count": null,
   "metadata": {},
   "outputs": [],
   "source": []
  },
  {
   "cell_type": "code",
   "execution_count": null,
   "metadata": {},
   "outputs": [],
   "source": []
  },
  {
   "cell_type": "code",
   "execution_count": null,
   "metadata": {},
   "outputs": [],
   "source": []
  },
  {
   "cell_type": "code",
   "execution_count": null,
   "metadata": {},
   "outputs": [],
   "source": []
  },
  {
   "cell_type": "code",
   "execution_count": null,
   "metadata": {},
   "outputs": [],
   "source": []
  },
  {
   "cell_type": "markdown",
   "metadata": {},
   "source": [
    "1. __np.loadtxt('filenm', delimiter=, dtype=, usecols=)__\n",
    "   - fails with missing vals (NANs)\n",
    "2. __np.isnan(arr)__ {ufunc}\n",
    "   - np.isnan().sum()\n",
    "3. __np.genfromtxt('filenm', delimiter=, filling_values=tmp)__\n",
    "    - dtype=float, usecols=None, skip_header or footer=0\n",
    "4. __np.where(condition, True, False)__\n",
    "5. __np.reshape()__ <- inplace Flase>\n",
    "    - add dims artificially -> np.reshape(1,1,3,5) + method\n",
    "6. __np.delete(arr, ixs, axis=None)__ <- inplace False>\n",
    "    - 2-D arr axis=0 row, axis=1 cols | .delete(.delete( axis=1) axis=0) cols and rows\n",
    "7. __np.sort(arr, axis=1)__ <- inplace False>\n",
    "    - -np.sort(-arr) <- descending | arr.sort() <- inplace True!! | axis=-1 default (en 2D is = 1 rows)\n",
    "8. __np.argsort(arr, axis=-1)__ <- inplace False>\n",
    "    - .argsort() method idem <- inplacer False>\n",
    "9.  __np.argwhere(arr)__ {arr or condition}\n",
    "    - indices of non-zero elements of arr | argwhere(isnan(a))\n",
    "10.  __np.shuffle(arr)__ <-inplace True> NO axis= (only rows)\n",
    "     - Also .shuffle(arr, axis=0) Generator method <-inplace True> | 2-D array axis=0 shuffle rows, axis=1 shuffle cols.\n",
    "11. np.astype() | <- inplace False> idem the .astype() method\n",
    "12. np.chararray.strip(arr, 'str') <- inplacer False>\n",
    "13. np.stack(arr, axis=0) <- inplace False>\n",
    "    - stack add 1Dim | .stack() SAME shape, .vstack() and .hstack() NO  | .dstack() depth\n",
    "14. __np.concatenate((tup_arrs), axis=0)__ <-inplace False>\n",
    "    - axis=0 > .vstack; axis=1 > .hstack; axis=2 > dstack\n",
    "15. __np.unique(arr, return_index=False, return_counts=False)__\n",
    "    - return unique values, ascending sorted\n"
   ]
  },
  {
   "cell_type": "code",
   "execution_count": 1,
   "metadata": {},
   "outputs": [],
   "source": [
    "import numpy as np\n",
    "np.__version__\n",
    "np.set_printoptions(suppress=True)"
   ]
  },
  {
   "cell_type": "code",
   "execution_count": 2,
   "metadata": {},
   "outputs": [],
   "source": [
    "# Function show_attr\n",
    "\n",
    "def show_attr(arrnm: str) -> str:\n",
    "    strout = f' {arrnm}: '\n",
    "\n",
    "    for attr in ('shape', 'ndim', 'size', 'dtype'):     #, 'itemsize'):\n",
    "            arrnm_attr = arrnm + '.' + attr\n",
    "            strout += f'| {attr}: {eval(arrnm_attr)} '\n",
    "\n",
    "    return strout"
   ]
  },
  {
   "cell_type": "code",
   "execution_count": 3,
   "metadata": {},
   "outputs": [
    {
     "name": "stdout",
     "output_type": "stream",
     "text": [
      " dataU: | shape: (1043, 6) | ndim: 2 | size: 6258 | dtype: float64 \n"
     ]
    },
    {
     "data": {
      "text/plain": [
       "0"
      ]
     },
     "execution_count": 3,
     "metadata": {},
     "output_type": "execute_result"
    }
   ],
   "source": [
    "# load NON-NAN data\n",
    "dataU = np.loadtxt('Lending-Company-Numeric-Data.csv',\n",
    "                  delimiter=',')\n",
    "print(show_attr('dataU'))\n",
    "np.isnan(dataU).sum()"
   ]
  },
  {
   "cell_type": "code",
   "execution_count": 4,
   "metadata": {},
   "outputs": [
    {
     "name": "stdout",
     "output_type": "stream",
     "text": [
      " dataN: | shape: (1043, 6) | ndim: 2 | size: 6258 | dtype: float64 \n"
     ]
    },
    {
     "data": {
      "text/plain": [
       "260"
      ]
     },
     "execution_count": 4,
     "metadata": {},
     "output_type": "execute_result"
    }
   ],
   "source": [
    "# read NAN data\n",
    "dataN = np.genfromtxt('Lending-Company-Numeric-Data-NAN.csv',\n",
    "                     delimiter=';')\n",
    "print(show_attr('dataN'))\n",
    "np.isnan(dataN).sum()"
   ]
  },
  {
   "cell_type": "code",
   "execution_count": 10,
   "metadata": {},
   "outputs": [
    {
     "data": {
      "text/plain": [
       "array([[   nan,    nan,    nan,    nan,    nan,    nan],\n",
       "       [   nan,    50.,   365.,  2801.,  3626.,  4676.],\n",
       "       [   nan,    40.,   365.,  3121.,  5381., 15281.],\n",
       "       [   nan,    40.,   365.,  3121.,  4501., 16381.],\n",
       "       [   nan,    50.,   365.,  1700.,  3200., 16550.],\n",
       "       [   nan,    40.,   365.,  3401.,  4421., 13101.],\n",
       "       [   nan,    50.,   365., -1850.,  -530.,  1480.],\n",
       "       [   nan,    50.,   365.,  3750.,  6250., 20250.],\n",
       "       [   nan,    50.,   365.,  3751.,  5251., 20250.],\n",
       "       [   nan,    nan,    nan,  5453.,  6953., 22250.],\n",
       "       [   nan,    nan,    nan,  5100.,  6400., 22250.],\n",
       "       [   nan,    40.,   365.,  3400.,  5400., 16600.],\n",
       "       [   nan,    40.,   365.,  3360.,    nan,    nan],\n",
       "       [   nan,    40.,   365.,  1940.,    nan,    nan],\n",
       "       [   nan,    50.,   365.,  5500.,  7500., 22250.],\n",
       "       [   nan,    nan,    nan,    nan,    nan,    nan],\n",
       "       [   nan,    50.,   365.,  1250.,  2650., 19250.],\n",
       "       [   nan,    50.,   365.,  5500.,  5500., 22250.],\n",
       "       [   nan,    40.,   365.,  3500.,  4400., 15600.],\n",
       "       [   nan,    40.,   365.,  8200., 13200., 16600.],\n",
       "       [   nan,    40.,   365.,  3080.,  4600., 16600.],\n",
       "       [   nan,    50.,   365.,    nan,    nan, 20250.],\n",
       "       [   nan,    40.,   365.,  3440.,  3440., 15600.],\n",
       "       [   nan,    nan,   365.,    nan,    nan,    nan],\n",
       "       [   nan,    40.,   365.,  2120.,  3280., 15600.],\n",
       "       [   nan,    50.,    nan,    nan,  6900., 22250.],\n",
       "       [   nan,    40.,   365.,  4900.,  4900., 16600.],\n",
       "       [   nan,    40.,   365.,  4000.,  5000., 16600.],\n",
       "       [   nan,    50.,   365.,  3400.,  5000., 20250.],\n",
       "       [   nan,   125.,    nan,    nan,    nan, 54625.],\n",
       "       [   nan,    40.,    nan,  3441.,  4541., 16600.]])"
      ]
     },
     "metadata": {},
     "output_type": "display_data"
    },
    {
     "name": "stdout",
     "output_type": "stream",
     "text": [
      " data: | shape: (31, 6) | ndim: 2 | size: 186 | dtype: float64 \n",
      "61\n"
     ]
    }
   ],
   "source": [
    "# read exam data \n",
    "data = np.genfromtxt('Data_preprocessing_Numpy.csv',\n",
    "                     delimiter=';')\n",
    "                    #  skip_header=1)\n",
    "\n",
    "display(data)\n",
    "print(show_attr('data'))\n",
    "print(np.isnan(data).sum())\n"
   ]
  },
  {
   "cell_type": "code",
   "execution_count": 6,
   "metadata": {},
   "outputs": [],
   "source": [
    "# Q1"
   ]
  },
  {
   "cell_type": "code",
   "execution_count": 14,
   "metadata": {},
   "outputs": [
    {
     "name": "stderr",
     "output_type": "stream",
     "text": [
      "C:\\Users\\jm\\AppData\\Local\\Temp\\ipykernel_1480\\1500593355.py:2: RuntimeWarning: Mean of empty slice\n",
      "  np.nanmean(data, axis=0).round(2)\n"
     ]
    },
    {
     "data": {
      "text/plain": [
       "array([     nan,    47.5 ,   365.  ,  3495.16,  5073.5 , 18461.31])"
      ]
     },
     "execution_count": 14,
     "metadata": {},
     "output_type": "execute_result"
    }
   ],
   "source": [
    "# Q2\n",
    "np.nanmean(data, axis=0).round(2)"
   ]
  },
  {
   "cell_type": "code",
   "execution_count": 21,
   "metadata": {},
   "outputs": [
    {
     "data": {
      "text/plain": [
       "-1850.0"
      ]
     },
     "metadata": {},
     "output_type": "display_data"
    },
    {
     "data": {
      "text/plain": [
       "array([-1850.  ,  -258.55,  -135.16,  2460.61,  3510.13, 15185.29])"
      ]
     },
     "execution_count": 21,
     "metadata": {},
     "output_type": "execute_result"
    }
   ],
   "source": [
    "# Q3\n",
    "# print('1stColMean:', np.nanmean(data[:,0]))\n",
    "# print('2ndColMean:', np.nanmean(data[:,1]))\n",
    "# print('3thColMean:', np.nanmean(data[:,2]))\n",
    "# print('4thColMean:', np.nanmean(data[:,3]))\n",
    "\n",
    "display(mini := np.nanmin(data))\n",
    "Nixs = np.argwhere(np.isnan(data))\n",
    "for ni in Nixs:\n",
    "    data[ni[0], ni[1]] = mini\n",
    "data\n",
    "np.mean(data, axis=0).round(2)"
   ]
  },
  {
   "cell_type": "code",
   "execution_count": 35,
   "metadata": {},
   "outputs": [
    {
     "data": {
      "text/plain": [
       "array([-56, -19, -15,   4,  12,  22,  23,  27,  31,  34,  45,  56,  56,\n",
       "        61,  70,  90])"
      ]
     },
     "metadata": {},
     "output_type": "display_data"
    },
    {
     "data": {
      "text/plain": [
       "array([-56, -19, -15,   4,  12,  22,  23,  27,  31,  34,  45,  56,  56,\n",
       "        61,  70,  90])"
      ]
     },
     "metadata": {},
     "output_type": "display_data"
    },
    {
     "ename": "TypeError",
     "evalue": "'NoneType' object cannot be interpreted as an integer",
     "output_type": "error",
     "traceback": [
      "\u001b[1;31m---------------------------------------------------------------------------\u001b[0m",
      "\u001b[1;31mTypeError\u001b[0m                                 Traceback (most recent call last)",
      "Cell \u001b[1;32mIn[35], line 6\u001b[0m\n\u001b[0;32m      4\u001b[0m display(np\u001b[38;5;241m.\u001b[39msort(np\u001b[38;5;241m.\u001b[39mreshape(A, (\u001b[38;5;241m16\u001b[39m,))))\n\u001b[0;32m      5\u001b[0m \u001b[38;5;66;03m#                     np.sort(A).reshape(16,)     # BAD\u001b[39;00m\n\u001b[1;32m----> 6\u001b[0m \u001b[43mA\u001b[49m\u001b[38;5;241;43m.\u001b[39;49m\u001b[43msort\u001b[49m\u001b[43m(\u001b[49m\u001b[43maxis\u001b[49m\u001b[38;5;241;43m=\u001b[39;49m\u001b[38;5;28;43;01mNone\u001b[39;49;00m\u001b[43m)\u001b[49m\n\u001b[0;32m      7\u001b[0m A\n",
      "\u001b[1;31mTypeError\u001b[0m: 'NoneType' object cannot be interpreted as an integer"
     ]
    }
   ],
   "source": [
    "# Q4\n",
    "A = np.array([[12,34,-15,56], [23,22,90,-56], [4,-19,27,31], [45,56,61,70]])\n",
    "display(np.sort(A, axis=None))\n",
    "display(np.sort(np.reshape(A, (16,))))\n",
    "#                     np.sort(A).reshape(16,)     # BAD\n",
    "# A.sort(axis=None)\n",
    "# A"
   ]
  },
  {
   "cell_type": "code",
   "execution_count": null,
   "metadata": {},
   "outputs": [],
   "source": [
    "# Q5\n",
    "for null_pos in np.argwhere(np.isnan(data)):\n",
    "    # dataN[null_pos[0], null_pos[1]] = 1\n",
    "    pass\n",
    "\n",
    "np.isnan(dataN).sum()"
   ]
  },
  {
   "cell_type": "code",
   "execution_count": 31,
   "metadata": {},
   "outputs": [
    {
     "data": {
      "text/plain": [
       "array(['e_1', 'e_4', 'e_2', 'e_3'], dtype='<U11')"
      ]
     },
     "metadata": {},
     "output_type": "display_data"
    },
    {
     "data": {
      "text/plain": [
       "array([['e_1', '1'],\n",
       "       ['e_4', '2'],\n",
       "       ['e_2', '2'],\n",
       "       ['e_3', '3']], dtype='<U11')"
      ]
     },
     "metadata": {},
     "output_type": "display_data"
    },
    {
     "data": {
      "text/plain": [
       "array([[['e_1', '1'],\n",
       "        ['e_4', '2'],\n",
       "        ['e_2', '2'],\n",
       "        ['e_3', '3']]], dtype='<U11')"
      ]
     },
     "execution_count": 31,
     "metadata": {},
     "output_type": "execute_result"
    }
   ],
   "source": [
    "# Q6\n",
    "d = np.array([['e_1', 'e_4', 'e_2', 'e_3'], [1,2,2,3]])\n",
    "d\n",
    "display(d[0,:])\n",
    "display(np.stack((d[0],d[1]), axis=1))\n",
    "np.dstack((d[0],d[1]))\n",
    "# d[0,:] = np.chararray.strip(data[0,:], 'e_')\n",
    "# r_d = np.array((d[0,:],))"
   ]
  },
  {
   "cell_type": "markdown",
   "metadata": {},
   "source": [
    "## Some Questions - Exercises "
   ]
  },
  {
   "cell_type": "code",
   "execution_count": null,
   "metadata": {},
   "outputs": [],
   "source": [
    "# Q1 \n",
    "dataN0 = np.genfromtxt('Lending-Company-Numeric-Data-NAN.csv',\n",
    "                       delimiter=';',\n",
    "                       skip_header=1)\n",
    "np.isnan(dataN0).sum()"
   ]
  },
  {
   "cell_type": "code",
   "execution_count": null,
   "metadata": {},
   "outputs": [],
   "source": [
    "# Q3 Change NAN to min\n",
    "# display(c1_min := np.nanmin(dataN[:,0]))      # 1000.0\n",
    "display(c1b_min := np.nanmin(dataN[0:,:1]))\n",
    "print(np.isnan(dataN[0:,:1]).sum())\n",
    "# Imposible change NANs without indices\n",
    "for val in dataN[0:,:1]:\n",
    "    # if val == [np.nan]:\n",
    "    if np.isnan(val):\n",
    "        pass\n",
    "        # print(val)\n",
    "        # print(val, end=' - ')"
   ]
  },
  {
   "cell_type": "code",
   "execution_count": null,
   "metadata": {},
   "outputs": [],
   "source": [
    "# Q3 2nd col (col[1]) dataN mean -258.55\n",
    "print('1stColMean:', np.nanmean(dataN[:,0]))\n",
    "print('2ndColMean:', np.nanmean(dataN[:,1]))\n",
    "print('3thColMean:', np.nanmean(dataN[:,2]))\n",
    "print('4thColMean:', np.nanmean(dataN[:,3]))"
   ]
  },
  {
   "cell_type": "code",
   "execution_count": null,
   "metadata": {},
   "outputs": [],
   "source": [
    "# Q4 Sort a flattened version of the array - diff. alternatives\n",
    "A = np.array([[12,34,-15,56], [23,22,90,-56], [4,-19,27,31], [45,56,61,70]])\n",
    "display(np.sort(A, axis=None))\n",
    "display(np.sort(np.reshape(A, (16,))))\n",
    "#                     np.sort(A).reshape(16,)     # BAD"
   ]
  },
  {
   "cell_type": "code",
   "execution_count": null,
   "metadata": {},
   "outputs": [],
   "source": [
    "# Q5 Replace NANs with 1 - ELIMINATE NANs from 'dataN'\n",
    "for null_pos in np.argwhere(np.isnan(dataN)):\n",
    "    # dataN[null_pos[0], null_pos[1]] = 1\n",
    "    pass\n",
    "\n",
    "np.isnan(dataN).sum()"
   ]
  },
  {
   "cell_type": "code",
   "execution_count": null,
   "metadata": {},
   "outputs": [],
   "source": []
  },
  {
   "cell_type": "markdown",
   "metadata": {},
   "source": [
    "### 1. When using the np.sum() function on a boolean array returned by np.isnan(), the result will indicate the total number of missing values in the dataset.\n",
    "- True\n",
    "- Explanation: In NumPy, True can be represented with 1 and False can be represented with 0. Summing the boolean array returned by np.isnan() will count the number of True values, which corresponds to the number of missing values."
   ]
  },
  {
   "cell_type": "markdown",
   "metadata": {},
   "source": [
    "### 2. Filling missing values with the mean of the column will not change the overall mean of that column.\n",
    "- True\n",
    "- Explanation: Filling missing values with the mean of a column ensures that the overall mean remains unchanged. This method keeps the distribution of data consistent while handling missing values."
   ]
  },
  {
   "cell_type": "markdown",
   "metadata": {},
   "source": [
    "### 3. What does the np.where() function do?\n",
    "- It replaces values in an array based on a condition."
   ]
  },
  {
   "cell_type": "markdown",
   "metadata": {},
   "source": [
    "### 4. Setting axis=None in np.sort() on a 2D array will sort the flattened array and return a 1D array.\n",
    "- True "
   ]
  },
  {
   "cell_type": "markdown",
   "metadata": {},
   "source": [
    "### 5. Which of the following best describes the default behavior of np.sort() when sorting a 2D array?\n",
    "- It sorts each row of the array in ascending order.\n",
    "- Explanation: The default behavior of np.sort() on a 2D array is to sort each row (the last axis) individually in ascending order."
   ]
  },
  {
   "cell_type": "markdown",
   "metadata": {},
   "source": [
    "### 6. The np.argwhere() function returns the coordinates of all non-zero elements in a NumPy array by\n",
    "- True\n",
    "- Explanation: By default, np.argwhere() checks for non-zero elements in the array and returns their coordinates as indices in a 2D array."
   ]
  },
  {
   "cell_type": "markdown",
   "metadata": {},
   "source": [
    "### 7. When using np.random.shuffle() the function returns a new array without modifying the original array.\n",
    "- False\n",
    "- Explanation: np.random.shuffle() modifies the array in place, meaning it rearranges the rows of the dataset directly and does not return a new array."
   ]
  },
  {
   "cell_type": "markdown",
   "metadata": {},
   "source": [
    "### 8. You have a 2D array of float values and you want to cast them into integers. Complete the following code:\n"
   ]
  },
  {
   "cell_type": "code",
   "execution_count": null,
   "metadata": {},
   "outputs": [],
   "source": [
    "data = np.array([[1.2, 2.5, 3.1], [4.6, 5.8, 6.9]]) \n",
    "\n",
    "# Convert float values to integers\n",
    "int_data = data.astype(dtype = np.int32) \n",
    "print(int_data)"
   ]
  },
  {
   "cell_type": "code",
   "execution_count": null,
   "metadata": {},
   "outputs": [],
   "source": []
  },
  {
   "cell_type": "code",
   "execution_count": null,
   "metadata": {},
   "outputs": [],
   "source": []
  },
  {
   "cell_type": "code",
   "execution_count": null,
   "metadata": {},
   "outputs": [],
   "source": []
  },
  {
   "cell_type": "code",
   "execution_count": null,
   "metadata": {},
   "outputs": [],
   "source": []
  },
  {
   "cell_type": "markdown",
   "metadata": {},
   "source": [
    "## Some JM - Exercises"
   ]
  },
  {
   "cell_type": "code",
   "execution_count": null,
   "metadata": {},
   "outputs": [],
   "source": [
    "# 5. reshape function and method\n",
    "display(A := np.arange(1,7).reshape(2,3))\n",
    "np.reshape(A, (3,2))    # <- Inplace=False\n",
    "display(A)\n",
    "A.reshape(3,2)          # <- Inplace=False\n",
    "B = A.reshape(3,2) \n",
    "B"
   ]
  },
  {
   "cell_type": "code",
   "execution_count": null,
   "metadata": {},
   "outputs": [],
   "source": [
    "# 7. sort function and method\n",
    "display(C := np.arange(6,0,-1).reshape(2,3))\n",
    "display(np.sort(C))\n",
    "display(np.sort(C, axis=1))\n",
    "display(np.sort(C, axis=-1))    # sort rows\n",
    "C\n",
    "display(np.sort(C, axis=0))     # sort cols\n",
    "C\n",
    "display(C.sort())\n",
    "C"
   ]
  },
  {
   "cell_type": "code",
   "execution_count": null,
   "metadata": {},
   "outputs": [],
   "source": [
    "# sorting in descending order\n",
    "display(np.flip(np.sort(C)))\n",
    "display(C)\n",
    "-np.sort(-C)\n",
    "C"
   ]
  },
  {
   "cell_type": "code",
   "execution_count": null,
   "metadata": {},
   "outputs": [],
   "source": [
    "# Sorting letters in descending order\n",
    "lst = [chr(i) for i in range(100, 115)]\n",
    "display(L := np.array(lst).reshape(3,5))\n",
    "display(np.sort(L))\n",
    "np.flip(np.sort(L))\n",
    "# numpy.flip(m, axis=None)"
   ]
  },
  {
   "cell_type": "code",
   "execution_count": null,
   "metadata": {},
   "outputs": [],
   "source": [
    "# True - False element-wise letters\n",
    "display(L)\n",
    "L[0,3] = '' \n",
    "L[1,1] = 0\n",
    "L[2,4] = False\n",
    "display(L)\n",
    "display(L[L == True])\n",
    "display(L[L == False])\n",
    "display(L[L != False])"
   ]
  },
  {
   "cell_type": "code",
   "execution_count": null,
   "metadata": {},
   "outputs": [],
   "source": [
    "# True - False element-wise nums\n",
    "display(R := np.random.randn(15).round(2).reshape(3,5) * 17)\n",
    "R[0,3] = R[1,0] = R[2,4] = 0\n",
    "display(R)\n",
    "display(R[R == True])\n",
    "display(R[R == False])\n",
    "display(R[R != False])\n",
    "display(R[R != True])"
   ]
  },
  {
   "cell_type": "code",
   "execution_count": null,
   "metadata": {},
   "outputs": [],
   "source": [
    "# 10 .shuffle Gen method, inplace True, axis=0 rows default\n",
    "display(I := np.arange(18).reshape(3,6))\n",
    "\n",
    "from numpy.random import Generator as gen  \n",
    "from numpy.random import PCG64 as pcg \n",
    "\n",
    "array_RG = gen(pcg())\n",
    "array_RG.shuffle(I, axis=0)\n",
    "\n",
    "I\n"
   ]
  },
  {
   "cell_type": "code",
   "execution_count": 20,
   "metadata": {},
   "outputs": [],
   "source": [
    "# display(I := np.arange(18).reshape(3,6))\n",
    "# np.random.shuffle(I, axis=1)\n",
    "# I\n",
    "# # TypeError: shuffle() got an unexpected keyword argument 'axis'"
   ]
  },
  {
   "cell_type": "code",
   "execution_count": null,
   "metadata": {},
   "outputs": [],
   "source": [
    "# 11 .astype() method <- inplace False\n",
    "display(I := np.arange(18).reshape(3,6))\n",
    "display(I)\n",
    "display(I.astype(dtype=str))\n",
    "display(I)"
   ]
  },
  {
   "cell_type": "code",
   "execution_count": null,
   "metadata": {},
   "outputs": [],
   "source": [
    "## 13. The truth about the 'same' shape in stacks\n",
    "display(S := np.arange(24).reshape(4,6))\n",
    "display(S2r := S[[-1,-2]])\n",
    "# np.stack((S,S2r)) # ValueError: all input arrays must have the same shape\n",
    "# np.stack((S, S2r), axis=1)    # ValueError:\n",
    "\n",
    "np.vstack((S,S2r))  # OK!!"
   ]
  },
  {
   "cell_type": "code",
   "execution_count": null,
   "metadata": {},
   "outputs": [],
   "source": [
    "## 14. Concatenate - v-h stack <- dimensions\n",
    "display(S := np.arange(24).reshape(4,6))\n",
    "print(show_attr('S'))\n",
    "display(S2r := S[[-1,-2]])\n",
    "print(show_attr('S2r'))\n",
    "display(S2c := S[:,[2,1]])\n",
    "print(show_attr('S2c'))\n",
    "\n",
    "display(concat_r := np.concatenate((S, S2r)))\n",
    "print(show_attr('concat_r'))\n",
    "\n",
    "display(vstack := np.vstack((S, S2r)))\n",
    "print(show_attr('vstack'))\n",
    "\n",
    "display(stack_r := np.stack((S, S)))\n",
    "print(show_attr('stack_r'))\n",
    "\n",
    "display(concat_c := np.concatenate((S, S2c), axis=1))\n",
    "print(show_attr('concat_c'))\n",
    "\n",
    "display(hstack := np.hstack((S, S2c)))\n",
    "print(show_attr('hstack'))\n",
    "\n",
    "display(stack_c := np.stack((S, S), axis=1))\n",
    "print(show_attr('stack_c'))"
   ]
  }
 ],
 "metadata": {
  "kernelspec": {
   "display_name": "Python 3",
   "language": "python",
   "name": "python3"
  },
  "language_info": {
   "codemirror_mode": {
    "name": "ipython",
    "version": 3
   },
   "file_extension": ".py",
   "mimetype": "text/x-python",
   "name": "python",
   "nbconvert_exporter": "python",
   "pygments_lexer": "ipython3",
   "version": "3.11.0"
  }
 },
 "nbformat": 4,
 "nbformat_minor": 2
}

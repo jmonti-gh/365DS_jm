{
 "cells": [
  {
   "cell_type": "markdown",
   "metadata": {},
   "source": [
    "# 8 Data Manipulation with NumPy\n",
    "- Examine how to clean and preprocess data using NumPy.\n",
    "- Hoy to discover missing values (and fill them up).\n",
    "- Ways to remove irrelevant data.\n",
    "- sort(), shuffle(), reshape(), stack(), strip()\n",
    "## 8_1 Checking for Missing Values in Ndarrays"
   ]
  },
  {
   "cell_type": "markdown",
   "metadata": {},
   "source": [
    "#### numpy.isnan(x, /, out=None, *, where=True, casting='same_kind', order='K', dtype=None, subok=True[, signature]) = <ufunc 'isnan'>\n",
    "- Test element-wise for NaN and return result as a boolean array."
   ]
  },
  {
   "cell_type": "markdown",
   "metadata": {},
   "source": [
    "#### numpy.genfromtxt(fname, dtype=<class 'float'>, comments='#', delimiter=None, skip_header=0, skip_footer=0, converters=None, missing_values=None, filling_values=None, usecols=None, names=None, excludelist=None, deletechars=\" !#$%&'()*+, -./:;<=>?@[\\\\]^{|}~\", replace_space='_', autostrip=False, case_sensitive=True, defaultfmt='f%i', unpack=None, usemask=False, loose=True, invalid_raise=True, max_rows=None, encoding=None, *, ndmin=0, like=None)\n",
    "- **filling_values=** ; variable, optional; The set of values to be used as default when the data are missing.\n",
    "- Load data from a text file, with missing values handled as specified.\n",
    "- Each line past the first skip_header lines is split at the delimiter character, and characters following the comments character are discarded."
   ]
  },
  {
   "cell_type": "code",
   "execution_count": 15,
   "metadata": {},
   "outputs": [
    {
     "data": {
      "text/plain": [
       "'1.26.4'"
      ]
     },
     "execution_count": 15,
     "metadata": {},
     "output_type": "execute_result"
    }
   ],
   "source": [
    "import numpy as np\n",
    "np.__version__"
   ]
  },
  {
   "cell_type": "code",
   "execution_count": 16,
   "metadata": {},
   "outputs": [],
   "source": [
    "# Function show_attr\n",
    "\n",
    "def show_attr(arrnm: str) -> str:\n",
    "    strout = f' {arrnm}: '\n",
    "\n",
    "    for attr in ('shape', 'ndim', 'size', 'dtype'):     #, 'itemsize'):\n",
    "            arrnm_attr = arrnm + '.' + attr\n",
    "            strout += f'| {attr}: {eval(arrnm_attr)} '\n",
    "\n",
    "    return strout"
   ]
  },
  {
   "cell_type": "code",
   "execution_count": 17,
   "metadata": {},
   "outputs": [
    {
     "data": {
      "text/plain": [
       "' lend_co_data_num: | shape: (1043, 6) | ndim: 2 | size: 6258 | dtype: float64 '"
      ]
     },
     "metadata": {},
     "output_type": "display_data"
    },
    {
     "data": {
      "text/plain": [
       "array([[ 2000.,    40.,   365.,  3121.,  4241., 13621.],\n",
       "       [ 2000.,    40.,   365.,  3061.,  4171., 15041.],\n",
       "       [ 1000.,    40.,   365.,  2160.,  3280., 15340.],\n",
       "       ...,\n",
       "       [ 2000.,    40.,   365.,  4201.,  5001., 16600.],\n",
       "       [ 1000.,    40.,   365.,  2080.,  3320., 15600.],\n",
       "       [ 2000.,    40.,   365.,  4601.,  4601., 16600.]])"
      ]
     },
     "metadata": {},
     "output_type": "display_data"
    }
   ],
   "source": [
    "lend_co_data_num = np.loadtxt('Lending-Company-Numeric-Data.csv',\n",
    "                              delimiter=',')\n",
    "\n",
    "display(show_attr('lend_co_data_num'))\n",
    "# lend_co_data_num[[0,1,-2,-1]]\n",
    "display(lend_co_data_num)\n"
   ]
  },
  {
   "cell_type": "code",
   "execution_count": 18,
   "metadata": {},
   "outputs": [
    {
     "data": {
      "text/plain": [
       "array([[False, False, False, False, False, False],\n",
       "       [False, False, False, False, False, False],\n",
       "       [False, False, False, False, False, False],\n",
       "       ...,\n",
       "       [False, False, False, False, False, False],\n",
       "       [False, False, False, False, False, False],\n",
       "       [False, False, False, False, False, False]])"
      ]
     },
     "metadata": {},
     "output_type": "display_data"
    },
    {
     "data": {
      "text/plain": [
       "array([], dtype=bool)"
      ]
     },
     "metadata": {},
     "output_type": "display_data"
    },
    {
     "data": {
      "text/plain": [
       "array([False, False, False, ..., False, False, False])"
      ]
     },
     "metadata": {},
     "output_type": "display_data"
    },
    {
     "data": {
      "text/plain": [
       "0"
      ]
     },
     "metadata": {},
     "output_type": "display_data"
    },
    {
     "data": {
      "text/plain": [
       "array([0, 0, 0, 0, 0, 0])"
      ]
     },
     "metadata": {},
     "output_type": "display_data"
    },
    {
     "data": {
      "text/plain": [
       "0"
      ]
     },
     "metadata": {},
     "output_type": "display_data"
    },
    {
     "data": {
      "text/plain": [
       "array([0, 0, 0, 0, 0, 0])"
      ]
     },
     "metadata": {},
     "output_type": "display_data"
    },
    {
     "data": {
      "text/plain": [
       "array([0, 0, 0, ..., 0, 0, 0])"
      ]
     },
     "metadata": {},
     "output_type": "display_data"
    }
   ],
   "source": [
    "# Let's check is there are NANs values - np.isnan() -> elementwise\n",
    "# False equiv 0. True equiv 1. Any num != 0 equiv True\n",
    "\n",
    "dtset = lend_co_data_num\n",
    "\n",
    "display(np.isnan(dtset))\n",
    "display(np.isnan(dtset)[np.isnan(dtset) == True]) # jm\n",
    "display(np.isnan(dtset)[np.isnan(dtset) == False]) # jm\n",
    "display(np.isnan(dtset).sum())\n",
    "display(np.isnan(dtset).sum(axis=0))\n",
    "display(np.sum(np.isnan(dtset)))\n",
    "display(np.sum(np.isnan(dtset), axis=0))\n",
    "display(np.sum(np.isnan(dtset), axis=1))"
   ]
  },
  {
   "cell_type": "code",
   "execution_count": 19,
   "metadata": {},
   "outputs": [
    {
     "data": {
      "text/plain": [
       "' lend_co_data_num_NAN: | shape: (1043, 6) | ndim: 2 | size: 6258 | dtype: float64 '"
      ]
     },
     "metadata": {},
     "output_type": "display_data"
    },
    {
     "data": {
      "text/plain": [
       "array([[ 2000.,    40.,   365.,  3121.,  4241., 13621.],\n",
       "       [ 2000.,    40.,   365.,  3061.,  4171., 15041.],\n",
       "       [ 1000.,    40.,   365.,  2160.,  3280., 15340.],\n",
       "       ...,\n",
       "       [   nan,    40.,   365.,  4201.,  5001., 16600.],\n",
       "       [ 1000.,    40.,   365.,  2080.,  3320., 15600.],\n",
       "       [ 2000.,    40.,   365.,  4601.,  4601., 16600.]])"
      ]
     },
     "metadata": {},
     "output_type": "display_data"
    }
   ],
   "source": [
    "# Let's work with a dataset that contains NANs\n",
    "\n",
    "# lend_co_data_num_NAN = np.loadtxt('Lending-Company-Numeric-Data-NAN.csv',\n",
    "#                                     delimiter=';')\n",
    "# ValueError: could not convert string '' to float64 at row 11, column 4.\n",
    "\n",
    "lend_co_data_num_NAN = np.genfromtxt('Lending-Company-Numeric-Data-NAN.csv',\n",
    "                                     delimiter=';')\n",
    "\n",
    "display(show_attr('lend_co_data_num_NAN'))\n",
    "# lend_co_data_num[[0,1,-2,-1]]\n",
    "display(lend_co_data_num_NAN)"
   ]
  },
  {
   "cell_type": "code",
   "execution_count": 20,
   "metadata": {},
   "outputs": [
    {
     "data": {
      "text/plain": [
       "array([[False, False, False, False, False, False],\n",
       "       [False, False, False, False, False, False],\n",
       "       [False, False, False, False, False, False],\n",
       "       ...,\n",
       "       [ True, False, False, False, False, False],\n",
       "       [False, False, False, False, False, False],\n",
       "       [False, False, False, False, False, False]])"
      ]
     },
     "metadata": {},
     "output_type": "display_data"
    },
    {
     "data": {
      "text/plain": [
       "array([ True,  True,  True,  True,  True,  True,  True,  True,  True,\n",
       "        True,  True,  True,  True,  True,  True,  True,  True,  True,\n",
       "        True,  True,  True,  True,  True,  True,  True,  True,  True,\n",
       "        True,  True,  True,  True,  True,  True,  True,  True,  True,\n",
       "        True,  True,  True,  True,  True,  True,  True,  True,  True,\n",
       "        True,  True,  True,  True,  True,  True,  True,  True,  True,\n",
       "        True,  True,  True,  True,  True,  True,  True,  True,  True,\n",
       "        True,  True,  True,  True,  True,  True,  True,  True,  True,\n",
       "        True,  True,  True,  True,  True,  True,  True,  True,  True,\n",
       "        True,  True,  True,  True,  True,  True,  True,  True,  True,\n",
       "        True,  True,  True,  True,  True,  True,  True,  True,  True,\n",
       "        True,  True,  True,  True,  True,  True,  True,  True,  True,\n",
       "        True,  True,  True,  True,  True,  True,  True,  True,  True,\n",
       "        True,  True,  True,  True,  True,  True,  True,  True,  True,\n",
       "        True,  True,  True,  True,  True,  True,  True,  True,  True,\n",
       "        True,  True,  True,  True,  True,  True,  True,  True,  True,\n",
       "        True,  True,  True,  True,  True,  True,  True,  True,  True,\n",
       "        True,  True,  True,  True,  True,  True,  True,  True,  True,\n",
       "        True,  True,  True,  True,  True,  True,  True,  True,  True,\n",
       "        True,  True,  True,  True,  True,  True,  True,  True,  True,\n",
       "        True,  True,  True,  True,  True,  True,  True,  True,  True,\n",
       "        True,  True,  True,  True,  True,  True,  True,  True,  True,\n",
       "        True,  True,  True,  True,  True,  True,  True,  True,  True,\n",
       "        True,  True,  True,  True,  True,  True,  True,  True,  True,\n",
       "        True,  True,  True,  True,  True,  True,  True,  True,  True,\n",
       "        True,  True,  True,  True,  True,  True,  True,  True,  True,\n",
       "        True,  True,  True,  True,  True,  True,  True,  True,  True,\n",
       "        True,  True,  True,  True,  True,  True,  True,  True,  True,\n",
       "        True,  True,  True,  True,  True,  True,  True,  True])"
      ]
     },
     "metadata": {},
     "output_type": "display_data"
    },
    {
     "data": {
      "text/plain": [
       "array([False, False, False, ..., False, False, False])"
      ]
     },
     "metadata": {},
     "output_type": "display_data"
    },
    {
     "data": {
      "text/plain": [
       "260"
      ]
     },
     "metadata": {},
     "output_type": "display_data"
    },
    {
     "data": {
      "text/plain": [
       "array([34, 48, 52, 62, 38, 26])"
      ]
     },
     "metadata": {},
     "output_type": "display_data"
    },
    {
     "data": {
      "text/plain": [
       "260"
      ]
     },
     "metadata": {},
     "output_type": "display_data"
    },
    {
     "data": {
      "text/plain": [
       "array([34, 48, 52, 62, 38, 26])"
      ]
     },
     "metadata": {},
     "output_type": "display_data"
    },
    {
     "data": {
      "text/plain": [
       "array([0, 0, 0, ..., 1, 0, 0])"
      ]
     },
     "metadata": {},
     "output_type": "display_data"
    }
   ],
   "source": [
    "# Let's check is there are NANs values - np.isnan() -> elementwise\n",
    "# False equiv 0. True equiv 1. Any num != 0 equiv True\n",
    "dtset = lend_co_data_num_NAN\n",
    "\n",
    "display(np.isnan(dtset))\n",
    "display(np.isnan(dtset)[np.isnan(dtset) == True]) # jm\n",
    "display(np.isnan(dtset)[np.isnan(dtset) == False]) # jm\n",
    "display(np.isnan(dtset).sum())\n",
    "display(np.isnan(dtset).sum(axis=0))\n",
    "display(np.sum(np.isnan(dtset)))\n",
    "display(np.sum(np.isnan(dtset), axis=0))\n",
    "display(np.sum(np.isnan(dtset), axis=1))"
   ]
  },
  {
   "cell_type": "code",
   "execution_count": 21,
   "metadata": {},
   "outputs": [
    {
     "data": {
      "text/plain": [
       "64001.0"
      ]
     },
     "metadata": {},
     "output_type": "display_data"
    },
    {
     "data": {
      "text/plain": [
       "64002.0"
      ]
     },
     "metadata": {},
     "output_type": "display_data"
    },
    {
     "data": {
      "text/plain": [
       "' lend_co_data_num_NAN: | shape: (1043, 6) | ndim: 2 | size: 6258 | dtype: float64 '"
      ]
     },
     "metadata": {},
     "output_type": "display_data"
    },
    {
     "name": "stdout",
     "output_type": "stream",
     "text": [
      "[[2.0000e+03 4.0000e+01 3.6500e+02 3.1210e+03 4.2410e+03 1.3621e+04]\n",
      " [2.0000e+03 4.0000e+01 3.6500e+02 3.0610e+03 4.1710e+03 1.5041e+04]\n",
      " [1.0000e+03 4.0000e+01 3.6500e+02 2.1600e+03 3.2800e+03 1.5340e+04]\n",
      " ...\n",
      " [6.4002e+04 4.0000e+01 3.6500e+02 4.2010e+03 5.0010e+03 1.6600e+04]\n",
      " [1.0000e+03 4.0000e+01 3.6500e+02 2.0800e+03 3.3200e+03 1.5600e+04]\n",
      " [2.0000e+03 4.0000e+01 3.6500e+02 4.6010e+03 4.6010e+03 1.6600e+04]]\n"
     ]
    }
   ],
   "source": [
    "# We can user filling_values parameter of genfromtxt()\n",
    "# Not 0 or gusees value better grater than maximun of the dtset\n",
    "\n",
    "display(max_dtset:= np.nanmax(lend_co_data_num))\n",
    "display(temp_fill:= np.nanmax(lend_co_data_num_NAN).round(2) + 1)\n",
    "\n",
    "# Reload the dtset w/NANs changing NANs by temp_value\n",
    "lend_co_data_num_NAN = np.genfromtxt('Lending-Company-Numeric-Data-NAN.csv',\n",
    "                                     delimiter=';',\n",
    "                                     filling_values=temp_fill)\n",
    "\n",
    "display(show_attr('lend_co_data_num_NAN'))\n",
    "# lend_co_data_num[[0,1,-2,-1]]\n",
    "print(lend_co_data_num_NAN)"
   ]
  },
  {
   "cell_type": "code",
   "execution_count": 22,
   "metadata": {},
   "outputs": [
    {
     "data": {
      "text/plain": [
       "array([[False, False, False, False, False, False],\n",
       "       [False, False, False, False, False, False],\n",
       "       [False, False, False, False, False, False],\n",
       "       ...,\n",
       "       [False, False, False, False, False, False],\n",
       "       [False, False, False, False, False, False],\n",
       "       [False, False, False, False, False, False]])"
      ]
     },
     "metadata": {},
     "output_type": "display_data"
    },
    {
     "data": {
      "text/plain": [
       "array([], dtype=bool)"
      ]
     },
     "metadata": {},
     "output_type": "display_data"
    },
    {
     "data": {
      "text/plain": [
       "array([False, False, False, ..., False, False, False])"
      ]
     },
     "metadata": {},
     "output_type": "display_data"
    },
    {
     "data": {
      "text/plain": [
       "0"
      ]
     },
     "metadata": {},
     "output_type": "display_data"
    },
    {
     "data": {
      "text/plain": [
       "array([0, 0, 0, 0, 0, 0])"
      ]
     },
     "metadata": {},
     "output_type": "display_data"
    },
    {
     "data": {
      "text/plain": [
       "0"
      ]
     },
     "metadata": {},
     "output_type": "display_data"
    },
    {
     "data": {
      "text/plain": [
       "array([0, 0, 0, 0, 0, 0])"
      ]
     },
     "metadata": {},
     "output_type": "display_data"
    },
    {
     "data": {
      "text/plain": [
       "array([0, 0, 0, ..., 0, 0, 0])"
      ]
     },
     "metadata": {},
     "output_type": "display_data"
    }
   ],
   "source": [
    "# Check the NANs in recent loaded dtset\n",
    "dtset = lend_co_data_num_NAN\n",
    "\n",
    "display(np.isnan(dtset))\n",
    "display(np.isnan(dtset)[np.isnan(dtset) == True]) # jm\n",
    "display(np.isnan(dtset)[np.isnan(dtset) == False]) # jm\n",
    "display(np.isnan(dtset).sum())\n",
    "display(np.isnan(dtset).sum(axis=0))\n",
    "display(np.sum(np.isnan(dtset)))\n",
    "display(np.sum(np.isnan(dtset), axis=0))\n",
    "display(np.sum(np.isnan(dtset), axis=1))"
   ]
  },
  {
   "cell_type": "markdown",
   "metadata": {},
   "source": [
    "### Notes and Examples from the Manual - numpy.isnan()\n",
    "- NumPy uses the IEEE Standard for Binary Floating-Point for Arithmetic (IEEE 754). This means that Not a Number is not equivalent to infinity.\n",
    "- np.inf -> IEEE 754 floating point representation of (positive) infinity.\n",
    "- np.log() -> Natural logarithm (base e), element-wise. log(exp(x)) = x."
   ]
  },
  {
   "cell_type": "code",
   "execution_count": 23,
   "metadata": {},
   "outputs": [
    {
     "data": {
      "text/plain": [
       "True"
      ]
     },
     "metadata": {},
     "output_type": "display_data"
    },
    {
     "data": {
      "text/plain": [
       "False"
      ]
     },
     "metadata": {},
     "output_type": "display_data"
    }
   ],
   "source": [
    "display(np.isnan(np.nan))\n",
    "display(np.isnan(np.inf))"
   ]
  },
  {
   "cell_type": "code",
   "execution_count": 60,
   "metadata": {},
   "outputs": [
    {
     "name": "stdout",
     "output_type": "stream",
     "text": [
      "2.0\n",
      "7.3891\n"
     ]
    },
    {
     "name": "stderr",
     "output_type": "stream",
     "text": [
      "C:\\Users\\jm\\AppData\\Local\\Temp\\ipykernel_18604\\4254218528.py:5: RuntimeWarning: invalid value encountered in log\n",
      "  display(np.array([np.log(-1.),1.,np.log(0)]))\n",
      "C:\\Users\\jm\\AppData\\Local\\Temp\\ipykernel_18604\\4254218528.py:5: RuntimeWarning: divide by zero encountered in log\n",
      "  display(np.array([np.log(-1.),1.,np.log(0)]))\n"
     ]
    },
    {
     "data": {
      "text/plain": [
       "array([ nan,   1., -inf])"
      ]
     },
     "metadata": {},
     "output_type": "display_data"
    },
    {
     "name": "stderr",
     "output_type": "stream",
     "text": [
      "C:\\Users\\jm\\AppData\\Local\\Temp\\ipykernel_18604\\4254218528.py:7: RuntimeWarning: invalid value encountered in log\n",
      "  np.isnan([np.log(-1.),1.,np.log(0)])\n",
      "C:\\Users\\jm\\AppData\\Local\\Temp\\ipykernel_18604\\4254218528.py:7: RuntimeWarning: divide by zero encountered in log\n",
      "  np.isnan([np.log(-1.),1.,np.log(0)])\n"
     ]
    },
    {
     "data": {
      "text/plain": [
       "array([ True, False, False])"
      ]
     },
     "execution_count": 60,
     "metadata": {},
     "output_type": "execute_result"
    }
   ],
   "source": [
    "# e ** 2 = 7.3891 => log(7.3891) = 2 | e ** x = 7.3891 => log(e ** x) = log(7.3891) => x = 2\n",
    "print(np.log(7.3891).round(2))\n",
    "print(np.round(np.e ** 2, 4))\n",
    "\n",
    "display(np.array([np.log(-1.),1.,np.log(0)]))\n",
    "# np.log(-1) => NAN; np.log only to positive reals\n",
    "np.isnan([np.log(-1.),1.,np.log(0)])"
   ]
  },
  {
   "cell_type": "markdown",
   "metadata": {},
   "source": [
    "## Some Python cases of mod operator %"
   ]
  },
  {
   "cell_type": "code",
   "execution_count": 25,
   "metadata": {},
   "outputs": [
    {
     "name": "stdout",
     "output_type": "stream",
     "text": [
      " 0\n",
      "    1\n",
      "       2\n",
      "          3\n",
      "             4\n",
      "                5\n",
      " 0\n",
      "    1\n",
      "       2\n",
      "          3\n",
      "             4\n",
      "                5\n",
      " 0\n",
      "    1\n",
      "       2\n",
      "          3\n",
      "             4\n",
      "                5\n",
      " 0\n",
      "    1\n",
      "       2\n",
      "          3\n",
      "             4\n",
      "                5\n"
     ]
    }
   ],
   "source": [
    "for i in range(24):\n",
    "    print('   ' * (i % 6), i % 6)\n",
    "    # print(f\"{'   ' * (i % 5)}{i % 5}\")"
   ]
  },
  {
   "cell_type": "code",
   "execution_count": 26,
   "metadata": {},
   "outputs": [],
   "source": [
    "from time import sleep"
   ]
  },
  {
   "cell_type": "code",
   "execution_count": 27,
   "metadata": {},
   "outputs": [
    {
     "name": "stdout",
     "output_type": "stream",
     "text": [
      "4 - 3 - 2 - 1 - 0\n",
      "4 - 3 - 2 - 1 - 0\n",
      "4 - 3 - 2 - 1 - 0\n",
      "4 - 3 - 2 - 1 - 0\n"
     ]
    }
   ],
   "source": [
    "for i in range(19, -1, -1):\n",
    "    endln = ' - '\n",
    "    mod_5 = i % 5\n",
    "    if mod_5 == 0:\n",
    "        endln ='\\n'\n",
    "    print(mod_5, end=endln)\n"
   ]
  },
  {
   "cell_type": "code",
   "execution_count": 28,
   "metadata": {},
   "outputs": [
    {
     "name": "stdout",
     "output_type": "stream",
     "text": [
      "*"
     ]
    },
    {
     "name": "stdout",
     "output_type": "stream",
     "text": [
      "  *    *      *        *\n",
      "*  *    *      *        *\n",
      "*  *    *      *        *\n",
      "*  *    *      *        *\n"
     ]
    }
   ],
   "source": [
    "from time import sleep\n",
    "\n",
    "for i in range(20):\n",
    "    endln = ''\n",
    "    mod_5 = i % 5\n",
    "    if mod_5 == 4:\n",
    "        endln ='\\n'\n",
    "    print(f\"{'  ' * (mod_5)}*\", end= endln)\n",
    "    sleep(1)\n"
   ]
  },
  {
   "cell_type": "code",
   "execution_count": 29,
   "metadata": {},
   "outputs": [
    {
     "name": "stdout",
     "output_type": "stream",
     "text": [
      "T S R Q P\n",
      "O N M L K\n",
      "J I H G F\n",
      "E D C B A\n"
     ]
    }
   ],
   "source": [
    "letters = [chr(i) for i in range(65,85)]\n",
    "for i in range(19, -1, -1):\n",
    "    endln = ' '\n",
    "    mod_5 = i % 5\n",
    "    if mod_5 == 0:\n",
    "        endln ='\\n'\n",
    "    print(letters[i], end=endln)"
   ]
  }
 ],
 "metadata": {
  "kernelspec": {
   "display_name": "Python 3",
   "language": "python",
   "name": "python3"
  },
  "language_info": {
   "codemirror_mode": {
    "name": "ipython",
    "version": 3
   },
   "file_extension": ".py",
   "mimetype": "text/x-python",
   "name": "python",
   "nbconvert_exporter": "python",
   "pygments_lexer": "ipython3",
   "version": "3.11.0"
  }
 },
 "nbformat": 4,
 "nbformat_minor": 2
}

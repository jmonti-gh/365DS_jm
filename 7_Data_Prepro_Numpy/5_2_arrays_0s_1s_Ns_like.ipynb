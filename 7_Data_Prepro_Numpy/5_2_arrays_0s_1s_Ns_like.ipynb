{
 "cells": [
  {
   "cell_type": "markdown",
   "metadata": {},
   "source": [
    "# 5 Generating Data with Numpy\n",
    "# 5_2 ...'_like' functions in NumPy\n",
    "- np.empty_like(), np.zeros_like(), np.ones_like(), np.full_like()"
   ]
  },
  {
   "cell_type": "markdown",
   "metadata": {},
   "source": [
    "### Application of *zeros_like* in analysis?\n",
    "1. Starting point for a planner, where we keep track of how many times we´ve increased or decreased a certain element of an array.\n",
    "2. A form of 'switch' where we change the values from 0 to 1 (and back), depending on whether elements in certain positions are relevant to us or not.\n",
    "3. Really useful when working with dummy variables!\n",
    "4. The general gist of like functions is to create a second array in which we store a value for each element of the original one.\n",
    "5. Convenient when working with huge databases, since we can create equivalent 0-1 arrays and go through them much faster instead of loading up the entire datasets."
   ]
  },
  {
   "cell_type": "code",
   "execution_count": 20,
   "metadata": {},
   "outputs": [
    {
     "data": {
      "text/plain": [
       "'2.1.1'"
      ]
     },
     "execution_count": 20,
     "metadata": {},
     "output_type": "execute_result"
    }
   ],
   "source": [
    "import numpy as np\n",
    "np.__version__"
   ]
  },
  {
   "cell_type": "code",
   "execution_count": 21,
   "metadata": {},
   "outputs": [
    {
     "name": "stdout",
     "output_type": "stream",
     "text": [
      "int64\n"
     ]
    },
    {
     "data": {
      "text/plain": [
       "array([[ 1,  2,  3,  4,  5],\n",
       "       [10, 20, 30, 40, 50],\n",
       "       [91, 92, 93, 94, 95]])"
      ]
     },
     "execution_count": 21,
     "metadata": {},
     "output_type": "execute_result"
    }
   ],
   "source": [
    "A = np.array([[1,2,3,4,5], [10,20,30,40,50], [91,92,93,94,95]])\n",
    "print(A.dtype)\n",
    "A"
   ]
  },
  {
   "cell_type": "code",
   "execution_count": 22,
   "metadata": {},
   "outputs": [
    {
     "data": {
      "text/plain": [
       "array([[ 1.,  2.,  3.,  4.,  5.],\n",
       "       [10., 20., 30., 40., 50.],\n",
       "       [91., 92., 93., 94., 95.]], dtype=float16)"
      ]
     },
     "execution_count": 22,
     "metadata": {},
     "output_type": "execute_result"
    }
   ],
   "source": [
    "B = np.array([[1,2,3,4,5], [10,20,30,40,50], [91,92,93,94,95]], dtype=np.float16)\n",
    "B"
   ]
  },
  {
   "cell_type": "code",
   "execution_count": 23,
   "metadata": {},
   "outputs": [
    {
     "data": {
      "text/plain": [
       "array([['1', '2', '3', '4', '5'],\n",
       "       ['10', '20', '30', '40', '50'],\n",
       "       ['91', '92', '93', '94', '95']], dtype='<U2')"
      ]
     },
     "execution_count": 23,
     "metadata": {},
     "output_type": "execute_result"
    }
   ],
   "source": [
    "C = np.array([[1,2,3,4,5], [10,20,30,40,50], [91,92,93,94,95]], dtype=str)\n",
    "C"
   ]
  },
  {
   "cell_type": "code",
   "execution_count": 24,
   "metadata": {},
   "outputs": [
    {
     "name": "stdout",
     "output_type": "stream",
     "text": [
      "int64\n"
     ]
    },
    {
     "data": {
      "text/plain": [
       "array([[             27,   2865899595824,            1127,\n",
       "          2865899595952,              27],\n",
       "       [  2865899595856,            1131,   2865899595952,\n",
       "                     27,   2865899595888],\n",
       "       [             20, 140731134367752,               0,\n",
       "                      0,    158913789953]])"
      ]
     },
     "execution_count": 24,
     "metadata": {},
     "output_type": "execute_result"
    }
   ],
   "source": [
    "array_empty_like = np.empty_like(A)\n",
    "print(array_empty_like.dtype)\n",
    "array_empty_like"
   ]
  },
  {
   "cell_type": "code",
   "execution_count": 25,
   "metadata": {},
   "outputs": [
    {
     "data": {
      "text/plain": [
       "array([[0, 0, 0, 0, 0],\n",
       "       [0, 0, 0, 0, 0],\n",
       "       [0, 0, 0, 0, 0]])"
      ]
     },
     "execution_count": 25,
     "metadata": {},
     "output_type": "execute_result"
    }
   ],
   "source": [
    "array_zeros_like = np.zeros_like(A)\n",
    "array_zeros_like"
   ]
  },
  {
   "cell_type": "code",
   "execution_count": 26,
   "metadata": {},
   "outputs": [
    {
     "name": "stdout",
     "output_type": "stream",
     "text": [
      "int64\n"
     ]
    },
    {
     "data": {
      "text/plain": [
       "array([[1, 1, 1, 1, 1],\n",
       "       [1, 1, 1, 1, 1],\n",
       "       [1, 1, 1, 1, 1]])"
      ]
     },
     "execution_count": 26,
     "metadata": {},
     "output_type": "execute_result"
    }
   ],
   "source": [
    "array_ones_like = np.ones_like(A)\n",
    "print(array_ones_like.dtype)\n",
    "array_ones_like"
   ]
  },
  {
   "cell_type": "code",
   "execution_count": 27,
   "metadata": {},
   "outputs": [
    {
     "name": "stdout",
     "output_type": "stream",
     "text": [
      "float16\n"
     ]
    },
    {
     "data": {
      "text/plain": [
       "array([[1., 1., 1., 1., 1.],\n",
       "       [1., 1., 1., 1., 1.],\n",
       "       [1., 1., 1., 1., 1.]], dtype=float16)"
      ]
     },
     "execution_count": 27,
     "metadata": {},
     "output_type": "execute_result"
    }
   ],
   "source": [
    "array_ones_like = np.ones_like(B)\n",
    "print(array_ones_like.dtype)\n",
    "array_ones_like"
   ]
  },
  {
   "cell_type": "code",
   "execution_count": 28,
   "metadata": {},
   "outputs": [
    {
     "name": "stdout",
     "output_type": "stream",
     "text": [
      "<U2\n"
     ]
    },
    {
     "data": {
      "text/plain": [
       "array([['1', '1', '1', '1', '1'],\n",
       "       ['1', '1', '1', '1', '1'],\n",
       "       ['1', '1', '1', '1', '1']], dtype='<U2')"
      ]
     },
     "execution_count": 28,
     "metadata": {},
     "output_type": "execute_result"
    }
   ],
   "source": [
    "array_ones_like = np.ones_like(C)\n",
    "print(array_ones_like.dtype)\n",
    "array_ones_like"
   ]
  },
  {
   "cell_type": "code",
   "execution_count": 29,
   "metadata": {},
   "outputs": [
    {
     "name": "stdout",
     "output_type": "stream",
     "text": [
      "<U2\n"
     ]
    },
    {
     "data": {
      "text/plain": [
       "array([['2', '2', '2', '2', '2'],\n",
       "       ['2', '2', '2', '2', '2'],\n",
       "       ['2', '2', '2', '2', '2']], dtype='<U2')"
      ]
     },
     "execution_count": 29,
     "metadata": {},
     "output_type": "execute_result"
    }
   ],
   "source": [
    "array_full = np.full_like(C, fill_value=2)\n",
    "print(array_full.dtype)\n",
    "array_full"
   ]
  }
 ],
 "metadata": {
  "kernelspec": {
   "display_name": "Python 3",
   "language": "python",
   "name": "python3"
  },
  "language_info": {
   "codemirror_mode": {
    "name": "ipython",
    "version": 3
   },
   "file_extension": ".py",
   "mimetype": "text/x-python",
   "name": "python",
   "nbconvert_exporter": "python",
   "pygments_lexer": "ipython3",
   "version": "3.11.0"
  }
 },
 "nbformat": 4,
 "nbformat_minor": 2
}

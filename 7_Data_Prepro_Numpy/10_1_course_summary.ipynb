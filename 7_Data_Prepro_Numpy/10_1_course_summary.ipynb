{
 "cells": [
  {
   "cell_type": "markdown",
   "metadata": {},
   "source": [
    "# 7. Data Preprocessing with NumPy"
   ]
  },
  {
   "cell_type": "markdown",
   "metadata": {},
   "source": [
    "## Course Summary\n",
    "- Complete List of Functions and Methods learned.\n",
    "- List of Functions and Methods by section.\n",
    "- Some clear examples by section\n",
    "- Extra jm-tries."
   ]
  },
  {
   "cell_type": "markdown",
   "metadata": {},
   "source": [
    "## Complete List of Functions and Methods learned."
   ]
  },
  {
   "cell_type": "markdown",
   "metadata": {},
   "source": [
    "### 4. Working with Array\n",
    "1. __numpy.squeeze(a, axis=None)__\n",
    "   - Remove axes of length one from a.\n",
    "2. __ndarray.squeeze(axis=None)__\n",
    "   - Remove axes of length one from a."
   ]
  },
  {
   "cell_type": "markdown",
   "metadata": {},
   "source": [
    "### 5. Generating Data with NumPy\n",
    "1. __numpy.empyt(shape=, dtype=)__\n",
    "   - .ones(); .zeros(), .full(fill_value)\n",
    "2. __ndarray.empy_like(arr, dtype=)__\n",
    "   - ones_like(); zeros_like(), full_like(fill)\n",
    "3. __ Generator\n",
    "   - PCG64 bit generator | rg = gen(pcg(seed=42)); rg.normal(size=(3,5)) "
   ]
  },
  {
   "cell_type": "markdown",
   "metadata": {},
   "source": [
    "### 8. Data Manipulation with NumPy\n",
    "1. __np.loadtxt('filenm', delimiter=, dtype=, usecols=)__\n",
    "   - fails with missing vals (NANs)\n",
    "2. __np.isnan(arr)__ {ufunc}\n",
    "   - np.isnan().sum()\n",
    "3. __np.genfromtxt('filenm', delimiter=, filling_values=tmp)__\n",
    "    - dtype=float, usecols=None, skip_header or footer=0\n",
    "4. __np.where(condition, True, False)__\n",
    "5. __np.reshape()__ <- inplace Flase>\n",
    "    - add dims artificially -> np.reshape(1,1,3,5) + method\n",
    "6. __np.delete(arr, ixs, axis=None)__ <- inplace False>\n",
    "    - 2-D arr axis=0 row, axis=1 cols | .delete(.delete( axis=1) axis=0) cols and rows\n",
    "7. __np.sort(arr, axis=1)__ <- inplace False>\n",
    "    - -np.sort(-arr) <- descending | arr.sort() <- inplace True!! | axis=-1 default (en 2D is = 1 rows)\n",
    "8. __np.argsort(arr, axis=-1)__ <- inplace False>\n",
    "    - .argsort() method idem <- inplacer False>\n",
    "9.  __np.argwhere(arr)__ {arr or condition}\n",
    "    - indices of non-zero elements of arr | argwhere(isnan(a))\n",
    "10.  __np.shuffle(arr)__ <-inplace True> NO axis= (only rows)\n",
    "     - Also .shuffle(arr, axis=0) Generator method <-inplace True> | 2-D array axis=0 shuffle rows, axis=1 shuffle cols.\n",
    "11. np.astype() | <- inplace False> idem the .astype() method\n",
    "12. np.chararray.strip(arr, 'str') <- inplacer False>\n",
    "13. np.stack(arr, axis=0) <- inplace False>\n",
    "    - stack add 1Dim | .stack() SAME shape, .vstack() and .hstack() NO  | .dstack() depth\n",
    "14. __np.concatenate((tup_arrs), axis=0)__ <-inplace False>\n",
    "    - axis=0 > .vstack; axis=1 > .hstack; axis=2 > dstack\n",
    "15. __np.unique(arr, return_index=False, return_counts=False)__\n",
    "    - return unique values, ascending sorted"
   ]
  },
  {
   "cell_type": "markdown",
   "metadata": {},
   "source": [
    "### 0. Import Libraries, set np print options, and Functions"
   ]
  },
  {
   "cell_type": "code",
   "execution_count": 39,
   "metadata": {},
   "outputs": [
    {
     "data": {
      "text/plain": [
       "'1.26.4'"
      ]
     },
     "execution_count": 39,
     "metadata": {},
     "output_type": "execute_result"
    }
   ],
   "source": [
    "import numpy as np\n",
    "np.__version__\n",
    "# np.set_printoptions(suppress=True, linewidth=100, precision=2)"
   ]
  },
  {
   "cell_type": "code",
   "execution_count": 40,
   "metadata": {},
   "outputs": [],
   "source": [
    "# Function show_attr\n",
    "\n",
    "def show_attr(arrnm: str) -> str:\n",
    "    strout = f' {arrnm}: '\n",
    "\n",
    "    for attr in ('shape', 'ndim', 'size', 'dtype'):     #, 'itemsize'):\n",
    "            arrnm_attr = arrnm + '.' + attr\n",
    "            strout += f'| {attr}: {eval(arrnm_attr)} '\n",
    "\n",
    "    return strout"
   ]
  },
  {
   "cell_type": "markdown",
   "metadata": {},
   "source": [
    "### 1. Introduction to NumPy"
   ]
  },
  {
   "cell_type": "markdown",
   "metadata": {},
   "source": [
    "- 1/2. NumPy arrays allow for element-wise operations, leading to more efficient computations.\n",
    "- 2/2. NumPy is suitable for data analysis because it is not only stable but also offers shorter computation times due to its low-level language roots. > True <"
   ]
  },
  {
   "cell_type": "markdown",
   "metadata": {},
   "source": [
    "- 1/2. A 0-dimensional array is equivalent to a scalar value. | A 1-dimensional array can be thought of as a vector. | A 2-dimensional array in NumPy is similar to a matrix in linear algebra.\n",
    "- 2/2. A scalar is a single data point in NumPy, also known as a 0D array.\n",
    "    - A vector is a sequence of values, representing a 1D array.\n",
    "    - A 2D array in NumPy is equivalent to a matrix, consisting of rows and columns."
   ]
  },
  {
   "cell_type": "markdown",
   "metadata": {},
   "source": [
    "- 1/1. Press Shift + Tab after typing the function name -> check doc in Jupyter"
   ]
  },
  {
   "cell_type": "markdown",
   "metadata": {},
   "source": [
    "### 2. Why do we use NumPy"
   ]
  },
  {
   "cell_type": "markdown",
   "metadata": {},
   "source": [
    "- 1/1. Why was NumPy created?: There was a need for a unified array type."
   ]
  },
  {
   "cell_type": "markdown",
   "metadata": {},
   "source": [
    "- 1/2. Lists concatenate elements, while arrays perform element-wise addition.\n",
    "- /2. NumPy arrays have a .shape attribute, while Python lists do not <> True <>"
   ]
  },
  {
   "cell_type": "markdown",
   "metadata": {},
   "source": [
    "### 3. NumPy Fundamentals"
   ]
  },
  {
   "cell_type": "markdown",
   "metadata": {},
   "source": [
    "- 1/4 - element Indexing"
   ]
  },
  {
   "cell_type": "code",
   "execution_count": 41,
   "metadata": {},
   "outputs": [
    {
     "data": {
      "text/plain": [
       "6"
      ]
     },
     "execution_count": 41,
     "metadata": {},
     "output_type": "execute_result"
    }
   ],
   "source": [
    "array_a = np.array([[1, 2, 3], [4, 5, 6]])\n",
    "array_a[1, 2]                              # jm -> 6 np.int"
   ]
  },
  {
   "cell_type": "markdown",
   "metadata": {},
   "source": [
    "- 2/4. Negative indices in NumPy will result in IndexOutOfBounds error. <> FALSE <>\n",
    "- 3/4. In NumPy, indexing starts at 0 for both rows and columns.\n",
    "    - To retrieve an entire column in a 2D array, use a colon (:) in place of the row index. \n",
    "-4/4. NumPy uses zero-based indexing.\n",
    "    - NumPy allows negative indices.\n",
    "    - The shape of an array affects the number of indices you need to provide."
   ]
  },
  {
   "cell_type": "markdown",
   "metadata": {},
   "source": [
    "- 1/2. dtype Numeric ex. np.int32, np.float64 - Non-numeric: np.str, np.bool\n",
    "- 2/2. If an array is created in NumPy without explicitly specifying the data type, NumPy automatically assigns the smallest possible data type that can store the values in the array."
   ]
  },
  {
   "cell_type": "markdown",
   "metadata": {},
   "source": [
    "- 1/3. Elementwise multiplication between two NumPy arrays always requires the arrays to have the same dimensions. <> FALSE <>\n",
    "- 2/3. TypeCasting - dtype\n",
    "- 3/3. In NumPy, typecasting is performed only on the output of an operation (e.g. np.add()), not the inputs themselves. <> FALSE <>"
   ]
  },
  {
   "cell_type": "markdown",
   "metadata": {},
   "source": [
    "## 4. Working with Arrays"
   ]
  },
  {
   "cell_type": "markdown",
   "metadata": {},
   "source": [
    "- 3/8. In stepwise slicing, using a step of 0 will result in an error because it means no movement within the array.\n",
    "- 4/8. Conditional slicing in NumPy returns a one-dimensional array, even if the original array is multi-dimensional\n",
    "- 6/8. Either greater than 4 or are even? C[(C > 4) | (C % 2 == 0)]\n",
    "- 8/8. The NumPy squeeze() function removes all dimensions of size 1 from an array."
   ]
  },
  {
   "cell_type": "markdown",
   "metadata": {},
   "source": [
    "## 5. Generating Data with NumPy"
   ]
  },
  {
   "cell_type": "code",
   "execution_count": null,
   "metadata": {},
   "outputs": [],
   "source": []
  },
  {
   "cell_type": "markdown",
   "metadata": {},
   "source": [
    "## 6. Importing and Saving Data with Numpy"
   ]
  },
  {
   "cell_type": "code",
   "execution_count": null,
   "metadata": {},
   "outputs": [],
   "source": []
  },
  {
   "cell_type": "markdown",
   "metadata": {},
   "source": [
    "## 7. Statistics with NumPy"
   ]
  },
  {
   "cell_type": "code",
   "execution_count": null,
   "metadata": {},
   "outputs": [],
   "source": []
  },
  {
   "cell_type": "markdown",
   "metadata": {},
   "source": [
    "### 8. Data Manipulation with NumPy"
   ]
  },
  {
   "cell_type": "code",
   "execution_count": null,
   "metadata": {},
   "outputs": [],
   "source": []
  },
  {
   "cell_type": "markdown",
   "metadata": {},
   "source": [
    "## Xtra jm-tries "
   ]
  },
  {
   "cell_type": "code",
   "execution_count": 42,
   "metadata": {},
   "outputs": [
    {
     "data": {
      "text/plain": [
       "array([[ 0,  1,  2,  3,  4],\n",
       "       [ 5,  6,  7,  8,  9],\n",
       "       [10, 11, 12, 13, 14]])"
      ]
     },
     "metadata": {},
     "output_type": "display_data"
    },
    {
     "data": {
      "text/plain": [
       "array([[ 6,  7,  8],\n",
       "       [11, 12, 13]])"
      ]
     },
     "metadata": {},
     "output_type": "display_data"
    },
    {
     "data": {
      "text/plain": [
       "array([[13, 14]])"
      ]
     },
     "metadata": {},
     "output_type": "display_data"
    },
    {
     "data": {
      "text/plain": [
       "array([0, 1, 2, 3, 4])"
      ]
     },
     "metadata": {},
     "output_type": "display_data"
    },
    {
     "data": {
      "text/plain": [
       "array([ 0,  5, 10])"
      ]
     },
     "metadata": {},
     "output_type": "display_data"
    },
    {
     "data": {
      "text/plain": [
       "array([[0, 1, 2, 3, 4]])"
      ]
     },
     "metadata": {},
     "output_type": "display_data"
    }
   ],
   "source": [
    "# Basic slicing\n",
    "display(A := np.arange(15).reshape(3,5))\n",
    "display(A[1:, 1:4])\n",
    "display(A[2:, 3:])\n",
    "display(A[0])\n",
    "display(A[:,0])\n",
    "display(A[0:1])"
   ]
  },
  {
   "cell_type": "code",
   "execution_count": 43,
   "metadata": {},
   "outputs": [
    {
     "data": {
      "text/plain": [
       "array([[14, 11],\n",
       "       [ 9,  6],\n",
       "       [ 4,  1]])"
      ]
     },
     "execution_count": 43,
     "metadata": {},
     "output_type": "execute_result"
    }
   ],
   "source": [
    "# Stepwise slicing\n",
    "A[::-1, -1::-3]"
   ]
  },
  {
   "cell_type": "code",
   "execution_count": 44,
   "metadata": {},
   "outputs": [
    {
     "data": {
      "text/plain": [
       "array([[ 0,  1,  2,  3,  4],\n",
       "       [ 5,  6,  7,  8,  9],\n",
       "       [10, 11, 12, 13, 14]])"
      ]
     },
     "metadata": {},
     "output_type": "display_data"
    },
    {
     "data": {
      "text/plain": [
       "array([1, 3, 5, 7, 9])"
      ]
     },
     "metadata": {},
     "output_type": "display_data"
    },
    {
     "data": {
      "text/plain": [
       "array([[False, False, False, False, False],\n",
       "       [False, False, False, False, False],\n",
       "       [False, False, False, False, False]])"
      ]
     },
     "metadata": {},
     "output_type": "display_data"
    },
    {
     "data": {
      "text/plain": [
       "array([[ True, False, False, False,  True],\n",
       "       [False,  True, False,  True, False],\n",
       "       [False, False,  True, False, False]])"
      ]
     },
     "metadata": {},
     "output_type": "display_data"
    },
    {
     "data": {
      "text/plain": [
       "array([ 0,  4,  6,  8, 12])"
      ]
     },
     "metadata": {},
     "output_type": "display_data"
    },
    {
     "data": {
      "text/plain": [
       "array([ 0,  1,  2,  3,  4,  5,  6,  7,  8,  9, 10, 11, 12, 13, 14])"
      ]
     },
     "metadata": {},
     "output_type": "display_data"
    },
    {
     "data": {
      "text/plain": [
       "array([[[ 0,  1,  2,  3,  4],\n",
       "        [ 5,  6,  7,  8,  9],\n",
       "        [10, 11, 12, 13, 14]]])"
      ]
     },
     "metadata": {},
     "output_type": "display_data"
    },
    {
     "data": {
      "text/plain": [
       "array([], shape=(0, 3, 5), dtype=int32)"
      ]
     },
     "execution_count": 44,
     "metadata": {},
     "output_type": "execute_result"
    }
   ],
   "source": [
    "# Conditional slicing or bool indexing - Out 1D array\n",
    "display(A)\n",
    "display(A[(A % 2 != 0) & (A <= 9)])\n",
    "\n",
    "display(b_arr := np.zeros_like(A, dtype=bool))\n",
    "# b_arr[[0,1,2,1,0], [0,1,2,3,4]] = True\n",
    "b_arr[(0,1,2,1,0), [range(5)]] = True\n",
    "# b_arr[(0,1,2,1,0), (0,1,2,3,4)] = True\n",
    "display(b_arr)\n",
    "\n",
    "display(A[b_arr])    # Barre por filas \n",
    "\n",
    "b_arr[:] = True\n",
    "display(A[b_arr])\n",
    "display(A[True])\n",
    "A[False]"
   ]
  },
  {
   "cell_type": "code",
   "execution_count": 45,
   "metadata": {},
   "outputs": [
    {
     "data": {
      "text/plain": [
       "0"
      ]
     },
     "metadata": {},
     "output_type": "display_data"
    },
    {
     "name": "stdout",
     "output_type": "stream",
     "text": [
      "<class 'numpy.int32'>\n",
      " A[0,0]: | shape: () | ndim: 0 | size: 1 | dtype: int32 \n"
     ]
    },
    {
     "data": {
      "text/plain": [
       "array([[0]])"
      ]
     },
     "metadata": {},
     "output_type": "display_data"
    },
    {
     "name": "stdout",
     "output_type": "stream",
     "text": [
      "<class 'numpy.ndarray'>\n",
      " A[0:1,0:1]: | shape: (1, 1) | ndim: 2 | size: 1 | dtype: int32 \n"
     ]
    },
    {
     "data": {
      "text/plain": [
       "array(0)"
      ]
     },
     "metadata": {},
     "output_type": "display_data"
    },
    {
     "name": "stdout",
     "output_type": "stream",
     "text": [
      "<class 'numpy.ndarray'>\n",
      " A[0:1,0:1].squeeze(): | shape: () | ndim: 0 | size: 1 | dtype: int32 \n"
     ]
    }
   ],
   "source": [
    "# ndarray.squezze() - np.squeeze()\n",
    "display(A[0,0])\n",
    "print(type(A[0,0]))\n",
    "print(show_attr('A[0,0]'))\n",
    "\n",
    "display(A[0:1,0:1])\n",
    "print(type(A[0:1,0:1]))\n",
    "print(show_attr('A[0:1,0:1]'))\n",
    "\n",
    "display(A[0:1,0:1].squeeze())\n",
    "print(type(A[0:1,0:1].squeeze()))\n",
    "print(show_attr('A[0:1,0:1].squeeze()'))"
   ]
  }
 ],
 "metadata": {
  "kernelspec": {
   "display_name": "Python 3",
   "language": "python",
   "name": "python3"
  },
  "language_info": {
   "codemirror_mode": {
    "name": "ipython",
    "version": 3
   },
   "file_extension": ".py",
   "mimetype": "text/x-python",
   "name": "python",
   "nbconvert_exporter": "python",
   "pygments_lexer": "ipython3",
   "version": "3.11.4"
  }
 },
 "nbformat": 4,
 "nbformat_minor": 2
}

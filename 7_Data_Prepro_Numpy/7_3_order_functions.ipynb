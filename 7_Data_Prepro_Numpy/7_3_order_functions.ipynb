{
 "cells": [
  {
   "cell_type": "markdown",
   "metadata": {},
   "source": [
    "# 7 Statistics with NumPy\n",
    "## 7_3 Statitical Order Functions wth NumPy"
   ]
  },
  {
   "cell_type": "markdown",
   "metadata": {},
   "source": [
    "#### numpy.ptp(a, axis=None, out=None, keepdims=<no value>)\n",
    "- Range of values (maximum - minimum) along an axis.\n",
    "- The name of the function comes from the acronym for ‘peak to peak’."
   ]
  },
  {
   "cell_type": "markdown",
   "metadata": {},
   "source": [
    "#### numpy.percentile(a, q, axis=None, out=None, overwrite_input=False, method='linear', keepdims=False, *, weights=None, interpolation=None)\n",
    "- Compute the q-th percentile of the data along the specified axis.\n",
    "- Returns the q-th percentile(s) of the array elements.\n",
    "- El percentil es una medida de posición usada en estadística que indica, una vez ordenados los datos de menor a mayor, el valor de la variable por debajo del cual se encuentra un porcentaje dado de observaciones en un grupo"
   ]
  },
  {
   "cell_type": "markdown",
   "metadata": {},
   "source": [
    "#### numpy.quantile(a, q, axis=None, out=None, overwrite_input=False, method='linear', keepdims=False, *, weights=None, interpolation=None)\n",
    "- Compute the q-th quantile of the data along the specified axis."
   ]
  },
  {
   "cell_type": "code",
   "execution_count": 54,
   "metadata": {},
   "outputs": [
    {
     "data": {
      "text/plain": [
       "'2.1.1'"
      ]
     },
     "execution_count": 54,
     "metadata": {},
     "output_type": "execute_result"
    }
   ],
   "source": [
    "import numpy as np\n",
    "np.__version__"
   ]
  },
  {
   "cell_type": "code",
   "execution_count": 55,
   "metadata": {},
   "outputs": [],
   "source": [
    "# Functions\n",
    "\n",
    "def show_attr(arrnm: str) -> str:\n",
    "    strout = f' {arrnm}: '\n",
    "\n",
    "    for attr in ('shape', 'ndim', 'size', 'dtype'):     #, 'itemsize'):\n",
    "            arrnm_attr = arrnm + '.' + attr\n",
    "            strout += f'| {attr}: {eval(arrnm_attr)} '\n",
    "\n",
    "    return strout"
   ]
  },
  {
   "cell_type": "code",
   "execution_count": 56,
   "metadata": {},
   "outputs": [
    {
     "name": "stdout",
     "output_type": "stream",
     "text": [
      " A: | shape: (3, 5) | ndim: 2 | size: 15 | dtype: int64 \n"
     ]
    },
    {
     "data": {
      "text/plain": [
       "array([[1, 0, 0, 3, 1],\n",
       "       [3, 6, 6, 2, 9],\n",
       "       [4, 5, 3, 8, 0]])"
      ]
     },
     "execution_count": 56,
     "metadata": {},
     "output_type": "execute_result"
    }
   ],
   "source": [
    "A = np.array([[1,0,0,3,1],\n",
    "              [3,6,6,2,9],\n",
    "              [4,5,3,8,0]])\n",
    "\n",
    "print(show_attr('A'))\n",
    "A"
   ]
  },
  {
   "cell_type": "code",
   "execution_count": 57,
   "metadata": {},
   "outputs": [
    {
     "data": {
      "text/plain": [
       "np.int64(9)"
      ]
     },
     "metadata": {},
     "output_type": "display_data"
    },
    {
     "data": {
      "text/plain": [
       "np.int64(3)"
      ]
     },
     "metadata": {},
     "output_type": "display_data"
    },
    {
     "data": {
      "text/plain": [
       "array([3, 7, 8])"
      ]
     },
     "metadata": {},
     "output_type": "display_data"
    },
    {
     "data": {
      "text/plain": [
       "array([3, 6, 6, 6, 9])"
      ]
     },
     "metadata": {},
     "output_type": "display_data"
    },
    {
     "data": {
      "text/plain": [
       "' np.ptp(A, axis=0): | shape: (5,) | ndim: 1 | size: 5 | dtype: int64 '"
      ]
     },
     "execution_count": 57,
     "metadata": {},
     "output_type": "execute_result"
    }
   ],
   "source": [
    "# np.ptp() |  max() - min()\n",
    "#   Convenient and time saving using only one funct. instead of two\n",
    "display(np.ptp(A))          # Whole matrix\n",
    "display(np.ptp(A[0,:]))     # 1st row\n",
    "display(np.ptp(A, axis=1))  # .ptp() for each row\n",
    "display(np.ptp(A, axis=0))  # .ptp() for each column\n",
    "show_attr('np.ptp(A, axis=0)')"
   ]
  },
  {
   "cell_type": "code",
   "execution_count": 58,
   "metadata": {},
   "outputs": [
    {
     "name": "stdout",
     "output_type": "stream",
     "text": [
      " ptp_rows: | shape: (3,) | ndim: 1 | size: 3 | dtype: int64 \n",
      "\n"
     ]
    },
    {
     "data": {
      "text/plain": [
       "array([3, 7, 8])"
      ]
     },
     "execution_count": 58,
     "metadata": {},
     "output_type": "execute_result"
    }
   ],
   "source": [
    "ptp_rows = np.ptp(A, axis=1)\n",
    "print(show_attr('ptp_rows') + '\\n')\n",
    "ptp_rows"
   ]
  },
  {
   "cell_type": "code",
   "execution_count": 59,
   "metadata": {},
   "outputs": [
    {
     "name": "stdout",
     "output_type": "stream",
     "text": [
      " A: | shape: (3, 5) | ndim: 2 | size: 15 | dtype: int64 \n"
     ]
    },
    {
     "data": {
      "text/plain": [
       "array([0, 0, 0, 1, 1, 2, 3, 3, 3, 4, 5, 6, 6, 8, 9])"
      ]
     },
     "execution_count": 59,
     "metadata": {},
     "output_type": "execute_result"
    }
   ],
   "source": [
    "# Percentile: a value that is grater than the corresponding % of\n",
    "# the dataset. Ex. the 70-th percentile is grater than the 70%\n",
    "# of the data. Or we're 70% through a sorted version of the array\n",
    "# (in increasing order)\n",
    "\n",
    "print(show_attr('A'))               # size = num of elements\n",
    "A_sorted = np.sort(A, axis=None)    # Sorting the array in a flatten view\n",
    "A_sorted"
   ]
  },
  {
   "cell_type": "code",
   "execution_count": 60,
   "metadata": {},
   "outputs": [
    {
     "data": {
      "text/plain": [
       "np.float64(4.799999999999999)"
      ]
     },
     "execution_count": 60,
     "metadata": {},
     "output_type": "execute_result"
    }
   ],
   "source": [
    "# Calculate the 70-th percentile\n",
    "np.percentile(A, 70)"
   ]
  },
  {
   "cell_type": "code",
   "execution_count": 61,
   "metadata": {},
   "outputs": [
    {
     "name": "stdout",
     "output_type": "stream",
     "text": [
      "10.5\n",
      "4 5\n"
     ]
    }
   ],
   "source": [
    "# Let's check: we have 15 elements; 70-th percentile = 15 * 70 / 100\n",
    "position_70th = 15 * 70 / 100\n",
    "print(position_70th)                # 10.5\n",
    "\n",
    "# Somewhere between 10th and 11th elements of the flattened array\n",
    "print(A_sorted[9], A_sorted[10])    # Elements in pos 10 and 11"
   ]
  },
  {
   "cell_type": "code",
   "execution_count": 62,
   "metadata": {},
   "outputs": [
    {
     "data": {
      "text/plain": [
       "np.float64(4.5)"
      ]
     },
     "execution_count": 62,
     "metadata": {},
     "output_type": "execute_result"
    }
   ],
   "source": [
    "# The percentile is somewhere in between. In cases like this where\n",
    "# the percentile is between two values of the dateset, it's up to\n",
    "# us to decide haw to compute it. The default for this funct. is to\n",
    "# use linear interpolation which creates a number that is some fraction\n",
    "# of the way between (in this case), 4 and 5.\n",
    "\n",
    "# Outcome halfway between the two values:\n",
    "np.percentile(A, 70, interpolation='midpoint')"
   ]
  },
  {
   "cell_type": "code",
   "execution_count": 63,
   "metadata": {},
   "outputs": [
    {
     "data": {
      "text/plain": [
       "np.int64(4)"
      ]
     },
     "metadata": {},
     "output_type": "display_data"
    },
    {
     "data": {
      "text/plain": [
       "np.int64(5)"
      ]
     },
     "execution_count": 63,
     "metadata": {},
     "output_type": "execute_result"
    }
   ],
   "source": [
    "# Choosing  from the dataset\n",
    "display(np.percentile(A, 70, interpolation='lower'))\n",
    "np.percentile(A, 70, interpolation='higher')"
   ]
  },
  {
   "cell_type": "code",
   "execution_count": 64,
   "metadata": {},
   "outputs": [
    {
     "data": {
      "text/plain": [
       "np.int64(5)"
      ]
     },
     "execution_count": 64,
     "metadata": {},
     "output_type": "execute_result"
    }
   ],
   "source": [
    "# Closer to an existing value on the dataset\n",
    "np.percentile(A, 70, interpolation='nearest')\n",
    "# The recommended. Value exist and result is the same dtype"
   ]
  },
  {
   "cell_type": "code",
   "execution_count": 65,
   "metadata": {},
   "outputs": [
    {
     "data": {
      "text/plain": [
       "np.float64(3.0)"
      ]
     },
     "metadata": {},
     "output_type": "display_data"
    },
    {
     "data": {
      "text/plain": [
       "np.float64(3.0)"
      ]
     },
     "metadata": {},
     "output_type": "display_data"
    },
    {
     "data": {
      "text/plain": [
       "np.int64(3)"
      ]
     },
     "execution_count": 65,
     "metadata": {},
     "output_type": "execute_result"
    }
   ],
   "source": [
    "# 50-th percentile is the median of the set.\n",
    "# Median: value positioned in the middle of a sorted dataset\n",
    "display(np.percentile(A, 50))\n",
    "display(np.median(A))\n",
    "np.percentile(A, 50, interpolation='nearest')"
   ]
  },
  {
   "cell_type": "code",
   "execution_count": 66,
   "metadata": {},
   "outputs": [
    {
     "data": {
      "text/plain": [
       "np.int64(0)"
      ]
     },
     "metadata": {},
     "output_type": "display_data"
    },
    {
     "data": {
      "text/plain": [
       "np.int64(0)"
      ]
     },
     "metadata": {},
     "output_type": "display_data"
    },
    {
     "data": {
      "text/plain": [
       "np.int64(9)"
      ]
     },
     "metadata": {},
     "output_type": "display_data"
    },
    {
     "data": {
      "text/plain": [
       "np.int64(9)"
      ]
     },
     "metadata": {},
     "output_type": "display_data"
    }
   ],
   "source": [
    "# 0-th or 100-th: the minimum and the maximum respectively.\n",
    "display(np.percentile(A, 0, interpolation='nearest'))\n",
    "display(np.min(A))\n",
    "display(np.percentile(A, 100, interpolation='nearest'))\n",
    "display(np.max(A))"
   ]
  },
  {
   "cell_type": "code",
   "execution_count": 67,
   "metadata": {},
   "outputs": [
    {
     "data": {
      "text/plain": [
       "np.float64(4.799999999999999)"
      ]
     },
     "metadata": {},
     "output_type": "display_data"
    },
    {
     "data": {
      "text/plain": [
       "np.float64(4.799999999999999)"
      ]
     },
     "metadata": {},
     "output_type": "display_data"
    },
    {
     "data": {
      "text/plain": [
       "np.int64(5)"
      ]
     },
     "metadata": {},
     "output_type": "display_data"
    },
    {
     "data": {
      "text/plain": [
       "np.int64(5)"
      ]
     },
     "metadata": {},
     "output_type": "display_data"
    }
   ],
   "source": [
    "# Quantiles: express what part of the set we've covered\n",
    "# A value tha is grater than the corresponding part of the dataset\n",
    "display(np.percentile(A, 70))\n",
    "display(np.quantile(A, 0.7))\n",
    "display(np.percentile(A, 70, interpolation='nearest'))\n",
    "display(np.quantile(A, 0.7, interpolation='nearest'))"
   ]
  },
  {
   "cell_type": "markdown",
   "metadata": {},
   "source": [
    "Statistics - Order statistics\n",
    "\n",
    "ptp(a[, axis, out, keepdims])\n",
    "Range of values (maximum - minimum) along an axis.\n",
    "\n",
    "percentile(a, q[, axis, out, ...])\n",
    "Compute the q-th percentile of the data along the specified axis.\n",
    "\n",
    "nanpercentile(a, q[, axis, out, ...])\n",
    "Compute the qth percentile of the data along the specified axis, while ignoring nan values.\n",
    "\n",
    "quantile(a, q[, axis, out, overwrite_input, ...])\n",
    "Compute the q-th quantile of the data along the specified axis.\n",
    "\n",
    "nanquantile(a, q[, axis, out, ...])\n",
    "Compute the qth quantile of the data along the specified axis, while ignoring nan values."
   ]
  }
 ],
 "metadata": {
  "kernelspec": {
   "display_name": "Python 3",
   "language": "python",
   "name": "python3"
  },
  "language_info": {
   "codemirror_mode": {
    "name": "ipython",
    "version": 3
   },
   "file_extension": ".py",
   "mimetype": "text/x-python",
   "name": "python",
   "nbconvert_exporter": "python",
   "pygments_lexer": "ipython3",
   "version": "3.11.0"
  }
 },
 "nbformat": 4,
 "nbformat_minor": 2
}

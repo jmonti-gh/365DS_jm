{
 "cells": [
  {
   "cell_type": "markdown",
   "metadata": {},
   "source": [
    "# 6 Importing and Saving Data with NumPy\n",
    "## 6_6 numpy.savetxt\n",
    "- numpy.savetxt(fname, X, fmt='%.18e', delimiter=' ', newline='\\n', header='', footer='', comments='# ', encoding=None)\n",
    "\n",
    "- Save an array to a text file."
   ]
  },
  {
   "cell_type": "code",
   "execution_count": 36,
   "metadata": {},
   "outputs": [
    {
     "data": {
      "text/plain": [
       "'1.26.2'"
      ]
     },
     "execution_count": 36,
     "metadata": {},
     "output_type": "execute_result"
    }
   ],
   "source": [
    "import numpy as np\n",
    "np.__version__"
   ]
  },
  {
   "cell_type": "code",
   "execution_count": 37,
   "metadata": {},
   "outputs": [
    {
     "name": "stdout",
     "output_type": "stream",
     "text": [
      "\u001b[1;31mSignature:\u001b[0m      \n",
      "\u001b[0mnp\u001b[0m\u001b[1;33m.\u001b[0m\u001b[0msavetxt\u001b[0m\u001b[1;33m(\u001b[0m\u001b[1;33m\n",
      "\u001b[0m    \u001b[0mfname\u001b[0m\u001b[1;33m,\u001b[0m\u001b[1;33m\n",
      "\u001b[0m    \u001b[0mX\u001b[0m\u001b[1;33m,\u001b[0m\u001b[1;33m\n",
      "\u001b[0m    \u001b[0mfmt\u001b[0m\u001b[1;33m=\u001b[0m\u001b[1;34m'%.18e'\u001b[0m\u001b[1;33m,\u001b[0m\u001b[1;33m\n",
      "\u001b[0m    \u001b[0mdelimiter\u001b[0m\u001b[1;33m=\u001b[0m\u001b[1;34m' '\u001b[0m\u001b[1;33m,\u001b[0m\u001b[1;33m\n",
      "\u001b[0m    \u001b[0mnewline\u001b[0m\u001b[1;33m=\u001b[0m\u001b[1;34m'\\n'\u001b[0m\u001b[1;33m,\u001b[0m\u001b[1;33m\n",
      "\u001b[0m    \u001b[0mheader\u001b[0m\u001b[1;33m=\u001b[0m\u001b[1;34m''\u001b[0m\u001b[1;33m,\u001b[0m\u001b[1;33m\n",
      "\u001b[0m    \u001b[0mfooter\u001b[0m\u001b[1;33m=\u001b[0m\u001b[1;34m''\u001b[0m\u001b[1;33m,\u001b[0m\u001b[1;33m\n",
      "\u001b[0m    \u001b[0mcomments\u001b[0m\u001b[1;33m=\u001b[0m\u001b[1;34m'# '\u001b[0m\u001b[1;33m,\u001b[0m\u001b[1;33m\n",
      "\u001b[0m    \u001b[0mencoding\u001b[0m\u001b[1;33m=\u001b[0m\u001b[1;32mNone\u001b[0m\u001b[1;33m,\u001b[0m\u001b[1;33m\n",
      "\u001b[0m\u001b[1;33m)\u001b[0m\u001b[1;33m\u001b[0m\u001b[1;33m\u001b[0m\u001b[0m\n",
      "\u001b[1;31mCall signature:\u001b[0m  \u001b[0mnp\u001b[0m\u001b[1;33m.\u001b[0m\u001b[0msavetxt\u001b[0m\u001b[1;33m(\u001b[0m\u001b[1;33m*\u001b[0m\u001b[0margs\u001b[0m\u001b[1;33m,\u001b[0m \u001b[1;33m**\u001b[0m\u001b[0mkwargs\u001b[0m\u001b[1;33m)\u001b[0m\u001b[1;33m\u001b[0m\u001b[1;33m\u001b[0m\u001b[0m\n",
      "\u001b[1;31mType:\u001b[0m            _ArrayFunctionDispatcher\n",
      "\u001b[1;31mString form:\u001b[0m     <function savetxt at 0x000002262C960680>\n",
      "\u001b[1;31mFile:\u001b[0m            c:\\users\\jmonti\\appdata\\local\\programs\\python\\python311\\lib\\site-packages\\numpy\\lib\\npyio.py\n",
      "\u001b[1;31mDocstring:\u001b[0m      \n",
      "Save an array to a text file.\n",
      "\n",
      "Parameters\n",
      "----------\n",
      "fname : filename or file handle\n",
      "    If the filename ends in ``.gz``, the file is automatically saved in\n",
      "    compressed gzip format.  `loadtxt` understands gzipped files\n",
      "    transparently.\n",
      "X : 1D or 2D array_like\n",
      "    Data to be saved to a text file.\n",
      "fmt : str or sequence of strs, optional\n",
      "    A single format (%10.5f), a sequence of formats, or a\n",
      "    multi-format string, e.g. 'Iteration %d -- %10.5f', in which\n",
      "    case `delimiter` is ignored. For complex `X`, the legal options\n",
      "    for `fmt` are:\n",
      "\n",
      "    * a single specifier, `fmt='%.4e'`, resulting in numbers formatted\n",
      "      like `' (%s+%sj)' % (fmt, fmt)`\n",
      "    * a full string specifying every real and imaginary part, e.g.\n",
      "      `' %.4e %+.4ej %.4e %+.4ej %.4e %+.4ej'` for 3 columns\n",
      "    * a list of specifiers, one per column - in this case, the real\n",
      "      and imaginary part must have separate specifiers,\n",
      "      e.g. `['%.3e + %.3ej', '(%.15e%+.15ej)']` for 2 columns\n",
      "delimiter : str, optional\n",
      "    String or character separating columns.\n",
      "newline : str, optional\n",
      "    String or character separating lines.\n",
      "\n",
      "    .. versionadded:: 1.5.0\n",
      "header : str, optional\n",
      "    String that will be written at the beginning of the file.\n",
      "\n",
      "    .. versionadded:: 1.7.0\n",
      "footer : str, optional\n",
      "    String that will be written at the end of the file.\n",
      "\n",
      "    .. versionadded:: 1.7.0\n",
      "comments : str, optional\n",
      "    String that will be prepended to the ``header`` and ``footer`` strings,\n",
      "    to mark them as comments. Default: '# ',  as expected by e.g.\n",
      "    ``numpy.loadtxt``.\n",
      "\n",
      "    .. versionadded:: 1.7.0\n",
      "encoding : {None, str}, optional\n",
      "    Encoding used to encode the outputfile. Does not apply to output\n",
      "    streams. If the encoding is something other than 'bytes' or 'latin1'\n",
      "    you will not be able to load the file in NumPy versions < 1.14. Default\n",
      "    is 'latin1'.\n",
      "\n",
      "    .. versionadded:: 1.14.0\n",
      "\n",
      "\n",
      "See Also\n",
      "--------\n",
      "save : Save an array to a binary file in NumPy ``.npy`` format\n",
      "savez : Save several arrays into an uncompressed ``.npz`` archive\n",
      "savez_compressed : Save several arrays into a compressed ``.npz`` archive\n",
      "\n",
      "Notes\n",
      "-----\n",
      "Further explanation of the `fmt` parameter\n",
      "(``%[flag]width[.precision]specifier``):\n",
      "\n",
      "flags:\n",
      "    ``-`` : left justify\n",
      "\n",
      "    ``+`` : Forces to precede result with + or -.\n",
      "\n",
      "    ``0`` : Left pad the number with zeros instead of space (see width).\n",
      "\n",
      "width:\n",
      "    Minimum number of characters to be printed. The value is not truncated\n",
      "    if it has more characters.\n",
      "\n",
      "precision:\n",
      "    - For integer specifiers (eg. ``d,i,o,x``), the minimum number of\n",
      "      digits.\n",
      "    - For ``e, E`` and ``f`` specifiers, the number of digits to print\n",
      "      after the decimal point.\n",
      "    - For ``g`` and ``G``, the maximum number of significant digits.\n",
      "    - For ``s``, the maximum number of characters.\n",
      "\n",
      "specifiers:\n",
      "    ``c`` : character\n",
      "\n",
      "    ``d`` or ``i`` : signed decimal integer\n",
      "\n",
      "    ``e`` or ``E`` : scientific notation with ``e`` or ``E``.\n",
      "\n",
      "    ``f`` : decimal floating point\n",
      "\n",
      "    ``g,G`` : use the shorter of ``e,E`` or ``f``\n",
      "\n",
      "    ``o`` : signed octal\n",
      "\n",
      "    ``s`` : string of characters\n",
      "\n",
      "    ``u`` : unsigned decimal integer\n",
      "\n",
      "    ``x,X`` : unsigned hexadecimal integer\n",
      "\n",
      "This explanation of ``fmt`` is not complete, for an exhaustive\n",
      "specification see [1]_.\n",
      "\n",
      "References\n",
      "----------\n",
      ".. [1] `Format Specification Mini-Language\n",
      "       <https://docs.python.org/library/string.html#format-specification-mini-language>`_,\n",
      "       Python Documentation.\n",
      "\n",
      "Examples\n",
      "--------\n",
      ">>> x = y = z = np.arange(0.0,5.0,1.0)\n",
      ">>> np.savetxt('test.out', x, delimiter=',')   # X is an array\n",
      ">>> np.savetxt('test.out', (x,y,z))   # x,y,z equal sized 1D arrays\n",
      ">>> np.savetxt('test.out', x, fmt='%1.4e')   # use exponential notation\n",
      "\u001b[1;31mClass docstring:\u001b[0m\n",
      "Class to wrap functions with checks for __array_function__ overrides.\n",
      "\n",
      "All arguments are required, and can only be passed by position.\n",
      "\n",
      "Parameters\n",
      "----------\n",
      "dispatcher : function or None\n",
      "    The dispatcher function that returns a single sequence-like object\n",
      "    of all arguments relevant.  It must have the same signature (except\n",
      "    the default values) as the actual implementation.\n",
      "    If ``None``, this is a ``like=`` dispatcher and the\n",
      "    ``_ArrayFunctionDispatcher`` must be called with ``like`` as the\n",
      "    first (additional and positional) argument.\n",
      "implementation : function\n",
      "    Function that implements the operation on NumPy arrays without\n",
      "    overrides.  Arguments passed calling the ``_ArrayFunctionDispatcher``\n",
      "    will be forwarded to this (and the ``dispatcher``) as if using\n",
      "    ``*args, **kwargs``.\n",
      "\n",
      "Attributes\n",
      "----------\n",
      "_implementation : function\n",
      "    The original implementation passed in."
     ]
    }
   ],
   "source": [
    "np.savetxt?"
   ]
  },
  {
   "cell_type": "code",
   "execution_count": 38,
   "metadata": {},
   "outputs": [],
   "source": [
    "# Functions\n",
    "\n",
    "def show_attr(arrnm: str) -> str:\n",
    "    strout = f' {arrnm}: '\n",
    "\n",
    "    for attr in ('shape', 'ndim', 'size', 'dtype', 'itemsize'):\n",
    "            arrnm_attr = arrnm + '.' + attr\n",
    "            strout += f'| {attr}: {eval(arrnm_attr)} '\n",
    "\n",
    "    return strout"
   ]
  },
  {
   "cell_type": "code",
   "execution_count": 39,
   "metadata": {},
   "outputs": [
    {
     "name": "stdout",
     "output_type": "stream",
     "text": [
      " lending_co: | shape: (1044, 7) | ndim: 2 | size: 7308 | dtype: <U14 | itemsize: 56 \n",
      "\n",
      "[['LoanID' 'StringID' 'Product' ... 'Location' 'Region' 'TotalPrice']\n",
      " ['1' 'id_1' 'Product B' ... 'Location 2' 'Region 2' '16600.0']\n",
      " ['2' 'id_2' 'Product B' ... 'Location 3' '' '16600.0']\n",
      " ...\n",
      " ['1041' 'id_1041' 'Product B' ... 'Location 23' 'Region 4' '16600.0']\n",
      " ['1042' 'id_1042' 'Product C' ... 'Location 52' 'Region 6' '15600.0']\n",
      " ['1043' 'id_1043' 'Product B' ... 'Location 142' 'Region 6' '16600.0']]\n"
     ]
    }
   ],
   "source": [
    "lending_co = np.load('lending-Co-Dtset.npy')\n",
    "\n",
    "print(show_attr('lending_co') + '\\n')\n",
    "\n",
    "print(lending_co)"
   ]
  },
  {
   "cell_type": "code",
   "execution_count": 40,
   "metadata": {},
   "outputs": [],
   "source": [
    "np.savetxt('arr_savetxt.csv', lending_co, fmt='%s', delimiter='|')"
   ]
  },
  {
   "cell_type": "code",
   "execution_count": 41,
   "metadata": {},
   "outputs": [
    {
     "name": "stdout",
     "output_type": "stream",
     "text": [
      " arr_loaded: | shape: (1044, 7) | ndim: 2 | size: 7308 | dtype: float64 | itemsize: 8 \n",
      "\n"
     ]
    },
    {
     "data": {
      "text/plain": [
       "array([[      nan,       nan,       nan, ...,       nan,       nan,\n",
       "              nan],\n",
       "       [1.000e+00,       nan,       nan, ...,       nan,       nan,\n",
       "        1.660e+04],\n",
       "       [2.000e+00,       nan,       nan, ...,       nan,       nan,\n",
       "        1.660e+04],\n",
       "       ...,\n",
       "       [1.041e+03,       nan,       nan, ...,       nan,       nan,\n",
       "        1.660e+04],\n",
       "       [1.042e+03,       nan,       nan, ...,       nan,       nan,\n",
       "        1.560e+04],\n",
       "       [1.043e+03,       nan,       nan, ...,       nan,       nan,\n",
       "        1.660e+04]])"
      ]
     },
     "execution_count": 41,
     "metadata": {},
     "output_type": "execute_result"
    }
   ],
   "source": [
    "arr_loaded = np.genfromtxt('arr_savetxt.csv',delimiter='|')\n",
    "\n",
    "print(show_attr('arr_loaded') + '\\n')\n",
    "\n",
    "arr_loaded"
   ]
  },
  {
   "cell_type": "code",
   "execution_count": 42,
   "metadata": {},
   "outputs": [],
   "source": [
    "# Other tries\n",
    "np.savetxt('arr_savetxt.csv', lending_co, fmt='%s', delimiter=' |')"
   ]
  },
  {
   "cell_type": "code",
   "execution_count": 43,
   "metadata": {},
   "outputs": [
    {
     "name": "stdout",
     "output_type": "stream",
     "text": [
      " arr_loaded: | shape: (1044, 7) | ndim: 2 | size: 7308 | dtype: <U14 | itemsize: 56 \n",
      "\n",
      " [['LoanID' 'StringID' 'Product' ... 'Location' 'Region' 'TotalPrice']\n",
      " ['1' 'id_1' 'Product B' ... 'Location 2' 'Region 2' '16600.0']\n",
      " ['2' 'id_2' 'Product B' ... 'Location 3' '' '16600.0']\n",
      " ...\n",
      " ['1041' 'id_1041' 'Product B' ... 'Location 23' 'Region 4' '16600.0']\n",
      " ['1042' 'id_1042' 'Product C' ... 'Location 52' 'Region 6' '15600.0']\n",
      " ['1043' 'id_1043' 'Product B' ... 'Location 142' 'Region 6' '16600.0']]\n"
     ]
    }
   ],
   "source": [
    "arr_loaded = np.genfromtxt('arr_savetxt.csv',\n",
    "                           delimiter=' |',\n",
    "                           dtype=str)\n",
    "\n",
    "print(show_attr('arr_loaded') + '\\n' * 2, arr_loaded)\n",
    "\n",
    "# arr_loaded"
   ]
  },
  {
   "cell_type": "markdown",
   "metadata": {},
   "source": [
    "### numpy.array_equal(a1, a2, equal_nan=False)"
   ]
  },
  {
   "cell_type": "code",
   "execution_count": 44,
   "metadata": {},
   "outputs": [
    {
     "data": {
      "text/plain": [
       "True"
      ]
     },
     "execution_count": 44,
     "metadata": {},
     "output_type": "execute_result"
    }
   ],
   "source": [
    "np.array_equal(arr_loaded, lending_co)"
   ]
  }
 ],
 "metadata": {
  "kernelspec": {
   "display_name": "Python 3",
   "language": "python",
   "name": "python3"
  },
  "language_info": {
   "codemirror_mode": {
    "name": "ipython",
    "version": 3
   },
   "file_extension": ".py",
   "mimetype": "text/x-python",
   "name": "python",
   "nbconvert_exporter": "python",
   "pygments_lexer": "ipython3",
   "version": "3.11.4"
  }
 },
 "nbformat": 4,
 "nbformat_minor": 2
}

{
 "cells": [
  {
   "cell_type": "markdown",
   "metadata": {},
   "source": [
    "# Appendix 1 - Functions\n",
    "## TO-DO: fix show_thsep when justo 100_000 o mult de 3.\n",
    "#### tal vez poner el adicionar el digito debajo de comp % 3"
   ]
  },
  {
   "cell_type": "markdown",
   "metadata": {},
   "source": [
    "[## 0. Import Libraries](#0-import-libraries)    \n",
    "[## 1. show_attr function](#1-show_attr-function)    \n",
    "[## 2. show_thsep function](#2-show_thsep-function)    \n",
    "[## 3. show_tharrsep function](#3-show_tharrsep-function)"
   ]
  },
  {
   "cell_type": "markdown",
   "metadata": {},
   "source": [
    "## 0. Import Libraries"
   ]
  },
  {
   "cell_type": "code",
   "execution_count": 1,
   "metadata": {},
   "outputs": [],
   "source": [
    "import numpy as np\n",
    "np.__version__\n",
    "np.set_printoptions(suppress=True, linewidth=100)\n",
    "# np.set_printoptions(suppress=True, linewidth=100, precision=2)"
   ]
  },
  {
   "cell_type": "code",
   "execution_count": 2,
   "metadata": {},
   "outputs": [
    {
     "data": {
      "text/plain": [
       "array([[ 0,  1,  2,  3,  4],\n",
       "       [ 5,  6,  7,  8,  9],\n",
       "       [10, 11, 12, 13, 14]])"
      ]
     },
     "metadata": {},
     "output_type": "display_data"
    },
    {
     "data": {
      "text/plain": [
       "array([[291380.18,   7380.07, 426044.21, 480428.79, 483444.54],\n",
       "       [ 86217.92, 240694.96, 391659.13, 303886.12, 113330.31],\n",
       "       [  3262.97, 305969.78, 365716.1 , 381143.4 ,  19269.14]])"
      ]
     },
     "metadata": {},
     "output_type": "display_data"
    },
    {
     "data": {
      "text/plain": [
       "array([[10, 22, 11, 14, 13],\n",
       "       [16, 39, 25, 14, 10],\n",
       "       [33, 37, 23, 34, 16]])"
      ]
     },
     "metadata": {},
     "output_type": "display_data"
    },
    {
     "data": {
      "text/plain": [
       "array([[10000., 10003., 10006., 10009., 10012.],\n",
       "       [10015., 10018., 10021., 10024., 10027.],\n",
       "       [10030., 10033., 10036., 10039., 10042.]], dtype=float32)"
      ]
     },
     "metadata": {},
     "output_type": "display_data"
    }
   ],
   "source": [
    "# Create some test arrays\n",
    "int_arange = np.arange(15).reshape(3,5)\n",
    "float_rand = np.round(np.random.random(size=(3,5)) * 500_000, 2)\n",
    "int_rand = np.random.randint(10, 40, size=(3,5))\n",
    "float_arange = np.arange(10000, 10045, 3, dtype=np.float32).reshape(3,5)\n",
    "\n",
    "display(int_arange, float_rand, int_rand, float_arange)\n"
   ]
  },
  {
   "cell_type": "markdown",
   "metadata": {},
   "source": [
    "## 1. show_attr function"
   ]
  },
  {
   "cell_type": "code",
   "execution_count": 3,
   "metadata": {},
   "outputs": [],
   "source": [
    "# Function show_attr def\n",
    "\n",
    "def show_attr(arrnm: str) -> str:\n",
    "    if not isinstance(arrnm, str):\n",
    "          return '-> show_attr() >> ERROR: argument must be an string!'\n",
    "    \n",
    "    strout = f' {arrnm}: '\n",
    "    for attr in ('shape', 'ndim', 'size', 'dtype'):     #, 'itemsize'):\n",
    "            arrnm_attr = arrnm + '.' + attr\n",
    "            strout += f'| {attr}: {eval(arrnm_attr)} '\n",
    "\n",
    "    return strout"
   ]
  },
  {
   "cell_type": "code",
   "execution_count": 4,
   "metadata": {},
   "outputs": [
    {
     "data": {
      "text/plain": [
       "' int_rand: | shape: (3, 5) | ndim: 2 | size: 15 | dtype: int32 '"
      ]
     },
     "metadata": {},
     "output_type": "display_data"
    }
   ],
   "source": [
    "# show_attr test\n",
    "display(show_attr('int_rand'))\n",
    "# display(show_attr(int_rand))    # '--> show_attr() >> ERROR: argument must be an string!'\n",
    "# show_attr?"
   ]
  },
  {
   "cell_type": "markdown",
   "metadata": {},
   "source": [
    "## 2. show_thsep function"
   ]
  },
  {
   "cell_type": "code",
   "execution_count": 5,
   "metadata": {},
   "outputs": [],
   "source": [
    "# Function show_thsep\n",
    "\n",
    "def show_thsep(num: float, sep: str = ',') -> str:\n",
    "    '''Insert thousands separator\n",
    "    \n",
    "    num: a real number (int or float)\n",
    "    sep: separator, valid are: ';', '_', or ':'\n",
    "    '''\n",
    "\n",
    "    if (isinstance(num, str) or isinstance(num, bool)):\n",
    "        return '-> show_thsep() >> ERROR: argument must be a number'\n",
    "    \n",
    "    if not (sep == ',' or sep == '_' or sep == ':'):\n",
    "        return \"-> show_thsep() >> ERROR: sep must be ';', '_', or ':'\"\n",
    "\n",
    "    n_str = str(num)\n",
    "    dec_ix = n_str.find('.')        # decimal sep index\n",
    "    if dec_ix > -1:                 # dec_part exist\n",
    "        dec_part = n_str[dec_ix:]\n",
    "    else:\n",
    "        dec_ix = len(n_str)         # there's no dec_part\n",
    "        dec_part = ''\n",
    "\n",
    "    int_pr = n_str[:dec_ix][::-1]   # integer part reverser\n",
    "    int_part = ''\n",
    "    for dig in range(len(int_pr)):  # for e/digit in int_pr\n",
    "        int_part += int_pr[dig]\n",
    "        if (dig + 1) % 3 == 0:     # every 3 dig add sep\n",
    "            int_part += sep\n",
    "    \n",
    "    return int_part[::-1] + dec_part    \n",
    "        "
   ]
  },
  {
   "cell_type": "code",
   "execution_count": 6,
   "metadata": {},
   "outputs": [
    {
     "data": {
      "text/plain": [
       "'98723948759.34354'"
      ]
     },
     "metadata": {},
     "output_type": "display_data"
    },
    {
     "data": {
      "text/plain": [
       "'-> show_thsep() >> ERROR: argument must be a number'"
      ]
     },
     "metadata": {},
     "output_type": "display_data"
    },
    {
     "data": {
      "text/plain": [
       "98723948759.34354"
      ]
     },
     "metadata": {},
     "output_type": "display_data"
    },
    {
     "data": {
      "text/plain": [
       "\"-> show_thsep() >> ERROR: sep must be ';', '_', or ':'\""
      ]
     },
     "metadata": {},
     "output_type": "display_data"
    },
    {
     "data": {
      "text/plain": [
       "98723948759.34354"
      ]
     },
     "metadata": {},
     "output_type": "display_data"
    },
    {
     "data": {
      "text/plain": [
       "'98,723,948,759.34354'"
      ]
     },
     "metadata": {},
     "output_type": "display_data"
    },
    {
     "data": {
      "text/plain": [
       "5"
      ]
     },
     "metadata": {},
     "output_type": "display_data"
    },
    {
     "data": {
      "text/plain": [
       "'5'"
      ]
     },
     "metadata": {},
     "output_type": "display_data"
    }
   ],
   "source": [
    "# show_thsep test\n",
    "display(n := '98723948759.34354')\n",
    "display(show_thsep(n))         # '-> show_thseps() >> ERROR: argument must be a number (int or float)'\n",
    "\n",
    "display(n := 98723948759.34354)\n",
    "display(show_thsep(n, '|'))    # \"-> show_thseps() >> ERROR: sep must be ';', '_', or ':'\"\n",
    "\n",
    "display(n := 98723948759.34354)\n",
    "display(show_thsep(n))\n",
    "\n",
    "display(n := 5)\n",
    "display(show_thsep(n))    "
   ]
  },
  {
   "cell_type": "code",
   "execution_count": null,
   "metadata": {},
   "outputs": [
    {
     "data": {
      "text/plain": [
       "array([[ 0,  1,  2,  3,  4],\n",
       "       [ 5,  6,  7,  8,  9],\n",
       "       [10, 11, 12, 13, 14]])"
      ]
     },
     "metadata": {},
     "output_type": "display_data"
    },
    {
     "data": {
      "text/plain": [
       "array([['1', '1', '1', '1', '1'],\n",
       "       ['1', '1', '1', '1', '1'],\n",
       "       ['1', '1', '1', '1', '1']], dtype='>U32')"
      ]
     },
     "metadata": {},
     "output_type": "display_data"
    },
    {
     "data": {
      "text/plain": [
       "array([['10,000.0', '10,003.0', '10,006.0', '10,009.0', '10,012.0'],\n",
       "       ['10,015.0', '10,018.0', '10,021.0', '10,024.0', '10,027.0'],\n",
       "       ['10,030.0', '10,033.0', '10,036.0', '10,039.0', '10,042.0']], dtype='>U32')"
      ]
     },
     "execution_count": 7,
     "metadata": {},
     "output_type": "execute_result"
    }
   ],
   "source": [
    "# Let's try show_thsep for an array\n",
    "display(int_arange)\n",
    "\n",
    "arr = float_arange\n",
    "ixs = arr.shape\n",
    "\n",
    "display(ret_arr := np.ones_like(arr, dtype='>U32'))\n",
    "for row in range(arr.shape[0]):\n",
    "    for col in range(arr.shape[1]):\n",
    "        # print(arr[row, col], type(arr[row, col]), show_thsep(arr[row, col]))\n",
    "        ret_arr[row, col] = show_thsep(arr[row, col])\n",
    "\n",
    "ret_arr\n"
   ]
  },
  {
   "cell_type": "markdown",
   "metadata": {},
   "source": [
    "## 3. show_tharrsep function"
   ]
  },
  {
   "cell_type": "code",
   "execution_count": 8,
   "metadata": {},
   "outputs": [],
   "source": [
    "def show_tharrsep(arr: np.ndarray, sep: str = '_'):\n",
    "    if not isinstance(arr, np.ndarray):\n",
    "        return \"-> show_tharrsep >> ERROR: not an np.ndarray\"\n",
    "    \n",
    "    ret_arr = np.ones_like(arr, dtype='>U32')\n",
    "    for row in range(arr.shape[0]):\n",
    "        for col in range(arr.shape[1]):\n",
    "            ret_arr[row, col] = show_thsep(arr[row, col], sep=sep)\n",
    "\n",
    "    return ret_arr"
   ]
  },
  {
   "cell_type": "code",
   "execution_count": 9,
   "metadata": {},
   "outputs": [
    {
     "data": {
      "text/plain": [
       "array([[291380.18,   7380.07, 426044.21, 480428.79, 483444.54],\n",
       "       [ 86217.92, 240694.96, 391659.13, 303886.12, 113330.31],\n",
       "       [  3262.97, 305969.78, 365716.1 , 381143.4 ,  19269.14]])"
      ]
     },
     "metadata": {},
     "output_type": "display_data"
    },
    {
     "data": {
      "text/plain": [
       "array([['_291_380.18', '7_380.07', '_426_044.21', '_480_428.79', '_483_444.54'],\n",
       "       ['86_217.92', '_240_694.96', '_391_659.13', '_303_886.12', '_113_330.31'],\n",
       "       ['3_262.97', '_305_969.78', '_365_716.1', '_381_143.4', '19_269.14']], dtype='>U32')"
      ]
     },
     "execution_count": 9,
     "metadata": {},
     "output_type": "execute_result"
    }
   ],
   "source": [
    "display(float_rand)\n",
    "show_tharrsep(float_rand)"
   ]
  },
  {
   "cell_type": "code",
   "execution_count": 10,
   "metadata": {},
   "outputs": [],
   "source": [
    "# ret_arr\n",
    "\n",
    "# def show_tharrsep(arr):\n",
    "#     if arr.dtype == str:\n",
    "#         return '-> show_tharrsep() >> ERROR: ndarray.dtype = str'\n",
    "    \n",
    "#     ixs = arr.shape\n",
    "#     ret_arr = np.ones_like(arr)\n",
    "#     for row in range(arr.shape[0]):\n",
    "#         for col in range(arr.shape[1]):"
   ]
  }
 ],
 "metadata": {
  "kernelspec": {
   "display_name": "Python 3",
   "language": "python",
   "name": "python3"
  },
  "language_info": {
   "codemirror_mode": {
    "name": "ipython",
    "version": 3
   },
   "file_extension": ".py",
   "mimetype": "text/x-python",
   "name": "python",
   "nbconvert_exporter": "python",
   "pygments_lexer": "ipython3",
   "version": "3.11.0"
  }
 },
 "nbformat": 4,
 "nbformat_minor": 2
}

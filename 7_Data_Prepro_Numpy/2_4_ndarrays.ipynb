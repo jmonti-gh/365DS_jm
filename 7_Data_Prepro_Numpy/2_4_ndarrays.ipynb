{
 "cells": [
  {
   "cell_type": "markdown",
   "metadata": {},
   "source": [
    "# 2_4 ndarrays"
   ]
  },
  {
   "cell_type": "code",
   "execution_count": 32,
   "metadata": {},
   "outputs": [
    {
     "data": {
      "text/plain": [
       "'2.1.1'"
      ]
     },
     "execution_count": 32,
     "metadata": {},
     "output_type": "execute_result"
    }
   ],
   "source": [
    "import numpy as np\n",
    "np.__version__"
   ]
  },
  {
   "cell_type": "code",
   "execution_count": 33,
   "metadata": {},
   "outputs": [],
   "source": [
    "# Functions\n",
    "\n",
    "def isndarray(el):\n",
    "        errmsg = f'- Warning --> {el} is not np.ndarray. It is {type(el)}\\n'\n",
    "        if not isinstance(el, np.ndarray):\n",
    "                print(errmsg)\n",
    "                return False\n",
    "        return True\n",
    "\n",
    "\n",
    "def show(*objs: str) -> None:\n",
    "    ''' Display numpy.ndarrays objects and some of its more important attributes\n",
    "\n",
    "    All arguments must be strings.\n",
    "    can pass a variable number of non-keyworded arguments.\n",
    "    Return None, only print info -> FUTURE make an string with all the info as return\n",
    "    '''\n",
    "    for obj in objs:\n",
    "        if not isinstance(obj, str):\n",
    "            print(f'ERROR! --> ArgumentS of show() function must be strings')\n",
    "            print(f'\"{obj}\" is not an String')\n",
    "            continue\n",
    "\n",
    "        try:\n",
    "            robj = eval(obj)\n",
    "        except NameError:\n",
    "            robj = obj\n",
    "        if not isndarray(robj):\n",
    "                continue\n",
    "\n",
    "        print(f'{obj} -> {type(robj)}:\\n{\"-\" * 80}')\n",
    "        display(robj)\n",
    "        print(robj)\n",
    "        for attr in ('shape', 'ndim', 'size'):  #, 'dtype'):  #, 'itemsize'):\n",
    "            obj_attr = obj + '.' + attr\n",
    "            print(f'{obj_attr} = {eval(obj_attr)}  |  ',end=\"\")\n",
    "        print('\\n')     "
   ]
  },
  {
   "cell_type": "code",
   "execution_count": 34,
   "metadata": {},
   "outputs": [
    {
     "name": "stdout",
     "output_type": "stream",
     "text": [
      "array_a -> <class 'numpy.ndarray'>:\n",
      "--------------------------------------------------------------------------------\n"
     ]
    },
    {
     "data": {
      "text/plain": [
       "array([1, 2, 3])"
      ]
     },
     "metadata": {},
     "output_type": "display_data"
    },
    {
     "name": "stdout",
     "output_type": "stream",
     "text": [
      "[1 2 3]\n",
      "array_a.shape = (3,)  |  array_a.ndim = 1  |  array_a.size = 3  |  \n",
      "\n"
     ]
    }
   ],
   "source": [
    "# 1-Dimensional array - Part of a line - values on a single row or column\n",
    "array_a = np.array([1,2,3])     # 1-Dimensional array\n",
    "show('array_a')\n",
    "# ndarray -> N-Dimensional array"
   ]
  },
  {
   "cell_type": "code",
   "execution_count": 35,
   "metadata": {},
   "outputs": [
    {
     "name": "stdout",
     "output_type": "stream",
     "text": [
      "array_b -> <class 'numpy.ndarray'>:\n",
      "--------------------------------------------------------------------------------\n"
     ]
    },
    {
     "data": {
      "text/plain": [
       "array([[ 7,  8,  9],\n",
       "       [10, 11, 12]])"
      ]
     },
     "metadata": {},
     "output_type": "display_data"
    },
    {
     "name": "stdout",
     "output_type": "stream",
     "text": [
      "[[ 7  8  9]\n",
      " [10 11 12]]\n",
      "array_b.shape = (2, 3)  |  array_b.ndim = 2  |  array_b.size = 6  |  \n",
      "\n"
     ]
    }
   ],
   "source": [
    "# 2-dimensional array - Part of a plane - A collection of rows and columns\n",
    "array_b = np.array([[7,8,9], [10,11,12]])\n",
    "show('array_b')"
   ]
  },
  {
   "cell_type": "code",
   "execution_count": 36,
   "metadata": {},
   "outputs": [
    {
     "data": {
      "text/plain": [
       "2"
      ]
     },
     "metadata": {},
     "output_type": "display_data"
    },
    {
     "data": {
      "text/plain": [
       "3"
      ]
     },
     "execution_count": 36,
     "metadata": {},
     "output_type": "execute_result"
    }
   ],
   "source": [
    "# last 2-dim array is a table consisting of 2 rows\n",
    "# each row is an array (1-dim array) - each row has 3 values (3 scalars, 0-dim array)\n",
    "# a 2 x 3 table - array_b.shape = (2, 3) -> type tuple - 2 rows 3 columns\n",
    "display(array_b.shape[0] )      # num of rows - 1st dimension of our 2-d array\n",
    "array_b.shape[1]                # num of columns - 2nd dimension"
   ]
  },
  {
   "cell_type": "code",
   "execution_count": 37,
   "metadata": {},
   "outputs": [
    {
     "name": "stdout",
     "output_type": "stream",
     "text": [
      "array_c -> <class 'numpy.ndarray'>:\n",
      "--------------------------------------------------------------------------------\n"
     ]
    },
    {
     "data": {
      "text/plain": [
       "array(13)"
      ]
     },
     "metadata": {},
     "output_type": "display_data"
    },
    {
     "name": "stdout",
     "output_type": "stream",
     "text": [
      "13\n",
      "array_c.shape = ()  |  array_c.ndim = 0  |  array_c.size = 1  |  \n",
      "\n"
     ]
    }
   ],
   "source": [
    "# 0-dimensional arrays, scalars\n",
    "array_c = np.array(13)\n",
    "show('array_c')"
   ]
  },
  {
   "cell_type": "code",
   "execution_count": 38,
   "metadata": {},
   "outputs": [
    {
     "name": "stdout",
     "output_type": "stream",
     "text": [
      "array_d -> <class 'numpy.ndarray'>:\n",
      "--------------------------------------------------------------------------------\n"
     ]
    },
    {
     "data": {
      "text/plain": [
       "array([15])"
      ]
     },
     "metadata": {},
     "output_type": "display_data"
    },
    {
     "name": "stdout",
     "output_type": "stream",
     "text": [
      "[15]\n",
      "array_d.shape = (1,)  |  array_d.ndim = 1  |  array_d.size = 1  |  \n",
      "\n"
     ]
    }
   ],
   "source": [
    "# scalar defined with one bracket => 1-dim array\n",
    "array_d = np.array([15])\n",
    "show('array_d')"
   ]
  },
  {
   "cell_type": "code",
   "execution_count": 39,
   "metadata": {},
   "outputs": [
    {
     "name": "stdout",
     "output_type": "stream",
     "text": [
      "array_e -> <class 'numpy.ndarray'>:\n",
      "--------------------------------------------------------------------------------\n"
     ]
    },
    {
     "data": {
      "text/plain": [
       "array([[15]])"
      ]
     },
     "metadata": {},
     "output_type": "display_data"
    },
    {
     "name": "stdout",
     "output_type": "stream",
     "text": [
      "[[15]]\n",
      "array_e.shape = (1, 1)  |  array_e.ndim = 2  |  array_e.size = 1  |  \n",
      "\n"
     ]
    }
   ],
   "source": [
    "# scalar defined with two brackets => 2-dim array\n",
    "array_e = np.array([[15]])\n",
    "show('array_e')\n",
    "# Even if we need to pass a single value it might have to be expressed as a small\n",
    "#  array or matrix.\n",
    "# Certain functions and methods require inputs as a fixed number of dimensions\n",
    "# How many dimensions your array contains? - look at the code and check de number of\n",
    "# opening or closing brackets you have"
   ]
  },
  {
   "cell_type": "markdown",
   "metadata": {},
   "source": [
    "### ndarrays can containg:\n",
    "- single scalars, sequence of numbers, tables of values (sequence or collection of tables). An more...\n",
    "- computational stable and universally accepted in the Python comunity"
   ]
  },
  {
   "cell_type": "code",
   "execution_count": null,
   "metadata": {},
   "outputs": [],
   "source": []
  }
 ],
 "metadata": {
  "kernelspec": {
   "display_name": "Python 3",
   "language": "python",
   "name": "python3"
  },
  "language_info": {
   "codemirror_mode": {
    "name": "ipython",
    "version": 3
   },
   "file_extension": ".py",
   "mimetype": "text/x-python",
   "name": "python",
   "nbconvert_exporter": "python",
   "pygments_lexer": "ipython3",
   "version": "3.11.0"
  }
 },
 "nbformat": 4,
 "nbformat_minor": 2
}

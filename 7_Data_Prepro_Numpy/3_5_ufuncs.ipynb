{
 "cells": [
  {
   "cell_type": "markdown",
   "metadata": {},
   "source": [
    "# 3_5 Characteristics of NumPy Functions - Universal Functions\n",
    "- https://numpy.org/doc/stable/reference/ufuncs.html"
   ]
  },
  {
   "cell_type": "markdown",
   "metadata": {},
   "source": [
    "- Functions that operate element by element on whole arrays.\n",
    "- Supporting array broadcasting, type casting, and several other standard features.\n",
    "- We´ll examine several features and parameters that most NumPy functions support.\n",
    "- *Universal* parameters -> closely ttied -> *Universal* functions.\n",
    "- Mathematical Ops, Trigonometric and Comparison functions.\n",
    "- Broadcasting, Type Casting, and Computing over a given axis."
   ]
  },
  {
   "cell_type": "code",
   "execution_count": 2,
   "metadata": {},
   "outputs": [
    {
     "data": {
      "text/plain": [
       "'2.1.1'"
      ]
     },
     "execution_count": 2,
     "metadata": {},
     "output_type": "execute_result"
    }
   ],
   "source": [
    "import numpy as np\n",
    "np.__version__"
   ]
  },
  {
   "cell_type": "code",
   "execution_count": 5,
   "metadata": {},
   "outputs": [
    {
     "data": {
      "text/plain": [
       "array([1, 2, 3])"
      ]
     },
     "metadata": {},
     "output_type": "display_data"
    },
    {
     "data": {
      "text/plain": [
       "array([[1],\n",
       "       [2]])"
      ]
     },
     "metadata": {},
     "output_type": "display_data"
    },
    {
     "data": {
      "text/plain": [
       "array([[1, 2, 3],\n",
       "       [4, 5, 6]])"
      ]
     },
     "metadata": {},
     "output_type": "display_data"
    }
   ],
   "source": [
    "array_a = np.array([1,2,3])                 # row 1-D \n",
    "array_b = np.array([[1], [2]])              # 1 col 2-D\n",
    "matrix_c = np.array([[1,2,3], [4,5,6]])     # 2x3 2-D\n",
    "\n",
    "for arr in (array_a, array_b, matrix_c):\n",
    "    display(arr)"
   ]
  },
  {
   "cell_type": "markdown",
   "metadata": {},
   "source": [
    "### Broadcasting:\n",
    "- Used when we want to conduct element-wise ops, but have elements of different sizes and/or dimensions\n",
    "- We can *broadcast* the smaller var and create a broadcast version with the size of the larger one.\n",
    "- Stretching one var (the smaller) over the other to produce an output with the same shape as the larger one."
   ]
  },
  {
   "cell_type": "code",
   "execution_count": 6,
   "metadata": {},
   "outputs": [
    {
     "data": {
      "text/plain": [
       "array([[2, 4, 6],\n",
       "       [5, 7, 9]])"
      ]
     },
     "execution_count": 6,
     "metadata": {},
     "output_type": "execute_result"
    }
   ],
   "source": [
    "# Example - row broadcast. Same as array_b + matrix_c\n",
    "np.add(array_a, matrix_c)"
   ]
  },
  {
   "cell_type": "code",
   "execution_count": 7,
   "metadata": {},
   "outputs": [
    {
     "data": {
      "text/plain": [
       "array([[2, 3, 4],\n",
       "       [6, 7, 8]])"
      ]
     },
     "execution_count": 7,
     "metadata": {},
     "output_type": "execute_result"
    }
   ],
   "source": [
    "# Example - col broadcast\n",
    "np.add(array_b, matrix_c)"
   ]
  },
  {
   "cell_type": "markdown",
   "metadata": {},
   "source": [
    "### Broadcasting Rules:\n",
    "1. The arrays have the same shape (need to broadcast?).\n",
    "2. The arrays have the same number of dimensions, and the length of each dim is either common or 1.\n",
    "3. The arrays that have too few dimensions can have their shapes altered with a dimension 1, to satisfy the second rule ¡?"
   ]
  },
  {
   "cell_type": "code",
   "execution_count": 12,
   "metadata": {},
   "outputs": [
    {
     "data": {
      "text/plain": [
       "array([[ 2,  4,  6],\n",
       "       [ 8, 10, 12]])"
      ]
     },
     "metadata": {},
     "output_type": "display_data"
    },
    {
     "data": {
      "text/plain": [
       "array([[0, 0, 0],\n",
       "       [0, 0, 0]])"
      ]
     },
     "metadata": {},
     "output_type": "display_data"
    },
    {
     "data": {
      "text/plain": [
       "array([[0, 0, 0],\n",
       "       [0, 0, 0]])"
      ]
     },
     "execution_count": 12,
     "metadata": {},
     "output_type": "execute_result"
    }
   ],
   "source": [
    "# Ex of 1. (Broadcasting ¡?)\n",
    "display(np.add(matrix_c, matrix_c))\n",
    "display(np.add(matrix_c, -1 * matrix_c))\n",
    "matrix_c - matrix_c\n"
   ]
  },
  {
   "cell_type": "code",
   "execution_count": 14,
   "metadata": {},
   "outputs": [
    {
     "data": {
      "text/plain": [
       "array([1, 2, 3])"
      ]
     },
     "metadata": {},
     "output_type": "display_data"
    },
    {
     "data": {
      "text/plain": [
       "array([[1],\n",
       "       [2]])"
      ]
     },
     "metadata": {},
     "output_type": "display_data"
    },
    {
     "data": {
      "text/plain": [
       "array([[2, 3, 4],\n",
       "       [3, 4, 5]])"
      ]
     },
     "execution_count": 14,
     "metadata": {},
     "output_type": "execute_result"
    }
   ],
   "source": [
    "# Ex of 2.\n",
    "display(array_a, array_b)\n",
    "np.add(array_a, array_b)"
   ]
  },
  {
   "cell_type": "code",
   "execution_count": 19,
   "metadata": {},
   "outputs": [
    {
     "data": {
      "text/plain": [
       "array([100, 200, 300])"
      ]
     },
     "metadata": {},
     "output_type": "display_data"
    },
    {
     "data": {
      "text/plain": [
       "array([[ 1,  2,  3],\n",
       "       [ 4,  5,  6],\n",
       "       [ 7,  8,  9],\n",
       "       [10, 11, 12],\n",
       "       [13, 14, 15]])"
      ]
     },
     "metadata": {},
     "output_type": "display_data"
    },
    {
     "data": {
      "text/plain": [
       "array([[101, 202, 303],\n",
       "       [104, 205, 306],\n",
       "       [107, 208, 309],\n",
       "       [110, 211, 312],\n",
       "       [113, 214, 315]])"
      ]
     },
     "execution_count": 19,
     "metadata": {},
     "output_type": "execute_result"
    }
   ],
   "source": [
    "# Other examples of 3.\n",
    "array_z = np.array([100,200,300])\n",
    "matrix_d = np.array([[1,2,3], [4,5,6], [7,8,9], [10,11,12], [13,14,15]])\n",
    "display(array_z, matrix_d)\n",
    "np.add(array_z, matrix_d)\n"
   ]
  }
 ],
 "metadata": {
  "kernelspec": {
   "display_name": "Python 3",
   "language": "python",
   "name": "python3"
  },
  "language_info": {
   "codemirror_mode": {
    "name": "ipython",
    "version": 3
   },
   "file_extension": ".py",
   "mimetype": "text/x-python",
   "name": "python",
   "nbconvert_exporter": "python",
   "pygments_lexer": "ipython3",
   "version": "3.11.0"
  }
 },
 "nbformat": 4,
 "nbformat_minor": 2
}

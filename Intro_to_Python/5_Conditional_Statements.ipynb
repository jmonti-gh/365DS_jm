{
 "cells": [
  {
   "cell_type": "markdown",
   "metadata": {},
   "source": [
    "# Course #5 Introduction to Python\n",
    "## 5.- Conditional Statements\n",
    "  - if; else; elif; like functions and loops and classes a colon"
   ]
  },
  {
   "cell_type": "code",
   "execution_count": 4,
   "metadata": {},
   "outputs": [
    {
     "name": "stdout",
     "output_type": "stream",
     "text": [
      "It´s a genuine True\n",
      "It´s a genuine False\n",
      "It´s a genuine False\n"
     ]
    }
   ],
   "source": [
    "# Boolean\n",
    "if 1 or True or 3.224 or 'something':\n",
    "    print('It´s a genuine True')\n",
    "\n",
    "if not (None or 0 or False or '' or [] or () or {}):\n",
    "    print('It´s a genuine False')\n",
    "\n",
    "if None or 0 or False or '' or [] or () or {}:\n",
    "    print('Never enfever')\n",
    "else:\n",
    "    print('It´s a genuine False')"
   ]
  },
  {
   "cell_type": "code",
   "execution_count": null,
   "metadata": {},
   "outputs": [],
   "source": []
  }
 ],
 "metadata": {
  "kernelspec": {
   "display_name": "Python 3",
   "language": "python",
   "name": "python3"
  },
  "language_info": {
   "codemirror_mode": {
    "name": "ipython",
    "version": 3
   },
   "file_extension": ".py",
   "mimetype": "text/x-python",
   "name": "python",
   "nbconvert_exporter": "python",
   "pygments_lexer": "ipython3",
   "version": "3.11.0"
  }
 },
 "nbformat": 4,
 "nbformat_minor": 2
}

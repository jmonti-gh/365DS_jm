{
 "cells": [
  {
   "cell_type": "markdown",
   "metadata": {},
   "source": [
    "# Course #5 Introduction to Python\n",
    "## Dictionaries\n",
    "- Curly braces {} for dicts and sets\n"
   ]
  },
  {
   "cell_type": "code",
   "execution_count": 2,
   "metadata": {},
   "outputs": [
    {
     "name": "stdout",
     "output_type": "stream",
     "text": [
      "{1: 'cat', 2: 'frog', 3: 'parrot'}\n"
     ]
    },
    {
     "data": {
      "text/plain": [
       "{'P_Guard': 'Dirk', 'S_Fwd': 'Sean', 'S_Guard': 'Al'}"
      ]
     },
     "execution_count": 2,
     "metadata": {},
     "output_type": "execute_result"
    }
   ],
   "source": [
    "# Two simple dicts\n",
    "animals_d = {1: 'cat', 2: 'frog', 3: 'parrot'}\n",
    "\n",
    "team_d = {}                 # same as -> team_d = dict()\n",
    "team_d['P_Guard'] = 'Dirk'\n",
    "team_d['S_Fwd'] = 'Sean'\n",
    "team_d['S_Guard'] = 'Al'\n",
    "\n",
    "print(animals_d)\n",
    "team_d"
   ]
  },
  {
   "cell_type": "code",
   "execution_count": 4,
   "metadata": {},
   "outputs": [
    {
     "name": "stdout",
     "output_type": "stream",
     "text": [
      "None\n"
     ]
    },
    {
     "ename": "KeyError",
     "evalue": "'Coach'",
     "output_type": "error",
     "traceback": [
      "\u001b[1;31m---------------------------------------------------------------------------\u001b[0m",
      "\u001b[1;31mKeyError\u001b[0m                                  Traceback (most recent call last)",
      "\u001b[1;32mc:\\Users\\jm\\git_repos\\365DS_jm\\Intro_to_Python\\7_6_tuples.ipynb Cell 3\u001b[0m line \u001b[0;36m3\n\u001b[0;32m      <a href='vscode-notebook-cell:/c%3A/Users/jm/git_repos/365DS_jm/Intro_to_Python/7_6_tuples.ipynb#W2sZmlsZQ%3D%3D?line=0'>1</a>\u001b[0m \u001b[39m# If key don't exists: get function return None but direct access return error\u001b[39;00m\n\u001b[0;32m      <a href='vscode-notebook-cell:/c%3A/Users/jm/git_repos/365DS_jm/Intro_to_Python/7_6_tuples.ipynb#W2sZmlsZQ%3D%3D?line=1'>2</a>\u001b[0m \u001b[39mprint\u001b[39m(team_d\u001b[39m.\u001b[39mget(\u001b[39m'\u001b[39m\u001b[39mCoach\u001b[39m\u001b[39m'\u001b[39m))\n\u001b[1;32m----> <a href='vscode-notebook-cell:/c%3A/Users/jm/git_repos/365DS_jm/Intro_to_Python/7_6_tuples.ipynb#W2sZmlsZQ%3D%3D?line=2'>3</a>\u001b[0m team_d[\u001b[39m'\u001b[39;49m\u001b[39mCoach\u001b[39;49m\u001b[39m'\u001b[39;49m]\n",
      "\u001b[1;31mKeyError\u001b[0m: 'Coach'"
     ]
    }
   ],
   "source": [
    "# If key don't exists: get function return None but direct access return KeyError\n",
    "print(team_d.get('Coach'))\n",
    "team_d['Coach']"
   ]
  },
  {
   "cell_type": "code",
   "execution_count": 14,
   "metadata": {},
   "outputs": [
    {
     "name": "stdout",
     "output_type": "stream",
     "text": [
      "1 cat\t2 frog\t3 parrot\t\n",
      "dict_items([('P_Guard', 'Dirk'), ('S_Fwd', 'Sean'), ('S_Guard', 'Al')])\n"
     ]
    },
    {
     "data": {
      "text/plain": [
       "dict_items"
      ]
     },
     "execution_count": 14,
     "metadata": {},
     "output_type": "execute_result"
    }
   ],
   "source": [
    "# dicts' methods\n",
    "# .keys(), values(), items(), copy(), clear(), .update(), setdefault()\n",
    "for k,v in animals_d.items():\n",
    "    print(k, v, end='\\t')\n",
    "print(f'\\n{team_d.items()}')\n",
    "type(team_d.items())"
   ]
  },
  {
   "cell_type": "code",
   "execution_count": 11,
   "metadata": {},
   "outputs": [
    {
     "data": {
      "text/plain": [
       "{1: 'cat',\n",
       " 2: 'frog',\n",
       " 3: 'parrot',\n",
       " 'P_Guard': 'Dirk',\n",
       " 'S_Fwd': 'Sean',\n",
       " 'S_Guard': 'Al'}"
      ]
     },
     "execution_count": 11,
     "metadata": {},
     "output_type": "execute_result"
    }
   ],
   "source": [
    "# Direct way to summ to dicts\n",
    "d3 = {**animals_d, **team_d}\n",
    "d3"
   ]
  },
  {
   "cell_type": "code",
   "execution_count": 15,
   "metadata": {},
   "outputs": [
    {
     "name": "stdout",
     "output_type": "stream",
     "text": [
      "Mustang\n",
      "{'brand': 'Ford', 'model': 'Mustang', 'year': 1964}\n",
      "\n",
      "White\n",
      "{'brand': 'Ford', 'model': 'Mustang', 'year': 1964, 'color': 'White'}\n"
     ]
    }
   ],
   "source": [
    "# .setdefault() give the value if exist else set w/ a optional def value or None\n",
    "car = {\n",
    "  \"brand\": \"Ford\",\n",
    "  \"model\": \"Mustang\",\n",
    "  \"year\": 1964\n",
    "}\n",
    "\n",
    "m =car.setdefault('model', 'Falcon')\n",
    "print(m)\n",
    "print(car)\n",
    "print()\n",
    "\n",
    "c = car.setdefault(\"color\", \"White\")\n",
    "\n",
    "print(c)\n",
    "print(car)"
   ]
  }
 ],
 "metadata": {
  "kernelspec": {
   "display_name": "Python 3",
   "language": "python",
   "name": "python3"
  },
  "language_info": {
   "codemirror_mode": {
    "name": "ipython",
    "version": 3
   },
   "file_extension": ".py",
   "mimetype": "text/x-python",
   "name": "python",
   "nbconvert_exporter": "python",
   "pygments_lexer": "ipython3",
   "version": "3.11.0"
  }
 },
 "nbformat": 4,
 "nbformat_minor": 2
}

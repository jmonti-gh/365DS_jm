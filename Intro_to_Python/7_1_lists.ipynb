{
 "cells": [
  {
   "cell_type": "markdown",
   "metadata": {},
   "source": [
    "# Course #5 Introduction to Python\n",
    "## Lists: \n",
    "- .append(); .extend(); index(el); .sort(reverse=True); "
   ]
  },
  {
   "cell_type": "code",
   "execution_count": 11,
   "metadata": {},
   "outputs": [
    {
     "data": {
      "text/plain": [
       "['John', 'Leila', 'Gregory', 'kate']"
      ]
     },
     "execution_count": 11,
     "metadata": {},
     "output_type": "execute_result"
    }
   ],
   "source": [
    "# A simple list\n",
    "participants = ['John', 'Leila', 'Gregory', 'kate']\n",
    "participants"
   ]
  },
  {
   "cell_type": "code",
   "execution_count": 12,
   "metadata": {},
   "outputs": [
    {
     "name": "stdout",
     "output_type": "stream",
     "text": [
      "['Leila', 'Gregory']\n",
      "['John', 'Leila', 'Gregory', 'kate']\n",
      "['John', 'Gregory']\n",
      "['kate', 'Gregory', 'Leila', 'John']\n"
     ]
    },
    {
     "data": {
      "text/plain": [
       "'pets'"
      ]
     },
     "execution_count": 12,
     "metadata": {},
     "output_type": "execute_result"
    }
   ],
   "source": [
    "# slicing\n",
    "print(participants[1:3])\n",
    "print(participants[:])\n",
    "# w/stepping\n",
    "print(participants[::2])\n",
    "# stepping -1\n",
    "print(participants[::-1])\n",
    "# To a string\n",
    "'step'[::-1]\n"
   ]
  },
  {
   "cell_type": "code",
   "execution_count": 13,
   "metadata": {},
   "outputs": [
    {
     "name": "stdout",
     "output_type": "stream",
     "text": [
      "4\n",
      "['John', 'Leila', 'kate']  - Number of elements: 3\n"
     ]
    },
    {
     "data": {
      "text/plain": [
       "[0, 2.7183, 3.14, 100.0]"
      ]
     },
     "execution_count": 13,
     "metadata": {},
     "output_type": "execute_result"
    }
   ],
   "source": [
    "# Deleting element\n",
    "print(len(participants))\n",
    "del participants[2]\n",
    "print(f'{participants}  - Number of elements: {len(participants)}')\n",
    "\n",
    "# Lists of numbers\n",
    "numbers = [0, 2.7183, 3.14, 1e2]\n",
    "numbers\n"
   ]
  },
  {
   "cell_type": "code",
   "execution_count": 17,
   "metadata": {},
   "outputs": [
    {
     "name": "stdout",
     "output_type": "stream",
     "text": [
      "First participant is John\n",
      "203.14\n"
     ]
    }
   ],
   "source": [
    "# Elements and its types\n",
    "print('First participant is ' + participants[0])\n",
    "print(2 * numbers[-1] + numbers[2])\n"
   ]
  },
  {
   "cell_type": "code",
   "execution_count": 21,
   "metadata": {},
   "outputs": [
    {
     "name": "stdout",
     "output_type": "stream",
     "text": [
      "['John', 'Leila', 'kate']\n",
      "['kate', 'Leila', 'John']\n"
     ]
    }
   ],
   "source": [
    "# lists are MUTABLES then some methods change the original\n",
    "print(participants)\n",
    "participants.sort(reverse=True)\n",
    "print(participants)"
   ]
  }
 ],
 "metadata": {
  "kernelspec": {
   "display_name": "Python 3",
   "language": "python",
   "name": "python3"
  },
  "language_info": {
   "codemirror_mode": {
    "name": "ipython",
    "version": 3
   },
   "file_extension": ".py",
   "mimetype": "text/x-python",
   "name": "python",
   "nbconvert_exporter": "python",
   "pygments_lexer": "ipython3",
   "version": "3.11.4"
  }
 },
 "nbformat": 4,
 "nbformat_minor": 2
}

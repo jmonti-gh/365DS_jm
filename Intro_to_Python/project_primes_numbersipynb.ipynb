{
 "cells": [
  {
   "cell_type": "markdown",
   "metadata": {},
   "source": [
    "# Course #5 Introduction to Python\n",
    "\n",
    " "
   ]
  },
  {
   "cell_type": "markdown",
   "metadata": {},
   "source": [
    "Trial division is the most laborious but easiest to understand of the integer factorization algorithms. The essential idea behind trial division tests to see if an integer n, the integer to be factored, can be divided by each number in turn that is less than the square root of n"
   ]
  },
  {
   "cell_type": "code",
   "execution_count": 35,
   "metadata": {},
   "outputs": [
    {
     "name": "stdout",
     "output_type": "stream",
     "text": [
      "[2, 3, 3] 18\n",
      "[37] 37\n",
      "[2, 5, 5] 50\n",
      "[61] 61\n",
      "[73] 73\n",
      "[2, 43] 86\n",
      "[97] 97\n"
     ]
    }
   ],
   "source": [
    "def trial_division(n: int) -> list[int]:\n",
    "    \"\"\"Return a list of the prime factors for a natural number.\"\"\"\n",
    "    res_list = []               # Prepare an empty list.\n",
    "    f = 2                       # The first possible factor.    \n",
    "    while n > 1:                # While n still has remaining factors...\n",
    "        if n % f == 0:          # The remainder of n divided by f might be zero.        \n",
    "            res_list.append(f)  # If so, it divides n. Add f to the list.\n",
    "            #n //= f            # Divide that factor out of n.\n",
    "            n = int(n / f)      # The result of n div the factor an force as int\n",
    "        else:                   # But if f is not a factor of n,\n",
    "            f += 1              # Try with the next possible factor\n",
    "    return res_list             # Prime factors may be repeated: 12 factors to 2,2,3.\n",
    "\n",
    "def check_factors(ist: list) -> int:\n",
    "    res = 1\n",
    "    for f in ist:\n",
    "        res *= f\n",
    "    return res\n",
    "\n",
    "for n in (18, 37, 50, 61, 73, 86, 97):\n",
    "    factors = trial_division(n)\n",
    "    print(factors, check_factors(factors))\n"
   ]
  },
  {
   "cell_type": "markdown",
   "metadata": {},
   "source": [
    "A natural number (1, 2, 3, 4, 5, 6, etc.) is called a prime number (or a prime) if it is greater than 1 and cannot be written as the product of two smaller natural numbers"
   ]
  },
  {
   "cell_type": "code",
   "execution_count": 36,
   "metadata": {},
   "outputs": [
    {
     "name": "stdout",
     "output_type": "stream",
     "text": [
      "[2, 3, 5, 7, 11, 13, 17, 19, 23, 29, 31, 37, 41, 43, 47, 53, 59, 61, 67, 71, 73, 79, 83, 89, 97, 101, 103, 107, 109, 113, 127, 131, 137, 139, 149, 151, 157]\n",
      "[101, 103, 107, 109, 113, 127, 131, 137, 139, 149, 151]\n",
      "[101] 101\n",
      "[103] 103\n",
      "[107] 107\n",
      "[109] 109\n",
      "[113] 113\n",
      "[127] 127\n",
      "[131] 131\n",
      "[137] 137\n",
      "[139] 139\n",
      "[149] 149\n",
      "[151] 151\n"
     ]
    }
   ],
   "source": [
    "def is_prime(n):\n",
    "    if n < 2: return False\n",
    "    for i in range(2, n):\n",
    "        if n % i == 0:\n",
    "            return False\n",
    "    return True\n",
    "        \n",
    "def primes_in(n):\n",
    "    result = list()\n",
    "    for i in range(n):\n",
    "        if is_prime(i):\n",
    "            result.append(i)\n",
    "    return result\n",
    "\n",
    "def primes_in_range(first, last):\n",
    "    result = list()\n",
    "    for i in range(first, last + 1):\n",
    "        if is_prime(i):\n",
    "            result.append(i)\n",
    "    return result\n",
    "\n",
    "print(primes_in(160))\n",
    "print(primes_in_range(100, 151))\n",
    "\n",
    "de_100_a_151 = primes_in_range(100, 151)\n",
    "for n in de_100_a_151:\n",
    "    factors = trial_division(n)\n",
    "    print(factors, check_factors(factors))\n"
   ]
  },
  {
   "cell_type": "code",
   "execution_count": 37,
   "metadata": {},
   "outputs": [
    {
     "data": {
      "text/plain": [
       "False"
      ]
     },
     "execution_count": 37,
     "metadata": {},
     "output_type": "execute_result"
    }
   ],
   "source": [
    "from math import sqrt\n",
    "\n",
    "def is_prime_opt(n):\n",
    "    # print(sqrt(n))\n",
    "    if n < 2: return False\n",
    "    for i in range(2, int(sqrt(n)) + 1):\n",
    "        if n % i == 0:\n",
    "            return False\n",
    "    return True\n",
    "\n",
    "is_prime_opt(25)"
   ]
  },
  {
   "cell_type": "code",
   "execution_count": 43,
   "metadata": {},
   "outputs": [
    {
     "name": "stdout",
     "output_type": "stream",
     "text": [
      "11\n"
     ]
    }
   ],
   "source": [
    "# After creating a function to check if a number is prime, consider the range of natural numbers from 100 to 151 inclusive. Find how many\n",
    "#prime numbers are present in this range.\n",
    "\n",
    "count = 0\n",
    "for n in range(100, 152):\n",
    "    if is_prime(n):\n",
    "        count += 1\n",
    "print(count)\n"
   ]
  },
  {
   "cell_type": "code",
   "execution_count": 42,
   "metadata": {},
   "outputs": [
    {
     "name": "stdout",
     "output_type": "stream",
     "text": [
      "False\n",
      "True\n",
      "123 Prime?: False\n",
      "123 Prime?: False\n",
      "827 Prime?: True\n",
      "827 Prime?: True\n",
      "326 Prime?: False\n",
      "326 Prime?: False\n",
      "303 Prime?: False\n",
      "303 Prime?: False\n",
      "313 Prime?: True\n",
      "313 Prime?: True\n",
      "351 Prime?: False\n",
      "351 Prime?: False\n"
     ]
    }
   ],
   "source": [
    "print(is_prime(123))\n",
    "print(is_prime(827))\n",
    "for n in (123, 827, 326, 303, 313, 351):\n",
    "    print(n, 'Prime?:', is_prime(n))\n",
    "    print(n, 'Prime?:', is_prime_opt(n))\n"
   ]
  },
  {
   "cell_type": "code",
   "execution_count": 40,
   "metadata": {},
   "outputs": [],
   "source": [
    "# is_prime_2\n",
    "from math import sqrt\n",
    "\n"
   ]
  },
  {
   "cell_type": "code",
   "execution_count": 41,
   "metadata": {},
   "outputs": [],
   "source": [
    "## Trial div 2x faster\n",
    "def trial_division(n: int) -> list[int]:\n",
    "    a = []\n",
    "    while n % 2 == 0:\n",
    "        a.append(2)\n",
    "        n //= 2\n",
    "    f = 3\n",
    "    while f * f <= n:\n",
    "        if n % f == 0:\n",
    "            a.append(f)\n",
    "            n //= f\n",
    "        else:\n",
    "            f += 2\n",
    "    if n != 1: a.append(n)\n",
    "    # Only odd number is possible\n",
    "    return a\n"
   ]
  },
  {
   "cell_type": "code",
   "execution_count": null,
   "metadata": {},
   "outputs": [],
   "source": []
  }
 ],
 "metadata": {
  "kernelspec": {
   "display_name": "Python 3",
   "language": "python",
   "name": "python3"
  },
  "language_info": {
   "codemirror_mode": {
    "name": "ipython",
    "version": 3
   },
   "file_extension": ".py",
   "mimetype": "text/x-python",
   "name": "python",
   "nbconvert_exporter": "python",
   "pygments_lexer": "ipython3",
   "version": "3.11.0"
  }
 },
 "nbformat": 4,
 "nbformat_minor": 2
}

{
 "cells": [
  {
   "cell_type": "markdown",
   "metadata": {},
   "source": [
    "# Course #5 Introduction to Python\n",
    "## 6.- Functions\n",
    "  - "
   ]
  },
  {
   "cell_type": "code",
   "execution_count": 4,
   "metadata": {},
   "outputs": [
    {
     "name": "stdout",
     "output_type": "stream",
     "text": [
      "a equal to b?  True\n",
      "a is b?  False\n"
     ]
    },
    {
     "data": {
      "text/plain": [
       "(140709009417128, 2422530777328)"
      ]
     },
     "execution_count": 4,
     "metadata": {},
     "output_type": "execute_result"
    }
   ],
   "source": [
    "# Comparison an Identity numbers\n",
    "a = 5\n",
    "b = 5\n",
    "# b = 5.0\n",
    "print('a equal to b? ', a == b)\n",
    "print('a is b? ', a is b)\n",
    "id(a), id(b)"
   ]
  },
  {
   "cell_type": "code",
   "execution_count": 9,
   "metadata": {},
   "outputs": [
    {
     "name": "stdout",
     "output_type": "stream",
     "text": [
      "casa\n",
      "q equal to r?  True\n",
      "q is r?  False\n"
     ]
    },
    {
     "data": {
      "text/plain": [
       "(2422531158192, 2422531851120)"
      ]
     },
     "execution_count": 9,
     "metadata": {},
     "output_type": "execute_result"
    }
   ],
   "source": [
    "# Comparison an Identity strings\n",
    "q = 'casa'\n",
    "r = 'casaggrande'[:4]\n",
    "# r = 'casa'\n",
    "print(r)\n",
    "print('q equal to r? ', q == r)\n",
    "print('q is r? ', q is r)\n",
    "id(q), id(r)"
   ]
  }
 ],
 "metadata": {
  "kernelspec": {
   "display_name": "Python 3",
   "language": "python",
   "name": "python3"
  },
  "language_info": {
   "codemirror_mode": {
    "name": "ipython",
    "version": 3
   },
   "file_extension": ".py",
   "mimetype": "text/x-python",
   "name": "python",
   "nbconvert_exporter": "python",
   "pygments_lexer": "ipython3",
   "version": "3.11.4"
  }
 },
 "nbformat": 4,
 "nbformat_minor": 2
}

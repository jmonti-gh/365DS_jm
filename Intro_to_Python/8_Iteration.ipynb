{
 "cells": [
  {
   "cell_type": "markdown",
   "metadata": {},
   "source": [
    "# Course #5 Introduction to Python\n",
    "## 8.- Iteration \n",
    "  - Ability to execute the same code repeatedly\n",
    "  - for n in sequence ... n is 'the loop variable'\n",
    "  - for and while"
   ]
  },
  {
   "cell_type": "code",
   "execution_count": 1,
   "metadata": {},
   "outputs": [
    {
     "name": "stdout",
     "output_type": "stream",
     "text": [
      "(4, 3)\n",
      "(2, 3)\n"
     ]
    }
   ],
   "source": [
    "# Counter of something\n",
    "def count_evens_odds(numbers):\n",
    "    evens_cnt = odds_cnt = 0\n",
    "    for n in numbers:\n",
    "        if n % 2 == 0:\n",
    "            evens_cnt += 1\n",
    "        else:\n",
    "            odds_cnt += 1\n",
    "    return evens_cnt, odds_cnt\n",
    "\n",
    "list_1 = list(range(7))\n",
    "list_2 = [4, 23, 37, 45, 56]\n",
    "\n",
    "for ist in (list_1, list_2):\n",
    "    print(count_evens_odds(ist))"
   ]
  },
  {
   "cell_type": "code",
   "execution_count": null,
   "metadata": {},
   "outputs": [],
   "source": []
  }
 ],
 "metadata": {
  "kernelspec": {
   "display_name": "Python 3",
   "language": "python",
   "name": "python3"
  },
  "language_info": {
   "codemirror_mode": {
    "name": "ipython",
    "version": 3
   },
   "file_extension": ".py",
   "mimetype": "text/x-python",
   "name": "python",
   "nbconvert_exporter": "python",
   "pygments_lexer": "ipython3",
   "version": "3.11.0"
  }
 },
 "nbformat": 4,
 "nbformat_minor": 2
}

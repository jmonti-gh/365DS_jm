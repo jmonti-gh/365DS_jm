{
 "cells": [
  {
   "cell_type": "markdown",
   "metadata": {},
   "source": [
    "# 1_14 Exam."
   ]
  },
  {
   "cell_type": "code",
   "execution_count": 19,
   "metadata": {},
   "outputs": [
    {
     "data": {
      "text/plain": [
       "'1.26.1'"
      ]
     },
     "execution_count": 19,
     "metadata": {},
     "output_type": "execute_result"
    }
   ],
   "source": [
    "import numpy as np\n",
    "np.__version__"
   ]
  },
  {
   "cell_type": "code",
   "execution_count": 20,
   "metadata": {},
   "outputs": [],
   "source": [
    "# Functions\n",
    "\n",
    "def isndarray(el):\n",
    "        errmsg = f'- Warning --> {el} is not np.ndarray. It is {type(el)}\\n'\n",
    "        if not isinstance(el, np.ndarray):\n",
    "                print(errmsg)\n",
    "                return False\n",
    "        return True\n",
    "\n",
    "\n",
    "def show(*objs: str) -> None:\n",
    "    ''' Display numpy.ndarrays objects and some of its more important attributes\n",
    "\n",
    "    All arguments must be strings.\n",
    "    can pass a variable number of non-keyworded arguments.\n",
    "    Return None, only print info -> FUTURE make an string with all the info as return\n",
    "    '''\n",
    "    for obj in objs:\n",
    "        if not isinstance(obj, str):\n",
    "             print(f'Argument of show() function must be strings.\"{obj}\" is not an String')\n",
    "             continue\n",
    "\n",
    "        try:\n",
    "            robj = eval(obj)\n",
    "        except NameError:\n",
    "            robj = obj\n",
    "        if not isndarray(robj):\n",
    "                continue\n",
    "\n",
    "        print(f'{obj} -> {type(robj)}:\\n{\"-\" * 80}')\n",
    "        print(robj)\n",
    "        for attr in ('shape', 'ndim', 'size', 'dtype', 'itemsize'):\n",
    "            obj_attr = obj + '.' + attr\n",
    "            print(f'{obj_attr} = {eval(obj_attr)}  |  ',end=\"\")\n",
    "        print('\\n')\n",
    "\n",
    "\n",
    "def linetot(m1, m2):\n",
    "    return np.dot(m1, m2)\n",
    "\n",
    "    \n",
    "def sumlines(mline):\n",
    "    sumlt = 0\n",
    "    for el in mline:\n",
    "          sumlt += el\n",
    "    return sumlt\n",
    "    \n",
    "     "
   ]
  },
  {
   "cell_type": "code",
   "execution_count": 32,
   "metadata": {},
   "outputs": [
    {
     "name": "stdout",
     "output_type": "stream",
     "text": [
      "a -> <class 'numpy.ndarray'>:\n",
      "--------------------------------------------------------------------------------\n",
      "[[[1 2 3]\n",
      "  [4 5 6]]\n",
      "\n",
      " [[1 1 1]\n",
      "  [2 2 2]]]\n",
      "a.shape = (2, 2, 3)  |  a.ndim = 3  |  a.size = 12  |  a.dtype = int32  |  a.itemsize = 4  |  \n",
      "\n",
      "b -> <class 'numpy.ndarray'>:\n",
      "--------------------------------------------------------------------------------\n",
      "[[[1 2]\n",
      "  [4 5]]\n",
      "\n",
      " [[1 2]\n",
      "  [2 2]]]\n",
      "b.shape = (2, 2, 2)  |  b.ndim = 3  |  b.size = 8  |  b.dtype = int32  |  b.itemsize = 4  |  \n",
      "\n"
     ]
    },
    {
     "ename": "ValueError",
     "evalue": "operands could not be broadcast together with shapes (2,2,3) (2,2,2) ",
     "output_type": "error",
     "traceback": [
      "\u001b[1;31m---------------------------------------------------------------------------\u001b[0m",
      "\u001b[1;31mValueError\u001b[0m                                Traceback (most recent call last)",
      "Cell \u001b[1;32mIn[32], line 4\u001b[0m\n\u001b[0;32m      2\u001b[0m b \u001b[38;5;241m=\u001b[39m np\u001b[38;5;241m.\u001b[39marray([[[\u001b[38;5;241m1\u001b[39m,\u001b[38;5;241m2\u001b[39m], [\u001b[38;5;241m4\u001b[39m,\u001b[38;5;241m5\u001b[39m]], [[\u001b[38;5;241m1\u001b[39m,\u001b[38;5;241m2\u001b[39m], [\u001b[38;5;241m2\u001b[39m,\u001b[38;5;241m2\u001b[39m]]])\n\u001b[0;32m      3\u001b[0m show(\u001b[38;5;124m'\u001b[39m\u001b[38;5;124ma\u001b[39m\u001b[38;5;124m'\u001b[39m,\u001b[38;5;124m'\u001b[39m\u001b[38;5;124mb\u001b[39m\u001b[38;5;124m'\u001b[39m)\n\u001b[1;32m----> 4\u001b[0m \u001b[43ma\u001b[49m\u001b[38;5;241;43m+\u001b[39;49m\u001b[43mb\u001b[49m\n",
      "\u001b[1;31mValueError\u001b[0m: operands could not be broadcast together with shapes (2,2,3) (2,2,2) "
     ]
    }
   ],
   "source": [
    "a = np.array([[[1,2,3], [4,5,6]],[[1,1,1], [2,2,2]]])\n",
    "b = np.array([[[1,2], [4,5]], [[1,2], [2,2]]])\n",
    "show('a','b')\n",
    "a+b"
   ]
  },
  {
   "cell_type": "code",
   "execution_count": 33,
   "metadata": {},
   "outputs": [
    {
     "data": {
      "text/plain": [
       "array([[206, 190],\n",
       "       [712, 297]])"
      ]
     },
     "execution_count": 33,
     "metadata": {},
     "output_type": "execute_result"
    }
   ],
   "source": [
    "A = np.array([[5,21,6],[11,8,62]])\n",
    "B = np.array([[4,5], [6,7], [10,3]])\n",
    "np.dot(A,B)"
   ]
  },
  {
   "cell_type": "code",
   "execution_count": 34,
   "metadata": {},
   "outputs": [
    {
     "data": {
      "text/plain": [
       "-13"
      ]
     },
     "execution_count": 34,
     "metadata": {},
     "output_type": "execute_result"
    }
   ],
   "source": [
    "z = np.array([2,3])\n",
    "y = np.array([-2, -3])\n",
    "np.dot(z,y)"
   ]
  },
  {
   "cell_type": "code",
   "execution_count": 35,
   "metadata": {},
   "outputs": [
    {
     "data": {
      "text/plain": [
       "array([[ 0,  0,  0],\n",
       "       [ 8,  0, 24]])"
      ]
     },
     "execution_count": 35,
     "metadata": {},
     "output_type": "execute_result"
    }
   ],
   "source": [
    "m = np.array([[1,0,-1], [5,4,3]])\n",
    "n = np.array([[1,0,2], [0,0,2], [1,0,2]])\n",
    "np.dot(m,n)"
   ]
  },
  {
   "cell_type": "code",
   "execution_count": 38,
   "metadata": {},
   "outputs": [
    {
     "data": {
      "text/plain": [
       "array([[18,  9, 26],\n",
       "       [ 9,  5, 14],\n",
       "       [26, 14, 45]])"
      ]
     },
     "execution_count": 38,
     "metadata": {},
     "output_type": "execute_result"
    }
   ],
   "source": [
    "A = n = np.array([[1,1,4], [1,0,2], [4,2,5]])\n",
    "np.dot(A,A.T)"
   ]
  },
  {
   "cell_type": "code",
   "execution_count": 41,
   "metadata": {},
   "outputs": [
    {
     "data": {
      "text/plain": [
       "0"
      ]
     },
     "execution_count": 41,
     "metadata": {},
     "output_type": "execute_result"
    }
   ],
   "source": [
    "v1 = np.array([1,0])\n",
    "v2 = np.array([0,1])\n",
    "np.dot(v1,v2)"
   ]
  },
  {
   "cell_type": "code",
   "execution_count": 40,
   "metadata": {},
   "outputs": [
    {
     "data": {
      "text/plain": [
       "56"
      ]
     },
     "execution_count": 40,
     "metadata": {},
     "output_type": "execute_result"
    }
   ],
   "source": [
    "30+18+8"
   ]
  },
  {
   "cell_type": "markdown",
   "metadata": {},
   "source": [
    "## The Case\n"
   ]
  },
  {
   "cell_type": "code",
   "execution_count": 22,
   "metadata": {},
   "outputs": [
    {
     "name": "stdout",
     "output_type": "stream",
     "text": [
      "A -> <class 'numpy.ndarray'>:\n",
      "--------------------------------------------------------------------------------\n",
      "[[1 1 1]\n",
      " [1 1 0]\n",
      " [1 1 1]\n",
      " [0 1 1]\n",
      " [1 0 1]\n",
      " [0 1 1]\n",
      " [1 0 0]]\n",
      "A.shape = (7, 3)  |  A.ndim = 2  |  A.size = 21  |  A.dtype = int32  |  A.itemsize = 4  |  \n",
      "\n",
      "B -> <class 'numpy.ndarray'>:\n",
      "--------------------------------------------------------------------------------\n",
      "[[ 7.52]\n",
      " [14.83]\n",
      " [12.91]]\n",
      "B.shape = (3, 1)  |  B.ndim = 2  |  B.size = 3  |  B.dtype = float64  |  B.itemsize = 8  |  \n",
      "\n"
     ]
    }
   ],
   "source": [
    "# Matrices creation\n",
    "A = np.array([[1,1,1], [1,1,0], [1,1,1], [0,1,1], [1,0,1], [0,1,1], [1,0,0]])\n",
    "B = np.array([[7.52], [14.83], [12.91]])\n",
    "show('A', 'B')"
   ]
  },
  {
   "cell_type": "code",
   "execution_count": 23,
   "metadata": {},
   "outputs": [
    {
     "name": "stdout",
     "output_type": "stream",
     "text": [
      "C -> <class 'numpy.ndarray'>:\n",
      "--------------------------------------------------------------------------------\n",
      "[[   1  400]\n",
      " [   1  695]\n",
      " [   1 1046]\n",
      " [   1  250]\n",
      " [   1  830]]\n",
      "C.shape = (5, 2)  |  C.ndim = 2  |  C.size = 10  |  C.dtype = int32  |  C.itemsize = 4  |  \n",
      "\n",
      "D -> <class 'numpy.ndarray'>:\n",
      "--------------------------------------------------------------------------------\n",
      "[[10976]\n",
      " [  233]]\n",
      "D.shape = (2, 1)  |  D.ndim = 2  |  D.size = 2  |  D.dtype = int32  |  D.itemsize = 4  |  \n",
      "\n"
     ]
    }
   ],
   "source": [
    "C = np.array([[1,400], [1,695], [1,1046], [1,250], [1,830]])\n",
    "D = np.array([[10976], [233]])\n",
    "show('C', 'D')"
   ]
  },
  {
   "cell_type": "code",
   "execution_count": 24,
   "metadata": {},
   "outputs": [
    {
     "data": {
      "text/plain": [
       "array([[35.26],\n",
       "       [22.35],\n",
       "       [35.26],\n",
       "       [27.74],\n",
       "       [20.43],\n",
       "       [27.74],\n",
       "       [ 7.52]])"
      ]
     },
     "execution_count": 24,
     "metadata": {},
     "output_type": "execute_result"
    }
   ],
   "source": [
    "np.dot(A, B)"
   ]
  },
  {
   "cell_type": "code",
   "execution_count": 25,
   "metadata": {},
   "outputs": [
    {
     "data": {
      "text/plain": [
       "array([[104176],\n",
       "       [172911],\n",
       "       [254694],\n",
       "       [ 69226],\n",
       "       [204366]])"
      ]
     },
     "execution_count": 25,
     "metadata": {},
     "output_type": "execute_result"
    }
   ],
   "source": [
    "np.dot(C, D)"
   ]
  },
  {
   "cell_type": "code",
   "execution_count": 26,
   "metadata": {},
   "outputs": [
    {
     "name": "stdout",
     "output_type": "stream",
     "text": [
      "adjust -> <class 'numpy.ndarray'>:\n",
      "--------------------------------------------------------------------------------\n",
      "[[1.  0.  0. ]\n",
      " [0.  1.  0. ]\n",
      " [0.  0.  0.8]]\n",
      "adjust.shape = (3, 3)  |  adjust.ndim = 2  |  adjust.size = 9  |  adjust.dtype = float64  |  adjust.itemsize = 8  |  \n",
      "\n",
      "B_discount -> <class 'numpy.ndarray'>:\n",
      "--------------------------------------------------------------------------------\n",
      "[[ 7.52 ]\n",
      " [14.83 ]\n",
      " [10.328]]\n",
      "B_discount.shape = (3, 1)  |  B_discount.ndim = 2  |  B_discount.size = 3  |  B_discount.dtype = float64  |  B_discount.itemsize = 8  |  \n",
      "\n"
     ]
    }
   ],
   "source": [
    "# Adjusting B for 20% discount on dinner\n",
    "adjust = np.array([[1,0,0], [0,1,0], [0,0,0.8]])\n",
    "B_discount = np.dot(adjust, B)\n",
    "show('adjust', 'B_discount')\n",
    "#np.dot(B, adjust)   # ValueError: shapes (3,1) and (3,3) not aligned: 1 (dim 1) != 3 (dim 0)"
   ]
  },
  {
   "cell_type": "code",
   "execution_count": 27,
   "metadata": {},
   "outputs": [
    {
     "name": "stdout",
     "output_type": "stream",
     "text": [
      "daily_spend_disc -> <class 'numpy.ndarray'>:\n",
      "--------------------------------------------------------------------------------\n",
      "[[32.678]\n",
      " [22.35 ]\n",
      " [32.678]\n",
      " [25.158]\n",
      " [17.848]\n",
      " [25.158]\n",
      " [ 7.52 ]]\n",
      "daily_spend_disc.shape = (7, 1)  |  daily_spend_disc.ndim = 2  |  daily_spend_disc.size = 7  |  daily_spend_disc.dtype = float64  |  daily_spend_disc.itemsize = 8  |  \n",
      "\n",
      "total_week_discount -> <class 'numpy.ndarray'>:\n",
      "--------------------------------------------------------------------------------\n",
      "[163.39]\n",
      "total_week_discount.shape = (1,)  |  total_week_discount.ndim = 1  |  total_week_discount.size = 1  |  total_week_discount.dtype = float64  |  total_week_discount.itemsize = 8  |  \n",
      "\n",
      "savings -> <class 'numpy.ndarray'>:\n",
      "--------------------------------------------------------------------------------\n",
      "[16.61]\n",
      "savings.shape = (1,)  |  savings.ndim = 1  |  savings.size = 1  |  savings.dtype = float64  |  savings.itemsize = 8  |  \n",
      "\n"
     ]
    }
   ],
   "source": [
    "# Without disc suppose 180 - with discount calc - Savings?\n",
    "daily_spend_disc = np.dot(A, B_discount)\n",
    "\n",
    "# total_week_discount = 0\n",
    "# for el in daily_spend_disc:\n",
    "#     total_week_discount += el\n",
    "total_week_discount = sumlines(daily_spend_disc)\n",
    "\n",
    "savings = 180 - total_week_discount\n",
    "\n",
    "show('daily_spend_disc', 'total_week_discount', 'savings')"
   ]
  },
  {
   "cell_type": "code",
   "execution_count": 28,
   "metadata": {},
   "outputs": [
    {
     "name": "stdout",
     "output_type": "stream",
     "text": [
      "daily -> <class 'numpy.ndarray'>:\n",
      "--------------------------------------------------------------------------------\n",
      "[[35.26]\n",
      " [22.35]\n",
      " [35.26]\n",
      " [27.74]\n",
      " [20.43]\n",
      " [27.74]\n",
      " [ 7.52]]\n",
      "daily.shape = (7, 1)  |  daily.ndim = 2  |  daily.size = 7  |  daily.dtype = float64  |  daily.itemsize = 8  |  \n",
      "\n",
      "week -> <class 'numpy.ndarray'>:\n",
      "--------------------------------------------------------------------------------\n",
      "[176.3]\n",
      "week.shape = (1,)  |  week.ndim = 1  |  week.size = 1  |  week.dtype = float64  |  week.itemsize = 8  |  \n",
      "\n"
     ]
    }
   ],
   "source": [
    "# Real total without discount\n",
    "daily = np.dot(A, B)\n",
    "week = sumlines(daily)\n",
    "\n",
    "show('daily', 'week')\n"
   ]
  },
  {
   "cell_type": "code",
   "execution_count": null,
   "metadata": {},
   "outputs": [],
   "source": []
  },
  {
   "cell_type": "code",
   "execution_count": null,
   "metadata": {},
   "outputs": [],
   "source": []
  }
 ],
 "metadata": {
  "kernelspec": {
   "display_name": "Python 3",
   "language": "python",
   "name": "python3"
  },
  "language_info": {
   "codemirror_mode": {
    "name": "ipython",
    "version": 3
   },
   "file_extension": ".py",
   "mimetype": "text/x-python",
   "name": "python",
   "nbconvert_exporter": "python",
   "pygments_lexer": "ipython3",
   "version": "3.11.0"
  }
 },
 "nbformat": 4,
 "nbformat_minor": 2
}

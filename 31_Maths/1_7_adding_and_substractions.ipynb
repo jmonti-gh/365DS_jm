{
 "cells": [
  {
   "cell_type": "markdown",
   "metadata": {},
   "source": [
    "# 1_7 Adding and Substractions.\n",
    "- In order to add (or substract) vectors and matrices, their forms (shapes) must match."
   ]
  },
  {
   "cell_type": "code",
   "execution_count": 39,
   "metadata": {},
   "outputs": [
    {
     "data": {
      "text/plain": [
       "'1.26.2'"
      ]
     },
     "execution_count": 39,
     "metadata": {},
     "output_type": "execute_result"
    }
   ],
   "source": [
    "import numpy as np\n",
    "np.__version__"
   ]
  },
  {
   "cell_type": "code",
   "execution_count": 40,
   "metadata": {},
   "outputs": [],
   "source": [
    "# Functions\n",
    "\n",
    "def show(*objs):\n",
    "    for obj in objs:\n",
    "        print(f'{obj} -> {type(robj:= eval(obj))}:\\n{\"-\" * 50}')\n",
    "        print(robj)\n",
    "        print(f'{obj}.shape = {robj.shape}  -  {obj}.ndim = {robj.ndim} dim-array \\n')"
   ]
  },
  {
   "cell_type": "code",
   "execution_count": 41,
   "metadata": {},
   "outputs": [
    {
     "name": "stdout",
     "output_type": "stream",
     "text": [
      "m1 -> <class 'numpy.ndarray'>:\n",
      "--------------------------------------------------\n",
      "[[ 5 12  6]\n",
      " [-3  0 14]]\n",
      "m1.shape = (2, 3)  -  m1.ndim = 2 dim-array \n",
      "\n",
      "m2 -> <class 'numpy.ndarray'>:\n",
      "--------------------------------------------------\n",
      "[[ 9  8  7]\n",
      " [ 1  3 -5]]\n",
      "m2.shape = (2, 3)  -  m2.ndim = 2 dim-array \n",
      "\n"
     ]
    }
   ],
   "source": [
    "m1 = np.array([[5,12,6], [-3, 0, 14]])\n",
    "m2 = np.array([[9,8,7], [1,3,-5]])\n",
    "show('m1', 'm2')\n"
   ]
  },
  {
   "cell_type": "code",
   "execution_count": 42,
   "metadata": {},
   "outputs": [
    {
     "name": "stdout",
     "output_type": "stream",
     "text": [
      "sum -> <class 'numpy.ndarray'>:\n",
      "--------------------------------------------------\n",
      "[[14 20 13]\n",
      " [-2  3  9]]\n",
      "sum.shape = (2, 3)  -  sum.ndim = 2 dim-array \n",
      "\n"
     ]
    }
   ],
   "source": [
    "# Addition m1 + m2\n",
    "sum = m1 + m2\n",
    "show('sum')"
   ]
  },
  {
   "cell_type": "code",
   "execution_count": 43,
   "metadata": {},
   "outputs": [
    {
     "name": "stdout",
     "output_type": "stream",
     "text": [
      "sub1 -> <class 'numpy.ndarray'>:\n",
      "--------------------------------------------------\n",
      "[[-4  4 -1]\n",
      " [-4 -3 19]]\n",
      "sub1.shape = (2, 3)  -  sub1.ndim = 2 dim-array \n",
      "\n",
      "sub2 -> <class 'numpy.ndarray'>:\n",
      "--------------------------------------------------\n",
      "[[  4  -4   1]\n",
      " [  4   3 -19]]\n",
      "sub2.shape = (2, 3)  -  sub2.ndim = 2 dim-array \n",
      "\n"
     ]
    }
   ],
   "source": [
    "# Subtraction\n",
    "sub1 = m1 - m2\n",
    "sub2 = m2 - m1\n",
    "show('sub1', 'sub2')"
   ]
  },
  {
   "cell_type": "code",
   "execution_count": 44,
   "metadata": {},
   "outputs": [
    {
     "name": "stdout",
     "output_type": "stream",
     "text": [
      "v1 -> <class 'numpy.ndarray'>:\n",
      "--------------------------------------------------\n",
      "[1 2 3 4 5]\n",
      "v1.shape = (5,)  -  v1.ndim = 1 dim-array \n",
      "\n",
      "v2 -> <class 'numpy.ndarray'>:\n",
      "--------------------------------------------------\n",
      "[5 4 3 2 1]\n",
      "v2.shape = (5,)  -  v2.ndim = 1 dim-array \n",
      "\n"
     ]
    }
   ],
   "source": [
    "# Using Vectors\n",
    "v1 = np.array([1,2,3,4,5])\n",
    "v2 = np.array([5,4,3,2,1])\n",
    "show('v1', 'v2')"
   ]
  },
  {
   "cell_type": "code",
   "execution_count": 45,
   "metadata": {},
   "outputs": [
    {
     "name": "stdout",
     "output_type": "stream",
     "text": [
      "sumv -> <class 'numpy.ndarray'>:\n",
      "--------------------------------------------------\n",
      "[6 6 6 6 6]\n",
      "sumv.shape = (5,)  -  sumv.ndim = 1 dim-array \n",
      "\n",
      "subva -> <class 'numpy.ndarray'>:\n",
      "--------------------------------------------------\n",
      "[ 4  2  0 -2 -4]\n",
      "subva.shape = (5,)  -  subva.ndim = 1 dim-array \n",
      "\n",
      "subvb -> <class 'numpy.ndarray'>:\n",
      "--------------------------------------------------\n",
      "[-4 -2  0  2  4]\n",
      "subvb.shape = (5,)  -  subvb.ndim = 1 dim-array \n",
      "\n"
     ]
    }
   ],
   "source": [
    "sumv = v2 + v1\n",
    "subva = v2 - v1\n",
    "subvb = v1 - v2\n",
    "show('sumv', 'subva', 'subvb')"
   ]
  },
  {
   "cell_type": "markdown",
   "metadata": {},
   "source": [
    "## 1_8 Errors when adding Matrices"
   ]
  },
  {
   "cell_type": "code",
   "execution_count": 46,
   "metadata": {},
   "outputs": [
    {
     "data": {
      "text/plain": [
       "(10, 6)"
      ]
     },
     "execution_count": 46,
     "metadata": {},
     "output_type": "execute_result"
    }
   ],
   "source": [
    "# Adding, subtracting scalars\n",
    "5 + 5, 10 - 4\n"
   ]
  },
  {
   "cell_type": "code",
   "execution_count": 47,
   "metadata": {},
   "outputs": [
    {
     "name": "stdout",
     "output_type": "stream",
     "text": [
      "m3 -> <class 'numpy.ndarray'>:\n",
      "--------------------------------------------------\n",
      "[[ 5 12  6]\n",
      " [-3  0 14]]\n",
      "m3.shape = (2, 3)  -  m3.ndim = 2 dim-array \n",
      "\n",
      "m4 -> <class 'numpy.ndarray'>:\n",
      "--------------------------------------------------\n",
      "[[9 8]\n",
      " [1 3]]\n",
      "m4.shape = (2, 2)  -  m4.ndim = 2 dim-array \n",
      "\n"
     ]
    }
   ],
   "source": [
    "# 'Trying' to add matrices of diff. form\n",
    "m3 = np.array([[5,12,6], [-3, 0, 14]])\n",
    "m4 = np.array([[9,8], [1,3]])\n",
    "show('m3', 'm4')"
   ]
  },
  {
   "cell_type": "code",
   "execution_count": 48,
   "metadata": {},
   "outputs": [
    {
     "ename": "ValueError",
     "evalue": "operands could not be broadcast together with shapes (2,3) (2,2) ",
     "output_type": "error",
     "traceback": [
      "\u001b[1;31m---------------------------------------------------------------------------\u001b[0m",
      "\u001b[1;31mValueError\u001b[0m                                Traceback (most recent call last)",
      "Cell \u001b[1;32mIn[48], line 1\u001b[0m\n\u001b[1;32m----> 1\u001b[0m sumb \u001b[38;5;241m=\u001b[39m \u001b[43mm3\u001b[49m\u001b[43m \u001b[49m\u001b[38;5;241;43m+\u001b[39;49m\u001b[43m \u001b[49m\u001b[43mm4\u001b[49m\n",
      "\u001b[1;31mValueError\u001b[0m: operands could not be broadcast together with shapes (2,3) (2,2) "
     ]
    }
   ],
   "source": [
    "sumb = m3 + m4"
   ]
  },
  {
   "cell_type": "markdown",
   "metadata": {},
   "source": [
    "### NOT valid in Linear Algebra (but no error en py)\n",
    "- Adding (subs) matrices or vector w/scalars\n",
    "- Big difference between the concepts of ndarray and tensors."
   ]
  },
  {
   "cell_type": "code",
   "execution_count": 59,
   "metadata": {},
   "outputs": [
    {
     "name": "stdout",
     "output_type": "stream",
     "text": [
      "m3 -> <class 'numpy.ndarray'>:\n",
      "--------------------------------------------------\n",
      "[[ 5 12  6]\n",
      " [-3  0 14]]\n",
      "m3.shape = (2, 3)  -  m3.ndim = 2 dim-array \n",
      "\n",
      "v3 -> <class 'numpy.ndarray'>:\n",
      "--------------------------------------------------\n",
      "[1 3 5 7]\n",
      "v3.shape = (4,)  -  v3.ndim = 1 dim-array \n",
      "\n",
      "sumc -> <class 'numpy.ndarray'>:\n",
      "--------------------------------------------------\n",
      "[[ 6 13  7]\n",
      " [-2  1 15]]\n",
      "sumc.shape = (2, 3)  -  sumc.ndim = 2 dim-array \n",
      "\n",
      "subc -> <class 'numpy.ndarray'>:\n",
      "--------------------------------------------------\n",
      "[0 2 4 6]\n",
      "subc.shape = (4,)  -  subc.ndim = 1 dim-array \n",
      "\n"
     ]
    }
   ],
   "source": [
    "v3 = np.array([i for i in range(9) if i % 2 != 0])\n",
    "sumc = m3 + 1\n",
    "subc = v3 - 1\n",
    "show('m3', 'v3', 'sumc', 'subc')"
   ]
  }
 ],
 "metadata": {
  "kernelspec": {
   "display_name": "Python 3",
   "language": "python",
   "name": "python3"
  },
  "language_info": {
   "codemirror_mode": {
    "name": "ipython",
    "version": 3
   },
   "file_extension": ".py",
   "mimetype": "text/x-python",
   "name": "python",
   "nbconvert_exporter": "python",
   "pygments_lexer": "ipython3",
   "version": "3.11.4"
  }
 },
 "nbformat": 4,
 "nbformat_minor": 2
}

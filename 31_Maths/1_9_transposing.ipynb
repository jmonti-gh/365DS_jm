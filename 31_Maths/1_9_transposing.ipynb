{
 "cells": [
  {
   "cell_type": "markdown",
   "metadata": {},
   "source": [
    "# 1_9 Transposing Vectors and Matrices.\n",
    "- Transpose a Vector: row vector -> column vector. Or column vector -> row vector. v - vT - vTT = v.\n",
    "- Transpose a Matrix: each row of m -> each column of mT. Or each column of m -> each row of mT. m - mT - mTT = m. An m x n matrix -transpose-> to n x m matrix."
   ]
  },
  {
   "cell_type": "code",
   "execution_count": 41,
   "metadata": {},
   "outputs": [
    {
     "data": {
      "text/plain": [
       "'1.26.1'"
      ]
     },
     "execution_count": 41,
     "metadata": {},
     "output_type": "execute_result"
    }
   ],
   "source": [
    "import numpy as np\n",
    "np.__version__"
   ]
  },
  {
   "cell_type": "code",
   "execution_count": 47,
   "metadata": {},
   "outputs": [],
   "source": [
    "# Functions\n",
    "\n",
    "def show(*objs):\n",
    "    for obj in objs:\n",
    "        print(f'{obj} -> {type(robj:= eval(obj))}:\\n{\"-\" * 80}')\n",
    "        print(robj)\n",
    "        for attr in ('shape', 'ndim', 'size', 'dtype', 'itemsize'):\n",
    "            obj_attr = obj + '.' + attr\n",
    "            print(f'{obj_attr} = {eval(obj_attr)}  |  ',end=\"\")\n",
    "        print('\\n')"
   ]
  },
  {
   "cell_type": "code",
   "execution_count": 56,
   "metadata": {},
   "outputs": [
    {
     "name": "stdout",
     "output_type": "stream",
     "text": [
      "vr -> <class 'numpy.ndarray'>:\n",
      "--------------------------------------------------------------------------------\n",
      "[1 2 3]\n",
      "vr.shape = (3,)  |  vr.ndim = 1  |  vr.size = 3  |  vr.dtype = int8  |  vr.itemsize = 1  |  \n",
      "\n",
      "vc -> <class 'numpy.ndarray'>:\n",
      "--------------------------------------------------------------------------------\n",
      "[[9]\n",
      " [8]\n",
      " [7]]\n",
      "vc.shape = (3, 1)  |  vc.ndim = 2  |  vc.size = 3  |  vc.dtype = int32  |  vc.itemsize = 4  |  \n",
      "\n"
     ]
    }
   ],
   "source": [
    "# Vectors definition\n",
    "vr = np.array([1, 2, 3]).astype('int8')\n",
    "vc = np.array([9, 8, 7]).reshape(3,1)\n",
    "show('vr', 'vc')"
   ]
  },
  {
   "cell_type": "code",
   "execution_count": 53,
   "metadata": {},
   "outputs": [
    {
     "name": "stdout",
     "output_type": "stream",
     "text": [
      "vrt -> <class 'numpy.ndarray'>:\n",
      "--------------------------------------------------------------------------------\n",
      "[1 2 3]\n",
      "vrt.shape = (3,)  |  vrt.ndim = 1  |  vrt.size = 3  |  vrt.dtype = int32  |  vrt.itemsize = 4  |  \n",
      "\n",
      "vct -> <class 'numpy.ndarray'>:\n",
      "--------------------------------------------------------------------------------\n",
      "[[9 8 7]]\n",
      "vct.shape = (1, 3)  |  vct.ndim = 2  |  vct.size = 3  |  vct.dtype = int32  |  vct.itemsize = 4  |  \n",
      "\n",
      "vctt -> <class 'numpy.ndarray'>:\n",
      "--------------------------------------------------------------------------------\n",
      "[[9]\n",
      " [8]\n",
      " [7]]\n",
      "vctt.shape = (3, 1)  |  vctt.ndim = 2  |  vctt.size = 3  |  vctt.dtype = int32  |  vctt.itemsize = 4  |  \n",
      "\n"
     ]
    }
   ],
   "source": [
    "# Transposing Vectors\n",
    "vrt = vr.T\n",
    "vct = vc.T\n",
    "vctt = vct.T\n",
    "show('vrt', 'vct', 'vctt')"
   ]
  },
  {
   "cell_type": "code",
   "execution_count": 57,
   "metadata": {},
   "outputs": [
    {
     "name": "stdout",
     "output_type": "stream",
     "text": [
      "m -> <class 'numpy.ndarray'>:\n",
      "--------------------------------------------------------------------------------\n",
      "[[1 2 3]\n",
      " [9 8 7]]\n",
      "m.shape = (2, 3)  |  m.ndim = 2  |  m.size = 6  |  m.dtype = int8  |  m.itemsize = 1  |  \n",
      "\n",
      "mt -> <class 'numpy.ndarray'>:\n",
      "--------------------------------------------------------------------------------\n",
      "[[1 9]\n",
      " [2 8]\n",
      " [3 7]]\n",
      "mt.shape = (3, 2)  |  mt.ndim = 2  |  mt.size = 6  |  mt.dtype = int8  |  mt.itemsize = 1  |  \n",
      "\n",
      "mtt -> <class 'numpy.ndarray'>:\n",
      "--------------------------------------------------------------------------------\n",
      "[[1 2 3]\n",
      " [9 8 7]]\n",
      "mtt.shape = (2, 3)  |  mtt.ndim = 2  |  mtt.size = 6  |  mtt.dtype = int8  |  mtt.itemsize = 1  |  \n",
      "\n"
     ]
    }
   ],
   "source": [
    "# Transposing Matrices\n",
    "m = np.array([[1, 2, 3], [9, 8, 7]]).astype('int8')\n",
    "mt = m.T\n",
    "mtt = mt.T\n",
    "show('m', 'mt', 'mtt')"
   ]
  },
  {
   "cell_type": "code",
   "execution_count": 59,
   "metadata": {},
   "outputs": [
    {
     "data": {
      "text/plain": [
       "array([[ 5,  4],\n",
       "       [-2,  0]])"
      ]
     },
     "execution_count": 59,
     "metadata": {},
     "output_type": "execute_result"
    }
   ],
   "source": [
    "# Others Matrices examples\n",
    "m2x2 = np.array([[5, 4], [-2, 0]])\n",
    "m2x2"
   ]
  },
  {
   "cell_type": "code",
   "execution_count": 60,
   "metadata": {},
   "outputs": [
    {
     "data": {
      "text/plain": [
       "array([[ 5, -2],\n",
       "       [ 4,  0]])"
      ]
     },
     "execution_count": 60,
     "metadata": {},
     "output_type": "execute_result"
    }
   ],
   "source": [
    "m2x2.T"
   ]
  },
  {
   "cell_type": "code",
   "execution_count": 61,
   "metadata": {},
   "outputs": [
    {
     "data": {
      "text/plain": [
       "array([[14,  0,  9,  6],\n",
       "       [ 1,  3,  5,  7]])"
      ]
     },
     "execution_count": 61,
     "metadata": {},
     "output_type": "execute_result"
    }
   ],
   "source": [
    "m2x4 = np.array([[14, 0, 9, 6], [1, 3, 5, 7]])\n",
    "m2x4"
   ]
  },
  {
   "cell_type": "code",
   "execution_count": 62,
   "metadata": {},
   "outputs": [
    {
     "data": {
      "text/plain": [
       "array([[14,  1],\n",
       "       [ 0,  3],\n",
       "       [ 9,  5],\n",
       "       [ 6,  7]])"
      ]
     },
     "execution_count": 62,
     "metadata": {},
     "output_type": "execute_result"
    }
   ],
   "source": [
    "m2x4.T"
   ]
  },
  {
   "cell_type": "code",
   "execution_count": 63,
   "metadata": {},
   "outputs": [
    {
     "name": "stdout",
     "output_type": "stream",
     "text": [
      "s -> <class 'numpy.ndarray'>:\n",
      "--------------------------------------------------------------------------------\n",
      "[5]\n",
      "s.shape = (1,)  |  s.ndim = 1  |  s.size = 1  |  s.dtype = int32  |  s.itemsize = 4  |  \n",
      "\n",
      "s1 -> <class 'numpy.ndarray'>:\n",
      "--------------------------------------------------------------------------------\n",
      "5\n",
      "s1.shape = ()  |  s1.ndim = 0  |  s1.size = 1  |  s1.dtype = int32  |  s1.itemsize = 4  |  \n",
      "\n",
      "st -> <class 'numpy.ndarray'>:\n",
      "--------------------------------------------------------------------------------\n",
      "[5]\n",
      "st.shape = (1,)  |  st.ndim = 1  |  st.size = 1  |  st.dtype = int32  |  st.itemsize = 4  |  \n",
      "\n",
      "s1t -> <class 'numpy.ndarray'>:\n",
      "--------------------------------------------------------------------------------\n",
      "5\n",
      "s1t.shape = ()  |  s1t.ndim = 0  |  s1t.size = 1  |  s1t.dtype = int32  |  s1t.itemsize = 4  |  \n",
      "\n"
     ]
    }
   ],
   "source": [
    "# Transposing scalars --> NOTHING!\n",
    "s = np.array([5])\n",
    "s1 = np.array(5)\n",
    "st = s.T\n",
    "s1t = s1.T\n",
    "show('s', 's1', 'st', 's1t')"
   ]
  }
 ],
 "metadata": {
  "kernelspec": {
   "display_name": "Python 3",
   "language": "python",
   "name": "python3"
  },
  "language_info": {
   "codemirror_mode": {
    "name": "ipython",
    "version": 3
   },
   "file_extension": ".py",
   "mimetype": "text/x-python",
   "name": "python",
   "nbconvert_exporter": "python",
   "pygments_lexer": "ipython3",
   "version": "3.11.0"
  }
 },
 "nbformat": 4,
 "nbformat_minor": 2
}

{
 "cells": [
  {
   "cell_type": "markdown",
   "metadata": {},
   "source": [
    "# 1_10 Dot Product.\n",
    "- Dot Product or Inner Product or Scalar Product --> Output is an SCALAR.\n",
    "- CONDITION: vectors must have the same length (one row the other col)\n",
    "- The outer or tensor product will not be studied.\n",
    "- CONDITION: matrices must have m x n and n x k --> result: m x k matrix"
   ]
  },
  {
   "cell_type": "code",
   "execution_count": 212,
   "metadata": {},
   "outputs": [
    {
     "data": {
      "text/plain": [
       "'1.26.1'"
      ]
     },
     "execution_count": 212,
     "metadata": {},
     "output_type": "execute_result"
    }
   ],
   "source": [
    "import numpy as np\n",
    "np.__version__"
   ]
  },
  {
   "cell_type": "code",
   "execution_count": 213,
   "metadata": {},
   "outputs": [],
   "source": [
    "# Functions\n",
    "\n",
    "def isndarray(el):\n",
    "        errmsg = f'- Warning --> {el} is not np.ndarray. It is {type(el)}\\n'\n",
    "        if not isinstance(el, np.ndarray):\n",
    "                print(errmsg)\n",
    "                return False\n",
    "        return True\n",
    "\n",
    "\n",
    "def show(*objs):\n",
    "    ''' Display numpy.ndarrays objects and some of its more important attributes\n",
    "\n",
    "    All arguments must be strings.\n",
    "    can pass a variable number of non-keyworded arguments.\n",
    "    '''\n",
    "    for obj in objs:\n",
    "        if not isinstance(obj, str):\n",
    "             print(f'Argument of show() function must be strings.\"{obj}\" is not an String')\n",
    "             continue\n",
    "\n",
    "        try:\n",
    "            robj = eval(obj)\n",
    "        except NameError:\n",
    "            robj = obj\n",
    "        if not isndarray(robj):\n",
    "                continue\n",
    "\n",
    "        print(f'{obj} -> {type(robj)}:\\n{\"-\" * 80}')\n",
    "        print(robj)\n",
    "        for attr in ('shape', 'ndim', 'size', 'dtype', 'itemsize'):\n",
    "            obj_attr = obj + '.' + attr\n",
    "            print(f'{obj_attr} = {eval(obj_attr)}  |  ',end=\"\")\n",
    "        print('\\n')\n",
    "\n",
    "\n",
    "def dot_prod(v1, v2):\n",
    "    if not isndarray(v1) or not isndarray(v2):\n",
    "        return 'dotprod() -> invalid arguments'\n",
    "    \n",
    "    ret_val = 0\n",
    "    for i in range(len(v1)):\n",
    "        ret_val += v1[i] * v2[i]\n",
    "    return ret_val\n",
    "\n"
   ]
  },
  {
   "cell_type": "code",
   "execution_count": 214,
   "metadata": {},
   "outputs": [
    {
     "name": "stdout",
     "output_type": "stream",
     "text": [
      "- Warning --> 5 is not np.ndarray. It is <class 'int'>\n",
      "\n",
      "- Warning --> casa is not np.ndarray. It is <class 'str'>\n",
      "\n",
      "vr -> <class 'numpy.ndarray'>:\n",
      "--------------------------------------------------------------------------------\n",
      "[1 2 3]\n",
      "vr.shape = (3,)  |  vr.ndim = 1  |  vr.size = 3  |  vr.dtype = int8  |  vr.itemsize = 1  |  \n",
      "\n",
      "vc -> <class 'numpy.ndarray'>:\n",
      "--------------------------------------------------------------------------------\n",
      "[[9]\n",
      " [8]\n",
      " [7]]\n",
      "vc.shape = (3, 1)  |  vc.ndim = 2  |  vc.size = 3  |  vc.dtype = int32  |  vc.itemsize = 4  |  \n",
      "\n",
      "Argument of show() function must be strings.\"23\" is not an String\n",
      "Argument of show() function must be strings.\"[[9]\n",
      " [8]\n",
      " [7]]\" is not an String\n"
     ]
    }
   ],
   "source": [
    "# Vectors definition\n",
    "vr = np.array([1, 2, 3]).astype('int8')\n",
    "vc = np.array([9, 8, 7]).reshape(3,1)\n",
    "show('5', 'casa', 'vr', 'vc', 23, vc)"
   ]
  },
  {
   "cell_type": "code",
   "execution_count": 215,
   "metadata": {},
   "outputs": [
    {
     "name": "stdout",
     "output_type": "stream",
     "text": [
      "46\n",
      "jmprod -> <class 'numpy.ndarray'>:\n",
      "--------------------------------------------------------------------------------\n",
      "[46]\n",
      "jmprod.shape = (1,)  |  jmprod.ndim = 1  |  jmprod.size = 1  |  jmprod.dtype = int32  |  jmprod.itemsize = 4  |  \n",
      "\n"
     ]
    },
    {
     "data": {
      "text/plain": [
       "array([46])"
      ]
     },
     "execution_count": 215,
     "metadata": {},
     "output_type": "execute_result"
    }
   ],
   "source": [
    "# Dot (inner or scalar) product of Vectors\n",
    "print(1 * 9 + 2 * 8 + 3 * 7)\n",
    "\n",
    "jmprod = dot_prod(vr, vc)\n",
    "show('jmprod')\n",
    "\n",
    "np.dot(vr, vc)"
   ]
  },
  {
   "cell_type": "code",
   "execution_count": 216,
   "metadata": {},
   "outputs": [
    {
     "name": "stdout",
     "output_type": "stream",
     "text": [
      "prod_op -> <class 'numpy.ndarray'>:\n",
      "--------------------------------------------------------------------------------\n",
      "[[ 9 18 27]\n",
      " [ 8 16 24]\n",
      " [ 7 14 21]]\n",
      "prod_op.shape = (3, 3)  |  prod_op.ndim = 2  |  prod_op.size = 9  |  prod_op.dtype = int32  |  prod_op.itemsize = 4  |  \n",
      "\n",
      "amp_op -> <class 'numpy.ndarray'>:\n",
      "--------------------------------------------------------------------------------\n",
      "[46]\n",
      "amp_op.shape = (1,)  |  amp_op.ndim = 1  |  amp_op.size = 1  |  amp_op.dtype = int32  |  amp_op.itemsize = 4  |  \n",
      "\n"
     ]
    }
   ],
   "source": [
    "prod_op = vr * vc\n",
    "amp_op = vr @ vc\n",
    "show('prod_op', 'amp_op')"
   ]
  },
  {
   "cell_type": "code",
   "execution_count": 217,
   "metadata": {},
   "outputs": [
    {
     "name": "stdout",
     "output_type": "stream",
     "text": [
      "- Warning --> 15 is not np.ndarray. It is <class 'numpy.int32'>\n",
      "\n",
      "- Warning --> 15 is not np.ndarray. It is <class 'numpy.int32'>\n",
      "\n",
      "ps3 -> <class 'numpy.ndarray'>:\n",
      "--------------------------------------------------------------------------------\n",
      "[15]\n",
      "ps3.shape = (1,)  |  ps3.ndim = 1  |  ps3.size = 1  |  ps3.dtype = int32  |  ps3.itemsize = 4  |  \n",
      "\n"
     ]
    }
   ],
   "source": [
    "# Scalars products is a simple multiplication.\n",
    "ps1 = np.dot([5], [3])\n",
    "ps2 = np.dot(5, 3)\n",
    "ps3 = np.dot(5, [3])\n",
    "\n",
    "show('ps1', 'ps2', 'ps3')\n"
   ]
  },
  {
   "cell_type": "code",
   "execution_count": 218,
   "metadata": {},
   "outputs": [
    {
     "data": {
      "text/plain": [
       "array([ 5, 10, 15])"
      ]
     },
     "execution_count": 218,
     "metadata": {},
     "output_type": "execute_result"
    }
   ],
   "source": [
    "# Dot product of scalar and vector\n",
    "np.dot(5, vr)"
   ]
  },
  {
   "cell_type": "code",
   "execution_count": 219,
   "metadata": {},
   "outputs": [
    {
     "data": {
      "text/plain": [
       "array([ 5, 10, 15], dtype=int8)"
      ]
     },
     "execution_count": 219,
     "metadata": {},
     "output_type": "execute_result"
    }
   ],
   "source": [
    "5 * vr"
   ]
  },
  {
   "cell_type": "code",
   "execution_count": 220,
   "metadata": {},
   "outputs": [
    {
     "name": "stdout",
     "output_type": "stream",
     "text": [
      "A -> <class 'numpy.ndarray'>:\n",
      "--------------------------------------------------------------------------------\n",
      "[[ 2  8 -4]\n",
      " [ 0 -3  6]]\n",
      "A.shape = (2, 3)  |  A.ndim = 2  |  A.size = 6  |  A.dtype = int32  |  A.itemsize = 4  |  \n",
      "\n"
     ]
    },
    {
     "data": {
      "text/plain": [
       "array([[ 10,  40, -20],\n",
       "       [  0, -15,  30]])"
      ]
     },
     "execution_count": 220,
     "metadata": {},
     "output_type": "execute_result"
    }
   ],
   "source": [
    "# Dot product of Matrix and Scalar (only scale the elements)\n",
    "A = np.array([[2, 8, -4], [0, -3, 6]])\n",
    "show('A')\n",
    "np.dot(5, A)"
   ]
  },
  {
   "cell_type": "code",
   "execution_count": 221,
   "metadata": {},
   "outputs": [
    {
     "name": "stdout",
     "output_type": "stream",
     "text": [
      "B -> <class 'numpy.ndarray'>:\n",
      "--------------------------------------------------------------------------------\n",
      "[[ 2 -1]\n",
      " [10 -6]\n",
      " [ 5  3]]\n",
      "B.shape = (3, 2)  |  B.ndim = 2  |  B.size = 6  |  B.dtype = int32  |  B.itemsize = 4  |  \n",
      "\n"
     ]
    },
    {
     "data": {
      "text/plain": [
       "array([[ 64, -62],\n",
       "       [  0,  36]])"
      ]
     },
     "execution_count": 221,
     "metadata": {},
     "output_type": "execute_result"
    }
   ],
   "source": [
    "# Dot product of two matrices\n",
    "B = np.array([[2, -1], [10, -6], [5, 3]])\n",
    "show('B')\n",
    "np.dot(A, B)"
   ]
  },
  {
   "cell_type": "code",
   "execution_count": 222,
   "metadata": {},
   "outputs": [
    {
     "data": {
      "text/plain": [
       "array([[-12,   5,  -5,   1,   6],\n",
       "       [  6,  -2,   0,   0,  -3],\n",
       "       [ 10,   2,   0,   8,   0],\n",
       "       [  9,  -4,   8,   3,  -6]])"
      ]
     },
     "execution_count": 222,
     "metadata": {},
     "output_type": "execute_result"
    }
   ],
   "source": [
    "C = np.array([[-12,5,-5,1,6],[6,-2,0,0,-3],[10,2,0,8,0],[9,-4,8,3,-6]])\n",
    "C"
   ]
  },
  {
   "cell_type": "code",
   "execution_count": 223,
   "metadata": {},
   "outputs": [
    {
     "data": {
      "text/plain": [
       "array([[ 6, -1],\n",
       "       [ 8, -4],\n",
       "       [ 2, -2],\n",
       "       [ 7,  4],\n",
       "       [-6, -9]])"
      ]
     },
     "execution_count": 223,
     "metadata": {},
     "output_type": "execute_result"
    }
   ],
   "source": [
    "D = np.array([[6,-1],[8,-4],[2,-2],[7,4],[-6,-9]])\n",
    "D"
   ]
  },
  {
   "cell_type": "code",
   "execution_count": 224,
   "metadata": {},
   "outputs": [
    {
     "data": {
      "text/plain": [
       "array([[-71, -48],\n",
       "       [ 38,  29],\n",
       "       [132,  14],\n",
       "       [ 95,  57]])"
      ]
     },
     "execution_count": 224,
     "metadata": {},
     "output_type": "execute_result"
    }
   ],
   "source": [
    "np.dot(C,D)"
   ]
  },
  {
   "cell_type": "code",
   "execution_count": 225,
   "metadata": {},
   "outputs": [
    {
     "ename": "ValueError",
     "evalue": "shapes (1,) and (3,) not aligned: 1 (dim 0) != 3 (dim 0)",
     "output_type": "error",
     "traceback": [
      "\u001b[1;31m---------------------------------------------------------------------------\u001b[0m",
      "\u001b[1;31mValueError\u001b[0m                                Traceback (most recent call last)",
      "Cell \u001b[1;32mIn[225], line 1\u001b[0m\n\u001b[1;32m----> 1\u001b[0m \u001b[43mnp\u001b[49m\u001b[38;5;241;43m.\u001b[39;49m\u001b[43mdot\u001b[49m\u001b[43m(\u001b[49m\u001b[43m[\u001b[49m\u001b[38;5;241;43m5\u001b[39;49m\u001b[43m]\u001b[49m\u001b[43m,\u001b[49m\u001b[43m \u001b[49m\u001b[43mvr\u001b[49m\u001b[43m)\u001b[49m\n",
      "\u001b[1;31mValueError\u001b[0m: shapes (1,) and (3,) not aligned: 1 (dim 0) != 3 (dim 0)"
     ]
    }
   ],
   "source": [
    "np.dot([5], vr)"
   ]
  },
  {
   "cell_type": "code",
   "execution_count": null,
   "metadata": {},
   "outputs": [],
   "source": [
    "np.dot(A, A)"
   ]
  }
 ],
 "metadata": {
  "kernelspec": {
   "display_name": "Python 3",
   "language": "python",
   "name": "python3"
  },
  "language_info": {
   "codemirror_mode": {
    "name": "ipython",
    "version": 3
   },
   "file_extension": ".py",
   "mimetype": "text/x-python",
   "name": "python",
   "nbconvert_exporter": "python",
   "pygments_lexer": "ipython3",
   "version": "3.11.0"
  }
 },
 "nbformat": 4,
 "nbformat_minor": 2
}
